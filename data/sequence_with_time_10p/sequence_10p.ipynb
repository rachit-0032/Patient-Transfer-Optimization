{
 "cells": [
  {
   "cell_type": "code",
   "execution_count": 1,
   "id": "565b3a25",
   "metadata": {},
   "outputs": [],
   "source": [
    "using CSV, Tables, LinearAlgebra, Random, Gurobi, JuMP, DataFrames, Plots, Statistics\n",
    "\n",
    "## Function to Load Data.\n",
    "function load_data(fname)\n",
    "    data = DataFrame(CSV.File(fname, header=false)) |> DataFrame;\n",
    "    return data\n",
    "end;"
   ]
  },
  {
   "cell_type": "code",
   "execution_count": 2,
   "id": "551c721a",
   "metadata": {},
   "outputs": [],
   "source": [
    "hospital_mapping = CSV.read(\"hospital_mapping.csv\", DataFrame, pool=true);\n",
    "distance_cost_vehicle_type_mapping = CSV.read(\"distance_cost_vehicle_type_mapping.csv\", DataFrame, pool=true);\n",
    "fixed_cost_vehicle_type_mapping = CSV.read(\"fixed_cost_vehicle_type_mapping.csv\", DataFrame, pool=true);\n",
    "vehicle_depot_mapping_binary = CSV.read(\"vehicle_depot_mapping.csv\", DataFrame, pool=true);\n",
    "distance_mapping = CSV.read(\"distance_mapping.csv\", DataFrame, pool=true);\n",
    "vehicle_type = CSV.read(\"vehicle_type.csv\", DataFrame, pool=true);\n",
    "time_mapping = CSV.read(\"time_mapping.csv\", DataFrame, pool=true);"
   ]
  },
  {
   "cell_type": "code",
   "execution_count": 3,
   "id": "a3232502",
   "metadata": {},
   "outputs": [
    {
     "data": {
      "text/html": [
       "<div><div style = \"float: left;\"><span>2×2 DataFrame</span></div><div style = \"clear: both;\"></div></div><div class = \"data-frame\" style = \"overflow-x: scroll;\"><table class = \"data-frame\" style = \"margin-bottom: 6px;\"><thead><tr class = \"header\"><th class = \"rowNumber\" style = \"font-weight: bold; text-align: right;\">Row</th><th style = \"text-align: left;\">Column1</th><th style = \"text-align: left;\">cost_per_m</th></tr><tr class = \"subheader headerLastRow\"><th class = \"rowNumber\" style = \"font-weight: bold; text-align: right;\"></th><th title = \"String7\" style = \"text-align: left;\">String7</th><th title = \"Float64\" style = \"text-align: left;\">Float64</th></tr></thead><tbody><tr><td class = \"rowNumber\" style = \"font-weight: bold; text-align: right;\">1</td><td style = \"text-align: left;\">type1</td><td style = \"text-align: right;\">0.0005</td></tr><tr><td class = \"rowNumber\" style = \"font-weight: bold; text-align: right;\">2</td><td style = \"text-align: left;\">type2</td><td style = \"text-align: right;\">3.0e-5</td></tr></tbody></table></div>"
      ],
      "text/latex": [
       "\\begin{tabular}{r|cc}\n",
       "\t& Column1 & cost\\_per\\_m\\\\\n",
       "\t\\hline\n",
       "\t& String7 & Float64\\\\\n",
       "\t\\hline\n",
       "\t1 & type1 & 0.0005 \\\\\n",
       "\t2 & type2 & 3.0e-5 \\\\\n",
       "\\end{tabular}\n"
      ],
      "text/plain": [
       "\u001b[1m2×2 DataFrame\n",
       "\u001b[1m Row │\u001b[1m Column1 \u001b[1m cost_per_m\n",
       "     │\u001b[90m String7 \u001b[90m Float64\n",
       "─────┼─────────────────────\n",
       "   1 │ type1        0.0005\n",
       "   2 │ type2        3.0e-5"
      ]
     },
     "execution_count": 3,
     "metadata": {},
     "output_type": "execute_result"
    }
   ],
   "source": [
    "distance_cost_vehicle_type_mapping"
   ]
  },
  {
   "cell_type": "code",
   "execution_count": 4,
   "id": "0cf148ca",
   "metadata": {},
   "outputs": [
    {
     "data": {
      "text/html": [
       "<div><div style = \"float: left;\"><span>4×3 DataFrame</span></div><div style = \"clear: both;\"></div></div><div class = \"data-frame\" style = \"overflow-x: scroll;\"><table class = \"data-frame\" style = \"margin-bottom: 6px;\"><thead><tr class = \"header\"><th class = \"rowNumber\" style = \"font-weight: bold; text-align: right;\">Row</th><th style = \"text-align: left;\">Column1</th><th style = \"text-align: left;\">depot1</th><th style = \"text-align: left;\">depot2</th></tr><tr class = \"subheader headerLastRow\"><th class = \"rowNumber\" style = \"font-weight: bold; text-align: right;\"></th><th title = \"String15\" style = \"text-align: left;\">String15</th><th title = \"Int64\" style = \"text-align: left;\">Int64</th><th title = \"Int64\" style = \"text-align: left;\">Int64</th></tr></thead><tbody><tr><td class = \"rowNumber\" style = \"font-weight: bold; text-align: right;\">1</td><td style = \"text-align: left;\">vehicle1</td><td style = \"text-align: right;\">1</td><td style = \"text-align: right;\">0</td></tr><tr><td class = \"rowNumber\" style = \"font-weight: bold; text-align: right;\">2</td><td style = \"text-align: left;\">vehicle2</td><td style = \"text-align: right;\">0</td><td style = \"text-align: right;\">1</td></tr><tr><td class = \"rowNumber\" style = \"font-weight: bold; text-align: right;\">3</td><td style = \"text-align: left;\">vehicle3</td><td style = \"text-align: right;\">1</td><td style = \"text-align: right;\">0</td></tr><tr><td class = \"rowNumber\" style = \"font-weight: bold; text-align: right;\">4</td><td style = \"text-align: left;\">vehicle4</td><td style = \"text-align: right;\">1</td><td style = \"text-align: right;\">0</td></tr></tbody></table></div>"
      ],
      "text/latex": [
       "\\begin{tabular}{r|ccc}\n",
       "\t& Column1 & depot1 & depot2\\\\\n",
       "\t\\hline\n",
       "\t& String15 & Int64 & Int64\\\\\n",
       "\t\\hline\n",
       "\t1 & vehicle1 & 1 & 0 \\\\\n",
       "\t2 & vehicle2 & 0 & 1 \\\\\n",
       "\t3 & vehicle3 & 1 & 0 \\\\\n",
       "\t4 & vehicle4 & 1 & 0 \\\\\n",
       "\\end{tabular}\n"
      ],
      "text/plain": [
       "\u001b[1m4×3 DataFrame\n",
       "\u001b[1m Row │\u001b[1m Column1  \u001b[1m depot1 \u001b[1m depot2\n",
       "     │\u001b[90m String15 \u001b[90m Int64  \u001b[90m Int64\n",
       "─────┼──────────────────────────\n",
       "   1 │ vehicle1       1       0\n",
       "   2 │ vehicle2       0       1\n",
       "   3 │ vehicle3       1       0\n",
       "   4 │ vehicle4       1       0"
      ]
     },
     "execution_count": 4,
     "metadata": {},
     "output_type": "execute_result"
    }
   ],
   "source": [
    "vehicle_depot_mapping_binary"
   ]
  },
  {
   "cell_type": "code",
   "execution_count": 32,
   "id": "b71d2258",
   "metadata": {},
   "outputs": [
    {
     "data": {
      "text/html": [
       "<div><div style = \"float: left;\"><span>10×2 DataFrame</span></div><div style = \"clear: both;\"></div></div><div class = \"data-frame\" style = \"overflow-x: scroll;\"><table class = \"data-frame\" style = \"margin-bottom: 6px;\"><thead><tr class = \"header\"><th class = \"rowNumber\" style = \"font-weight: bold; text-align: right;\">Row</th><th style = \"text-align: left;\">1</th><th style = \"text-align: left;\">2</th></tr><tr class = \"subheader headerLastRow\"><th class = \"rowNumber\" style = \"font-weight: bold; text-align: right;\"></th><th title = \"Int64\" style = \"text-align: left;\">Int64</th><th title = \"Int64\" style = \"text-align: left;\">Int64</th></tr></thead><tbody><tr><td class = \"rowNumber\" style = \"font-weight: bold; text-align: right;\">1</td><td style = \"text-align: right;\">6</td><td style = \"text-align: right;\">13</td></tr><tr><td class = \"rowNumber\" style = \"font-weight: bold; text-align: right;\">2</td><td style = \"text-align: right;\">6</td><td style = \"text-align: right;\">17</td></tr><tr><td class = \"rowNumber\" style = \"font-weight: bold; text-align: right;\">3</td><td style = \"text-align: right;\">8</td><td style = \"text-align: right;\">17</td></tr><tr><td class = \"rowNumber\" style = \"font-weight: bold; text-align: right;\">4</td><td style = \"text-align: right;\">13</td><td style = \"text-align: right;\">6</td></tr><tr><td class = \"rowNumber\" style = \"font-weight: bold; text-align: right;\">5</td><td style = \"text-align: right;\">13</td><td style = \"text-align: right;\">17</td></tr><tr><td class = \"rowNumber\" style = \"font-weight: bold; text-align: right;\">6</td><td style = \"text-align: right;\">17</td><td style = \"text-align: right;\">6</td></tr><tr><td class = \"rowNumber\" style = \"font-weight: bold; text-align: right;\">7</td><td style = \"text-align: right;\">17</td><td style = \"text-align: right;\">8</td></tr><tr><td class = \"rowNumber\" style = \"font-weight: bold; text-align: right;\">8</td><td style = \"text-align: right;\">17</td><td style = \"text-align: right;\">13</td></tr><tr><td class = \"rowNumber\" style = \"font-weight: bold; text-align: right;\">9</td><td style = \"text-align: right;\">17</td><td style = \"text-align: right;\">23</td></tr><tr><td class = \"rowNumber\" style = \"font-weight: bold; text-align: right;\">10</td><td style = \"text-align: right;\">23</td><td style = \"text-align: right;\">17</td></tr></tbody></table></div>"
      ],
      "text/latex": [
       "\\begin{tabular}{r|cc}\n",
       "\t& 1 & 2\\\\\n",
       "\t\\hline\n",
       "\t& Int64 & Int64\\\\\n",
       "\t\\hline\n",
       "\t1 & 6 & 13 \\\\\n",
       "\t2 & 6 & 17 \\\\\n",
       "\t3 & 8 & 17 \\\\\n",
       "\t4 & 13 & 6 \\\\\n",
       "\t5 & 13 & 17 \\\\\n",
       "\t6 & 17 & 6 \\\\\n",
       "\t7 & 17 & 8 \\\\\n",
       "\t8 & 17 & 13 \\\\\n",
       "\t9 & 17 & 23 \\\\\n",
       "\t10 & 23 & 17 \\\\\n",
       "\\end{tabular}\n"
      ],
      "text/plain": [
       "\u001b[1m10×2 DataFrame\n",
       "\u001b[1m Row │\u001b[1m 1     \u001b[1m 2\n",
       "     │\u001b[90m Int64 \u001b[90m Int64\n",
       "─────┼──────────────\n",
       "   1 │     6     13\n",
       "   2 │     6     17\n",
       "   3 │     8     17\n",
       "   4 │    13      6\n",
       "   5 │    13     17\n",
       "   6 │    17      6\n",
       "   7 │    17      8\n",
       "   8 │    17     13\n",
       "   9 │    17     23\n",
       "  10 │    23     17"
      ]
     },
     "execution_count": 32,
     "metadata": {},
     "output_type": "execute_result"
    }
   ],
   "source": [
    "hospital_mapping = hospital_mapping[:,2:end]\n",
    "\n",
    "patient_hospital_mapping = []\n",
    "max_transfers = maximum(Matrix(hospital_mapping))\n",
    "for i=1:max_transfers\n",
    "    transfers = sort(Tuple.(findall(>=(i), Matrix(hospital_mapping))))\n",
    "    for item in transfers\n",
    "        push!(patient_hospital_mapping, item)\n",
    "    end\n",
    "#    push!(patient_hospital_mapping, sort(Tuple.(findall(>=(i), Matrix(hospital_mapping))))[0])\n",
    "end\n",
    "\n",
    "df_patient_hospital_mapping = DataFrame(patient_hospital_mapping)\n",
    "\n",
    "# CSV.write(\"../data/sequence_with_time/df_patient_hospital_mapping.csv\", df_patient_hospital_mapping)\n"
   ]
  },
  {
   "cell_type": "code",
   "execution_count": 33,
   "id": "82ab1595",
   "metadata": {},
   "outputs": [
    {
     "data": {
      "text/plain": [
       "1-element Vector{Int64}:\n",
       " 3"
      ]
     },
     "execution_count": 33,
     "metadata": {},
     "output_type": "execute_result"
    }
   ],
   "source": [
    "distance_cost_vehicle_type_mapping = distance_cost_vehicle_type_mapping[:,2:end]\n",
    "\n",
    "fixed_cost_vehicle_type_mapping = fixed_cost_vehicle_type_mapping[:,2:end]\n",
    "\n",
    "vehicle_depot_mapping_binary = vehicle_depot_mapping_binary[:,2:end]\n",
    "\n",
    "vehicle_depot_mapping = copy(vehicle_depot_mapping_binary)\n",
    "\n",
    "for i = 1:size(vehicle_depot_mapping_binary)[2]\n",
    "    vehicle_depot_mapping[:,i] = i*vehicle_depot_mapping_binary[:,i]\n",
    "end\n",
    "\n",
    "vehicle_depot_mapping[:,1] = sum(eachcol(vehicle_depot_mapping))\n",
    "\n",
    "vehicle_depot_mapping = select!(vehicle_depot_mapping, [:depot1])\n",
    "\n",
    "vehicle_depot_mapping\n",
    "\n",
    "distance_mapping = distance_mapping[:,3:end]\n",
    "\n",
    "time_mapping = time_mapping[:,3:end]\n",
    "\n",
    "# vehicle_type = vehicle_type[:,2:end]\n",
    "\n",
    "\n",
    "\n",
    "electric_vehicles = filter(:type => n -> n == 2, vehicle_type)[:,\"vehicle_num\"]\n"
   ]
  },
  {
   "cell_type": "code",
   "execution_count": 34,
   "id": "03453fa0",
   "metadata": {},
   "outputs": [
    {
     "data": {
      "text/html": [
       "<div><div style = \"float: left;\"><span>4×1 DataFrame</span></div><div style = \"clear: both;\"></div></div><div class = \"data-frame\" style = \"overflow-x: scroll;\"><table class = \"data-frame\" style = \"margin-bottom: 6px;\"><thead><tr class = \"header\"><th class = \"rowNumber\" style = \"font-weight: bold; text-align: right;\">Row</th><th style = \"text-align: left;\">depot1</th></tr><tr class = \"subheader headerLastRow\"><th class = \"rowNumber\" style = \"font-weight: bold; text-align: right;\"></th><th title = \"Int64\" style = \"text-align: left;\">Int64</th></tr></thead><tbody><tr><td class = \"rowNumber\" style = \"font-weight: bold; text-align: right;\">1</td><td style = \"text-align: right;\">1</td></tr><tr><td class = \"rowNumber\" style = \"font-weight: bold; text-align: right;\">2</td><td style = \"text-align: right;\">2</td></tr><tr><td class = \"rowNumber\" style = \"font-weight: bold; text-align: right;\">3</td><td style = \"text-align: right;\">1</td></tr><tr><td class = \"rowNumber\" style = \"font-weight: bold; text-align: right;\">4</td><td style = \"text-align: right;\">1</td></tr></tbody></table></div>"
      ],
      "text/latex": [
       "\\begin{tabular}{r|c}\n",
       "\t& depot1\\\\\n",
       "\t\\hline\n",
       "\t& Int64\\\\\n",
       "\t\\hline\n",
       "\t1 & 1 \\\\\n",
       "\t2 & 2 \\\\\n",
       "\t3 & 1 \\\\\n",
       "\t4 & 1 \\\\\n",
       "\\end{tabular}\n"
      ],
      "text/plain": [
       "\u001b[1m4×1 DataFrame\n",
       "\u001b[1m Row │\u001b[1m depot1\n",
       "     │\u001b[90m Int64\n",
       "─────┼────────\n",
       "   1 │      1\n",
       "   2 │      2\n",
       "   3 │      1\n",
       "   4 │      1"
      ]
     },
     "execution_count": 34,
     "metadata": {},
     "output_type": "execute_result"
    }
   ],
   "source": [
    "n_depots = 2\n",
    "n_pickup = 10\n",
    "n_destination = n_pickup\n",
    "V = n_depots + n_pickup + n_destination    # Total locations\n",
    "\n",
    "depots = [1: 1: n_depots;]\n",
    "pickups = [1+n_depots: 1: n_depots+n_pickup;]\n",
    "destinations = [1+n_depots+n_pickup: 1: n_depots+n_pickup+n_destination;];\n",
    "\n",
    "depots\n",
    "\n",
    "pickups\n",
    "\n",
    "destinations\n",
    "\n",
    "# n_vehicles_types = maximum(vehicle_type[!,1])\n",
    "K = size(vehicle_type)[1] # n_vehicles\n",
    "\n",
    "\n",
    "\n",
    "# max_pickups_per_vehicle = 15\n",
    "\n",
    "max_time_per_vehicle = 8*60*60\n",
    "\n",
    "vehicle_depot_mapping"
   ]
  },
  {
   "cell_type": "code",
   "execution_count": 35,
   "id": "bfef4d12",
   "metadata": {},
   "outputs": [
    {
     "name": "stdout",
     "output_type": "stream",
     "text": [
      "3\n"
     ]
    }
   ],
   "source": [
    "distance_per_elec_charge = 60*1.6*1000\n",
    "\n",
    "for vehicle_num in electric_vehicles\n",
    "   println(vehicle_num) \n",
    "end\n",
    "\n",
    "#Ref: https://www.salary.com/research/salary/benchmark/ambulance-driver-hourly-wages\n",
    "# https://www.google.com/url?sa=t&rct=j&q=&esrc=s&source=web&cd=&cad=rja&uact=8&ved=2ahUKEwjPwvvuydz7AhXTMlkFHUjjD40QFnoECBoQAQ&url=https%3A%2F%2Fwww.payscale.com%2Fresearch%2FUS%2FJob%3DAmbulance_Driver%2FHourly_Rate%2Fef469288%2FBoston-MA&usg=AOvVaw0lTE_fdHxQ9ZcuvFwIDwtQ\n",
    "driver_hourly_wage = 16\n",
    "# max_pickups_per_vehicle = 8\n",
    "fixed_driver_cost = 50\n",
    "buffer_time = 20*60;"
   ]
  },
  {
   "cell_type": "code",
   "execution_count": 36,
   "id": "f9250014",
   "metadata": {},
   "outputs": [
    {
     "data": {
      "text/plain": [
       "2×1 Matrix{Float64}:\n",
       " 0.0005\n",
       " 3.0e-5"
      ]
     },
     "execution_count": 36,
     "metadata": {},
     "output_type": "execute_result"
    }
   ],
   "source": [
    "distance_cost_vehicle_type_mapping = Matrix(distance_cost_vehicle_type_mapping)"
   ]
  },
  {
   "cell_type": "code",
   "execution_count": 37,
   "id": "1e60ab94",
   "metadata": {},
   "outputs": [
    {
     "data": {
      "text/plain": [
       "22×22 Matrix{Int64}:\n",
       "     0  12165  8263  8263  8127  17738  …  8263  8127  17738   6546   3230\n",
       " 13531      0  2492  2492  3018   5422     2492  3018   5422   6161   9749\n",
       " 11253   2955     0     0   590   6268        0   590   6268   6174   5676\n",
       " 11253   2955     0     0   590   6268        0   590   6268   6174   5676\n",
       " 11069   3481   590   590     0   6791      590     0   6791   6572   5492\n",
       " 16708   4612  5919  5919  6287      0  …  5919  6287      0  10307  11131\n",
       " 16708   4612  5919  5919  6287      0     5919  6287      0  10307  11131\n",
       "  6729   6813  5488  5488  5352  11693     5488  5352  11693   4807      0\n",
       "  6729   6813  5488  5488  5352  11693     5488  5352  11693   4807      0\n",
       "  6729   6813  5488  5488  5352  11693     5488  5352  11693   4807      0\n",
       "  6729   6813  5488  5488  5352  11693  …  5488  5352  11693   4807      0\n",
       "  8055   6797  6406  6406  9170  23611     6406  9170  23611      0   4273\n",
       " 16708   4612  5919  5919  6287      0     5919  6287      0  10307  11131\n",
       "  6729   6813  5488  5488  5352  11693     5488  5352  11693   4807      0\n",
       "  6729   6813  5488  5488  5352  11693     5488  5352  11693   4807      0\n",
       " 11253   2955     0     0   590   6268  …     0   590   6268   6174   5676\n",
       "  6729   6813  5488  5488  5352  11693     5488  5352  11693   4807      0\n",
       " 11253   2955     0     0   590   6268        0   590   6268   6174   5676\n",
       " 11069   3481   590   590     0   6791      590     0   6791   6572   5492\n",
       " 16708   4612  5919  5919  6287      0     5919  6287      0  10307  11131\n",
       "  8055   6797  6406  6406  9170  23611  …  6406  9170  23611      0   4273\n",
       "  6729   6813  5488  5488  5352  11693     5488  5352  11693   4807      0"
      ]
     },
     "execution_count": 37,
     "metadata": {},
     "output_type": "execute_result"
    }
   ],
   "source": [
    "distance_mapping = Matrix(distance_mapping)"
   ]
  },
  {
   "cell_type": "code",
   "execution_count": 38,
   "id": "1b0b033f",
   "metadata": {
    "scrolled": false
   },
   "outputs": [
    {
     "name": "stdout",
     "output_type": "stream",
     "text": [
      "Set parameter Username\n",
      "Academic license - for non-commercial use only - expires 2023-08-18\n",
      "Set parameter Username\n",
      "Academic license - for non-commercial use only - expires 2023-08-18\n",
      "Set parameter TimeLimit to value 14400\n",
      "Set parameter TimeLimit to value 14400\n",
      "Gurobi Optimizer version 9.5.2 build v9.5.2rc0 (mac64[arm])\n",
      "Thread count: 8 physical cores, 8 logical processors, using up to 8 threads\n",
      "Optimize a model with 1993 rows, 2108 columns and 12124 nonzeros\n",
      "Model fingerprint: 0x3124a82f\n",
      "Variable types: 80 continuous, 2028 integer (1940 binary)\n",
      "Coefficient statistics:\n",
      "  Matrix range     [1e+00, 3e+03]\n",
      "  Objective range  [3e+00, 3e+01]\n",
      "  Bounds range     [2e+00, 2e+01]\n",
      "  RHS range        [1e+00, 1e+05]\n",
      "Presolve removed 1055 rows and 1144 columns\n",
      "Presolve time: 0.01s\n",
      "Presolved: 938 rows, 964 columns, 5120 nonzeros\n",
      "Variable types: 0 continuous, 964 integer (884 binary)\n",
      "\n",
      "Root relaxation: objective 1.557661e+02, 124 iterations, 0.00 seconds (0.00 work units)\n",
      "\n",
      "    Nodes    |    Current Node    |     Objective Bounds      |     Work\n",
      " Expl Unexpl |  Obj  Depth IntInf | Incumbent    BestBd   Gap | It/Node Time\n",
      "\n",
      "     0     0  155.76607    0   16          -  155.76607      -     -    0s\n",
      "H    0     0                     525.2777656  155.76607  70.3%     -    0s\n",
      "H    0     0                     506.1791544  155.76607  69.2%     -    0s\n",
      "H    0     0                     317.7833844  155.76607  51.0%     -    0s\n",
      "H    0     0                     246.4345989  155.76607  36.8%     -    0s\n",
      "     0     0  156.53946    0   27  246.43460  156.53946  36.5%     -    0s\n",
      "     0     0  157.26380    0   38  246.43460  157.26380  36.2%     -    0s\n",
      "     0     0  157.51894    0   30  246.43460  157.51894  36.1%     -    0s\n",
      "     0     0  157.53890    0   31  246.43460  157.53890  36.1%     -    0s\n",
      "     0     0  158.14190    0   23  246.43460  158.14190  35.8%     -    0s\n",
      "     0     0  158.53481    0   20  246.43460  158.53481  35.7%     -    0s\n",
      "     0     0  159.04509    0   53  246.43460  159.04509  35.5%     -    0s\n",
      "     0     0  159.06516    0   45  246.43460  159.06516  35.5%     -    0s\n",
      "     0     2  159.06516    0   40  246.43460  159.06516  35.5%     -    0s\n",
      "H   31    36                     235.5202100  159.06516  32.5%  17.5    0s\n",
      "H   35    36                     229.0364311  159.06516  30.6%  16.5    0s\n",
      "H   66    72                     207.9964744  159.06516  23.5%  15.0    0s\n",
      "H   89    84                     206.8276167  159.06516  23.1%  13.9    0s\n",
      "H   90    84                     206.1186389  159.06516  22.8%  13.8    0s\n",
      "H 1492  1091                     202.3316900  159.06516  21.4%   6.9    0s\n",
      "H 1493  1037                     200.7853056  159.06516  20.8%   6.9    0s\n",
      "* 5556  2549              76     199.3562411  164.07580  17.7%   9.0    1s\n",
      "H 9410  4608                     195.8854711  165.47869  15.5%   8.9    1s\n",
      "H11661  5346                     192.3030289  166.29579  13.5%   8.8    1s\n",
      "*28232 11535              47     192.2665744  170.33049  11.4%   9.3    2s\n",
      " 32098 12587  178.77409   47    8  192.26657  170.57439  11.3%   9.4    5s\n",
      " 91752 22000  191.65750   47    7  192.26657  173.79838  9.61%   9.0   10s\n",
      "*104670 25494              59     191.0243644  174.41558  8.69%   8.9   10s\n",
      " 153186 33771  188.92333   43    8  191.02436  176.71997  7.49%   8.9   15s\n",
      " 216896 38782  179.42724   43   17  191.02436  179.15704  6.21%   8.8   20s\n",
      " 283169 41833     cutoff   44       191.02436  180.92324  5.29%   8.7   25s\n",
      " 355725 36492 infeasible   48       191.02436  182.81540  4.30%   8.6   30s\n",
      " 429414 24841  188.36137   58   28  191.02436  185.04819  3.13%   8.5   35s\n",
      "\n",
      "Cutting planes:\n",
      "  Gomory: 4\n",
      "  Lift-and-project: 3\n",
      "  Implied bound: 45\n",
      "  Projected implied bound: 2\n",
      "  MIR: 3\n",
      "  Flow cover: 29\n",
      "  GUB cover: 1\n",
      "  Zero half: 6\n",
      "  Relax-and-lift: 4\n",
      "\n",
      "Explored 483937 nodes (4070014 simplex iterations) in 38.65 seconds (63.13 work units)\n",
      "Thread count was 8 (of 8 available processors)\n",
      "\n",
      "Solution count 10: 191.024 192.267 192.303 ... 207.996\n",
      "\n",
      "Optimal solution found (tolerance 1.00e-04)\n",
      "Best objective 1.910243644444e+02, best bound 1.910243644444e+02, gap 0.0000%\n",
      "\n",
      "User-callback calls 982431, time in user-callback 0.10 sec\n"
     ]
    }
   ],
   "source": [
    "# Build model.\n",
    "model = Model(Gurobi.Optimizer)\n",
    "# set_optimizer_attribute(model, \"OutputFlag\", true)\n",
    "model = Model(optimizer_with_attributes(Gurobi.Optimizer, \"TimeLimit\" => 14400))\n",
    "\n",
    "\n",
    "# Insert variable.\n",
    "# We create a huge number of variables because we map multiple locations with the same index.\n",
    "@variable(model, x[i=1:V, j=1:V, k=1:K], Bin)\n",
    "@variable(model, y[k=1:K], Bin)\n",
    "@variable(model, u[i=1:V, k=1:K], Int)\n",
    "\n",
    "\n",
    "# Insert constraints.\n",
    "\n",
    "## Related with x.\n",
    "@constraint(model, [i=pickups[1]:pickups[n_pickup]], sum(sum(x[i,j,k] for j=1:V) for k=1:K) == 1)\n",
    "@constraint(model, [i=pickups[1]:pickups[n_pickup]], sum(x[i,i+n_pickup,k] for k=1:K) == 1)\n",
    "@constraint(model, [j=1:V, k=1:K], sum(x[i,j,k] for i=1:V) - sum(x[j,i,k] for i=1:V) == 0)\n",
    "# @constraint(model, [k=1:K], sum(sum(x[i,j,k] for j=1:V) for i=pickups[1]:pickups[n_pickup]) <= max_pickups_per_vehicle)\n",
    "@constraint(model, [k=1:K], sum(sum(x[i,j,k]*(time_mapping[i,j] + buffer_time) for j=1:V) for i=1:V) <= max_time_per_vehicle)\n",
    "\n",
    "for vehicle_num in electric_vehicles\n",
    "    @constraint(model, sum(sum(x[i,j,vehicle_num] for j=1:V) for i=1:V) <= distance_per_elec_charge)\n",
    "end\n",
    "\n",
    "\n",
    "@constraint(model, [i=depots[1]:depots[n_depots], j=depots[1]:depots[n_depots], k=1:K], x[i,j,k] == 0) ##############\n",
    "\n",
    "## Related with y.\n",
    "# @constraint(model, [k=1:K], sum(x[depots[vehicle_depot_mapping[k,1]],j,k] for j=pickups[1]:pickups[n_pickup]) <= y[k]*vehicle_depot_mapping_binary[k,depots[vehicle_depot_mapping[k,1]]])\n",
    "# @constraint(model, [i=1:V, j=1:V, k=1:K], x[i,j,k] <= y[k])\n",
    "\n",
    "@constraint(model, [i=depots[1]:depots[n_depots], j=1:V, k=1:K], x[i,j,k] <= y[k]*vehicle_depot_mapping_binary[k,i])\n",
    "# @constraint(model, [i=depots[1]:depots[n_depots], j=1:V, k=1:K], x[i,j,k] <= y[k])\n",
    "\n",
    "\n",
    "## Related with u.\n",
    "@constraint(model, [i=depots[1]:depots[n_depots], k=1:K], u[i,k] == 1)\n",
    "@constraint(model, [i=n_depots+1:V, j=n_depots+1:V, k=1:K], u[i,k] - u[j,k] + 1 <= (V-1)*(1-x[i,j,k]))\n",
    "@constraint(model, [i=n_depots+1:V, k=1:K], 2 <= u[i,k] <= V)\n",
    "\n",
    "# # Objective.\n",
    "# @objective(model, Min, \n",
    "#     sum(fixed_cost_vehicle_type_mapping[vehicle_type[k,2],1]*y[k] for k=1:K) +\n",
    "#     sum(sum(sum(distance_cost_vehicle_type_mapping[vehicle_type[k,2],1]*distance_mapping[i,j]*x[i,j,k] for i=1:V) for j=1:V) for k=1:K)\n",
    "# )\n",
    "\n",
    "# Objective.\n",
    "@objective(model, Min, \n",
    "    sum(fixed_cost_vehicle_type_mapping[vehicle_type[k,2],1]*y[k] for k=1:K) +\n",
    "    (driver_hourly_wage/3600)*(sum(sum(sum((time_mapping[i,j] + buffer_time)*x[i,j,k] for j=1:V) for i=1:V) for k=1:K)) +\n",
    "#     fixed_driver_cost*(sum(y[k] for k=1:K)) +\n",
    "    sum(sum(sum(distance_cost_vehicle_type_mapping[vehicle_type[k,2],1]*distance_mapping[i,j]*x[i,j,k] for i=1:V) for j=1:V) for k=1:K)\n",
    "#     (1/1000)*sum(sum(sum(distance_cost_vehicle_type_mapping[vehicle_type[k,2],1]*distance_mapping*x[:,:,k] for i=1:V) for j=1:V) for k=1:K)\n",
    ")\n",
    "\n",
    "\n",
    "# Optimize.\n",
    "optimize!(model)"
   ]
  },
  {
   "cell_type": "code",
   "execution_count": null,
   "id": "d902e8a9",
   "metadata": {},
   "outputs": [],
   "source": []
  },
  {
   "cell_type": "code",
   "execution_count": null,
   "id": "bc450459",
   "metadata": {},
   "outputs": [],
   "source": []
  },
  {
   "cell_type": "code",
   "execution_count": null,
   "id": "3aae2b8f",
   "metadata": {},
   "outputs": [],
   "source": []
  },
  {
   "cell_type": "code",
   "execution_count": 39,
   "id": "a50b7d84",
   "metadata": {},
   "outputs": [
    {
     "name": "stdout",
     "output_type": "stream",
     "text": [
      "[0.0, 1.0, 1.0, 0.0]\n"
     ]
    }
   ],
   "source": [
    "x_sol = Dict()\n",
    "u_sol = Dict()\n",
    "path_mappings = Dict()\n",
    "sequences = Dict()\n",
    "\n",
    "for i=1:K\n",
    "    x_sol[i] = DataFrame(value.(x)[:,:,i], :auto);\n",
    "    u_sol[i] = value.(u)[:,i];\n",
    "    path_mappings[i] = sort(Tuple.(findall(>=(0.5), Matrix(x_sol[i]))))\n",
    "    sequences[i] = sort(DataFrame(Start=[1:1:size(u_sol[i])[1];], Sequence=u_sol[i]), :Sequence)\n",
    "end\n",
    "\n",
    "println(value.(y))"
   ]
  },
  {
   "cell_type": "code",
   "execution_count": 40,
   "id": "47f1c139",
   "metadata": {},
   "outputs": [
    {
     "name": "stdout",
     "output_type": "stream",
     "text": [
      "6.1\n",
      "170.40444444444444\n",
      "14.519919999999999\n"
     ]
    }
   ],
   "source": [
    "fixed_costs = sum(fixed_cost_vehicle_type_mapping[vehicle_type[k,2],1]*value.(y)[k] for k=1:K)\n",
    "println(fixed_costs)\n",
    "\n",
    "driver_wages = (driver_hourly_wage/3600)*(sum(sum(sum((time_mapping[i,j] + buffer_time)*value.(x)[i,j,k] for j=1:V) for i=1:V) for k=1:K))\n",
    "println(driver_wages)\n",
    "\n",
    "travelling_cost = sum(sum(sum(distance_cost_vehicle_type_mapping[vehicle_type[k,2],1]*distance_mapping[i,j]*value.(x)[i,j,k] for i=1:V) for j=1:V) for k=1:K)\n",
    "println(travelling_cost)"
   ]
  },
  {
   "cell_type": "code",
   "execution_count": null,
   "id": "37d6ab0b",
   "metadata": {},
   "outputs": [],
   "source": []
  },
  {
   "cell_type": "code",
   "execution_count": null,
   "id": "c9da91f2",
   "metadata": {},
   "outputs": [],
   "source": []
  },
  {
   "cell_type": "code",
   "execution_count": null,
   "id": "2783b2ba",
   "metadata": {},
   "outputs": [],
   "source": []
  },
  {
   "cell_type": "code",
   "execution_count": 42,
   "id": "34d07c15",
   "metadata": {},
   "outputs": [
    {
     "name": "stdout",
     "output_type": "stream",
     "text": [
      "The vehicle number we are talking about is: 1\n",
      "The vehicle number we are talking about is: 2\n",
      "The vehicle number we are talking about is: 3\n",
      "The vehicle number we are talking about is: 4\n",
      "Dict{Any, Any}(2 => Any[2, 4, 14, 11, 21, 12, 22, 8, 18], 3 => Any[1, 9, 19, 5, 15, 10, 20, 6, 16, 3, 13, 7, 17])Vehicle 1 is not used!\n",
      "Vehicle 4 is not used!\n"
     ]
    }
   ],
   "source": [
    "sequence_travelled = Dict()\n",
    "\n",
    "for vehicle_num = 1:K\n",
    "    println(\"The vehicle number we are talking about is: \", vehicle_num)\n",
    "    if size(path_mappings[vehicle_num])[1] == 0\n",
    "        continue\n",
    "    else\n",
    "        path = path_mappings[vehicle_num]\n",
    "        sequence = sort(sequences[vehicle_num], :Start)\n",
    "        sequence_dict = Dict(pairs(sequence.Sequence))\n",
    "        start_nodes = path[:,1]\n",
    "#         println(start_nodes)\n",
    "        nodes = []\n",
    "        sequence = []\n",
    "        \n",
    "        for node_index = 1:size(start_nodes)[1]\n",
    "            node_num = start_nodes[node_index][1]\n",
    "            seq = sequence_dict[start_nodes[node_index][1]]\n",
    "            push!(nodes, node_num)\n",
    "            push!(sequence, seq)\n",
    "#             println(nodes)\n",
    "#             println(sequence_dict[start_nodes[node_index][1]])\n",
    "        end\n",
    "        \n",
    "#         println(sort(DataFrame(Nodes=nodes, VistedAt=sequence), :VistedAt))\n",
    "        sequence_travelled[vehicle_num] = sort(DataFrame(Nodes=nodes, VistedAt=sequence), :VistedAt)[:,1]\n",
    "        \n",
    "#         nodes_travelled[vehicle_num] = nodes\n",
    "#         sequence_travelled[vehicle_num] = sequence\n",
    "    end\n",
    "end\n",
    "\n",
    "print(sequence_travelled)\n",
    "\n",
    "total_cost = objective_value.(model)\n",
    "\n",
    "\n",
    "for i=1:K\n",
    "    path_map = path_mappings[i]\n",
    "    CSV.write(\"df_sequence_mapping_$i.csv\", DataFrame(path_map))\n",
    "    try\n",
    "        sequence_map = sequence_travelled[i]\n",
    "        CSV.write(\"sequence_$i.csv\",  Tables.table(sequence_map), writeheader=false)\n",
    "    catch\n",
    "        println(\"Vehicle $i is not used!\")\n",
    "    end\n",
    "end"
   ]
  },
  {
   "cell_type": "code",
   "execution_count": null,
   "id": "dad914c8",
   "metadata": {},
   "outputs": [],
   "source": []
  }
 ],
 "metadata": {
  "kernelspec": {
   "display_name": "Julia 1.8.2",
   "language": "julia",
   "name": "julia-1.8"
  },
  "language_info": {
   "file_extension": ".jl",
   "mimetype": "application/julia",
   "name": "julia",
   "version": "1.8.2"
  }
 },
 "nbformat": 4,
 "nbformat_minor": 5
}

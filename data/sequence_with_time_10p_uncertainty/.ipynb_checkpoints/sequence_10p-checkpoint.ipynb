{
 "cells": [
  {
   "cell_type": "code",
   "execution_count": 1,
   "id": "565b3a25",
   "metadata": {},
   "outputs": [],
   "source": [
    "using CSV, Tables, LinearAlgebra, Random, Gurobi, JuMP, DataFrames, Plots, Statistics\n",
    "\n",
    "## Function to Load Data.\n",
    "function load_data(fname)\n",
    "    data = DataFrame(CSV.File(fname, header=false)) |> DataFrame;\n",
    "    return data\n",
    "end;"
   ]
  },
  {
   "cell_type": "code",
   "execution_count": 2,
   "id": "551c721a",
   "metadata": {},
   "outputs": [],
   "source": [
    "hospital_mapping = CSV.read(\"hospital_mapping.csv\", DataFrame, pool=true);\n",
    "distance_cost_vehicle_type_mapping = CSV.read(\"distance_cost_vehicle_type_mapping.csv\", DataFrame, pool=true);\n",
    "fixed_cost_vehicle_type_mapping = CSV.read(\"fixed_cost_vehicle_type_mapping.csv\", DataFrame, pool=true);\n",
    "vehicle_depot_mapping_binary = CSV.read(\"vehicle_depot_mapping.csv\", DataFrame, pool=true);\n",
    "distance_mapping = CSV.read(\"distance_mapping.csv\", DataFrame, pool=true);\n",
    "vehicle_type = CSV.read(\"vehicle_type.csv\", DataFrame, pool=true);\n",
    "time_mapping = CSV.read(\"time_mapping.csv\", DataFrame, pool=true);\n",
    "time_mapping_5p = CSV.read(\"time_mapping_5p.csv\", DataFrame, pool=true);\n",
    "time_mapping_10p = CSV.read(\"time_mapping_10p.csv\", DataFrame, pool=true);\n",
    "time_mapping_50p = CSV.read(\"time_mapping_50p.csv\", DataFrame, pool=true);"
   ]
  },
  {
   "cell_type": "code",
   "execution_count": 3,
   "id": "b71d2258",
   "metadata": {},
   "outputs": [
    {
     "data": {
      "text/html": [
       "<div><div style = \"float: left;\"><span>10×2 DataFrame</span></div><div style = \"clear: both;\"></div></div><div class = \"data-frame\" style = \"overflow-x: scroll;\"><table class = \"data-frame\" style = \"margin-bottom: 6px;\"><thead><tr class = \"header\"><th class = \"rowNumber\" style = \"font-weight: bold; text-align: right;\">Row</th><th style = \"text-align: left;\">1</th><th style = \"text-align: left;\">2</th></tr><tr class = \"subheader headerLastRow\"><th class = \"rowNumber\" style = \"font-weight: bold; text-align: right;\"></th><th title = \"Int64\" style = \"text-align: left;\">Int64</th><th title = \"Int64\" style = \"text-align: left;\">Int64</th></tr></thead><tbody><tr><td class = \"rowNumber\" style = \"font-weight: bold; text-align: right;\">1</td><td style = \"text-align: right;\">6</td><td style = \"text-align: right;\">13</td></tr><tr><td class = \"rowNumber\" style = \"font-weight: bold; text-align: right;\">2</td><td style = \"text-align: right;\">6</td><td style = \"text-align: right;\">17</td></tr><tr><td class = \"rowNumber\" style = \"font-weight: bold; text-align: right;\">3</td><td style = \"text-align: right;\">8</td><td style = \"text-align: right;\">17</td></tr><tr><td class = \"rowNumber\" style = \"font-weight: bold; text-align: right;\">4</td><td style = \"text-align: right;\">13</td><td style = \"text-align: right;\">6</td></tr><tr><td class = \"rowNumber\" style = \"font-weight: bold; text-align: right;\">5</td><td style = \"text-align: right;\">13</td><td style = \"text-align: right;\">17</td></tr><tr><td class = \"rowNumber\" style = \"font-weight: bold; text-align: right;\">6</td><td style = \"text-align: right;\">17</td><td style = \"text-align: right;\">6</td></tr><tr><td class = \"rowNumber\" style = \"font-weight: bold; text-align: right;\">7</td><td style = \"text-align: right;\">17</td><td style = \"text-align: right;\">8</td></tr><tr><td class = \"rowNumber\" style = \"font-weight: bold; text-align: right;\">8</td><td style = \"text-align: right;\">17</td><td style = \"text-align: right;\">13</td></tr><tr><td class = \"rowNumber\" style = \"font-weight: bold; text-align: right;\">9</td><td style = \"text-align: right;\">17</td><td style = \"text-align: right;\">23</td></tr><tr><td class = \"rowNumber\" style = \"font-weight: bold; text-align: right;\">10</td><td style = \"text-align: right;\">23</td><td style = \"text-align: right;\">17</td></tr></tbody></table></div>"
      ],
      "text/latex": [
       "\\begin{tabular}{r|cc}\n",
       "\t& 1 & 2\\\\\n",
       "\t\\hline\n",
       "\t& Int64 & Int64\\\\\n",
       "\t\\hline\n",
       "\t1 & 6 & 13 \\\\\n",
       "\t2 & 6 & 17 \\\\\n",
       "\t3 & 8 & 17 \\\\\n",
       "\t4 & 13 & 6 \\\\\n",
       "\t5 & 13 & 17 \\\\\n",
       "\t6 & 17 & 6 \\\\\n",
       "\t7 & 17 & 8 \\\\\n",
       "\t8 & 17 & 13 \\\\\n",
       "\t9 & 17 & 23 \\\\\n",
       "\t10 & 23 & 17 \\\\\n",
       "\\end{tabular}\n"
      ],
      "text/plain": [
       "\u001b[1m10×2 DataFrame\n",
       "\u001b[1m Row │\u001b[1m 1     \u001b[1m 2\n",
       "     │\u001b[90m Int64 \u001b[90m Int64\n",
       "─────┼──────────────\n",
       "   1 │     6     13\n",
       "   2 │     6     17\n",
       "   3 │     8     17\n",
       "   4 │    13      6\n",
       "   5 │    13     17\n",
       "   6 │    17      6\n",
       "   7 │    17      8\n",
       "   8 │    17     13\n",
       "   9 │    17     23\n",
       "  10 │    23     17"
      ]
     },
     "execution_count": 3,
     "metadata": {},
     "output_type": "execute_result"
    }
   ],
   "source": [
    "hospital_mapping = hospital_mapping[:,2:end]\n",
    "\n",
    "patient_hospital_mapping = []\n",
    "max_transfers = maximum(Matrix(hospital_mapping))\n",
    "for i=1:max_transfers\n",
    "    transfers = sort(Tuple.(findall(>=(i), Matrix(hospital_mapping))))\n",
    "    for item in transfers\n",
    "        push!(patient_hospital_mapping, item)\n",
    "    end\n",
    "#    push!(patient_hospital_mapping, sort(Tuple.(findall(>=(i), Matrix(hospital_mapping))))[0])\n",
    "end\n",
    "\n",
    "df_patient_hospital_mapping = DataFrame(patient_hospital_mapping)\n",
    "\n",
    "# CSV.write(\"../data/sequence_with_time/df_patient_hospital_mapping.csv\", df_patient_hospital_mapping)\n"
   ]
  },
  {
   "cell_type": "code",
   "execution_count": 4,
   "id": "82ab1595",
   "metadata": {},
   "outputs": [],
   "source": [
    "distance_cost_vehicle_type_mapping = distance_cost_vehicle_type_mapping[:,2:end]\n",
    "\n",
    "fixed_cost_vehicle_type_mapping = fixed_cost_vehicle_type_mapping[:,2:end]\n",
    "\n",
    "vehicle_depot_mapping_binary = vehicle_depot_mapping_binary[:,2:end]\n",
    "\n",
    "vehicle_depot_mapping = copy(vehicle_depot_mapping_binary)\n",
    "\n",
    "for i = 1:size(vehicle_depot_mapping_binary)[2]\n",
    "    vehicle_depot_mapping[:,i] = i*vehicle_depot_mapping_binary[:,i]\n",
    "end\n",
    "\n",
    "vehicle_depot_mapping[:,1] = sum(eachcol(vehicle_depot_mapping))\n",
    "\n",
    "vehicle_depot_mapping = select!(vehicle_depot_mapping, [:depot1])\n",
    "\n",
    "distance_mapping = distance_mapping[:,3:end]\n",
    "\n",
    "time_mapping = time_mapping[:,3:end]\n",
    "\n",
    "# time_mapping_5pl = time_mapping_5pl[:,3:end]\n",
    "\n",
    "# time_mapping_5ph = time_mapping_5ph[:,3:end]\n",
    "\n",
    "electric_vehicles = filter(:type => n -> n == 2, vehicle_type)[:,\"vehicle_num\"];"
   ]
  },
  {
   "cell_type": "code",
   "execution_count": 5,
   "id": "03453fa0",
   "metadata": {},
   "outputs": [
    {
     "data": {
      "text/html": [
       "<div><div style = \"float: left;\"><span>4×1 DataFrame</span></div><div style = \"clear: both;\"></div></div><div class = \"data-frame\" style = \"overflow-x: scroll;\"><table class = \"data-frame\" style = \"margin-bottom: 6px;\"><thead><tr class = \"header\"><th class = \"rowNumber\" style = \"font-weight: bold; text-align: right;\">Row</th><th style = \"text-align: left;\">depot1</th></tr><tr class = \"subheader headerLastRow\"><th class = \"rowNumber\" style = \"font-weight: bold; text-align: right;\"></th><th title = \"Int64\" style = \"text-align: left;\">Int64</th></tr></thead><tbody><tr><td class = \"rowNumber\" style = \"font-weight: bold; text-align: right;\">1</td><td style = \"text-align: right;\">1</td></tr><tr><td class = \"rowNumber\" style = \"font-weight: bold; text-align: right;\">2</td><td style = \"text-align: right;\">2</td></tr><tr><td class = \"rowNumber\" style = \"font-weight: bold; text-align: right;\">3</td><td style = \"text-align: right;\">1</td></tr><tr><td class = \"rowNumber\" style = \"font-weight: bold; text-align: right;\">4</td><td style = \"text-align: right;\">1</td></tr></tbody></table></div>"
      ],
      "text/latex": [
       "\\begin{tabular}{r|c}\n",
       "\t& depot1\\\\\n",
       "\t\\hline\n",
       "\t& Int64\\\\\n",
       "\t\\hline\n",
       "\t1 & 1 \\\\\n",
       "\t2 & 2 \\\\\n",
       "\t3 & 1 \\\\\n",
       "\t4 & 1 \\\\\n",
       "\\end{tabular}\n"
      ],
      "text/plain": [
       "\u001b[1m4×1 DataFrame\n",
       "\u001b[1m Row │\u001b[1m depot1\n",
       "     │\u001b[90m Int64\n",
       "─────┼────────\n",
       "   1 │      1\n",
       "   2 │      2\n",
       "   3 │      1\n",
       "   4 │      1"
      ]
     },
     "execution_count": 5,
     "metadata": {},
     "output_type": "execute_result"
    }
   ],
   "source": [
    "n_depots = 2\n",
    "n_pickup = 10\n",
    "n_destination = n_pickup\n",
    "V = n_depots + n_pickup + n_destination    # Total locations\n",
    "\n",
    "depots = [1: 1: n_depots;]\n",
    "pickups = [1+n_depots: 1: n_depots+n_pickup;]\n",
    "destinations = [1+n_depots+n_pickup: 1: n_depots+n_pickup+n_destination;];\n",
    "\n",
    "# n_vehicles_types = maximum(vehicle_type[!,1])\n",
    "K = size(vehicle_type)[1] # n_vehicles\n",
    "\n",
    "# max_pickups_per_vehicle = 15\n",
    "\n",
    "max_time_per_vehicle = 8*60*60\n",
    "\n",
    "vehicle_depot_mapping"
   ]
  },
  {
   "cell_type": "code",
   "execution_count": 6,
   "id": "bfef4d12",
   "metadata": {},
   "outputs": [
    {
     "name": "stdout",
     "output_type": "stream",
     "text": [
      "3\n"
     ]
    },
    {
     "data": {
      "text/plain": [
       "4"
      ]
     },
     "execution_count": 6,
     "metadata": {},
     "output_type": "execute_result"
    }
   ],
   "source": [
    "distance_per_elec_charge = 60*1.6*1000\n",
    "\n",
    "for vehicle_num in electric_vehicles\n",
    "   println(vehicle_num) \n",
    "end\n",
    "\n",
    "#Ref: https://www.salary.com/research/salary/benchmark/ambulance-driver-hourly-wages\n",
    "# https://www.google.com/url?sa=t&rct=j&q=&esrc=s&source=web&cd=&cad=rja&uact=8&ved=2ahUKEwjPwvvuydz7AhXTMlkFHUjjD40QFnoECBoQAQ&url=https%3A%2F%2Fwww.payscale.com%2Fresearch%2FUS%2FJob%3DAmbulance_Driver%2FHourly_Rate%2Fef469288%2FBoston-MA&usg=AOvVaw0lTE_fdHxQ9ZcuvFwIDwtQ\n",
    "driver_hourly_wage = 16\n",
    "# max_pickups_per_vehicle = 8\n",
    "fixed_driver_cost = 50\n",
    "buffer_time = 20*60\n",
    "S = 4 # scenarios;"
   ]
  },
  {
   "cell_type": "code",
   "execution_count": 7,
   "id": "f9250014",
   "metadata": {},
   "outputs": [
    {
     "data": {
      "text/plain": [
       "2×1 Matrix{Float64}:\n",
       " 0.0005\n",
       " 3.0e-5"
      ]
     },
     "execution_count": 7,
     "metadata": {},
     "output_type": "execute_result"
    }
   ],
   "source": [
    "distance_cost_vehicle_type_mapping = Matrix(distance_cost_vehicle_type_mapping)"
   ]
  },
  {
   "cell_type": "code",
   "execution_count": 8,
   "id": "1e60ab94",
   "metadata": {
    "scrolled": true
   },
   "outputs": [
    {
     "data": {
      "text/plain": [
       "22×22 Matrix{Int64}:\n",
       "     0  12165  8263  8263  8127  17738  …  8263  8127  17738   6546   3230\n",
       " 13531      0  2492  2492  3018   5422     2492  3018   5422   6161   9749\n",
       " 11253   2955     0     0   590   6268        0   590   6268   6174   5676\n",
       " 11253   2955     0     0   590   6268        0   590   6268   6174   5676\n",
       " 11069   3481   590   590     0   6791      590     0   6791   6572   5492\n",
       " 16708   4612  5919  5919  6287      0  …  5919  6287      0  10307  11131\n",
       " 16708   4612  5919  5919  6287      0     5919  6287      0  10307  11131\n",
       "  6729   6813  5488  5488  5352  11693     5488  5352  11693   4807      0\n",
       "  6729   6813  5488  5488  5352  11693     5488  5352  11693   4807      0\n",
       "  6729   6813  5488  5488  5352  11693     5488  5352  11693   4807      0\n",
       "  6729   6813  5488  5488  5352  11693  …  5488  5352  11693   4807      0\n",
       "  8055   6797  6406  6406  9170  23611     6406  9170  23611      0   4273\n",
       " 16708   4612  5919  5919  6287      0     5919  6287      0  10307  11131\n",
       "  6729   6813  5488  5488  5352  11693     5488  5352  11693   4807      0\n",
       "  6729   6813  5488  5488  5352  11693     5488  5352  11693   4807      0\n",
       " 11253   2955     0     0   590   6268  …     0   590   6268   6174   5676\n",
       "  6729   6813  5488  5488  5352  11693     5488  5352  11693   4807      0\n",
       " 11253   2955     0     0   590   6268        0   590   6268   6174   5676\n",
       " 11069   3481   590   590     0   6791      590     0   6791   6572   5492\n",
       " 16708   4612  5919  5919  6287      0     5919  6287      0  10307  11131\n",
       "  8055   6797  6406  6406  9170  23611  …  6406  9170  23611      0   4273\n",
       "  6729   6813  5488  5488  5352  11693     5488  5352  11693   4807      0"
      ]
     },
     "execution_count": 8,
     "metadata": {},
     "output_type": "execute_result"
    }
   ],
   "source": [
    "distance_mapping = Matrix(distance_mapping)"
   ]
  },
  {
   "cell_type": "code",
   "execution_count": 9,
   "id": "59a54dfd",
   "metadata": {},
   "outputs": [
    {
     "data": {
      "text/plain": [
       "22"
      ]
     },
     "execution_count": 9,
     "metadata": {},
     "output_type": "execute_result"
    }
   ],
   "source": [
    "size_time = size(time_mapping,1)"
   ]
  },
  {
   "cell_type": "code",
   "execution_count": 10,
   "id": "67ca4a0a",
   "metadata": {},
   "outputs": [],
   "source": [
    "time_mapping_all = zeros(Int64, (size_time, size_time, 4))\n",
    "time_mapping_all[:,:,1] = Matrix(time_mapping)\n",
    "time_mapping_all[:,:,2] = Matrix(time_mapping_5p)\n",
    "time_mapping_all[:,:,3] = Matrix(time_mapping_10p)\n",
    "time_mapping_all[:,:,4] = Matrix(time_mapping_50p);"
   ]
  },
  {
   "cell_type": "code",
   "execution_count": null,
   "id": "50d0e098",
   "metadata": {},
   "outputs": [],
   "source": []
  },
  {
   "cell_type": "markdown",
   "id": "3acf8e55",
   "metadata": {},
   "source": []
  },
  {
   "cell_type": "code",
   "execution_count": 11,
   "id": "1b0b033f",
   "metadata": {
    "scrolled": false
   },
   "outputs": [
    {
     "name": "stdout",
     "output_type": "stream",
     "text": [
      "Set parameter Username\n",
      "Academic license - for non-commercial use only - expires 2023-08-18\n",
      "Set parameter Username\n",
      "Academic license - for non-commercial use only - expires 2023-08-18\n",
      "Set parameter TimeLimit to value 14400\n",
      "Set parameter TimeLimit to value 14400\n",
      "Gurobi Optimizer version 9.5.2 build v9.5.2rc0 (mac64[arm])\n",
      "Thread count: 8 physical cores, 8 logical processors, using up to 8 threads\n",
      "Optimize a model with 1993 rows, 2108 columns and 12124 nonzeros\n",
      "Model fingerprint: 0x3124a82f\n",
      "Variable types: 80 continuous, 2028 integer (1940 binary)\n",
      "Coefficient statistics:\n",
      "  Matrix range     [1e+00, 3e+03]\n",
      "  Objective range  [3e+00, 3e+01]\n",
      "  Bounds range     [2e+00, 2e+01]\n",
      "  RHS range        [1e+00, 1e+05]\n",
      "Presolve removed 1055 rows and 1144 columns\n",
      "Presolve time: 0.01s\n",
      "Presolved: 938 rows, 964 columns, 5120 nonzeros\n",
      "Variable types: 0 continuous, 964 integer (884 binary)\n",
      "\n",
      "Root relaxation: objective 1.557661e+02, 124 iterations, 0.00 seconds (0.00 work units)\n",
      "\n",
      "    Nodes    |    Current Node    |     Objective Bounds      |     Work\n",
      " Expl Unexpl |  Obj  Depth IntInf | Incumbent    BestBd   Gap | It/Node Time\n",
      "\n",
      "     0     0  155.76607    0   16          -  155.76607      -     -    0s\n",
      "H    0     0                     525.2777656  155.76607  70.3%     -    0s\n",
      "H    0     0                     506.1791544  155.76607  69.2%     -    0s\n",
      "H    0     0                     317.7833844  155.76607  51.0%     -    0s\n",
      "H    0     0                     246.4345989  155.76607  36.8%     -    0s\n",
      "     0     0  156.53946    0   27  246.43460  156.53946  36.5%     -    0s\n",
      "     0     0  157.26380    0   38  246.43460  157.26380  36.2%     -    0s\n",
      "     0     0  157.51894    0   30  246.43460  157.51894  36.1%     -    0s\n",
      "     0     0  157.53890    0   31  246.43460  157.53890  36.1%     -    0s\n",
      "     0     0  158.14190    0   23  246.43460  158.14190  35.8%     -    0s\n",
      "     0     0  158.53481    0   20  246.43460  158.53481  35.7%     -    0s\n",
      "     0     0  159.04509    0   53  246.43460  159.04509  35.5%     -    0s\n",
      "     0     0  159.06516    0   45  246.43460  159.06516  35.5%     -    0s\n",
      "     0     2  159.06516    0   40  246.43460  159.06516  35.5%     -    0s\n",
      "H   31    36                     235.5202100  159.06516  32.5%  17.5    0s\n",
      "H   35    36                     229.0364311  159.06516  30.6%  16.5    0s\n",
      "H   66    72                     207.9964744  159.06516  23.5%  15.0    0s\n",
      "H   89    84                     206.8276167  159.06516  23.1%  13.9    0s\n",
      "H   90    84                     206.1186389  159.06516  22.8%  13.8    0s\n",
      "H 1492  1091                     202.3316900  159.06516  21.4%   6.9    0s\n",
      "H 1493  1037                     200.7853056  159.06516  20.8%   6.9    0s\n",
      "* 5556  2549              76     199.3562411  164.07580  17.7%   9.0    1s\n",
      "H 9410  4608                     195.8854711  165.47869  15.5%   8.9    1s\n",
      "H11661  5346                     192.3030289  166.29579  13.5%   8.8    1s\n",
      "*28232 11535              47     192.2665744  170.33049  11.4%   9.3    2s\n",
      " 32457 12726  175.04538   56   21  192.26657  170.57439  11.3%   9.3    5s\n",
      " 84095 19886  182.93035   45   11  192.26657  173.06325  10.0%   9.0   10s\n",
      "*104670 25494              59     191.0243644  174.41558  8.69%   8.9   12s\n",
      " 134856 31230  181.57190   38   25  191.02436  175.94227  7.90%   8.9   15s\n",
      " 199348 37449  187.29349   44   17  191.02436  178.50509  6.55%   8.8   20s\n",
      " 260252 41734 infeasible   40       191.02436  180.39020  5.57%   8.7   25s\n",
      " 319056 40494  186.11580   45   26  191.02436  181.81164  4.82%   8.7   30s\n",
      " 384744 32514 infeasible   45       191.02436  183.62074  3.88%   8.6   35s\n",
      " 451051 18933 infeasible   42       191.02436  185.91116  2.68%   8.5   40s\n",
      "\n",
      "Cutting planes:\n",
      "  Gomory: 4\n",
      "  Lift-and-project: 3\n",
      "  Implied bound: 45\n",
      "  Projected implied bound: 2\n",
      "  MIR: 3\n",
      "  Flow cover: 29\n",
      "  GUB cover: 1\n",
      "  Zero half: 6\n",
      "  Relax-and-lift: 4\n",
      "\n",
      "Explored 483937 nodes (4070014 simplex iterations) in 42.42 seconds (63.13 work units)\n",
      "Thread count was 8 (of 8 available processors)\n",
      "\n",
      "Solution count 10: 191.024 192.267 192.303 ... 207.996\n",
      "\n",
      "Optimal solution found (tolerance 1.00e-04)\n",
      "Best objective 1.910243644444e+02, best bound 1.910243644444e+02, gap 0.0000%\n",
      "\n",
      "User-callback calls 982816, time in user-callback 0.15 sec\n"
     ]
    }
   ],
   "source": [
    "# Build model.\n",
    "model = Model(Gurobi.Optimizer)\n",
    "# set_optimizer_attribute(model, \"OutputFlag\", true)\n",
    "model = Model(optimizer_with_attributes(Gurobi.Optimizer, \"TimeLimit\" => 14400))\n",
    "\n",
    "\n",
    "# Insert variable.\n",
    "# We create a huge number of variables because we map multiple locations with the same index.\n",
    "@variable(model, x[i=1:V, j=1:V, k=1:K], Bin)\n",
    "@variable(model, y[k=1:K], Bin)\n",
    "@variable(model, u[i=1:V, k=1:K], Int)\n",
    "\n",
    "\n",
    "# Insert constraints.\n",
    "\n",
    "## Related with x.\n",
    "@constraint(model, [i=pickups[1]:pickups[n_pickup]], sum(sum(x[i,j,k] for j=1:V) for k=1:K) == 1)\n",
    "@constraint(model, [i=pickups[1]:pickups[n_pickup]], sum(x[i,i+n_pickup,k] for k=1:K) == 1)\n",
    "@constraint(model, [j=1:V, k=1:K], sum(x[i,j,k] for i=1:V) - sum(x[j,i,k] for i=1:V) == 0)\n",
    "# @constraint(model, [k=1:K], sum(sum(x[i,j,k] for j=1:V) for i=pickups[1]:pickups[n_pickup]) <= max_pickups_per_vehicle)\n",
    "@constraint(model, [k=1:K], sum(sum(x[i,j,k]*(time_mapping[i,j] + buffer_time) for j=1:V) for i=1:V) <= max_time_per_vehicle)\n",
    "\n",
    "for vehicle_num in electric_vehicles\n",
    "    @constraint(model, sum(sum(x[i,j,vehicle_num] for j=1:V) for i=1:V) <= distance_per_elec_charge)\n",
    "end\n",
    "\n",
    "\n",
    "@constraint(model, [i=depots[1]:depots[n_depots], j=depots[1]:depots[n_depots], k=1:K], x[i,j,k] == 0) ##############\n",
    "\n",
    "## Related with y.\n",
    "# @constraint(model, [k=1:K], sum(x[depots[vehicle_depot_mapping[k,1]],j,k] for j=pickups[1]:pickups[n_pickup]) <= y[k]*vehicle_depot_mapping_binary[k,depots[vehicle_depot_mapping[k,1]]])\n",
    "# @constraint(model, [i=1:V, j=1:V, k=1:K], x[i,j,k] <= y[k])\n",
    "\n",
    "@constraint(model, [i=depots[1]:depots[n_depots], j=1:V, k=1:K], x[i,j,k] <= y[k]*vehicle_depot_mapping_binary[k,i])\n",
    "# @constraint(model, [i=depots[1]:depots[n_depots], j=1:V, k=1:K], x[i,j,k] <= y[k])\n",
    "\n",
    "\n",
    "## Related with u.\n",
    "@constraint(model, [i=depots[1]:depots[n_depots], k=1:K], u[i,k] == 1)\n",
    "@constraint(model, [i=n_depots+1:V, j=n_depots+1:V, k=1:K], u[i,k] - u[j,k] + 1 <= (V-1)*(1-x[i,j,k]))\n",
    "@constraint(model, [i=n_depots+1:V, k=1:K], 2 <= u[i,k] <= V)\n",
    "\n",
    "# # Objective.\n",
    "# @objective(model, Min, \n",
    "#     sum(fixed_cost_vehicle_type_mapping[vehicle_type[k,2],1]*y[k] for k=1:K) +\n",
    "#     sum(sum(sum(distance_cost_vehicle_type_mapping[vehicle_type[k,2],1]*distance_mapping[i,j]*x[i,j,k] for i=1:V) for j=1:V) for k=1:K)\n",
    "# )\n",
    "\n",
    "# Objective.\n",
    "@objective(model, Min, \n",
    "    sum(fixed_cost_vehicle_type_mapping[vehicle_type[k,2],1]*y[k] for k=1:K) +\n",
    "    (driver_hourly_wage/3600)*(sum(sum(sum((time_mapping[i,j] + buffer_time)*x[i,j,k] for j=1:V) for i=1:V) for k=1:K)) +\n",
    "#     fixed_driver_cost*(sum(y[k] for k=1:K)) +\n",
    "    sum(sum(sum(distance_cost_vehicle_type_mapping[vehicle_type[k,2],1]*distance_mapping[i,j]*x[i,j,k] for i=1:V) for j=1:V) for k=1:K)\n",
    "#     (1/1000)*sum(sum(sum(distance_cost_vehicle_type_mapping[vehicle_type[k,2],1]*distance_mapping*x[:,:,k] for i=1:V) for j=1:V) for k=1:K)\n",
    ")\n",
    "\n",
    "\n",
    "# Optimize.\n",
    "optimize!(model)"
   ]
  },
  {
   "cell_type": "code",
   "execution_count": 12,
   "id": "a50b7d84",
   "metadata": {},
   "outputs": [
    {
     "name": "stdout",
     "output_type": "stream",
     "text": [
      "[0.0, 1.0, 1.0, 0.0]\n"
     ]
    }
   ],
   "source": [
    "x_sol = Dict()\n",
    "u_sol = Dict()\n",
    "path_mappings = Dict()\n",
    "sequences = Dict()\n",
    "\n",
    "for i=1:K\n",
    "    x_sol[i] = DataFrame(value.(x)[:,:,i], :auto);\n",
    "    u_sol[i] = value.(u)[:,i];\n",
    "    path_mappings[i] = sort(Tuple.(findall(>=(0.5), Matrix(x_sol[i]))))\n",
    "    sequences[i] = sort(DataFrame(Start=[1:1:size(u_sol[i])[1];], Sequence=u_sol[i]), :Sequence)\n",
    "end\n",
    "\n",
    "println(value.(y))"
   ]
  },
  {
   "cell_type": "code",
   "execution_count": 13,
   "id": "47f1c139",
   "metadata": {},
   "outputs": [
    {
     "name": "stdout",
     "output_type": "stream",
     "text": [
      "6.1\n",
      "170.40444444444444\n",
      "14.519919999999999\n"
     ]
    }
   ],
   "source": [
    "fixed_costs = sum(fixed_cost_vehicle_type_mapping[vehicle_type[k,2],1]*value.(y)[k] for k=1:K)\n",
    "println(fixed_costs)\n",
    "\n",
    "driver_wages = (driver_hourly_wage/3600)*(sum(sum(sum((time_mapping[i,j] + buffer_time)*value.(x)[i,j,k] for j=1:V) for i=1:V) for k=1:K))\n",
    "println(driver_wages)\n",
    "\n",
    "travelling_cost = sum(sum(sum(distance_cost_vehicle_type_mapping[vehicle_type[k,2],1]*distance_mapping[i,j]*value.(x)[i,j,k] for i=1:V) for j=1:V) for k=1:K)\n",
    "println(travelling_cost)"
   ]
  },
  {
   "cell_type": "code",
   "execution_count": 16,
   "id": "fcd1e794",
   "metadata": {},
   "outputs": [
    {
     "data": {
      "text/plain": [
       "81505.0"
      ]
     },
     "execution_count": 16,
     "metadata": {},
     "output_type": "execute_result"
    }
   ],
   "source": [
    "sum(sum(sum(distance_mapping[i,j]*value.(x)[i,j,k] for i=1:V) for j=1:V) for k=1:K)"
   ]
  },
  {
   "cell_type": "code",
   "execution_count": 17,
   "id": "37d6ab0b",
   "metadata": {},
   "outputs": [
    {
     "name": "stdout",
     "output_type": "stream",
     "text": [
      "The vehicle number we are talking about is: 1\n",
      "The vehicle number we are talking about is: 2\n",
      "The vehicle number we are talking about is: 3\n",
      "The vehicle number we are talking about is: 4\n",
      "Dict{Any, Any}(2 => Any[2, 4, 14, 11, 21, 12, 22, 8, 18], 3 => Any[1, 9, 19, 5, 15, 10, 20, 6, 16, 3, 13, 7, 17])Vehicle 1 is not used!\n",
      "Vehicle 4 is not used!\n"
     ]
    }
   ],
   "source": [
    "sequence_travelled = Dict()\n",
    "\n",
    "for vehicle_num = 1:K\n",
    "    println(\"The vehicle number we are talking about is: \", vehicle_num)\n",
    "    if size(path_mappings[vehicle_num])[1] == 0\n",
    "        continue\n",
    "    else\n",
    "        path = path_mappings[vehicle_num]\n",
    "        sequence = sort(sequences[vehicle_num], :Start)\n",
    "        sequence_dict = Dict(pairs(sequence.Sequence))\n",
    "        start_nodes = path[:,1]\n",
    "#         println(start_nodes)\n",
    "        nodes = []\n",
    "        sequence = []\n",
    "        \n",
    "        for node_index = 1:size(start_nodes)[1]\n",
    "            node_num = start_nodes[node_index][1]\n",
    "            seq = sequence_dict[start_nodes[node_index][1]]\n",
    "            push!(nodes, node_num)\n",
    "            push!(sequence, seq)\n",
    "#             println(nodes)\n",
    "#             println(sequence_dict[start_nodes[node_index][1]])\n",
    "        end\n",
    "        \n",
    "#         println(sort(DataFrame(Nodes=nodes, VistedAt=sequence), :VistedAt))\n",
    "        sequence_travelled[vehicle_num] = sort(DataFrame(Nodes=nodes, VistedAt=sequence), :VistedAt)[:,1]\n",
    "        \n",
    "#         nodes_travelled[vehicle_num] = nodes\n",
    "#         sequence_travelled[vehicle_num] = sequence\n",
    "    end\n",
    "end\n",
    "\n",
    "print(sequence_travelled)\n",
    "\n",
    "total_cost = objective_value.(model)\n",
    "\n",
    "\n",
    "for i=1:K\n",
    "    path_map = path_mappings[i]\n",
    "#     CSV.write(\"df_sequence_mapping_$i.csv\", DataFrame(path_map))\n",
    "    try\n",
    "        sequence_map = sequence_travelled[i]\n",
    "#         CSV.write(\"sequence_$i.csv\",  Tables.table(sequence_map), writeheader=false)\n",
    "    catch\n",
    "        println(\"Vehicle $i is not used!\")\n",
    "    end\n",
    "end"
   ]
  },
  {
   "cell_type": "code",
   "execution_count": null,
   "id": "c9da91f2",
   "metadata": {},
   "outputs": [],
   "source": []
  },
  {
   "cell_type": "code",
   "execution_count": 18,
   "id": "0cebac9a",
   "metadata": {},
   "outputs": [
    {
     "name": "stdout",
     "output_type": "stream",
     "text": [
      "Set parameter Username\n",
      "Academic license - for non-commercial use only - expires 2023-08-18\n",
      "Set parameter Username\n",
      "Academic license - for non-commercial use only - expires 2023-08-18\n",
      "Set parameter TimeLimit to value 14400\n",
      "Set parameter TimeLimit to value 14400\n",
      "Gurobi Optimizer version 9.5.2 build v9.5.2rc0 (mac64[arm])\n",
      "Thread count: 8 physical cores, 8 logical processors, using up to 8 threads\n",
      "Optimize a model with 1993 rows, 2108 columns and 12124 nonzeros\n",
      "Model fingerprint: 0xbd996040\n",
      "Variable types: 80 continuous, 2028 integer (1940 binary)\n",
      "Coefficient statistics:\n",
      "  Matrix range     [1e+00, 3e+03]\n",
      "  Objective range  [3e+00, 3e+01]\n",
      "  Bounds range     [2e+00, 2e+01]\n",
      "  RHS range        [1e+00, 1e+05]\n",
      "Presolve removed 1055 rows and 1144 columns\n",
      "Presolve time: 0.01s\n",
      "Presolved: 938 rows, 964 columns, 5120 nonzeros\n",
      "Variable types: 0 continuous, 964 integer (884 binary)\n",
      "\n",
      "Root relaxation: objective 1.556479e+02, 124 iterations, 0.00 seconds (0.00 work units)\n",
      "\n",
      "    Nodes    |    Current Node    |     Objective Bounds      |     Work\n",
      " Expl Unexpl |  Obj  Depth IntInf | Incumbent    BestBd   Gap | It/Node Time\n",
      "\n",
      "     0     0  155.64790    0   16          -  155.64790      -     -    0s\n",
      "H    0     0                     520.2432667  155.64790  70.1%     -    0s\n",
      "H    0     0                     486.4822667  155.64790  68.0%     -    0s\n",
      "H    0     0                     317.8900511  155.64790  51.0%     -    0s\n",
      "H    0     0                     288.0919522  155.64790  46.0%     -    0s\n",
      "     0     0  156.55507    0   28  288.09195  156.55507  45.7%     -    0s\n",
      "     0     0  157.33663    0   32  288.09195  157.33663  45.4%     -    0s\n",
      "     0     0  157.39085    0   37  288.09195  157.39085  45.4%     -    0s\n",
      "H    0     0                     287.9497300  157.39085  45.3%     -    0s\n",
      "     0     0  157.42829    0   29  287.94973  157.42829  45.3%     -    0s\n",
      "H    0     0                     282.0136322  157.50167  44.2%     -    0s\n",
      "     0     0  157.71849    0   55  282.01363  157.71849  44.1%     -    0s\n",
      "     0     0  157.96760    0   53  282.01363  157.96760  44.0%     -    0s\n",
      "H    0     0                     277.6930722  158.77786  42.8%     -    0s\n",
      "H    0     0                     262.6565189  158.77786  39.5%     -    0s\n",
      "     0     0  158.79154    0   66  262.65652  158.79154  39.5%     -    0s\n",
      "H    0     0                     255.3954078  158.79154  37.8%     -    0s\n",
      "     0     0  158.79154    0   51  255.39541  158.79154  37.8%     -    0s\n",
      "H    0     0                     250.2131856  158.79154  36.5%     -    0s\n",
      "H    0     2                     233.8205189  158.79154  32.1%     -    0s\n",
      "     0     2  158.79154    0   51  233.82052  158.79154  32.1%     -    0s\n",
      "H   38    40                     218.6201644  158.79154  27.4%  16.3    0s\n",
      "H   72    75                     214.4544633  158.79154  26.0%  13.5    0s\n",
      "H   81    88                     208.1020633  158.79154  23.7%  13.2    0s\n",
      "H   85    88                     202.7675633  158.79154  21.7%  13.2    0s\n",
      "H   93    88                     202.2132811  158.79154  21.5%  12.5    0s\n",
      "H  558   499                     196.0551433  158.79154  19.0%   8.2    0s\n",
      "H 1930  1097                     192.1519178  159.29798  17.1%   8.3    0s\n",
      "H 4345  1599                     192.1021867  164.04450  14.6%   8.6    1s\n",
      "H 7440  3093                     192.0811444  166.18645  13.5%   8.8    1s\n",
      " 29238 11068  171.67566   19   72  192.08114  171.67566  10.6%   9.2    5s\n",
      " 72943 17690  171.94521   38   15  192.08114  171.67566  10.6%   9.5   10s\n",
      " 118550 29723  190.32935   44   19  192.08114  173.57247  9.64%   9.5   15s\n",
      "H163669 39609                     190.8065867  175.36889  8.09%   9.5   18s\n",
      " 178145 41851  187.00447   48   15  190.80659  175.81436  7.86%   9.5   20s\n",
      " 239456 48750  187.05529   46   17  190.80659  177.70502  6.87%   9.4   25s\n",
      " 295970 53645 infeasible   40       190.80659  179.28335  6.04%   9.4   30s\n",
      " 354166 55752 infeasible   34       190.80659  180.48686  5.41%   9.3   35s\n",
      " 411946 53816  183.89387   50   12  190.80659  181.56287  4.84%   9.3   40s\n",
      " 478026 47032  184.44940   46   19  190.80659  182.91134  4.14%   9.2   45s\n",
      " 545467 35124 infeasible   48       190.80659  184.52693  3.29%   9.0   50s\n",
      " 613838  8105     cutoff   47       190.80659  187.97647  1.48%   8.8   55s\n",
      "\n",
      "Cutting planes:\n",
      "  Gomory: 5\n",
      "  Lift-and-project: 7\n",
      "  Cover: 1\n",
      "  Implied bound: 41\n",
      "  Projected implied bound: 2\n",
      "  MIR: 1\n",
      "  Flow cover: 23\n",
      "  GUB cover: 1\n",
      "  Zero half: 1\n",
      "  RLT: 2\n",
      "  Relax-and-lift: 1\n",
      "\n",
      "Explored 625424 nodes (5487233 simplex iterations) in 55.69 seconds (74.82 work units)\n",
      "Thread count was 8 (of 8 available processors)\n",
      "\n",
      "Solution count 10: 190.807 192.081 192.102 ... 218.62\n",
      "\n",
      "Optimal solution found (tolerance 1.00e-04)\n",
      "Best objective 1.908065866667e+02, best bound 1.908065866667e+02, gap 0.0000%\n",
      "\n",
      "User-callback calls 1267805, time in user-callback 0.27 sec\n"
     ]
    }
   ],
   "source": [
    "# Build model.\n",
    "model = Model(Gurobi.Optimizer)\n",
    "# set_optimizer_attribute(model, \"OutputFlag\", true)\n",
    "model = Model(optimizer_with_attributes(Gurobi.Optimizer, \"TimeLimit\" => 14400))\n",
    "\n",
    "\n",
    "# Insert variable.\n",
    "# We create a huge number of variables because we map multiple locations with the same index.\n",
    "@variable(model, x[i=1:V, j=1:V, k=1:K], Bin)\n",
    "@variable(model, y[k=1:K], Bin)\n",
    "@variable(model, u[i=1:V, k=1:K], Int)\n",
    "\n",
    "\n",
    "# Insert constraints.\n",
    "\n",
    "## Related with x.\n",
    "@constraint(model, [i=pickups[1]:pickups[n_pickup]], sum(sum(x[i,j,k] for j=1:V) for k=1:K) == 1)\n",
    "@constraint(model, [i=pickups[1]:pickups[n_pickup]], sum(x[i,i+n_pickup,k] for k=1:K) == 1)\n",
    "@constraint(model, [j=1:V, k=1:K], sum(x[i,j,k] for i=1:V) - sum(x[j,i,k] for i=1:V) == 0)\n",
    "# @constraint(model, [k=1:K], sum(sum(x[i,j,k] for j=1:V) for i=pickups[1]:pickups[n_pickup]) <= max_pickups_per_vehicle)\n",
    "@constraint(model, [k=1:K], sum(sum(x[i,j,k]*(time_mapping_5p[i,j] + buffer_time) for j=1:V) for i=1:V) <= max_time_per_vehicle)\n",
    "\n",
    "for vehicle_num in electric_vehicles\n",
    "    @constraint(model, sum(sum(x[i,j,vehicle_num] for j=1:V) for i=1:V) <= distance_per_elec_charge)\n",
    "end\n",
    "\n",
    "\n",
    "@constraint(model, [i=depots[1]:depots[n_depots], j=depots[1]:depots[n_depots], k=1:K], x[i,j,k] == 0) ##############\n",
    "\n",
    "## Related with y.\n",
    "# @constraint(model, [k=1:K], sum(x[depots[vehicle_depot_mapping[k,1]],j,k] for j=pickups[1]:pickups[n_pickup]) <= y[k]*vehicle_depot_mapping_binary[k,depots[vehicle_depot_mapping[k,1]]])\n",
    "# @constraint(model, [i=1:V, j=1:V, k=1:K], x[i,j,k] <= y[k])\n",
    "\n",
    "@constraint(model, [i=depots[1]:depots[n_depots], j=1:V, k=1:K], x[i,j,k] <= y[k]*vehicle_depot_mapping_binary[k,i])\n",
    "# @constraint(model, [i=depots[1]:depots[n_depots], j=1:V, k=1:K], x[i,j,k] <= y[k])\n",
    "\n",
    "\n",
    "## Related with u.\n",
    "@constraint(model, [i=depots[1]:depots[n_depots], k=1:K], u[i,k] == 1)\n",
    "@constraint(model, [i=n_depots+1:V, j=n_depots+1:V, k=1:K], u[i,k] - u[j,k] + 1 <= (V-1)*(1-x[i,j,k]))\n",
    "@constraint(model, [i=n_depots+1:V, k=1:K], 2 <= u[i,k] <= V)\n",
    "\n",
    "# # Objective.\n",
    "# @objective(model, Min, \n",
    "#     sum(fixed_cost_vehicle_type_mapping[vehicle_type[k,2],1]*y[k] for k=1:K) +\n",
    "#     sum(sum(sum(distance_cost_vehicle_type_mapping[vehicle_type[k,2],1]*distance_mapping[i,j]*x[i,j,k] for i=1:V) for j=1:V) for k=1:K)\n",
    "# )\n",
    "\n",
    "# Objective.\n",
    "@objective(model, Min, \n",
    "    sum(fixed_cost_vehicle_type_mapping[vehicle_type[k,2],1]*y[k] for k=1:K) +\n",
    "    (driver_hourly_wage/3600)*(sum(sum(sum((time_mapping_5p[i,j] + buffer_time)*x[i,j,k] for j=1:V) for i=1:V) for k=1:K)) +\n",
    "#     fixed_driver_cost*(sum(y[k] for k=1:K)) +\n",
    "    sum(sum(sum(distance_cost_vehicle_type_mapping[vehicle_type[k,2],1]*distance_mapping[i,j]*x[i,j,k] for i=1:V) for j=1:V) for k=1:K)\n",
    "#     (1/1000)*sum(sum(sum(distance_cost_vehicle_type_mapping[vehicle_type[k,2],1]*distance_mapping*x[:,:,k] for i=1:V) for j=1:V) for k=1:K)\n",
    ")\n",
    "\n",
    "\n",
    "# Optimize.\n",
    "optimize!(model)"
   ]
  },
  {
   "cell_type": "code",
   "execution_count": 19,
   "id": "e7b64830",
   "metadata": {},
   "outputs": [
    {
     "name": "stdout",
     "output_type": "stream",
     "text": [
      "[0.0, 1.0, 1.0, 0.0]\n"
     ]
    }
   ],
   "source": [
    "x_sol = Dict()\n",
    "u_sol = Dict()\n",
    "path_mappings = Dict()\n",
    "sequences = Dict()\n",
    "\n",
    "for i=1:K\n",
    "    x_sol[i] = DataFrame(value.(x)[:,:,i], :auto);\n",
    "    u_sol[i] = value.(u)[:,i];\n",
    "    path_mappings[i] = sort(Tuple.(findall(>=(0.5), Matrix(x_sol[i]))))\n",
    "    sequences[i] = sort(DataFrame(Start=[1:1:size(u_sol[i])[1];], Sequence=u_sol[i]), :Sequence)\n",
    "end\n",
    "\n",
    "println(value.(y))"
   ]
  },
  {
   "cell_type": "code",
   "execution_count": 20,
   "id": "b88a793e",
   "metadata": {},
   "outputs": [
    {
     "name": "stdout",
     "output_type": "stream",
     "text": [
      "6.1\n",
      "170.18666666666667\n",
      "14.519919999999999\n"
     ]
    }
   ],
   "source": [
    "fixed_costs = sum(fixed_cost_vehicle_type_mapping[vehicle_type[k,2],1]*value.(y)[k] for k=1:K)\n",
    "println(fixed_costs)\n",
    "\n",
    "driver_wages = (driver_hourly_wage/3600)*(sum(sum(sum((time_mapping_5p[i,j] + buffer_time)*value.(x)[i,j,k] for j=1:V) for i=1:V) for k=1:K))\n",
    "println(driver_wages)\n",
    "\n",
    "travelling_cost = sum(sum(sum(distance_cost_vehicle_type_mapping[vehicle_type[k,2],1]*distance_mapping[i,j]*value.(x)[i,j,k] for i=1:V) for j=1:V) for k=1:K)\n",
    "println(travelling_cost)"
   ]
  },
  {
   "cell_type": "code",
   "execution_count": 21,
   "id": "a7203ca1",
   "metadata": {},
   "outputs": [
    {
     "data": {
      "text/plain": [
       "81505.0"
      ]
     },
     "execution_count": 21,
     "metadata": {},
     "output_type": "execute_result"
    }
   ],
   "source": [
    "sum(sum(sum(distance_mapping[i,j]*value.(x)[i,j,k] for i=1:V) for j=1:V) for k=1:K)"
   ]
  },
  {
   "cell_type": "code",
   "execution_count": 22,
   "id": "b8fbed6b",
   "metadata": {},
   "outputs": [
    {
     "name": "stdout",
     "output_type": "stream",
     "text": [
      "The vehicle number we are talking about is: 1\n",
      "The vehicle number we are talking about is: 2\n",
      "The vehicle number we are talking about is: 3\n",
      "The vehicle number we are talking about is: 4\n",
      "Dict{Any, Any}(2 => Any[2, 4, 14, 11, 21, 12, 22, 8, 18], 3 => Any[1, 9, 19, 5, 15, 10, 20, 6, 16, 3, 13, 7, 17])Vehicle 1 is not used!\n",
      "Vehicle 4 is not used!\n"
     ]
    }
   ],
   "source": [
    "sequence_travelled = Dict()\n",
    "\n",
    "for vehicle_num = 1:K\n",
    "    println(\"The vehicle number we are talking about is: \", vehicle_num)\n",
    "    if size(path_mappings[vehicle_num])[1] == 0\n",
    "        continue\n",
    "    else\n",
    "        path = path_mappings[vehicle_num]\n",
    "        sequence = sort(sequences[vehicle_num], :Start)\n",
    "        sequence_dict = Dict(pairs(sequence.Sequence))\n",
    "        start_nodes = path[:,1]\n",
    "#         println(start_nodes)\n",
    "        nodes = []\n",
    "        sequence = []\n",
    "        \n",
    "        for node_index = 1:size(start_nodes)[1]\n",
    "            node_num = start_nodes[node_index][1]\n",
    "            seq = sequence_dict[start_nodes[node_index][1]]\n",
    "            push!(nodes, node_num)\n",
    "            push!(sequence, seq)\n",
    "#             println(nodes)\n",
    "#             println(sequence_dict[start_nodes[node_index][1]])\n",
    "        end\n",
    "        \n",
    "#         println(sort(DataFrame(Nodes=nodes, VistedAt=sequence), :VistedAt))\n",
    "        sequence_travelled[vehicle_num] = sort(DataFrame(Nodes=nodes, VistedAt=sequence), :VistedAt)[:,1]\n",
    "        \n",
    "#         nodes_travelled[vehicle_num] = nodes\n",
    "#         sequence_travelled[vehicle_num] = sequence\n",
    "    end\n",
    "end\n",
    "\n",
    "print(sequence_travelled)\n",
    "\n",
    "total_cost = objective_value.(model)\n",
    "\n",
    "\n",
    "for i=1:K\n",
    "    path_map = path_mappings[i]\n",
    "#     CSV.write(\"df_sequence_mapping_$i.csv\", DataFrame(path_map))\n",
    "    try\n",
    "        sequence_map = sequence_travelled[i]\n",
    "#         CSV.write(\"sequence_$i.csv\",  Tables.table(sequence_map), writeheader=false)\n",
    "    catch\n",
    "        println(\"Vehicle $i is not used!\")\n",
    "    end\n",
    "end"
   ]
  },
  {
   "cell_type": "code",
   "execution_count": null,
   "id": "ae8d9f86",
   "metadata": {},
   "outputs": [],
   "source": []
  },
  {
   "cell_type": "code",
   "execution_count": null,
   "id": "7e4582ac",
   "metadata": {},
   "outputs": [],
   "source": []
  },
  {
   "cell_type": "code",
   "execution_count": 23,
   "id": "e2791116",
   "metadata": {},
   "outputs": [
    {
     "name": "stdout",
     "output_type": "stream",
     "text": [
      "Set parameter Username\n",
      "Academic license - for non-commercial use only - expires 2023-08-18\n",
      "Set parameter Username\n",
      "Academic license - for non-commercial use only - expires 2023-08-18\n",
      "Set parameter TimeLimit to value 14400\n",
      "Set parameter TimeLimit to value 14400\n",
      "Gurobi Optimizer version 9.5.2 build v9.5.2rc0 (mac64[arm])\n",
      "Thread count: 8 physical cores, 8 logical processors, using up to 8 threads\n",
      "Optimize a model with 1993 rows, 2108 columns and 12124 nonzeros\n",
      "Model fingerprint: 0x301f0760\n",
      "Variable types: 80 continuous, 2028 integer (1940 binary)\n",
      "Coefficient statistics:\n",
      "  Matrix range     [1e+00, 3e+03]\n",
      "  Objective range  [3e+00, 3e+01]\n",
      "  Bounds range     [2e+00, 2e+01]\n",
      "  RHS range        [1e+00, 1e+05]\n",
      "Presolve removed 1055 rows and 1144 columns\n",
      "Presolve time: 0.01s\n",
      "Presolved: 938 rows, 964 columns, 5120 nonzeros\n",
      "Variable types: 0 continuous, 964 integer (884 binary)\n",
      "\n",
      "Root relaxation: objective 1.564305e+02, 122 iterations, 0.00 seconds (0.00 work units)\n",
      "\n",
      "    Nodes    |    Current Node    |     Objective Bounds      |     Work\n",
      " Expl Unexpl |  Obj  Depth IntInf | Incumbent    BestBd   Gap | It/Node Time\n",
      "\n",
      "     0     0  156.43045    0   19          -  156.43045      -     -    0s\n",
      "H    0     0                     412.5980089  156.43045  62.1%     -    0s\n",
      "H    0     0                     406.8824533  156.43045  61.6%     -    0s\n",
      "H    0     0                     317.4189400  156.43045  50.7%     -    0s\n",
      "H    0     0                     310.6755267  156.43045  49.6%     -    0s\n",
      "H    0     0                     262.1439833  156.43045  40.3%     -    0s\n",
      "     0     0  157.11279    0   32  262.14398  157.11279  40.1%     -    0s\n",
      "H    0     0                     222.6062378  157.11279  29.4%     -    0s\n",
      "     0     0  157.29062    0   32  222.60624  157.29062  29.3%     -    0s\n",
      "     0     0  157.42661    0   34  222.60624  157.42661  29.3%     -    0s\n",
      "     0     0  157.82314    0   40  222.60624  157.82314  29.1%     -    0s\n",
      "     0     0  158.19052    0   51  222.60624  158.19052  28.9%     -    0s\n",
      "     0     0  158.20382    0   38  222.60624  158.20382  28.9%     -    0s\n",
      "     0     2  158.20382    0   38  222.60624  158.20382  28.9%     -    0s\n",
      "H   37    35                     217.1306822  158.20382  27.1%  15.4    0s\n",
      "H   78    68                     197.4745422  158.20382  19.9%  13.7    0s\n",
      "H   81    77                     194.0647778  158.20382  18.5%  13.5    0s\n",
      "H  558   427                     192.6312222  158.22430  17.9%   7.4    0s\n",
      " 29659 12781  180.49936   22   32  192.63122  168.28917  12.6%   8.3    5s\n",
      "H29835 12228                     192.4090000  168.28917  12.5%   8.3    5s\n",
      "H36076 12914                     191.8776978  168.28917  12.3%   8.4    6s\n",
      "H45156 13011                     191.7976978  168.28917  12.3%   8.6    7s\n",
      " 65702 15141     cutoff   42       191.79770  170.80012  10.9%   8.8   10s\n",
      " 116632 28118  182.95191   55   29  191.79770  174.48683  9.03%   9.0   15s\n",
      " 176392 40374  188.94998   44    9  191.79770  176.89479  7.77%   8.9   20s\n",
      " 242359 47675  187.34835   45   13  191.79770  178.70273  6.83%   8.8   25s\n",
      " 311970 54252  182.93930   42   31  191.79770  180.35742  5.96%   8.6   30s\n",
      " 376054 56425 infeasible   39       191.79770  181.62421  5.30%   8.6   35s\n",
      " 435891 53490  183.99302   35   17  191.79770  182.72597  4.73%   8.6   40s\n",
      " 500340 46128  191.06597   41   15  191.79770  184.01926  4.06%   8.6   45s\n",
      " 565699 35812  185.53261   50   40  191.79770  185.52122  3.27%   8.5   50s\n",
      " 635687  6063     cutoff   44       191.79770  189.49243  1.20%   8.4   55s\n",
      "\n",
      "Cutting planes:\n",
      "  Lift-and-project: 2\n",
      "  Cover: 1\n",
      "  Implied bound: 3\n",
      "  MIR: 3\n",
      "  StrongCG: 1\n",
      "  Flow cover: 16\n",
      "  RLT: 1\n",
      "  Relax-and-lift: 1\n",
      "\n",
      "Explored 644012 nodes (5416773 simplex iterations) in 55.45 seconds (69.54 work units)\n",
      "Thread count was 8 (of 8 available processors)\n",
      "\n",
      "Solution count 10: 191.798 191.878 192.409 ... 310.676\n",
      "\n",
      "Optimal solution found (tolerance 1.00e-04)\n",
      "Best objective 1.917976977778e+02, best bound 1.917976977778e+02, gap 0.0000%\n",
      "\n",
      "User-callback calls 1305623, time in user-callback 0.25 sec\n"
     ]
    }
   ],
   "source": [
    "# Build model.\n",
    "model = Model(Gurobi.Optimizer)\n",
    "# set_optimizer_attribute(model, \"OutputFlag\", true)\n",
    "model = Model(optimizer_with_attributes(Gurobi.Optimizer, \"TimeLimit\" => 14400))\n",
    "\n",
    "\n",
    "# Insert variable.\n",
    "# We create a huge number of variables because we map multiple locations with the same index.\n",
    "@variable(model, x[i=1:V, j=1:V, k=1:K], Bin)\n",
    "@variable(model, y[k=1:K], Bin)\n",
    "@variable(model, u[i=1:V, k=1:K], Int)\n",
    "\n",
    "\n",
    "# Insert constraints.\n",
    "\n",
    "## Related with x.\n",
    "@constraint(model, [i=pickups[1]:pickups[n_pickup]], sum(sum(x[i,j,k] for j=1:V) for k=1:K) == 1)\n",
    "@constraint(model, [i=pickups[1]:pickups[n_pickup]], sum(x[i,i+n_pickup,k] for k=1:K) == 1)\n",
    "@constraint(model, [j=1:V, k=1:K], sum(x[i,j,k] for i=1:V) - sum(x[j,i,k] for i=1:V) == 0)\n",
    "# @constraint(model, [k=1:K], sum(sum(x[i,j,k] for j=1:V) for i=pickups[1]:pickups[n_pickup]) <= max_pickups_per_vehicle)\n",
    "@constraint(model, [k=1:K], sum(sum(x[i,j,k]*(time_mapping_10p[i,j] + buffer_time) for j=1:V) for i=1:V) <= max_time_per_vehicle)\n",
    "\n",
    "for vehicle_num in electric_vehicles\n",
    "    @constraint(model, sum(sum(x[i,j,vehicle_num] for j=1:V) for i=1:V) <= distance_per_elec_charge)\n",
    "end\n",
    "\n",
    "\n",
    "@constraint(model, [i=depots[1]:depots[n_depots], j=depots[1]:depots[n_depots], k=1:K], x[i,j,k] == 0) ##############\n",
    "\n",
    "## Related with y.\n",
    "# @constraint(model, [k=1:K], sum(x[depots[vehicle_depot_mapping[k,1]],j,k] for j=pickups[1]:pickups[n_pickup]) <= y[k]*vehicle_depot_mapping_binary[k,depots[vehicle_depot_mapping[k,1]]])\n",
    "# @constraint(model, [i=1:V, j=1:V, k=1:K], x[i,j,k] <= y[k])\n",
    "\n",
    "@constraint(model, [i=depots[1]:depots[n_depots], j=1:V, k=1:K], x[i,j,k] <= y[k]*vehicle_depot_mapping_binary[k,i])\n",
    "# @constraint(model, [i=depots[1]:depots[n_depots], j=1:V, k=1:K], x[i,j,k] <= y[k])\n",
    "\n",
    "\n",
    "## Related with u.\n",
    "@constraint(model, [i=depots[1]:depots[n_depots], k=1:K], u[i,k] == 1)\n",
    "@constraint(model, [i=n_depots+1:V, j=n_depots+1:V, k=1:K], u[i,k] - u[j,k] + 1 <= (V-1)*(1-x[i,j,k]))\n",
    "@constraint(model, [i=n_depots+1:V, k=1:K], 2 <= u[i,k] <= V)\n",
    "\n",
    "# # Objective.\n",
    "# @objective(model, Min, \n",
    "#     sum(fixed_cost_vehicle_type_mapping[vehicle_type[k,2],1]*y[k] for k=1:K) +\n",
    "#     sum(sum(sum(distance_cost_vehicle_type_mapping[vehicle_type[k,2],1]*distance_mapping[i,j]*x[i,j,k] for i=1:V) for j=1:V) for k=1:K)\n",
    "# )\n",
    "\n",
    "# Objective.\n",
    "@objective(model, Min, \n",
    "    sum(fixed_cost_vehicle_type_mapping[vehicle_type[k,2],1]*y[k] for k=1:K) +\n",
    "    (driver_hourly_wage/3600)*(sum(sum(sum((time_mapping_10p[i,j] + buffer_time)*x[i,j,k] for j=1:V) for i=1:V) for k=1:K)) +\n",
    "#     fixed_driver_cost*(sum(y[k] for k=1:K)) +\n",
    "    sum(sum(sum(distance_cost_vehicle_type_mapping[vehicle_type[k,2],1]*distance_mapping[i,j]*x[i,j,k] for i=1:V) for j=1:V) for k=1:K)\n",
    "#     (1/1000)*sum(sum(sum(distance_cost_vehicle_type_mapping[vehicle_type[k,2],1]*distance_mapping*x[:,:,k] for i=1:V) for j=1:V) for k=1:K)\n",
    ")\n",
    "\n",
    "\n",
    "# Optimize.\n",
    "optimize!(model)"
   ]
  },
  {
   "cell_type": "code",
   "execution_count": 24,
   "id": "0fcf9da5",
   "metadata": {},
   "outputs": [
    {
     "name": "stdout",
     "output_type": "stream",
     "text": [
      "[0.0, 1.0, 1.0, 0.0]\n"
     ]
    }
   ],
   "source": [
    "x_sol = Dict()\n",
    "u_sol = Dict()\n",
    "path_mappings = Dict()\n",
    "sequences = Dict()\n",
    "\n",
    "for i=1:K\n",
    "    x_sol[i] = DataFrame(value.(x)[:,:,i], :auto);\n",
    "    u_sol[i] = value.(u)[:,i];\n",
    "    path_mappings[i] = sort(Tuple.(findall(>=(0.5), Matrix(x_sol[i]))))\n",
    "    sequences[i] = sort(DataFrame(Start=[1:1:size(u_sol[i])[1];], Sequence=u_sol[i]), :Sequence)\n",
    "end\n",
    "\n",
    "println(value.(y))"
   ]
  },
  {
   "cell_type": "code",
   "execution_count": 25,
   "id": "da8916e6",
   "metadata": {},
   "outputs": [
    {
     "name": "stdout",
     "output_type": "stream",
     "text": [
      "6.1\n",
      "171.17777777777778\n",
      "14.519919999999999\n"
     ]
    }
   ],
   "source": [
    "fixed_costs = sum(fixed_cost_vehicle_type_mapping[vehicle_type[k,2],1]*value.(y)[k] for k=1:K)\n",
    "println(fixed_costs)\n",
    "\n",
    "driver_wages = (driver_hourly_wage/3600)*(sum(sum(sum((time_mapping_10p[i,j] + buffer_time)*value.(x)[i,j,k] for j=1:V) for i=1:V) for k=1:K))\n",
    "println(driver_wages)\n",
    "\n",
    "travelling_cost = sum(sum(sum(distance_cost_vehicle_type_mapping[vehicle_type[k,2],1]*distance_mapping[i,j]*value.(x)[i,j,k] for i=1:V) for j=1:V) for k=1:K)\n",
    "println(travelling_cost)"
   ]
  },
  {
   "cell_type": "code",
   "execution_count": 26,
   "id": "e8c53501",
   "metadata": {},
   "outputs": [
    {
     "data": {
      "text/plain": [
       "81505.0"
      ]
     },
     "execution_count": 26,
     "metadata": {},
     "output_type": "execute_result"
    }
   ],
   "source": [
    "sum(sum(sum(distance_mapping[i,j]*value.(x)[i,j,k] for i=1:V) for j=1:V) for k=1:K)"
   ]
  },
  {
   "cell_type": "code",
   "execution_count": 27,
   "id": "2783b2ba",
   "metadata": {},
   "outputs": [
    {
     "name": "stdout",
     "output_type": "stream",
     "text": [
      "The vehicle number we are talking about is: 1\n",
      "The vehicle number we are talking about is: 2\n",
      "The vehicle number we are talking about is: 3\n",
      "The vehicle number we are talking about is: 4\n",
      "Dict{Any, Any}(2 => Any[2, 4, 14, 11, 21, 12, 22, 8, 18], 3 => Any[1, 10, 20, 6, 16, 3, 13, 7, 17, 9, 19, 5, 15])Vehicle 1 is not used!\n",
      "Vehicle 4 is not used!\n"
     ]
    }
   ],
   "source": [
    "sequence_travelled = Dict()\n",
    "\n",
    "for vehicle_num = 1:K\n",
    "    println(\"The vehicle number we are talking about is: \", vehicle_num)\n",
    "    if size(path_mappings[vehicle_num])[1] == 0\n",
    "        continue\n",
    "    else\n",
    "        path = path_mappings[vehicle_num]\n",
    "        sequence = sort(sequences[vehicle_num], :Start)\n",
    "        sequence_dict = Dict(pairs(sequence.Sequence))\n",
    "        start_nodes = path[:,1]\n",
    "#         println(start_nodes)\n",
    "        nodes = []\n",
    "        sequence = []\n",
    "        \n",
    "        for node_index = 1:size(start_nodes)[1]\n",
    "            node_num = start_nodes[node_index][1]\n",
    "            seq = sequence_dict[start_nodes[node_index][1]]\n",
    "            push!(nodes, node_num)\n",
    "            push!(sequence, seq)\n",
    "#             println(nodes)\n",
    "#             println(sequence_dict[start_nodes[node_index][1]])\n",
    "        end\n",
    "        \n",
    "#         println(sort(DataFrame(Nodes=nodes, VistedAt=sequence), :VistedAt))\n",
    "        sequence_travelled[vehicle_num] = sort(DataFrame(Nodes=nodes, VistedAt=sequence), :VistedAt)[:,1]\n",
    "        \n",
    "#         nodes_travelled[vehicle_num] = nodes\n",
    "#         sequence_travelled[vehicle_num] = sequence\n",
    "    end\n",
    "end\n",
    "\n",
    "print(sequence_travelled)\n",
    "\n",
    "total_cost = objective_value.(model)\n",
    "\n",
    "\n",
    "for i=1:K\n",
    "    path_map = path_mappings[i]\n",
    "#     CSV.write(\"df_sequence_mapping_$i.csv\", DataFrame(path_map))\n",
    "    try\n",
    "        sequence_map = sequence_travelled[i]\n",
    "#         CSV.write(\"sequence_$i.csv\",  Tables.table(sequence_map), writeheader=false)\n",
    "    catch\n",
    "        println(\"Vehicle $i is not used!\")\n",
    "    end\n",
    "end"
   ]
  },
  {
   "cell_type": "code",
   "execution_count": null,
   "id": "5b66afb8",
   "metadata": {},
   "outputs": [],
   "source": []
  },
  {
   "cell_type": "code",
   "execution_count": null,
   "id": "75a42cf7",
   "metadata": {},
   "outputs": [],
   "source": []
  },
  {
   "cell_type": "code",
   "execution_count": null,
   "id": "3cc76f41",
   "metadata": {},
   "outputs": [],
   "source": []
  },
  {
   "cell_type": "code",
   "execution_count": 11,
   "id": "86da983e",
   "metadata": {},
   "outputs": [
    {
     "name": "stdout",
     "output_type": "stream",
     "text": [
      "Set parameter Username\n",
      "Academic license - for non-commercial use only - expires 2023-08-18\n",
      "Set parameter Username\n",
      "Academic license - for non-commercial use only - expires 2023-08-18\n",
      "Set parameter TimeLimit to value 14400\n",
      "Set parameter TimeLimit to value 14400\n",
      "Gurobi Optimizer version 9.5.2 build v9.5.2rc0 (mac64[arm])\n",
      "Thread count: 8 physical cores, 8 logical processors, using up to 8 threads\n",
      "Optimize a model with 1993 rows, 2108 columns and 12124 nonzeros\n",
      "Model fingerprint: 0x569b4cfd\n",
      "Variable types: 80 continuous, 2028 integer (1940 binary)\n",
      "Coefficient statistics:\n",
      "  Matrix range     [1e+00, 4e+03]\n",
      "  Objective range  [3e+00, 3e+01]\n",
      "  Bounds range     [2e+00, 2e+01]\n",
      "  RHS range        [1e+00, 1e+05]\n",
      "Presolve removed 1055 rows and 1144 columns\n",
      "Presolve time: 0.02s\n",
      "Presolved: 938 rows, 964 columns, 5120 nonzeros\n",
      "Variable types: 0 continuous, 964 integer (884 binary)\n",
      "\n",
      "Root relaxation: objective 1.550398e+02, 144 iterations, 0.00 seconds (0.00 work units)\n",
      "\n",
      "    Nodes    |    Current Node    |     Objective Bounds      |     Work\n",
      " Expl Unexpl |  Obj  Depth IntInf | Incumbent    BestBd   Gap | It/Node Time\n",
      "\n",
      "     0     0  155.03981    0   17          -  155.03981      -     -    0s\n",
      "H    0     0                     437.5274644  155.03981  64.6%     -    0s\n",
      "H    0     0                     398.6988522  155.03981  61.1%     -    0s\n",
      "H    0     0                     318.3878289  155.03981  51.3%     -    0s\n",
      "H    0     0                     304.7601700  155.03981  49.1%     -    0s\n",
      "     0     0  155.96168    0   32  304.76017  155.96168  48.8%     -    0s\n",
      "H    0     0                     252.3640467  155.96168  38.2%     -    0s\n",
      "H    0     0                     217.7472744  156.70377  28.0%     -    0s\n",
      "     0     0  156.79076    0   32  217.74727  156.79076  28.0%     -    0s\n",
      "H    0     0                     211.5650522  156.79076  25.9%     -    0s\n",
      "     0     0  156.94116    0   34  211.56505  156.94116  25.8%     -    0s\n",
      "     0     0  156.96087    0   35  211.56505  156.96087  25.8%     -    0s\n",
      "     0     0  157.01609    0   36  211.56505  157.01609  25.8%     -    0s\n",
      "H    0     0                     207.4494967  157.27699  24.2%     -    0s\n",
      "     0     0  157.27699    0   22  207.44950  157.27699  24.2%     -    0s\n",
      "     0     0  157.30920    0   22  207.44950  157.30920  24.2%     -    0s\n",
      "     0     2  157.30920    0   16  207.44950  157.30920  24.2%     -    0s\n",
      "H   80    87                     206.8583856  157.30920  24.0%  14.2    0s\n",
      "H  850   625                     203.1590233  157.77841  22.3%   8.4    0s\n",
      "H 1493   940                     201.9369567  157.80987  21.9%   8.1    0s\n",
      "* 4058  1992              72     201.7688222  162.56486  19.4%   9.0    1s\n",
      "H 4272  2118                     200.6224778  162.63944  18.9%   9.0    1s\n",
      "H 4460  1994                     195.0847000  162.63944  16.6%   8.9    1s\n",
      "H17640  8680                     194.1913666  168.09517  13.4%   8.9    2s\n",
      " 33254 14625  182.20714   50   38  194.19137  169.94948  12.5%   9.0    5s\n",
      "*55148 17228              60     192.7725456  169.94948  11.8%   8.6    6s\n",
      "H55730 16445                     192.5503233  169.94948  11.7%   8.6    6s\n",
      "H55774 15548                     190.9335433  169.94948  11.0%   8.6    6s\n",
      " 96824 26004  183.53988   51   13  190.93354  171.18716  10.3%   8.5   10s\n",
      " 152111 39761  180.40127   99    9  190.93354  174.18101  8.77%   8.4   15s\n",
      " 214767 51479     cutoff   39       190.93354  175.92948  7.86%   8.4   20s\n",
      " 279212 59503  183.32400   43   18  190.93354  177.59658  6.99%   8.3   25s\n",
      " 338405 65706  180.98197   43   30  190.93354  178.82509  6.34%   8.3   30s\n",
      " 391715 70481  186.23632   39   21  190.93354  179.69079  5.89%   8.2   35s\n",
      " 451736 73383  190.78805   45   22  190.93354  180.50151  5.46%   8.2   40s\n",
      "*502134 71821              70     190.1643522  181.20387  4.71%   8.1   43s\n",
      " 515427 70859  186.39564   46    9  190.16435  181.42067  4.60%   8.1   45s\n",
      " 572415 64932  183.87670   52   33  190.16435  182.35139  4.11%   8.1   50s\n",
      " 631069 56064  185.71738   46   20  190.16435  183.41525  3.55%   8.1   55s\n",
      " 693854 43600  188.23097   45    7  190.16435  184.60021  2.93%   8.0   60s\n",
      " 744047 25585 infeasible   57       190.16435  186.04464  2.17%   8.0   65s\n",
      "\n",
      "Cutting planes:\n",
      "  Gomory: 9\n",
      "  Lift-and-project: 5\n",
      "  Implied bound: 18\n",
      "  Projected implied bound: 3\n",
      "  Flow cover: 19\n",
      "  GUB cover: 1\n",
      "  Zero half: 2\n",
      "  Relax-and-lift: 1\n",
      "\n",
      "Explored 784665 nodes (6197251 simplex iterations) in 68.48 seconds (88.43 work units)\n",
      "Thread count was 8 (of 8 available processors)\n",
      "\n",
      "Solution count 10: 190.164 190.934 192.55 ... 203.159\n",
      "\n",
      "Optimal solution found (tolerance 1.00e-04)\n",
      "Best objective 1.901643522222e+02, best bound 1.901643522222e+02, gap 0.0000%\n",
      "\n",
      "User-callback calls 1588561, time in user-callback 0.25 sec\n"
     ]
    }
   ],
   "source": [
    "# Build model.\n",
    "model = Model(Gurobi.Optimizer)\n",
    "# set_optimizer_attribute(model, \"OutputFlag\", true)\n",
    "model = Model(optimizer_with_attributes(Gurobi.Optimizer, \"TimeLimit\" => 14400))\n",
    "\n",
    "\n",
    "# Insert variable.\n",
    "# We create a huge number of variables because we map multiple locations with the same index.\n",
    "@variable(model, x[i=1:V, j=1:V, k=1:K], Bin)\n",
    "@variable(model, y[k=1:K], Bin)\n",
    "@variable(model, u[i=1:V, k=1:K], Int)\n",
    "\n",
    "\n",
    "# Insert constraints.\n",
    "\n",
    "## Related with x.\n",
    "@constraint(model, [i=pickups[1]:pickups[n_pickup]], sum(sum(x[i,j,k] for j=1:V) for k=1:K) == 1)\n",
    "@constraint(model, [i=pickups[1]:pickups[n_pickup]], sum(x[i,i+n_pickup,k] for k=1:K) == 1)\n",
    "@constraint(model, [j=1:V, k=1:K], sum(x[i,j,k] for i=1:V) - sum(x[j,i,k] for i=1:V) == 0)\n",
    "# @constraint(model, [k=1:K], sum(sum(x[i,j,k] for j=1:V) for i=pickups[1]:pickups[n_pickup]) <= max_pickups_per_vehicle)\n",
    "@constraint(model, [k=1:K], sum(sum(x[i,j,k]*(time_mapping_50p[i,j] + buffer_time) for j=1:V) for i=1:V) <= max_time_per_vehicle)\n",
    "\n",
    "for vehicle_num in electric_vehicles\n",
    "    @constraint(model, sum(sum(x[i,j,vehicle_num] for j=1:V) for i=1:V) <= distance_per_elec_charge)\n",
    "end\n",
    "\n",
    "\n",
    "@constraint(model, [i=depots[1]:depots[n_depots], j=depots[1]:depots[n_depots], k=1:K], x[i,j,k] == 0) ##############\n",
    "\n",
    "## Related with y.\n",
    "# @constraint(model, [k=1:K], sum(x[depots[vehicle_depot_mapping[k,1]],j,k] for j=pickups[1]:pickups[n_pickup]) <= y[k]*vehicle_depot_mapping_binary[k,depots[vehicle_depot_mapping[k,1]]])\n",
    "# @constraint(model, [i=1:V, j=1:V, k=1:K], x[i,j,k] <= y[k])\n",
    "\n",
    "@constraint(model, [i=depots[1]:depots[n_depots], j=1:V, k=1:K], x[i,j,k] <= y[k]*vehicle_depot_mapping_binary[k,i])\n",
    "# @constraint(model, [i=depots[1]:depots[n_depots], j=1:V, k=1:K], x[i,j,k] <= y[k])\n",
    "\n",
    "\n",
    "## Related with u.\n",
    "@constraint(model, [i=depots[1]:depots[n_depots], k=1:K], u[i,k] == 1)\n",
    "@constraint(model, [i=n_depots+1:V, j=n_depots+1:V, k=1:K], u[i,k] - u[j,k] + 1 <= (V-1)*(1-x[i,j,k]))\n",
    "@constraint(model, [i=n_depots+1:V, k=1:K], 2 <= u[i,k] <= V)\n",
    "\n",
    "# # Objective.\n",
    "# @objective(model, Min, \n",
    "#     sum(fixed_cost_vehicle_type_mapping[vehicle_type[k,2],1]*y[k] for k=1:K) +\n",
    "#     sum(sum(sum(distance_cost_vehicle_type_mapping[vehicle_type[k,2],1]*distance_mapping[i,j]*x[i,j,k] for i=1:V) for j=1:V) for k=1:K)\n",
    "# )\n",
    "\n",
    "# Objective.\n",
    "@objective(model, Min, \n",
    "    sum(fixed_cost_vehicle_type_mapping[vehicle_type[k,2],1]*y[k] for k=1:K) +\n",
    "    (driver_hourly_wage/3600)*(sum(sum(sum((time_mapping_50p[i,j] + buffer_time)*x[i,j,k] for j=1:V) for i=1:V) for k=1:K)) +\n",
    "#     fixed_driver_cost*(sum(y[k] for k=1:K)) +\n",
    "    sum(sum(sum(distance_cost_vehicle_type_mapping[vehicle_type[k,2],1]*distance_mapping[i,j]*x[i,j,k] for i=1:V) for j=1:V) for k=1:K)\n",
    "#     (1/1000)*sum(sum(sum(distance_cost_vehicle_type_mapping[vehicle_type[k,2],1]*distance_mapping*x[:,:,k] for i=1:V) for j=1:V) for k=1:K)\n",
    ")\n",
    "\n",
    "\n",
    "# Optimize.\n",
    "optimize!(model)"
   ]
  },
  {
   "cell_type": "code",
   "execution_count": 12,
   "id": "b2c65bbb",
   "metadata": {},
   "outputs": [
    {
     "name": "stdout",
     "output_type": "stream",
     "text": [
      "[0.0, 1.0, 1.0, 0.0]\n"
     ]
    }
   ],
   "source": [
    "x_sol = Dict()\n",
    "u_sol = Dict()\n",
    "path_mappings = Dict()\n",
    "sequences = Dict()\n",
    "\n",
    "for i=1:K\n",
    "    x_sol[i] = DataFrame(value.(x)[:,:,i], :auto);\n",
    "    u_sol[i] = value.(u)[:,i];\n",
    "    path_mappings[i] = sort(Tuple.(findall(>=(0.5), Matrix(x_sol[i]))))\n",
    "    sequences[i] = sort(DataFrame(Start=[1:1:size(u_sol[i])[1];], Sequence=u_sol[i]), :Sequence)\n",
    "end\n",
    "\n",
    "println(value.(y))"
   ]
  },
  {
   "cell_type": "code",
   "execution_count": 13,
   "id": "4094f11d",
   "metadata": {},
   "outputs": [
    {
     "name": "stdout",
     "output_type": "stream",
     "text": [
      "6.1\n",
      "168.3022222222222\n",
      "15.762129999999999\n"
     ]
    }
   ],
   "source": [
    "fixed_costs = sum(fixed_cost_vehicle_type_mapping[vehicle_type[k,2],1]*value.(y)[k] for k=1:K)\n",
    "println(fixed_costs)\n",
    "\n",
    "driver_wages = (driver_hourly_wage/3600)*(sum(sum(sum((time_mapping_50p[i,j] + buffer_time)*value.(x)[i,j,k] for j=1:V) for i=1:V) for k=1:K))\n",
    "println(driver_wages)\n",
    "\n",
    "travelling_cost = sum(sum(sum(distance_cost_vehicle_type_mapping[vehicle_type[k,2],1]*distance_mapping[i,j]*value.(x)[i,j,k] for i=1:V) for j=1:V) for k=1:K)\n",
    "println(travelling_cost)"
   ]
  },
  {
   "cell_type": "code",
   "execution_count": 14,
   "id": "278b7c76",
   "metadata": {},
   "outputs": [
    {
     "data": {
      "text/plain": [
       "81505.0"
      ]
     },
     "execution_count": 14,
     "metadata": {},
     "output_type": "execute_result"
    }
   ],
   "source": [
    "sum(sum(sum(distance_mapping[i,j]*value.(x)[i,j,k] for i=1:V) for j=1:V) for k=1:K)"
   ]
  },
  {
   "cell_type": "code",
   "execution_count": 32,
   "id": "41afb765",
   "metadata": {},
   "outputs": [
    {
     "name": "stdout",
     "output_type": "stream",
     "text": [
      "The vehicle number we are talking about is: 1\n",
      "The vehicle number we are talking about is: 2\n",
      "The vehicle number we are talking about is: 3\n",
      "The vehicle number we are talking about is: 4\n",
      "Dict{Any, Any}(2 => Any[2, 3, 13, 7, 17, 8, 18], 3 => Any[1, 11, 21, 12, 22, 9, 19, 5, 15, 10, 20, 6, 16, 4, 14])Vehicle 1 is not used!\n",
      "Vehicle 4 is not used!\n"
     ]
    }
   ],
   "source": [
    "sequence_travelled = Dict()\n",
    "\n",
    "for vehicle_num = 1:K\n",
    "    println(\"The vehicle number we are talking about is: \", vehicle_num)\n",
    "    if size(path_mappings[vehicle_num])[1] == 0\n",
    "        continue\n",
    "    else\n",
    "        path = path_mappings[vehicle_num]\n",
    "        sequence = sort(sequences[vehicle_num], :Start)\n",
    "        sequence_dict = Dict(pairs(sequence.Sequence))\n",
    "        start_nodes = path[:,1]\n",
    "#         println(start_nodes)\n",
    "        nodes = []\n",
    "        sequence = []\n",
    "        \n",
    "        for node_index = 1:size(start_nodes)[1]\n",
    "            node_num = start_nodes[node_index][1]\n",
    "            seq = sequence_dict[start_nodes[node_index][1]]\n",
    "            push!(nodes, node_num)\n",
    "            push!(sequence, seq)\n",
    "#             println(nodes)\n",
    "#             println(sequence_dict[start_nodes[node_index][1]])\n",
    "        end\n",
    "        \n",
    "#         println(sort(DataFrame(Nodes=nodes, VistedAt=sequence), :VistedAt))\n",
    "        sequence_travelled[vehicle_num] = sort(DataFrame(Nodes=nodes, VistedAt=sequence), :VistedAt)[:,1]\n",
    "        \n",
    "#         nodes_travelled[vehicle_num] = nodes\n",
    "#         sequence_travelled[vehicle_num] = sequence\n",
    "    end\n",
    "end\n",
    "\n",
    "print(sequence_travelled)\n",
    "\n",
    "total_cost = objective_value.(model)\n",
    "\n",
    "\n",
    "for i=1:K\n",
    "    path_map = path_mappings[i]\n",
    "#     CSV.write(\"df_sequence_mapping_$i.csv\", DataFrame(path_map))\n",
    "    try\n",
    "        sequence_map = sequence_travelled[i]\n",
    "#         CSV.write(\"sequence_$i.csv\",  Tables.table(sequence_map), writeheader=false)\n",
    "    catch\n",
    "        println(\"Vehicle $i is not used!\")\n",
    "    end\n",
    "end"
   ]
  },
  {
   "cell_type": "code",
   "execution_count": null,
   "id": "dad914c8",
   "metadata": {},
   "outputs": [],
   "source": []
  },
  {
   "cell_type": "code",
   "execution_count": null,
   "id": "f7147653",
   "metadata": {},
   "outputs": [],
   "source": []
  },
  {
   "cell_type": "markdown",
   "id": "4043ecf0",
   "metadata": {},
   "source": [
    "## Adding Uncertainty"
   ]
  },
  {
   "cell_type": "code",
   "execution_count": 33,
   "id": "13009642",
   "metadata": {},
   "outputs": [
    {
     "name": "stdout",
     "output_type": "stream",
     "text": [
      "Set parameter Username\n",
      "Academic license - for non-commercial use only - expires 2023-08-18\n",
      "Set parameter Username\n",
      "Academic license - for non-commercial use only - expires 2023-08-18\n",
      "Set parameter TimeLimit to value 14400\n",
      "Set parameter TimeLimit to value 14400\n",
      "Gurobi Optimizer version 9.5.2 build v9.5.2rc0 (mac64[arm])\n",
      "Thread count: 8 physical cores, 8 logical processors, using up to 8 threads\n",
      "Optimize a model with 2005 rows, 2108 columns and 17932 nonzeros\n",
      "Model fingerprint: 0xae18c04f\n",
      "Variable types: 80 continuous, 2028 integer (1940 binary)\n",
      "Coefficient statistics:\n",
      "  Matrix range     [1e+00, 4e+03]\n",
      "  Objective range  [3e+00, 3e+01]\n",
      "  Bounds range     [2e+00, 2e+01]\n",
      "  RHS range        [1e+00, 1e+05]\n",
      "Presolve removed 1051 rows and 1140 columns\n",
      "Presolve time: 0.02s\n",
      "Presolved: 954 rows, 968 columns, 7276 nonzeros\n",
      "Variable types: 0 continuous, 968 integer (884 binary)\n",
      "\n",
      "Root relaxation: objective 1.558327e+02, 116 iterations, 0.00 seconds (0.00 work units)\n",
      "\n",
      "    Nodes    |    Current Node    |     Objective Bounds      |     Work\n",
      " Expl Unexpl |  Obj  Depth IntInf | Incumbent    BestBd   Gap | It/Node Time\n",
      "\n",
      "     0     0  155.83267    0   25          -  155.83267      -     -    0s\n",
      "H    0     0                     371.7234811  155.83267  58.1%     -    0s\n",
      "H    0     0                     359.4849433  155.83267  56.7%     -    0s\n",
      "H    0     0                     342.5872844  155.83267  54.5%     -    0s\n",
      "H    0     0                     289.5476856  156.51501  45.9%     -    0s\n",
      "     0     0  156.51501    0   42  289.54769  156.51501  45.9%     -    0s\n",
      "     0     0  157.32071    0   42  289.54769  157.32071  45.7%     -    0s\n",
      "H    0     0                     273.1761933  157.34409  42.4%     -    0s\n",
      "     0     0  157.49449    0   42  273.17619  157.49449  42.3%     -    0s\n",
      "     0     0  157.52469    0   42  273.17619  157.52469  42.3%     -    0s\n",
      "H    0     0                     253.1011933  157.96991  37.6%     -    0s\n",
      "H    0     0                     230.0083044  157.96991  31.3%     -    0s\n",
      "     0     0  158.30983    0   24  230.00830  158.30983  31.2%     -    0s\n",
      "     0     0  159.15715    0   22  230.00830  159.15715  30.8%     -    0s\n",
      "     0     0  159.15715    0   22  230.00830  159.15715  30.8%     -    0s\n",
      "H    0     0                     215.0366300  159.15715  26.0%     -    0s\n",
      "     0     2  159.15715    0   22  215.03663  159.15715  26.0%     -    0s\n",
      "H   36    40                     208.1723522  159.15715  23.5%  14.4    0s\n",
      "* 2057  1244              87     201.3322300  159.15715  20.9%   8.5    0s\n",
      "*14236  7714              67     197.7023333  167.09543  15.5%   7.6    2s\n",
      "*18358  9475              53     196.8010311  168.37673  14.4%   7.7    2s\n",
      "H18634  8461                     191.4676978  168.41749  12.0%   7.7    2s\n",
      " 30016 12246  175.25496   28   32  191.46770  170.32913  11.0%   7.9    5s\n",
      " 61869 15644  186.83024   38   48  191.46770  170.32913  11.0%   8.2   10s\n",
      " 111212 26806  175.91996   48   19  191.46770  173.85944  9.20%   8.3   15s\n",
      " 161943 36588 infeasible   44       191.46770  176.08098  8.04%   8.3   20s\n",
      "H161950 36459                     191.2043644  176.08266  7.91%   8.3   20s\n",
      " 212637 41245  183.84442   53   27  191.20436  177.79046  7.02%   8.3   25s\n",
      " 270523 45333 infeasible   58       191.20436  179.47236  6.14%   8.3   30s\n",
      "H325103 47894                     191.2043505  180.72462  5.48%   8.2   34s\n",
      " 329745 48003  184.03396   49   22  191.20435  180.82886  5.43%   8.2   35s\n",
      "H334472 48004                     191.2043453  180.91979  5.38%   8.2   35s\n",
      " 386629 46148  190.08536   56   29  191.20435  181.98450  4.82%   8.1   40s\n",
      " 444138 39449  186.11791   57   24  191.20435  183.32686  4.12%   8.1   45s\n",
      " 500502 30093  187.22813   52   15  191.20435  184.92049  3.29%   8.0   50s\n",
      " 561619  4045     cutoff   50       191.20435  189.27032  1.01%   8.0   55s\n",
      "\n",
      "Cutting planes:\n",
      "  Gomory: 12\n",
      "  Lift-and-project: 5\n",
      "  Implied bound: 20\n",
      "  MIR: 1\n",
      "  Flow cover: 19\n",
      "  Relax-and-lift: 2\n",
      "\n",
      "Explored 567504 nodes (4505187 simplex iterations) in 55.37 seconds (70.02 work units)\n",
      "Thread count was 8 (of 8 available processors)\n",
      "\n",
      "Solution count 10: 191.204 191.204 191.204 ... 230.008\n",
      "\n",
      "Optimal solution found (tolerance 1.00e-04)\n",
      "Best objective 1.912043644444e+02, best bound 1.912043644444e+02, gap 0.0000%\n",
      "\n",
      "User-callback calls 1151966, time in user-callback 0.40 sec\n"
     ]
    }
   ],
   "source": [
    "# Build model.\n",
    "model = Model(Gurobi.Optimizer)\n",
    "# set_optimizer_attribute(model, \"OutputFlag\", true)\n",
    "model = Model(optimizer_with_attributes(Gurobi.Optimizer, \"TimeLimit\" => 14400))\n",
    "\n",
    "\n",
    "# Insert variable.\n",
    "# We create a huge number of variables because we map multiple locations with the same index.\n",
    "@variable(model, x[i=1:V, j=1:V, k=1:K], Bin)\n",
    "@variable(model, y[k=1:K], Bin)\n",
    "@variable(model, u[i=1:V, k=1:K], Int)\n",
    "\n",
    "\n",
    "# Insert constraints.\n",
    "\n",
    "## Related with x.\n",
    "@constraint(model, [i=pickups[1]:pickups[n_pickup]], sum(sum(x[i,j,k] for j=1:V) for k=1:K) == 1)\n",
    "@constraint(model, [i=pickups[1]:pickups[n_pickup]], sum(x[i,i+n_pickup,k] for k=1:K) == 1)\n",
    "@constraint(model, [j=1:V, k=1:K], sum(x[i,j,k] for i=1:V) - sum(x[j,i,k] for i=1:V) == 0)\n",
    "# @constraint(model, [k=1:K], sum(sum(x[i,j,k] for j=1:V) for i=pickups[1]:pickups[n_pickup]) <= max_pickups_per_vehicle)\n",
    "@constraint(model, [k=1:K, s=1:S], sum(sum(x[i,j,k]*(time_mapping_all[i,j,s] + buffer_time) for j=1:V) for i=1:V) <= max_time_per_vehicle)\n",
    "\n",
    "for vehicle_num in electric_vehicles\n",
    "    @constraint(model, sum(sum(x[i,j,vehicle_num] for j=1:V) for i=1:V) <= distance_per_elec_charge)\n",
    "end\n",
    "\n",
    "\n",
    "@constraint(model, [i=depots[1]:depots[n_depots], j=depots[1]:depots[n_depots], k=1:K], x[i,j,k] == 0) ##############\n",
    "\n",
    "## Related with y.\n",
    "# @constraint(model, [k=1:K], sum(x[depots[vehicle_depot_mapping[k,1]],j,k] for j=pickups[1]:pickups[n_pickup]) <= y[k]*vehicle_depot_mapping_binary[k,depots[vehicle_depot_mapping[k,1]]])\n",
    "# @constraint(model, [i=1:V, j=1:V, k=1:K], x[i,j,k] <= y[k])\n",
    "\n",
    "@constraint(model, [i=depots[1]:depots[n_depots], j=1:V, k=1:K], x[i,j,k] <= y[k]*vehicle_depot_mapping_binary[k,i])\n",
    "# @constraint(model, [i=depots[1]:depots[n_depots], j=1:V, k=1:K], x[i,j,k] <= y[k])\n",
    "\n",
    "\n",
    "## Related with u.\n",
    "@constraint(model, [i=depots[1]:depots[n_depots], k=1:K], u[i,k] == 1)\n",
    "@constraint(model, [i=n_depots+1:V, j=n_depots+1:V, k=1:K], u[i,k] - u[j,k] + 1 <= (V-1)*(1-x[i,j,k]))\n",
    "@constraint(model, [i=n_depots+1:V, k=1:K], 2 <= u[i,k] <= V)\n",
    "\n",
    "# # Objective.\n",
    "# @objective(model, Min, \n",
    "#     sum(fixed_cost_vehicle_type_mapping[vehicle_type[k,2],1]*y[k] for k=1:K) +\n",
    "#     sum(sum(sum(distance_cost_vehicle_type_mapping[vehicle_type[k,2],1]*distance_mapping[i,j]*x[i,j,k] for i=1:V) for j=1:V) for k=1:K)\n",
    "# )\n",
    "\n",
    "# Objective.\n",
    "@objective(model, Min, \n",
    "    sum(fixed_cost_vehicle_type_mapping[vehicle_type[k,2],1]*y[k] for k=1:K) +\n",
    "    (driver_hourly_wage/3600)*0.25*sum((time_mapping_all[i,j,s] + buffer_time)*x[i,j,k] for s=1:S, j=1:V, i=1:V, k=1:K) +\n",
    "    sum(sum(sum(distance_cost_vehicle_type_mapping[vehicle_type[k,2],1]*distance_mapping[i,j]*x[i,j,k] for i=1:V) for j=1:V) for k=1:K)\n",
    "#     (1/1000)*sum(sum(sum(distance_cost_vehicle_type_mapping[vehicle_type[k,2],1]*distance_mapping*x[:,:,k] for i=1:V) for j=1:V) for k=1:K)\n",
    ")\n",
    "\n",
    "\n",
    "# Optimize.\n",
    "optimize!(model)"
   ]
  },
  {
   "cell_type": "code",
   "execution_count": 34,
   "id": "e23a5cf3",
   "metadata": {},
   "outputs": [
    {
     "name": "stdout",
     "output_type": "stream",
     "text": [
      "[0.0, 1.0, 1.0, 0.0]\n"
     ]
    }
   ],
   "source": [
    "x_sol = Dict()\n",
    "u_sol = Dict()\n",
    "path_mappings = Dict()\n",
    "sequences = Dict()\n",
    "\n",
    "for i=1:K\n",
    "    x_sol[i] = DataFrame(value.(x)[:,:,i], :auto);\n",
    "    u_sol[i] = value.(u)[:,i];\n",
    "    path_mappings[i] = sort(Tuple.(findall(>=(0.5), Matrix(x_sol[i]))))\n",
    "    sequences[i] = sort(DataFrame(Start=[1:1:size(u_sol[i])[1];], Sequence=u_sol[i]), :Sequence)\n",
    "end\n",
    "\n",
    "println(value.(y))"
   ]
  },
  {
   "cell_type": "code",
   "execution_count": 35,
   "id": "4681b961",
   "metadata": {},
   "outputs": [
    {
     "name": "stdout",
     "output_type": "stream",
     "text": [
      "6.1\n",
      "170.48888888888888\n",
      "14.519919999999999\n"
     ]
    }
   ],
   "source": [
    "fixed_costs = sum(fixed_cost_vehicle_type_mapping[vehicle_type[k,2],1]*value.(y)[k] for k=1:K)\n",
    "println(fixed_costs)\n",
    "\n",
    "driver_wages = (driver_hourly_wage/3600)*(sum(sum(sum((time_mapping_50p[i,j] + buffer_time)*value.(x)[i,j,k] for j=1:V) for i=1:V) for k=1:K))\n",
    "println(driver_wages)\n",
    "\n",
    "travelling_cost = sum(sum(sum(distance_cost_vehicle_type_mapping[vehicle_type[k,2],1]*distance_mapping[i,j]*value.(x)[i,j,k] for i=1:V) for j=1:V) for k=1:K)\n",
    "println(travelling_cost)"
   ]
  },
  {
   "cell_type": "code",
   "execution_count": 36,
   "id": "ddddfee4",
   "metadata": {},
   "outputs": [
    {
     "data": {
      "text/plain": [
       "81505.0"
      ]
     },
     "execution_count": 36,
     "metadata": {},
     "output_type": "execute_result"
    }
   ],
   "source": [
    "sum(sum(sum(distance_mapping[i,j]*value.(x)[i,j,k] for i=1:V) for j=1:V) for k=1:K)"
   ]
  },
  {
   "cell_type": "code",
   "execution_count": 37,
   "id": "84403e62",
   "metadata": {},
   "outputs": [
    {
     "name": "stdout",
     "output_type": "stream",
     "text": [
      "The vehicle number we are talking about is: 1\n",
      "The vehicle number we are talking about is: 2\n",
      "The vehicle number we are talking about is: 3\n",
      "The vehicle number we are talking about is: 4\n",
      "Dict{Any, Any}(2 => Any[2, 4, 14, 11, 21, 12, 22, 8, 18], 3 => Any[1, 9, 19, 5, 15, 10, 20, 6, 16, 3, 13, 7, 17])Vehicle 1 is not used!\n",
      "Vehicle 4 is not used!\n"
     ]
    }
   ],
   "source": [
    "sequence_travelled = Dict()\n",
    "\n",
    "for vehicle_num = 1:K\n",
    "    println(\"The vehicle number we are talking about is: \", vehicle_num)\n",
    "    if size(path_mappings[vehicle_num])[1] == 0\n",
    "        continue\n",
    "    else\n",
    "        path = path_mappings[vehicle_num]\n",
    "        sequence = sort(sequences[vehicle_num], :Start)\n",
    "        sequence_dict = Dict(pairs(sequence.Sequence))\n",
    "        start_nodes = path[:,1]\n",
    "#         println(start_nodes)\n",
    "        nodes = []\n",
    "        sequence = []\n",
    "        \n",
    "        for node_index = 1:size(start_nodes)[1]\n",
    "            node_num = start_nodes[node_index][1]\n",
    "            seq = sequence_dict[start_nodes[node_index][1]]\n",
    "            push!(nodes, node_num)\n",
    "            push!(sequence, seq)\n",
    "#             println(nodes)\n",
    "#             println(sequence_dict[start_nodes[node_index][1]])\n",
    "        end\n",
    "        \n",
    "#         println(sort(DataFrame(Nodes=nodes, VistedAt=sequence), :VistedAt))\n",
    "        sequence_travelled[vehicle_num] = sort(DataFrame(Nodes=nodes, VistedAt=sequence), :VistedAt)[:,1]\n",
    "        \n",
    "#         nodes_travelled[vehicle_num] = nodes\n",
    "#         sequence_travelled[vehicle_num] = sequence\n",
    "    end\n",
    "end\n",
    "\n",
    "print(sequence_travelled)\n",
    "\n",
    "total_cost = objective_value.(model)\n",
    "\n",
    "\n",
    "for i=1:K\n",
    "    path_map = path_mappings[i]\n",
    "#     CSV.write(\"df_sequence_mapping_$i.csv\", DataFrame(path_map))\n",
    "    try\n",
    "        sequence_map = sequence_travelled[i]\n",
    "#         CSV.write(\"sequence_$i.csv\",  Tables.table(sequence_map), writeheader=false)\n",
    "    catch\n",
    "        println(\"Vehicle $i is not used!\")\n",
    "    end\n",
    "end"
   ]
  },
  {
   "cell_type": "markdown",
   "id": "4e588792",
   "metadata": {},
   "source": [
    "Dict{Any, Any}(2 => Any[2, 4, 14, 11, 21, 12, 22, 8, 18], 3 => Any[1, 9, 19, 5, 15, 10, 20, 6, 16, 3, 13, 7, 17])Vehicle 1 is not used!"
   ]
  },
  {
   "cell_type": "code",
   "execution_count": null,
   "id": "3d53afea",
   "metadata": {},
   "outputs": [],
   "source": []
  },
  {
   "cell_type": "code",
   "execution_count": null,
   "id": "e1e4ce4c",
   "metadata": {},
   "outputs": [],
   "source": []
  },
  {
   "cell_type": "code",
   "execution_count": null,
   "id": "19aecb8c",
   "metadata": {},
   "outputs": [],
   "source": []
  },
  {
   "cell_type": "code",
   "execution_count": null,
   "id": "680dfa9c",
   "metadata": {},
   "outputs": [],
   "source": []
  },
  {
   "cell_type": "code",
   "execution_count": null,
   "id": "86fb8550",
   "metadata": {},
   "outputs": [],
   "source": []
  },
  {
   "cell_type": "code",
   "execution_count": null,
   "id": "3876046c",
   "metadata": {},
   "outputs": [],
   "source": []
  },
  {
   "cell_type": "code",
   "execution_count": null,
   "id": "5a1c878b",
   "metadata": {},
   "outputs": [],
   "source": []
  },
  {
   "cell_type": "code",
   "execution_count": null,
   "id": "f07e8494",
   "metadata": {},
   "outputs": [],
   "source": []
  },
  {
   "cell_type": "code",
   "execution_count": null,
   "id": "040965e0",
   "metadata": {},
   "outputs": [],
   "source": []
  },
  {
   "cell_type": "code",
   "execution_count": null,
   "id": "eeeef2df",
   "metadata": {},
   "outputs": [],
   "source": []
  },
  {
   "cell_type": "code",
   "execution_count": null,
   "id": "c3a84cd8",
   "metadata": {},
   "outputs": [],
   "source": []
  },
  {
   "cell_type": "code",
   "execution_count": null,
   "id": "6ca93c05",
   "metadata": {},
   "outputs": [],
   "source": []
  },
  {
   "cell_type": "code",
   "execution_count": null,
   "id": "bb497a6b",
   "metadata": {},
   "outputs": [],
   "source": []
  },
  {
   "cell_type": "code",
   "execution_count": null,
   "id": "05dc312d",
   "metadata": {},
   "outputs": [],
   "source": []
  },
  {
   "cell_type": "code",
   "execution_count": null,
   "id": "6a996217",
   "metadata": {},
   "outputs": [],
   "source": []
  },
  {
   "cell_type": "code",
   "execution_count": null,
   "id": "b5cb10b5",
   "metadata": {},
   "outputs": [],
   "source": []
  },
  {
   "cell_type": "code",
   "execution_count": null,
   "id": "7a71377c",
   "metadata": {},
   "outputs": [],
   "source": []
  },
  {
   "cell_type": "code",
   "execution_count": null,
   "id": "06ce0ca9",
   "metadata": {},
   "outputs": [],
   "source": []
  },
  {
   "cell_type": "code",
   "execution_count": null,
   "id": "feccd8ab",
   "metadata": {},
   "outputs": [],
   "source": []
  },
  {
   "cell_type": "code",
   "execution_count": null,
   "id": "2bf1da37",
   "metadata": {},
   "outputs": [],
   "source": []
  },
  {
   "cell_type": "code",
   "execution_count": null,
   "id": "c2597921",
   "metadata": {},
   "outputs": [],
   "source": []
  },
  {
   "cell_type": "code",
   "execution_count": null,
   "id": "b32758fc",
   "metadata": {},
   "outputs": [],
   "source": []
  },
  {
   "cell_type": "code",
   "execution_count": null,
   "id": "2abd5b5f",
   "metadata": {},
   "outputs": [],
   "source": []
  },
  {
   "cell_type": "code",
   "execution_count": null,
   "id": "827c87d3",
   "metadata": {},
   "outputs": [],
   "source": []
  },
  {
   "cell_type": "code",
   "execution_count": null,
   "id": "f951164d",
   "metadata": {},
   "outputs": [],
   "source": []
  }
 ],
 "metadata": {
  "kernelspec": {
   "display_name": "Julia 1.8.2",
   "language": "julia",
   "name": "julia-1.8"
  },
  "language_info": {
   "file_extension": ".jl",
   "mimetype": "application/julia",
   "name": "julia",
   "version": "1.8.2"
  }
 },
 "nbformat": 4,
 "nbformat_minor": 5
}

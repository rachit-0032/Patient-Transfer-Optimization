{
 "cells": [
  {
   "cell_type": "code",
   "execution_count": 83,
   "id": "7c58fcf3",
   "metadata": {},
   "outputs": [],
   "source": [
    "import numpy as np\n",
    "import pandas as pd\n",
    "import random"
   ]
  },
  {
   "cell_type": "code",
   "execution_count": 84,
   "id": "c5999fc9",
   "metadata": {},
   "outputs": [],
   "source": [
    "time_mapping = pd.read_csv(\"time_mapping.csv\", index_col=0)"
   ]
  },
  {
   "cell_type": "code",
   "execution_count": 85,
   "id": "c5eb165d",
   "metadata": {},
   "outputs": [],
   "source": [
    "time_mapping = time_mapping.iloc[:, 1:]"
   ]
  },
  {
   "cell_type": "code",
   "execution_count": 101,
   "id": "eaac1ab0",
   "metadata": {},
   "outputs": [],
   "source": [
    "time_mapping_5p = time_mapping.copy()\n",
    "time_mapping_10p = time_mapping.copy()\n",
    "time_mapping_50p = time_mapping.copy()\n",
    "# time_mapping_50p_huge = time_mapping.copy()"
   ]
  },
  {
   "cell_type": "code",
   "execution_count": null,
   "id": "512a47a5",
   "metadata": {},
   "outputs": [],
   "source": []
  },
  {
   "cell_type": "code",
   "execution_count": 102,
   "id": "500e4a37",
   "metadata": {},
   "outputs": [],
   "source": [
    "df_size = time_mapping.shape"
   ]
  },
  {
   "cell_type": "code",
   "execution_count": 103,
   "id": "8e1b3494",
   "metadata": {},
   "outputs": [
    {
     "data": {
      "text/plain": [
       "(22, 22)"
      ]
     },
     "execution_count": 103,
     "metadata": {},
     "output_type": "execute_result"
    }
   ],
   "source": [
    "df_size"
   ]
  },
  {
   "cell_type": "code",
   "execution_count": 104,
   "id": "0a6779de",
   "metadata": {},
   "outputs": [
    {
     "data": {
      "text/plain": [
       "0"
      ]
     },
     "execution_count": 104,
     "metadata": {},
     "output_type": "execute_result"
    }
   ],
   "source": [
    "time_mapping.iloc[0,0]"
   ]
  },
  {
   "cell_type": "code",
   "execution_count": 146,
   "id": "d2c688cb",
   "metadata": {},
   "outputs": [],
   "source": [
    "for i in range(df_size[0]):\n",
    "    for j in range(df_size[1]):\n",
    "        value = time_mapping.iloc[i,j]\n",
    "        noise_5p = random.randint(-np.round(0.05*value), np.round(0.05*value))\n",
    "        noise_10p = random.randint(-np.round(0.10*value), np.round(0.10*value))\n",
    "        noise_50p = random.randint(-np.round(0.50*value), np.round(0.50*value))\n",
    "#         noise_50p_huge = random.randint(0, np.round(0.50*value))\n",
    "        time_mapping_5p.iloc[i,j] = value + noise_5p\n",
    "        time_mapping_10p.iloc[i,j] = value + noise_10p\n",
    "        time_mapping_50p.iloc[i,j] = value + noise_50p\n",
    "#         time_mapping_50p_huge.iloc[i,j] = value + noise_50p_huge"
   ]
  },
  {
   "cell_type": "code",
   "execution_count": 147,
   "id": "8fbb6b8c",
   "metadata": {},
   "outputs": [
    {
     "data": {
      "text/plain": [
       "387840"
      ]
     },
     "execution_count": 147,
     "metadata": {},
     "output_type": "execute_result"
    }
   ],
   "source": [
    "time_mapping.sum().sum()"
   ]
  },
  {
   "cell_type": "code",
   "execution_count": 148,
   "id": "4e287385",
   "metadata": {},
   "outputs": [
    {
     "data": {
      "text/plain": [
       "387926"
      ]
     },
     "execution_count": 148,
     "metadata": {},
     "output_type": "execute_result"
    }
   ],
   "source": [
    "time_mapping_5p.sum().sum()"
   ]
  },
  {
   "cell_type": "code",
   "execution_count": 149,
   "id": "c225d68e",
   "metadata": {},
   "outputs": [
    {
     "data": {
      "text/plain": [
       "387739"
      ]
     },
     "execution_count": 149,
     "metadata": {},
     "output_type": "execute_result"
    }
   ],
   "source": [
    "time_mapping_10p.sum().sum()"
   ]
  },
  {
   "cell_type": "code",
   "execution_count": 150,
   "id": "f1cf3a67",
   "metadata": {},
   "outputs": [
    {
     "data": {
      "text/plain": [
       "393964"
      ]
     },
     "execution_count": 150,
     "metadata": {},
     "output_type": "execute_result"
    }
   ],
   "source": [
    "time_mapping_50p.sum().sum()"
   ]
  },
  {
   "cell_type": "code",
   "execution_count": 151,
   "id": "ecf63626",
   "metadata": {},
   "outputs": [],
   "source": [
    "time_mapping_5p.to_csv(\"time_mapping_5p.csv\", index=False)\n",
    "time_mapping_10p.to_csv(\"time_mapping_10p.csv\", index=False)\n",
    "time_mapping_50p.to_csv(\"time_mapping_50p.csv\", index=False)"
   ]
  },
  {
   "cell_type": "code",
   "execution_count": null,
   "id": "642ac22d",
   "metadata": {},
   "outputs": [],
   "source": []
  }
 ],
 "metadata": {
  "kernelspec": {
   "display_name": "Python 3 (ipykernel)",
   "language": "python",
   "name": "python3"
  },
  "language_info": {
   "codemirror_mode": {
    "name": "ipython",
    "version": 3
   },
   "file_extension": ".py",
   "mimetype": "text/x-python",
   "name": "python",
   "nbconvert_exporter": "python",
   "pygments_lexer": "ipython3",
   "version": "3.9.13"
  }
 },
 "nbformat": 4,
 "nbformat_minor": 5
}

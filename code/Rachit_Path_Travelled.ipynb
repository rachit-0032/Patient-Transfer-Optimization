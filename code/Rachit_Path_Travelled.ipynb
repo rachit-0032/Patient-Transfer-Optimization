{
 "cells": [
  {
   "cell_type": "code",
   "execution_count": 30,
   "id": "891daa3a",
   "metadata": {},
   "outputs": [],
   "source": [
    "import pandas as pd\n",
    "import numpy as np"
   ]
  },
  {
   "cell_type": "code",
   "execution_count": 79,
   "id": "8564fa9c",
   "metadata": {},
   "outputs": [],
   "source": [
    "from collections import defaultdict\n",
    "  \n",
    "# This class represents a directed graph\n",
    "# using adjacency list representation\n",
    "class Graph:\n",
    "  \n",
    "    def __init__(self, vertices):\n",
    "        # No. of vertices\n",
    "        self.V = vertices\n",
    "         \n",
    "        # default dictionary to store graph\n",
    "        self.graph = defaultdict(list)\n",
    "  \n",
    "\n",
    "    # function to add an edge to graph\n",
    "    def addEdge(self, u, v):\n",
    "        self.graph[u].append(v)\n",
    "\n",
    "\n",
    "    def printAllPathsUtil(self, u, d, visited, path):\n",
    " \n",
    "        # Mark the current node as visited and store in path\n",
    "        visited[u]= True\n",
    "        path.append(u)\n",
    " \n",
    "        # If current vertex is same as destination, then print\n",
    "        # current path[]\n",
    "        if u == d:\n",
    "            print (path)\n",
    "        else:\n",
    "            # If current vertex is not destination\n",
    "            # Recur for all the vertices adjacent to this vertex\n",
    "            for i in self.graph[u]:\n",
    "                if visited[i]== False:\n",
    "                    self.printAllPathsUtil(i, d, visited, path)\n",
    "                     \n",
    "        # Remove current vertex from path[] and mark it as unvisited\n",
    "        path.pop()\n",
    "        visited[u]= False\n",
    "  \n",
    "  \n",
    "    # Prints all paths from 's' to 'd'\n",
    "    def printAllPaths(self, s, d):\n",
    " \n",
    "        # Mark all the vertices as not visited\n",
    "        visited =[False]*(self.V)\n",
    " \n",
    "        # Create an array to store paths\n",
    "        path = []\n",
    " \n",
    "        # Call the recursive helper function to print all paths\n",
    "        self.printAllPathsUtil(s, d, visited, path)\n",
    "  \n",
    "  \n",
    "  "
   ]
  },
  {
   "cell_type": "code",
   "execution_count": null,
   "id": "c21d8c06",
   "metadata": {},
   "outputs": [],
   "source": []
  },
  {
   "cell_type": "code",
   "execution_count": 80,
   "id": "2a98b6d9",
   "metadata": {},
   "outputs": [],
   "source": [
    "df_sequence_mapping = pd.read_csv(\"../data/new_formulation/df_sequence_mapping.csv\")"
   ]
  },
  {
   "cell_type": "code",
   "execution_count": 81,
   "id": "b59192a1",
   "metadata": {},
   "outputs": [
    {
     "data": {
      "text/html": [
       "<div>\n",
       "<style scoped>\n",
       "    .dataframe tbody tr th:only-of-type {\n",
       "        vertical-align: middle;\n",
       "    }\n",
       "\n",
       "    .dataframe tbody tr th {\n",
       "        vertical-align: top;\n",
       "    }\n",
       "\n",
       "    .dataframe thead th {\n",
       "        text-align: right;\n",
       "    }\n",
       "</style>\n",
       "<table border=\"1\" class=\"dataframe\">\n",
       "  <thead>\n",
       "    <tr style=\"text-align: right;\">\n",
       "      <th></th>\n",
       "      <th>1</th>\n",
       "      <th>2</th>\n",
       "    </tr>\n",
       "  </thead>\n",
       "  <tbody>\n",
       "    <tr>\n",
       "      <th>0</th>\n",
       "      <td>2</td>\n",
       "      <td>5</td>\n",
       "    </tr>\n",
       "    <tr>\n",
       "      <th>1</th>\n",
       "      <td>3</td>\n",
       "      <td>7</td>\n",
       "    </tr>\n",
       "    <tr>\n",
       "      <th>2</th>\n",
       "      <td>4</td>\n",
       "      <td>8</td>\n",
       "    </tr>\n",
       "    <tr>\n",
       "      <th>3</th>\n",
       "      <td>5</td>\n",
       "      <td>9</td>\n",
       "    </tr>\n",
       "    <tr>\n",
       "      <th>4</th>\n",
       "      <td>6</td>\n",
       "      <td>10</td>\n",
       "    </tr>\n",
       "    <tr>\n",
       "      <th>5</th>\n",
       "      <td>7</td>\n",
       "      <td>6</td>\n",
       "    </tr>\n",
       "    <tr>\n",
       "      <th>6</th>\n",
       "      <td>8</td>\n",
       "      <td>2</td>\n",
       "    </tr>\n",
       "    <tr>\n",
       "      <th>7</th>\n",
       "      <td>9</td>\n",
       "      <td>3</td>\n",
       "    </tr>\n",
       "    <tr>\n",
       "      <th>8</th>\n",
       "      <td>9</td>\n",
       "      <td>4</td>\n",
       "    </tr>\n",
       "    <tr>\n",
       "      <th>9</th>\n",
       "      <td>10</td>\n",
       "      <td>9</td>\n",
       "    </tr>\n",
       "  </tbody>\n",
       "</table>\n",
       "</div>"
      ],
      "text/plain": [
       "    1   2\n",
       "0   2   5\n",
       "1   3   7\n",
       "2   4   8\n",
       "3   5   9\n",
       "4   6  10\n",
       "5   7   6\n",
       "6   8   2\n",
       "7   9   3\n",
       "8   9   4\n",
       "9  10   9"
      ]
     },
     "execution_count": 81,
     "metadata": {},
     "output_type": "execute_result"
    }
   ],
   "source": [
    "df_sequence_mapping"
   ]
  },
  {
   "cell_type": "code",
   "execution_count": 82,
   "id": "aa025208",
   "metadata": {},
   "outputs": [],
   "source": [
    "g = Graph(number_of_nodes+1)"
   ]
  },
  {
   "cell_type": "code",
   "execution_count": 83,
   "id": "77e8164d",
   "metadata": {},
   "outputs": [],
   "source": [
    "g.addEdge(2, 5)\n",
    "g.addEdge(3, 7)    \n",
    "g.addEdge(4, 8)    \n",
    "g.addEdge(5, 9)    \n",
    "g.addEdge(6, 10)    \n",
    "g.addEdge(7, 6)    \n",
    "g.addEdge(8, 2)    \n",
    "g.addEdge(9, 3)    \n",
    "g.addEdge(9, 4)    \n",
    "g.addEdge(10, 9)    "
   ]
  },
  {
   "cell_type": "code",
   "execution_count": 88,
   "id": "e3788b34",
   "metadata": {},
   "outputs": [
    {
     "name": "stdout",
     "output_type": "stream",
     "text": [
      "Following are all different paths from  2 to  3 :\n",
      "[2, 5, 9, 3]\n"
     ]
    }
   ],
   "source": [
    "s = 2 ; d = 3\n",
    "print (\"Following are all different paths from % d to % d :\" %(s, d))\n",
    "g.printAllPaths(s, d)"
   ]
  },
  {
   "cell_type": "code",
   "execution_count": 89,
   "id": "b56984ed",
   "metadata": {},
   "outputs": [
    {
     "name": "stdout",
     "output_type": "stream",
     "text": [
      "Following are all different paths from  3 to  8 :\n",
      "[3, 7, 6, 10, 9, 4, 8]\n"
     ]
    }
   ],
   "source": [
    "s = 3 ; d = 8\n",
    "print (\"Following are all different paths from % d to % d :\" %(s, d))\n",
    "g.printAllPaths(s, d)"
   ]
  },
  {
   "cell_type": "code",
   "execution_count": 33,
   "id": "7e4a9f74",
   "metadata": {},
   "outputs": [],
   "source": [
    "number_of_nodes = 10\n",
    "g = Graph(number_of_nodes+1)\n",
    "for index in range(len(df_sequence_mapping)):\n",
    "    sequence = df_sequence_mapping.iloc[index,:]\n",
    "    g.addEdge(sequence[0], sequence[1])"
   ]
  },
  {
   "cell_type": "code",
   "execution_count": null,
   "id": "f0837397",
   "metadata": {},
   "outputs": [],
   "source": []
  }
 ],
 "metadata": {
  "kernelspec": {
   "display_name": "Python 3 (ipykernel)",
   "language": "python",
   "name": "python3"
  },
  "language_info": {
   "codemirror_mode": {
    "name": "ipython",
    "version": 3
   },
   "file_extension": ".py",
   "mimetype": "text/x-python",
   "name": "python",
   "nbconvert_exporter": "python",
   "pygments_lexer": "ipython3",
   "version": "3.9.13"
  }
 },
 "nbformat": 4,
 "nbformat_minor": 5
}

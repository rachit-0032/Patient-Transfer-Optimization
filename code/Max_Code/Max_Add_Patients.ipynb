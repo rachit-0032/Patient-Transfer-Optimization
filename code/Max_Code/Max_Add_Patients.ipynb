{
  "nbformat": 4,
  "nbformat_minor": 0,
  "metadata": {
    "colab": {
      "provenance": []
    },
    "kernelspec": {
      "name": "python3",
      "display_name": "Python 3"
    },
    "language_info": {
      "name": "python"
    }
  },
  "cells": [
    {
      "cell_type": "code",
      "execution_count": null,
      "metadata": {
        "id": "BmNoC18NplFB"
      },
      "outputs": [],
      "source": [
        "from tabulate import tabulate\n",
        "import pandas as pd\n",
        "import numpy as np\n",
        "import os\n",
        "from datetime import datetime"
      ]
    },
    {
      "cell_type": "code",
      "source": [
        "from google.colab import drive\n",
        "drive.mount('/content/drive')"
      ],
      "metadata": {
        "colab": {
          "base_uri": "https://localhost:8080/"
        },
        "id": "ZxH_jPYgpytZ",
        "outputId": "e588426e-4509-4ed6-e520-a30363604e5e"
      },
      "execution_count": null,
      "outputs": [
        {
          "output_type": "stream",
          "name": "stdout",
          "text": [
            "Mounted at /content/drive\n"
          ]
        }
      ]
    },
    {
      "cell_type": "code",
      "source": [
        "df = pd.read_csv(\"/content/drive/MyDrive/Optimization Project/Sandbox/SortedDistances_sub2.csv\")\n",
        "df = df.rename({'Unnamed: 0':'Name'}, axis=1)"
      ],
      "metadata": {
        "id": "uIbp5zrbp3Cl"
      },
      "execution_count": null,
      "outputs": []
    },
    {
      "cell_type": "code",
      "source": [
        "pt_map = pd.read_csv(\"/content/drive/MyDrive/Optimization Project/Sandbox/pt_map_10.csv\")"
      ],
      "metadata": {
        "id": "YHdgrgcWAlw8"
      },
      "execution_count": null,
      "outputs": []
    },
    {
      "cell_type": "code",
      "source": [
        "i = 1\n",
        "\n",
        "for index in pt_map.iloc[:,1]:\n",
        "  #Replace 0 with the row index you are adding (plus 1 because we have the 2 depots, but we start indexing at zero in python and 1 in our chart)\n",
        "  df = df.append(df.iloc[index+1,:], ignore_index=True)\n",
        "\n",
        "  #Replace 0 with the row index you are adding (plus 2 because we have the depots and the name column, but we start indexing at zero in python and 1 in our chart)\n",
        "  ser = pd.DataFrame(df.values.copy()).iloc[:,index+2]\n",
        "\n",
        "  ser[len(ser)-1] = 0\n",
        "\n",
        "  df[\"Patient \" + str(i)] = ser\n",
        "\n",
        "  i = i + 1"
      ],
      "metadata": {
        "id": "rRb2YGE_AwlF"
      },
      "execution_count": null,
      "outputs": []
    },
    {
      "cell_type": "code",
      "source": [
        "#Adding the patient destinations\n",
        "i = 1\n",
        "\n",
        "for index in pt_map.iloc[:,2]:\n",
        "  #Replace 0 with the row index you are adding (plus 1 because we have the 2 depots, but we start indexing at zero in python and 1 in our chart)\n",
        "  df = df.append(df.iloc[index+1,:], ignore_index=True)\n",
        "\n",
        "  #Replace 0 with the row index you are adding (plus 2 because we have the depots and the name column, but we start indexing at zero in python and 1 in our chart)\n",
        "  ser = pd.DataFrame(df.values.copy()).iloc[:,index+2]\n",
        "\n",
        "  ser[len(ser)-1] = 0\n",
        "\n",
        "  df[\"Dest Patient\" + str(i)] = ser\n",
        "\n",
        "  i = i + 1"
      ],
      "metadata": {
        "id": "5EvVLbMi-Y8K"
      },
      "execution_count": null,
      "outputs": []
    },
    {
      "cell_type": "code",
      "source": [
        "df = df.drop(columns=[\"Arbour Hospital\",\n",
        "\"Beth Israel Deaconess Medical Center - West Campus\",\n",
        "\"Beth Isreal Deaconess medical Center - East Campus\",\n",
        "\"Boston Medical Center - East Newton Campus\",\n",
        "\"Boston Medical Center - Menino Campus\",\n",
        "\"Brigham and Women's Hospital\",\n",
        "\"Carney Hospital\",\n",
        "\"Children's Hospital Boston\",\n",
        "\"Dana-Farber Cancer Institute\",\n",
        "\"Erich LIindemann Mental Health Center\",\n",
        "\"Faulkner Hospital\",\n",
        "\"Franciscan Children's Hospital & Rehab Center\",\n",
        "\"Hebrew Rehabilitation Center\",\n",
        "\"Jewish Memorial Hospital & Radius Hospital\",\n",
        "\"Kindred Hospital\",\n",
        "\"Lemuel Shattuck Hospital\",\n",
        "\"Mass General Hospital\",\n",
        "\"Massachusetts Eye and Ear Infirmary\",\n",
        "\"New England Baptist Hospital\",\n",
        "\"Spaulding Rehabilitation Hospital\",\n",
        "\"St. Elizabeth's Hospital\",\n",
        "\"Tufts Medical Center\"])"
      ],
      "metadata": {
        "id": "hXMlyEPC92iJ"
      },
      "execution_count": null,
      "outputs": []
    },
    {
      "cell_type": "code",
      "source": [
        "#Get rid of the columns that were funky, the punctuation in Shriner's had an up and down apostrophe, not curved\n",
        "df = df.drop(columns=[df.columns[3],df.columns[4]])"
      ],
      "metadata": {
        "id": "-8IWWUGGqqzd"
      },
      "execution_count": null,
      "outputs": []
    },
    {
      "cell_type": "code",
      "source": [
        "df = df.drop([*range(2,26)], axis=0).reset_index(drop=True)\n",
        "\n",
        "df.shape"
      ],
      "metadata": {
        "colab": {
          "base_uri": "https://localhost:8080/"
        },
        "id": "z2CoiOiJrayu",
        "outputId": "6d64e755-191f-4b49-d3b3-6f9c28d9d335"
      },
      "execution_count": null,
      "outputs": [
        {
          "output_type": "execute_result",
          "data": {
            "text/plain": [
              "(22, 23)"
            ]
          },
          "metadata": {},
          "execution_count": 11
        }
      ]
    },
    {
      "cell_type": "code",
      "source": [
        "df.to_csv(\"/content/drive/MyDrive/Optimization Project/Sandbox/DistanceMatrixv2.csv\", index=True, encoding='utf-8-sig')"
      ],
      "metadata": {
        "id": "vUqNGHCStSF9"
      },
      "execution_count": null,
      "outputs": []
    },
    {
      "cell_type": "code",
      "source": [
        "for col in df.columns:\n",
        "  print(col)"
      ],
      "metadata": {
        "id": "WQbpasDqn8QW",
        "colab": {
          "base_uri": "https://localhost:8080/"
        },
        "outputId": "ad458ab9-4d51-48b1-e22e-13b27d4a1f10"
      },
      "execution_count": null,
      "outputs": [
        {
          "output_type": "stream",
          "name": "stdout",
          "text": [
            "Name\n",
            "Depot 1\n",
            "Depot 2\n",
            "Patient 1\n",
            "Patient 2\n",
            "Patient 3\n",
            "Patient 4\n",
            "Patient 5\n",
            "Patient 6\n",
            "Patient 7\n",
            "Patient 8\n",
            "Patient 9\n",
            "Patient 10\n",
            "Dest Patient1\n",
            "Dest Patient2\n",
            "Dest Patient3\n",
            "Dest Patient4\n",
            "Dest Patient5\n",
            "Dest Patient6\n",
            "Dest Patient7\n",
            "Dest Patient8\n",
            "Dest Patient9\n",
            "Dest Patient10\n"
          ]
        }
      ]
    },
    {
      "cell_type": "code",
      "source": [
        "df_time = pd.read_csv(\"/content/drive/MyDrive/Optimization Project/Sandbox/SortedTimes_sub2.csv\")\n",
        "df_time = df_time.rename({'Unnamed: 0':'Name'}, axis=1)"
      ],
      "metadata": {
        "id": "lNN7o_O-DLEd"
      },
      "execution_count": null,
      "outputs": []
    },
    {
      "cell_type": "code",
      "source": [
        "i = 1\n",
        "\n",
        "for index in pt_map.iloc[:,1]:\n",
        "  #Replace 0 with the row index you are adding (plus 1 because we have the 2 depots, but we start indexing at zero in python and 1 in our chart)\n",
        "  df_time = df_time.append(df_time.iloc[index+1,:], ignore_index=True)\n",
        "\n",
        "  #Replace 0 with the row index you are adding (plus 2 because we have the depots and the name column, but we start indexing at zero in python and 1 in our chart)\n",
        "  ser = pd.DataFrame(df_time.values.copy()).iloc[:,index+2]\n",
        "\n",
        "  ser[len(ser)-1] = 0\n",
        "\n",
        "  df_time[\"Patient \" + str(i)] = ser\n",
        "\n",
        "  i = i + 1"
      ],
      "metadata": {
        "id": "6JoT1fCDt5s5"
      },
      "execution_count": null,
      "outputs": []
    },
    {
      "cell_type": "code",
      "source": [
        "#Adding the patient destinations\n",
        "i = 1\n",
        "\n",
        "for index in pt_map.iloc[:,2]:\n",
        "  #Replace 0 with the row index you are adding (plus 1 because we have the 2 depots, but we start indexing at zero in python and 1 in our chart)\n",
        "  df_time = df_time.append(df_time.iloc[index+1,:], ignore_index=True)\n",
        "\n",
        "  #Replace 0 with the row index you are adding (plus 2 because we have the depots and the name column, but we start indexing at zero in python and 1 in our chart)\n",
        "  ser = pd.DataFrame(df_time.values.copy()).iloc[:,index+2]\n",
        "\n",
        "  ser[len(ser)-1] = 0\n",
        "\n",
        "  df_time[\"Dest Patient\" + str(i)] = ser\n",
        "\n",
        "  i = i + 1"
      ],
      "metadata": {
        "id": "nDz_cudPt55T"
      },
      "execution_count": null,
      "outputs": []
    },
    {
      "cell_type": "code",
      "source": [
        "df_time = df_time.drop(columns=[\"Arbour Hospital\",\n",
        "\"Beth Israel Deaconess Medical Center - West Campus\",\n",
        "\"Beth Isreal Deaconess medical Center - East Campus\",\n",
        "\"Boston Medical Center - East Newton Campus\",\n",
        "\"Boston Medical Center - Menino Campus\",\n",
        "\"Brigham and Women's Hospital\",\n",
        "\"Carney Hospital\",\n",
        "\"Children's Hospital Boston\",\n",
        "\"Dana-Farber Cancer Institute\",\n",
        "\"Erich LIindemann Mental Health Center\",\n",
        "\"Faulkner Hospital\",\n",
        "\"Franciscan Children's Hospital & Rehab Center\",\n",
        "\"Hebrew Rehabilitation Center\",\n",
        "\"Jewish Memorial Hospital & Radius Hospital\",\n",
        "\"Kindred Hospital\",\n",
        "\"Lemuel Shattuck Hospital\",\n",
        "\"Mass General Hospital\",\n",
        "\"Massachusetts Eye and Ear Infirmary\",\n",
        "\"New England Baptist Hospital\",\n",
        "\"Spaulding Rehabilitation Hospital\",\n",
        "\"St. Elizabeth's Hospital\",\n",
        "\"Tufts Medical Center\"])"
      ],
      "metadata": {
        "id": "GsdWfF52t5_-"
      },
      "execution_count": null,
      "outputs": []
    },
    {
      "cell_type": "code",
      "source": [
        "#Get rid of the columns that were funky, the punctuation in Shriner's had an up and down apostrophe, not curved\n",
        "df_time = df_time.drop(columns=[df_time.columns[3],df_time.columns[4]])"
      ],
      "metadata": {
        "id": "z67w-w9VuW6R"
      },
      "execution_count": null,
      "outputs": []
    },
    {
      "cell_type": "code",
      "source": [
        "df_time = df_time.drop([*range(2,26)], axis=0).reset_index(drop=True)\n",
        "\n",
        "df_time.shape"
      ],
      "metadata": {
        "colab": {
          "base_uri": "https://localhost:8080/"
        },
        "id": "fBmezyzcupsI",
        "outputId": "ebc61e52-d8a1-4293-e620-c82f193214a5"
      },
      "execution_count": null,
      "outputs": [
        {
          "output_type": "execute_result",
          "data": {
            "text/plain": [
              "(22, 23)"
            ]
          },
          "metadata": {},
          "execution_count": 20
        }
      ]
    },
    {
      "cell_type": "code",
      "source": [
        "df_time.to_csv(\"/content/drive/MyDrive/Optimization Project/Sandbox/TimeMatrixv2.csv\", index=True, encoding='utf-8-sig')"
      ],
      "metadata": {
        "id": "1CkaDzEbuXCK"
      },
      "execution_count": null,
      "outputs": []
    },
    {
      "cell_type": "code",
      "source": [
        "j = 1\n",
        "\n",
        "for index in pt_map.iloc[:,1]:\n",
        "  #Replace 0 with the row index you are adding (plus 1 because we have the 2 depots, but we start indexing at zero in python and 1 in our chart)\n",
        "  df_time = df_time.append(df_time.iloc[index+1,:], ignore_index=True)\n",
        "\n",
        "  #Replace 0 with the row index you are adding (plus 2 because we have the depots and the name column, but we start indexing at zero in python and 1 in our chart)\n",
        "  ser = pd.DataFrame(df_time.values.copy()).iloc[:,index+2]\n",
        "\n",
        "  ser[len(ser)-1] = 0\n",
        "\n",
        "  df_time[\"Patient \" + str(j)] = ser\n",
        "\n",
        "  j = j + 1\n"
      ],
      "metadata": {
        "id": "MhkFPyWJDVdz",
        "colab": {
          "base_uri": "https://localhost:8080/",
          "height": 381
        },
        "outputId": "bb21bc11-65dd-4f8a-e9c6-9da9abb8c524"
      },
      "execution_count": null,
      "outputs": [
        {
          "output_type": "error",
          "ename": "IndexError",
          "evalue": "ignored",
          "traceback": [
            "\u001b[0;31m---------------------------------------------------------------------------\u001b[0m",
            "\u001b[0;31mIndexError\u001b[0m                                Traceback (most recent call last)",
            "\u001b[0;32m<ipython-input-22-795c524c65ee>\u001b[0m in \u001b[0;36m<module>\u001b[0;34m\u001b[0m\n\u001b[1;32m      6\u001b[0m \u001b[0;34m\u001b[0m\u001b[0m\n\u001b[1;32m      7\u001b[0m   \u001b[0;31m#Replace 0 with the row index you are adding (plus 2 because we have the depots and the name column, but we start indexing at zero in python and 1 in our chart)\u001b[0m\u001b[0;34m\u001b[0m\u001b[0;34m\u001b[0m\u001b[0;34m\u001b[0m\u001b[0m\n\u001b[0;32m----> 8\u001b[0;31m   \u001b[0mser\u001b[0m \u001b[0;34m=\u001b[0m \u001b[0mpd\u001b[0m\u001b[0;34m.\u001b[0m\u001b[0mDataFrame\u001b[0m\u001b[0;34m(\u001b[0m\u001b[0mdf_time\u001b[0m\u001b[0;34m.\u001b[0m\u001b[0mvalues\u001b[0m\u001b[0;34m.\u001b[0m\u001b[0mcopy\u001b[0m\u001b[0;34m(\u001b[0m\u001b[0;34m)\u001b[0m\u001b[0;34m)\u001b[0m\u001b[0;34m.\u001b[0m\u001b[0miloc\u001b[0m\u001b[0;34m[\u001b[0m\u001b[0;34m:\u001b[0m\u001b[0;34m,\u001b[0m\u001b[0mindex\u001b[0m\u001b[0;34m+\u001b[0m\u001b[0;36m2\u001b[0m\u001b[0;34m]\u001b[0m\u001b[0;34m\u001b[0m\u001b[0;34m\u001b[0m\u001b[0m\n\u001b[0m\u001b[1;32m      9\u001b[0m \u001b[0;34m\u001b[0m\u001b[0m\n\u001b[1;32m     10\u001b[0m   \u001b[0mser\u001b[0m\u001b[0;34m[\u001b[0m\u001b[0mlen\u001b[0m\u001b[0;34m(\u001b[0m\u001b[0mser\u001b[0m\u001b[0;34m)\u001b[0m\u001b[0;34m-\u001b[0m\u001b[0;36m1\u001b[0m\u001b[0;34m]\u001b[0m \u001b[0;34m=\u001b[0m \u001b[0;36m0\u001b[0m\u001b[0;34m\u001b[0m\u001b[0;34m\u001b[0m\u001b[0m\n",
            "\u001b[0;32m/usr/local/lib/python3.8/dist-packages/pandas/core/indexing.py\u001b[0m in \u001b[0;36m__getitem__\u001b[0;34m(self, key)\u001b[0m\n\u001b[1;32m    923\u001b[0m                 \u001b[0;32mwith\u001b[0m \u001b[0msuppress\u001b[0m\u001b[0;34m(\u001b[0m\u001b[0mKeyError\u001b[0m\u001b[0;34m,\u001b[0m \u001b[0mIndexError\u001b[0m\u001b[0;34m)\u001b[0m\u001b[0;34m:\u001b[0m\u001b[0;34m\u001b[0m\u001b[0;34m\u001b[0m\u001b[0m\n\u001b[1;32m    924\u001b[0m                     \u001b[0;32mreturn\u001b[0m \u001b[0mself\u001b[0m\u001b[0;34m.\u001b[0m\u001b[0mobj\u001b[0m\u001b[0;34m.\u001b[0m\u001b[0m_get_value\u001b[0m\u001b[0;34m(\u001b[0m\u001b[0;34m*\u001b[0m\u001b[0mkey\u001b[0m\u001b[0;34m,\u001b[0m \u001b[0mtakeable\u001b[0m\u001b[0;34m=\u001b[0m\u001b[0mself\u001b[0m\u001b[0;34m.\u001b[0m\u001b[0m_takeable\u001b[0m\u001b[0;34m)\u001b[0m\u001b[0;34m\u001b[0m\u001b[0;34m\u001b[0m\u001b[0m\n\u001b[0;32m--> 925\u001b[0;31m             \u001b[0;32mreturn\u001b[0m \u001b[0mself\u001b[0m\u001b[0;34m.\u001b[0m\u001b[0m_getitem_tuple\u001b[0m\u001b[0;34m(\u001b[0m\u001b[0mkey\u001b[0m\u001b[0;34m)\u001b[0m\u001b[0;34m\u001b[0m\u001b[0;34m\u001b[0m\u001b[0m\n\u001b[0m\u001b[1;32m    926\u001b[0m         \u001b[0;32melse\u001b[0m\u001b[0;34m:\u001b[0m\u001b[0;34m\u001b[0m\u001b[0;34m\u001b[0m\u001b[0m\n\u001b[1;32m    927\u001b[0m             \u001b[0;31m# we by definition only have the 0th axis\u001b[0m\u001b[0;34m\u001b[0m\u001b[0;34m\u001b[0m\u001b[0;34m\u001b[0m\u001b[0m\n",
            "\u001b[0;32m/usr/local/lib/python3.8/dist-packages/pandas/core/indexing.py\u001b[0m in \u001b[0;36m_getitem_tuple\u001b[0;34m(self, tup)\u001b[0m\n\u001b[1;32m   1504\u001b[0m     \u001b[0;32mdef\u001b[0m \u001b[0m_getitem_tuple\u001b[0m\u001b[0;34m(\u001b[0m\u001b[0mself\u001b[0m\u001b[0;34m,\u001b[0m \u001b[0mtup\u001b[0m\u001b[0;34m:\u001b[0m \u001b[0mtuple\u001b[0m\u001b[0;34m)\u001b[0m\u001b[0;34m:\u001b[0m\u001b[0;34m\u001b[0m\u001b[0;34m\u001b[0m\u001b[0m\n\u001b[1;32m   1505\u001b[0m \u001b[0;34m\u001b[0m\u001b[0m\n\u001b[0;32m-> 1506\u001b[0;31m         \u001b[0mself\u001b[0m\u001b[0;34m.\u001b[0m\u001b[0m_has_valid_tuple\u001b[0m\u001b[0;34m(\u001b[0m\u001b[0mtup\u001b[0m\u001b[0;34m)\u001b[0m\u001b[0;34m\u001b[0m\u001b[0;34m\u001b[0m\u001b[0m\n\u001b[0m\u001b[1;32m   1507\u001b[0m         \u001b[0;32mwith\u001b[0m \u001b[0msuppress\u001b[0m\u001b[0;34m(\u001b[0m\u001b[0mIndexingError\u001b[0m\u001b[0;34m)\u001b[0m\u001b[0;34m:\u001b[0m\u001b[0;34m\u001b[0m\u001b[0;34m\u001b[0m\u001b[0m\n\u001b[1;32m   1508\u001b[0m             \u001b[0;32mreturn\u001b[0m \u001b[0mself\u001b[0m\u001b[0;34m.\u001b[0m\u001b[0m_getitem_lowerdim\u001b[0m\u001b[0;34m(\u001b[0m\u001b[0mtup\u001b[0m\u001b[0;34m)\u001b[0m\u001b[0;34m\u001b[0m\u001b[0;34m\u001b[0m\u001b[0m\n",
            "\u001b[0;32m/usr/local/lib/python3.8/dist-packages/pandas/core/indexing.py\u001b[0m in \u001b[0;36m_has_valid_tuple\u001b[0;34m(self, key)\u001b[0m\n\u001b[1;32m    752\u001b[0m         \u001b[0;32mfor\u001b[0m \u001b[0mi\u001b[0m\u001b[0;34m,\u001b[0m \u001b[0mk\u001b[0m \u001b[0;32min\u001b[0m \u001b[0menumerate\u001b[0m\u001b[0;34m(\u001b[0m\u001b[0mkey\u001b[0m\u001b[0;34m)\u001b[0m\u001b[0;34m:\u001b[0m\u001b[0;34m\u001b[0m\u001b[0;34m\u001b[0m\u001b[0m\n\u001b[1;32m    753\u001b[0m             \u001b[0;32mtry\u001b[0m\u001b[0;34m:\u001b[0m\u001b[0;34m\u001b[0m\u001b[0;34m\u001b[0m\u001b[0m\n\u001b[0;32m--> 754\u001b[0;31m                 \u001b[0mself\u001b[0m\u001b[0;34m.\u001b[0m\u001b[0m_validate_key\u001b[0m\u001b[0;34m(\u001b[0m\u001b[0mk\u001b[0m\u001b[0;34m,\u001b[0m \u001b[0mi\u001b[0m\u001b[0;34m)\u001b[0m\u001b[0;34m\u001b[0m\u001b[0;34m\u001b[0m\u001b[0m\n\u001b[0m\u001b[1;32m    755\u001b[0m             \u001b[0;32mexcept\u001b[0m \u001b[0mValueError\u001b[0m \u001b[0;32mas\u001b[0m \u001b[0merr\u001b[0m\u001b[0;34m:\u001b[0m\u001b[0;34m\u001b[0m\u001b[0;34m\u001b[0m\u001b[0m\n\u001b[1;32m    756\u001b[0m                 raise ValueError(\n",
            "\u001b[0;32m/usr/local/lib/python3.8/dist-packages/pandas/core/indexing.py\u001b[0m in \u001b[0;36m_validate_key\u001b[0;34m(self, key, axis)\u001b[0m\n\u001b[1;32m   1407\u001b[0m             \u001b[0;32mreturn\u001b[0m\u001b[0;34m\u001b[0m\u001b[0;34m\u001b[0m\u001b[0m\n\u001b[1;32m   1408\u001b[0m         \u001b[0;32melif\u001b[0m \u001b[0mis_integer\u001b[0m\u001b[0;34m(\u001b[0m\u001b[0mkey\u001b[0m\u001b[0;34m)\u001b[0m\u001b[0;34m:\u001b[0m\u001b[0;34m\u001b[0m\u001b[0;34m\u001b[0m\u001b[0m\n\u001b[0;32m-> 1409\u001b[0;31m             \u001b[0mself\u001b[0m\u001b[0;34m.\u001b[0m\u001b[0m_validate_integer\u001b[0m\u001b[0;34m(\u001b[0m\u001b[0mkey\u001b[0m\u001b[0;34m,\u001b[0m \u001b[0maxis\u001b[0m\u001b[0;34m)\u001b[0m\u001b[0;34m\u001b[0m\u001b[0;34m\u001b[0m\u001b[0m\n\u001b[0m\u001b[1;32m   1410\u001b[0m         \u001b[0;32melif\u001b[0m \u001b[0misinstance\u001b[0m\u001b[0;34m(\u001b[0m\u001b[0mkey\u001b[0m\u001b[0;34m,\u001b[0m \u001b[0mtuple\u001b[0m\u001b[0;34m)\u001b[0m\u001b[0;34m:\u001b[0m\u001b[0;34m\u001b[0m\u001b[0;34m\u001b[0m\u001b[0m\n\u001b[1;32m   1411\u001b[0m             \u001b[0;31m# a tuple should already have been caught by this point\u001b[0m\u001b[0;34m\u001b[0m\u001b[0;34m\u001b[0m\u001b[0;34m\u001b[0m\u001b[0m\n",
            "\u001b[0;32m/usr/local/lib/python3.8/dist-packages/pandas/core/indexing.py\u001b[0m in \u001b[0;36m_validate_integer\u001b[0;34m(self, key, axis)\u001b[0m\n\u001b[1;32m   1498\u001b[0m         \u001b[0mlen_axis\u001b[0m \u001b[0;34m=\u001b[0m \u001b[0mlen\u001b[0m\u001b[0;34m(\u001b[0m\u001b[0mself\u001b[0m\u001b[0;34m.\u001b[0m\u001b[0mobj\u001b[0m\u001b[0;34m.\u001b[0m\u001b[0m_get_axis\u001b[0m\u001b[0;34m(\u001b[0m\u001b[0maxis\u001b[0m\u001b[0;34m)\u001b[0m\u001b[0;34m)\u001b[0m\u001b[0;34m\u001b[0m\u001b[0;34m\u001b[0m\u001b[0m\n\u001b[1;32m   1499\u001b[0m         \u001b[0;32mif\u001b[0m \u001b[0mkey\u001b[0m \u001b[0;34m>=\u001b[0m \u001b[0mlen_axis\u001b[0m \u001b[0;32mor\u001b[0m \u001b[0mkey\u001b[0m \u001b[0;34m<\u001b[0m \u001b[0;34m-\u001b[0m\u001b[0mlen_axis\u001b[0m\u001b[0;34m:\u001b[0m\u001b[0;34m\u001b[0m\u001b[0;34m\u001b[0m\u001b[0m\n\u001b[0;32m-> 1500\u001b[0;31m             \u001b[0;32mraise\u001b[0m \u001b[0mIndexError\u001b[0m\u001b[0;34m(\u001b[0m\u001b[0;34m\"single positional indexer is out-of-bounds\"\u001b[0m\u001b[0;34m)\u001b[0m\u001b[0;34m\u001b[0m\u001b[0;34m\u001b[0m\u001b[0m\n\u001b[0m\u001b[1;32m   1501\u001b[0m \u001b[0;34m\u001b[0m\u001b[0m\n\u001b[1;32m   1502\u001b[0m     \u001b[0;31m# -------------------------------------------------------------------\u001b[0m\u001b[0;34m\u001b[0m\u001b[0;34m\u001b[0m\u001b[0;34m\u001b[0m\u001b[0m\n",
            "\u001b[0;31mIndexError\u001b[0m: single positional indexer is out-of-bounds"
          ]
        }
      ]
    },
    {
      "cell_type": "code",
      "source": [
        "d = {'col1': [1, 2], 'col2': [3, 4]}\n",
        "ds = pd.DataFrame(data=d)\n",
        "\n",
        "#Replace 0 with the row index you are adding\n",
        "di = ds.append(ds.iloc[0,:], ignore_index=True)\n",
        "\n",
        "#Replace 0 with the row index you are adding\n",
        "ser = pd.DataFrame(di.values.copy()).iloc[:,0]\n",
        "\n",
        "ser[len(ser)-1] = 0\n",
        "\n",
        "di[\"col3\"] = ser\n"
      ],
      "metadata": {
        "colab": {
          "base_uri": "https://localhost:8080/",
          "height": 143
        },
        "id": "8LjhLg5iqBLW",
        "outputId": "c006594d-e680-4df7-c0e0-8b763639d951"
      },
      "execution_count": null,
      "outputs": [
        {
          "output_type": "execute_result",
          "data": {
            "text/plain": [
              "   col1  col2  col3\n",
              "0     1     3     1\n",
              "1     2     4     2\n",
              "2     1     3     0"
            ],
            "text/html": [
              "\n",
              "  <div id=\"df-93f5f95d-bcf1-4322-8b8e-150c28320a8f\">\n",
              "    <div class=\"colab-df-container\">\n",
              "      <div>\n",
              "<style scoped>\n",
              "    .dataframe tbody tr th:only-of-type {\n",
              "        vertical-align: middle;\n",
              "    }\n",
              "\n",
              "    .dataframe tbody tr th {\n",
              "        vertical-align: top;\n",
              "    }\n",
              "\n",
              "    .dataframe thead th {\n",
              "        text-align: right;\n",
              "    }\n",
              "</style>\n",
              "<table border=\"1\" class=\"dataframe\">\n",
              "  <thead>\n",
              "    <tr style=\"text-align: right;\">\n",
              "      <th></th>\n",
              "      <th>col1</th>\n",
              "      <th>col2</th>\n",
              "      <th>col3</th>\n",
              "    </tr>\n",
              "  </thead>\n",
              "  <tbody>\n",
              "    <tr>\n",
              "      <th>0</th>\n",
              "      <td>1</td>\n",
              "      <td>3</td>\n",
              "      <td>1</td>\n",
              "    </tr>\n",
              "    <tr>\n",
              "      <th>1</th>\n",
              "      <td>2</td>\n",
              "      <td>4</td>\n",
              "      <td>2</td>\n",
              "    </tr>\n",
              "    <tr>\n",
              "      <th>2</th>\n",
              "      <td>1</td>\n",
              "      <td>3</td>\n",
              "      <td>0</td>\n",
              "    </tr>\n",
              "  </tbody>\n",
              "</table>\n",
              "</div>\n",
              "      <button class=\"colab-df-convert\" onclick=\"convertToInteractive('df-93f5f95d-bcf1-4322-8b8e-150c28320a8f')\"\n",
              "              title=\"Convert this dataframe to an interactive table.\"\n",
              "              style=\"display:none;\">\n",
              "        \n",
              "  <svg xmlns=\"http://www.w3.org/2000/svg\" height=\"24px\"viewBox=\"0 0 24 24\"\n",
              "       width=\"24px\">\n",
              "    <path d=\"M0 0h24v24H0V0z\" fill=\"none\"/>\n",
              "    <path d=\"M18.56 5.44l.94 2.06.94-2.06 2.06-.94-2.06-.94-.94-2.06-.94 2.06-2.06.94zm-11 1L8.5 8.5l.94-2.06 2.06-.94-2.06-.94L8.5 2.5l-.94 2.06-2.06.94zm10 10l.94 2.06.94-2.06 2.06-.94-2.06-.94-.94-2.06-.94 2.06-2.06.94z\"/><path d=\"M17.41 7.96l-1.37-1.37c-.4-.4-.92-.59-1.43-.59-.52 0-1.04.2-1.43.59L10.3 9.45l-7.72 7.72c-.78.78-.78 2.05 0 2.83L4 21.41c.39.39.9.59 1.41.59.51 0 1.02-.2 1.41-.59l7.78-7.78 2.81-2.81c.8-.78.8-2.07 0-2.86zM5.41 20L4 18.59l7.72-7.72 1.47 1.35L5.41 20z\"/>\n",
              "  </svg>\n",
              "      </button>\n",
              "      \n",
              "  <style>\n",
              "    .colab-df-container {\n",
              "      display:flex;\n",
              "      flex-wrap:wrap;\n",
              "      gap: 12px;\n",
              "    }\n",
              "\n",
              "    .colab-df-convert {\n",
              "      background-color: #E8F0FE;\n",
              "      border: none;\n",
              "      border-radius: 50%;\n",
              "      cursor: pointer;\n",
              "      display: none;\n",
              "      fill: #1967D2;\n",
              "      height: 32px;\n",
              "      padding: 0 0 0 0;\n",
              "      width: 32px;\n",
              "    }\n",
              "\n",
              "    .colab-df-convert:hover {\n",
              "      background-color: #E2EBFA;\n",
              "      box-shadow: 0px 1px 2px rgba(60, 64, 67, 0.3), 0px 1px 3px 1px rgba(60, 64, 67, 0.15);\n",
              "      fill: #174EA6;\n",
              "    }\n",
              "\n",
              "    [theme=dark] .colab-df-convert {\n",
              "      background-color: #3B4455;\n",
              "      fill: #D2E3FC;\n",
              "    }\n",
              "\n",
              "    [theme=dark] .colab-df-convert:hover {\n",
              "      background-color: #434B5C;\n",
              "      box-shadow: 0px 1px 3px 1px rgba(0, 0, 0, 0.15);\n",
              "      filter: drop-shadow(0px 1px 2px rgba(0, 0, 0, 0.3));\n",
              "      fill: #FFFFFF;\n",
              "    }\n",
              "  </style>\n",
              "\n",
              "      <script>\n",
              "        const buttonEl =\n",
              "          document.querySelector('#df-93f5f95d-bcf1-4322-8b8e-150c28320a8f button.colab-df-convert');\n",
              "        buttonEl.style.display =\n",
              "          google.colab.kernel.accessAllowed ? 'block' : 'none';\n",
              "\n",
              "        async function convertToInteractive(key) {\n",
              "          const element = document.querySelector('#df-93f5f95d-bcf1-4322-8b8e-150c28320a8f');\n",
              "          const dataTable =\n",
              "            await google.colab.kernel.invokeFunction('convertToInteractive',\n",
              "                                                     [key], {});\n",
              "          if (!dataTable) return;\n",
              "\n",
              "          const docLinkHtml = 'Like what you see? Visit the ' +\n",
              "            '<a target=\"_blank\" href=https://colab.research.google.com/notebooks/data_table.ipynb>data table notebook</a>'\n",
              "            + ' to learn more about interactive tables.';\n",
              "          element.innerHTML = '';\n",
              "          dataTable['output_type'] = 'display_data';\n",
              "          await google.colab.output.renderOutput(dataTable, element);\n",
              "          const docLink = document.createElement('div');\n",
              "          docLink.innerHTML = docLinkHtml;\n",
              "          element.appendChild(docLink);\n",
              "        }\n",
              "      </script>\n",
              "    </div>\n",
              "  </div>\n",
              "  "
            ]
          },
          "metadata": {},
          "execution_count": 63
        }
      ]
    }
  ]
}
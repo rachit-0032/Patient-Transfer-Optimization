{
 "cells": [
  {
   "cell_type": "code",
   "execution_count": 4,
   "id": "7763978e",
   "metadata": {},
   "outputs": [],
   "source": [
    "## Importing packages.\n",
    "# import Pkg\n",
    "# Pkg.add(\"Tables\")\n",
    "using CSV, Tables, LinearAlgebra, Random, Gurobi, JuMP, DataFrames, Plots, Statistics"
   ]
  },
  {
   "cell_type": "code",
   "execution_count": 94,
   "id": "59c47e26",
   "metadata": {},
   "outputs": [],
   "source": [
    "## Function to Load Data.\n",
    "function load_data(fname)\n",
    "    data = DataFrame(CSV.File(fname, header=false)) |> DataFrame;\n",
    "    return data\n",
    "end;"
   ]
  },
  {
   "cell_type": "code",
   "execution_count": null,
   "id": "0546a7c6",
   "metadata": {},
   "outputs": [],
   "source": []
  },
  {
   "cell_type": "code",
   "execution_count": 2,
   "id": "39292591",
   "metadata": {},
   "outputs": [
    {
     "ename": "LoadError",
     "evalue": "UndefVarError: CSV not defined",
     "output_type": "error",
     "traceback": [
      "UndefVarError: CSV not defined",
      "",
      "Stacktrace:",
      " [1] top-level scope",
      "   @ In[2]:1",
      " [2] eval",
      "   @ ./boot.jl:368 [inlined]",
      " [3] include_string(mapexpr::typeof(REPL.softscope), mod::Module, code::String, filename::String)",
      "   @ Base ./loading.jl:1428"
     ]
    }
   ],
   "source": [
    "hospital_mapping = CSV.read(\"../data/HospitalMapping.csv\", DataFrame, pool=true);\n",
    "distance_mapping_full = CSV.read(\"../data/DistanceMapping_full.csv\", DataFrame, pool=true);\n",
    "time_mapping = CSV.read(\"../data/TimeMapping.csv\", DataFrame, pool=true);\n",
    "depot_capacity = CSV.read(\"../data/depot_capacity.csv\", DataFrame, pool=true);\n",
    "vehicle_type = CSV.read(\"../data/vehicle_type.csv\", DataFrame, pool=true);\n",
    "# depot_hospital_distances = CSV.read(\"../data/depot_hospital_distances.csv\", DataFrame, pool=true);"
   ]
  },
  {
   "cell_type": "code",
   "execution_count": 3,
   "id": "cc75c3fe",
   "metadata": {},
   "outputs": [
    {
     "ename": "LoadError",
     "evalue": "UndefVarError: hospital_mapping not defined",
     "output_type": "error",
     "traceback": [
      "UndefVarError: hospital_mapping not defined",
      "",
      "Stacktrace:",
      " [1] top-level scope",
      "   @ In[3]:1",
      " [2] eval",
      "   @ ./boot.jl:368 [inlined]",
      " [3] include_string(mapexpr::typeof(REPL.softscope), mod::Module, code::String, filename::String)",
      "   @ Base ./loading.jl:1428"
     ]
    }
   ],
   "source": [
    "hospital_mapping = hospital_mapping[:,2:end]\n",
    "distance_mapping = distance_mapping[:,2:end]\n",
    "time_mapping = time_mapping[:,2:end]\n",
    "depot_capacity = depot_capacity[:,2:end]\n",
    "vehicle_type = vehicle_type[:,2:end]\n",
    "# depot_hospital_distances = depot_hospital_distances[:,2:end]"
   ]
  },
  {
   "cell_type": "code",
   "execution_count": null,
   "id": "753bc57a",
   "metadata": {},
   "outputs": [],
   "source": []
  },
  {
   "cell_type": "markdown",
   "id": "00a362dc",
   "metadata": {},
   "source": [
    "### Creating Patient Mapping from Hospital Mapping"
   ]
  },
  {
   "cell_type": "code",
   "execution_count": 97,
   "id": "53ec215a",
   "metadata": {},
   "outputs": [],
   "source": [
    "patients_per_hospital = sum(eachcol(hospital_mapping))\n",
    "patient_mapping = []\n",
    "\n",
    "for index = 1:size(patients_per_hospital)[1]\n",
    "    for patient = 1:patients_per_hospital[index]\n",
    "         push!(patient_mapping, index)\n",
    "    end\n",
    "end"
   ]
  },
  {
   "cell_type": "code",
   "execution_count": 98,
   "id": "c95b482d",
   "metadata": {},
   "outputs": [
    {
     "data": {
      "text/html": [
       "<div><div style = \"float: left;\"><span>4×4 DataFrame</span></div><div style = \"clear: both;\"></div></div><div class = \"data-frame\" style = \"overflow-x: scroll;\"><table class = \"data-frame\" style = \"margin-bottom: 6px;\"><thead><tr class = \"header\"><th class = \"rowNumber\" style = \"font-weight: bold; text-align: right;\">Row</th><th style = \"text-align: left;\">1</th><th style = \"text-align: left;\">2</th><th style = \"text-align: left;\">3</th><th style = \"text-align: left;\">4</th></tr><tr class = \"subheader headerLastRow\"><th class = \"rowNumber\" style = \"font-weight: bold; text-align: right;\"></th><th title = \"Int64\" style = \"text-align: left;\">Int64</th><th title = \"Int64\" style = \"text-align: left;\">Int64</th><th title = \"Int64\" style = \"text-align: left;\">Int64</th><th title = \"Int64\" style = \"text-align: left;\">Int64</th></tr></thead><tbody><tr><td class = \"rowNumber\" style = \"font-weight: bold; text-align: right;\">1</td><td style = \"text-align: right;\">0</td><td style = \"text-align: right;\">0</td><td style = \"text-align: right;\">0</td><td style = \"text-align: right;\">0</td></tr><tr><td class = \"rowNumber\" style = \"font-weight: bold; text-align: right;\">2</td><td style = \"text-align: right;\">0</td><td style = \"text-align: right;\">0</td><td style = \"text-align: right;\">1</td><td style = \"text-align: right;\">0</td></tr><tr><td class = \"rowNumber\" style = \"font-weight: bold; text-align: right;\">3</td><td style = \"text-align: right;\">2</td><td style = \"text-align: right;\">0</td><td style = \"text-align: right;\">0</td><td style = \"text-align: right;\">0</td></tr><tr><td class = \"rowNumber\" style = \"font-weight: bold; text-align: right;\">4</td><td style = \"text-align: right;\">0</td><td style = \"text-align: right;\">1</td><td style = \"text-align: right;\">0</td><td style = \"text-align: right;\">0</td></tr></tbody></table></div>"
      ],
      "text/latex": [
       "\\begin{tabular}{r|cccc}\n",
       "\t& 1 & 2 & 3 & 4\\\\\n",
       "\t\\hline\n",
       "\t& Int64 & Int64 & Int64 & Int64\\\\\n",
       "\t\\hline\n",
       "\t1 & 0 & 0 & 0 & 0 \\\\\n",
       "\t2 & 0 & 0 & 1 & 0 \\\\\n",
       "\t3 & 2 & 0 & 0 & 0 \\\\\n",
       "\t4 & 0 & 1 & 0 & 0 \\\\\n",
       "\\end{tabular}\n"
      ],
      "text/plain": [
       "\u001b[1m4×4 DataFrame\n",
       "\u001b[1m Row │\u001b[1m 1     \u001b[1m 2     \u001b[1m 3     \u001b[1m 4\n",
       "     │\u001b[90m Int64 \u001b[90m Int64 \u001b[90m Int64 \u001b[90m Int64\n",
       "─────┼────────────────────────────\n",
       "   1 │     0      0      0      0\n",
       "   2 │     0      0      1      0\n",
       "   3 │     2      0      0      0\n",
       "   4 │     0      1      0      0"
      ]
     },
     "execution_count": 98,
     "metadata": {},
     "output_type": "execute_result"
    }
   ],
   "source": [
    "hospital_mapping"
   ]
  },
  {
   "cell_type": "code",
   "execution_count": null,
   "id": "eccc566b",
   "metadata": {},
   "outputs": [],
   "source": []
  },
  {
   "cell_type": "code",
   "execution_count": null,
   "id": "4186c251",
   "metadata": {},
   "outputs": [],
   "source": []
  },
  {
   "cell_type": "code",
   "execution_count": 114,
   "id": "8f783197",
   "metadata": {},
   "outputs": [],
   "source": [
    "patient_hospital_mapping = []\n",
    "max_transfers = maximum(Matrix(hospital_mapping))\n",
    "for i=1:max_transfers\n",
    "    transfers = sort(Tuple.(findall(>=(i), Matrix(hospital_mapping))))\n",
    "    for item in transfers\n",
    "        push!(patient_hospital_mapping, item)\n",
    "    end\n",
    "#    push!(patient_hospital_mapping, sort(Tuple.(findall(>=(i), Matrix(hospital_mapping))))[0])\n",
    "end"
   ]
  },
  {
   "cell_type": "code",
   "execution_count": 115,
   "id": "51e14691",
   "metadata": {},
   "outputs": [
    {
     "data": {
      "text/plain": [
       "4-element Vector{Any}:\n",
       " (2, 3)\n",
       " (3, 1)\n",
       " (4, 2)\n",
       " (3, 1)"
      ]
     },
     "execution_count": 115,
     "metadata": {},
     "output_type": "execute_result"
    }
   ],
   "source": [
    "patient_hospital_mapping"
   ]
  },
  {
   "cell_type": "code",
   "execution_count": null,
   "id": "8121329b",
   "metadata": {},
   "outputs": [],
   "source": [
    "Dict2 = Dict(\"a\" => 1, \"b\" => 2, \"c\" => 3)"
   ]
  },
  {
   "cell_type": "code",
   "execution_count": null,
   "id": "ff7d10ec",
   "metadata": {},
   "outputs": [],
   "source": []
  },
  {
   "cell_type": "code",
   "execution_count": 116,
   "id": "89eac4c7",
   "metadata": {},
   "outputs": [],
   "source": [
    "patient_origin = []\n",
    "patient_dest = []\n",
    "aa\n",
    "for index = 1:size(patient_hospital_mapping)[1]\n",
    "    push!(patient_origin, patient_hospital_mapping[index][1])\n",
    "    push!(patient_dest, patient_hospital_mapping[index][2])\n",
    "end"
   ]
  },
  {
   "cell_type": "code",
   "execution_count": 117,
   "id": "4509625f",
   "metadata": {},
   "outputs": [
    {
     "data": {
      "text/plain": [
       "4-element Vector{Any}:\n",
       " 2\n",
       " 3\n",
       " 4\n",
       " 3"
      ]
     },
     "execution_count": 117,
     "metadata": {},
     "output_type": "execute_result"
    }
   ],
   "source": [
    "patient_origin"
   ]
  },
  {
   "cell_type": "code",
   "execution_count": null,
   "id": "96b14e4b",
   "metadata": {},
   "outputs": [],
   "source": []
  },
  {
   "cell_type": "code",
   "execution_count": null,
   "id": "3cfa5d97",
   "metadata": {},
   "outputs": [],
   "source": []
  },
  {
   "cell_type": "code",
   "execution_count": null,
   "id": "f99bcba0",
   "metadata": {},
   "outputs": [],
   "source": []
  },
  {
   "cell_type": "code",
   "execution_count": null,
   "id": "e56b3ffc",
   "metadata": {},
   "outputs": [],
   "source": []
  },
  {
   "cell_type": "code",
   "execution_count": null,
   "id": "5f381a0b",
   "metadata": {},
   "outputs": [],
   "source": []
  },
  {
   "cell_type": "markdown",
   "id": "749d9b44",
   "metadata": {},
   "source": [
    "### Enrich the Distance Mapping"
   ]
  },
  {
   "cell_type": "code",
   "execution_count": 89,
   "id": "0457ecb1",
   "metadata": {},
   "outputs": [
    {
     "data": {
      "text/plain": [
       "5"
      ]
     },
     "execution_count": 89,
     "metadata": {},
     "output_type": "execute_result"
    }
   ],
   "source": [
    "D = size(depot_capacity)[1]"
   ]
  },
  {
   "cell_type": "code",
   "execution_count": 90,
   "id": "d067f2d1",
   "metadata": {},
   "outputs": [
    {
     "data": {
      "text/plain": [
       "4-element Vector{Int64}:\n",
       " 22\n",
       " 22\n",
       " 11\n",
       " 18"
      ]
     },
     "execution_count": 90,
     "metadata": {},
     "output_type": "execute_result"
    }
   ],
   "source": [
    "hospital_origin_index = D.+patient_origin\n",
    "hospital_dest_index = D.+patient_dest"
   ]
  },
  {
   "cell_type": "code",
   "execution_count": 91,
   "id": "1c083d88",
   "metadata": {},
   "outputs": [
    {
     "data": {
      "text/plain": [
       "(4, 28)"
      ]
     },
     "execution_count": 91,
     "metadata": {},
     "output_type": "execute_result"
    }
   ],
   "source": [
    "patient_all_distances = distance_mapping[D.+patient_origin,:];\n",
    "size(patient_all_distances)"
   ]
  },
  {
   "cell_type": "code",
   "execution_count": 92,
   "id": "ee8b5f31",
   "metadata": {},
   "outputs": [
    {
     "data": {
      "text/plain": [
       "6"
      ]
     },
     "execution_count": 92,
     "metadata": {},
     "output_type": "execute_result"
    }
   ],
   "source": [
    "(D+1)"
   ]
  },
  {
   "cell_type": "code",
   "execution_count": null,
   "id": "0995991d",
   "metadata": {},
   "outputs": [],
   "source": []
  },
  {
   "cell_type": "code",
   "execution_count": null,
   "id": "996ce0a8",
   "metadata": {},
   "outputs": [],
   "source": []
  },
  {
   "cell_type": "code",
   "execution_count": null,
   "id": "ba9eb151",
   "metadata": {},
   "outputs": [],
   "source": []
  },
  {
   "cell_type": "code",
   "execution_count": 66,
   "id": "b322d043",
   "metadata": {},
   "outputs": [
    {
     "data": {
      "text/html": [
       "<div><div style = \"float: left;\"><span>29×29 DataFrame</span></div><div style = \"float: right;\"><span style = \"font-style: italic;\">4 rows omitted</span></div><div style = \"clear: both;\"></div></div><div class = \"data-frame\" style = \"overflow-x: scroll;\"><table class = \"data-frame\" style = \"margin-bottom: 6px;\"><thead><tr class = \"header\"><th class = \"rowNumber\" style = \"font-weight: bold; text-align: right;\">Row</th><th style = \"text-align: left;\">1</th><th style = \"text-align: left;\">2</th><th style = \"text-align: left;\">3</th><th style = \"text-align: left;\">4</th><th style = \"text-align: left;\">5</th><th style = \"text-align: left;\">6</th><th style = \"text-align: left;\">7</th><th style = \"text-align: left;\">8</th><th style = \"text-align: left;\">9</th><th style = \"text-align: left;\">10</th><th style = \"text-align: left;\">11</th><th style = \"text-align: left;\">12</th><th style = \"text-align: left;\">13</th><th style = \"text-align: left;\">14</th><th style = \"text-align: left;\">15</th><th style = \"text-align: left;\">16</th><th style = \"text-align: left;\">17</th><th style = \"text-align: left;\">18</th><th style = \"text-align: left;\">19</th><th style = \"text-align: left;\">20</th><th style = \"text-align: left;\">21</th><th style = \"text-align: left;\">22</th><th style = \"text-align: left;\">23</th><th style = \"text-align: left;\">24</th><th style = \"text-align: left;\">25</th><th style = \"text-align: left;\">26</th><th style = \"text-align: left;\">27</th><th style = \"text-align: left;\">28</th><th style = \"text-align: left;\">29</th></tr><tr class = \"subheader headerLastRow\"><th class = \"rowNumber\" style = \"font-weight: bold; text-align: right;\"></th><th title = \"Int64\" style = \"text-align: left;\">Int64</th><th title = \"Int64\" style = \"text-align: left;\">Int64</th><th title = \"Int64\" style = \"text-align: left;\">Int64</th><th title = \"Int64\" style = \"text-align: left;\">Int64</th><th title = \"Int64\" style = \"text-align: left;\">Int64</th><th title = \"Int64\" style = \"text-align: left;\">Int64</th><th title = \"Int64\" style = \"text-align: left;\">Int64</th><th title = \"Int64\" style = \"text-align: left;\">Int64</th><th title = \"Int64\" style = \"text-align: left;\">Int64</th><th title = \"Int64\" style = \"text-align: left;\">Int64</th><th title = \"Int64\" style = \"text-align: left;\">Int64</th><th title = \"Int64\" style = \"text-align: left;\">Int64</th><th title = \"Int64\" style = \"text-align: left;\">Int64</th><th title = \"Int64\" style = \"text-align: left;\">Int64</th><th title = \"Int64\" style = \"text-align: left;\">Int64</th><th title = \"Int64\" style = \"text-align: left;\">Int64</th><th title = \"Int64\" style = \"text-align: left;\">Int64</th><th title = \"Int64\" style = \"text-align: left;\">Int64</th><th title = \"Int64\" style = \"text-align: left;\">Int64</th><th title = \"Int64\" style = \"text-align: left;\">Int64</th><th title = \"Int64\" style = \"text-align: left;\">Int64</th><th title = \"Int64\" style = \"text-align: left;\">Int64</th><th title = \"Int64\" style = \"text-align: left;\">Int64</th><th title = \"Int64\" style = \"text-align: left;\">Int64</th><th title = \"Int64\" style = \"text-align: left;\">Int64</th><th title = \"Int64\" style = \"text-align: left;\">Int64</th><th title = \"Int64\" style = \"text-align: left;\">Int64</th><th title = \"Int64\" style = \"text-align: left;\">Int64</th><th title = \"Int64\" style = \"text-align: left;\">Int64</th></tr></thead><tbody><tr><td class = \"rowNumber\" style = \"font-weight: bold; text-align: right;\">1</td><td style = \"text-align: right;\">0</td><td style = \"text-align: right;\">3784</td><td style = \"text-align: right;\">4197</td><td style = \"text-align: right;\">5503</td><td style = \"text-align: right;\">5546</td><td style = \"text-align: right;\">8313</td><td style = \"text-align: right;\">4303</td><td style = \"text-align: right;\">3990</td><td style = \"text-align: right;\">10182</td><td style = \"text-align: right;\">5546</td><td style = \"text-align: right;\">10</td><td style = \"text-align: right;\">8313</td><td style = \"text-align: right;\">4303</td><td style = \"text-align: right;\">3990</td><td style = \"text-align: right;\">10182</td><td style = \"text-align: right;\">3180</td><td style = \"text-align: right;\">3936</td><td style = \"text-align: right;\">3797</td><td style = \"text-align: right;\">2876</td><td style = \"text-align: right;\">6246</td><td style = \"text-align: right;\">3378</td><td style = \"text-align: right;\">11316</td><td style = \"text-align: right;\">11127</td><td style = \"text-align: right;\">3182</td><td style = \"text-align: right;\">11207</td><td style = \"text-align: right;\">10968</td><td style = \"text-align: right;\">7069</td><td style = \"text-align: right;\">7727</td><td style = \"text-align: right;\">1537</td></tr><tr><td class = \"rowNumber\" style = \"font-weight: bold; text-align: right;\">2</td><td style = \"text-align: right;\">3086</td><td style = \"text-align: right;\">0</td><td style = \"text-align: right;\">441</td><td style = \"text-align: right;\">4196</td><td style = \"text-align: right;\">4239</td><td style = \"text-align: right;\">10257</td><td style = \"text-align: right;\">539</td><td style = \"text-align: right;\">226</td><td style = \"text-align: right;\">5724</td><td style = \"text-align: right;\">4239</td><td style = \"text-align: right;\">310</td><td style = \"text-align: right;\">10257</td><td style = \"text-align: right;\">539</td><td style = \"text-align: right;\">226</td><td style = \"text-align: right;\">5724</td><td style = \"text-align: right;\">5637</td><td style = \"text-align: right;\">2629</td><td style = \"text-align: right;\">6254</td><td style = \"text-align: right;\">4184</td><td style = \"text-align: right;\">4536</td><td style = \"text-align: right;\">6676</td><td style = \"text-align: right;\">5387</td><td style = \"text-align: right;\">6340</td><td style = \"text-align: right;\">1298</td><td style = \"text-align: right;\">5644</td><td style = \"text-align: right;\">5789</td><td style = \"text-align: right;\">4479</td><td style = \"text-align: right;\">6420</td><td style = \"text-align: right;\">1622</td></tr><tr><td class = \"rowNumber\" style = \"font-weight: bold; text-align: right;\">3</td><td style = \"text-align: right;\">3506</td><td style = \"text-align: right;\">448</td><td style = \"text-align: right;\">0</td><td style = \"text-align: right;\">4630</td><td style = \"text-align: right;\">4673</td><td style = \"text-align: right;\">10692</td><td style = \"text-align: right;\">559</td><td style = \"text-align: right;\">518</td><td style = \"text-align: right;\">5378</td><td style = \"text-align: right;\">4673</td><td style = \"text-align: right;\">744</td><td style = \"text-align: right;\">10692</td><td style = \"text-align: right;\">559</td><td style = \"text-align: right;\">518</td><td style = \"text-align: right;\">5378</td><td style = \"text-align: right;\">6057</td><td style = \"text-align: right;\">3063</td><td style = \"text-align: right;\">6674</td><td style = \"text-align: right;\">4619</td><td style = \"text-align: right;\">4956</td><td style = \"text-align: right;\">7096</td><td style = \"text-align: right;\">5041</td><td style = \"text-align: right;\">5994</td><td style = \"text-align: right;\">1733</td><td style = \"text-align: right;\">5298</td><td style = \"text-align: right;\">5443</td><td style = \"text-align: right;\">5091</td><td style = \"text-align: right;\">5202</td><td style = \"text-align: right;\">2042</td></tr><tr><td class = \"rowNumber\" style = \"font-weight: bold; text-align: right;\">4</td><td style = \"text-align: right;\">5755</td><td style = \"text-align: right;\">4354</td><td style = \"text-align: right;\">4775</td><td style = \"text-align: right;\">0</td><td style = \"text-align: right;\">834</td><td style = \"text-align: right;\">9991</td><td style = \"text-align: right;\">4369</td><td style = \"text-align: right;\">4326</td><td style = \"text-align: right;\">5973</td><td style = \"text-align: right;\">834</td><td style = \"text-align: right;\">4106</td><td style = \"text-align: right;\">9991</td><td style = \"text-align: right;\">4369</td><td style = \"text-align: right;\">4326</td><td style = \"text-align: right;\">5973</td><td style = \"text-align: right;\">9458</td><td style = \"text-align: right;\">1708</td><td style = \"text-align: right;\">10075</td><td style = \"text-align: right;\">3593</td><td style = \"text-align: right;\">11721</td><td style = \"text-align: right;\">6952</td><td style = \"text-align: right;\">7107</td><td style = \"text-align: right;\">6918</td><td style = \"text-align: right;\">4894</td><td style = \"text-align: right;\">6998</td><td style = \"text-align: right;\">6759</td><td style = \"text-align: right;\">11537</td><td style = \"text-align: right;\">3518</td><td style = \"text-align: right;\">5033</td></tr><tr><td class = \"rowNumber\" style = \"font-weight: bold; text-align: right;\">5</td><td style = \"text-align: right;\">5318</td><td style = \"text-align: right;\">3917</td><td style = \"text-align: right;\">4018</td><td style = \"text-align: right;\">641</td><td style = \"text-align: right;\">0</td><td style = \"text-align: right;\">9652</td><td style = \"text-align: right;\">3686</td><td style = \"text-align: right;\">3889</td><td style = \"text-align: right;\">5634</td><td style = \"text-align: right;\">232</td><td style = \"text-align: right;\">3669</td><td style = \"text-align: right;\">9652</td><td style = \"text-align: right;\">3686</td><td style = \"text-align: right;\">3889</td><td style = \"text-align: right;\">5634</td><td style = \"text-align: right;\">9021</td><td style = \"text-align: right;\">1385</td><td style = \"text-align: right;\">9638</td><td style = \"text-align: right;\">3039</td><td style = \"text-align: right;\">11382</td><td style = \"text-align: right;\">6533</td><td style = \"text-align: right;\">6768</td><td style = \"text-align: right;\">6579</td><td style = \"text-align: right;\">4457</td><td style = \"text-align: right;\">6659</td><td style = \"text-align: right;\">6420</td><td style = \"text-align: right;\">11198</td><td style = \"text-align: right;\">3179</td><td style = \"text-align: right;\">4596</td></tr><tr><td class = \"rowNumber\" style = \"font-weight: bold; text-align: right;\">6</td><td style = \"text-align: right;\">3102</td><td style = \"text-align: right;\">310</td><td style = \"text-align: right;\">731</td><td style = \"text-align: right;\">3948</td><td style = \"text-align: right;\">3991</td><td style = \"text-align: right;\">0</td><td style = \"text-align: right;\">3784</td><td style = \"text-align: right;\">4197</td><td style = \"text-align: right;\">5503</td><td style = \"text-align: right;\">5546</td><td style = \"text-align: right;\">3930</td><td style = \"text-align: right;\">8313</td><td style = \"text-align: right;\">4303</td><td style = \"text-align: right;\">3990</td><td style = \"text-align: right;\">10182</td><td style = \"text-align: right;\">3180</td><td style = \"text-align: right;\">3936</td><td style = \"text-align: right;\">3797</td><td style = \"text-align: right;\">2876</td><td style = \"text-align: right;\">6246</td><td style = \"text-align: right;\">3378</td><td style = \"text-align: right;\">11316</td><td style = \"text-align: right;\">11127</td><td style = \"text-align: right;\">3182</td><td style = \"text-align: right;\">6246</td><td style = \"text-align: right;\">3378</td><td style = \"text-align: right;\">11316</td><td style = \"text-align: right;\">11127</td><td style = \"text-align: right;\">3182</td></tr><tr><td class = \"rowNumber\" style = \"font-weight: bold; text-align: right;\">7</td><td style = \"text-align: right;\">8239</td><td style = \"text-align: right;\">10264</td><td style = \"text-align: right;\">10685</td><td style = \"text-align: right;\">10875</td><td style = \"text-align: right;\">10701</td><td style = \"text-align: right;\">3086</td><td style = \"text-align: right;\">0</td><td style = \"text-align: right;\">441</td><td style = \"text-align: right;\">4196</td><td style = \"text-align: right;\">4239</td><td style = \"text-align: right;\">310</td><td style = \"text-align: right;\">10257</td><td style = \"text-align: right;\">539</td><td style = \"text-align: right;\">226</td><td style = \"text-align: right;\">5724</td><td style = \"text-align: right;\">5637</td><td style = \"text-align: right;\">2629</td><td style = \"text-align: right;\">6254</td><td style = \"text-align: right;\">4184</td><td style = \"text-align: right;\">4536</td><td style = \"text-align: right;\">6676</td><td style = \"text-align: right;\">5387</td><td style = \"text-align: right;\">6340</td><td style = \"text-align: right;\">1298</td><td style = \"text-align: right;\">4536</td><td style = \"text-align: right;\">6676</td><td style = \"text-align: right;\">5387</td><td style = \"text-align: right;\">6340</td><td style = \"text-align: right;\">1298</td></tr><tr><td class = \"rowNumber\" style = \"font-weight: bold; text-align: right;\">8</td><td style = \"text-align: right;\">3689</td><td style = \"text-align: right;\">598</td><td style = \"text-align: right;\">611</td><td style = \"text-align: right;\">4410</td><td style = \"text-align: right;\">4453</td><td style = \"text-align: right;\">3506</td><td style = \"text-align: right;\">448</td><td style = \"text-align: right;\">0</td><td style = \"text-align: right;\">4630</td><td style = \"text-align: right;\">4673</td><td style = \"text-align: right;\">744</td><td style = \"text-align: right;\">10692</td><td style = \"text-align: right;\">559</td><td style = \"text-align: right;\">518</td><td style = \"text-align: right;\">5378</td><td style = \"text-align: right;\">6057</td><td style = \"text-align: right;\">3063</td><td style = \"text-align: right;\">6674</td><td style = \"text-align: right;\">4619</td><td style = \"text-align: right;\">4956</td><td style = \"text-align: right;\">7096</td><td style = \"text-align: right;\">5041</td><td style = \"text-align: right;\">5994</td><td style = \"text-align: right;\">1733</td><td style = \"text-align: right;\">4956</td><td style = \"text-align: right;\">7096</td><td style = \"text-align: right;\">5041</td><td style = \"text-align: right;\">5994</td><td style = \"text-align: right;\">1733</td></tr><tr><td class = \"rowNumber\" style = \"font-weight: bold; text-align: right;\">9</td><td style = \"text-align: right;\">3317</td><td style = \"text-align: right;\">226</td><td style = \"text-align: right;\">511</td><td style = \"text-align: right;\">4168</td><td style = \"text-align: right;\">4211</td><td style = \"text-align: right;\">5755</td><td style = \"text-align: right;\">4354</td><td style = \"text-align: right;\">4775</td><td style = \"text-align: right;\">0</td><td style = \"text-align: right;\">834</td><td style = \"text-align: right;\">4106</td><td style = \"text-align: right;\">9991</td><td style = \"text-align: right;\">4369</td><td style = \"text-align: right;\">4326</td><td style = \"text-align: right;\">5973</td><td style = \"text-align: right;\">9458</td><td style = \"text-align: right;\">1708</td><td style = \"text-align: right;\">10075</td><td style = \"text-align: right;\">3593</td><td style = \"text-align: right;\">11721</td><td style = \"text-align: right;\">6952</td><td style = \"text-align: right;\">7107</td><td style = \"text-align: right;\">6918</td><td style = \"text-align: right;\">4894</td><td style = \"text-align: right;\">11721</td><td style = \"text-align: right;\">6952</td><td style = \"text-align: right;\">7107</td><td style = \"text-align: right;\">6918</td><td style = \"text-align: right;\">4894</td></tr><tr><td class = \"rowNumber\" style = \"font-weight: bold; text-align: right;\">10</td><td style = \"text-align: right;\">9525</td><td style = \"text-align: right;\">6675</td><td style = \"text-align: right;\">6688</td><td style = \"text-align: right;\">6170</td><td style = \"text-align: right;\">7021</td><td style = \"text-align: right;\">5318</td><td style = \"text-align: right;\">3917</td><td style = \"text-align: right;\">4018</td><td style = \"text-align: right;\">641</td><td style = \"text-align: right;\">0</td><td style = \"text-align: right;\">3669</td><td style = \"text-align: right;\">9652</td><td style = \"text-align: right;\">3686</td><td style = \"text-align: right;\">3889</td><td style = \"text-align: right;\">5634</td><td style = \"text-align: right;\">9021</td><td style = \"text-align: right;\">1385</td><td style = \"text-align: right;\">9638</td><td style = \"text-align: right;\">3039</td><td style = \"text-align: right;\">11382</td><td style = \"text-align: right;\">6533</td><td style = \"text-align: right;\">6768</td><td style = \"text-align: right;\">6579</td><td style = \"text-align: right;\">4457</td><td style = \"text-align: right;\">11382</td><td style = \"text-align: right;\">6533</td><td style = \"text-align: right;\">6768</td><td style = \"text-align: right;\">6579</td><td style = \"text-align: right;\">4457</td></tr><tr><td class = \"rowNumber\" style = \"font-weight: bold; text-align: right;\">11</td><td style = \"text-align: right;\">3283</td><td style = \"text-align: right;\">5261</td><td style = \"text-align: right;\">5674</td><td style = \"text-align: right;\">7634</td><td style = \"text-align: right;\">7617</td><td style = \"text-align: right;\">3102</td><td style = \"text-align: right;\">310</td><td style = \"text-align: right;\">731</td><td style = \"text-align: right;\">3948</td><td style = \"text-align: right;\">3991</td><td style = \"text-align: right;\">0</td><td style = \"text-align: right;\">10012</td><td style = \"text-align: right;\">595</td><td style = \"text-align: right;\">282</td><td style = \"text-align: right;\">6020</td><td style = \"text-align: right;\">5653</td><td style = \"text-align: right;\">2381</td><td style = \"text-align: right;\">6270</td><td style = \"text-align: right;\">3939</td><td style = \"text-align: right;\">4674</td><td style = \"text-align: right;\">6692</td><td style = \"text-align: right;\">5683</td><td style = \"text-align: right;\">6636</td><td style = \"text-align: right;\">1053</td><td style = \"text-align: right;\">4674</td><td style = \"text-align: right;\">6692</td><td style = \"text-align: right;\">5683</td><td style = \"text-align: right;\">6636</td><td style = \"text-align: right;\">1053</td></tr><tr><td class = \"rowNumber\" style = \"font-weight: bold; text-align: right;\">12</td><td style = \"text-align: right;\">3969</td><td style = \"text-align: right;\">2568</td><td style = \"text-align: right;\">2989</td><td style = \"text-align: right;\">1698</td><td style = \"text-align: right;\">1799</td><td style = \"text-align: right;\">8239</td><td style = \"text-align: right;\">10264</td><td style = \"text-align: right;\">10685</td><td style = \"text-align: right;\">10875</td><td style = \"text-align: right;\">10701</td><td style = \"text-align: right;\">10018</td><td style = \"text-align: right;\">0</td><td style = \"text-align: right;\">13755</td><td style = \"text-align: right;\">10236</td><td style = \"text-align: right;\">13933</td><td style = \"text-align: right;\">8630</td><td style = \"text-align: right;\">11608</td><td style = \"text-align: right;\">9718</td><td style = \"text-align: right;\">7041</td><td style = \"text-align: right;\">19681</td><td style = \"text-align: right;\">5812</td><td style = \"text-align: right;\">15067</td><td style = \"text-align: right;\">14878</td><td style = \"text-align: right;\">9576</td><td style = \"text-align: right;\">19681</td><td style = \"text-align: right;\">5812</td><td style = \"text-align: right;\">15067</td><td style = \"text-align: right;\">14878</td><td style = \"text-align: right;\">9576</td></tr><tr><td class = \"rowNumber\" style = \"font-weight: bold; text-align: right;\">13</td><td style = \"text-align: right;\">3795</td><td style = \"text-align: right;\">5773</td><td style = \"text-align: right;\">6186</td><td style = \"text-align: right;\">8146</td><td style = \"text-align: right;\">8129</td><td style = \"text-align: right;\">3689</td><td style = \"text-align: right;\">598</td><td style = \"text-align: right;\">611</td><td style = \"text-align: right;\">4410</td><td style = \"text-align: right;\">4453</td><td style = \"text-align: right;\">654</td><td style = \"text-align: right;\">10602</td><td style = \"text-align: right;\">0</td><td style = \"text-align: right;\">428</td><td style = \"text-align: right;\">5894</td><td style = \"text-align: right;\">6240</td><td style = \"text-align: right;\">2843</td><td style = \"text-align: right;\">6857</td><td style = \"text-align: right;\">4529</td><td style = \"text-align: right;\">5103</td><td style = \"text-align: right;\">7279</td><td style = \"text-align: right;\">5557</td><td style = \"text-align: right;\">6510</td><td style = \"text-align: right;\">1643</td><td style = \"text-align: right;\">5103</td><td style = \"text-align: right;\">7279</td><td style = \"text-align: right;\">5557</td><td style = \"text-align: right;\">6510</td><td style = \"text-align: right;\">1643</td></tr><tr><td style = \"text-align: right;\">&vellip;</td><td style = \"text-align: right;\">&vellip;</td><td style = \"text-align: right;\">&vellip;</td><td style = \"text-align: right;\">&vellip;</td><td style = \"text-align: right;\">&vellip;</td><td style = \"text-align: right;\">&vellip;</td><td style = \"text-align: right;\">&vellip;</td><td style = \"text-align: right;\">&vellip;</td><td style = \"text-align: right;\">&vellip;</td><td style = \"text-align: right;\">&vellip;</td><td style = \"text-align: right;\">&vellip;</td><td style = \"text-align: right;\">&vellip;</td><td style = \"text-align: right;\">&vellip;</td><td style = \"text-align: right;\">&vellip;</td><td style = \"text-align: right;\">&vellip;</td><td style = \"text-align: right;\">&vellip;</td><td style = \"text-align: right;\">&vellip;</td><td style = \"text-align: right;\">&vellip;</td><td style = \"text-align: right;\">&vellip;</td><td style = \"text-align: right;\">&vellip;</td><td style = \"text-align: right;\">&vellip;</td><td style = \"text-align: right;\">&vellip;</td><td style = \"text-align: right;\">&vellip;</td><td style = \"text-align: right;\">&vellip;</td><td style = \"text-align: right;\">&vellip;</td><td style = \"text-align: right;\">&vellip;</td><td style = \"text-align: right;\">&vellip;</td><td style = \"text-align: right;\">&vellip;</td><td style = \"text-align: right;\">&vellip;</td><td style = \"text-align: right;\">&vellip;</td></tr><tr><td class = \"rowNumber\" style = \"font-weight: bold; text-align: right;\">18</td><td style = \"text-align: right;\">3795</td><td style = \"text-align: right;\">5773</td><td style = \"text-align: right;\">6186</td><td style = \"text-align: right;\">8146</td><td style = \"text-align: right;\">8129</td><td style = \"text-align: right;\">3795</td><td style = \"text-align: right;\">5773</td><td style = \"text-align: right;\">6186</td><td style = \"text-align: right;\">8146</td><td style = \"text-align: right;\">8129</td><td style = \"text-align: right;\">5919</td><td style = \"text-align: right;\">8989</td><td style = \"text-align: right;\">6292</td><td style = \"text-align: right;\">5979</td><td style = \"text-align: right;\">11469</td><td style = \"text-align: right;\">1034</td><td style = \"text-align: right;\">6656</td><td style = \"text-align: right;\">0</td><td style = \"text-align: right;\">5468</td><td style = \"text-align: right;\">7934</td><td style = \"text-align: right;\">4054</td><td style = \"text-align: right;\">11132</td><td style = \"text-align: right;\">12085</td><td style = \"text-align: right;\">5954</td><td style = \"text-align: right;\">7934</td><td style = \"text-align: right;\">4054</td><td style = \"text-align: right;\">11132</td><td style = \"text-align: right;\">12085</td><td style = \"text-align: right;\">5954</td></tr><tr><td class = \"rowNumber\" style = \"font-weight: bold; text-align: right;\">19</td><td style = \"text-align: right;\">2808</td><td style = \"text-align: right;\">3442</td><td style = \"text-align: right;\">3863</td><td style = \"text-align: right;\">3498</td><td style = \"text-align: right;\">3481</td><td style = \"text-align: right;\">2808</td><td style = \"text-align: right;\">3442</td><td style = \"text-align: right;\">3863</td><td style = \"text-align: right;\">3498</td><td style = \"text-align: right;\">3481</td><td style = \"text-align: right;\">3196</td><td style = \"text-align: right;\">7264</td><td style = \"text-align: right;\">3727</td><td style = \"text-align: right;\">3414</td><td style = \"text-align: right;\">8226</td><td style = \"text-align: right;\">5450</td><td style = \"text-align: right;\">2008</td><td style = \"text-align: right;\">6067</td><td style = \"text-align: right;\">0</td><td style = \"text-align: right;\">7416</td><td style = \"text-align: right;\">3987</td><td style = \"text-align: right;\">9360</td><td style = \"text-align: right;\">9171</td><td style = \"text-align: right;\">2754</td><td style = \"text-align: right;\">7416</td><td style = \"text-align: right;\">3987</td><td style = \"text-align: right;\">9360</td><td style = \"text-align: right;\">9171</td><td style = \"text-align: right;\">2754</td></tr><tr><td class = \"rowNumber\" style = \"font-weight: bold; text-align: right;\">20</td><td style = \"text-align: right;\">6647</td><td style = \"text-align: right;\">4322</td><td style = \"text-align: right;\">4735</td><td style = \"text-align: right;\">11240</td><td style = \"text-align: right;\">11361</td><td style = \"text-align: right;\">6647</td><td style = \"text-align: right;\">4322</td><td style = \"text-align: right;\">4735</td><td style = \"text-align: right;\">11240</td><td style = \"text-align: right;\">11361</td><td style = \"text-align: right;\">4468</td><td style = \"text-align: right;\">19115</td><td style = \"text-align: right;\">4841</td><td style = \"text-align: right;\">4528</td><td style = \"text-align: right;\">11799</td><td style = \"text-align: right;\">8587</td><td style = \"text-align: right;\">6787</td><td style = \"text-align: right;\">8966</td><td style = \"text-align: right;\">8362</td><td style = \"text-align: right;\">0</td><td style = \"text-align: right;\">9015</td><td style = \"text-align: right;\">12933</td><td style = \"text-align: right;\">12744</td><td style = \"text-align: right;\">5476</td><td style = \"text-align: right;\">2343</td><td style = \"text-align: right;\">9015</td><td style = \"text-align: right;\">12933</td><td style = \"text-align: right;\">12744</td><td style = \"text-align: right;\">5476</td></tr><tr><td class = \"rowNumber\" style = \"font-weight: bold; text-align: right;\">21</td><td style = \"text-align: right;\">3829</td><td style = \"text-align: right;\">6176</td><td style = \"text-align: right;\">6597</td><td style = \"text-align: right;\">6500</td><td style = \"text-align: right;\">6223</td><td style = \"text-align: right;\">3829</td><td style = \"text-align: right;\">6176</td><td style = \"text-align: right;\">6597</td><td style = \"text-align: right;\">6500</td><td style = \"text-align: right;\">6223</td><td style = \"text-align: right;\">5930</td><td style = \"text-align: right;\">5169</td><td style = \"text-align: right;\">6461</td><td style = \"text-align: right;\">6148</td><td style = \"text-align: right;\">11792</td><td style = \"text-align: right;\">3676</td><td style = \"text-align: right;\">4912</td><td style = \"text-align: right;\">3586</td><td style = \"text-align: right;\">3102</td><td style = \"text-align: right;\">8538</td><td style = \"text-align: right;\">0</td><td style = \"text-align: right;\">12926</td><td style = \"text-align: right;\">12737</td><td style = \"text-align: right;\">5488</td><td style = \"text-align: right;\">8538</td><td style = \"text-align: right;\">2342</td><td style = \"text-align: right;\">12926</td><td style = \"text-align: right;\">12737</td><td style = \"text-align: right;\">5488</td></tr><tr><td class = \"rowNumber\" style = \"font-weight: bold; text-align: right;\">22</td><td style = \"text-align: right;\">8527</td><td style = \"text-align: right;\">5677</td><td style = \"text-align: right;\">5690</td><td style = \"text-align: right;\">6453</td><td style = \"text-align: right;\">7304</td><td style = \"text-align: right;\">8527</td><td style = \"text-align: right;\">5677</td><td style = \"text-align: right;\">5690</td><td style = \"text-align: right;\">6453</td><td style = \"text-align: right;\">7304</td><td style = \"text-align: right;\">5488</td><td style = \"text-align: right;\">14359</td><td style = \"text-align: right;\">5358</td><td style = \"text-align: right;\">5507</td><td style = \"text-align: right;\">771</td><td style = \"text-align: right;\">11078</td><td style = \"text-align: right;\">8038</td><td style = \"text-align: right;\">11695</td><td style = \"text-align: right;\">9522</td><td style = \"text-align: right;\">12913</td><td style = \"text-align: right;\">12361</td><td style = \"text-align: right;\">0</td><td style = \"text-align: right;\">896</td><td style = \"text-align: right;\">6180</td><td style = \"text-align: right;\">12913</td><td style = \"text-align: right;\">12361</td><td style = \"text-align: right;\">1563</td><td style = \"text-align: right;\">896</td><td style = \"text-align: right;\">6180</td></tr><tr><td class = \"rowNumber\" style = \"font-weight: bold; text-align: right;\">23</td><td style = \"text-align: right;\">8632</td><td style = \"text-align: right;\">5782</td><td style = \"text-align: right;\">5795</td><td style = \"text-align: right;\">6535</td><td style = \"text-align: right;\">7386</td><td style = \"text-align: right;\">8632</td><td style = \"text-align: right;\">5782</td><td style = \"text-align: right;\">5795</td><td style = \"text-align: right;\">6535</td><td style = \"text-align: right;\">7386</td><td style = \"text-align: right;\">5593</td><td style = \"text-align: right;\">14441</td><td style = \"text-align: right;\">5463</td><td style = \"text-align: right;\">5612</td><td style = \"text-align: right;\">864</td><td style = \"text-align: right;\">11183</td><td style = \"text-align: right;\">8120</td><td style = \"text-align: right;\">11800</td><td style = \"text-align: right;\">9604</td><td style = \"text-align: right;\">12995</td><td style = \"text-align: right;\">12443</td><td style = \"text-align: right;\">255</td><td style = \"text-align: right;\">0</td><td style = \"text-align: right;\">6285</td><td style = \"text-align: right;\">12995</td><td style = \"text-align: right;\">12443</td><td style = \"text-align: right;\">255</td><td style = \"text-align: right;\">2454</td><td style = \"text-align: right;\">6285</td></tr><tr><td class = \"rowNumber\" style = \"font-weight: bold; text-align: right;\">24</td><td style = \"text-align: right;\">3352</td><td style = \"text-align: right;\">1541</td><td style = \"text-align: right;\">1962</td><td style = \"text-align: right;\">4404</td><td style = \"text-align: right;\">4447</td><td style = \"text-align: right;\">3352</td><td style = \"text-align: right;\">1541</td><td style = \"text-align: right;\">1962</td><td style = \"text-align: right;\">4404</td><td style = \"text-align: right;\">4447</td><td style = \"text-align: right;\">1295</td><td style = \"text-align: right;\">9594</td><td style = \"text-align: right;\">1826</td><td style = \"text-align: right;\">1513</td><td style = \"text-align: right;\">9083</td><td style = \"text-align: right;\">5611</td><td style = \"text-align: right;\">2837</td><td style = \"text-align: right;\">6228</td><td style = \"text-align: right;\">3521</td><td style = \"text-align: right;\">5297</td><td style = \"text-align: right;\">6317</td><td style = \"text-align: right;\">10217</td><td style = \"text-align: right;\">10028</td><td style = \"text-align: right;\">0</td><td style = \"text-align: right;\">5297</td><td style = \"text-align: right;\">6317</td><td style = \"text-align: right;\">10217</td><td style = \"text-align: right;\">10028</td><td style = \"text-align: right;\">3223</td></tr><tr><td class = \"rowNumber\" style = \"font-weight: bold; text-align: right;\">25</td><td style = \"text-align: right;\">8878</td><td style = \"text-align: right;\">6028</td><td style = \"text-align: right;\">6041</td><td style = \"text-align: right;\">6781</td><td style = \"text-align: right;\">7632</td><td style = \"text-align: right;\">8878</td><td style = \"text-align: right;\">6028</td><td style = \"text-align: right;\">6041</td><td style = \"text-align: right;\">6781</td><td style = \"text-align: right;\">7632</td><td style = \"text-align: right;\">8878</td><td style = \"text-align: right;\">6028</td><td style = \"text-align: right;\">6041</td><td style = \"text-align: right;\">6781</td><td style = \"text-align: right;\">7632</td><td style = \"text-align: right;\">5839</td><td style = \"text-align: right;\">14687</td><td style = \"text-align: right;\">5709</td><td style = \"text-align: right;\">5858</td><td style = \"text-align: right;\">398</td><td style = \"text-align: right;\">11429</td><td style = \"text-align: right;\">8366</td><td style = \"text-align: right;\">12046</td><td style = \"text-align: right;\">9850</td><td style = \"text-align: right;\">0</td><td style = \"text-align: right;\">3784</td><td style = \"text-align: right;\">4197</td><td style = \"text-align: right;\">5503</td><td style = \"text-align: right;\">5546</td></tr><tr><td class = \"rowNumber\" style = \"font-weight: bold; text-align: right;\">26</td><td style = \"text-align: right;\">10823</td><td style = \"text-align: right;\">6604</td><td style = \"text-align: right;\">6617</td><td style = \"text-align: right;\">5592</td><td style = \"text-align: right;\">6443</td><td style = \"text-align: right;\">10823</td><td style = \"text-align: right;\">6604</td><td style = \"text-align: right;\">6617</td><td style = \"text-align: right;\">5592</td><td style = \"text-align: right;\">6443</td><td style = \"text-align: right;\">10823</td><td style = \"text-align: right;\">6604</td><td style = \"text-align: right;\">6617</td><td style = \"text-align: right;\">5592</td><td style = \"text-align: right;\">6443</td><td style = \"text-align: right;\">6415</td><td style = \"text-align: right;\">13498</td><td style = \"text-align: right;\">6285</td><td style = \"text-align: right;\">6434</td><td style = \"text-align: right;\">720</td><td style = \"text-align: right;\">12005</td><td style = \"text-align: right;\">7177</td><td style = \"text-align: right;\">12622</td><td style = \"text-align: right;\">8661</td><td style = \"text-align: right;\">3086</td><td style = \"text-align: right;\">0</td><td style = \"text-align: right;\">441</td><td style = \"text-align: right;\">4196</td><td style = \"text-align: right;\">4239</td></tr><tr><td class = \"rowNumber\" style = \"font-weight: bold; text-align: right;\">27</td><td style = \"text-align: right;\">7254</td><td style = \"text-align: right;\">4643</td><td style = \"text-align: right;\">5056</td><td style = \"text-align: right;\">12284</td><td style = \"text-align: right;\">12405</td><td style = \"text-align: right;\">7254</td><td style = \"text-align: right;\">4643</td><td style = \"text-align: right;\">5056</td><td style = \"text-align: right;\">12284</td><td style = \"text-align: right;\">12405</td><td style = \"text-align: right;\">7254</td><td style = \"text-align: right;\">4643</td><td style = \"text-align: right;\">5056</td><td style = \"text-align: right;\">12284</td><td style = \"text-align: right;\">12405</td><td style = \"text-align: right;\">4789</td><td style = \"text-align: right;\">20159</td><td style = \"text-align: right;\">5162</td><td style = \"text-align: right;\">4849</td><td style = \"text-align: right;\">12843</td><td style = \"text-align: right;\">11387</td><td style = \"text-align: right;\">7108</td><td style = \"text-align: right;\">11549</td><td style = \"text-align: right;\">8969</td><td style = \"text-align: right;\">3506</td><td style = \"text-align: right;\">448</td><td style = \"text-align: right;\">0</td><td style = \"text-align: right;\">4630</td><td style = \"text-align: right;\">4673</td></tr><tr><td class = \"rowNumber\" style = \"font-weight: bold; text-align: right;\">28</td><td style = \"text-align: right;\">8053</td><td style = \"text-align: right;\">9494</td><td style = \"text-align: right;\">9507</td><td style = \"text-align: right;\">2829</td><td style = \"text-align: right;\">2950</td><td style = \"text-align: right;\">8053</td><td style = \"text-align: right;\">9494</td><td style = \"text-align: right;\">9507</td><td style = \"text-align: right;\">2829</td><td style = \"text-align: right;\">2950</td><td style = \"text-align: right;\">8053</td><td style = \"text-align: right;\">9494</td><td style = \"text-align: right;\">9507</td><td style = \"text-align: right;\">2829</td><td style = \"text-align: right;\">2950</td><td style = \"text-align: right;\">9305</td><td style = \"text-align: right;\">10530</td><td style = \"text-align: right;\">9175</td><td style = \"text-align: right;\">9324</td><td style = \"text-align: right;\">3139</td><td style = \"text-align: right;\">23452</td><td style = \"text-align: right;\">4407</td><td style = \"text-align: right;\">23614</td><td style = \"text-align: right;\">5891</td><td style = \"text-align: right;\">5755</td><td style = \"text-align: right;\">4354</td><td style = \"text-align: right;\">4775</td><td style = \"text-align: right;\">0</td><td style = \"text-align: right;\">834</td></tr><tr><td class = \"rowNumber\" style = \"font-weight: bold; text-align: right;\">29</td><td style = \"text-align: right;\">9222</td><td style = \"text-align: right;\">12557</td><td style = \"text-align: right;\">12970</td><td style = \"text-align: right;\">35172</td><td style = \"text-align: right;\">16889</td><td style = \"text-align: right;\">9222</td><td style = \"text-align: right;\">12557</td><td style = \"text-align: right;\">12970</td><td style = \"text-align: right;\">35172</td><td style = \"text-align: right;\">16889</td><td style = \"text-align: right;\">9222</td><td style = \"text-align: right;\">12557</td><td style = \"text-align: right;\">12970</td><td style = \"text-align: right;\">35172</td><td style = \"text-align: right;\">16889</td><td style = \"text-align: right;\">12703</td><td style = \"text-align: right;\">14600</td><td style = \"text-align: right;\">13076</td><td style = \"text-align: right;\">12763</td><td style = \"text-align: right;\">35731</td><td style = \"text-align: right;\">6461</td><td style = \"text-align: right;\">15279</td><td style = \"text-align: right;\">6132</td><td style = \"text-align: right;\">10895</td><td style = \"text-align: right;\">5318</td><td style = \"text-align: right;\">3917</td><td style = \"text-align: right;\">4018</td><td style = \"text-align: right;\">641</td><td style = \"text-align: right;\">0</td></tr></tbody></table></div>"
      ],
      "text/latex": [
       "\\begin{tabular}{r|ccccccccccccc}\n",
       "\t& 1 & 2 & 3 & 4 & 5 & 6 & 7 & 8 & 9 & 10 & 11 & 12 & \\\\\n",
       "\t\\hline\n",
       "\t& Int64 & Int64 & Int64 & Int64 & Int64 & Int64 & Int64 & Int64 & Int64 & Int64 & Int64 & Int64 & \\\\\n",
       "\t\\hline\n",
       "\t1 & 0 & 3784 & 4197 & 5503 & 5546 & 8313 & 4303 & 3990 & 10182 & 5546 & 10 & 8313 & $\\dots$ \\\\\n",
       "\t2 & 3086 & 0 & 441 & 4196 & 4239 & 10257 & 539 & 226 & 5724 & 4239 & 310 & 10257 & $\\dots$ \\\\\n",
       "\t3 & 3506 & 448 & 0 & 4630 & 4673 & 10692 & 559 & 518 & 5378 & 4673 & 744 & 10692 & $\\dots$ \\\\\n",
       "\t4 & 5755 & 4354 & 4775 & 0 & 834 & 9991 & 4369 & 4326 & 5973 & 834 & 4106 & 9991 & $\\dots$ \\\\\n",
       "\t5 & 5318 & 3917 & 4018 & 641 & 0 & 9652 & 3686 & 3889 & 5634 & 232 & 3669 & 9652 & $\\dots$ \\\\\n",
       "\t6 & 3102 & 310 & 731 & 3948 & 3991 & 0 & 3784 & 4197 & 5503 & 5546 & 3930 & 8313 & $\\dots$ \\\\\n",
       "\t7 & 8239 & 10264 & 10685 & 10875 & 10701 & 3086 & 0 & 441 & 4196 & 4239 & 310 & 10257 & $\\dots$ \\\\\n",
       "\t8 & 3689 & 598 & 611 & 4410 & 4453 & 3506 & 448 & 0 & 4630 & 4673 & 744 & 10692 & $\\dots$ \\\\\n",
       "\t9 & 3317 & 226 & 511 & 4168 & 4211 & 5755 & 4354 & 4775 & 0 & 834 & 4106 & 9991 & $\\dots$ \\\\\n",
       "\t10 & 9525 & 6675 & 6688 & 6170 & 7021 & 5318 & 3917 & 4018 & 641 & 0 & 3669 & 9652 & $\\dots$ \\\\\n",
       "\t11 & 3283 & 5261 & 5674 & 7634 & 7617 & 3102 & 310 & 731 & 3948 & 3991 & 0 & 10012 & $\\dots$ \\\\\n",
       "\t12 & 3969 & 2568 & 2989 & 1698 & 1799 & 8239 & 10264 & 10685 & 10875 & 10701 & 10018 & 0 & $\\dots$ \\\\\n",
       "\t13 & 3795 & 5773 & 6186 & 8146 & 8129 & 3689 & 598 & 611 & 4410 & 4453 & 654 & 10602 & $\\dots$ \\\\\n",
       "\t14 & 2808 & 3442 & 3863 & 3498 & 3481 & 3317 & 226 & 511 & 4168 & 4211 & 282 & 10230 & $\\dots$ \\\\\n",
       "\t15 & 6647 & 4322 & 4735 & 11240 & 11361 & 9525 & 6675 & 6688 & 6170 & 7021 & 6486 & 14076 & $\\dots$ \\\\\n",
       "\t16 & 3829 & 6176 & 6597 & 6500 & 6223 & 3283 & 5261 & 5674 & 7634 & 7617 & 5407 & 8477 & $\\dots$ \\\\\n",
       "\t17 & 8527 & 5677 & 5690 & 6453 & 7304 & 3969 & 2568 & 2989 & 1698 & 1799 & 2320 & 10284 & $\\dots$ \\\\\n",
       "\t18 & 3795 & 5773 & 6186 & 8146 & 8129 & 3795 & 5773 & 6186 & 8146 & 8129 & 5919 & 8989 & $\\dots$ \\\\\n",
       "\t19 & 2808 & 3442 & 3863 & 3498 & 3481 & 2808 & 3442 & 3863 & 3498 & 3481 & 3196 & 7264 & $\\dots$ \\\\\n",
       "\t20 & 6647 & 4322 & 4735 & 11240 & 11361 & 6647 & 4322 & 4735 & 11240 & 11361 & 4468 & 19115 & $\\dots$ \\\\\n",
       "\t21 & 3829 & 6176 & 6597 & 6500 & 6223 & 3829 & 6176 & 6597 & 6500 & 6223 & 5930 & 5169 & $\\dots$ \\\\\n",
       "\t22 & 8527 & 5677 & 5690 & 6453 & 7304 & 8527 & 5677 & 5690 & 6453 & 7304 & 5488 & 14359 & $\\dots$ \\\\\n",
       "\t23 & 8632 & 5782 & 5795 & 6535 & 7386 & 8632 & 5782 & 5795 & 6535 & 7386 & 5593 & 14441 & $\\dots$ \\\\\n",
       "\t24 & 3352 & 1541 & 1962 & 4404 & 4447 & 3352 & 1541 & 1962 & 4404 & 4447 & 1295 & 9594 & $\\dots$ \\\\\n",
       "\t25 & 8878 & 6028 & 6041 & 6781 & 7632 & 8878 & 6028 & 6041 & 6781 & 7632 & 8878 & 6028 & $\\dots$ \\\\\n",
       "\t26 & 10823 & 6604 & 6617 & 5592 & 6443 & 10823 & 6604 & 6617 & 5592 & 6443 & 10823 & 6604 & $\\dots$ \\\\\n",
       "\t27 & 7254 & 4643 & 5056 & 12284 & 12405 & 7254 & 4643 & 5056 & 12284 & 12405 & 7254 & 4643 & $\\dots$ \\\\\n",
       "\t28 & 8053 & 9494 & 9507 & 2829 & 2950 & 8053 & 9494 & 9507 & 2829 & 2950 & 8053 & 9494 & $\\dots$ \\\\\n",
       "\t29 & 9222 & 12557 & 12970 & 35172 & 16889 & 9222 & 12557 & 12970 & 35172 & 16889 & 9222 & 12557 & $\\dots$ \\\\\n",
       "\\end{tabular}\n"
      ],
      "text/plain": [
       "\u001b[1m29×29 DataFrame\n",
       "\u001b[1m Row │\u001b[1m 1     \u001b[1m 2     \u001b[1m 3     \u001b[1m 4     \u001b[1m 5     \u001b[1m 6     \u001b[1m 7     \u001b[1m 8     \u001b[1m 9     \u001b[1m 10    \u001b[1m 1 ⋯\n",
       "     │\u001b[90m Int64 \u001b[90m Int64 \u001b[90m Int64 \u001b[90m Int64 \u001b[90m Int64 \u001b[90m Int64 \u001b[90m Int64 \u001b[90m Int64 \u001b[90m Int64 \u001b[90m Int64 \u001b[90m I ⋯\n",
       "─────┼──────────────────────────────────────────────────────────────────────────\n",
       "   1 │     0   3784   4197   5503   5546   8313   4303   3990  10182   5546    ⋯\n",
       "   2 │  3086      0    441   4196   4239  10257    539    226   5724   4239\n",
       "   3 │  3506    448      0   4630   4673  10692    559    518   5378   4673\n",
       "   4 │  5755   4354   4775      0    834   9991   4369   4326   5973    834\n",
       "   5 │  5318   3917   4018    641      0   9652   3686   3889   5634    232    ⋯\n",
       "   6 │  3102    310    731   3948   3991      0   3784   4197   5503   5546\n",
       "   7 │  8239  10264  10685  10875  10701   3086      0    441   4196   4239\n",
       "   8 │  3689    598    611   4410   4453   3506    448      0   4630   4673\n",
       "   9 │  3317    226    511   4168   4211   5755   4354   4775      0    834    ⋯\n",
       "  10 │  9525   6675   6688   6170   7021   5318   3917   4018    641      0\n",
       "  11 │  3283   5261   5674   7634   7617   3102    310    731   3948   3991\n",
       "  ⋮  │   ⋮      ⋮      ⋮      ⋮      ⋮      ⋮      ⋮      ⋮      ⋮      ⋮      ⋱\n",
       "  20 │  6647   4322   4735  11240  11361   6647   4322   4735  11240  11361\n",
       "  21 │  3829   6176   6597   6500   6223   3829   6176   6597   6500   6223    ⋯\n",
       "  22 │  8527   5677   5690   6453   7304   8527   5677   5690   6453   7304\n",
       "  23 │  8632   5782   5795   6535   7386   8632   5782   5795   6535   7386\n",
       "  24 │  3352   1541   1962   4404   4447   3352   1541   1962   4404   4447\n",
       "  25 │  8878   6028   6041   6781   7632   8878   6028   6041   6781   7632    ⋯\n",
       "  26 │ 10823   6604   6617   5592   6443  10823   6604   6617   5592   6443  1\n",
       "  27 │  7254   4643   5056  12284  12405   7254   4643   5056  12284  12405\n",
       "  28 │  8053   9494   9507   2829   2950   8053   9494   9507   2829   2950\n",
       "  29 │  9222  12557  12970  35172  16889   9222  12557  12970  35172  16889    ⋯\n",
       "\u001b[36m                                                   19 columns and 8 rows omitted"
      ]
     },
     "execution_count": 66,
     "metadata": {},
     "output_type": "execute_result"
    }
   ],
   "source": [
    "## Putting all distance into one dataframe.\n",
    "depot_all_distances = distance_mapping[1:D,:]\n",
    "hospital_all_distances = distance_mapping[(D+1):end,:]\n",
    "distance_mapping_full = copy(depot_all_distances)\n",
    "append!(distance_mapping_full, hospital_all_distances)\n",
    "# append!(distance_mapping_full, patient_all_distances)"
   ]
  },
  {
   "cell_type": "code",
   "execution_count": null,
   "id": "4ded22d7",
   "metadata": {},
   "outputs": [],
   "source": []
  },
  {
   "cell_type": "code",
   "execution_count": null,
   "id": "09166aba",
   "metadata": {},
   "outputs": [],
   "source": []
  },
  {
   "cell_type": "code",
   "execution_count": null,
   "id": "2112b158",
   "metadata": {},
   "outputs": [],
   "source": []
  },
  {
   "cell_type": "markdown",
   "id": "92a52fe2",
   "metadata": {},
   "source": [
    "### Defining Constants"
   ]
  },
  {
   "cell_type": "code",
   "execution_count": 67,
   "id": "5cfc4d7c",
   "metadata": {},
   "outputs": [],
   "source": [
    "# for Depots: 1:D\n",
    "# for Patients: D+1:D+P+1\n",
    "# for Hospitals: D+P+1:D+P+H+1\n",
    "\n",
    "D = size(depot_capacity)[1]\n",
    "P = size(patient_origin)[1]\n",
    "H = size(hospital_mapping)[1]\n",
    "K = size(vehicle_type)[1]\n",
    "L = size(vehicle_type)[2]\n",
    "\n",
    "d_start = 1\n",
    "d_end = D\n",
    "h_start = D+1\n",
    "h_end = D+H\n",
    "p_start = D+H+1\n",
    "p_end = D+H+P;"
   ]
  },
  {
   "cell_type": "code",
   "execution_count": 68,
   "id": "16928ed7",
   "metadata": {},
   "outputs": [],
   "source": [
    "d_ind = [d_start:1:d_end;]\n",
    "p_ind = [p_start:1:p_end;]\n",
    "h_ind = [h_start:1:h_end;];"
   ]
  },
  {
   "cell_type": "code",
   "execution_count": 69,
   "id": "a409afa0",
   "metadata": {},
   "outputs": [],
   "source": [
    "h_d_ind = [h_ind; d_ind];"
   ]
  },
  {
   "cell_type": "code",
   "execution_count": null,
   "id": "7d9ec562",
   "metadata": {},
   "outputs": [],
   "source": []
  },
  {
   "cell_type": "code",
   "execution_count": null,
   "id": "0aa37d7d",
   "metadata": {},
   "outputs": [],
   "source": []
  },
  {
   "cell_type": "markdown",
   "id": "b7cbe96b",
   "metadata": {},
   "source": [
    "### Building Model"
   ]
  },
  {
   "cell_type": "code",
   "execution_count": 70,
   "id": "a9de2c78",
   "metadata": {},
   "outputs": [
    {
     "data": {
      "text/plain": [
       "30"
      ]
     },
     "execution_count": 70,
     "metadata": {},
     "output_type": "execute_result"
    }
   ],
   "source": [
    "p_start"
   ]
  },
  {
   "cell_type": "code",
   "execution_count": 71,
   "id": "b8a7ef3d",
   "metadata": {},
   "outputs": [
    {
     "data": {
      "text/plain": [
       "33"
      ]
     },
     "execution_count": 71,
     "metadata": {},
     "output_type": "execute_result"
    }
   ],
   "source": [
    "p_end"
   ]
  },
  {
   "cell_type": "code",
   "execution_count": 72,
   "id": "65768e89",
   "metadata": {},
   "outputs": [
    {
     "data": {
      "text/plain": [
       "29"
      ]
     },
     "execution_count": 72,
     "metadata": {},
     "output_type": "execute_result"
    }
   ],
   "source": [
    "h_end"
   ]
  },
  {
   "cell_type": "code",
   "execution_count": 73,
   "id": "048a92e3",
   "metadata": {},
   "outputs": [
    {
     "data": {
      "text/plain": [
       "9-element Vector{Int64}:\n",
       "  1\n",
       "  2\n",
       "  3\n",
       "  4\n",
       "  5\n",
       "  7\n",
       "  8\n",
       "  9\n",
       " 10"
      ]
     },
     "execution_count": 73,
     "metadata": {},
     "output_type": "execute_result"
    }
   ],
   "source": [
    "append!([1:1:5;],[7:1:10;])"
   ]
  },
  {
   "cell_type": "code",
   "execution_count": 74,
   "id": "257be6d8",
   "metadata": {},
   "outputs": [],
   "source": [
    "# # Build model.\n",
    "# model = Model(Gurobi.Optimizer)\n",
    "# # set_optimizer_attribute(model, \"OutputFlag\", solver_output)\n",
    "\n",
    "\n",
    "# # Insert variable.\n",
    "# # We create a huge number of variables because we map multiple locations with the same index.\n",
    "# @variable(model, x[i=1:p_end, j=1:h_end, k=1:K], Bin)\n",
    "\n",
    "\n",
    "# # Insert constraints.\n",
    "\n",
    "# # The patient_mapping holds the mapping only for the patients and thus the indices change.\n",
    "# @constraint(model, [i=p_start:p_end], sum(x[i,h_start+patient_dest[i-p_start+1]-1,k] for k=1:K) == 1)\n",
    "\n",
    "# @constraint(model, [i=p_start:p_end], sum(sum(x[i,j,k] for j=1:h_end) for k=1:K) == 1) # cant go to any depot or any other hospital than the mapped one.\n",
    "\n",
    "# @constraint(model, [i=p_start:p_end, j=1:h_end, k=1:K], x[i,j,k] - sum(x[j,l,k] for l=append!([1:1:j-1;],[j+1:1:h_end;])))\n",
    "\n",
    "# # @constraint(model, [k=1:K], sum(sum(x[i,j,k] for j=h_start:h_end) for i=p_start:p_end) <= sum(sum(x[i,j,k] for j in p_start:p_end) for i=1:D))\n",
    "\n",
    "# # @constraint(model, [k=1:K], sum(sum(x[i,j,k] for j=[p_start:p_end]) for i=1:D) - sum(sum(x[i,j,k] for j=[h_start:h_end]) for i=1:D) == 0)\n",
    "\n",
    "# # @constraint(model, [i=1:D, k=1:K], sum(sum(x[j,i,k]*vehicle_type[k,l] for j=[h_start:h_end]) for k=1:K) <= depot_capacity[i,l])\n",
    "\n",
    "# # @constraint(model, [i=1:D, k=1:K], sum(sum(x[i,j,k]*vehicle_type[k,l] for j=[p_start:p_end]) for k=1:K) <= sum(sum(x[i,j,k]*vehicle_type[k,l] for j=[p_start:p_end]) for k=1:K))\n",
    "\n",
    "# ## 1. Total Waste Collected Constraint.\n",
    "\n",
    "\n",
    "# # Objective.\n",
    "# @objective(model, Min, \n",
    "#     sum(sum(sum(distance_mapping_full[i,j]*x[i,j,k] for k=1:K) for j=1:h_end) for i=1:p_end) # distance from patient to hospital\n",
    "# #     sum(depot_hospital_distances[i,j]*x[i,j,k] for k=1:K)\n",
    "# )\n",
    "\n",
    "\n",
    "# # Optimize.\n",
    "# optimize!(model)"
   ]
  },
  {
   "cell_type": "code",
   "execution_count": null,
   "id": "647485b3",
   "metadata": {},
   "outputs": [],
   "source": []
  },
  {
   "cell_type": "code",
   "execution_count": 78,
   "id": "4fc27a37",
   "metadata": {},
   "outputs": [
    {
     "name": "stdout",
     "output_type": "stream",
     "text": [
      "Set parameter Username\n",
      "Academic license - for non-commercial use only - expires 2023-08-18\n",
      "Gurobi Optimizer version 9.5.2 build v9.5.2rc0 (mac64[arm])\n",
      "Thread count: 8 physical cores, 8 logical processors, using up to 8 threads\n",
      "Optimize a model with 4 rows, 3364 columns and 8 nonzeros\n",
      "Model fingerprint: 0xe83d91e9\n",
      "Variable types: 0 continuous, 3364 integer (3364 binary)\n",
      "Coefficient statistics:\n",
      "  Matrix range     [1e+00, 1e+00]\n",
      "  Objective range  [1e+01, 4e+04]\n",
      "  Bounds range     [0e+00, 0e+00]\n",
      "  RHS range        [1e+00, 1e+00]\n",
      "Found heuristic solution: objective 33998.000000\n",
      "Presolve removed 4 rows and 3364 columns\n",
      "Presolve time: 0.00s\n",
      "Presolve: All rows and columns removed\n",
      "\n",
      "Explored 0 nodes (0 simplex iterations) in 0.00 seconds (0.00 work units)\n",
      "Thread count was 1 (of 8 available processors)\n",
      "\n",
      "Solution count 1: 33998 \n",
      "\n",
      "Optimal solution found (tolerance 1.00e-04)\n",
      "Best objective 3.399800000000e+04, best bound 3.399800000000e+04, gap 0.0000%\n",
      "\n",
      "User-callback calls 111, time in user-callback 0.00 sec\n"
     ]
    }
   ],
   "source": [
    "# Build model.\n",
    "model = Model(Gurobi.Optimizer)\n",
    "# set_optimizer_attribute(model, \"OutputFlag\", solver_output)\n",
    "\n",
    "\n",
    "# Insert variable.\n",
    "# We create a huge number of variables because we map multiple locations with the same index.\n",
    "@variable(model, x[i=1:h_end, j=1:h_end, k=1:K], Bin)\n",
    "@variable(model, y[i=1:h_end, j=1:h_end, k=1:K], Bin)\n",
    "\n",
    "\n",
    "# Insert constraints.\n",
    "\n",
    "@constraint(model, [i=:], sum(x[hospital_origin_index[i], hospital_dest_index[i], k] for k=1:K) == 1)\n",
    "\n",
    "@constraint(model, [k=1:K], x[i,j,k])\n",
    "\n",
    "@constraint(model, [], )\n",
    "\n",
    "\n",
    "# @constraint(model, [k=1:K], sum(sum(x[i,j,k] for j=1:h_end) for i=1:h_end) \n",
    "\n",
    "# @constraint(model, [i=p_start:p_end], sum(sum(x[i,j,k] for j=1:h_end) for k=1:K) == 1) # cant go to any depot or any other hospital than the mapped one.\n",
    "\n",
    "# @constraint(model, [i=p_start:p_end, j=1:h_end, k=1:K], x[i,j,k] - sum(x[j,l,k] for l=append!([1:1:j-1;],[j+1:1:h_end;])))\n",
    "\n",
    "# @constraint(model, [k=1:K], sum(sum(x[i,j,k] for j=h_start:h_end) for i=p_start:p_end) <= sum(sum(x[i,j,k] for j in p_start:p_end) for i=1:D))\n",
    "\n",
    "# @constraint(model, [k=1:K], sum(sum(x[i,j,k] for j=[p_start:p_end]) for i=1:D) - sum(sum(x[i,j,k] for j=[h_start:h_end]) for i=1:D) == 0)\n",
    "\n",
    "# @constraint(model, [i=1:D, k=1:K], sum(sum(x[j,i,k]*vehicle_type[k,l] for j=[h_start:h_end]) for k=1:K) <= depot_capacity[i,l])\n",
    "\n",
    "# @constraint(model, [i=1:D, k=1:K], sum(sum(x[i,j,k]*vehicle_type[k,l] for j=[p_start:p_end]) for k=1:K) <= sum(sum(x[i,j,k]*vehicle_type[k,l] for j=[p_start:p_end]) for k=1:K))\n",
    "\n",
    "## 1. Total Waste Collected Constraint.\n",
    "\n",
    "\n",
    "# Objective.\n",
    "@objective(model, Min, \n",
    "    sum(sum(sum(distance_mapping_full[i,j]*x[i,j,k] for k=1:K) for j=1:h_end) for i=1:h_end) # distance from patient to hospital\n",
    "#     sum(depot_hospital_distances[i,j]*x[i,j,k] for k=1:K)\n",
    ")\n",
    "\n",
    "\n",
    "# Optimize.\n",
    "optimize!(model)"
   ]
  },
  {
   "cell_type": "code",
   "execution_count": null,
   "id": "b49a8dc5",
   "metadata": {},
   "outputs": [],
   "source": []
  },
  {
   "cell_type": "code",
   "execution_count": null,
   "id": "d27679a8",
   "metadata": {},
   "outputs": [],
   "source": []
  },
  {
   "cell_type": "code",
   "execution_count": null,
   "id": "e36649f6",
   "metadata": {},
   "outputs": [],
   "source": []
  },
  {
   "cell_type": "code",
   "execution_count": null,
   "id": "7d441640",
   "metadata": {},
   "outputs": [],
   "source": []
  },
  {
   "cell_type": "code",
   "execution_count": null,
   "id": "f774d7e6",
   "metadata": {},
   "outputs": [],
   "source": []
  },
  {
   "cell_type": "code",
   "execution_count": 261,
   "id": "57ab395f",
   "metadata": {},
   "outputs": [
    {
     "data": {
      "text/html": [
       "<div><div style = \"float: left;\"><span>33×29 DataFrame</span></div><div style = \"float: right;\"><span style = \"font-style: italic;\">8 rows omitted</span></div><div style = \"clear: both;\"></div></div><div class = \"data-frame\" style = \"overflow-x: scroll;\"><table class = \"data-frame\" style = \"margin-bottom: 6px;\"><thead><tr class = \"header\"><th class = \"rowNumber\" style = \"font-weight: bold; text-align: right;\">Row</th><th style = \"text-align: left;\">x1</th><th style = \"text-align: left;\">x2</th><th style = \"text-align: left;\">x3</th><th style = \"text-align: left;\">x4</th><th style = \"text-align: left;\">x5</th><th style = \"text-align: left;\">x6</th><th style = \"text-align: left;\">x7</th><th style = \"text-align: left;\">x8</th><th style = \"text-align: left;\">x9</th><th style = \"text-align: left;\">x10</th><th style = \"text-align: left;\">x11</th><th style = \"text-align: left;\">x12</th><th style = \"text-align: left;\">x13</th><th style = \"text-align: left;\">x14</th><th style = \"text-align: left;\">x15</th><th style = \"text-align: left;\">x16</th><th style = \"text-align: left;\">x17</th><th style = \"text-align: left;\">x18</th><th style = \"text-align: left;\">x19</th><th style = \"text-align: left;\">x20</th><th style = \"text-align: left;\">x21</th><th style = \"text-align: left;\">x22</th><th style = \"text-align: left;\">x23</th><th style = \"text-align: left;\">x24</th><th style = \"text-align: left;\">x25</th><th style = \"text-align: left;\">x26</th><th style = \"text-align: left;\">x27</th><th style = \"text-align: left;\">x28</th><th style = \"text-align: left;\">x29</th></tr><tr class = \"subheader headerLastRow\"><th class = \"rowNumber\" style = \"font-weight: bold; text-align: right;\"></th><th title = \"Float64\" style = \"text-align: left;\">Float64</th><th title = \"Float64\" style = \"text-align: left;\">Float64</th><th title = \"Float64\" style = \"text-align: left;\">Float64</th><th title = \"Float64\" style = \"text-align: left;\">Float64</th><th title = \"Float64\" style = \"text-align: left;\">Float64</th><th title = \"Float64\" style = \"text-align: left;\">Float64</th><th title = \"Float64\" style = \"text-align: left;\">Float64</th><th title = \"Float64\" style = \"text-align: left;\">Float64</th><th title = \"Float64\" style = \"text-align: left;\">Float64</th><th title = \"Float64\" style = \"text-align: left;\">Float64</th><th title = \"Float64\" style = \"text-align: left;\">Float64</th><th title = \"Float64\" style = \"text-align: left;\">Float64</th><th title = \"Float64\" style = \"text-align: left;\">Float64</th><th title = \"Float64\" style = \"text-align: left;\">Float64</th><th title = \"Float64\" style = \"text-align: left;\">Float64</th><th title = \"Float64\" style = \"text-align: left;\">Float64</th><th title = \"Float64\" style = \"text-align: left;\">Float64</th><th title = \"Float64\" style = \"text-align: left;\">Float64</th><th title = \"Float64\" style = \"text-align: left;\">Float64</th><th title = \"Float64\" style = \"text-align: left;\">Float64</th><th title = \"Float64\" style = \"text-align: left;\">Float64</th><th title = \"Float64\" style = \"text-align: left;\">Float64</th><th title = \"Float64\" style = \"text-align: left;\">Float64</th><th title = \"Float64\" style = \"text-align: left;\">Float64</th><th title = \"Float64\" style = \"text-align: left;\">Float64</th><th title = \"Float64\" style = \"text-align: left;\">Float64</th><th title = \"Float64\" style = \"text-align: left;\">Float64</th><th title = \"Float64\" style = \"text-align: left;\">Float64</th><th title = \"Float64\" style = \"text-align: left;\">Float64</th></tr></thead><tbody><tr><td class = \"rowNumber\" style = \"font-weight: bold; text-align: right;\">1</td><td style = \"text-align: right;\">0.0</td><td style = \"text-align: right;\">0.0</td><td style = \"text-align: right;\">0.0</td><td style = \"text-align: right;\">0.0</td><td style = \"text-align: right;\">0.0</td><td style = \"text-align: right;\">0.0</td><td style = \"text-align: right;\">0.0</td><td style = \"text-align: right;\">0.0</td><td style = \"text-align: right;\">0.0</td><td style = \"text-align: right;\">0.0</td><td style = \"text-align: right;\">0.0</td><td style = \"text-align: right;\">0.0</td><td style = \"text-align: right;\">0.0</td><td style = \"text-align: right;\">0.0</td><td style = \"text-align: right;\">0.0</td><td style = \"text-align: right;\">0.0</td><td style = \"text-align: right;\">0.0</td><td style = \"text-align: right;\">0.0</td><td style = \"text-align: right;\">0.0</td><td style = \"text-align: right;\">0.0</td><td style = \"text-align: right;\">0.0</td><td style = \"text-align: right;\">0.0</td><td style = \"text-align: right;\">0.0</td><td style = \"text-align: right;\">0.0</td><td style = \"text-align: right;\">0.0</td><td style = \"text-align: right;\">0.0</td><td style = \"text-align: right;\">0.0</td><td style = \"text-align: right;\">0.0</td><td style = \"text-align: right;\">0.0</td></tr><tr><td class = \"rowNumber\" style = \"font-weight: bold; text-align: right;\">2</td><td style = \"text-align: right;\">0.0</td><td style = \"text-align: right;\">0.0</td><td style = \"text-align: right;\">0.0</td><td style = \"text-align: right;\">0.0</td><td style = \"text-align: right;\">0.0</td><td style = \"text-align: right;\">0.0</td><td style = \"text-align: right;\">0.0</td><td style = \"text-align: right;\">0.0</td><td style = \"text-align: right;\">0.0</td><td style = \"text-align: right;\">0.0</td><td style = \"text-align: right;\">0.0</td><td style = \"text-align: right;\">0.0</td><td style = \"text-align: right;\">0.0</td><td style = \"text-align: right;\">0.0</td><td style = \"text-align: right;\">0.0</td><td style = \"text-align: right;\">0.0</td><td style = \"text-align: right;\">0.0</td><td style = \"text-align: right;\">0.0</td><td style = \"text-align: right;\">0.0</td><td style = \"text-align: right;\">0.0</td><td style = \"text-align: right;\">0.0</td><td style = \"text-align: right;\">0.0</td><td style = \"text-align: right;\">0.0</td><td style = \"text-align: right;\">0.0</td><td style = \"text-align: right;\">0.0</td><td style = \"text-align: right;\">0.0</td><td style = \"text-align: right;\">0.0</td><td style = \"text-align: right;\">0.0</td><td style = \"text-align: right;\">0.0</td></tr><tr><td class = \"rowNumber\" style = \"font-weight: bold; text-align: right;\">3</td><td style = \"text-align: right;\">0.0</td><td style = \"text-align: right;\">0.0</td><td style = \"text-align: right;\">0.0</td><td style = \"text-align: right;\">0.0</td><td style = \"text-align: right;\">0.0</td><td style = \"text-align: right;\">0.0</td><td style = \"text-align: right;\">0.0</td><td style = \"text-align: right;\">0.0</td><td style = \"text-align: right;\">0.0</td><td style = \"text-align: right;\">0.0</td><td style = \"text-align: right;\">0.0</td><td style = \"text-align: right;\">0.0</td><td style = \"text-align: right;\">0.0</td><td style = \"text-align: right;\">0.0</td><td style = \"text-align: right;\">0.0</td><td style = \"text-align: right;\">0.0</td><td style = \"text-align: right;\">0.0</td><td style = \"text-align: right;\">0.0</td><td style = \"text-align: right;\">0.0</td><td style = \"text-align: right;\">0.0</td><td style = \"text-align: right;\">0.0</td><td style = \"text-align: right;\">0.0</td><td style = \"text-align: right;\">0.0</td><td style = \"text-align: right;\">0.0</td><td style = \"text-align: right;\">0.0</td><td style = \"text-align: right;\">0.0</td><td style = \"text-align: right;\">0.0</td><td style = \"text-align: right;\">0.0</td><td style = \"text-align: right;\">0.0</td></tr><tr><td class = \"rowNumber\" style = \"font-weight: bold; text-align: right;\">4</td><td style = \"text-align: right;\">0.0</td><td style = \"text-align: right;\">0.0</td><td style = \"text-align: right;\">0.0</td><td style = \"text-align: right;\">0.0</td><td style = \"text-align: right;\">0.0</td><td style = \"text-align: right;\">0.0</td><td style = \"text-align: right;\">0.0</td><td style = \"text-align: right;\">0.0</td><td style = \"text-align: right;\">0.0</td><td style = \"text-align: right;\">0.0</td><td style = \"text-align: right;\">0.0</td><td style = \"text-align: right;\">0.0</td><td style = \"text-align: right;\">0.0</td><td style = \"text-align: right;\">0.0</td><td style = \"text-align: right;\">0.0</td><td style = \"text-align: right;\">0.0</td><td style = \"text-align: right;\">0.0</td><td style = \"text-align: right;\">0.0</td><td style = \"text-align: right;\">0.0</td><td style = \"text-align: right;\">0.0</td><td style = \"text-align: right;\">0.0</td><td style = \"text-align: right;\">0.0</td><td style = \"text-align: right;\">0.0</td><td style = \"text-align: right;\">0.0</td><td style = \"text-align: right;\">0.0</td><td style = \"text-align: right;\">0.0</td><td style = \"text-align: right;\">0.0</td><td style = \"text-align: right;\">0.0</td><td style = \"text-align: right;\">0.0</td></tr><tr><td class = \"rowNumber\" style = \"font-weight: bold; text-align: right;\">5</td><td style = \"text-align: right;\">0.0</td><td style = \"text-align: right;\">0.0</td><td style = \"text-align: right;\">0.0</td><td style = \"text-align: right;\">0.0</td><td style = \"text-align: right;\">0.0</td><td style = \"text-align: right;\">0.0</td><td style = \"text-align: right;\">0.0</td><td style = \"text-align: right;\">0.0</td><td style = \"text-align: right;\">0.0</td><td style = \"text-align: right;\">0.0</td><td style = \"text-align: right;\">0.0</td><td style = \"text-align: right;\">0.0</td><td style = \"text-align: right;\">0.0</td><td style = \"text-align: right;\">0.0</td><td style = \"text-align: right;\">0.0</td><td style = \"text-align: right;\">0.0</td><td style = \"text-align: right;\">0.0</td><td style = \"text-align: right;\">0.0</td><td style = \"text-align: right;\">0.0</td><td style = \"text-align: right;\">0.0</td><td style = \"text-align: right;\">0.0</td><td style = \"text-align: right;\">0.0</td><td style = \"text-align: right;\">0.0</td><td style = \"text-align: right;\">0.0</td><td style = \"text-align: right;\">0.0</td><td style = \"text-align: right;\">0.0</td><td style = \"text-align: right;\">0.0</td><td style = \"text-align: right;\">0.0</td><td style = \"text-align: right;\">0.0</td></tr><tr><td class = \"rowNumber\" style = \"font-weight: bold; text-align: right;\">6</td><td style = \"text-align: right;\">0.0</td><td style = \"text-align: right;\">0.0</td><td style = \"text-align: right;\">0.0</td><td style = \"text-align: right;\">0.0</td><td style = \"text-align: right;\">0.0</td><td style = \"text-align: right;\">0.0</td><td style = \"text-align: right;\">0.0</td><td style = \"text-align: right;\">0.0</td><td style = \"text-align: right;\">0.0</td><td style = \"text-align: right;\">0.0</td><td style = \"text-align: right;\">0.0</td><td style = \"text-align: right;\">0.0</td><td style = \"text-align: right;\">0.0</td><td style = \"text-align: right;\">0.0</td><td style = \"text-align: right;\">0.0</td><td style = \"text-align: right;\">0.0</td><td style = \"text-align: right;\">0.0</td><td style = \"text-align: right;\">0.0</td><td style = \"text-align: right;\">0.0</td><td style = \"text-align: right;\">0.0</td><td style = \"text-align: right;\">0.0</td><td style = \"text-align: right;\">0.0</td><td style = \"text-align: right;\">0.0</td><td style = \"text-align: right;\">0.0</td><td style = \"text-align: right;\">0.0</td><td style = \"text-align: right;\">0.0</td><td style = \"text-align: right;\">0.0</td><td style = \"text-align: right;\">0.0</td><td style = \"text-align: right;\">0.0</td></tr><tr><td class = \"rowNumber\" style = \"font-weight: bold; text-align: right;\">7</td><td style = \"text-align: right;\">0.0</td><td style = \"text-align: right;\">0.0</td><td style = \"text-align: right;\">0.0</td><td style = \"text-align: right;\">0.0</td><td style = \"text-align: right;\">0.0</td><td style = \"text-align: right;\">0.0</td><td style = \"text-align: right;\">0.0</td><td style = \"text-align: right;\">0.0</td><td style = \"text-align: right;\">0.0</td><td style = \"text-align: right;\">0.0</td><td style = \"text-align: right;\">0.0</td><td style = \"text-align: right;\">0.0</td><td style = \"text-align: right;\">0.0</td><td style = \"text-align: right;\">0.0</td><td style = \"text-align: right;\">0.0</td><td style = \"text-align: right;\">0.0</td><td style = \"text-align: right;\">0.0</td><td style = \"text-align: right;\">0.0</td><td style = \"text-align: right;\">0.0</td><td style = \"text-align: right;\">0.0</td><td style = \"text-align: right;\">0.0</td><td style = \"text-align: right;\">0.0</td><td style = \"text-align: right;\">0.0</td><td style = \"text-align: right;\">0.0</td><td style = \"text-align: right;\">0.0</td><td style = \"text-align: right;\">0.0</td><td style = \"text-align: right;\">0.0</td><td style = \"text-align: right;\">0.0</td><td style = \"text-align: right;\">0.0</td></tr><tr><td class = \"rowNumber\" style = \"font-weight: bold; text-align: right;\">8</td><td style = \"text-align: right;\">0.0</td><td style = \"text-align: right;\">0.0</td><td style = \"text-align: right;\">0.0</td><td style = \"text-align: right;\">0.0</td><td style = \"text-align: right;\">0.0</td><td style = \"text-align: right;\">0.0</td><td style = \"text-align: right;\">0.0</td><td style = \"text-align: right;\">0.0</td><td style = \"text-align: right;\">0.0</td><td style = \"text-align: right;\">0.0</td><td style = \"text-align: right;\">0.0</td><td style = \"text-align: right;\">0.0</td><td style = \"text-align: right;\">0.0</td><td style = \"text-align: right;\">0.0</td><td style = \"text-align: right;\">0.0</td><td style = \"text-align: right;\">0.0</td><td style = \"text-align: right;\">0.0</td><td style = \"text-align: right;\">0.0</td><td style = \"text-align: right;\">0.0</td><td style = \"text-align: right;\">0.0</td><td style = \"text-align: right;\">0.0</td><td style = \"text-align: right;\">0.0</td><td style = \"text-align: right;\">0.0</td><td style = \"text-align: right;\">0.0</td><td style = \"text-align: right;\">0.0</td><td style = \"text-align: right;\">0.0</td><td style = \"text-align: right;\">0.0</td><td style = \"text-align: right;\">0.0</td><td style = \"text-align: right;\">0.0</td></tr><tr><td class = \"rowNumber\" style = \"font-weight: bold; text-align: right;\">9</td><td style = \"text-align: right;\">0.0</td><td style = \"text-align: right;\">0.0</td><td style = \"text-align: right;\">0.0</td><td style = \"text-align: right;\">0.0</td><td style = \"text-align: right;\">0.0</td><td style = \"text-align: right;\">0.0</td><td style = \"text-align: right;\">0.0</td><td style = \"text-align: right;\">0.0</td><td style = \"text-align: right;\">0.0</td><td style = \"text-align: right;\">0.0</td><td style = \"text-align: right;\">0.0</td><td style = \"text-align: right;\">0.0</td><td style = \"text-align: right;\">0.0</td><td style = \"text-align: right;\">0.0</td><td style = \"text-align: right;\">0.0</td><td style = \"text-align: right;\">0.0</td><td style = \"text-align: right;\">0.0</td><td style = \"text-align: right;\">0.0</td><td style = \"text-align: right;\">0.0</td><td style = \"text-align: right;\">0.0</td><td style = \"text-align: right;\">0.0</td><td style = \"text-align: right;\">0.0</td><td style = \"text-align: right;\">0.0</td><td style = \"text-align: right;\">0.0</td><td style = \"text-align: right;\">0.0</td><td style = \"text-align: right;\">0.0</td><td style = \"text-align: right;\">0.0</td><td style = \"text-align: right;\">0.0</td><td style = \"text-align: right;\">0.0</td></tr><tr><td class = \"rowNumber\" style = \"font-weight: bold; text-align: right;\">10</td><td style = \"text-align: right;\">0.0</td><td style = \"text-align: right;\">0.0</td><td style = \"text-align: right;\">0.0</td><td style = \"text-align: right;\">0.0</td><td style = \"text-align: right;\">0.0</td><td style = \"text-align: right;\">0.0</td><td style = \"text-align: right;\">0.0</td><td style = \"text-align: right;\">0.0</td><td style = \"text-align: right;\">0.0</td><td style = \"text-align: right;\">0.0</td><td style = \"text-align: right;\">0.0</td><td style = \"text-align: right;\">0.0</td><td style = \"text-align: right;\">0.0</td><td style = \"text-align: right;\">0.0</td><td style = \"text-align: right;\">0.0</td><td style = \"text-align: right;\">0.0</td><td style = \"text-align: right;\">0.0</td><td style = \"text-align: right;\">0.0</td><td style = \"text-align: right;\">0.0</td><td style = \"text-align: right;\">0.0</td><td style = \"text-align: right;\">0.0</td><td style = \"text-align: right;\">0.0</td><td style = \"text-align: right;\">0.0</td><td style = \"text-align: right;\">0.0</td><td style = \"text-align: right;\">0.0</td><td style = \"text-align: right;\">0.0</td><td style = \"text-align: right;\">0.0</td><td style = \"text-align: right;\">0.0</td><td style = \"text-align: right;\">0.0</td></tr><tr><td class = \"rowNumber\" style = \"font-weight: bold; text-align: right;\">11</td><td style = \"text-align: right;\">0.0</td><td style = \"text-align: right;\">0.0</td><td style = \"text-align: right;\">0.0</td><td style = \"text-align: right;\">0.0</td><td style = \"text-align: right;\">0.0</td><td style = \"text-align: right;\">0.0</td><td style = \"text-align: right;\">0.0</td><td style = \"text-align: right;\">0.0</td><td style = \"text-align: right;\">0.0</td><td style = \"text-align: right;\">0.0</td><td style = \"text-align: right;\">0.0</td><td style = \"text-align: right;\">0.0</td><td style = \"text-align: right;\">0.0</td><td style = \"text-align: right;\">1.0</td><td style = \"text-align: right;\">0.0</td><td style = \"text-align: right;\">0.0</td><td style = \"text-align: right;\">0.0</td><td style = \"text-align: right;\">0.0</td><td style = \"text-align: right;\">0.0</td><td style = \"text-align: right;\">-0.0</td><td style = \"text-align: right;\">0.0</td><td style = \"text-align: right;\">0.0</td><td style = \"text-align: right;\">0.0</td><td style = \"text-align: right;\">0.0</td><td style = \"text-align: right;\">0.0</td><td style = \"text-align: right;\">0.0</td><td style = \"text-align: right;\">0.0</td><td style = \"text-align: right;\">-0.0</td><td style = \"text-align: right;\">-0.0</td></tr><tr><td class = \"rowNumber\" style = \"font-weight: bold; text-align: right;\">12</td><td style = \"text-align: right;\">0.0</td><td style = \"text-align: right;\">0.0</td><td style = \"text-align: right;\">0.0</td><td style = \"text-align: right;\">0.0</td><td style = \"text-align: right;\">0.0</td><td style = \"text-align: right;\">0.0</td><td style = \"text-align: right;\">0.0</td><td style = \"text-align: right;\">0.0</td><td style = \"text-align: right;\">0.0</td><td style = \"text-align: right;\">0.0</td><td style = \"text-align: right;\">0.0</td><td style = \"text-align: right;\">0.0</td><td style = \"text-align: right;\">0.0</td><td style = \"text-align: right;\">0.0</td><td style = \"text-align: right;\">0.0</td><td style = \"text-align: right;\">0.0</td><td style = \"text-align: right;\">0.0</td><td style = \"text-align: right;\">0.0</td><td style = \"text-align: right;\">0.0</td><td style = \"text-align: right;\">0.0</td><td style = \"text-align: right;\">0.0</td><td style = \"text-align: right;\">0.0</td><td style = \"text-align: right;\">0.0</td><td style = \"text-align: right;\">0.0</td><td style = \"text-align: right;\">0.0</td><td style = \"text-align: right;\">0.0</td><td style = \"text-align: right;\">0.0</td><td style = \"text-align: right;\">0.0</td><td style = \"text-align: right;\">0.0</td></tr><tr><td class = \"rowNumber\" style = \"font-weight: bold; text-align: right;\">13</td><td style = \"text-align: right;\">0.0</td><td style = \"text-align: right;\">0.0</td><td style = \"text-align: right;\">0.0</td><td style = \"text-align: right;\">0.0</td><td style = \"text-align: right;\">0.0</td><td style = \"text-align: right;\">0.0</td><td style = \"text-align: right;\">0.0</td><td style = \"text-align: right;\">0.0</td><td style = \"text-align: right;\">0.0</td><td style = \"text-align: right;\">0.0</td><td style = \"text-align: right;\">0.0</td><td style = \"text-align: right;\">0.0</td><td style = \"text-align: right;\">0.0</td><td style = \"text-align: right;\">0.0</td><td style = \"text-align: right;\">0.0</td><td style = \"text-align: right;\">0.0</td><td style = \"text-align: right;\">0.0</td><td style = \"text-align: right;\">0.0</td><td style = \"text-align: right;\">0.0</td><td style = \"text-align: right;\">0.0</td><td style = \"text-align: right;\">0.0</td><td style = \"text-align: right;\">0.0</td><td style = \"text-align: right;\">0.0</td><td style = \"text-align: right;\">0.0</td><td style = \"text-align: right;\">0.0</td><td style = \"text-align: right;\">0.0</td><td style = \"text-align: right;\">0.0</td><td style = \"text-align: right;\">0.0</td><td style = \"text-align: right;\">0.0</td></tr><tr><td style = \"text-align: right;\">&vellip;</td><td style = \"text-align: right;\">&vellip;</td><td style = \"text-align: right;\">&vellip;</td><td style = \"text-align: right;\">&vellip;</td><td style = \"text-align: right;\">&vellip;</td><td style = \"text-align: right;\">&vellip;</td><td style = \"text-align: right;\">&vellip;</td><td style = \"text-align: right;\">&vellip;</td><td style = \"text-align: right;\">&vellip;</td><td style = \"text-align: right;\">&vellip;</td><td style = \"text-align: right;\">&vellip;</td><td style = \"text-align: right;\">&vellip;</td><td style = \"text-align: right;\">&vellip;</td><td style = \"text-align: right;\">&vellip;</td><td style = \"text-align: right;\">&vellip;</td><td style = \"text-align: right;\">&vellip;</td><td style = \"text-align: right;\">&vellip;</td><td style = \"text-align: right;\">&vellip;</td><td style = \"text-align: right;\">&vellip;</td><td style = \"text-align: right;\">&vellip;</td><td style = \"text-align: right;\">&vellip;</td><td style = \"text-align: right;\">&vellip;</td><td style = \"text-align: right;\">&vellip;</td><td style = \"text-align: right;\">&vellip;</td><td style = \"text-align: right;\">&vellip;</td><td style = \"text-align: right;\">&vellip;</td><td style = \"text-align: right;\">&vellip;</td><td style = \"text-align: right;\">&vellip;</td><td style = \"text-align: right;\">&vellip;</td><td style = \"text-align: right;\">&vellip;</td></tr><tr><td class = \"rowNumber\" style = \"font-weight: bold; text-align: right;\">22</td><td style = \"text-align: right;\">0.0</td><td style = \"text-align: right;\">0.0</td><td style = \"text-align: right;\">0.0</td><td style = \"text-align: right;\">-0.0</td><td style = \"text-align: right;\">0.0</td><td style = \"text-align: right;\">-0.0</td><td style = \"text-align: right;\">-0.0</td><td style = \"text-align: right;\">-0.0</td><td style = \"text-align: right;\">0.0</td><td style = \"text-align: right;\">0.0</td><td style = \"text-align: right;\">0.0</td><td style = \"text-align: right;\">0.0</td><td style = \"text-align: right;\">0.0</td><td style = \"text-align: right;\">0.0</td><td style = \"text-align: right;\">1.0</td><td style = \"text-align: right;\">0.0</td><td style = \"text-align: right;\">0.0</td><td style = \"text-align: right;\">0.0</td><td style = \"text-align: right;\">0.0</td><td style = \"text-align: right;\">0.0</td><td style = \"text-align: right;\">0.0</td><td style = \"text-align: right;\">0.0</td><td style = \"text-align: right;\">0.0</td><td style = \"text-align: right;\">-0.0</td><td style = \"text-align: right;\">-0.0</td><td style = \"text-align: right;\">-0.0</td><td style = \"text-align: right;\">0.0</td><td style = \"text-align: right;\">0.0</td><td style = \"text-align: right;\">0.0</td></tr><tr><td class = \"rowNumber\" style = \"font-weight: bold; text-align: right;\">23</td><td style = \"text-align: right;\">0.0</td><td style = \"text-align: right;\">0.0</td><td style = \"text-align: right;\">0.0</td><td style = \"text-align: right;\">0.0</td><td style = \"text-align: right;\">0.0</td><td style = \"text-align: right;\">0.0</td><td style = \"text-align: right;\">0.0</td><td style = \"text-align: right;\">0.0</td><td style = \"text-align: right;\">0.0</td><td style = \"text-align: right;\">0.0</td><td style = \"text-align: right;\">0.0</td><td style = \"text-align: right;\">0.0</td><td style = \"text-align: right;\">0.0</td><td style = \"text-align: right;\">0.0</td><td style = \"text-align: right;\">0.0</td><td style = \"text-align: right;\">0.0</td><td style = \"text-align: right;\">0.0</td><td style = \"text-align: right;\">0.0</td><td style = \"text-align: right;\">0.0</td><td style = \"text-align: right;\">0.0</td><td style = \"text-align: right;\">0.0</td><td style = \"text-align: right;\">0.0</td><td style = \"text-align: right;\">0.0</td><td style = \"text-align: right;\">0.0</td><td style = \"text-align: right;\">0.0</td><td style = \"text-align: right;\">0.0</td><td style = \"text-align: right;\">0.0</td><td style = \"text-align: right;\">0.0</td><td style = \"text-align: right;\">0.0</td></tr><tr><td class = \"rowNumber\" style = \"font-weight: bold; text-align: right;\">24</td><td style = \"text-align: right;\">0.0</td><td style = \"text-align: right;\">0.0</td><td style = \"text-align: right;\">0.0</td><td style = \"text-align: right;\">0.0</td><td style = \"text-align: right;\">0.0</td><td style = \"text-align: right;\">0.0</td><td style = \"text-align: right;\">0.0</td><td style = \"text-align: right;\">0.0</td><td style = \"text-align: right;\">0.0</td><td style = \"text-align: right;\">0.0</td><td style = \"text-align: right;\">0.0</td><td style = \"text-align: right;\">0.0</td><td style = \"text-align: right;\">0.0</td><td style = \"text-align: right;\">0.0</td><td style = \"text-align: right;\">0.0</td><td style = \"text-align: right;\">0.0</td><td style = \"text-align: right;\">0.0</td><td style = \"text-align: right;\">0.0</td><td style = \"text-align: right;\">0.0</td><td style = \"text-align: right;\">0.0</td><td style = \"text-align: right;\">0.0</td><td style = \"text-align: right;\">0.0</td><td style = \"text-align: right;\">0.0</td><td style = \"text-align: right;\">0.0</td><td style = \"text-align: right;\">0.0</td><td style = \"text-align: right;\">0.0</td><td style = \"text-align: right;\">0.0</td><td style = \"text-align: right;\">0.0</td><td style = \"text-align: right;\">0.0</td></tr><tr><td class = \"rowNumber\" style = \"font-weight: bold; text-align: right;\">25</td><td style = \"text-align: right;\">0.0</td><td style = \"text-align: right;\">0.0</td><td style = \"text-align: right;\">0.0</td><td style = \"text-align: right;\">0.0</td><td style = \"text-align: right;\">0.0</td><td style = \"text-align: right;\">0.0</td><td style = \"text-align: right;\">0.0</td><td style = \"text-align: right;\">0.0</td><td style = \"text-align: right;\">0.0</td><td style = \"text-align: right;\">0.0</td><td style = \"text-align: right;\">0.0</td><td style = \"text-align: right;\">0.0</td><td style = \"text-align: right;\">0.0</td><td style = \"text-align: right;\">0.0</td><td style = \"text-align: right;\">0.0</td><td style = \"text-align: right;\">0.0</td><td style = \"text-align: right;\">0.0</td><td style = \"text-align: right;\">0.0</td><td style = \"text-align: right;\">0.0</td><td style = \"text-align: right;\">0.0</td><td style = \"text-align: right;\">0.0</td><td style = \"text-align: right;\">0.0</td><td style = \"text-align: right;\">0.0</td><td style = \"text-align: right;\">0.0</td><td style = \"text-align: right;\">0.0</td><td style = \"text-align: right;\">0.0</td><td style = \"text-align: right;\">0.0</td><td style = \"text-align: right;\">0.0</td><td style = \"text-align: right;\">0.0</td></tr><tr><td class = \"rowNumber\" style = \"font-weight: bold; text-align: right;\">26</td><td style = \"text-align: right;\">0.0</td><td style = \"text-align: right;\">0.0</td><td style = \"text-align: right;\">0.0</td><td style = \"text-align: right;\">0.0</td><td style = \"text-align: right;\">0.0</td><td style = \"text-align: right;\">0.0</td><td style = \"text-align: right;\">0.0</td><td style = \"text-align: right;\">0.0</td><td style = \"text-align: right;\">0.0</td><td style = \"text-align: right;\">0.0</td><td style = \"text-align: right;\">0.0</td><td style = \"text-align: right;\">0.0</td><td style = \"text-align: right;\">0.0</td><td style = \"text-align: right;\">0.0</td><td style = \"text-align: right;\">0.0</td><td style = \"text-align: right;\">0.0</td><td style = \"text-align: right;\">0.0</td><td style = \"text-align: right;\">0.0</td><td style = \"text-align: right;\">0.0</td><td style = \"text-align: right;\">0.0</td><td style = \"text-align: right;\">0.0</td><td style = \"text-align: right;\">0.0</td><td style = \"text-align: right;\">0.0</td><td style = \"text-align: right;\">0.0</td><td style = \"text-align: right;\">0.0</td><td style = \"text-align: right;\">0.0</td><td style = \"text-align: right;\">0.0</td><td style = \"text-align: right;\">0.0</td><td style = \"text-align: right;\">0.0</td></tr><tr><td class = \"rowNumber\" style = \"font-weight: bold; text-align: right;\">27</td><td style = \"text-align: right;\">0.0</td><td style = \"text-align: right;\">0.0</td><td style = \"text-align: right;\">0.0</td><td style = \"text-align: right;\">0.0</td><td style = \"text-align: right;\">0.0</td><td style = \"text-align: right;\">0.0</td><td style = \"text-align: right;\">0.0</td><td style = \"text-align: right;\">0.0</td><td style = \"text-align: right;\">0.0</td><td style = \"text-align: right;\">0.0</td><td style = \"text-align: right;\">0.0</td><td style = \"text-align: right;\">0.0</td><td style = \"text-align: right;\">0.0</td><td style = \"text-align: right;\">0.0</td><td style = \"text-align: right;\">0.0</td><td style = \"text-align: right;\">0.0</td><td style = \"text-align: right;\">0.0</td><td style = \"text-align: right;\">0.0</td><td style = \"text-align: right;\">0.0</td><td style = \"text-align: right;\">0.0</td><td style = \"text-align: right;\">0.0</td><td style = \"text-align: right;\">0.0</td><td style = \"text-align: right;\">0.0</td><td style = \"text-align: right;\">0.0</td><td style = \"text-align: right;\">0.0</td><td style = \"text-align: right;\">0.0</td><td style = \"text-align: right;\">0.0</td><td style = \"text-align: right;\">0.0</td><td style = \"text-align: right;\">0.0</td></tr><tr><td class = \"rowNumber\" style = \"font-weight: bold; text-align: right;\">28</td><td style = \"text-align: right;\">0.0</td><td style = \"text-align: right;\">0.0</td><td style = \"text-align: right;\">0.0</td><td style = \"text-align: right;\">0.0</td><td style = \"text-align: right;\">0.0</td><td style = \"text-align: right;\">0.0</td><td style = \"text-align: right;\">0.0</td><td style = \"text-align: right;\">0.0</td><td style = \"text-align: right;\">0.0</td><td style = \"text-align: right;\">0.0</td><td style = \"text-align: right;\">0.0</td><td style = \"text-align: right;\">0.0</td><td style = \"text-align: right;\">0.0</td><td style = \"text-align: right;\">0.0</td><td style = \"text-align: right;\">0.0</td><td style = \"text-align: right;\">0.0</td><td style = \"text-align: right;\">0.0</td><td style = \"text-align: right;\">0.0</td><td style = \"text-align: right;\">0.0</td><td style = \"text-align: right;\">0.0</td><td style = \"text-align: right;\">0.0</td><td style = \"text-align: right;\">0.0</td><td style = \"text-align: right;\">0.0</td><td style = \"text-align: right;\">0.0</td><td style = \"text-align: right;\">0.0</td><td style = \"text-align: right;\">0.0</td><td style = \"text-align: right;\">0.0</td><td style = \"text-align: right;\">0.0</td><td style = \"text-align: right;\">0.0</td></tr><tr><td class = \"rowNumber\" style = \"font-weight: bold; text-align: right;\">29</td><td style = \"text-align: right;\">0.0</td><td style = \"text-align: right;\">0.0</td><td style = \"text-align: right;\">0.0</td><td style = \"text-align: right;\">0.0</td><td style = \"text-align: right;\">0.0</td><td style = \"text-align: right;\">0.0</td><td style = \"text-align: right;\">0.0</td><td style = \"text-align: right;\">0.0</td><td style = \"text-align: right;\">0.0</td><td style = \"text-align: right;\">0.0</td><td style = \"text-align: right;\">0.0</td><td style = \"text-align: right;\">0.0</td><td style = \"text-align: right;\">0.0</td><td style = \"text-align: right;\">0.0</td><td style = \"text-align: right;\">0.0</td><td style = \"text-align: right;\">0.0</td><td style = \"text-align: right;\">0.0</td><td style = \"text-align: right;\">0.0</td><td style = \"text-align: right;\">0.0</td><td style = \"text-align: right;\">0.0</td><td style = \"text-align: right;\">0.0</td><td style = \"text-align: right;\">0.0</td><td style = \"text-align: right;\">0.0</td><td style = \"text-align: right;\">0.0</td><td style = \"text-align: right;\">0.0</td><td style = \"text-align: right;\">0.0</td><td style = \"text-align: right;\">0.0</td><td style = \"text-align: right;\">0.0</td><td style = \"text-align: right;\">0.0</td></tr><tr><td class = \"rowNumber\" style = \"font-weight: bold; text-align: right;\">30</td><td style = \"text-align: right;\">0.0</td><td style = \"text-align: right;\">0.0</td><td style = \"text-align: right;\">0.0</td><td style = \"text-align: right;\">0.0</td><td style = \"text-align: right;\">0.0</td><td style = \"text-align: right;\">0.0</td><td style = \"text-align: right;\">0.0</td><td style = \"text-align: right;\">0.0</td><td style = \"text-align: right;\">0.0</td><td style = \"text-align: right;\">0.0</td><td style = \"text-align: right;\">0.0</td><td style = \"text-align: right;\">0.0</td><td style = \"text-align: right;\">0.0</td><td style = \"text-align: right;\">0.0</td><td style = \"text-align: right;\">0.0</td><td style = \"text-align: right;\">0.0</td><td style = \"text-align: right;\">0.0</td><td style = \"text-align: right;\">0.0</td><td style = \"text-align: right;\">0.0</td><td style = \"text-align: right;\">0.0</td><td style = \"text-align: right;\">0.0</td><td style = \"text-align: right;\">1.0</td><td style = \"text-align: right;\">0.0</td><td style = \"text-align: right;\">0.0</td><td style = \"text-align: right;\">0.0</td><td style = \"text-align: right;\">0.0</td><td style = \"text-align: right;\">0.0</td><td style = \"text-align: right;\">0.0</td><td style = \"text-align: right;\">0.0</td></tr><tr><td class = \"rowNumber\" style = \"font-weight: bold; text-align: right;\">31</td><td style = \"text-align: right;\">0.0</td><td style = \"text-align: right;\">0.0</td><td style = \"text-align: right;\">0.0</td><td style = \"text-align: right;\">0.0</td><td style = \"text-align: right;\">0.0</td><td style = \"text-align: right;\">0.0</td><td style = \"text-align: right;\">0.0</td><td style = \"text-align: right;\">0.0</td><td style = \"text-align: right;\">0.0</td><td style = \"text-align: right;\">0.0</td><td style = \"text-align: right;\">0.0</td><td style = \"text-align: right;\">0.0</td><td style = \"text-align: right;\">0.0</td><td style = \"text-align: right;\">0.0</td><td style = \"text-align: right;\">0.0</td><td style = \"text-align: right;\">0.0</td><td style = \"text-align: right;\">0.0</td><td style = \"text-align: right;\">0.0</td><td style = \"text-align: right;\">0.0</td><td style = \"text-align: right;\">0.0</td><td style = \"text-align: right;\">0.0</td><td style = \"text-align: right;\">1.0</td><td style = \"text-align: right;\">0.0</td><td style = \"text-align: right;\">0.0</td><td style = \"text-align: right;\">0.0</td><td style = \"text-align: right;\">0.0</td><td style = \"text-align: right;\">0.0</td><td style = \"text-align: right;\">0.0</td><td style = \"text-align: right;\">0.0</td></tr><tr><td class = \"rowNumber\" style = \"font-weight: bold; text-align: right;\">32</td><td style = \"text-align: right;\">0.0</td><td style = \"text-align: right;\">0.0</td><td style = \"text-align: right;\">0.0</td><td style = \"text-align: right;\">0.0</td><td style = \"text-align: right;\">0.0</td><td style = \"text-align: right;\">0.0</td><td style = \"text-align: right;\">0.0</td><td style = \"text-align: right;\">0.0</td><td style = \"text-align: right;\">0.0</td><td style = \"text-align: right;\">0.0</td><td style = \"text-align: right;\">1.0</td><td style = \"text-align: right;\">0.0</td><td style = \"text-align: right;\">0.0</td><td style = \"text-align: right;\">0.0</td><td style = \"text-align: right;\">0.0</td><td style = \"text-align: right;\">0.0</td><td style = \"text-align: right;\">0.0</td><td style = \"text-align: right;\">0.0</td><td style = \"text-align: right;\">0.0</td><td style = \"text-align: right;\">0.0</td><td style = \"text-align: right;\">0.0</td><td style = \"text-align: right;\">0.0</td><td style = \"text-align: right;\">0.0</td><td style = \"text-align: right;\">0.0</td><td style = \"text-align: right;\">0.0</td><td style = \"text-align: right;\">0.0</td><td style = \"text-align: right;\">0.0</td><td style = \"text-align: right;\">0.0</td><td style = \"text-align: right;\">0.0</td></tr><tr><td class = \"rowNumber\" style = \"font-weight: bold; text-align: right;\">33</td><td style = \"text-align: right;\">0.0</td><td style = \"text-align: right;\">0.0</td><td style = \"text-align: right;\">0.0</td><td style = \"text-align: right;\">0.0</td><td style = \"text-align: right;\">0.0</td><td style = \"text-align: right;\">0.0</td><td style = \"text-align: right;\">0.0</td><td style = \"text-align: right;\">0.0</td><td style = \"text-align: right;\">0.0</td><td style = \"text-align: right;\">0.0</td><td style = \"text-align: right;\">0.0</td><td style = \"text-align: right;\">0.0</td><td style = \"text-align: right;\">0.0</td><td style = \"text-align: right;\">0.0</td><td style = \"text-align: right;\">0.0</td><td style = \"text-align: right;\">0.0</td><td style = \"text-align: right;\">0.0</td><td style = \"text-align: right;\">1.0</td><td style = \"text-align: right;\">0.0</td><td style = \"text-align: right;\">0.0</td><td style = \"text-align: right;\">0.0</td><td style = \"text-align: right;\">0.0</td><td style = \"text-align: right;\">0.0</td><td style = \"text-align: right;\">0.0</td><td style = \"text-align: right;\">0.0</td><td style = \"text-align: right;\">0.0</td><td style = \"text-align: right;\">0.0</td><td style = \"text-align: right;\">0.0</td><td style = \"text-align: right;\">0.0</td></tr></tbody></table></div>"
      ],
      "text/latex": [
       "\\begin{tabular}{r|cccccccccc}\n",
       "\t& x1 & x2 & x3 & x4 & x5 & x6 & x7 & x8 & x9 & \\\\\n",
       "\t\\hline\n",
       "\t& Float64 & Float64 & Float64 & Float64 & Float64 & Float64 & Float64 & Float64 & Float64 & \\\\\n",
       "\t\\hline\n",
       "\t1 & 0.0 & 0.0 & 0.0 & 0.0 & 0.0 & 0.0 & 0.0 & 0.0 & 0.0 & $\\dots$ \\\\\n",
       "\t2 & 0.0 & 0.0 & 0.0 & 0.0 & 0.0 & 0.0 & 0.0 & 0.0 & 0.0 & $\\dots$ \\\\\n",
       "\t3 & 0.0 & 0.0 & 0.0 & 0.0 & 0.0 & 0.0 & 0.0 & 0.0 & 0.0 & $\\dots$ \\\\\n",
       "\t4 & 0.0 & 0.0 & 0.0 & 0.0 & 0.0 & 0.0 & 0.0 & 0.0 & 0.0 & $\\dots$ \\\\\n",
       "\t5 & 0.0 & 0.0 & 0.0 & 0.0 & 0.0 & 0.0 & 0.0 & 0.0 & 0.0 & $\\dots$ \\\\\n",
       "\t6 & 0.0 & 0.0 & 0.0 & 0.0 & 0.0 & 0.0 & 0.0 & 0.0 & 0.0 & $\\dots$ \\\\\n",
       "\t7 & 0.0 & 0.0 & 0.0 & 0.0 & 0.0 & 0.0 & 0.0 & 0.0 & 0.0 & $\\dots$ \\\\\n",
       "\t8 & 0.0 & 0.0 & 0.0 & 0.0 & 0.0 & 0.0 & 0.0 & 0.0 & 0.0 & $\\dots$ \\\\\n",
       "\t9 & 0.0 & 0.0 & 0.0 & 0.0 & 0.0 & 0.0 & 0.0 & 0.0 & 0.0 & $\\dots$ \\\\\n",
       "\t10 & 0.0 & 0.0 & 0.0 & 0.0 & 0.0 & 0.0 & 0.0 & 0.0 & 0.0 & $\\dots$ \\\\\n",
       "\t11 & 0.0 & 0.0 & 0.0 & 0.0 & 0.0 & 0.0 & 0.0 & 0.0 & 0.0 & $\\dots$ \\\\\n",
       "\t12 & 0.0 & 0.0 & 0.0 & 0.0 & 0.0 & 0.0 & 0.0 & 0.0 & 0.0 & $\\dots$ \\\\\n",
       "\t13 & 0.0 & 0.0 & 0.0 & 0.0 & 0.0 & 0.0 & 0.0 & 0.0 & 0.0 & $\\dots$ \\\\\n",
       "\t14 & 0.0 & 0.0 & 0.0 & 0.0 & 0.0 & 0.0 & 0.0 & 0.0 & 0.0 & $\\dots$ \\\\\n",
       "\t15 & 0.0 & 0.0 & 0.0 & 0.0 & 0.0 & 0.0 & 0.0 & 0.0 & 0.0 & $\\dots$ \\\\\n",
       "\t16 & 0.0 & 0.0 & 0.0 & 0.0 & 0.0 & 0.0 & 0.0 & 0.0 & 0.0 & $\\dots$ \\\\\n",
       "\t17 & 0.0 & 0.0 & 0.0 & 0.0 & 0.0 & 0.0 & 0.0 & 0.0 & 0.0 & $\\dots$ \\\\\n",
       "\t18 & -0.0 & 0.0 & 0.0 & 0.0 & 0.0 & 0.0 & -0.0 & -0.0 & -0.0 & $\\dots$ \\\\\n",
       "\t19 & 0.0 & 0.0 & 0.0 & 0.0 & 0.0 & 0.0 & 0.0 & 0.0 & 0.0 & $\\dots$ \\\\\n",
       "\t20 & 0.0 & 0.0 & 0.0 & 0.0 & 0.0 & 0.0 & 0.0 & 0.0 & 0.0 & $\\dots$ \\\\\n",
       "\t21 & 0.0 & 0.0 & 0.0 & 0.0 & 0.0 & 0.0 & 0.0 & 0.0 & 0.0 & $\\dots$ \\\\\n",
       "\t22 & 0.0 & 0.0 & 0.0 & -0.0 & 0.0 & -0.0 & -0.0 & -0.0 & 0.0 & $\\dots$ \\\\\n",
       "\t23 & 0.0 & 0.0 & 0.0 & 0.0 & 0.0 & 0.0 & 0.0 & 0.0 & 0.0 & $\\dots$ \\\\\n",
       "\t24 & 0.0 & 0.0 & 0.0 & 0.0 & 0.0 & 0.0 & 0.0 & 0.0 & 0.0 & $\\dots$ \\\\\n",
       "\t25 & 0.0 & 0.0 & 0.0 & 0.0 & 0.0 & 0.0 & 0.0 & 0.0 & 0.0 & $\\dots$ \\\\\n",
       "\t26 & 0.0 & 0.0 & 0.0 & 0.0 & 0.0 & 0.0 & 0.0 & 0.0 & 0.0 & $\\dots$ \\\\\n",
       "\t27 & 0.0 & 0.0 & 0.0 & 0.0 & 0.0 & 0.0 & 0.0 & 0.0 & 0.0 & $\\dots$ \\\\\n",
       "\t28 & 0.0 & 0.0 & 0.0 & 0.0 & 0.0 & 0.0 & 0.0 & 0.0 & 0.0 & $\\dots$ \\\\\n",
       "\t29 & 0.0 & 0.0 & 0.0 & 0.0 & 0.0 & 0.0 & 0.0 & 0.0 & 0.0 & $\\dots$ \\\\\n",
       "\t30 & 0.0 & 0.0 & 0.0 & 0.0 & 0.0 & 0.0 & 0.0 & 0.0 & 0.0 & $\\dots$ \\\\\n",
       "\t$\\dots$ & $\\dots$ & $\\dots$ & $\\dots$ & $\\dots$ & $\\dots$ & $\\dots$ & $\\dots$ & $\\dots$ & $\\dots$ &  \\\\\n",
       "\\end{tabular}\n"
      ],
      "text/plain": [
       "\u001b[1m33×29 DataFrame\n",
       "\u001b[1m Row │\u001b[1m x1      \u001b[1m x2      \u001b[1m x3      \u001b[1m x4      \u001b[1m x5      \u001b[1m x6      \u001b[1m x7      \u001b[1m x8      \u001b[1m ⋯\n",
       "     │\u001b[90m Float64 \u001b[90m Float64 \u001b[90m Float64 \u001b[90m Float64 \u001b[90m Float64 \u001b[90m Float64 \u001b[90m Float64 \u001b[90m Float64 \u001b[90m ⋯\n",
       "─────┼──────────────────────────────────────────────────────────────────────────\n",
       "   1 │     0.0      0.0      0.0      0.0      0.0      0.0      0.0      0.0  ⋯\n",
       "   2 │     0.0      0.0      0.0      0.0      0.0      0.0      0.0      0.0\n",
       "   3 │     0.0      0.0      0.0      0.0      0.0      0.0      0.0      0.0\n",
       "   4 │     0.0      0.0      0.0      0.0      0.0      0.0      0.0      0.0\n",
       "   5 │     0.0      0.0      0.0      0.0      0.0      0.0      0.0      0.0  ⋯\n",
       "   6 │     0.0      0.0      0.0      0.0      0.0      0.0      0.0      0.0\n",
       "   7 │     0.0      0.0      0.0      0.0      0.0      0.0      0.0      0.0\n",
       "   8 │     0.0      0.0      0.0      0.0      0.0      0.0      0.0      0.0\n",
       "   9 │     0.0      0.0      0.0      0.0      0.0      0.0      0.0      0.0  ⋯\n",
       "  10 │     0.0      0.0      0.0      0.0      0.0      0.0      0.0      0.0\n",
       "  11 │     0.0      0.0      0.0      0.0      0.0      0.0      0.0      0.0\n",
       "  ⋮  │    ⋮        ⋮        ⋮        ⋮        ⋮        ⋮        ⋮        ⋮     ⋱\n",
       "  24 │     0.0      0.0      0.0      0.0      0.0      0.0      0.0      0.0\n",
       "  25 │     0.0      0.0      0.0      0.0      0.0      0.0      0.0      0.0  ⋯\n",
       "  26 │     0.0      0.0      0.0      0.0      0.0      0.0      0.0      0.0\n",
       "  27 │     0.0      0.0      0.0      0.0      0.0      0.0      0.0      0.0\n",
       "  28 │     0.0      0.0      0.0      0.0      0.0      0.0      0.0      0.0\n",
       "  29 │     0.0      0.0      0.0      0.0      0.0      0.0      0.0      0.0  ⋯\n",
       "  30 │     0.0      0.0      0.0      0.0      0.0      0.0      0.0      0.0\n",
       "  31 │     0.0      0.0      0.0      0.0      0.0      0.0      0.0      0.0\n",
       "  32 │     0.0      0.0      0.0      0.0      0.0      0.0      0.0      0.0\n",
       "  33 │     0.0      0.0      0.0      0.0      0.0      0.0      0.0      0.0  ⋯\n",
       "\u001b[36m                                                  21 columns and 12 rows omitted"
      ]
     },
     "execution_count": 261,
     "metadata": {},
     "output_type": "execute_result"
    }
   ],
   "source": [
    "x_k1 = DataFrame(value.(x)[:,:,1], :auto)\n",
    "x_k2 = DataFrame(value.(x)[:,:,2], :auto)"
   ]
  },
  {
   "cell_type": "code",
   "execution_count": 263,
   "id": "4ee80796",
   "metadata": {},
   "outputs": [
    {
     "data": {
      "text/plain": [
       "7.0"
      ]
     },
     "execution_count": 263,
     "metadata": {},
     "output_type": "execute_result"
    }
   ],
   "source": [
    "sum(sum(x_k2[i,j] for j=1:h_end) for i=1:p_end)"
   ]
  },
  {
   "cell_type": "code",
   "execution_count": 264,
   "id": "227750d4",
   "metadata": {},
   "outputs": [
    {
     "data": {
      "text/html": [
       "<div><div style = \"float: left;\"><span>33×29 DataFrame</span></div><div style = \"float: right;\"><span style = \"font-style: italic;\">8 rows omitted</span></div><div style = \"clear: both;\"></div></div><div class = \"data-frame\" style = \"overflow-x: scroll;\"><table class = \"data-frame\" style = \"margin-bottom: 6px;\"><thead><tr class = \"header\"><th class = \"rowNumber\" style = \"font-weight: bold; text-align: right;\">Row</th><th style = \"text-align: left;\">x1</th><th style = \"text-align: left;\">x2</th><th style = \"text-align: left;\">x3</th><th style = \"text-align: left;\">x4</th><th style = \"text-align: left;\">x5</th><th style = \"text-align: left;\">x6</th><th style = \"text-align: left;\">x7</th><th style = \"text-align: left;\">x8</th><th style = \"text-align: left;\">x9</th><th style = \"text-align: left;\">x10</th><th style = \"text-align: left;\">x11</th><th style = \"text-align: left;\">x12</th><th style = \"text-align: left;\">x13</th><th style = \"text-align: left;\">x14</th><th style = \"text-align: left;\">x15</th><th style = \"text-align: left;\">x16</th><th style = \"text-align: left;\">x17</th><th style = \"text-align: left;\">x18</th><th style = \"text-align: left;\">x19</th><th style = \"text-align: left;\">x20</th><th style = \"text-align: left;\">x21</th><th style = \"text-align: left;\">x22</th><th style = \"text-align: left;\">x23</th><th style = \"text-align: left;\">x24</th><th style = \"text-align: left;\">x25</th><th style = \"text-align: left;\">x26</th><th style = \"text-align: left;\">x27</th><th style = \"text-align: left;\">x28</th><th style = \"text-align: left;\">x29</th></tr><tr class = \"subheader headerLastRow\"><th class = \"rowNumber\" style = \"font-weight: bold; text-align: right;\"></th><th title = \"Float64\" style = \"text-align: left;\">Float64</th><th title = \"Float64\" style = \"text-align: left;\">Float64</th><th title = \"Float64\" style = \"text-align: left;\">Float64</th><th title = \"Float64\" style = \"text-align: left;\">Float64</th><th title = \"Float64\" style = \"text-align: left;\">Float64</th><th title = \"Float64\" style = \"text-align: left;\">Float64</th><th title = \"Float64\" style = \"text-align: left;\">Float64</th><th title = \"Float64\" style = \"text-align: left;\">Float64</th><th title = \"Float64\" style = \"text-align: left;\">Float64</th><th title = \"Float64\" style = \"text-align: left;\">Float64</th><th title = \"Float64\" style = \"text-align: left;\">Float64</th><th title = \"Float64\" style = \"text-align: left;\">Float64</th><th title = \"Float64\" style = \"text-align: left;\">Float64</th><th title = \"Float64\" style = \"text-align: left;\">Float64</th><th title = \"Float64\" style = \"text-align: left;\">Float64</th><th title = \"Float64\" style = \"text-align: left;\">Float64</th><th title = \"Float64\" style = \"text-align: left;\">Float64</th><th title = \"Float64\" style = \"text-align: left;\">Float64</th><th title = \"Float64\" style = \"text-align: left;\">Float64</th><th title = \"Float64\" style = \"text-align: left;\">Float64</th><th title = \"Float64\" style = \"text-align: left;\">Float64</th><th title = \"Float64\" style = \"text-align: left;\">Float64</th><th title = \"Float64\" style = \"text-align: left;\">Float64</th><th title = \"Float64\" style = \"text-align: left;\">Float64</th><th title = \"Float64\" style = \"text-align: left;\">Float64</th><th title = \"Float64\" style = \"text-align: left;\">Float64</th><th title = \"Float64\" style = \"text-align: left;\">Float64</th><th title = \"Float64\" style = \"text-align: left;\">Float64</th><th title = \"Float64\" style = \"text-align: left;\">Float64</th></tr></thead><tbody><tr><td class = \"rowNumber\" style = \"font-weight: bold; text-align: right;\">1</td><td style = \"text-align: right;\">0.0</td><td style = \"text-align: right;\">0.0</td><td style = \"text-align: right;\">0.0</td><td style = \"text-align: right;\">0.0</td><td style = \"text-align: right;\">0.0</td><td style = \"text-align: right;\">0.0</td><td style = \"text-align: right;\">0.0</td><td style = \"text-align: right;\">0.0</td><td style = \"text-align: right;\">0.0</td><td style = \"text-align: right;\">0.0</td><td style = \"text-align: right;\">0.0</td><td style = \"text-align: right;\">0.0</td><td style = \"text-align: right;\">0.0</td><td style = \"text-align: right;\">0.0</td><td style = \"text-align: right;\">0.0</td><td style = \"text-align: right;\">0.0</td><td style = \"text-align: right;\">0.0</td><td style = \"text-align: right;\">0.0</td><td style = \"text-align: right;\">0.0</td><td style = \"text-align: right;\">0.0</td><td style = \"text-align: right;\">0.0</td><td style = \"text-align: right;\">0.0</td><td style = \"text-align: right;\">0.0</td><td style = \"text-align: right;\">0.0</td><td style = \"text-align: right;\">0.0</td><td style = \"text-align: right;\">0.0</td><td style = \"text-align: right;\">0.0</td><td style = \"text-align: right;\">0.0</td><td style = \"text-align: right;\">0.0</td></tr><tr><td class = \"rowNumber\" style = \"font-weight: bold; text-align: right;\">2</td><td style = \"text-align: right;\">0.0</td><td style = \"text-align: right;\">0.0</td><td style = \"text-align: right;\">0.0</td><td style = \"text-align: right;\">0.0</td><td style = \"text-align: right;\">0.0</td><td style = \"text-align: right;\">0.0</td><td style = \"text-align: right;\">0.0</td><td style = \"text-align: right;\">0.0</td><td style = \"text-align: right;\">0.0</td><td style = \"text-align: right;\">0.0</td><td style = \"text-align: right;\">0.0</td><td style = \"text-align: right;\">0.0</td><td style = \"text-align: right;\">0.0</td><td style = \"text-align: right;\">0.0</td><td style = \"text-align: right;\">0.0</td><td style = \"text-align: right;\">0.0</td><td style = \"text-align: right;\">0.0</td><td style = \"text-align: right;\">0.0</td><td style = \"text-align: right;\">0.0</td><td style = \"text-align: right;\">0.0</td><td style = \"text-align: right;\">0.0</td><td style = \"text-align: right;\">0.0</td><td style = \"text-align: right;\">0.0</td><td style = \"text-align: right;\">0.0</td><td style = \"text-align: right;\">0.0</td><td style = \"text-align: right;\">0.0</td><td style = \"text-align: right;\">0.0</td><td style = \"text-align: right;\">0.0</td><td style = \"text-align: right;\">0.0</td></tr><tr><td class = \"rowNumber\" style = \"font-weight: bold; text-align: right;\">3</td><td style = \"text-align: right;\">0.0</td><td style = \"text-align: right;\">0.0</td><td style = \"text-align: right;\">0.0</td><td style = \"text-align: right;\">0.0</td><td style = \"text-align: right;\">0.0</td><td style = \"text-align: right;\">0.0</td><td style = \"text-align: right;\">0.0</td><td style = \"text-align: right;\">0.0</td><td style = \"text-align: right;\">0.0</td><td style = \"text-align: right;\">0.0</td><td style = \"text-align: right;\">0.0</td><td style = \"text-align: right;\">0.0</td><td style = \"text-align: right;\">0.0</td><td style = \"text-align: right;\">0.0</td><td style = \"text-align: right;\">0.0</td><td style = \"text-align: right;\">0.0</td><td style = \"text-align: right;\">0.0</td><td style = \"text-align: right;\">0.0</td><td style = \"text-align: right;\">0.0</td><td style = \"text-align: right;\">0.0</td><td style = \"text-align: right;\">0.0</td><td style = \"text-align: right;\">0.0</td><td style = \"text-align: right;\">0.0</td><td style = \"text-align: right;\">0.0</td><td style = \"text-align: right;\">0.0</td><td style = \"text-align: right;\">0.0</td><td style = \"text-align: right;\">0.0</td><td style = \"text-align: right;\">0.0</td><td style = \"text-align: right;\">0.0</td></tr><tr><td class = \"rowNumber\" style = \"font-weight: bold; text-align: right;\">4</td><td style = \"text-align: right;\">0.0</td><td style = \"text-align: right;\">0.0</td><td style = \"text-align: right;\">0.0</td><td style = \"text-align: right;\">0.0</td><td style = \"text-align: right;\">0.0</td><td style = \"text-align: right;\">0.0</td><td style = \"text-align: right;\">0.0</td><td style = \"text-align: right;\">0.0</td><td style = \"text-align: right;\">0.0</td><td style = \"text-align: right;\">0.0</td><td style = \"text-align: right;\">0.0</td><td style = \"text-align: right;\">0.0</td><td style = \"text-align: right;\">0.0</td><td style = \"text-align: right;\">0.0</td><td style = \"text-align: right;\">0.0</td><td style = \"text-align: right;\">0.0</td><td style = \"text-align: right;\">0.0</td><td style = \"text-align: right;\">0.0</td><td style = \"text-align: right;\">0.0</td><td style = \"text-align: right;\">0.0</td><td style = \"text-align: right;\">0.0</td><td style = \"text-align: right;\">0.0</td><td style = \"text-align: right;\">0.0</td><td style = \"text-align: right;\">0.0</td><td style = \"text-align: right;\">0.0</td><td style = \"text-align: right;\">0.0</td><td style = \"text-align: right;\">0.0</td><td style = \"text-align: right;\">0.0</td><td style = \"text-align: right;\">0.0</td></tr><tr><td class = \"rowNumber\" style = \"font-weight: bold; text-align: right;\">5</td><td style = \"text-align: right;\">0.0</td><td style = \"text-align: right;\">0.0</td><td style = \"text-align: right;\">0.0</td><td style = \"text-align: right;\">0.0</td><td style = \"text-align: right;\">0.0</td><td style = \"text-align: right;\">0.0</td><td style = \"text-align: right;\">0.0</td><td style = \"text-align: right;\">0.0</td><td style = \"text-align: right;\">0.0</td><td style = \"text-align: right;\">0.0</td><td style = \"text-align: right;\">0.0</td><td style = \"text-align: right;\">0.0</td><td style = \"text-align: right;\">0.0</td><td style = \"text-align: right;\">0.0</td><td style = \"text-align: right;\">0.0</td><td style = \"text-align: right;\">0.0</td><td style = \"text-align: right;\">0.0</td><td style = \"text-align: right;\">0.0</td><td style = \"text-align: right;\">0.0</td><td style = \"text-align: right;\">0.0</td><td style = \"text-align: right;\">0.0</td><td style = \"text-align: right;\">0.0</td><td style = \"text-align: right;\">0.0</td><td style = \"text-align: right;\">0.0</td><td style = \"text-align: right;\">0.0</td><td style = \"text-align: right;\">0.0</td><td style = \"text-align: right;\">0.0</td><td style = \"text-align: right;\">0.0</td><td style = \"text-align: right;\">0.0</td></tr><tr><td class = \"rowNumber\" style = \"font-weight: bold; text-align: right;\">6</td><td style = \"text-align: right;\">0.0</td><td style = \"text-align: right;\">0.0</td><td style = \"text-align: right;\">0.0</td><td style = \"text-align: right;\">0.0</td><td style = \"text-align: right;\">0.0</td><td style = \"text-align: right;\">0.0</td><td style = \"text-align: right;\">0.0</td><td style = \"text-align: right;\">0.0</td><td style = \"text-align: right;\">0.0</td><td style = \"text-align: right;\">0.0</td><td style = \"text-align: right;\">0.0</td><td style = \"text-align: right;\">0.0</td><td style = \"text-align: right;\">0.0</td><td style = \"text-align: right;\">0.0</td><td style = \"text-align: right;\">0.0</td><td style = \"text-align: right;\">0.0</td><td style = \"text-align: right;\">0.0</td><td style = \"text-align: right;\">0.0</td><td style = \"text-align: right;\">0.0</td><td style = \"text-align: right;\">0.0</td><td style = \"text-align: right;\">0.0</td><td style = \"text-align: right;\">0.0</td><td style = \"text-align: right;\">0.0</td><td style = \"text-align: right;\">0.0</td><td style = \"text-align: right;\">0.0</td><td style = \"text-align: right;\">0.0</td><td style = \"text-align: right;\">0.0</td><td style = \"text-align: right;\">0.0</td><td style = \"text-align: right;\">0.0</td></tr><tr><td class = \"rowNumber\" style = \"font-weight: bold; text-align: right;\">7</td><td style = \"text-align: right;\">0.0</td><td style = \"text-align: right;\">0.0</td><td style = \"text-align: right;\">0.0</td><td style = \"text-align: right;\">0.0</td><td style = \"text-align: right;\">0.0</td><td style = \"text-align: right;\">0.0</td><td style = \"text-align: right;\">0.0</td><td style = \"text-align: right;\">0.0</td><td style = \"text-align: right;\">0.0</td><td style = \"text-align: right;\">0.0</td><td style = \"text-align: right;\">0.0</td><td style = \"text-align: right;\">0.0</td><td style = \"text-align: right;\">0.0</td><td style = \"text-align: right;\">0.0</td><td style = \"text-align: right;\">0.0</td><td style = \"text-align: right;\">0.0</td><td style = \"text-align: right;\">0.0</td><td style = \"text-align: right;\">0.0</td><td style = \"text-align: right;\">0.0</td><td style = \"text-align: right;\">0.0</td><td style = \"text-align: right;\">0.0</td><td style = \"text-align: right;\">0.0</td><td style = \"text-align: right;\">0.0</td><td style = \"text-align: right;\">0.0</td><td style = \"text-align: right;\">0.0</td><td style = \"text-align: right;\">0.0</td><td style = \"text-align: right;\">0.0</td><td style = \"text-align: right;\">0.0</td><td style = \"text-align: right;\">0.0</td></tr><tr><td class = \"rowNumber\" style = \"font-weight: bold; text-align: right;\">8</td><td style = \"text-align: right;\">0.0</td><td style = \"text-align: right;\">0.0</td><td style = \"text-align: right;\">0.0</td><td style = \"text-align: right;\">0.0</td><td style = \"text-align: right;\">0.0</td><td style = \"text-align: right;\">0.0</td><td style = \"text-align: right;\">0.0</td><td style = \"text-align: right;\">0.0</td><td style = \"text-align: right;\">0.0</td><td style = \"text-align: right;\">0.0</td><td style = \"text-align: right;\">0.0</td><td style = \"text-align: right;\">0.0</td><td style = \"text-align: right;\">0.0</td><td style = \"text-align: right;\">0.0</td><td style = \"text-align: right;\">0.0</td><td style = \"text-align: right;\">0.0</td><td style = \"text-align: right;\">0.0</td><td style = \"text-align: right;\">0.0</td><td style = \"text-align: right;\">0.0</td><td style = \"text-align: right;\">0.0</td><td style = \"text-align: right;\">0.0</td><td style = \"text-align: right;\">0.0</td><td style = \"text-align: right;\">0.0</td><td style = \"text-align: right;\">0.0</td><td style = \"text-align: right;\">0.0</td><td style = \"text-align: right;\">0.0</td><td style = \"text-align: right;\">0.0</td><td style = \"text-align: right;\">0.0</td><td style = \"text-align: right;\">0.0</td></tr><tr><td class = \"rowNumber\" style = \"font-weight: bold; text-align: right;\">9</td><td style = \"text-align: right;\">0.0</td><td style = \"text-align: right;\">0.0</td><td style = \"text-align: right;\">0.0</td><td style = \"text-align: right;\">0.0</td><td style = \"text-align: right;\">0.0</td><td style = \"text-align: right;\">0.0</td><td style = \"text-align: right;\">0.0</td><td style = \"text-align: right;\">0.0</td><td style = \"text-align: right;\">0.0</td><td style = \"text-align: right;\">0.0</td><td style = \"text-align: right;\">0.0</td><td style = \"text-align: right;\">0.0</td><td style = \"text-align: right;\">0.0</td><td style = \"text-align: right;\">0.0</td><td style = \"text-align: right;\">0.0</td><td style = \"text-align: right;\">0.0</td><td style = \"text-align: right;\">0.0</td><td style = \"text-align: right;\">0.0</td><td style = \"text-align: right;\">0.0</td><td style = \"text-align: right;\">0.0</td><td style = \"text-align: right;\">0.0</td><td style = \"text-align: right;\">0.0</td><td style = \"text-align: right;\">0.0</td><td style = \"text-align: right;\">0.0</td><td style = \"text-align: right;\">0.0</td><td style = \"text-align: right;\">0.0</td><td style = \"text-align: right;\">0.0</td><td style = \"text-align: right;\">0.0</td><td style = \"text-align: right;\">0.0</td></tr><tr><td class = \"rowNumber\" style = \"font-weight: bold; text-align: right;\">10</td><td style = \"text-align: right;\">0.0</td><td style = \"text-align: right;\">0.0</td><td style = \"text-align: right;\">0.0</td><td style = \"text-align: right;\">0.0</td><td style = \"text-align: right;\">0.0</td><td style = \"text-align: right;\">0.0</td><td style = \"text-align: right;\">0.0</td><td style = \"text-align: right;\">0.0</td><td style = \"text-align: right;\">0.0</td><td style = \"text-align: right;\">0.0</td><td style = \"text-align: right;\">0.0</td><td style = \"text-align: right;\">0.0</td><td style = \"text-align: right;\">0.0</td><td style = \"text-align: right;\">0.0</td><td style = \"text-align: right;\">0.0</td><td style = \"text-align: right;\">0.0</td><td style = \"text-align: right;\">0.0</td><td style = \"text-align: right;\">0.0</td><td style = \"text-align: right;\">0.0</td><td style = \"text-align: right;\">0.0</td><td style = \"text-align: right;\">0.0</td><td style = \"text-align: right;\">0.0</td><td style = \"text-align: right;\">0.0</td><td style = \"text-align: right;\">0.0</td><td style = \"text-align: right;\">0.0</td><td style = \"text-align: right;\">0.0</td><td style = \"text-align: right;\">0.0</td><td style = \"text-align: right;\">0.0</td><td style = \"text-align: right;\">0.0</td></tr><tr><td class = \"rowNumber\" style = \"font-weight: bold; text-align: right;\">11</td><td style = \"text-align: right;\">0.0</td><td style = \"text-align: right;\">0.0</td><td style = \"text-align: right;\">0.0</td><td style = \"text-align: right;\">0.0</td><td style = \"text-align: right;\">0.0</td><td style = \"text-align: right;\">0.0</td><td style = \"text-align: right;\">0.0</td><td style = \"text-align: right;\">0.0</td><td style = \"text-align: right;\">0.0</td><td style = \"text-align: right;\">0.0</td><td style = \"text-align: right;\">0.0</td><td style = \"text-align: right;\">0.0</td><td style = \"text-align: right;\">0.0</td><td style = \"text-align: right;\">1.0</td><td style = \"text-align: right;\">0.0</td><td style = \"text-align: right;\">0.0</td><td style = \"text-align: right;\">0.0</td><td style = \"text-align: right;\">0.0</td><td style = \"text-align: right;\">0.0</td><td style = \"text-align: right;\">-0.0</td><td style = \"text-align: right;\">0.0</td><td style = \"text-align: right;\">0.0</td><td style = \"text-align: right;\">0.0</td><td style = \"text-align: right;\">0.0</td><td style = \"text-align: right;\">0.0</td><td style = \"text-align: right;\">0.0</td><td style = \"text-align: right;\">0.0</td><td style = \"text-align: right;\">-0.0</td><td style = \"text-align: right;\">-0.0</td></tr><tr><td class = \"rowNumber\" style = \"font-weight: bold; text-align: right;\">12</td><td style = \"text-align: right;\">0.0</td><td style = \"text-align: right;\">0.0</td><td style = \"text-align: right;\">0.0</td><td style = \"text-align: right;\">0.0</td><td style = \"text-align: right;\">0.0</td><td style = \"text-align: right;\">0.0</td><td style = \"text-align: right;\">0.0</td><td style = \"text-align: right;\">0.0</td><td style = \"text-align: right;\">0.0</td><td style = \"text-align: right;\">0.0</td><td style = \"text-align: right;\">0.0</td><td style = \"text-align: right;\">0.0</td><td style = \"text-align: right;\">0.0</td><td style = \"text-align: right;\">0.0</td><td style = \"text-align: right;\">0.0</td><td style = \"text-align: right;\">0.0</td><td style = \"text-align: right;\">0.0</td><td style = \"text-align: right;\">0.0</td><td style = \"text-align: right;\">0.0</td><td style = \"text-align: right;\">0.0</td><td style = \"text-align: right;\">0.0</td><td style = \"text-align: right;\">0.0</td><td style = \"text-align: right;\">0.0</td><td style = \"text-align: right;\">0.0</td><td style = \"text-align: right;\">0.0</td><td style = \"text-align: right;\">0.0</td><td style = \"text-align: right;\">0.0</td><td style = \"text-align: right;\">0.0</td><td style = \"text-align: right;\">0.0</td></tr><tr><td class = \"rowNumber\" style = \"font-weight: bold; text-align: right;\">13</td><td style = \"text-align: right;\">0.0</td><td style = \"text-align: right;\">0.0</td><td style = \"text-align: right;\">0.0</td><td style = \"text-align: right;\">0.0</td><td style = \"text-align: right;\">0.0</td><td style = \"text-align: right;\">0.0</td><td style = \"text-align: right;\">0.0</td><td style = \"text-align: right;\">0.0</td><td style = \"text-align: right;\">0.0</td><td style = \"text-align: right;\">0.0</td><td style = \"text-align: right;\">0.0</td><td style = \"text-align: right;\">0.0</td><td style = \"text-align: right;\">0.0</td><td style = \"text-align: right;\">0.0</td><td style = \"text-align: right;\">0.0</td><td style = \"text-align: right;\">0.0</td><td style = \"text-align: right;\">0.0</td><td style = \"text-align: right;\">0.0</td><td style = \"text-align: right;\">0.0</td><td style = \"text-align: right;\">0.0</td><td style = \"text-align: right;\">0.0</td><td style = \"text-align: right;\">0.0</td><td style = \"text-align: right;\">0.0</td><td style = \"text-align: right;\">0.0</td><td style = \"text-align: right;\">0.0</td><td style = \"text-align: right;\">0.0</td><td style = \"text-align: right;\">0.0</td><td style = \"text-align: right;\">0.0</td><td style = \"text-align: right;\">0.0</td></tr><tr><td style = \"text-align: right;\">&vellip;</td><td style = \"text-align: right;\">&vellip;</td><td style = \"text-align: right;\">&vellip;</td><td style = \"text-align: right;\">&vellip;</td><td style = \"text-align: right;\">&vellip;</td><td style = \"text-align: right;\">&vellip;</td><td style = \"text-align: right;\">&vellip;</td><td style = \"text-align: right;\">&vellip;</td><td style = \"text-align: right;\">&vellip;</td><td style = \"text-align: right;\">&vellip;</td><td style = \"text-align: right;\">&vellip;</td><td style = \"text-align: right;\">&vellip;</td><td style = \"text-align: right;\">&vellip;</td><td style = \"text-align: right;\">&vellip;</td><td style = \"text-align: right;\">&vellip;</td><td style = \"text-align: right;\">&vellip;</td><td style = \"text-align: right;\">&vellip;</td><td style = \"text-align: right;\">&vellip;</td><td style = \"text-align: right;\">&vellip;</td><td style = \"text-align: right;\">&vellip;</td><td style = \"text-align: right;\">&vellip;</td><td style = \"text-align: right;\">&vellip;</td><td style = \"text-align: right;\">&vellip;</td><td style = \"text-align: right;\">&vellip;</td><td style = \"text-align: right;\">&vellip;</td><td style = \"text-align: right;\">&vellip;</td><td style = \"text-align: right;\">&vellip;</td><td style = \"text-align: right;\">&vellip;</td><td style = \"text-align: right;\">&vellip;</td><td style = \"text-align: right;\">&vellip;</td></tr><tr><td class = \"rowNumber\" style = \"font-weight: bold; text-align: right;\">22</td><td style = \"text-align: right;\">0.0</td><td style = \"text-align: right;\">0.0</td><td style = \"text-align: right;\">0.0</td><td style = \"text-align: right;\">-0.0</td><td style = \"text-align: right;\">0.0</td><td style = \"text-align: right;\">-0.0</td><td style = \"text-align: right;\">-0.0</td><td style = \"text-align: right;\">-0.0</td><td style = \"text-align: right;\">0.0</td><td style = \"text-align: right;\">0.0</td><td style = \"text-align: right;\">0.0</td><td style = \"text-align: right;\">0.0</td><td style = \"text-align: right;\">0.0</td><td style = \"text-align: right;\">0.0</td><td style = \"text-align: right;\">1.0</td><td style = \"text-align: right;\">0.0</td><td style = \"text-align: right;\">0.0</td><td style = \"text-align: right;\">0.0</td><td style = \"text-align: right;\">0.0</td><td style = \"text-align: right;\">0.0</td><td style = \"text-align: right;\">0.0</td><td style = \"text-align: right;\">0.0</td><td style = \"text-align: right;\">0.0</td><td style = \"text-align: right;\">-0.0</td><td style = \"text-align: right;\">-0.0</td><td style = \"text-align: right;\">-0.0</td><td style = \"text-align: right;\">0.0</td><td style = \"text-align: right;\">0.0</td><td style = \"text-align: right;\">0.0</td></tr><tr><td class = \"rowNumber\" style = \"font-weight: bold; text-align: right;\">23</td><td style = \"text-align: right;\">0.0</td><td style = \"text-align: right;\">0.0</td><td style = \"text-align: right;\">0.0</td><td style = \"text-align: right;\">0.0</td><td style = \"text-align: right;\">0.0</td><td style = \"text-align: right;\">0.0</td><td style = \"text-align: right;\">0.0</td><td style = \"text-align: right;\">0.0</td><td style = \"text-align: right;\">0.0</td><td style = \"text-align: right;\">0.0</td><td style = \"text-align: right;\">0.0</td><td style = \"text-align: right;\">0.0</td><td style = \"text-align: right;\">0.0</td><td style = \"text-align: right;\">0.0</td><td style = \"text-align: right;\">0.0</td><td style = \"text-align: right;\">0.0</td><td style = \"text-align: right;\">0.0</td><td style = \"text-align: right;\">0.0</td><td style = \"text-align: right;\">0.0</td><td style = \"text-align: right;\">0.0</td><td style = \"text-align: right;\">0.0</td><td style = \"text-align: right;\">0.0</td><td style = \"text-align: right;\">0.0</td><td style = \"text-align: right;\">0.0</td><td style = \"text-align: right;\">0.0</td><td style = \"text-align: right;\">0.0</td><td style = \"text-align: right;\">0.0</td><td style = \"text-align: right;\">0.0</td><td style = \"text-align: right;\">0.0</td></tr><tr><td class = \"rowNumber\" style = \"font-weight: bold; text-align: right;\">24</td><td style = \"text-align: right;\">0.0</td><td style = \"text-align: right;\">0.0</td><td style = \"text-align: right;\">0.0</td><td style = \"text-align: right;\">0.0</td><td style = \"text-align: right;\">0.0</td><td style = \"text-align: right;\">0.0</td><td style = \"text-align: right;\">0.0</td><td style = \"text-align: right;\">0.0</td><td style = \"text-align: right;\">0.0</td><td style = \"text-align: right;\">0.0</td><td style = \"text-align: right;\">0.0</td><td style = \"text-align: right;\">0.0</td><td style = \"text-align: right;\">0.0</td><td style = \"text-align: right;\">0.0</td><td style = \"text-align: right;\">0.0</td><td style = \"text-align: right;\">0.0</td><td style = \"text-align: right;\">0.0</td><td style = \"text-align: right;\">0.0</td><td style = \"text-align: right;\">0.0</td><td style = \"text-align: right;\">0.0</td><td style = \"text-align: right;\">0.0</td><td style = \"text-align: right;\">0.0</td><td style = \"text-align: right;\">0.0</td><td style = \"text-align: right;\">0.0</td><td style = \"text-align: right;\">0.0</td><td style = \"text-align: right;\">0.0</td><td style = \"text-align: right;\">0.0</td><td style = \"text-align: right;\">0.0</td><td style = \"text-align: right;\">0.0</td></tr><tr><td class = \"rowNumber\" style = \"font-weight: bold; text-align: right;\">25</td><td style = \"text-align: right;\">0.0</td><td style = \"text-align: right;\">0.0</td><td style = \"text-align: right;\">0.0</td><td style = \"text-align: right;\">0.0</td><td style = \"text-align: right;\">0.0</td><td style = \"text-align: right;\">0.0</td><td style = \"text-align: right;\">0.0</td><td style = \"text-align: right;\">0.0</td><td style = \"text-align: right;\">0.0</td><td style = \"text-align: right;\">0.0</td><td style = \"text-align: right;\">0.0</td><td style = \"text-align: right;\">0.0</td><td style = \"text-align: right;\">0.0</td><td style = \"text-align: right;\">0.0</td><td style = \"text-align: right;\">0.0</td><td style = \"text-align: right;\">0.0</td><td style = \"text-align: right;\">0.0</td><td style = \"text-align: right;\">0.0</td><td style = \"text-align: right;\">0.0</td><td style = \"text-align: right;\">0.0</td><td style = \"text-align: right;\">0.0</td><td style = \"text-align: right;\">0.0</td><td style = \"text-align: right;\">0.0</td><td style = \"text-align: right;\">0.0</td><td style = \"text-align: right;\">0.0</td><td style = \"text-align: right;\">0.0</td><td style = \"text-align: right;\">0.0</td><td style = \"text-align: right;\">0.0</td><td style = \"text-align: right;\">0.0</td></tr><tr><td class = \"rowNumber\" style = \"font-weight: bold; text-align: right;\">26</td><td style = \"text-align: right;\">0.0</td><td style = \"text-align: right;\">0.0</td><td style = \"text-align: right;\">0.0</td><td style = \"text-align: right;\">0.0</td><td style = \"text-align: right;\">0.0</td><td style = \"text-align: right;\">0.0</td><td style = \"text-align: right;\">0.0</td><td style = \"text-align: right;\">0.0</td><td style = \"text-align: right;\">0.0</td><td style = \"text-align: right;\">0.0</td><td style = \"text-align: right;\">0.0</td><td style = \"text-align: right;\">0.0</td><td style = \"text-align: right;\">0.0</td><td style = \"text-align: right;\">0.0</td><td style = \"text-align: right;\">0.0</td><td style = \"text-align: right;\">0.0</td><td style = \"text-align: right;\">0.0</td><td style = \"text-align: right;\">0.0</td><td style = \"text-align: right;\">0.0</td><td style = \"text-align: right;\">0.0</td><td style = \"text-align: right;\">0.0</td><td style = \"text-align: right;\">0.0</td><td style = \"text-align: right;\">0.0</td><td style = \"text-align: right;\">0.0</td><td style = \"text-align: right;\">0.0</td><td style = \"text-align: right;\">0.0</td><td style = \"text-align: right;\">0.0</td><td style = \"text-align: right;\">0.0</td><td style = \"text-align: right;\">0.0</td></tr><tr><td class = \"rowNumber\" style = \"font-weight: bold; text-align: right;\">27</td><td style = \"text-align: right;\">0.0</td><td style = \"text-align: right;\">0.0</td><td style = \"text-align: right;\">0.0</td><td style = \"text-align: right;\">0.0</td><td style = \"text-align: right;\">0.0</td><td style = \"text-align: right;\">0.0</td><td style = \"text-align: right;\">0.0</td><td style = \"text-align: right;\">0.0</td><td style = \"text-align: right;\">0.0</td><td style = \"text-align: right;\">0.0</td><td style = \"text-align: right;\">0.0</td><td style = \"text-align: right;\">0.0</td><td style = \"text-align: right;\">0.0</td><td style = \"text-align: right;\">0.0</td><td style = \"text-align: right;\">0.0</td><td style = \"text-align: right;\">0.0</td><td style = \"text-align: right;\">0.0</td><td style = \"text-align: right;\">0.0</td><td style = \"text-align: right;\">0.0</td><td style = \"text-align: right;\">0.0</td><td style = \"text-align: right;\">0.0</td><td style = \"text-align: right;\">0.0</td><td style = \"text-align: right;\">0.0</td><td style = \"text-align: right;\">0.0</td><td style = \"text-align: right;\">0.0</td><td style = \"text-align: right;\">0.0</td><td style = \"text-align: right;\">0.0</td><td style = \"text-align: right;\">0.0</td><td style = \"text-align: right;\">0.0</td></tr><tr><td class = \"rowNumber\" style = \"font-weight: bold; text-align: right;\">28</td><td style = \"text-align: right;\">0.0</td><td style = \"text-align: right;\">0.0</td><td style = \"text-align: right;\">0.0</td><td style = \"text-align: right;\">0.0</td><td style = \"text-align: right;\">0.0</td><td style = \"text-align: right;\">0.0</td><td style = \"text-align: right;\">0.0</td><td style = \"text-align: right;\">0.0</td><td style = \"text-align: right;\">0.0</td><td style = \"text-align: right;\">0.0</td><td style = \"text-align: right;\">0.0</td><td style = \"text-align: right;\">0.0</td><td style = \"text-align: right;\">0.0</td><td style = \"text-align: right;\">0.0</td><td style = \"text-align: right;\">0.0</td><td style = \"text-align: right;\">0.0</td><td style = \"text-align: right;\">0.0</td><td style = \"text-align: right;\">0.0</td><td style = \"text-align: right;\">0.0</td><td style = \"text-align: right;\">0.0</td><td style = \"text-align: right;\">0.0</td><td style = \"text-align: right;\">0.0</td><td style = \"text-align: right;\">0.0</td><td style = \"text-align: right;\">0.0</td><td style = \"text-align: right;\">0.0</td><td style = \"text-align: right;\">0.0</td><td style = \"text-align: right;\">0.0</td><td style = \"text-align: right;\">0.0</td><td style = \"text-align: right;\">0.0</td></tr><tr><td class = \"rowNumber\" style = \"font-weight: bold; text-align: right;\">29</td><td style = \"text-align: right;\">0.0</td><td style = \"text-align: right;\">0.0</td><td style = \"text-align: right;\">0.0</td><td style = \"text-align: right;\">0.0</td><td style = \"text-align: right;\">0.0</td><td style = \"text-align: right;\">0.0</td><td style = \"text-align: right;\">0.0</td><td style = \"text-align: right;\">0.0</td><td style = \"text-align: right;\">0.0</td><td style = \"text-align: right;\">0.0</td><td style = \"text-align: right;\">0.0</td><td style = \"text-align: right;\">0.0</td><td style = \"text-align: right;\">0.0</td><td style = \"text-align: right;\">0.0</td><td style = \"text-align: right;\">0.0</td><td style = \"text-align: right;\">0.0</td><td style = \"text-align: right;\">0.0</td><td style = \"text-align: right;\">0.0</td><td style = \"text-align: right;\">0.0</td><td style = \"text-align: right;\">0.0</td><td style = \"text-align: right;\">0.0</td><td style = \"text-align: right;\">0.0</td><td style = \"text-align: right;\">0.0</td><td style = \"text-align: right;\">0.0</td><td style = \"text-align: right;\">0.0</td><td style = \"text-align: right;\">0.0</td><td style = \"text-align: right;\">0.0</td><td style = \"text-align: right;\">0.0</td><td style = \"text-align: right;\">0.0</td></tr><tr><td class = \"rowNumber\" style = \"font-weight: bold; text-align: right;\">30</td><td style = \"text-align: right;\">0.0</td><td style = \"text-align: right;\">0.0</td><td style = \"text-align: right;\">0.0</td><td style = \"text-align: right;\">0.0</td><td style = \"text-align: right;\">0.0</td><td style = \"text-align: right;\">0.0</td><td style = \"text-align: right;\">0.0</td><td style = \"text-align: right;\">0.0</td><td style = \"text-align: right;\">0.0</td><td style = \"text-align: right;\">0.0</td><td style = \"text-align: right;\">0.0</td><td style = \"text-align: right;\">0.0</td><td style = \"text-align: right;\">0.0</td><td style = \"text-align: right;\">0.0</td><td style = \"text-align: right;\">0.0</td><td style = \"text-align: right;\">0.0</td><td style = \"text-align: right;\">0.0</td><td style = \"text-align: right;\">0.0</td><td style = \"text-align: right;\">0.0</td><td style = \"text-align: right;\">0.0</td><td style = \"text-align: right;\">0.0</td><td style = \"text-align: right;\">1.0</td><td style = \"text-align: right;\">0.0</td><td style = \"text-align: right;\">0.0</td><td style = \"text-align: right;\">0.0</td><td style = \"text-align: right;\">0.0</td><td style = \"text-align: right;\">0.0</td><td style = \"text-align: right;\">0.0</td><td style = \"text-align: right;\">0.0</td></tr><tr><td class = \"rowNumber\" style = \"font-weight: bold; text-align: right;\">31</td><td style = \"text-align: right;\">0.0</td><td style = \"text-align: right;\">0.0</td><td style = \"text-align: right;\">0.0</td><td style = \"text-align: right;\">0.0</td><td style = \"text-align: right;\">0.0</td><td style = \"text-align: right;\">0.0</td><td style = \"text-align: right;\">0.0</td><td style = \"text-align: right;\">0.0</td><td style = \"text-align: right;\">0.0</td><td style = \"text-align: right;\">0.0</td><td style = \"text-align: right;\">0.0</td><td style = \"text-align: right;\">0.0</td><td style = \"text-align: right;\">0.0</td><td style = \"text-align: right;\">0.0</td><td style = \"text-align: right;\">0.0</td><td style = \"text-align: right;\">0.0</td><td style = \"text-align: right;\">0.0</td><td style = \"text-align: right;\">0.0</td><td style = \"text-align: right;\">0.0</td><td style = \"text-align: right;\">0.0</td><td style = \"text-align: right;\">0.0</td><td style = \"text-align: right;\">1.0</td><td style = \"text-align: right;\">0.0</td><td style = \"text-align: right;\">0.0</td><td style = \"text-align: right;\">0.0</td><td style = \"text-align: right;\">0.0</td><td style = \"text-align: right;\">0.0</td><td style = \"text-align: right;\">0.0</td><td style = \"text-align: right;\">0.0</td></tr><tr><td class = \"rowNumber\" style = \"font-weight: bold; text-align: right;\">32</td><td style = \"text-align: right;\">0.0</td><td style = \"text-align: right;\">0.0</td><td style = \"text-align: right;\">0.0</td><td style = \"text-align: right;\">0.0</td><td style = \"text-align: right;\">0.0</td><td style = \"text-align: right;\">0.0</td><td style = \"text-align: right;\">0.0</td><td style = \"text-align: right;\">0.0</td><td style = \"text-align: right;\">0.0</td><td style = \"text-align: right;\">0.0</td><td style = \"text-align: right;\">1.0</td><td style = \"text-align: right;\">0.0</td><td style = \"text-align: right;\">0.0</td><td style = \"text-align: right;\">0.0</td><td style = \"text-align: right;\">0.0</td><td style = \"text-align: right;\">0.0</td><td style = \"text-align: right;\">0.0</td><td style = \"text-align: right;\">0.0</td><td style = \"text-align: right;\">0.0</td><td style = \"text-align: right;\">0.0</td><td style = \"text-align: right;\">0.0</td><td style = \"text-align: right;\">0.0</td><td style = \"text-align: right;\">0.0</td><td style = \"text-align: right;\">0.0</td><td style = \"text-align: right;\">0.0</td><td style = \"text-align: right;\">0.0</td><td style = \"text-align: right;\">0.0</td><td style = \"text-align: right;\">0.0</td><td style = \"text-align: right;\">0.0</td></tr><tr><td class = \"rowNumber\" style = \"font-weight: bold; text-align: right;\">33</td><td style = \"text-align: right;\">0.0</td><td style = \"text-align: right;\">0.0</td><td style = \"text-align: right;\">0.0</td><td style = \"text-align: right;\">0.0</td><td style = \"text-align: right;\">0.0</td><td style = \"text-align: right;\">0.0</td><td style = \"text-align: right;\">0.0</td><td style = \"text-align: right;\">0.0</td><td style = \"text-align: right;\">0.0</td><td style = \"text-align: right;\">0.0</td><td style = \"text-align: right;\">0.0</td><td style = \"text-align: right;\">0.0</td><td style = \"text-align: right;\">0.0</td><td style = \"text-align: right;\">0.0</td><td style = \"text-align: right;\">0.0</td><td style = \"text-align: right;\">0.0</td><td style = \"text-align: right;\">0.0</td><td style = \"text-align: right;\">1.0</td><td style = \"text-align: right;\">0.0</td><td style = \"text-align: right;\">0.0</td><td style = \"text-align: right;\">0.0</td><td style = \"text-align: right;\">0.0</td><td style = \"text-align: right;\">0.0</td><td style = \"text-align: right;\">0.0</td><td style = \"text-align: right;\">0.0</td><td style = \"text-align: right;\">0.0</td><td style = \"text-align: right;\">0.0</td><td style = \"text-align: right;\">0.0</td><td style = \"text-align: right;\">0.0</td></tr></tbody></table></div>"
      ],
      "text/latex": [
       "\\begin{tabular}{r|cccccccccc}\n",
       "\t& x1 & x2 & x3 & x4 & x5 & x6 & x7 & x8 & x9 & \\\\\n",
       "\t\\hline\n",
       "\t& Float64 & Float64 & Float64 & Float64 & Float64 & Float64 & Float64 & Float64 & Float64 & \\\\\n",
       "\t\\hline\n",
       "\t1 & 0.0 & 0.0 & 0.0 & 0.0 & 0.0 & 0.0 & 0.0 & 0.0 & 0.0 & $\\dots$ \\\\\n",
       "\t2 & 0.0 & 0.0 & 0.0 & 0.0 & 0.0 & 0.0 & 0.0 & 0.0 & 0.0 & $\\dots$ \\\\\n",
       "\t3 & 0.0 & 0.0 & 0.0 & 0.0 & 0.0 & 0.0 & 0.0 & 0.0 & 0.0 & $\\dots$ \\\\\n",
       "\t4 & 0.0 & 0.0 & 0.0 & 0.0 & 0.0 & 0.0 & 0.0 & 0.0 & 0.0 & $\\dots$ \\\\\n",
       "\t5 & 0.0 & 0.0 & 0.0 & 0.0 & 0.0 & 0.0 & 0.0 & 0.0 & 0.0 & $\\dots$ \\\\\n",
       "\t6 & 0.0 & 0.0 & 0.0 & 0.0 & 0.0 & 0.0 & 0.0 & 0.0 & 0.0 & $\\dots$ \\\\\n",
       "\t7 & 0.0 & 0.0 & 0.0 & 0.0 & 0.0 & 0.0 & 0.0 & 0.0 & 0.0 & $\\dots$ \\\\\n",
       "\t8 & 0.0 & 0.0 & 0.0 & 0.0 & 0.0 & 0.0 & 0.0 & 0.0 & 0.0 & $\\dots$ \\\\\n",
       "\t9 & 0.0 & 0.0 & 0.0 & 0.0 & 0.0 & 0.0 & 0.0 & 0.0 & 0.0 & $\\dots$ \\\\\n",
       "\t10 & 0.0 & 0.0 & 0.0 & 0.0 & 0.0 & 0.0 & 0.0 & 0.0 & 0.0 & $\\dots$ \\\\\n",
       "\t11 & 0.0 & 0.0 & 0.0 & 0.0 & 0.0 & 0.0 & 0.0 & 0.0 & 0.0 & $\\dots$ \\\\\n",
       "\t12 & 0.0 & 0.0 & 0.0 & 0.0 & 0.0 & 0.0 & 0.0 & 0.0 & 0.0 & $\\dots$ \\\\\n",
       "\t13 & 0.0 & 0.0 & 0.0 & 0.0 & 0.0 & 0.0 & 0.0 & 0.0 & 0.0 & $\\dots$ \\\\\n",
       "\t14 & 0.0 & 0.0 & 0.0 & 0.0 & 0.0 & 0.0 & 0.0 & 0.0 & 0.0 & $\\dots$ \\\\\n",
       "\t15 & 0.0 & 0.0 & 0.0 & 0.0 & 0.0 & 0.0 & 0.0 & 0.0 & 0.0 & $\\dots$ \\\\\n",
       "\t16 & 0.0 & 0.0 & 0.0 & 0.0 & 0.0 & 0.0 & 0.0 & 0.0 & 0.0 & $\\dots$ \\\\\n",
       "\t17 & 0.0 & 0.0 & 0.0 & 0.0 & 0.0 & 0.0 & 0.0 & 0.0 & 0.0 & $\\dots$ \\\\\n",
       "\t18 & -0.0 & 0.0 & 0.0 & 0.0 & 0.0 & 0.0 & -0.0 & -0.0 & -0.0 & $\\dots$ \\\\\n",
       "\t19 & 0.0 & 0.0 & 0.0 & 0.0 & 0.0 & 0.0 & 0.0 & 0.0 & 0.0 & $\\dots$ \\\\\n",
       "\t20 & 0.0 & 0.0 & 0.0 & 0.0 & 0.0 & 0.0 & 0.0 & 0.0 & 0.0 & $\\dots$ \\\\\n",
       "\t21 & 0.0 & 0.0 & 0.0 & 0.0 & 0.0 & 0.0 & 0.0 & 0.0 & 0.0 & $\\dots$ \\\\\n",
       "\t22 & 0.0 & 0.0 & 0.0 & -0.0 & 0.0 & -0.0 & -0.0 & -0.0 & 0.0 & $\\dots$ \\\\\n",
       "\t23 & 0.0 & 0.0 & 0.0 & 0.0 & 0.0 & 0.0 & 0.0 & 0.0 & 0.0 & $\\dots$ \\\\\n",
       "\t24 & 0.0 & 0.0 & 0.0 & 0.0 & 0.0 & 0.0 & 0.0 & 0.0 & 0.0 & $\\dots$ \\\\\n",
       "\t25 & 0.0 & 0.0 & 0.0 & 0.0 & 0.0 & 0.0 & 0.0 & 0.0 & 0.0 & $\\dots$ \\\\\n",
       "\t26 & 0.0 & 0.0 & 0.0 & 0.0 & 0.0 & 0.0 & 0.0 & 0.0 & 0.0 & $\\dots$ \\\\\n",
       "\t27 & 0.0 & 0.0 & 0.0 & 0.0 & 0.0 & 0.0 & 0.0 & 0.0 & 0.0 & $\\dots$ \\\\\n",
       "\t28 & 0.0 & 0.0 & 0.0 & 0.0 & 0.0 & 0.0 & 0.0 & 0.0 & 0.0 & $\\dots$ \\\\\n",
       "\t29 & 0.0 & 0.0 & 0.0 & 0.0 & 0.0 & 0.0 & 0.0 & 0.0 & 0.0 & $\\dots$ \\\\\n",
       "\t30 & 0.0 & 0.0 & 0.0 & 0.0 & 0.0 & 0.0 & 0.0 & 0.0 & 0.0 & $\\dots$ \\\\\n",
       "\t$\\dots$ & $\\dots$ & $\\dots$ & $\\dots$ & $\\dots$ & $\\dots$ & $\\dots$ & $\\dots$ & $\\dots$ & $\\dots$ &  \\\\\n",
       "\\end{tabular}\n"
      ],
      "text/plain": [
       "\u001b[1m33×29 DataFrame\n",
       "\u001b[1m Row │\u001b[1m x1      \u001b[1m x2      \u001b[1m x3      \u001b[1m x4      \u001b[1m x5      \u001b[1m x6      \u001b[1m x7      \u001b[1m x8      \u001b[1m ⋯\n",
       "     │\u001b[90m Float64 \u001b[90m Float64 \u001b[90m Float64 \u001b[90m Float64 \u001b[90m Float64 \u001b[90m Float64 \u001b[90m Float64 \u001b[90m Float64 \u001b[90m ⋯\n",
       "─────┼──────────────────────────────────────────────────────────────────────────\n",
       "   1 │     0.0      0.0      0.0      0.0      0.0      0.0      0.0      0.0  ⋯\n",
       "   2 │     0.0      0.0      0.0      0.0      0.0      0.0      0.0      0.0\n",
       "   3 │     0.0      0.0      0.0      0.0      0.0      0.0      0.0      0.0\n",
       "   4 │     0.0      0.0      0.0      0.0      0.0      0.0      0.0      0.0\n",
       "   5 │     0.0      0.0      0.0      0.0      0.0      0.0      0.0      0.0  ⋯\n",
       "   6 │     0.0      0.0      0.0      0.0      0.0      0.0      0.0      0.0\n",
       "   7 │     0.0      0.0      0.0      0.0      0.0      0.0      0.0      0.0\n",
       "   8 │     0.0      0.0      0.0      0.0      0.0      0.0      0.0      0.0\n",
       "   9 │     0.0      0.0      0.0      0.0      0.0      0.0      0.0      0.0  ⋯\n",
       "  10 │     0.0      0.0      0.0      0.0      0.0      0.0      0.0      0.0\n",
       "  11 │     0.0      0.0      0.0      0.0      0.0      0.0      0.0      0.0\n",
       "  ⋮  │    ⋮        ⋮        ⋮        ⋮        ⋮        ⋮        ⋮        ⋮     ⋱\n",
       "  24 │     0.0      0.0      0.0      0.0      0.0      0.0      0.0      0.0\n",
       "  25 │     0.0      0.0      0.0      0.0      0.0      0.0      0.0      0.0  ⋯\n",
       "  26 │     0.0      0.0      0.0      0.0      0.0      0.0      0.0      0.0\n",
       "  27 │     0.0      0.0      0.0      0.0      0.0      0.0      0.0      0.0\n",
       "  28 │     0.0      0.0      0.0      0.0      0.0      0.0      0.0      0.0\n",
       "  29 │     0.0      0.0      0.0      0.0      0.0      0.0      0.0      0.0  ⋯\n",
       "  30 │     0.0      0.0      0.0      0.0      0.0      0.0      0.0      0.0\n",
       "  31 │     0.0      0.0      0.0      0.0      0.0      0.0      0.0      0.0\n",
       "  32 │     0.0      0.0      0.0      0.0      0.0      0.0      0.0      0.0\n",
       "  33 │     0.0      0.0      0.0      0.0      0.0      0.0      0.0      0.0  ⋯\n",
       "\u001b[36m                                                  21 columns and 12 rows omitted"
      ]
     },
     "execution_count": 264,
     "metadata": {},
     "output_type": "execute_result"
    }
   ],
   "source": [
    "x_k2"
   ]
  },
  {
   "cell_type": "code",
   "execution_count": null,
   "id": "22f6ef45",
   "metadata": {},
   "outputs": [],
   "source": []
  },
  {
   "cell_type": "code",
   "execution_count": null,
   "id": "184a3356",
   "metadata": {},
   "outputs": [],
   "source": []
  },
  {
   "cell_type": "code",
   "execution_count": 265,
   "id": "4228235c",
   "metadata": {},
   "outputs": [
    {
     "data": {
      "text/plain": [
       "\"../data/x_k2.csv\""
      ]
     },
     "execution_count": 265,
     "metadata": {},
     "output_type": "execute_result"
    }
   ],
   "source": [
    "CSV.write(\"../data/x_k1.csv\", x_k1)\n",
    "CSV.write(\"../data/x_k2.csv\", x_k2)"
   ]
  },
  {
   "cell_type": "code",
   "execution_count": null,
   "id": "46a875a5",
   "metadata": {},
   "outputs": [],
   "source": []
  },
  {
   "cell_type": "code",
   "execution_count": 68,
   "id": "a7b1545e",
   "metadata": {},
   "outputs": [
    {
     "name": "stdout",
     "output_type": "stream",
     "text": [
      "1\n",
      "5\n",
      "6\n",
      "9\n",
      "10\n",
      "33\n"
     ]
    }
   ],
   "source": [
    "println(d_start)\n",
    "println(d_end)\n",
    "println(p_start)\n",
    "println(p_end)\n",
    "println(h_start)\n",
    "println(h_end)"
   ]
  },
  {
   "cell_type": "code",
   "execution_count": null,
   "id": "e6eae71a",
   "metadata": {},
   "outputs": [],
   "source": []
  },
  {
   "cell_type": "code",
   "execution_count": null,
   "id": "4bdae450",
   "metadata": {},
   "outputs": [],
   "source": []
  }
 ],
 "metadata": {
  "kernelspec": {
   "display_name": "Julia 1.8.2",
   "language": "julia",
   "name": "julia-1.8"
  },
  "language_info": {
   "file_extension": ".jl",
   "mimetype": "application/julia",
   "name": "julia",
   "version": "1.8.2"
  }
 },
 "nbformat": 4,
 "nbformat_minor": 5
}

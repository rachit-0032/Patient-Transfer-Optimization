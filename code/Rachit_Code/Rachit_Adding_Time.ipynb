{
 "cells": [
  {
   "cell_type": "code",
   "execution_count": 25,
   "id": "4e70dc95",
   "metadata": {},
   "outputs": [],
   "source": [
    "using CSV, Tables, LinearAlgebra, Random, Gurobi, JuMP, DataFrames, Plots, Statistics"
   ]
  },
  {
   "cell_type": "code",
   "execution_count": 26,
   "id": "84843262",
   "metadata": {},
   "outputs": [],
   "source": [
    "## Function to Load Data.\n",
    "function load_data(fname)\n",
    "    data = DataFrame(CSV.File(fname, header=false)) |> DataFrame;\n",
    "    return data\n",
    "end;"
   ]
  },
  {
   "cell_type": "code",
   "execution_count": 27,
   "id": "9a99a47c",
   "metadata": {},
   "outputs": [],
   "source": [
    "hospital_mapping = CSV.read(\"../data/scaled_up_70/hospital_mapping.csv\", DataFrame, pool=true);\n",
    "distance_cost_vehicle_type_mapping = CSV.read(\"../data/scaled_up_70/distance_cost_vehicle_type_mapping.csv\", DataFrame, pool=true);\n",
    "fixed_cost_vehicle_type_mapping = CSV.read(\"../data/scaled_up_70/fixed_cost_vehicle_type_mapping.csv\", DataFrame, pool=true);\n",
    "vehicle_depot_mapping = CSV.read(\"../data/scaled_up_70/vehicle_depot_mapping.csv\", DataFrame, pool=true);\n",
    "distance_mapping = CSV.read(\"../data/scaled_up_70/distance_mapping.csv\", DataFrame, pool=true);\n",
    "vehicle_type = CSV.read(\"../data/scaled_up_70/vehicle_type.csv\", DataFrame, pool=true);"
   ]
  },
  {
   "cell_type": "code",
   "execution_count": 28,
   "id": "da038c7b",
   "metadata": {},
   "outputs": [
    {
     "data": {
      "text/html": [
       "<div><div style = \"float: left;\"><span>10×2 DataFrame</span></div><div style = \"clear: both;\"></div></div><div class = \"data-frame\" style = \"overflow-x: scroll;\"><table class = \"data-frame\" style = \"margin-bottom: 6px;\"><thead><tr class = \"header\"><th class = \"rowNumber\" style = \"font-weight: bold; text-align: right;\">Row</th><th style = \"text-align: left;\">vehicle_num</th><th style = \"text-align: left;\">type</th></tr><tr class = \"subheader headerLastRow\"><th class = \"rowNumber\" style = \"font-weight: bold; text-align: right;\"></th><th title = \"Int64\" style = \"text-align: left;\">Int64</th><th title = \"Int64\" style = \"text-align: left;\">Int64</th></tr></thead><tbody><tr><td class = \"rowNumber\" style = \"font-weight: bold; text-align: right;\">1</td><td style = \"text-align: right;\">1</td><td style = \"text-align: right;\">1</td></tr><tr><td class = \"rowNumber\" style = \"font-weight: bold; text-align: right;\">2</td><td style = \"text-align: right;\">2</td><td style = \"text-align: right;\">1</td></tr><tr><td class = \"rowNumber\" style = \"font-weight: bold; text-align: right;\">3</td><td style = \"text-align: right;\">3</td><td style = \"text-align: right;\">2</td></tr><tr><td class = \"rowNumber\" style = \"font-weight: bold; text-align: right;\">4</td><td style = \"text-align: right;\">4</td><td style = \"text-align: right;\">1</td></tr><tr><td class = \"rowNumber\" style = \"font-weight: bold; text-align: right;\">5</td><td style = \"text-align: right;\">5</td><td style = \"text-align: right;\">2</td></tr><tr><td class = \"rowNumber\" style = \"font-weight: bold; text-align: right;\">6</td><td style = \"text-align: right;\">6</td><td style = \"text-align: right;\">1</td></tr><tr><td class = \"rowNumber\" style = \"font-weight: bold; text-align: right;\">7</td><td style = \"text-align: right;\">7</td><td style = \"text-align: right;\">2</td></tr><tr><td class = \"rowNumber\" style = \"font-weight: bold; text-align: right;\">8</td><td style = \"text-align: right;\">8</td><td style = \"text-align: right;\">1</td></tr><tr><td class = \"rowNumber\" style = \"font-weight: bold; text-align: right;\">9</td><td style = \"text-align: right;\">9</td><td style = \"text-align: right;\">1</td></tr><tr><td class = \"rowNumber\" style = \"font-weight: bold; text-align: right;\">10</td><td style = \"text-align: right;\">10</td><td style = \"text-align: right;\">1</td></tr></tbody></table></div>"
      ],
      "text/latex": [
       "\\begin{tabular}{r|cc}\n",
       "\t& vehicle\\_num & type\\\\\n",
       "\t\\hline\n",
       "\t& Int64 & Int64\\\\\n",
       "\t\\hline\n",
       "\t1 & 1 & 1 \\\\\n",
       "\t2 & 2 & 1 \\\\\n",
       "\t3 & 3 & 2 \\\\\n",
       "\t4 & 4 & 1 \\\\\n",
       "\t5 & 5 & 2 \\\\\n",
       "\t6 & 6 & 1 \\\\\n",
       "\t7 & 7 & 2 \\\\\n",
       "\t8 & 8 & 1 \\\\\n",
       "\t9 & 9 & 1 \\\\\n",
       "\t10 & 10 & 1 \\\\\n",
       "\\end{tabular}\n"
      ],
      "text/plain": [
       "\u001b[1m10×2 DataFrame\n",
       "\u001b[1m Row │\u001b[1m vehicle_num \u001b[1m type\n",
       "     │\u001b[90m Int64       \u001b[90m Int64\n",
       "─────┼────────────────────\n",
       "   1 │           1      1\n",
       "   2 │           2      1\n",
       "   3 │           3      2\n",
       "   4 │           4      1\n",
       "   5 │           5      2\n",
       "   6 │           6      1\n",
       "   7 │           7      2\n",
       "   8 │           8      1\n",
       "   9 │           9      1\n",
       "  10 │          10      1"
      ]
     },
     "execution_count": 28,
     "metadata": {},
     "output_type": "execute_result"
    }
   ],
   "source": [
    "vehicle_type"
   ]
  },
  {
   "cell_type": "code",
   "execution_count": 29,
   "id": "b1a8b2cc",
   "metadata": {},
   "outputs": [
    {
     "data": {
      "text/html": [
       "<div><div style = \"float: left;\"><span>24×24 DataFrame</span></div><div style = \"clear: both;\"></div></div><div class = \"data-frame\" style = \"overflow-x: scroll;\"><table class = \"data-frame\" style = \"margin-bottom: 6px;\"><thead><tr class = \"header\"><th class = \"rowNumber\" style = \"font-weight: bold; text-align: right;\">Row</th><th style = \"text-align: left;\">1</th><th style = \"text-align: left;\">2</th><th style = \"text-align: left;\">3</th><th style = \"text-align: left;\">4</th><th style = \"text-align: left;\">5</th><th style = \"text-align: left;\">6</th><th style = \"text-align: left;\">7</th><th style = \"text-align: left;\">8</th><th style = \"text-align: left;\">9</th><th style = \"text-align: left;\">10</th><th style = \"text-align: left;\">11</th><th style = \"text-align: left;\">12</th><th style = \"text-align: left;\">13</th><th style = \"text-align: left;\">14</th><th style = \"text-align: left;\">15</th><th style = \"text-align: left;\">16</th><th style = \"text-align: left;\">17</th><th style = \"text-align: left;\">18</th><th style = \"text-align: left;\">19</th><th style = \"text-align: left;\">20</th><th style = \"text-align: left;\">21</th><th style = \"text-align: left;\">22</th><th style = \"text-align: left;\">23</th><th style = \"text-align: left;\">24</th></tr><tr class = \"subheader headerLastRow\"><th class = \"rowNumber\" style = \"font-weight: bold; text-align: right;\"></th><th title = \"Int64\" style = \"text-align: left;\">Int64</th><th title = \"Int64\" style = \"text-align: left;\">Int64</th><th title = \"Int64\" style = \"text-align: left;\">Int64</th><th title = \"Int64\" style = \"text-align: left;\">Int64</th><th title = \"Int64\" style = \"text-align: left;\">Int64</th><th title = \"Int64\" style = \"text-align: left;\">Int64</th><th title = \"Int64\" style = \"text-align: left;\">Int64</th><th title = \"Int64\" style = \"text-align: left;\">Int64</th><th title = \"Int64\" style = \"text-align: left;\">Int64</th><th title = \"Int64\" style = \"text-align: left;\">Int64</th><th title = \"Int64\" style = \"text-align: left;\">Int64</th><th title = \"Int64\" style = \"text-align: left;\">Int64</th><th title = \"Int64\" style = \"text-align: left;\">Int64</th><th title = \"Int64\" style = \"text-align: left;\">Int64</th><th title = \"Int64\" style = \"text-align: left;\">Int64</th><th title = \"Int64\" style = \"text-align: left;\">Int64</th><th title = \"Int64\" style = \"text-align: left;\">Int64</th><th title = \"Int64\" style = \"text-align: left;\">Int64</th><th title = \"Int64\" style = \"text-align: left;\">Int64</th><th title = \"Int64\" style = \"text-align: left;\">Int64</th><th title = \"Int64\" style = \"text-align: left;\">Int64</th><th title = \"Int64\" style = \"text-align: left;\">Int64</th><th title = \"Int64\" style = \"text-align: left;\">Int64</th><th title = \"Int64\" style = \"text-align: left;\">Int64</th></tr></thead><tbody><tr><td class = \"rowNumber\" style = \"font-weight: bold; text-align: right;\">1</td><td style = \"text-align: right;\">0</td><td style = \"text-align: right;\">0</td><td style = \"text-align: right;\">0</td><td style = \"text-align: right;\">0</td><td style = \"text-align: right;\">0</td><td style = \"text-align: right;\">0</td><td style = \"text-align: right;\">0</td><td style = \"text-align: right;\">0</td><td style = \"text-align: right;\">0</td><td style = \"text-align: right;\">0</td><td style = \"text-align: right;\">0</td><td style = \"text-align: right;\">0</td><td style = \"text-align: right;\">0</td><td style = \"text-align: right;\">0</td><td style = \"text-align: right;\">0</td><td style = \"text-align: right;\">0</td><td style = \"text-align: right;\">0</td><td style = \"text-align: right;\">0</td><td style = \"text-align: right;\">0</td><td style = \"text-align: right;\">0</td><td style = \"text-align: right;\">0</td><td style = \"text-align: right;\">0</td><td style = \"text-align: right;\">0</td><td style = \"text-align: right;\">0</td></tr><tr><td class = \"rowNumber\" style = \"font-weight: bold; text-align: right;\">2</td><td style = \"text-align: right;\">0</td><td style = \"text-align: right;\">0</td><td style = \"text-align: right;\">0</td><td style = \"text-align: right;\">0</td><td style = \"text-align: right;\">0</td><td style = \"text-align: right;\">1</td><td style = \"text-align: right;\">0</td><td style = \"text-align: right;\">1</td><td style = \"text-align: right;\">0</td><td style = \"text-align: right;\">0</td><td style = \"text-align: right;\">0</td><td style = \"text-align: right;\">0</td><td style = \"text-align: right;\">1</td><td style = \"text-align: right;\">0</td><td style = \"text-align: right;\">0</td><td style = \"text-align: right;\">0</td><td style = \"text-align: right;\">1</td><td style = \"text-align: right;\">0</td><td style = \"text-align: right;\">0</td><td style = \"text-align: right;\">0</td><td style = \"text-align: right;\">0</td><td style = \"text-align: right;\">0</td><td style = \"text-align: right;\">0</td><td style = \"text-align: right;\">0</td></tr><tr><td class = \"rowNumber\" style = \"font-weight: bold; text-align: right;\">3</td><td style = \"text-align: right;\">0</td><td style = \"text-align: right;\">0</td><td style = \"text-align: right;\">0</td><td style = \"text-align: right;\">0</td><td style = \"text-align: right;\">0</td><td style = \"text-align: right;\">1</td><td style = \"text-align: right;\">0</td><td style = \"text-align: right;\">1</td><td style = \"text-align: right;\">0</td><td style = \"text-align: right;\">0</td><td style = \"text-align: right;\">0</td><td style = \"text-align: right;\">0</td><td style = \"text-align: right;\">1</td><td style = \"text-align: right;\">0</td><td style = \"text-align: right;\">0</td><td style = \"text-align: right;\">0</td><td style = \"text-align: right;\">1</td><td style = \"text-align: right;\">0</td><td style = \"text-align: right;\">0</td><td style = \"text-align: right;\">0</td><td style = \"text-align: right;\">0</td><td style = \"text-align: right;\">0</td><td style = \"text-align: right;\">0</td><td style = \"text-align: right;\">0</td></tr><tr><td class = \"rowNumber\" style = \"font-weight: bold; text-align: right;\">4</td><td style = \"text-align: right;\">0</td><td style = \"text-align: right;\">0</td><td style = \"text-align: right;\">0</td><td style = \"text-align: right;\">0</td><td style = \"text-align: right;\">0</td><td style = \"text-align: right;\">1</td><td style = \"text-align: right;\">0</td><td style = \"text-align: right;\">0</td><td style = \"text-align: right;\">0</td><td style = \"text-align: right;\">0</td><td style = \"text-align: right;\">0</td><td style = \"text-align: right;\">0</td><td style = \"text-align: right;\">0</td><td style = \"text-align: right;\">0</td><td style = \"text-align: right;\">0</td><td style = \"text-align: right;\">0</td><td style = \"text-align: right;\">1</td><td style = \"text-align: right;\">0</td><td style = \"text-align: right;\">0</td><td style = \"text-align: right;\">0</td><td style = \"text-align: right;\">0</td><td style = \"text-align: right;\">0</td><td style = \"text-align: right;\">0</td><td style = \"text-align: right;\">0</td></tr><tr><td class = \"rowNumber\" style = \"font-weight: bold; text-align: right;\">5</td><td style = \"text-align: right;\">0</td><td style = \"text-align: right;\">0</td><td style = \"text-align: right;\">0</td><td style = \"text-align: right;\">0</td><td style = \"text-align: right;\">0</td><td style = \"text-align: right;\">1</td><td style = \"text-align: right;\">0</td><td style = \"text-align: right;\">0</td><td style = \"text-align: right;\">0</td><td style = \"text-align: right;\">0</td><td style = \"text-align: right;\">0</td><td style = \"text-align: right;\">0</td><td style = \"text-align: right;\">0</td><td style = \"text-align: right;\">0</td><td style = \"text-align: right;\">0</td><td style = \"text-align: right;\">0</td><td style = \"text-align: right;\">1</td><td style = \"text-align: right;\">0</td><td style = \"text-align: right;\">0</td><td style = \"text-align: right;\">0</td><td style = \"text-align: right;\">0</td><td style = \"text-align: right;\">0</td><td style = \"text-align: right;\">0</td><td style = \"text-align: right;\">0</td></tr><tr><td class = \"rowNumber\" style = \"font-weight: bold; text-align: right;\">6</td><td style = \"text-align: right;\">0</td><td style = \"text-align: right;\">1</td><td style = \"text-align: right;\">1</td><td style = \"text-align: right;\">1</td><td style = \"text-align: right;\">1</td><td style = \"text-align: right;\">0</td><td style = \"text-align: right;\">0</td><td style = \"text-align: right;\">1</td><td style = \"text-align: right;\">0</td><td style = \"text-align: right;\">0</td><td style = \"text-align: right;\">0</td><td style = \"text-align: right;\">0</td><td style = \"text-align: right;\">2</td><td style = \"text-align: right;\">1</td><td style = \"text-align: right;\">0</td><td style = \"text-align: right;\">1</td><td style = \"text-align: right;\">3</td><td style = \"text-align: right;\">0</td><td style = \"text-align: right;\">0</td><td style = \"text-align: right;\">0</td><td style = \"text-align: right;\">0</td><td style = \"text-align: right;\">1</td><td style = \"text-align: right;\">1</td><td style = \"text-align: right;\">0</td></tr><tr><td class = \"rowNumber\" style = \"font-weight: bold; text-align: right;\">7</td><td style = \"text-align: right;\">0</td><td style = \"text-align: right;\">0</td><td style = \"text-align: right;\">0</td><td style = \"text-align: right;\">0</td><td style = \"text-align: right;\">0</td><td style = \"text-align: right;\">0</td><td style = \"text-align: right;\">0</td><td style = \"text-align: right;\">0</td><td style = \"text-align: right;\">0</td><td style = \"text-align: right;\">0</td><td style = \"text-align: right;\">0</td><td style = \"text-align: right;\">0</td><td style = \"text-align: right;\">0</td><td style = \"text-align: right;\">0</td><td style = \"text-align: right;\">0</td><td style = \"text-align: right;\">0</td><td style = \"text-align: right;\">0</td><td style = \"text-align: right;\">0</td><td style = \"text-align: right;\">0</td><td style = \"text-align: right;\">0</td><td style = \"text-align: right;\">0</td><td style = \"text-align: right;\">0</td><td style = \"text-align: right;\">0</td><td style = \"text-align: right;\">0</td></tr><tr><td class = \"rowNumber\" style = \"font-weight: bold; text-align: right;\">8</td><td style = \"text-align: right;\">0</td><td style = \"text-align: right;\">1</td><td style = \"text-align: right;\">1</td><td style = \"text-align: right;\">0</td><td style = \"text-align: right;\">0</td><td style = \"text-align: right;\">1</td><td style = \"text-align: right;\">0</td><td style = \"text-align: right;\">0</td><td style = \"text-align: right;\">0</td><td style = \"text-align: right;\">0</td><td style = \"text-align: right;\">0</td><td style = \"text-align: right;\">0</td><td style = \"text-align: right;\">1</td><td style = \"text-align: right;\">0</td><td style = \"text-align: right;\">0</td><td style = \"text-align: right;\">0</td><td style = \"text-align: right;\">2</td><td style = \"text-align: right;\">0</td><td style = \"text-align: right;\">0</td><td style = \"text-align: right;\">0</td><td style = \"text-align: right;\">0</td><td style = \"text-align: right;\">0</td><td style = \"text-align: right;\">1</td><td style = \"text-align: right;\">0</td></tr><tr><td class = \"rowNumber\" style = \"font-weight: bold; text-align: right;\">9</td><td style = \"text-align: right;\">0</td><td style = \"text-align: right;\">0</td><td style = \"text-align: right;\">0</td><td style = \"text-align: right;\">0</td><td style = \"text-align: right;\">0</td><td style = \"text-align: right;\">0</td><td style = \"text-align: right;\">0</td><td style = \"text-align: right;\">0</td><td style = \"text-align: right;\">0</td><td style = \"text-align: right;\">0</td><td style = \"text-align: right;\">0</td><td style = \"text-align: right;\">0</td><td style = \"text-align: right;\">0</td><td style = \"text-align: right;\">0</td><td style = \"text-align: right;\">0</td><td style = \"text-align: right;\">0</td><td style = \"text-align: right;\">0</td><td style = \"text-align: right;\">0</td><td style = \"text-align: right;\">0</td><td style = \"text-align: right;\">0</td><td style = \"text-align: right;\">0</td><td style = \"text-align: right;\">0</td><td style = \"text-align: right;\">0</td><td style = \"text-align: right;\">0</td></tr><tr><td class = \"rowNumber\" style = \"font-weight: bold; text-align: right;\">10</td><td style = \"text-align: right;\">0</td><td style = \"text-align: right;\">0</td><td style = \"text-align: right;\">0</td><td style = \"text-align: right;\">0</td><td style = \"text-align: right;\">0</td><td style = \"text-align: right;\">0</td><td style = \"text-align: right;\">0</td><td style = \"text-align: right;\">0</td><td style = \"text-align: right;\">0</td><td style = \"text-align: right;\">0</td><td style = \"text-align: right;\">0</td><td style = \"text-align: right;\">0</td><td style = \"text-align: right;\">0</td><td style = \"text-align: right;\">0</td><td style = \"text-align: right;\">0</td><td style = \"text-align: right;\">0</td><td style = \"text-align: right;\">0</td><td style = \"text-align: right;\">0</td><td style = \"text-align: right;\">0</td><td style = \"text-align: right;\">0</td><td style = \"text-align: right;\">0</td><td style = \"text-align: right;\">0</td><td style = \"text-align: right;\">0</td><td style = \"text-align: right;\">0</td></tr><tr><td class = \"rowNumber\" style = \"font-weight: bold; text-align: right;\">11</td><td style = \"text-align: right;\">0</td><td style = \"text-align: right;\">0</td><td style = \"text-align: right;\">0</td><td style = \"text-align: right;\">0</td><td style = \"text-align: right;\">0</td><td style = \"text-align: right;\">0</td><td style = \"text-align: right;\">0</td><td style = \"text-align: right;\">0</td><td style = \"text-align: right;\">0</td><td style = \"text-align: right;\">0</td><td style = \"text-align: right;\">0</td><td style = \"text-align: right;\">0</td><td style = \"text-align: right;\">0</td><td style = \"text-align: right;\">0</td><td style = \"text-align: right;\">0</td><td style = \"text-align: right;\">0</td><td style = \"text-align: right;\">0</td><td style = \"text-align: right;\">0</td><td style = \"text-align: right;\">0</td><td style = \"text-align: right;\">0</td><td style = \"text-align: right;\">0</td><td style = \"text-align: right;\">0</td><td style = \"text-align: right;\">0</td><td style = \"text-align: right;\">0</td></tr><tr><td class = \"rowNumber\" style = \"font-weight: bold; text-align: right;\">12</td><td style = \"text-align: right;\">0</td><td style = \"text-align: right;\">0</td><td style = \"text-align: right;\">0</td><td style = \"text-align: right;\">0</td><td style = \"text-align: right;\">0</td><td style = \"text-align: right;\">0</td><td style = \"text-align: right;\">0</td><td style = \"text-align: right;\">0</td><td style = \"text-align: right;\">0</td><td style = \"text-align: right;\">0</td><td style = \"text-align: right;\">0</td><td style = \"text-align: right;\">0</td><td style = \"text-align: right;\">0</td><td style = \"text-align: right;\">0</td><td style = \"text-align: right;\">0</td><td style = \"text-align: right;\">0</td><td style = \"text-align: right;\">0</td><td style = \"text-align: right;\">0</td><td style = \"text-align: right;\">0</td><td style = \"text-align: right;\">0</td><td style = \"text-align: right;\">0</td><td style = \"text-align: right;\">0</td><td style = \"text-align: right;\">0</td><td style = \"text-align: right;\">0</td></tr><tr><td class = \"rowNumber\" style = \"font-weight: bold; text-align: right;\">13</td><td style = \"text-align: right;\">0</td><td style = \"text-align: right;\">1</td><td style = \"text-align: right;\">1</td><td style = \"text-align: right;\">0</td><td style = \"text-align: right;\">0</td><td style = \"text-align: right;\">2</td><td style = \"text-align: right;\">0</td><td style = \"text-align: right;\">1</td><td style = \"text-align: right;\">0</td><td style = \"text-align: right;\">0</td><td style = \"text-align: right;\">0</td><td style = \"text-align: right;\">0</td><td style = \"text-align: right;\">0</td><td style = \"text-align: right;\">0</td><td style = \"text-align: right;\">0</td><td style = \"text-align: right;\">1</td><td style = \"text-align: right;\">2</td><td style = \"text-align: right;\">0</td><td style = \"text-align: right;\">0</td><td style = \"text-align: right;\">0</td><td style = \"text-align: right;\">0</td><td style = \"text-align: right;\">1</td><td style = \"text-align: right;\">1</td><td style = \"text-align: right;\">0</td></tr><tr><td class = \"rowNumber\" style = \"font-weight: bold; text-align: right;\">14</td><td style = \"text-align: right;\">0</td><td style = \"text-align: right;\">0</td><td style = \"text-align: right;\">0</td><td style = \"text-align: right;\">0</td><td style = \"text-align: right;\">0</td><td style = \"text-align: right;\">1</td><td style = \"text-align: right;\">0</td><td style = \"text-align: right;\">0</td><td style = \"text-align: right;\">0</td><td style = \"text-align: right;\">0</td><td style = \"text-align: right;\">0</td><td style = \"text-align: right;\">0</td><td style = \"text-align: right;\">0</td><td style = \"text-align: right;\">0</td><td style = \"text-align: right;\">0</td><td style = \"text-align: right;\">0</td><td style = \"text-align: right;\">1</td><td style = \"text-align: right;\">0</td><td style = \"text-align: right;\">0</td><td style = \"text-align: right;\">0</td><td style = \"text-align: right;\">0</td><td style = \"text-align: right;\">0</td><td style = \"text-align: right;\">0</td><td style = \"text-align: right;\">0</td></tr><tr><td class = \"rowNumber\" style = \"font-weight: bold; text-align: right;\">15</td><td style = \"text-align: right;\">0</td><td style = \"text-align: right;\">0</td><td style = \"text-align: right;\">0</td><td style = \"text-align: right;\">0</td><td style = \"text-align: right;\">0</td><td style = \"text-align: right;\">0</td><td style = \"text-align: right;\">0</td><td style = \"text-align: right;\">0</td><td style = \"text-align: right;\">0</td><td style = \"text-align: right;\">0</td><td style = \"text-align: right;\">0</td><td style = \"text-align: right;\">0</td><td style = \"text-align: right;\">0</td><td style = \"text-align: right;\">0</td><td style = \"text-align: right;\">0</td><td style = \"text-align: right;\">0</td><td style = \"text-align: right;\">0</td><td style = \"text-align: right;\">0</td><td style = \"text-align: right;\">0</td><td style = \"text-align: right;\">0</td><td style = \"text-align: right;\">0</td><td style = \"text-align: right;\">0</td><td style = \"text-align: right;\">0</td><td style = \"text-align: right;\">0</td></tr><tr><td class = \"rowNumber\" style = \"font-weight: bold; text-align: right;\">16</td><td style = \"text-align: right;\">0</td><td style = \"text-align: right;\">0</td><td style = \"text-align: right;\">0</td><td style = \"text-align: right;\">0</td><td style = \"text-align: right;\">0</td><td style = \"text-align: right;\">1</td><td style = \"text-align: right;\">0</td><td style = \"text-align: right;\">0</td><td style = \"text-align: right;\">0</td><td style = \"text-align: right;\">0</td><td style = \"text-align: right;\">0</td><td style = \"text-align: right;\">0</td><td style = \"text-align: right;\">1</td><td style = \"text-align: right;\">0</td><td style = \"text-align: right;\">0</td><td style = \"text-align: right;\">0</td><td style = \"text-align: right;\">1</td><td style = \"text-align: right;\">0</td><td style = \"text-align: right;\">0</td><td style = \"text-align: right;\">0</td><td style = \"text-align: right;\">0</td><td style = \"text-align: right;\">0</td><td style = \"text-align: right;\">0</td><td style = \"text-align: right;\">0</td></tr><tr><td class = \"rowNumber\" style = \"font-weight: bold; text-align: right;\">17</td><td style = \"text-align: right;\">0</td><td style = \"text-align: right;\">1</td><td style = \"text-align: right;\">1</td><td style = \"text-align: right;\">1</td><td style = \"text-align: right;\">1</td><td style = \"text-align: right;\">3</td><td style = \"text-align: right;\">0</td><td style = \"text-align: right;\">2</td><td style = \"text-align: right;\">0</td><td style = \"text-align: right;\">0</td><td style = \"text-align: right;\">0</td><td style = \"text-align: right;\">0</td><td style = \"text-align: right;\">2</td><td style = \"text-align: right;\">1</td><td style = \"text-align: right;\">0</td><td style = \"text-align: right;\">1</td><td style = \"text-align: right;\">0</td><td style = \"text-align: right;\">0</td><td style = \"text-align: right;\">0</td><td style = \"text-align: right;\">0</td><td style = \"text-align: right;\">0</td><td style = \"text-align: right;\">1</td><td style = \"text-align: right;\">1</td><td style = \"text-align: right;\">0</td></tr><tr><td class = \"rowNumber\" style = \"font-weight: bold; text-align: right;\">18</td><td style = \"text-align: right;\">0</td><td style = \"text-align: right;\">0</td><td style = \"text-align: right;\">0</td><td style = \"text-align: right;\">0</td><td style = \"text-align: right;\">0</td><td style = \"text-align: right;\">0</td><td style = \"text-align: right;\">0</td><td style = \"text-align: right;\">0</td><td style = \"text-align: right;\">0</td><td style = \"text-align: right;\">0</td><td style = \"text-align: right;\">0</td><td style = \"text-align: right;\">0</td><td style = \"text-align: right;\">0</td><td style = \"text-align: right;\">0</td><td style = \"text-align: right;\">0</td><td style = \"text-align: right;\">0</td><td style = \"text-align: right;\">0</td><td style = \"text-align: right;\">0</td><td style = \"text-align: right;\">0</td><td style = \"text-align: right;\">0</td><td style = \"text-align: right;\">0</td><td style = \"text-align: right;\">0</td><td style = \"text-align: right;\">0</td><td style = \"text-align: right;\">0</td></tr><tr><td class = \"rowNumber\" style = \"font-weight: bold; text-align: right;\">19</td><td style = \"text-align: right;\">0</td><td style = \"text-align: right;\">0</td><td style = \"text-align: right;\">0</td><td style = \"text-align: right;\">0</td><td style = \"text-align: right;\">0</td><td style = \"text-align: right;\">0</td><td style = \"text-align: right;\">0</td><td style = \"text-align: right;\">0</td><td style = \"text-align: right;\">0</td><td style = \"text-align: right;\">0</td><td style = \"text-align: right;\">0</td><td style = \"text-align: right;\">0</td><td style = \"text-align: right;\">0</td><td style = \"text-align: right;\">0</td><td style = \"text-align: right;\">0</td><td style = \"text-align: right;\">0</td><td style = \"text-align: right;\">0</td><td style = \"text-align: right;\">0</td><td style = \"text-align: right;\">0</td><td style = \"text-align: right;\">0</td><td style = \"text-align: right;\">0</td><td style = \"text-align: right;\">0</td><td style = \"text-align: right;\">0</td><td style = \"text-align: right;\">0</td></tr><tr><td class = \"rowNumber\" style = \"font-weight: bold; text-align: right;\">20</td><td style = \"text-align: right;\">0</td><td style = \"text-align: right;\">0</td><td style = \"text-align: right;\">0</td><td style = \"text-align: right;\">0</td><td style = \"text-align: right;\">0</td><td style = \"text-align: right;\">0</td><td style = \"text-align: right;\">0</td><td style = \"text-align: right;\">0</td><td style = \"text-align: right;\">0</td><td style = \"text-align: right;\">0</td><td style = \"text-align: right;\">0</td><td style = \"text-align: right;\">0</td><td style = \"text-align: right;\">0</td><td style = \"text-align: right;\">0</td><td style = \"text-align: right;\">0</td><td style = \"text-align: right;\">0</td><td style = \"text-align: right;\">0</td><td style = \"text-align: right;\">0</td><td style = \"text-align: right;\">0</td><td style = \"text-align: right;\">0</td><td style = \"text-align: right;\">0</td><td style = \"text-align: right;\">0</td><td style = \"text-align: right;\">0</td><td style = \"text-align: right;\">0</td></tr><tr><td class = \"rowNumber\" style = \"font-weight: bold; text-align: right;\">21</td><td style = \"text-align: right;\">0</td><td style = \"text-align: right;\">0</td><td style = \"text-align: right;\">0</td><td style = \"text-align: right;\">0</td><td style = \"text-align: right;\">0</td><td style = \"text-align: right;\">0</td><td style = \"text-align: right;\">0</td><td style = \"text-align: right;\">0</td><td style = \"text-align: right;\">0</td><td style = \"text-align: right;\">0</td><td style = \"text-align: right;\">0</td><td style = \"text-align: right;\">0</td><td style = \"text-align: right;\">0</td><td style = \"text-align: right;\">0</td><td style = \"text-align: right;\">0</td><td style = \"text-align: right;\">0</td><td style = \"text-align: right;\">0</td><td style = \"text-align: right;\">0</td><td style = \"text-align: right;\">0</td><td style = \"text-align: right;\">0</td><td style = \"text-align: right;\">0</td><td style = \"text-align: right;\">0</td><td style = \"text-align: right;\">0</td><td style = \"text-align: right;\">0</td></tr><tr><td class = \"rowNumber\" style = \"font-weight: bold; text-align: right;\">22</td><td style = \"text-align: right;\">0</td><td style = \"text-align: right;\">0</td><td style = \"text-align: right;\">0</td><td style = \"text-align: right;\">0</td><td style = \"text-align: right;\">0</td><td style = \"text-align: right;\">1</td><td style = \"text-align: right;\">0</td><td style = \"text-align: right;\">0</td><td style = \"text-align: right;\">0</td><td style = \"text-align: right;\">0</td><td style = \"text-align: right;\">0</td><td style = \"text-align: right;\">0</td><td style = \"text-align: right;\">1</td><td style = \"text-align: right;\">0</td><td style = \"text-align: right;\">0</td><td style = \"text-align: right;\">0</td><td style = \"text-align: right;\">1</td><td style = \"text-align: right;\">0</td><td style = \"text-align: right;\">0</td><td style = \"text-align: right;\">0</td><td style = \"text-align: right;\">0</td><td style = \"text-align: right;\">0</td><td style = \"text-align: right;\">0</td><td style = \"text-align: right;\">0</td></tr><tr><td class = \"rowNumber\" style = \"font-weight: bold; text-align: right;\">23</td><td style = \"text-align: right;\">0</td><td style = \"text-align: right;\">0</td><td style = \"text-align: right;\">0</td><td style = \"text-align: right;\">0</td><td style = \"text-align: right;\">0</td><td style = \"text-align: right;\">1</td><td style = \"text-align: right;\">0</td><td style = \"text-align: right;\">1</td><td style = \"text-align: right;\">0</td><td style = \"text-align: right;\">0</td><td style = \"text-align: right;\">0</td><td style = \"text-align: right;\">0</td><td style = \"text-align: right;\">1</td><td style = \"text-align: right;\">0</td><td style = \"text-align: right;\">0</td><td style = \"text-align: right;\">0</td><td style = \"text-align: right;\">1</td><td style = \"text-align: right;\">0</td><td style = \"text-align: right;\">0</td><td style = \"text-align: right;\">0</td><td style = \"text-align: right;\">0</td><td style = \"text-align: right;\">0</td><td style = \"text-align: right;\">0</td><td style = \"text-align: right;\">0</td></tr><tr><td class = \"rowNumber\" style = \"font-weight: bold; text-align: right;\">24</td><td style = \"text-align: right;\">0</td><td style = \"text-align: right;\">0</td><td style = \"text-align: right;\">0</td><td style = \"text-align: right;\">0</td><td style = \"text-align: right;\">0</td><td style = \"text-align: right;\">0</td><td style = \"text-align: right;\">0</td><td style = \"text-align: right;\">0</td><td style = \"text-align: right;\">0</td><td style = \"text-align: right;\">0</td><td style = \"text-align: right;\">0</td><td style = \"text-align: right;\">0</td><td style = \"text-align: right;\">0</td><td style = \"text-align: right;\">0</td><td style = \"text-align: right;\">0</td><td style = \"text-align: right;\">0</td><td style = \"text-align: right;\">0</td><td style = \"text-align: right;\">0</td><td style = \"text-align: right;\">0</td><td style = \"text-align: right;\">0</td><td style = \"text-align: right;\">0</td><td style = \"text-align: right;\">0</td><td style = \"text-align: right;\">0</td><td style = \"text-align: right;\">0</td></tr></tbody></table></div>"
      ],
      "text/latex": [
       "\\begin{tabular}{r|ccccccccccccc}\n",
       "\t& 1 & 2 & 3 & 4 & 5 & 6 & 7 & 8 & 9 & 10 & 11 & 12 & \\\\\n",
       "\t\\hline\n",
       "\t& Int64 & Int64 & Int64 & Int64 & Int64 & Int64 & Int64 & Int64 & Int64 & Int64 & Int64 & Int64 & \\\\\n",
       "\t\\hline\n",
       "\t1 & 0 & 0 & 0 & 0 & 0 & 0 & 0 & 0 & 0 & 0 & 0 & 0 & $\\dots$ \\\\\n",
       "\t2 & 0 & 0 & 0 & 0 & 0 & 1 & 0 & 1 & 0 & 0 & 0 & 0 & $\\dots$ \\\\\n",
       "\t3 & 0 & 0 & 0 & 0 & 0 & 1 & 0 & 1 & 0 & 0 & 0 & 0 & $\\dots$ \\\\\n",
       "\t4 & 0 & 0 & 0 & 0 & 0 & 1 & 0 & 0 & 0 & 0 & 0 & 0 & $\\dots$ \\\\\n",
       "\t5 & 0 & 0 & 0 & 0 & 0 & 1 & 0 & 0 & 0 & 0 & 0 & 0 & $\\dots$ \\\\\n",
       "\t6 & 0 & 1 & 1 & 1 & 1 & 0 & 0 & 1 & 0 & 0 & 0 & 0 & $\\dots$ \\\\\n",
       "\t7 & 0 & 0 & 0 & 0 & 0 & 0 & 0 & 0 & 0 & 0 & 0 & 0 & $\\dots$ \\\\\n",
       "\t8 & 0 & 1 & 1 & 0 & 0 & 1 & 0 & 0 & 0 & 0 & 0 & 0 & $\\dots$ \\\\\n",
       "\t9 & 0 & 0 & 0 & 0 & 0 & 0 & 0 & 0 & 0 & 0 & 0 & 0 & $\\dots$ \\\\\n",
       "\t10 & 0 & 0 & 0 & 0 & 0 & 0 & 0 & 0 & 0 & 0 & 0 & 0 & $\\dots$ \\\\\n",
       "\t11 & 0 & 0 & 0 & 0 & 0 & 0 & 0 & 0 & 0 & 0 & 0 & 0 & $\\dots$ \\\\\n",
       "\t12 & 0 & 0 & 0 & 0 & 0 & 0 & 0 & 0 & 0 & 0 & 0 & 0 & $\\dots$ \\\\\n",
       "\t13 & 0 & 1 & 1 & 0 & 0 & 2 & 0 & 1 & 0 & 0 & 0 & 0 & $\\dots$ \\\\\n",
       "\t14 & 0 & 0 & 0 & 0 & 0 & 1 & 0 & 0 & 0 & 0 & 0 & 0 & $\\dots$ \\\\\n",
       "\t15 & 0 & 0 & 0 & 0 & 0 & 0 & 0 & 0 & 0 & 0 & 0 & 0 & $\\dots$ \\\\\n",
       "\t16 & 0 & 0 & 0 & 0 & 0 & 1 & 0 & 0 & 0 & 0 & 0 & 0 & $\\dots$ \\\\\n",
       "\t17 & 0 & 1 & 1 & 1 & 1 & 3 & 0 & 2 & 0 & 0 & 0 & 0 & $\\dots$ \\\\\n",
       "\t18 & 0 & 0 & 0 & 0 & 0 & 0 & 0 & 0 & 0 & 0 & 0 & 0 & $\\dots$ \\\\\n",
       "\t19 & 0 & 0 & 0 & 0 & 0 & 0 & 0 & 0 & 0 & 0 & 0 & 0 & $\\dots$ \\\\\n",
       "\t20 & 0 & 0 & 0 & 0 & 0 & 0 & 0 & 0 & 0 & 0 & 0 & 0 & $\\dots$ \\\\\n",
       "\t21 & 0 & 0 & 0 & 0 & 0 & 0 & 0 & 0 & 0 & 0 & 0 & 0 & $\\dots$ \\\\\n",
       "\t22 & 0 & 0 & 0 & 0 & 0 & 1 & 0 & 0 & 0 & 0 & 0 & 0 & $\\dots$ \\\\\n",
       "\t23 & 0 & 0 & 0 & 0 & 0 & 1 & 0 & 1 & 0 & 0 & 0 & 0 & $\\dots$ \\\\\n",
       "\t24 & 0 & 0 & 0 & 0 & 0 & 0 & 0 & 0 & 0 & 0 & 0 & 0 & $\\dots$ \\\\\n",
       "\\end{tabular}\n"
      ],
      "text/plain": [
       "\u001b[1m24×24 DataFrame\n",
       "\u001b[1m Row │\u001b[1m 1     \u001b[1m 2     \u001b[1m 3     \u001b[1m 4     \u001b[1m 5     \u001b[1m 6     \u001b[1m 7     \u001b[1m 8     \u001b[1m 9     \u001b[1m 10    \u001b[1m 1 ⋯\n",
       "     │\u001b[90m Int64 \u001b[90m Int64 \u001b[90m Int64 \u001b[90m Int64 \u001b[90m Int64 \u001b[90m Int64 \u001b[90m Int64 \u001b[90m Int64 \u001b[90m Int64 \u001b[90m Int64 \u001b[90m I ⋯\n",
       "─────┼──────────────────────────────────────────────────────────────────────────\n",
       "   1 │     0      0      0      0      0      0      0      0      0      0    ⋯\n",
       "   2 │     0      0      0      0      0      1      0      1      0      0\n",
       "   3 │     0      0      0      0      0      1      0      1      0      0\n",
       "   4 │     0      0      0      0      0      1      0      0      0      0\n",
       "   5 │     0      0      0      0      0      1      0      0      0      0    ⋯\n",
       "   6 │     0      1      1      1      1      0      0      1      0      0\n",
       "   7 │     0      0      0      0      0      0      0      0      0      0\n",
       "   8 │     0      1      1      0      0      1      0      0      0      0\n",
       "   9 │     0      0      0      0      0      0      0      0      0      0    ⋯\n",
       "  10 │     0      0      0      0      0      0      0      0      0      0\n",
       "  11 │     0      0      0      0      0      0      0      0      0      0\n",
       "  ⋮  │   ⋮      ⋮      ⋮      ⋮      ⋮      ⋮      ⋮      ⋮      ⋮      ⋮      ⋱\n",
       "  15 │     0      0      0      0      0      0      0      0      0      0\n",
       "  16 │     0      0      0      0      0      1      0      0      0      0    ⋯\n",
       "  17 │     0      1      1      1      1      3      0      2      0      0\n",
       "  18 │     0      0      0      0      0      0      0      0      0      0\n",
       "  19 │     0      0      0      0      0      0      0      0      0      0\n",
       "  20 │     0      0      0      0      0      0      0      0      0      0    ⋯\n",
       "  21 │     0      0      0      0      0      0      0      0      0      0\n",
       "  22 │     0      0      0      0      0      1      0      0      0      0\n",
       "  23 │     0      0      0      0      0      1      0      1      0      0\n",
       "  24 │     0      0      0      0      0      0      0      0      0      0    ⋯\n",
       "\u001b[36m                                                   14 columns and 3 rows omitted"
      ]
     },
     "execution_count": 29,
     "metadata": {},
     "output_type": "execute_result"
    }
   ],
   "source": [
    "hospital_mapping = hospital_mapping[:,2:end]"
   ]
  },
  {
   "cell_type": "code",
   "execution_count": 30,
   "id": "bf7944c7",
   "metadata": {},
   "outputs": [],
   "source": [
    "patient_hospital_mapping = []\n",
    "max_transfers = maximum(Matrix(hospital_mapping))\n",
    "for i=1:max_transfers\n",
    "    transfers = sort(Tuple.(findall(>=(i), Matrix(hospital_mapping))))\n",
    "    for item in transfers\n",
    "        push!(patient_hospital_mapping, item)\n",
    "    end\n",
    "#    push!(patient_hospital_mapping, sort(Tuple.(findall(>=(i), Matrix(hospital_mapping))))[0])\n",
    "end"
   ]
  },
  {
   "cell_type": "code",
   "execution_count": 31,
   "id": "519e81d7",
   "metadata": {},
   "outputs": [
    {
     "data": {
      "text/html": [
       "<div><div style = \"float: left;\"><span>70×2 DataFrame</span></div><div style = \"float: right;\"><span style = \"font-style: italic;\">45 rows omitted</span></div><div style = \"clear: both;\"></div></div><div class = \"data-frame\" style = \"overflow-x: scroll;\"><table class = \"data-frame\" style = \"margin-bottom: 6px;\"><thead><tr class = \"header\"><th class = \"rowNumber\" style = \"font-weight: bold; text-align: right;\">Row</th><th style = \"text-align: left;\">1</th><th style = \"text-align: left;\">2</th></tr><tr class = \"subheader headerLastRow\"><th class = \"rowNumber\" style = \"font-weight: bold; text-align: right;\"></th><th title = \"Int64\" style = \"text-align: left;\">Int64</th><th title = \"Int64\" style = \"text-align: left;\">Int64</th></tr></thead><tbody><tr><td class = \"rowNumber\" style = \"font-weight: bold; text-align: right;\">1</td><td style = \"text-align: right;\">2</td><td style = \"text-align: right;\">6</td></tr><tr><td class = \"rowNumber\" style = \"font-weight: bold; text-align: right;\">2</td><td style = \"text-align: right;\">2</td><td style = \"text-align: right;\">8</td></tr><tr><td class = \"rowNumber\" style = \"font-weight: bold; text-align: right;\">3</td><td style = \"text-align: right;\">2</td><td style = \"text-align: right;\">13</td></tr><tr><td class = \"rowNumber\" style = \"font-weight: bold; text-align: right;\">4</td><td style = \"text-align: right;\">2</td><td style = \"text-align: right;\">17</td></tr><tr><td class = \"rowNumber\" style = \"font-weight: bold; text-align: right;\">5</td><td style = \"text-align: right;\">3</td><td style = \"text-align: right;\">6</td></tr><tr><td class = \"rowNumber\" style = \"font-weight: bold; text-align: right;\">6</td><td style = \"text-align: right;\">3</td><td style = \"text-align: right;\">8</td></tr><tr><td class = \"rowNumber\" style = \"font-weight: bold; text-align: right;\">7</td><td style = \"text-align: right;\">3</td><td style = \"text-align: right;\">13</td></tr><tr><td class = \"rowNumber\" style = \"font-weight: bold; text-align: right;\">8</td><td style = \"text-align: right;\">3</td><td style = \"text-align: right;\">17</td></tr><tr><td class = \"rowNumber\" style = \"font-weight: bold; text-align: right;\">9</td><td style = \"text-align: right;\">4</td><td style = \"text-align: right;\">6</td></tr><tr><td class = \"rowNumber\" style = \"font-weight: bold; text-align: right;\">10</td><td style = \"text-align: right;\">4</td><td style = \"text-align: right;\">17</td></tr><tr><td class = \"rowNumber\" style = \"font-weight: bold; text-align: right;\">11</td><td style = \"text-align: right;\">5</td><td style = \"text-align: right;\">6</td></tr><tr><td class = \"rowNumber\" style = \"font-weight: bold; text-align: right;\">12</td><td style = \"text-align: right;\">5</td><td style = \"text-align: right;\">17</td></tr><tr><td class = \"rowNumber\" style = \"font-weight: bold; text-align: right;\">13</td><td style = \"text-align: right;\">6</td><td style = \"text-align: right;\">2</td></tr><tr><td style = \"text-align: right;\">&vellip;</td><td style = \"text-align: right;\">&vellip;</td><td style = \"text-align: right;\">&vellip;</td></tr><tr><td class = \"rowNumber\" style = \"font-weight: bold; text-align: right;\">59</td><td style = \"text-align: right;\">23</td><td style = \"text-align: right;\">13</td></tr><tr><td class = \"rowNumber\" style = \"font-weight: bold; text-align: right;\">60</td><td style = \"text-align: right;\">23</td><td style = \"text-align: right;\">17</td></tr><tr><td class = \"rowNumber\" style = \"font-weight: bold; text-align: right;\">61</td><td style = \"text-align: right;\">6</td><td style = \"text-align: right;\">13</td></tr><tr><td class = \"rowNumber\" style = \"font-weight: bold; text-align: right;\">62</td><td style = \"text-align: right;\">6</td><td style = \"text-align: right;\">17</td></tr><tr><td class = \"rowNumber\" style = \"font-weight: bold; text-align: right;\">63</td><td style = \"text-align: right;\">8</td><td style = \"text-align: right;\">17</td></tr><tr><td class = \"rowNumber\" style = \"font-weight: bold; text-align: right;\">64</td><td style = \"text-align: right;\">13</td><td style = \"text-align: right;\">6</td></tr><tr><td class = \"rowNumber\" style = \"font-weight: bold; text-align: right;\">65</td><td style = \"text-align: right;\">13</td><td style = \"text-align: right;\">17</td></tr><tr><td class = \"rowNumber\" style = \"font-weight: bold; text-align: right;\">66</td><td style = \"text-align: right;\">17</td><td style = \"text-align: right;\">6</td></tr><tr><td class = \"rowNumber\" style = \"font-weight: bold; text-align: right;\">67</td><td style = \"text-align: right;\">17</td><td style = \"text-align: right;\">8</td></tr><tr><td class = \"rowNumber\" style = \"font-weight: bold; text-align: right;\">68</td><td style = \"text-align: right;\">17</td><td style = \"text-align: right;\">13</td></tr><tr><td class = \"rowNumber\" style = \"font-weight: bold; text-align: right;\">69</td><td style = \"text-align: right;\">6</td><td style = \"text-align: right;\">17</td></tr><tr><td class = \"rowNumber\" style = \"font-weight: bold; text-align: right;\">70</td><td style = \"text-align: right;\">17</td><td style = \"text-align: right;\">6</td></tr></tbody></table></div>"
      ],
      "text/latex": [
       "\\begin{tabular}{r|cc}\n",
       "\t& 1 & 2\\\\\n",
       "\t\\hline\n",
       "\t& Int64 & Int64\\\\\n",
       "\t\\hline\n",
       "\t1 & 2 & 6 \\\\\n",
       "\t2 & 2 & 8 \\\\\n",
       "\t3 & 2 & 13 \\\\\n",
       "\t4 & 2 & 17 \\\\\n",
       "\t5 & 3 & 6 \\\\\n",
       "\t6 & 3 & 8 \\\\\n",
       "\t7 & 3 & 13 \\\\\n",
       "\t8 & 3 & 17 \\\\\n",
       "\t9 & 4 & 6 \\\\\n",
       "\t10 & 4 & 17 \\\\\n",
       "\t11 & 5 & 6 \\\\\n",
       "\t12 & 5 & 17 \\\\\n",
       "\t13 & 6 & 2 \\\\\n",
       "\t14 & 6 & 3 \\\\\n",
       "\t15 & 6 & 4 \\\\\n",
       "\t16 & 6 & 5 \\\\\n",
       "\t17 & 6 & 8 \\\\\n",
       "\t18 & 6 & 13 \\\\\n",
       "\t19 & 6 & 14 \\\\\n",
       "\t20 & 6 & 16 \\\\\n",
       "\t21 & 6 & 17 \\\\\n",
       "\t22 & 6 & 22 \\\\\n",
       "\t23 & 6 & 23 \\\\\n",
       "\t24 & 8 & 2 \\\\\n",
       "\t25 & 8 & 3 \\\\\n",
       "\t26 & 8 & 6 \\\\\n",
       "\t27 & 8 & 13 \\\\\n",
       "\t28 & 8 & 17 \\\\\n",
       "\t29 & 8 & 23 \\\\\n",
       "\t30 & 13 & 2 \\\\\n",
       "\t$\\dots$ & $\\dots$ & $\\dots$ \\\\\n",
       "\\end{tabular}\n"
      ],
      "text/plain": [
       "\u001b[1m70×2 DataFrame\n",
       "\u001b[1m Row │\u001b[1m 1     \u001b[1m 2\n",
       "     │\u001b[90m Int64 \u001b[90m Int64\n",
       "─────┼──────────────\n",
       "   1 │     2      6\n",
       "   2 │     2      8\n",
       "   3 │     2     13\n",
       "   4 │     2     17\n",
       "   5 │     3      6\n",
       "   6 │     3      8\n",
       "   7 │     3     13\n",
       "   8 │     3     17\n",
       "   9 │     4      6\n",
       "  10 │     4     17\n",
       "  11 │     5      6\n",
       "  ⋮  │   ⋮      ⋮\n",
       "  61 │     6     13\n",
       "  62 │     6     17\n",
       "  63 │     8     17\n",
       "  64 │    13      6\n",
       "  65 │    13     17\n",
       "  66 │    17      6\n",
       "  67 │    17      8\n",
       "  68 │    17     13\n",
       "  69 │     6     17\n",
       "  70 │    17      6\n",
       "\u001b[36m     49 rows omitted"
      ]
     },
     "execution_count": 31,
     "metadata": {},
     "output_type": "execute_result"
    }
   ],
   "source": [
    "df_patient_hospital_mapping = DataFrame(patient_hospital_mapping)"
   ]
  },
  {
   "cell_type": "code",
   "execution_count": 32,
   "id": "3a1a27a0",
   "metadata": {},
   "outputs": [],
   "source": [
    "# CSV.write(\"../data/new_formulation/df_patient_hospital_mapping.csv\", df_patient_hospital_mapping)"
   ]
  },
  {
   "cell_type": "code",
   "execution_count": null,
   "id": "d7399312",
   "metadata": {},
   "outputs": [],
   "source": []
  },
  {
   "cell_type": "code",
   "execution_count": null,
   "id": "c8eb9133",
   "metadata": {},
   "outputs": [],
   "source": []
  },
  {
   "cell_type": "code",
   "execution_count": 33,
   "id": "66ddb872",
   "metadata": {},
   "outputs": [
    {
     "data": {
      "text/html": [
       "<div><div style = \"float: left;\"><span>2×1 DataFrame</span></div><div style = \"clear: both;\"></div></div><div class = \"data-frame\" style = \"overflow-x: scroll;\"><table class = \"data-frame\" style = \"margin-bottom: 6px;\"><thead><tr class = \"header\"><th class = \"rowNumber\" style = \"font-weight: bold; text-align: right;\">Row</th><th style = \"text-align: left;\">cost_per_km</th></tr><tr class = \"subheader headerLastRow\"><th class = \"rowNumber\" style = \"font-weight: bold; text-align: right;\"></th><th title = \"Float64\" style = \"text-align: left;\">Float64</th></tr></thead><tbody><tr><td class = \"rowNumber\" style = \"font-weight: bold; text-align: right;\">1</td><td style = \"text-align: right;\">0.01</td></tr><tr><td class = \"rowNumber\" style = \"font-weight: bold; text-align: right;\">2</td><td style = \"text-align: right;\">0.002</td></tr></tbody></table></div>"
      ],
      "text/latex": [
       "\\begin{tabular}{r|c}\n",
       "\t& cost\\_per\\_km\\\\\n",
       "\t\\hline\n",
       "\t& Float64\\\\\n",
       "\t\\hline\n",
       "\t1 & 0.01 \\\\\n",
       "\t2 & 0.002 \\\\\n",
       "\\end{tabular}\n"
      ],
      "text/plain": [
       "\u001b[1m2×1 DataFrame\n",
       "\u001b[1m Row │\u001b[1m cost_per_km\n",
       "     │\u001b[90m Float64\n",
       "─────┼─────────────\n",
       "   1 │       0.01\n",
       "   2 │       0.002"
      ]
     },
     "execution_count": 33,
     "metadata": {},
     "output_type": "execute_result"
    }
   ],
   "source": [
    "distance_cost_vehicle_type_mapping = distance_cost_vehicle_type_mapping[:,2:end]"
   ]
  },
  {
   "cell_type": "code",
   "execution_count": 34,
   "id": "851e5d95",
   "metadata": {},
   "outputs": [
    {
     "data": {
      "text/html": [
       "<div><div style = \"float: left;\"><span>2×1 DataFrame</span></div><div style = \"clear: both;\"></div></div><div class = \"data-frame\" style = \"overflow-x: scroll;\"><table class = \"data-frame\" style = \"margin-bottom: 6px;\"><thead><tr class = \"header\"><th class = \"rowNumber\" style = \"font-weight: bold; text-align: right;\">Row</th><th style = \"text-align: left;\">fixed_cost</th></tr><tr class = \"subheader headerLastRow\"><th class = \"rowNumber\" style = \"font-weight: bold; text-align: right;\"></th><th title = \"Int64\" style = \"text-align: left;\">Int64</th></tr></thead><tbody><tr><td class = \"rowNumber\" style = \"font-weight: bold; text-align: right;\">1</td><td style = \"text-align: right;\">100</td></tr><tr><td class = \"rowNumber\" style = \"font-weight: bold; text-align: right;\">2</td><td style = \"text-align: right;\">200</td></tr></tbody></table></div>"
      ],
      "text/latex": [
       "\\begin{tabular}{r|c}\n",
       "\t& fixed\\_cost\\\\\n",
       "\t\\hline\n",
       "\t& Int64\\\\\n",
       "\t\\hline\n",
       "\t1 & 100 \\\\\n",
       "\t2 & 200 \\\\\n",
       "\\end{tabular}\n"
      ],
      "text/plain": [
       "\u001b[1m2×1 DataFrame\n",
       "\u001b[1m Row │\u001b[1m fixed_cost\n",
       "     │\u001b[90m Int64\n",
       "─────┼────────────\n",
       "   1 │        100\n",
       "   2 │        200"
      ]
     },
     "execution_count": 34,
     "metadata": {},
     "output_type": "execute_result"
    }
   ],
   "source": [
    "fixed_cost_vehicle_type_mapping = fixed_cost_vehicle_type_mapping[:,2:end]"
   ]
  },
  {
   "cell_type": "code",
   "execution_count": 35,
   "id": "bb5732c9",
   "metadata": {},
   "outputs": [
    {
     "data": {
      "text/html": [
       "<div><div style = \"float: left;\"><span>10×1 DataFrame</span></div><div style = \"clear: both;\"></div></div><div class = \"data-frame\" style = \"overflow-x: scroll;\"><table class = \"data-frame\" style = \"margin-bottom: 6px;\"><thead><tr class = \"header\"><th class = \"rowNumber\" style = \"font-weight: bold; text-align: right;\">Row</th><th style = \"text-align: left;\">depot_num</th></tr><tr class = \"subheader headerLastRow\"><th class = \"rowNumber\" style = \"font-weight: bold; text-align: right;\"></th><th title = \"Int64\" style = \"text-align: left;\">Int64</th></tr></thead><tbody><tr><td class = \"rowNumber\" style = \"font-weight: bold; text-align: right;\">1</td><td style = \"text-align: right;\">1</td></tr><tr><td class = \"rowNumber\" style = \"font-weight: bold; text-align: right;\">2</td><td style = \"text-align: right;\">1</td></tr><tr><td class = \"rowNumber\" style = \"font-weight: bold; text-align: right;\">3</td><td style = \"text-align: right;\">1</td></tr><tr><td class = \"rowNumber\" style = \"font-weight: bold; text-align: right;\">4</td><td style = \"text-align: right;\">1</td></tr><tr><td class = \"rowNumber\" style = \"font-weight: bold; text-align: right;\">5</td><td style = \"text-align: right;\">2</td></tr><tr><td class = \"rowNumber\" style = \"font-weight: bold; text-align: right;\">6</td><td style = \"text-align: right;\">1</td></tr><tr><td class = \"rowNumber\" style = \"font-weight: bold; text-align: right;\">7</td><td style = \"text-align: right;\">2</td></tr><tr><td class = \"rowNumber\" style = \"font-weight: bold; text-align: right;\">8</td><td style = \"text-align: right;\">2</td></tr><tr><td class = \"rowNumber\" style = \"font-weight: bold; text-align: right;\">9</td><td style = \"text-align: right;\">1</td></tr><tr><td class = \"rowNumber\" style = \"font-weight: bold; text-align: right;\">10</td><td style = \"text-align: right;\">2</td></tr></tbody></table></div>"
      ],
      "text/latex": [
       "\\begin{tabular}{r|c}\n",
       "\t& depot\\_num\\\\\n",
       "\t\\hline\n",
       "\t& Int64\\\\\n",
       "\t\\hline\n",
       "\t1 & 1 \\\\\n",
       "\t2 & 1 \\\\\n",
       "\t3 & 1 \\\\\n",
       "\t4 & 1 \\\\\n",
       "\t5 & 2 \\\\\n",
       "\t6 & 1 \\\\\n",
       "\t7 & 2 \\\\\n",
       "\t8 & 2 \\\\\n",
       "\t9 & 1 \\\\\n",
       "\t10 & 2 \\\\\n",
       "\\end{tabular}\n"
      ],
      "text/plain": [
       "\u001b[1m10×1 DataFrame\n",
       "\u001b[1m Row │\u001b[1m depot_num\n",
       "     │\u001b[90m Int64\n",
       "─────┼───────────\n",
       "   1 │         1\n",
       "   2 │         1\n",
       "   3 │         1\n",
       "   4 │         1\n",
       "   5 │         2\n",
       "   6 │         1\n",
       "   7 │         2\n",
       "   8 │         2\n",
       "   9 │         1\n",
       "  10 │         2"
      ]
     },
     "execution_count": 35,
     "metadata": {},
     "output_type": "execute_result"
    }
   ],
   "source": [
    "vehicle_depot_mapping = vehicle_depot_mapping[:,2:end]"
   ]
  },
  {
   "cell_type": "code",
   "execution_count": 36,
   "id": "d7d78483",
   "metadata": {},
   "outputs": [
    {
     "data": {
      "text/html": [
       "<div><div style = \"float: left;\"><span>142×142 DataFrame</span></div><div style = \"float: right;\"><span style = \"font-style: italic;\">42 columns and 117 rows omitted</span></div><div style = \"clear: both;\"></div></div><div class = \"data-frame\" style = \"overflow-x: scroll;\"><table class = \"data-frame\" style = \"margin-bottom: 6px;\"><thead><tr class = \"header\"><th class = \"rowNumber\" style = \"font-weight: bold; text-align: right;\">Row</th><th style = \"text-align: left;\">Depot 1</th><th style = \"text-align: left;\">Depot 2</th><th style = \"text-align: left;\">Patient 1</th><th style = \"text-align: left;\">Patient 2</th><th style = \"text-align: left;\">Patient 3</th><th style = \"text-align: left;\">Patient 4</th><th style = \"text-align: left;\">Patient 5</th><th style = \"text-align: left;\">Patient 6</th><th style = \"text-align: left;\">Patient 7</th><th style = \"text-align: left;\">Patient 8</th><th style = \"text-align: left;\">Patient 9</th><th style = \"text-align: left;\">Patient 10</th><th style = \"text-align: left;\">Patient 11</th><th style = \"text-align: left;\">Patient 12</th><th style = \"text-align: left;\">Patient 13</th><th style = \"text-align: left;\">Patient 14</th><th style = \"text-align: left;\">Patient 15</th><th style = \"text-align: left;\">Patient 16</th><th style = \"text-align: left;\">Patient 17</th><th style = \"text-align: left;\">Patient 18</th><th style = \"text-align: left;\">Patient 19</th><th style = \"text-align: left;\">Patient 20</th><th style = \"text-align: left;\">Patient 21</th><th style = \"text-align: left;\">Patient 22</th><th style = \"text-align: left;\">Patient 23</th><th style = \"text-align: left;\">Patient 24</th><th style = \"text-align: left;\">Patient 25</th><th style = \"text-align: left;\">Patient 26</th><th style = \"text-align: left;\">Patient 27</th><th style = \"text-align: left;\">Patient 28</th><th style = \"text-align: left;\">Patient 29</th><th style = \"text-align: left;\">Patient 30</th><th style = \"text-align: left;\">Patient 31</th><th style = \"text-align: left;\">Patient 32</th><th style = \"text-align: left;\">Patient 33</th><th style = \"text-align: left;\">Patient 34</th><th style = \"text-align: left;\">Patient 35</th><th style = \"text-align: left;\">Patient 36</th><th style = \"text-align: left;\">Patient 37</th><th style = \"text-align: left;\">Patient 38</th><th style = \"text-align: left;\">Patient 39</th><th style = \"text-align: left;\">Patient 40</th><th style = \"text-align: left;\">Patient 41</th><th style = \"text-align: left;\">Patient 42</th><th style = \"text-align: left;\">Patient 43</th><th style = \"text-align: left;\">Patient 44</th><th style = \"text-align: left;\">Patient 45</th><th style = \"text-align: left;\">Patient 46</th><th style = \"text-align: left;\">Patient 47</th><th style = \"text-align: left;\">Patient 48</th><th style = \"text-align: left;\">Patient 49</th><th style = \"text-align: left;\">Patient 50</th><th style = \"text-align: left;\">Patient 51</th><th style = \"text-align: left;\">Patient 52</th><th style = \"text-align: left;\">Patient 53</th><th style = \"text-align: left;\">Patient 54</th><th style = \"text-align: left;\">Patient 55</th><th style = \"text-align: left;\">Patient 56</th><th style = \"text-align: left;\">Patient 57</th><th style = \"text-align: left;\">Patient 58</th><th style = \"text-align: left;\">Patient 59</th><th style = \"text-align: left;\">Patient 60</th><th style = \"text-align: left;\">Patient 61</th><th style = \"text-align: left;\">Patient 62</th><th style = \"text-align: left;\">Patient 63</th><th style = \"text-align: left;\">Patient 64</th><th style = \"text-align: left;\">Patient 65</th><th style = \"text-align: left;\">Patient 66</th><th style = \"text-align: left;\">Patient 67</th><th style = \"text-align: left;\">Patient 68</th><th style = \"text-align: left;\">Patient 69</th><th style = \"text-align: left;\">Patient 70</th><th style = \"text-align: left;\">Dest Patient1</th><th style = \"text-align: left;\">Dest Patient2</th><th style = \"text-align: left;\">Dest Patient3</th><th style = \"text-align: left;\">Dest Patient4</th><th style = \"text-align: left;\">Dest Patient5</th><th style = \"text-align: left;\">Dest Patient6</th><th style = \"text-align: left;\">Dest Patient7</th><th style = \"text-align: left;\">Dest Patient8</th><th style = \"text-align: left;\">Dest Patient9</th><th style = \"text-align: left;\">Dest Patient10</th><th style = \"text-align: left;\">Dest Patient11</th><th style = \"text-align: left;\">Dest Patient12</th><th style = \"text-align: left;\">Dest Patient13</th><th style = \"text-align: left;\">Dest Patient14</th><th style = \"text-align: left;\">Dest Patient15</th><th style = \"text-align: left;\">Dest Patient16</th><th style = \"text-align: left;\">Dest Patient17</th><th style = \"text-align: left;\">Dest Patient18</th><th style = \"text-align: left;\">Dest Patient19</th><th style = \"text-align: left;\">Dest Patient20</th><th style = \"text-align: left;\">Dest Patient21</th><th style = \"text-align: left;\">Dest Patient22</th><th style = \"text-align: left;\">Dest Patient23</th><th style = \"text-align: left;\">Dest Patient24</th><th style = \"text-align: left;\">Dest Patient25</th><th style = \"text-align: left;\">Dest Patient26</th><th style = \"text-align: left;\">Dest Patient27</th><th style = \"text-align: left;\">Dest Patient28</th><th style = \"text-align: right;\">&ctdot;</th></tr><tr class = \"subheader headerLastRow\"><th class = \"rowNumber\" style = \"font-weight: bold; text-align: right;\"></th><th title = \"Int64\" style = \"text-align: left;\">Int64</th><th title = \"Int64\" style = \"text-align: left;\">Int64</th><th title = \"Int64\" style = \"text-align: left;\">Int64</th><th title = \"Int64\" style = \"text-align: left;\">Int64</th><th title = \"Int64\" style = \"text-align: left;\">Int64</th><th title = \"Int64\" style = \"text-align: left;\">Int64</th><th title = \"Int64\" style = \"text-align: left;\">Int64</th><th title = \"Int64\" style = \"text-align: left;\">Int64</th><th title = \"Int64\" style = \"text-align: left;\">Int64</th><th title = \"Int64\" style = \"text-align: left;\">Int64</th><th title = \"Int64\" style = \"text-align: left;\">Int64</th><th title = \"Int64\" style = \"text-align: left;\">Int64</th><th title = \"Int64\" style = \"text-align: left;\">Int64</th><th title = \"Int64\" style = \"text-align: left;\">Int64</th><th title = \"Int64\" style = \"text-align: left;\">Int64</th><th title = \"Int64\" style = \"text-align: left;\">Int64</th><th title = \"Int64\" style = \"text-align: left;\">Int64</th><th title = \"Int64\" style = \"text-align: left;\">Int64</th><th title = \"Int64\" style = \"text-align: left;\">Int64</th><th title = \"Int64\" style = \"text-align: left;\">Int64</th><th title = \"Int64\" style = \"text-align: left;\">Int64</th><th title = \"Int64\" style = \"text-align: left;\">Int64</th><th title = \"Int64\" style = \"text-align: left;\">Int64</th><th title = \"Int64\" style = \"text-align: left;\">Int64</th><th title = \"Int64\" style = \"text-align: left;\">Int64</th><th title = \"Int64\" style = \"text-align: left;\">Int64</th><th title = \"Int64\" style = \"text-align: left;\">Int64</th><th title = \"Int64\" style = \"text-align: left;\">Int64</th><th title = \"Int64\" style = \"text-align: left;\">Int64</th><th title = \"Int64\" style = \"text-align: left;\">Int64</th><th title = \"Int64\" style = \"text-align: left;\">Int64</th><th title = \"Int64\" style = \"text-align: left;\">Int64</th><th title = \"Int64\" style = \"text-align: left;\">Int64</th><th title = \"Int64\" style = \"text-align: left;\">Int64</th><th title = \"Int64\" style = \"text-align: left;\">Int64</th><th title = \"Int64\" style = \"text-align: left;\">Int64</th><th title = \"Int64\" style = \"text-align: left;\">Int64</th><th title = \"Int64\" style = \"text-align: left;\">Int64</th><th title = \"Int64\" style = \"text-align: left;\">Int64</th><th title = \"Int64\" style = \"text-align: left;\">Int64</th><th title = \"Int64\" style = \"text-align: left;\">Int64</th><th title = \"Int64\" style = \"text-align: left;\">Int64</th><th title = \"Int64\" style = \"text-align: left;\">Int64</th><th title = \"Int64\" style = \"text-align: left;\">Int64</th><th title = \"Int64\" style = \"text-align: left;\">Int64</th><th title = \"Int64\" style = \"text-align: left;\">Int64</th><th title = \"Int64\" style = \"text-align: left;\">Int64</th><th title = \"Int64\" style = \"text-align: left;\">Int64</th><th title = \"Int64\" style = \"text-align: left;\">Int64</th><th title = \"Int64\" style = \"text-align: left;\">Int64</th><th title = \"Int64\" style = \"text-align: left;\">Int64</th><th title = \"Int64\" style = \"text-align: left;\">Int64</th><th title = \"Int64\" style = \"text-align: left;\">Int64</th><th title = \"Int64\" style = \"text-align: left;\">Int64</th><th title = \"Int64\" style = \"text-align: left;\">Int64</th><th title = \"Int64\" style = \"text-align: left;\">Int64</th><th title = \"Int64\" style = \"text-align: left;\">Int64</th><th title = \"Int64\" style = \"text-align: left;\">Int64</th><th title = \"Int64\" style = \"text-align: left;\">Int64</th><th title = \"Int64\" style = \"text-align: left;\">Int64</th><th title = \"Int64\" style = \"text-align: left;\">Int64</th><th title = \"Int64\" style = \"text-align: left;\">Int64</th><th title = \"Int64\" style = \"text-align: left;\">Int64</th><th title = \"Int64\" style = \"text-align: left;\">Int64</th><th title = \"Int64\" style = \"text-align: left;\">Int64</th><th title = \"Int64\" style = \"text-align: left;\">Int64</th><th title = \"Int64\" style = \"text-align: left;\">Int64</th><th title = \"Int64\" style = \"text-align: left;\">Int64</th><th title = \"Int64\" style = \"text-align: left;\">Int64</th><th title = \"Int64\" style = \"text-align: left;\">Int64</th><th title = \"Int64\" style = \"text-align: left;\">Int64</th><th title = \"Int64\" style = \"text-align: left;\">Int64</th><th title = \"Int64\" style = \"text-align: left;\">Int64</th><th title = \"Int64\" style = \"text-align: left;\">Int64</th><th title = \"Int64\" style = \"text-align: left;\">Int64</th><th title = \"Int64\" style = \"text-align: left;\">Int64</th><th title = \"Int64\" style = \"text-align: left;\">Int64</th><th title = \"Int64\" style = \"text-align: left;\">Int64</th><th title = \"Int64\" style = \"text-align: left;\">Int64</th><th title = \"Int64\" style = \"text-align: left;\">Int64</th><th title = \"Int64\" style = \"text-align: left;\">Int64</th><th title = \"Int64\" style = \"text-align: left;\">Int64</th><th title = \"Int64\" style = \"text-align: left;\">Int64</th><th title = \"Int64\" style = \"text-align: left;\">Int64</th><th title = \"Int64\" style = \"text-align: left;\">Int64</th><th title = \"Int64\" style = \"text-align: left;\">Int64</th><th title = \"Int64\" style = \"text-align: left;\">Int64</th><th title = \"Int64\" style = \"text-align: left;\">Int64</th><th title = \"Int64\" style = \"text-align: left;\">Int64</th><th title = \"Int64\" style = \"text-align: left;\">Int64</th><th title = \"Int64\" style = \"text-align: left;\">Int64</th><th title = \"Int64\" style = \"text-align: left;\">Int64</th><th title = \"Int64\" style = \"text-align: left;\">Int64</th><th title = \"Int64\" style = \"text-align: left;\">Int64</th><th title = \"Int64\" style = \"text-align: left;\">Int64</th><th title = \"Int64\" style = \"text-align: left;\">Int64</th><th title = \"Int64\" style = \"text-align: left;\">Int64</th><th title = \"Int64\" style = \"text-align: left;\">Int64</th><th title = \"Int64\" style = \"text-align: left;\">Int64</th><th title = \"Int64\" style = \"text-align: left;\">Int64</th><th title = \"Int64\" style = \"text-align: right;\">&ctdot;</th></tr></thead><tbody><tr><td class = \"rowNumber\" style = \"font-weight: bold; text-align: right;\">1</td><td style = \"text-align: right;\">0</td><td style = \"text-align: right;\">12165</td><td style = \"text-align: right;\">8451</td><td style = \"text-align: right;\">8451</td><td style = \"text-align: right;\">8451</td><td style = \"text-align: right;\">8451</td><td style = \"text-align: right;\">7537</td><td style = \"text-align: right;\">7537</td><td style = \"text-align: right;\">7537</td><td style = \"text-align: right;\">7537</td><td style = \"text-align: right;\">8189</td><td style = \"text-align: right;\">8189</td><td style = \"text-align: right;\">9040</td><td style = \"text-align: right;\">9040</td><td style = \"text-align: right;\">8263</td><td style = \"text-align: right;\">8263</td><td style = \"text-align: right;\">8263</td><td style = \"text-align: right;\">8263</td><td style = \"text-align: right;\">8263</td><td style = \"text-align: right;\">8263</td><td style = \"text-align: right;\">8263</td><td style = \"text-align: right;\">8263</td><td style = \"text-align: right;\">8263</td><td style = \"text-align: right;\">8263</td><td style = \"text-align: right;\">8263</td><td style = \"text-align: right;\">8127</td><td style = \"text-align: right;\">8127</td><td style = \"text-align: right;\">8127</td><td style = \"text-align: right;\">8127</td><td style = \"text-align: right;\">8127</td><td style = \"text-align: right;\">8127</td><td style = \"text-align: right;\">17738</td><td style = \"text-align: right;\">17738</td><td style = \"text-align: right;\">17738</td><td style = \"text-align: right;\">17738</td><td style = \"text-align: right;\">17738</td><td style = \"text-align: right;\">17738</td><td style = \"text-align: right;\">17738</td><td style = \"text-align: right;\">17738</td><td style = \"text-align: right;\">11422</td><td style = \"text-align: right;\">11422</td><td style = \"text-align: right;\">14098</td><td style = \"text-align: right;\">14098</td><td style = \"text-align: right;\">14098</td><td style = \"text-align: right;\">3230</td><td style = \"text-align: right;\">3230</td><td style = \"text-align: right;\">3230</td><td style = \"text-align: right;\">3230</td><td style = \"text-align: right;\">3230</td><td style = \"text-align: right;\">3230</td><td style = \"text-align: right;\">3230</td><td style = \"text-align: right;\">3230</td><td style = \"text-align: right;\">3230</td><td style = \"text-align: right;\">3230</td><td style = \"text-align: right;\">3230</td><td style = \"text-align: right;\">14465</td><td style = \"text-align: right;\">14465</td><td style = \"text-align: right;\">14465</td><td style = \"text-align: right;\">6546</td><td style = \"text-align: right;\">6546</td><td style = \"text-align: right;\">6546</td><td style = \"text-align: right;\">6546</td><td style = \"text-align: right;\">8263</td><td style = \"text-align: right;\">8263</td><td style = \"text-align: right;\">8127</td><td style = \"text-align: right;\">17738</td><td style = \"text-align: right;\">17738</td><td style = \"text-align: right;\">3230</td><td style = \"text-align: right;\">3230</td><td style = \"text-align: right;\">3230</td><td style = \"text-align: right;\">8263</td><td style = \"text-align: right;\">3230</td><td style = \"text-align: right;\">8263</td><td style = \"text-align: right;\">8127</td><td style = \"text-align: right;\">17738</td><td style = \"text-align: right;\">3230</td><td style = \"text-align: right;\">8263</td><td style = \"text-align: right;\">8127</td><td style = \"text-align: right;\">17738</td><td style = \"text-align: right;\">3230</td><td style = \"text-align: right;\">8263</td><td style = \"text-align: right;\">3230</td><td style = \"text-align: right;\">8263</td><td style = \"text-align: right;\">3230</td><td style = \"text-align: right;\">8451</td><td style = \"text-align: right;\">7537</td><td style = \"text-align: right;\">8189</td><td style = \"text-align: right;\">9040</td><td style = \"text-align: right;\">8127</td><td style = \"text-align: right;\">17738</td><td style = \"text-align: right;\">11422</td><td style = \"text-align: right;\">14098</td><td style = \"text-align: right;\">3230</td><td style = \"text-align: right;\">14465</td><td style = \"text-align: right;\">6546</td><td style = \"text-align: right;\">8451</td><td style = \"text-align: right;\">7537</td><td style = \"text-align: right;\">8263</td><td style = \"text-align: right;\">17738</td><td style = \"text-align: right;\">3230</td><td style = \"text-align: right;\">&ctdot;</td></tr><tr><td class = \"rowNumber\" style = \"font-weight: bold; text-align: right;\">2</td><td style = \"text-align: right;\">13531</td><td style = \"text-align: right;\">0</td><td style = \"text-align: right;\">2738</td><td style = \"text-align: right;\">2738</td><td style = \"text-align: right;\">2738</td><td style = \"text-align: right;\">2738</td><td style = \"text-align: right;\">3158</td><td style = \"text-align: right;\">3158</td><td style = \"text-align: right;\">3158</td><td style = \"text-align: right;\">3158</td><td style = \"text-align: right;\">3938</td><td style = \"text-align: right;\">3938</td><td style = \"text-align: right;\">3981</td><td style = \"text-align: right;\">3981</td><td style = \"text-align: right;\">2492</td><td style = \"text-align: right;\">2492</td><td style = \"text-align: right;\">2492</td><td style = \"text-align: right;\">2492</td><td style = \"text-align: right;\">2492</td><td style = \"text-align: right;\">2492</td><td style = \"text-align: right;\">2492</td><td style = \"text-align: right;\">2492</td><td style = \"text-align: right;\">2492</td><td style = \"text-align: right;\">2492</td><td style = \"text-align: right;\">2492</td><td style = \"text-align: right;\">3018</td><td style = \"text-align: right;\">3018</td><td style = \"text-align: right;\">3018</td><td style = \"text-align: right;\">3018</td><td style = \"text-align: right;\">3018</td><td style = \"text-align: right;\">3018</td><td style = \"text-align: right;\">5422</td><td style = \"text-align: right;\">5422</td><td style = \"text-align: right;\">5422</td><td style = \"text-align: right;\">5422</td><td style = \"text-align: right;\">5422</td><td style = \"text-align: right;\">5422</td><td style = \"text-align: right;\">5422</td><td style = \"text-align: right;\">5422</td><td style = \"text-align: right;\">2004</td><td style = \"text-align: right;\">2004</td><td style = \"text-align: right;\">3790</td><td style = \"text-align: right;\">3790</td><td style = \"text-align: right;\">3790</td><td style = \"text-align: right;\">9749</td><td style = \"text-align: right;\">9749</td><td style = \"text-align: right;\">9749</td><td style = \"text-align: right;\">9749</td><td style = \"text-align: right;\">9749</td><td style = \"text-align: right;\">9749</td><td style = \"text-align: right;\">9749</td><td style = \"text-align: right;\">9749</td><td style = \"text-align: right;\">9749</td><td style = \"text-align: right;\">9749</td><td style = \"text-align: right;\">9749</td><td style = \"text-align: right;\">6910</td><td style = \"text-align: right;\">6910</td><td style = \"text-align: right;\">6910</td><td style = \"text-align: right;\">6161</td><td style = \"text-align: right;\">6161</td><td style = \"text-align: right;\">6161</td><td style = \"text-align: right;\">6161</td><td style = \"text-align: right;\">2492</td><td style = \"text-align: right;\">2492</td><td style = \"text-align: right;\">3018</td><td style = \"text-align: right;\">5422</td><td style = \"text-align: right;\">5422</td><td style = \"text-align: right;\">9749</td><td style = \"text-align: right;\">9749</td><td style = \"text-align: right;\">9749</td><td style = \"text-align: right;\">2492</td><td style = \"text-align: right;\">9749</td><td style = \"text-align: right;\">2492</td><td style = \"text-align: right;\">3018</td><td style = \"text-align: right;\">5422</td><td style = \"text-align: right;\">9749</td><td style = \"text-align: right;\">2492</td><td style = \"text-align: right;\">3018</td><td style = \"text-align: right;\">5422</td><td style = \"text-align: right;\">9749</td><td style = \"text-align: right;\">2492</td><td style = \"text-align: right;\">9749</td><td style = \"text-align: right;\">2492</td><td style = \"text-align: right;\">9749</td><td style = \"text-align: right;\">2738</td><td style = \"text-align: right;\">3158</td><td style = \"text-align: right;\">3938</td><td style = \"text-align: right;\">3981</td><td style = \"text-align: right;\">3018</td><td style = \"text-align: right;\">5422</td><td style = \"text-align: right;\">2004</td><td style = \"text-align: right;\">3790</td><td style = \"text-align: right;\">9749</td><td style = \"text-align: right;\">6910</td><td style = \"text-align: right;\">6161</td><td style = \"text-align: right;\">2738</td><td style = \"text-align: right;\">3158</td><td style = \"text-align: right;\">2492</td><td style = \"text-align: right;\">5422</td><td style = \"text-align: right;\">9749</td><td style = \"text-align: right;\">&ctdot;</td></tr><tr><td class = \"rowNumber\" style = \"font-weight: bold; text-align: right;\">3</td><td style = \"text-align: right;\">10963</td><td style = \"text-align: right;\">3200</td><td style = \"text-align: right;\">0</td><td style = \"text-align: right;\">0</td><td style = \"text-align: right;\">0</td><td style = \"text-align: right;\">0</td><td style = \"text-align: right;\">440</td><td style = \"text-align: right;\">440</td><td style = \"text-align: right;\">440</td><td style = \"text-align: right;\">440</td><td style = \"text-align: right;\">4199</td><td style = \"text-align: right;\">4199</td><td style = \"text-align: right;\">4242</td><td style = \"text-align: right;\">4242</td><td style = \"text-align: right;\">310</td><td style = \"text-align: right;\">310</td><td style = \"text-align: right;\">310</td><td style = \"text-align: right;\">310</td><td style = \"text-align: right;\">310</td><td style = \"text-align: right;\">310</td><td style = \"text-align: right;\">310</td><td style = \"text-align: right;\">310</td><td style = \"text-align: right;\">310</td><td style = \"text-align: right;\">310</td><td style = \"text-align: right;\">310</td><td style = \"text-align: right;\">534</td><td style = \"text-align: right;\">534</td><td style = \"text-align: right;\">534</td><td style = \"text-align: right;\">534</td><td style = \"text-align: right;\">534</td><td style = \"text-align: right;\">534</td><td style = \"text-align: right;\">6252</td><td style = \"text-align: right;\">6252</td><td style = \"text-align: right;\">6252</td><td style = \"text-align: right;\">6252</td><td style = \"text-align: right;\">6252</td><td style = \"text-align: right;\">6252</td><td style = \"text-align: right;\">6252</td><td style = \"text-align: right;\">6252</td><td style = \"text-align: right;\">4184</td><td style = \"text-align: right;\">4184</td><td style = \"text-align: right;\">6673</td><td style = \"text-align: right;\">6673</td><td style = \"text-align: right;\">6673</td><td style = \"text-align: right;\">5386</td><td style = \"text-align: right;\">5386</td><td style = \"text-align: right;\">5386</td><td style = \"text-align: right;\">5386</td><td style = \"text-align: right;\">5386</td><td style = \"text-align: right;\">5386</td><td style = \"text-align: right;\">5386</td><td style = \"text-align: right;\">5386</td><td style = \"text-align: right;\">5386</td><td style = \"text-align: right;\">5386</td><td style = \"text-align: right;\">5386</td><td style = \"text-align: right;\">4479</td><td style = \"text-align: right;\">4479</td><td style = \"text-align: right;\">4479</td><td style = \"text-align: right;\">6422</td><td style = \"text-align: right;\">6422</td><td style = \"text-align: right;\">6422</td><td style = \"text-align: right;\">6422</td><td style = \"text-align: right;\">310</td><td style = \"text-align: right;\">310</td><td style = \"text-align: right;\">534</td><td style = \"text-align: right;\">6252</td><td style = \"text-align: right;\">6252</td><td style = \"text-align: right;\">5386</td><td style = \"text-align: right;\">5386</td><td style = \"text-align: right;\">5386</td><td style = \"text-align: right;\">310</td><td style = \"text-align: right;\">5386</td><td style = \"text-align: right;\">310</td><td style = \"text-align: right;\">534</td><td style = \"text-align: right;\">6252</td><td style = \"text-align: right;\">5386</td><td style = \"text-align: right;\">310</td><td style = \"text-align: right;\">534</td><td style = \"text-align: right;\">6252</td><td style = \"text-align: right;\">5386</td><td style = \"text-align: right;\">310</td><td style = \"text-align: right;\">5386</td><td style = \"text-align: right;\">310</td><td style = \"text-align: right;\">5386</td><td style = \"text-align: right;\">0</td><td style = \"text-align: right;\">440</td><td style = \"text-align: right;\">4199</td><td style = \"text-align: right;\">4242</td><td style = \"text-align: right;\">534</td><td style = \"text-align: right;\">6252</td><td style = \"text-align: right;\">4184</td><td style = \"text-align: right;\">6673</td><td style = \"text-align: right;\">5386</td><td style = \"text-align: right;\">4479</td><td style = \"text-align: right;\">6422</td><td style = \"text-align: right;\">0</td><td style = \"text-align: right;\">440</td><td style = \"text-align: right;\">310</td><td style = \"text-align: right;\">6252</td><td style = \"text-align: right;\">5386</td><td style = \"text-align: right;\">&ctdot;</td></tr><tr><td class = \"rowNumber\" style = \"font-weight: bold; text-align: right;\">4</td><td style = \"text-align: right;\">10963</td><td style = \"text-align: right;\">3200</td><td style = \"text-align: right;\">0</td><td style = \"text-align: right;\">0</td><td style = \"text-align: right;\">0</td><td style = \"text-align: right;\">0</td><td style = \"text-align: right;\">440</td><td style = \"text-align: right;\">440</td><td style = \"text-align: right;\">440</td><td style = \"text-align: right;\">440</td><td style = \"text-align: right;\">4199</td><td style = \"text-align: right;\">4199</td><td style = \"text-align: right;\">4242</td><td style = \"text-align: right;\">4242</td><td style = \"text-align: right;\">310</td><td style = \"text-align: right;\">310</td><td style = \"text-align: right;\">310</td><td style = \"text-align: right;\">310</td><td style = \"text-align: right;\">310</td><td style = \"text-align: right;\">310</td><td style = \"text-align: right;\">310</td><td style = \"text-align: right;\">310</td><td style = \"text-align: right;\">310</td><td style = \"text-align: right;\">310</td><td style = \"text-align: right;\">310</td><td style = \"text-align: right;\">534</td><td style = \"text-align: right;\">534</td><td style = \"text-align: right;\">534</td><td style = \"text-align: right;\">534</td><td style = \"text-align: right;\">534</td><td style = \"text-align: right;\">534</td><td style = \"text-align: right;\">6252</td><td style = \"text-align: right;\">6252</td><td style = \"text-align: right;\">6252</td><td style = \"text-align: right;\">6252</td><td style = \"text-align: right;\">6252</td><td style = \"text-align: right;\">6252</td><td style = \"text-align: right;\">6252</td><td style = \"text-align: right;\">6252</td><td style = \"text-align: right;\">4184</td><td style = \"text-align: right;\">4184</td><td style = \"text-align: right;\">6673</td><td style = \"text-align: right;\">6673</td><td style = \"text-align: right;\">6673</td><td style = \"text-align: right;\">5386</td><td style = \"text-align: right;\">5386</td><td style = \"text-align: right;\">5386</td><td style = \"text-align: right;\">5386</td><td style = \"text-align: right;\">5386</td><td style = \"text-align: right;\">5386</td><td style = \"text-align: right;\">5386</td><td style = \"text-align: right;\">5386</td><td style = \"text-align: right;\">5386</td><td style = \"text-align: right;\">5386</td><td style = \"text-align: right;\">5386</td><td style = \"text-align: right;\">4479</td><td style = \"text-align: right;\">4479</td><td style = \"text-align: right;\">4479</td><td style = \"text-align: right;\">6422</td><td style = \"text-align: right;\">6422</td><td style = \"text-align: right;\">6422</td><td style = \"text-align: right;\">6422</td><td style = \"text-align: right;\">310</td><td style = \"text-align: right;\">310</td><td style = \"text-align: right;\">534</td><td style = \"text-align: right;\">6252</td><td style = \"text-align: right;\">6252</td><td style = \"text-align: right;\">5386</td><td style = \"text-align: right;\">5386</td><td style = \"text-align: right;\">5386</td><td style = \"text-align: right;\">310</td><td style = \"text-align: right;\">5386</td><td style = \"text-align: right;\">310</td><td style = \"text-align: right;\">534</td><td style = \"text-align: right;\">6252</td><td style = \"text-align: right;\">5386</td><td style = \"text-align: right;\">310</td><td style = \"text-align: right;\">534</td><td style = \"text-align: right;\">6252</td><td style = \"text-align: right;\">5386</td><td style = \"text-align: right;\">310</td><td style = \"text-align: right;\">5386</td><td style = \"text-align: right;\">310</td><td style = \"text-align: right;\">5386</td><td style = \"text-align: right;\">0</td><td style = \"text-align: right;\">440</td><td style = \"text-align: right;\">4199</td><td style = \"text-align: right;\">4242</td><td style = \"text-align: right;\">534</td><td style = \"text-align: right;\">6252</td><td style = \"text-align: right;\">4184</td><td style = \"text-align: right;\">6673</td><td style = \"text-align: right;\">5386</td><td style = \"text-align: right;\">4479</td><td style = \"text-align: right;\">6422</td><td style = \"text-align: right;\">0</td><td style = \"text-align: right;\">440</td><td style = \"text-align: right;\">310</td><td style = \"text-align: right;\">6252</td><td style = \"text-align: right;\">5386</td><td style = \"text-align: right;\">&ctdot;</td></tr><tr><td class = \"rowNumber\" style = \"font-weight: bold; text-align: right;\">5</td><td style = \"text-align: right;\">10963</td><td style = \"text-align: right;\">3200</td><td style = \"text-align: right;\">0</td><td style = \"text-align: right;\">0</td><td style = \"text-align: right;\">0</td><td style = \"text-align: right;\">0</td><td style = \"text-align: right;\">440</td><td style = \"text-align: right;\">440</td><td style = \"text-align: right;\">440</td><td style = \"text-align: right;\">440</td><td style = \"text-align: right;\">4199</td><td style = \"text-align: right;\">4199</td><td style = \"text-align: right;\">4242</td><td style = \"text-align: right;\">4242</td><td style = \"text-align: right;\">310</td><td style = \"text-align: right;\">310</td><td style = \"text-align: right;\">310</td><td style = \"text-align: right;\">310</td><td style = \"text-align: right;\">310</td><td style = \"text-align: right;\">310</td><td style = \"text-align: right;\">310</td><td style = \"text-align: right;\">310</td><td style = \"text-align: right;\">310</td><td style = \"text-align: right;\">310</td><td style = \"text-align: right;\">310</td><td style = \"text-align: right;\">534</td><td style = \"text-align: right;\">534</td><td style = \"text-align: right;\">534</td><td style = \"text-align: right;\">534</td><td style = \"text-align: right;\">534</td><td style = \"text-align: right;\">534</td><td style = \"text-align: right;\">6252</td><td style = \"text-align: right;\">6252</td><td style = \"text-align: right;\">6252</td><td style = \"text-align: right;\">6252</td><td style = \"text-align: right;\">6252</td><td style = \"text-align: right;\">6252</td><td style = \"text-align: right;\">6252</td><td style = \"text-align: right;\">6252</td><td style = \"text-align: right;\">4184</td><td style = \"text-align: right;\">4184</td><td style = \"text-align: right;\">6673</td><td style = \"text-align: right;\">6673</td><td style = \"text-align: right;\">6673</td><td style = \"text-align: right;\">5386</td><td style = \"text-align: right;\">5386</td><td style = \"text-align: right;\">5386</td><td style = \"text-align: right;\">5386</td><td style = \"text-align: right;\">5386</td><td style = \"text-align: right;\">5386</td><td style = \"text-align: right;\">5386</td><td style = \"text-align: right;\">5386</td><td style = \"text-align: right;\">5386</td><td style = \"text-align: right;\">5386</td><td style = \"text-align: right;\">5386</td><td style = \"text-align: right;\">4479</td><td style = \"text-align: right;\">4479</td><td style = \"text-align: right;\">4479</td><td style = \"text-align: right;\">6422</td><td style = \"text-align: right;\">6422</td><td style = \"text-align: right;\">6422</td><td style = \"text-align: right;\">6422</td><td style = \"text-align: right;\">310</td><td style = \"text-align: right;\">310</td><td style = \"text-align: right;\">534</td><td style = \"text-align: right;\">6252</td><td style = \"text-align: right;\">6252</td><td style = \"text-align: right;\">5386</td><td style = \"text-align: right;\">5386</td><td style = \"text-align: right;\">5386</td><td style = \"text-align: right;\">310</td><td style = \"text-align: right;\">5386</td><td style = \"text-align: right;\">310</td><td style = \"text-align: right;\">534</td><td style = \"text-align: right;\">6252</td><td style = \"text-align: right;\">5386</td><td style = \"text-align: right;\">310</td><td style = \"text-align: right;\">534</td><td style = \"text-align: right;\">6252</td><td style = \"text-align: right;\">5386</td><td style = \"text-align: right;\">310</td><td style = \"text-align: right;\">5386</td><td style = \"text-align: right;\">310</td><td style = \"text-align: right;\">5386</td><td style = \"text-align: right;\">0</td><td style = \"text-align: right;\">440</td><td style = \"text-align: right;\">4199</td><td style = \"text-align: right;\">4242</td><td style = \"text-align: right;\">534</td><td style = \"text-align: right;\">6252</td><td style = \"text-align: right;\">4184</td><td style = \"text-align: right;\">6673</td><td style = \"text-align: right;\">5386</td><td style = \"text-align: right;\">4479</td><td style = \"text-align: right;\">6422</td><td style = \"text-align: right;\">0</td><td style = \"text-align: right;\">440</td><td style = \"text-align: right;\">310</td><td style = \"text-align: right;\">6252</td><td style = \"text-align: right;\">5386</td><td style = \"text-align: right;\">&ctdot;</td></tr><tr><td class = \"rowNumber\" style = \"font-weight: bold; text-align: right;\">6</td><td style = \"text-align: right;\">10963</td><td style = \"text-align: right;\">3200</td><td style = \"text-align: right;\">0</td><td style = \"text-align: right;\">0</td><td style = \"text-align: right;\">0</td><td style = \"text-align: right;\">0</td><td style = \"text-align: right;\">440</td><td style = \"text-align: right;\">440</td><td style = \"text-align: right;\">440</td><td style = \"text-align: right;\">440</td><td style = \"text-align: right;\">4199</td><td style = \"text-align: right;\">4199</td><td style = \"text-align: right;\">4242</td><td style = \"text-align: right;\">4242</td><td style = \"text-align: right;\">310</td><td style = \"text-align: right;\">310</td><td style = \"text-align: right;\">310</td><td style = \"text-align: right;\">310</td><td style = \"text-align: right;\">310</td><td style = \"text-align: right;\">310</td><td style = \"text-align: right;\">310</td><td style = \"text-align: right;\">310</td><td style = \"text-align: right;\">310</td><td style = \"text-align: right;\">310</td><td style = \"text-align: right;\">310</td><td style = \"text-align: right;\">534</td><td style = \"text-align: right;\">534</td><td style = \"text-align: right;\">534</td><td style = \"text-align: right;\">534</td><td style = \"text-align: right;\">534</td><td style = \"text-align: right;\">534</td><td style = \"text-align: right;\">6252</td><td style = \"text-align: right;\">6252</td><td style = \"text-align: right;\">6252</td><td style = \"text-align: right;\">6252</td><td style = \"text-align: right;\">6252</td><td style = \"text-align: right;\">6252</td><td style = \"text-align: right;\">6252</td><td style = \"text-align: right;\">6252</td><td style = \"text-align: right;\">4184</td><td style = \"text-align: right;\">4184</td><td style = \"text-align: right;\">6673</td><td style = \"text-align: right;\">6673</td><td style = \"text-align: right;\">6673</td><td style = \"text-align: right;\">5386</td><td style = \"text-align: right;\">5386</td><td style = \"text-align: right;\">5386</td><td style = \"text-align: right;\">5386</td><td style = \"text-align: right;\">5386</td><td style = \"text-align: right;\">5386</td><td style = \"text-align: right;\">5386</td><td style = \"text-align: right;\">5386</td><td style = \"text-align: right;\">5386</td><td style = \"text-align: right;\">5386</td><td style = \"text-align: right;\">5386</td><td style = \"text-align: right;\">4479</td><td style = \"text-align: right;\">4479</td><td style = \"text-align: right;\">4479</td><td style = \"text-align: right;\">6422</td><td style = \"text-align: right;\">6422</td><td style = \"text-align: right;\">6422</td><td style = \"text-align: right;\">6422</td><td style = \"text-align: right;\">310</td><td style = \"text-align: right;\">310</td><td style = \"text-align: right;\">534</td><td style = \"text-align: right;\">6252</td><td style = \"text-align: right;\">6252</td><td style = \"text-align: right;\">5386</td><td style = \"text-align: right;\">5386</td><td style = \"text-align: right;\">5386</td><td style = \"text-align: right;\">310</td><td style = \"text-align: right;\">5386</td><td style = \"text-align: right;\">310</td><td style = \"text-align: right;\">534</td><td style = \"text-align: right;\">6252</td><td style = \"text-align: right;\">5386</td><td style = \"text-align: right;\">310</td><td style = \"text-align: right;\">534</td><td style = \"text-align: right;\">6252</td><td style = \"text-align: right;\">5386</td><td style = \"text-align: right;\">310</td><td style = \"text-align: right;\">5386</td><td style = \"text-align: right;\">310</td><td style = \"text-align: right;\">5386</td><td style = \"text-align: right;\">0</td><td style = \"text-align: right;\">440</td><td style = \"text-align: right;\">4199</td><td style = \"text-align: right;\">4242</td><td style = \"text-align: right;\">534</td><td style = \"text-align: right;\">6252</td><td style = \"text-align: right;\">4184</td><td style = \"text-align: right;\">6673</td><td style = \"text-align: right;\">5386</td><td style = \"text-align: right;\">4479</td><td style = \"text-align: right;\">6422</td><td style = \"text-align: right;\">0</td><td style = \"text-align: right;\">440</td><td style = \"text-align: right;\">310</td><td style = \"text-align: right;\">6252</td><td style = \"text-align: right;\">5386</td><td style = \"text-align: right;\">&ctdot;</td></tr><tr><td class = \"rowNumber\" style = \"font-weight: bold; text-align: right;\">7</td><td style = \"text-align: right;\">10618</td><td style = \"text-align: right;\">3628</td><td style = \"text-align: right;\">447</td><td style = \"text-align: right;\">447</td><td style = \"text-align: right;\">447</td><td style = \"text-align: right;\">447</td><td style = \"text-align: right;\">0</td><td style = \"text-align: right;\">0</td><td style = \"text-align: right;\">0</td><td style = \"text-align: right;\">0</td><td style = \"text-align: right;\">4626</td><td style = \"text-align: right;\">4626</td><td style = \"text-align: right;\">4669</td><td style = \"text-align: right;\">4669</td><td style = \"text-align: right;\">737</td><td style = \"text-align: right;\">737</td><td style = \"text-align: right;\">737</td><td style = \"text-align: right;\">737</td><td style = \"text-align: right;\">737</td><td style = \"text-align: right;\">737</td><td style = \"text-align: right;\">737</td><td style = \"text-align: right;\">737</td><td style = \"text-align: right;\">737</td><td style = \"text-align: right;\">737</td><td style = \"text-align: right;\">737</td><td style = \"text-align: right;\">553</td><td style = \"text-align: right;\">553</td><td style = \"text-align: right;\">553</td><td style = \"text-align: right;\">553</td><td style = \"text-align: right;\">553</td><td style = \"text-align: right;\">553</td><td style = \"text-align: right;\">6671</td><td style = \"text-align: right;\">6671</td><td style = \"text-align: right;\">6671</td><td style = \"text-align: right;\">6671</td><td style = \"text-align: right;\">6671</td><td style = \"text-align: right;\">6671</td><td style = \"text-align: right;\">6671</td><td style = \"text-align: right;\">6671</td><td style = \"text-align: right;\">4612</td><td style = \"text-align: right;\">4612</td><td style = \"text-align: right;\">7092</td><td style = \"text-align: right;\">7092</td><td style = \"text-align: right;\">7092</td><td style = \"text-align: right;\">5041</td><td style = \"text-align: right;\">5041</td><td style = \"text-align: right;\">5041</td><td style = \"text-align: right;\">5041</td><td style = \"text-align: right;\">5041</td><td style = \"text-align: right;\">5041</td><td style = \"text-align: right;\">5041</td><td style = \"text-align: right;\">5041</td><td style = \"text-align: right;\">5041</td><td style = \"text-align: right;\">5041</td><td style = \"text-align: right;\">5041</td><td style = \"text-align: right;\">5091</td><td style = \"text-align: right;\">5091</td><td style = \"text-align: right;\">5091</td><td style = \"text-align: right;\">5202</td><td style = \"text-align: right;\">5202</td><td style = \"text-align: right;\">5202</td><td style = \"text-align: right;\">5202</td><td style = \"text-align: right;\">737</td><td style = \"text-align: right;\">737</td><td style = \"text-align: right;\">553</td><td style = \"text-align: right;\">6671</td><td style = \"text-align: right;\">6671</td><td style = \"text-align: right;\">5041</td><td style = \"text-align: right;\">5041</td><td style = \"text-align: right;\">5041</td><td style = \"text-align: right;\">737</td><td style = \"text-align: right;\">5041</td><td style = \"text-align: right;\">737</td><td style = \"text-align: right;\">553</td><td style = \"text-align: right;\">6671</td><td style = \"text-align: right;\">5041</td><td style = \"text-align: right;\">737</td><td style = \"text-align: right;\">553</td><td style = \"text-align: right;\">6671</td><td style = \"text-align: right;\">5041</td><td style = \"text-align: right;\">737</td><td style = \"text-align: right;\">5041</td><td style = \"text-align: right;\">737</td><td style = \"text-align: right;\">5041</td><td style = \"text-align: right;\">447</td><td style = \"text-align: right;\">0</td><td style = \"text-align: right;\">4626</td><td style = \"text-align: right;\">4669</td><td style = \"text-align: right;\">553</td><td style = \"text-align: right;\">6671</td><td style = \"text-align: right;\">4612</td><td style = \"text-align: right;\">7092</td><td style = \"text-align: right;\">5041</td><td style = \"text-align: right;\">5091</td><td style = \"text-align: right;\">5202</td><td style = \"text-align: right;\">447</td><td style = \"text-align: right;\">0</td><td style = \"text-align: right;\">737</td><td style = \"text-align: right;\">6671</td><td style = \"text-align: right;\">5041</td><td style = \"text-align: right;\">&ctdot;</td></tr><tr><td class = \"rowNumber\" style = \"font-weight: bold; text-align: right;\">8</td><td style = \"text-align: right;\">10618</td><td style = \"text-align: right;\">3628</td><td style = \"text-align: right;\">447</td><td style = \"text-align: right;\">447</td><td style = \"text-align: right;\">447</td><td style = \"text-align: right;\">447</td><td style = \"text-align: right;\">0</td><td style = \"text-align: right;\">0</td><td style = \"text-align: right;\">0</td><td style = \"text-align: right;\">0</td><td style = \"text-align: right;\">4626</td><td style = \"text-align: right;\">4626</td><td style = \"text-align: right;\">4669</td><td style = \"text-align: right;\">4669</td><td style = \"text-align: right;\">737</td><td style = \"text-align: right;\">737</td><td style = \"text-align: right;\">737</td><td style = \"text-align: right;\">737</td><td style = \"text-align: right;\">737</td><td style = \"text-align: right;\">737</td><td style = \"text-align: right;\">737</td><td style = \"text-align: right;\">737</td><td style = \"text-align: right;\">737</td><td style = \"text-align: right;\">737</td><td style = \"text-align: right;\">737</td><td style = \"text-align: right;\">553</td><td style = \"text-align: right;\">553</td><td style = \"text-align: right;\">553</td><td style = \"text-align: right;\">553</td><td style = \"text-align: right;\">553</td><td style = \"text-align: right;\">553</td><td style = \"text-align: right;\">6671</td><td style = \"text-align: right;\">6671</td><td style = \"text-align: right;\">6671</td><td style = \"text-align: right;\">6671</td><td style = \"text-align: right;\">6671</td><td style = \"text-align: right;\">6671</td><td style = \"text-align: right;\">6671</td><td style = \"text-align: right;\">6671</td><td style = \"text-align: right;\">4612</td><td style = \"text-align: right;\">4612</td><td style = \"text-align: right;\">7092</td><td style = \"text-align: right;\">7092</td><td style = \"text-align: right;\">7092</td><td style = \"text-align: right;\">5041</td><td style = \"text-align: right;\">5041</td><td style = \"text-align: right;\">5041</td><td style = \"text-align: right;\">5041</td><td style = \"text-align: right;\">5041</td><td style = \"text-align: right;\">5041</td><td style = \"text-align: right;\">5041</td><td style = \"text-align: right;\">5041</td><td style = \"text-align: right;\">5041</td><td style = \"text-align: right;\">5041</td><td style = \"text-align: right;\">5041</td><td style = \"text-align: right;\">5091</td><td style = \"text-align: right;\">5091</td><td style = \"text-align: right;\">5091</td><td style = \"text-align: right;\">5202</td><td style = \"text-align: right;\">5202</td><td style = \"text-align: right;\">5202</td><td style = \"text-align: right;\">5202</td><td style = \"text-align: right;\">737</td><td style = \"text-align: right;\">737</td><td style = \"text-align: right;\">553</td><td style = \"text-align: right;\">6671</td><td style = \"text-align: right;\">6671</td><td style = \"text-align: right;\">5041</td><td style = \"text-align: right;\">5041</td><td style = \"text-align: right;\">5041</td><td style = \"text-align: right;\">737</td><td style = \"text-align: right;\">5041</td><td style = \"text-align: right;\">737</td><td style = \"text-align: right;\">553</td><td style = \"text-align: right;\">6671</td><td style = \"text-align: right;\">5041</td><td style = \"text-align: right;\">737</td><td style = \"text-align: right;\">553</td><td style = \"text-align: right;\">6671</td><td style = \"text-align: right;\">5041</td><td style = \"text-align: right;\">737</td><td style = \"text-align: right;\">5041</td><td style = \"text-align: right;\">737</td><td style = \"text-align: right;\">5041</td><td style = \"text-align: right;\">447</td><td style = \"text-align: right;\">0</td><td style = \"text-align: right;\">4626</td><td style = \"text-align: right;\">4669</td><td style = \"text-align: right;\">553</td><td style = \"text-align: right;\">6671</td><td style = \"text-align: right;\">4612</td><td style = \"text-align: right;\">7092</td><td style = \"text-align: right;\">5041</td><td style = \"text-align: right;\">5091</td><td style = \"text-align: right;\">5202</td><td style = \"text-align: right;\">447</td><td style = \"text-align: right;\">0</td><td style = \"text-align: right;\">737</td><td style = \"text-align: right;\">6671</td><td style = \"text-align: right;\">5041</td><td style = \"text-align: right;\">&ctdot;</td></tr><tr><td class = \"rowNumber\" style = \"font-weight: bold; text-align: right;\">9</td><td style = \"text-align: right;\">10618</td><td style = \"text-align: right;\">3628</td><td style = \"text-align: right;\">447</td><td style = \"text-align: right;\">447</td><td style = \"text-align: right;\">447</td><td style = \"text-align: right;\">447</td><td style = \"text-align: right;\">0</td><td style = \"text-align: right;\">0</td><td style = \"text-align: right;\">0</td><td style = \"text-align: right;\">0</td><td style = \"text-align: right;\">4626</td><td style = \"text-align: right;\">4626</td><td style = \"text-align: right;\">4669</td><td style = \"text-align: right;\">4669</td><td style = \"text-align: right;\">737</td><td style = \"text-align: right;\">737</td><td style = \"text-align: right;\">737</td><td style = \"text-align: right;\">737</td><td style = \"text-align: right;\">737</td><td style = \"text-align: right;\">737</td><td style = \"text-align: right;\">737</td><td style = \"text-align: right;\">737</td><td style = \"text-align: right;\">737</td><td style = \"text-align: right;\">737</td><td style = \"text-align: right;\">737</td><td style = \"text-align: right;\">553</td><td style = \"text-align: right;\">553</td><td style = \"text-align: right;\">553</td><td style = \"text-align: right;\">553</td><td style = \"text-align: right;\">553</td><td style = \"text-align: right;\">553</td><td style = \"text-align: right;\">6671</td><td style = \"text-align: right;\">6671</td><td style = \"text-align: right;\">6671</td><td style = \"text-align: right;\">6671</td><td style = \"text-align: right;\">6671</td><td style = \"text-align: right;\">6671</td><td style = \"text-align: right;\">6671</td><td style = \"text-align: right;\">6671</td><td style = \"text-align: right;\">4612</td><td style = \"text-align: right;\">4612</td><td style = \"text-align: right;\">7092</td><td style = \"text-align: right;\">7092</td><td style = \"text-align: right;\">7092</td><td style = \"text-align: right;\">5041</td><td style = \"text-align: right;\">5041</td><td style = \"text-align: right;\">5041</td><td style = \"text-align: right;\">5041</td><td style = \"text-align: right;\">5041</td><td style = \"text-align: right;\">5041</td><td style = \"text-align: right;\">5041</td><td style = \"text-align: right;\">5041</td><td style = \"text-align: right;\">5041</td><td style = \"text-align: right;\">5041</td><td style = \"text-align: right;\">5041</td><td style = \"text-align: right;\">5091</td><td style = \"text-align: right;\">5091</td><td style = \"text-align: right;\">5091</td><td style = \"text-align: right;\">5202</td><td style = \"text-align: right;\">5202</td><td style = \"text-align: right;\">5202</td><td style = \"text-align: right;\">5202</td><td style = \"text-align: right;\">737</td><td style = \"text-align: right;\">737</td><td style = \"text-align: right;\">553</td><td style = \"text-align: right;\">6671</td><td style = \"text-align: right;\">6671</td><td style = \"text-align: right;\">5041</td><td style = \"text-align: right;\">5041</td><td style = \"text-align: right;\">5041</td><td style = \"text-align: right;\">737</td><td style = \"text-align: right;\">5041</td><td style = \"text-align: right;\">737</td><td style = \"text-align: right;\">553</td><td style = \"text-align: right;\">6671</td><td style = \"text-align: right;\">5041</td><td style = \"text-align: right;\">737</td><td style = \"text-align: right;\">553</td><td style = \"text-align: right;\">6671</td><td style = \"text-align: right;\">5041</td><td style = \"text-align: right;\">737</td><td style = \"text-align: right;\">5041</td><td style = \"text-align: right;\">737</td><td style = \"text-align: right;\">5041</td><td style = \"text-align: right;\">447</td><td style = \"text-align: right;\">0</td><td style = \"text-align: right;\">4626</td><td style = \"text-align: right;\">4669</td><td style = \"text-align: right;\">553</td><td style = \"text-align: right;\">6671</td><td style = \"text-align: right;\">4612</td><td style = \"text-align: right;\">7092</td><td style = \"text-align: right;\">5041</td><td style = \"text-align: right;\">5091</td><td style = \"text-align: right;\">5202</td><td style = \"text-align: right;\">447</td><td style = \"text-align: right;\">0</td><td style = \"text-align: right;\">737</td><td style = \"text-align: right;\">6671</td><td style = \"text-align: right;\">5041</td><td style = \"text-align: right;\">&ctdot;</td></tr><tr><td class = \"rowNumber\" style = \"font-weight: bold; text-align: right;\">10</td><td style = \"text-align: right;\">10618</td><td style = \"text-align: right;\">3628</td><td style = \"text-align: right;\">447</td><td style = \"text-align: right;\">447</td><td style = \"text-align: right;\">447</td><td style = \"text-align: right;\">447</td><td style = \"text-align: right;\">0</td><td style = \"text-align: right;\">0</td><td style = \"text-align: right;\">0</td><td style = \"text-align: right;\">0</td><td style = \"text-align: right;\">4626</td><td style = \"text-align: right;\">4626</td><td style = \"text-align: right;\">4669</td><td style = \"text-align: right;\">4669</td><td style = \"text-align: right;\">737</td><td style = \"text-align: right;\">737</td><td style = \"text-align: right;\">737</td><td style = \"text-align: right;\">737</td><td style = \"text-align: right;\">737</td><td style = \"text-align: right;\">737</td><td style = \"text-align: right;\">737</td><td style = \"text-align: right;\">737</td><td style = \"text-align: right;\">737</td><td style = \"text-align: right;\">737</td><td style = \"text-align: right;\">737</td><td style = \"text-align: right;\">553</td><td style = \"text-align: right;\">553</td><td style = \"text-align: right;\">553</td><td style = \"text-align: right;\">553</td><td style = \"text-align: right;\">553</td><td style = \"text-align: right;\">553</td><td style = \"text-align: right;\">6671</td><td style = \"text-align: right;\">6671</td><td style = \"text-align: right;\">6671</td><td style = \"text-align: right;\">6671</td><td style = \"text-align: right;\">6671</td><td style = \"text-align: right;\">6671</td><td style = \"text-align: right;\">6671</td><td style = \"text-align: right;\">6671</td><td style = \"text-align: right;\">4612</td><td style = \"text-align: right;\">4612</td><td style = \"text-align: right;\">7092</td><td style = \"text-align: right;\">7092</td><td style = \"text-align: right;\">7092</td><td style = \"text-align: right;\">5041</td><td style = \"text-align: right;\">5041</td><td style = \"text-align: right;\">5041</td><td style = \"text-align: right;\">5041</td><td style = \"text-align: right;\">5041</td><td style = \"text-align: right;\">5041</td><td style = \"text-align: right;\">5041</td><td style = \"text-align: right;\">5041</td><td style = \"text-align: right;\">5041</td><td style = \"text-align: right;\">5041</td><td style = \"text-align: right;\">5041</td><td style = \"text-align: right;\">5091</td><td style = \"text-align: right;\">5091</td><td style = \"text-align: right;\">5091</td><td style = \"text-align: right;\">5202</td><td style = \"text-align: right;\">5202</td><td style = \"text-align: right;\">5202</td><td style = \"text-align: right;\">5202</td><td style = \"text-align: right;\">737</td><td style = \"text-align: right;\">737</td><td style = \"text-align: right;\">553</td><td style = \"text-align: right;\">6671</td><td style = \"text-align: right;\">6671</td><td style = \"text-align: right;\">5041</td><td style = \"text-align: right;\">5041</td><td style = \"text-align: right;\">5041</td><td style = \"text-align: right;\">737</td><td style = \"text-align: right;\">5041</td><td style = \"text-align: right;\">737</td><td style = \"text-align: right;\">553</td><td style = \"text-align: right;\">6671</td><td style = \"text-align: right;\">5041</td><td style = \"text-align: right;\">737</td><td style = \"text-align: right;\">553</td><td style = \"text-align: right;\">6671</td><td style = \"text-align: right;\">5041</td><td style = \"text-align: right;\">737</td><td style = \"text-align: right;\">5041</td><td style = \"text-align: right;\">737</td><td style = \"text-align: right;\">5041</td><td style = \"text-align: right;\">447</td><td style = \"text-align: right;\">0</td><td style = \"text-align: right;\">4626</td><td style = \"text-align: right;\">4669</td><td style = \"text-align: right;\">553</td><td style = \"text-align: right;\">6671</td><td style = \"text-align: right;\">4612</td><td style = \"text-align: right;\">7092</td><td style = \"text-align: right;\">5041</td><td style = \"text-align: right;\">5091</td><td style = \"text-align: right;\">5202</td><td style = \"text-align: right;\">447</td><td style = \"text-align: right;\">0</td><td style = \"text-align: right;\">737</td><td style = \"text-align: right;\">6671</td><td style = \"text-align: right;\">5041</td><td style = \"text-align: right;\">&ctdot;</td></tr><tr><td class = \"rowNumber\" style = \"font-weight: bold; text-align: right;\">11</td><td style = \"text-align: right;\">10891</td><td style = \"text-align: right;\">4501</td><td style = \"text-align: right;\">4358</td><td style = \"text-align: right;\">4358</td><td style = \"text-align: right;\">4358</td><td style = \"text-align: right;\">4358</td><td style = \"text-align: right;\">4778</td><td style = \"text-align: right;\">4778</td><td style = \"text-align: right;\">4778</td><td style = \"text-align: right;\">4778</td><td style = \"text-align: right;\">0</td><td style = \"text-align: right;\">0</td><td style = \"text-align: right;\">835</td><td style = \"text-align: right;\">835</td><td style = \"text-align: right;\">4110</td><td style = \"text-align: right;\">4110</td><td style = \"text-align: right;\">4110</td><td style = \"text-align: right;\">4110</td><td style = \"text-align: right;\">4110</td><td style = \"text-align: right;\">4110</td><td style = \"text-align: right;\">4110</td><td style = \"text-align: right;\">4110</td><td style = \"text-align: right;\">4110</td><td style = \"text-align: right;\">4110</td><td style = \"text-align: right;\">4110</td><td style = \"text-align: right;\">4368</td><td style = \"text-align: right;\">4368</td><td style = \"text-align: right;\">4368</td><td style = \"text-align: right;\">4368</td><td style = \"text-align: right;\">4368</td><td style = \"text-align: right;\">4368</td><td style = \"text-align: right;\">10074</td><td style = \"text-align: right;\">10074</td><td style = \"text-align: right;\">10074</td><td style = \"text-align: right;\">10074</td><td style = \"text-align: right;\">10074</td><td style = \"text-align: right;\">10074</td><td style = \"text-align: right;\">10074</td><td style = \"text-align: right;\">10074</td><td style = \"text-align: right;\">3594</td><td style = \"text-align: right;\">3594</td><td style = \"text-align: right;\">6953</td><td style = \"text-align: right;\">6953</td><td style = \"text-align: right;\">6953</td><td style = \"text-align: right;\">7109</td><td style = \"text-align: right;\">7109</td><td style = \"text-align: right;\">7109</td><td style = \"text-align: right;\">7109</td><td style = \"text-align: right;\">7109</td><td style = \"text-align: right;\">7109</td><td style = \"text-align: right;\">7109</td><td style = \"text-align: right;\">7109</td><td style = \"text-align: right;\">7109</td><td style = \"text-align: right;\">7109</td><td style = \"text-align: right;\">7109</td><td style = \"text-align: right;\">11539</td><td style = \"text-align: right;\">11539</td><td style = \"text-align: right;\">11539</td><td style = \"text-align: right;\">3521</td><td style = \"text-align: right;\">3521</td><td style = \"text-align: right;\">3521</td><td style = \"text-align: right;\">3521</td><td style = \"text-align: right;\">4110</td><td style = \"text-align: right;\">4110</td><td style = \"text-align: right;\">4368</td><td style = \"text-align: right;\">10074</td><td style = \"text-align: right;\">10074</td><td style = \"text-align: right;\">7109</td><td style = \"text-align: right;\">7109</td><td style = \"text-align: right;\">7109</td><td style = \"text-align: right;\">4110</td><td style = \"text-align: right;\">7109</td><td style = \"text-align: right;\">4110</td><td style = \"text-align: right;\">4368</td><td style = \"text-align: right;\">10074</td><td style = \"text-align: right;\">7109</td><td style = \"text-align: right;\">4110</td><td style = \"text-align: right;\">4368</td><td style = \"text-align: right;\">10074</td><td style = \"text-align: right;\">7109</td><td style = \"text-align: right;\">4110</td><td style = \"text-align: right;\">7109</td><td style = \"text-align: right;\">4110</td><td style = \"text-align: right;\">7109</td><td style = \"text-align: right;\">4358</td><td style = \"text-align: right;\">4778</td><td style = \"text-align: right;\">0</td><td style = \"text-align: right;\">835</td><td style = \"text-align: right;\">4368</td><td style = \"text-align: right;\">10074</td><td style = \"text-align: right;\">3594</td><td style = \"text-align: right;\">6953</td><td style = \"text-align: right;\">7109</td><td style = \"text-align: right;\">11539</td><td style = \"text-align: right;\">3521</td><td style = \"text-align: right;\">4358</td><td style = \"text-align: right;\">4778</td><td style = \"text-align: right;\">4110</td><td style = \"text-align: right;\">10074</td><td style = \"text-align: right;\">7109</td><td style = \"text-align: right;\">&ctdot;</td></tr><tr><td class = \"rowNumber\" style = \"font-weight: bold; text-align: right;\">12</td><td style = \"text-align: right;\">10891</td><td style = \"text-align: right;\">4501</td><td style = \"text-align: right;\">4358</td><td style = \"text-align: right;\">4358</td><td style = \"text-align: right;\">4358</td><td style = \"text-align: right;\">4358</td><td style = \"text-align: right;\">4778</td><td style = \"text-align: right;\">4778</td><td style = \"text-align: right;\">4778</td><td style = \"text-align: right;\">4778</td><td style = \"text-align: right;\">0</td><td style = \"text-align: right;\">0</td><td style = \"text-align: right;\">835</td><td style = \"text-align: right;\">835</td><td style = \"text-align: right;\">4110</td><td style = \"text-align: right;\">4110</td><td style = \"text-align: right;\">4110</td><td style = \"text-align: right;\">4110</td><td style = \"text-align: right;\">4110</td><td style = \"text-align: right;\">4110</td><td style = \"text-align: right;\">4110</td><td style = \"text-align: right;\">4110</td><td style = \"text-align: right;\">4110</td><td style = \"text-align: right;\">4110</td><td style = \"text-align: right;\">4110</td><td style = \"text-align: right;\">4368</td><td style = \"text-align: right;\">4368</td><td style = \"text-align: right;\">4368</td><td style = \"text-align: right;\">4368</td><td style = \"text-align: right;\">4368</td><td style = \"text-align: right;\">4368</td><td style = \"text-align: right;\">10074</td><td style = \"text-align: right;\">10074</td><td style = \"text-align: right;\">10074</td><td style = \"text-align: right;\">10074</td><td style = \"text-align: right;\">10074</td><td style = \"text-align: right;\">10074</td><td style = \"text-align: right;\">10074</td><td style = \"text-align: right;\">10074</td><td style = \"text-align: right;\">3594</td><td style = \"text-align: right;\">3594</td><td style = \"text-align: right;\">6953</td><td style = \"text-align: right;\">6953</td><td style = \"text-align: right;\">6953</td><td style = \"text-align: right;\">7109</td><td style = \"text-align: right;\">7109</td><td style = \"text-align: right;\">7109</td><td style = \"text-align: right;\">7109</td><td style = \"text-align: right;\">7109</td><td style = \"text-align: right;\">7109</td><td style = \"text-align: right;\">7109</td><td style = \"text-align: right;\">7109</td><td style = \"text-align: right;\">7109</td><td style = \"text-align: right;\">7109</td><td style = \"text-align: right;\">7109</td><td style = \"text-align: right;\">11539</td><td style = \"text-align: right;\">11539</td><td style = \"text-align: right;\">11539</td><td style = \"text-align: right;\">3521</td><td style = \"text-align: right;\">3521</td><td style = \"text-align: right;\">3521</td><td style = \"text-align: right;\">3521</td><td style = \"text-align: right;\">4110</td><td style = \"text-align: right;\">4110</td><td style = \"text-align: right;\">4368</td><td style = \"text-align: right;\">10074</td><td style = \"text-align: right;\">10074</td><td style = \"text-align: right;\">7109</td><td style = \"text-align: right;\">7109</td><td style = \"text-align: right;\">7109</td><td style = \"text-align: right;\">4110</td><td style = \"text-align: right;\">7109</td><td style = \"text-align: right;\">4110</td><td style = \"text-align: right;\">4368</td><td style = \"text-align: right;\">10074</td><td style = \"text-align: right;\">7109</td><td style = \"text-align: right;\">4110</td><td style = \"text-align: right;\">4368</td><td style = \"text-align: right;\">10074</td><td style = \"text-align: right;\">7109</td><td style = \"text-align: right;\">4110</td><td style = \"text-align: right;\">7109</td><td style = \"text-align: right;\">4110</td><td style = \"text-align: right;\">7109</td><td style = \"text-align: right;\">4358</td><td style = \"text-align: right;\">4778</td><td style = \"text-align: right;\">0</td><td style = \"text-align: right;\">835</td><td style = \"text-align: right;\">4368</td><td style = \"text-align: right;\">10074</td><td style = \"text-align: right;\">3594</td><td style = \"text-align: right;\">6953</td><td style = \"text-align: right;\">7109</td><td style = \"text-align: right;\">11539</td><td style = \"text-align: right;\">3521</td><td style = \"text-align: right;\">4358</td><td style = \"text-align: right;\">4778</td><td style = \"text-align: right;\">4110</td><td style = \"text-align: right;\">10074</td><td style = \"text-align: right;\">7109</td><td style = \"text-align: right;\">&ctdot;</td></tr><tr><td class = \"rowNumber\" style = \"font-weight: bold; text-align: right;\">13</td><td style = \"text-align: right;\">10551</td><td style = \"text-align: right;\">3892</td><td style = \"text-align: right;\">3749</td><td style = \"text-align: right;\">3749</td><td style = \"text-align: right;\">3749</td><td style = \"text-align: right;\">3749</td><td style = \"text-align: right;\">4169</td><td style = \"text-align: right;\">4169</td><td style = \"text-align: right;\">4169</td><td style = \"text-align: right;\">4169</td><td style = \"text-align: right;\">641</td><td style = \"text-align: right;\">641</td><td style = \"text-align: right;\">0</td><td style = \"text-align: right;\">0</td><td style = \"text-align: right;\">3501</td><td style = \"text-align: right;\">3501</td><td style = \"text-align: right;\">3501</td><td style = \"text-align: right;\">3501</td><td style = \"text-align: right;\">3501</td><td style = \"text-align: right;\">3501</td><td style = \"text-align: right;\">3501</td><td style = \"text-align: right;\">3501</td><td style = \"text-align: right;\">3501</td><td style = \"text-align: right;\">3501</td><td style = \"text-align: right;\">3501</td><td style = \"text-align: right;\">3759</td><td style = \"text-align: right;\">3759</td><td style = \"text-align: right;\">3759</td><td style = \"text-align: right;\">3759</td><td style = \"text-align: right;\">3759</td><td style = \"text-align: right;\">3759</td><td style = \"text-align: right;\">9465</td><td style = \"text-align: right;\">9465</td><td style = \"text-align: right;\">9465</td><td style = \"text-align: right;\">9465</td><td style = \"text-align: right;\">9465</td><td style = \"text-align: right;\">9465</td><td style = \"text-align: right;\">9465</td><td style = \"text-align: right;\">9465</td><td style = \"text-align: right;\">3039</td><td style = \"text-align: right;\">3039</td><td style = \"text-align: right;\">6533</td><td style = \"text-align: right;\">6533</td><td style = \"text-align: right;\">6533</td><td style = \"text-align: right;\">6769</td><td style = \"text-align: right;\">6769</td><td style = \"text-align: right;\">6769</td><td style = \"text-align: right;\">6769</td><td style = \"text-align: right;\">6769</td><td style = \"text-align: right;\">6769</td><td style = \"text-align: right;\">6769</td><td style = \"text-align: right;\">6769</td><td style = \"text-align: right;\">6769</td><td style = \"text-align: right;\">6769</td><td style = \"text-align: right;\">6769</td><td style = \"text-align: right;\">11199</td><td style = \"text-align: right;\">11199</td><td style = \"text-align: right;\">11199</td><td style = \"text-align: right;\">3181</td><td style = \"text-align: right;\">3181</td><td style = \"text-align: right;\">3181</td><td style = \"text-align: right;\">3181</td><td style = \"text-align: right;\">3501</td><td style = \"text-align: right;\">3501</td><td style = \"text-align: right;\">3759</td><td style = \"text-align: right;\">9465</td><td style = \"text-align: right;\">9465</td><td style = \"text-align: right;\">6769</td><td style = \"text-align: right;\">6769</td><td style = \"text-align: right;\">6769</td><td style = \"text-align: right;\">3501</td><td style = \"text-align: right;\">6769</td><td style = \"text-align: right;\">3501</td><td style = \"text-align: right;\">3759</td><td style = \"text-align: right;\">9465</td><td style = \"text-align: right;\">6769</td><td style = \"text-align: right;\">3501</td><td style = \"text-align: right;\">3759</td><td style = \"text-align: right;\">9465</td><td style = \"text-align: right;\">6769</td><td style = \"text-align: right;\">3501</td><td style = \"text-align: right;\">6769</td><td style = \"text-align: right;\">3501</td><td style = \"text-align: right;\">6769</td><td style = \"text-align: right;\">3749</td><td style = \"text-align: right;\">4169</td><td style = \"text-align: right;\">641</td><td style = \"text-align: right;\">0</td><td style = \"text-align: right;\">3759</td><td style = \"text-align: right;\">9465</td><td style = \"text-align: right;\">3039</td><td style = \"text-align: right;\">6533</td><td style = \"text-align: right;\">6769</td><td style = \"text-align: right;\">11199</td><td style = \"text-align: right;\">3181</td><td style = \"text-align: right;\">3749</td><td style = \"text-align: right;\">4169</td><td style = \"text-align: right;\">3501</td><td style = \"text-align: right;\">9465</td><td style = \"text-align: right;\">6769</td><td style = \"text-align: right;\">&ctdot;</td></tr><tr><td style = \"text-align: right;\">&vellip;</td><td style = \"text-align: right;\">&vellip;</td><td style = \"text-align: right;\">&vellip;</td><td style = \"text-align: right;\">&vellip;</td><td style = \"text-align: right;\">&vellip;</td><td style = \"text-align: right;\">&vellip;</td><td style = \"text-align: right;\">&vellip;</td><td style = \"text-align: right;\">&vellip;</td><td style = \"text-align: right;\">&vellip;</td><td style = \"text-align: right;\">&vellip;</td><td style = \"text-align: right;\">&vellip;</td><td style = \"text-align: right;\">&vellip;</td><td style = \"text-align: right;\">&vellip;</td><td style = \"text-align: right;\">&vellip;</td><td style = \"text-align: right;\">&vellip;</td><td style = \"text-align: right;\">&vellip;</td><td style = \"text-align: right;\">&vellip;</td><td style = \"text-align: right;\">&vellip;</td><td style = \"text-align: right;\">&vellip;</td><td style = \"text-align: right;\">&vellip;</td><td style = \"text-align: right;\">&vellip;</td><td style = \"text-align: right;\">&vellip;</td><td style = \"text-align: right;\">&vellip;</td><td style = \"text-align: right;\">&vellip;</td><td style = \"text-align: right;\">&vellip;</td><td style = \"text-align: right;\">&vellip;</td><td style = \"text-align: right;\">&vellip;</td><td style = \"text-align: right;\">&vellip;</td><td style = \"text-align: right;\">&vellip;</td><td style = \"text-align: right;\">&vellip;</td><td style = \"text-align: right;\">&vellip;</td><td style = \"text-align: right;\">&vellip;</td><td style = \"text-align: right;\">&vellip;</td><td style = \"text-align: right;\">&vellip;</td><td style = \"text-align: right;\">&vellip;</td><td style = \"text-align: right;\">&vellip;</td><td style = \"text-align: right;\">&vellip;</td><td style = \"text-align: right;\">&vellip;</td><td style = \"text-align: right;\">&vellip;</td><td style = \"text-align: right;\">&vellip;</td><td style = \"text-align: right;\">&vellip;</td><td style = \"text-align: right;\">&vellip;</td><td style = \"text-align: right;\">&vellip;</td><td style = \"text-align: right;\">&vellip;</td><td style = \"text-align: right;\">&vellip;</td><td style = \"text-align: right;\">&vellip;</td><td style = \"text-align: right;\">&vellip;</td><td style = \"text-align: right;\">&vellip;</td><td style = \"text-align: right;\">&vellip;</td><td style = \"text-align: right;\">&vellip;</td><td style = \"text-align: right;\">&vellip;</td><td style = \"text-align: right;\">&vellip;</td><td style = \"text-align: right;\">&vellip;</td><td style = \"text-align: right;\">&vellip;</td><td style = \"text-align: right;\">&vellip;</td><td style = \"text-align: right;\">&vellip;</td><td style = \"text-align: right;\">&vellip;</td><td style = \"text-align: right;\">&vellip;</td><td style = \"text-align: right;\">&vellip;</td><td style = \"text-align: right;\">&vellip;</td><td style = \"text-align: right;\">&vellip;</td><td style = \"text-align: right;\">&vellip;</td><td style = \"text-align: right;\">&vellip;</td><td style = \"text-align: right;\">&vellip;</td><td style = \"text-align: right;\">&vellip;</td><td style = \"text-align: right;\">&vellip;</td><td style = \"text-align: right;\">&vellip;</td><td style = \"text-align: right;\">&vellip;</td><td style = \"text-align: right;\">&vellip;</td><td style = \"text-align: right;\">&vellip;</td><td style = \"text-align: right;\">&vellip;</td><td style = \"text-align: right;\">&vellip;</td><td style = \"text-align: right;\">&vellip;</td><td style = \"text-align: right;\">&vellip;</td><td style = \"text-align: right;\">&vellip;</td><td style = \"text-align: right;\">&vellip;</td><td style = \"text-align: right;\">&vellip;</td><td style = \"text-align: right;\">&vellip;</td><td style = \"text-align: right;\">&vellip;</td><td style = \"text-align: right;\">&vellip;</td><td style = \"text-align: right;\">&vellip;</td><td style = \"text-align: right;\">&vellip;</td><td style = \"text-align: right;\">&vellip;</td><td style = \"text-align: right;\">&vellip;</td><td style = \"text-align: right;\">&vellip;</td><td style = \"text-align: right;\">&vellip;</td><td style = \"text-align: right;\">&vellip;</td><td style = \"text-align: right;\">&vellip;</td><td style = \"text-align: right;\">&vellip;</td><td style = \"text-align: right;\">&vellip;</td><td style = \"text-align: right;\">&vellip;</td><td style = \"text-align: right;\">&vellip;</td><td style = \"text-align: right;\">&vellip;</td><td style = \"text-align: right;\">&vellip;</td><td style = \"text-align: right;\">&vellip;</td><td style = \"text-align: right;\">&vellip;</td><td style = \"text-align: right;\">&vellip;</td><td style = \"text-align: right;\">&vellip;</td><td style = \"text-align: right;\">&vellip;</td><td style = \"text-align: right;\">&vellip;</td><td style = \"text-align: right;\">&vellip;</td><td style = \"text-align: right;\">&dtdot;</td></tr><tr><td class = \"rowNumber\" style = \"font-weight: bold; text-align: right;\">131</td><td style = \"text-align: right;\">16708</td><td style = \"text-align: right;\">4612</td><td style = \"text-align: right;\">5773</td><td style = \"text-align: right;\">5773</td><td style = \"text-align: right;\">5773</td><td style = \"text-align: right;\">5773</td><td style = \"text-align: right;\">6185</td><td style = \"text-align: right;\">6185</td><td style = \"text-align: right;\">6185</td><td style = \"text-align: right;\">6185</td><td style = \"text-align: right;\">8035</td><td style = \"text-align: right;\">8035</td><td style = \"text-align: right;\">7976</td><td style = \"text-align: right;\">7976</td><td style = \"text-align: right;\">5919</td><td style = \"text-align: right;\">5919</td><td style = \"text-align: right;\">5919</td><td style = \"text-align: right;\">5919</td><td style = \"text-align: right;\">5919</td><td style = \"text-align: right;\">5919</td><td style = \"text-align: right;\">5919</td><td style = \"text-align: right;\">5919</td><td style = \"text-align: right;\">5919</td><td style = \"text-align: right;\">5919</td><td style = \"text-align: right;\">5919</td><td style = \"text-align: right;\">6287</td><td style = \"text-align: right;\">6287</td><td style = \"text-align: right;\">6287</td><td style = \"text-align: right;\">6287</td><td style = \"text-align: right;\">6287</td><td style = \"text-align: right;\">6287</td><td style = \"text-align: right;\">0</td><td style = \"text-align: right;\">0</td><td style = \"text-align: right;\">0</td><td style = \"text-align: right;\">0</td><td style = \"text-align: right;\">0</td><td style = \"text-align: right;\">0</td><td style = \"text-align: right;\">0</td><td style = \"text-align: right;\">0</td><td style = \"text-align: right;\">5468</td><td style = \"text-align: right;\">5468</td><td style = \"text-align: right;\">4052</td><td style = \"text-align: right;\">4052</td><td style = \"text-align: right;\">4052</td><td style = \"text-align: right;\">11131</td><td style = \"text-align: right;\">11131</td><td style = \"text-align: right;\">11131</td><td style = \"text-align: right;\">11131</td><td style = \"text-align: right;\">11131</td><td style = \"text-align: right;\">11131</td><td style = \"text-align: right;\">11131</td><td style = \"text-align: right;\">11131</td><td style = \"text-align: right;\">11131</td><td style = \"text-align: right;\">11131</td><td style = \"text-align: right;\">11131</td><td style = \"text-align: right;\">8755</td><td style = \"text-align: right;\">8755</td><td style = \"text-align: right;\">8755</td><td style = \"text-align: right;\">10307</td><td style = \"text-align: right;\">10307</td><td style = \"text-align: right;\">10307</td><td style = \"text-align: right;\">10307</td><td style = \"text-align: right;\">5919</td><td style = \"text-align: right;\">5919</td><td style = \"text-align: right;\">6287</td><td style = \"text-align: right;\">0</td><td style = \"text-align: right;\">0</td><td style = \"text-align: right;\">11131</td><td style = \"text-align: right;\">11131</td><td style = \"text-align: right;\">11131</td><td style = \"text-align: right;\">5919</td><td style = \"text-align: right;\">11131</td><td style = \"text-align: right;\">5919</td><td style = \"text-align: right;\">6287</td><td style = \"text-align: right;\">0</td><td style = \"text-align: right;\">11131</td><td style = \"text-align: right;\">5919</td><td style = \"text-align: right;\">6287</td><td style = \"text-align: right;\">0</td><td style = \"text-align: right;\">11131</td><td style = \"text-align: right;\">5919</td><td style = \"text-align: right;\">11131</td><td style = \"text-align: right;\">5919</td><td style = \"text-align: right;\">11131</td><td style = \"text-align: right;\">5773</td><td style = \"text-align: right;\">6185</td><td style = \"text-align: right;\">8035</td><td style = \"text-align: right;\">7976</td><td style = \"text-align: right;\">6287</td><td style = \"text-align: right;\">0</td><td style = \"text-align: right;\">5468</td><td style = \"text-align: right;\">4052</td><td style = \"text-align: right;\">11131</td><td style = \"text-align: right;\">8755</td><td style = \"text-align: right;\">10307</td><td style = \"text-align: right;\">5773</td><td style = \"text-align: right;\">6185</td><td style = \"text-align: right;\">5919</td><td style = \"text-align: right;\">0</td><td style = \"text-align: right;\">11131</td><td style = \"text-align: right;\">&ctdot;</td></tr><tr><td class = \"rowNumber\" style = \"font-weight: bold; text-align: right;\">132</td><td style = \"text-align: right;\">6729</td><td style = \"text-align: right;\">6813</td><td style = \"text-align: right;\">5676</td><td style = \"text-align: right;\">5676</td><td style = \"text-align: right;\">5676</td><td style = \"text-align: right;\">5676</td><td style = \"text-align: right;\">4762</td><td style = \"text-align: right;\">4762</td><td style = \"text-align: right;\">4762</td><td style = \"text-align: right;\">4762</td><td style = \"text-align: right;\">6450</td><td style = \"text-align: right;\">6450</td><td style = \"text-align: right;\">7301</td><td style = \"text-align: right;\">7301</td><td style = \"text-align: right;\">5488</td><td style = \"text-align: right;\">5488</td><td style = \"text-align: right;\">5488</td><td style = \"text-align: right;\">5488</td><td style = \"text-align: right;\">5488</td><td style = \"text-align: right;\">5488</td><td style = \"text-align: right;\">5488</td><td style = \"text-align: right;\">5488</td><td style = \"text-align: right;\">5488</td><td style = \"text-align: right;\">5488</td><td style = \"text-align: right;\">5488</td><td style = \"text-align: right;\">5352</td><td style = \"text-align: right;\">5352</td><td style = \"text-align: right;\">5352</td><td style = \"text-align: right;\">5352</td><td style = \"text-align: right;\">5352</td><td style = \"text-align: right;\">5352</td><td style = \"text-align: right;\">11693</td><td style = \"text-align: right;\">11693</td><td style = \"text-align: right;\">11693</td><td style = \"text-align: right;\">11693</td><td style = \"text-align: right;\">11693</td><td style = \"text-align: right;\">11693</td><td style = \"text-align: right;\">11693</td><td style = \"text-align: right;\">11693</td><td style = \"text-align: right;\">9683</td><td style = \"text-align: right;\">9683</td><td style = \"text-align: right;\">12359</td><td style = \"text-align: right;\">12359</td><td style = \"text-align: right;\">12359</td><td style = \"text-align: right;\">0</td><td style = \"text-align: right;\">0</td><td style = \"text-align: right;\">0</td><td style = \"text-align: right;\">0</td><td style = \"text-align: right;\">0</td><td style = \"text-align: right;\">0</td><td style = \"text-align: right;\">0</td><td style = \"text-align: right;\">0</td><td style = \"text-align: right;\">0</td><td style = \"text-align: right;\">0</td><td style = \"text-align: right;\">0</td><td style = \"text-align: right;\">12143</td><td style = \"text-align: right;\">12143</td><td style = \"text-align: right;\">12143</td><td style = \"text-align: right;\">4807</td><td style = \"text-align: right;\">4807</td><td style = \"text-align: right;\">4807</td><td style = \"text-align: right;\">4807</td><td style = \"text-align: right;\">5488</td><td style = \"text-align: right;\">5488</td><td style = \"text-align: right;\">5352</td><td style = \"text-align: right;\">11693</td><td style = \"text-align: right;\">11693</td><td style = \"text-align: right;\">0</td><td style = \"text-align: right;\">0</td><td style = \"text-align: right;\">0</td><td style = \"text-align: right;\">5488</td><td style = \"text-align: right;\">0</td><td style = \"text-align: right;\">5488</td><td style = \"text-align: right;\">5352</td><td style = \"text-align: right;\">11693</td><td style = \"text-align: right;\">0</td><td style = \"text-align: right;\">5488</td><td style = \"text-align: right;\">5352</td><td style = \"text-align: right;\">11693</td><td style = \"text-align: right;\">0</td><td style = \"text-align: right;\">5488</td><td style = \"text-align: right;\">0</td><td style = \"text-align: right;\">5488</td><td style = \"text-align: right;\">0</td><td style = \"text-align: right;\">5676</td><td style = \"text-align: right;\">4762</td><td style = \"text-align: right;\">6450</td><td style = \"text-align: right;\">7301</td><td style = \"text-align: right;\">5352</td><td style = \"text-align: right;\">11693</td><td style = \"text-align: right;\">9683</td><td style = \"text-align: right;\">12359</td><td style = \"text-align: right;\">0</td><td style = \"text-align: right;\">12143</td><td style = \"text-align: right;\">4807</td><td style = \"text-align: right;\">5676</td><td style = \"text-align: right;\">4762</td><td style = \"text-align: right;\">5488</td><td style = \"text-align: right;\">11693</td><td style = \"text-align: right;\">0</td><td style = \"text-align: right;\">&ctdot;</td></tr><tr><td class = \"rowNumber\" style = \"font-weight: bold; text-align: right;\">133</td><td style = \"text-align: right;\">16708</td><td style = \"text-align: right;\">4612</td><td style = \"text-align: right;\">5773</td><td style = \"text-align: right;\">5773</td><td style = \"text-align: right;\">5773</td><td style = \"text-align: right;\">5773</td><td style = \"text-align: right;\">6185</td><td style = \"text-align: right;\">6185</td><td style = \"text-align: right;\">6185</td><td style = \"text-align: right;\">6185</td><td style = \"text-align: right;\">8035</td><td style = \"text-align: right;\">8035</td><td style = \"text-align: right;\">7976</td><td style = \"text-align: right;\">7976</td><td style = \"text-align: right;\">5919</td><td style = \"text-align: right;\">5919</td><td style = \"text-align: right;\">5919</td><td style = \"text-align: right;\">5919</td><td style = \"text-align: right;\">5919</td><td style = \"text-align: right;\">5919</td><td style = \"text-align: right;\">5919</td><td style = \"text-align: right;\">5919</td><td style = \"text-align: right;\">5919</td><td style = \"text-align: right;\">5919</td><td style = \"text-align: right;\">5919</td><td style = \"text-align: right;\">6287</td><td style = \"text-align: right;\">6287</td><td style = \"text-align: right;\">6287</td><td style = \"text-align: right;\">6287</td><td style = \"text-align: right;\">6287</td><td style = \"text-align: right;\">6287</td><td style = \"text-align: right;\">0</td><td style = \"text-align: right;\">0</td><td style = \"text-align: right;\">0</td><td style = \"text-align: right;\">0</td><td style = \"text-align: right;\">0</td><td style = \"text-align: right;\">0</td><td style = \"text-align: right;\">0</td><td style = \"text-align: right;\">0</td><td style = \"text-align: right;\">5468</td><td style = \"text-align: right;\">5468</td><td style = \"text-align: right;\">4052</td><td style = \"text-align: right;\">4052</td><td style = \"text-align: right;\">4052</td><td style = \"text-align: right;\">11131</td><td style = \"text-align: right;\">11131</td><td style = \"text-align: right;\">11131</td><td style = \"text-align: right;\">11131</td><td style = \"text-align: right;\">11131</td><td style = \"text-align: right;\">11131</td><td style = \"text-align: right;\">11131</td><td style = \"text-align: right;\">11131</td><td style = \"text-align: right;\">11131</td><td style = \"text-align: right;\">11131</td><td style = \"text-align: right;\">11131</td><td style = \"text-align: right;\">8755</td><td style = \"text-align: right;\">8755</td><td style = \"text-align: right;\">8755</td><td style = \"text-align: right;\">10307</td><td style = \"text-align: right;\">10307</td><td style = \"text-align: right;\">10307</td><td style = \"text-align: right;\">10307</td><td style = \"text-align: right;\">5919</td><td style = \"text-align: right;\">5919</td><td style = \"text-align: right;\">6287</td><td style = \"text-align: right;\">0</td><td style = \"text-align: right;\">0</td><td style = \"text-align: right;\">11131</td><td style = \"text-align: right;\">11131</td><td style = \"text-align: right;\">11131</td><td style = \"text-align: right;\">5919</td><td style = \"text-align: right;\">11131</td><td style = \"text-align: right;\">5919</td><td style = \"text-align: right;\">6287</td><td style = \"text-align: right;\">0</td><td style = \"text-align: right;\">11131</td><td style = \"text-align: right;\">5919</td><td style = \"text-align: right;\">6287</td><td style = \"text-align: right;\">0</td><td style = \"text-align: right;\">11131</td><td style = \"text-align: right;\">5919</td><td style = \"text-align: right;\">11131</td><td style = \"text-align: right;\">5919</td><td style = \"text-align: right;\">11131</td><td style = \"text-align: right;\">5773</td><td style = \"text-align: right;\">6185</td><td style = \"text-align: right;\">8035</td><td style = \"text-align: right;\">7976</td><td style = \"text-align: right;\">6287</td><td style = \"text-align: right;\">0</td><td style = \"text-align: right;\">5468</td><td style = \"text-align: right;\">4052</td><td style = \"text-align: right;\">11131</td><td style = \"text-align: right;\">8755</td><td style = \"text-align: right;\">10307</td><td style = \"text-align: right;\">5773</td><td style = \"text-align: right;\">6185</td><td style = \"text-align: right;\">5919</td><td style = \"text-align: right;\">0</td><td style = \"text-align: right;\">11131</td><td style = \"text-align: right;\">&ctdot;</td></tr><tr><td class = \"rowNumber\" style = \"font-weight: bold; text-align: right;\">134</td><td style = \"text-align: right;\">6729</td><td style = \"text-align: right;\">6813</td><td style = \"text-align: right;\">5676</td><td style = \"text-align: right;\">5676</td><td style = \"text-align: right;\">5676</td><td style = \"text-align: right;\">5676</td><td style = \"text-align: right;\">4762</td><td style = \"text-align: right;\">4762</td><td style = \"text-align: right;\">4762</td><td style = \"text-align: right;\">4762</td><td style = \"text-align: right;\">6450</td><td style = \"text-align: right;\">6450</td><td style = \"text-align: right;\">7301</td><td style = \"text-align: right;\">7301</td><td style = \"text-align: right;\">5488</td><td style = \"text-align: right;\">5488</td><td style = \"text-align: right;\">5488</td><td style = \"text-align: right;\">5488</td><td style = \"text-align: right;\">5488</td><td style = \"text-align: right;\">5488</td><td style = \"text-align: right;\">5488</td><td style = \"text-align: right;\">5488</td><td style = \"text-align: right;\">5488</td><td style = \"text-align: right;\">5488</td><td style = \"text-align: right;\">5488</td><td style = \"text-align: right;\">5352</td><td style = \"text-align: right;\">5352</td><td style = \"text-align: right;\">5352</td><td style = \"text-align: right;\">5352</td><td style = \"text-align: right;\">5352</td><td style = \"text-align: right;\">5352</td><td style = \"text-align: right;\">11693</td><td style = \"text-align: right;\">11693</td><td style = \"text-align: right;\">11693</td><td style = \"text-align: right;\">11693</td><td style = \"text-align: right;\">11693</td><td style = \"text-align: right;\">11693</td><td style = \"text-align: right;\">11693</td><td style = \"text-align: right;\">11693</td><td style = \"text-align: right;\">9683</td><td style = \"text-align: right;\">9683</td><td style = \"text-align: right;\">12359</td><td style = \"text-align: right;\">12359</td><td style = \"text-align: right;\">12359</td><td style = \"text-align: right;\">0</td><td style = \"text-align: right;\">0</td><td style = \"text-align: right;\">0</td><td style = \"text-align: right;\">0</td><td style = \"text-align: right;\">0</td><td style = \"text-align: right;\">0</td><td style = \"text-align: right;\">0</td><td style = \"text-align: right;\">0</td><td style = \"text-align: right;\">0</td><td style = \"text-align: right;\">0</td><td style = \"text-align: right;\">0</td><td style = \"text-align: right;\">12143</td><td style = \"text-align: right;\">12143</td><td style = \"text-align: right;\">12143</td><td style = \"text-align: right;\">4807</td><td style = \"text-align: right;\">4807</td><td style = \"text-align: right;\">4807</td><td style = \"text-align: right;\">4807</td><td style = \"text-align: right;\">5488</td><td style = \"text-align: right;\">5488</td><td style = \"text-align: right;\">5352</td><td style = \"text-align: right;\">11693</td><td style = \"text-align: right;\">11693</td><td style = \"text-align: right;\">0</td><td style = \"text-align: right;\">0</td><td style = \"text-align: right;\">0</td><td style = \"text-align: right;\">5488</td><td style = \"text-align: right;\">0</td><td style = \"text-align: right;\">5488</td><td style = \"text-align: right;\">5352</td><td style = \"text-align: right;\">11693</td><td style = \"text-align: right;\">0</td><td style = \"text-align: right;\">5488</td><td style = \"text-align: right;\">5352</td><td style = \"text-align: right;\">11693</td><td style = \"text-align: right;\">0</td><td style = \"text-align: right;\">5488</td><td style = \"text-align: right;\">0</td><td style = \"text-align: right;\">5488</td><td style = \"text-align: right;\">0</td><td style = \"text-align: right;\">5676</td><td style = \"text-align: right;\">4762</td><td style = \"text-align: right;\">6450</td><td style = \"text-align: right;\">7301</td><td style = \"text-align: right;\">5352</td><td style = \"text-align: right;\">11693</td><td style = \"text-align: right;\">9683</td><td style = \"text-align: right;\">12359</td><td style = \"text-align: right;\">0</td><td style = \"text-align: right;\">12143</td><td style = \"text-align: right;\">4807</td><td style = \"text-align: right;\">5676</td><td style = \"text-align: right;\">4762</td><td style = \"text-align: right;\">5488</td><td style = \"text-align: right;\">11693</td><td style = \"text-align: right;\">0</td><td style = \"text-align: right;\">&ctdot;</td></tr><tr><td class = \"rowNumber\" style = \"font-weight: bold; text-align: right;\">135</td><td style = \"text-align: right;\">6729</td><td style = \"text-align: right;\">6813</td><td style = \"text-align: right;\">5676</td><td style = \"text-align: right;\">5676</td><td style = \"text-align: right;\">5676</td><td style = \"text-align: right;\">5676</td><td style = \"text-align: right;\">4762</td><td style = \"text-align: right;\">4762</td><td style = \"text-align: right;\">4762</td><td style = \"text-align: right;\">4762</td><td style = \"text-align: right;\">6450</td><td style = \"text-align: right;\">6450</td><td style = \"text-align: right;\">7301</td><td style = \"text-align: right;\">7301</td><td style = \"text-align: right;\">5488</td><td style = \"text-align: right;\">5488</td><td style = \"text-align: right;\">5488</td><td style = \"text-align: right;\">5488</td><td style = \"text-align: right;\">5488</td><td style = \"text-align: right;\">5488</td><td style = \"text-align: right;\">5488</td><td style = \"text-align: right;\">5488</td><td style = \"text-align: right;\">5488</td><td style = \"text-align: right;\">5488</td><td style = \"text-align: right;\">5488</td><td style = \"text-align: right;\">5352</td><td style = \"text-align: right;\">5352</td><td style = \"text-align: right;\">5352</td><td style = \"text-align: right;\">5352</td><td style = \"text-align: right;\">5352</td><td style = \"text-align: right;\">5352</td><td style = \"text-align: right;\">11693</td><td style = \"text-align: right;\">11693</td><td style = \"text-align: right;\">11693</td><td style = \"text-align: right;\">11693</td><td style = \"text-align: right;\">11693</td><td style = \"text-align: right;\">11693</td><td style = \"text-align: right;\">11693</td><td style = \"text-align: right;\">11693</td><td style = \"text-align: right;\">9683</td><td style = \"text-align: right;\">9683</td><td style = \"text-align: right;\">12359</td><td style = \"text-align: right;\">12359</td><td style = \"text-align: right;\">12359</td><td style = \"text-align: right;\">0</td><td style = \"text-align: right;\">0</td><td style = \"text-align: right;\">0</td><td style = \"text-align: right;\">0</td><td style = \"text-align: right;\">0</td><td style = \"text-align: right;\">0</td><td style = \"text-align: right;\">0</td><td style = \"text-align: right;\">0</td><td style = \"text-align: right;\">0</td><td style = \"text-align: right;\">0</td><td style = \"text-align: right;\">0</td><td style = \"text-align: right;\">12143</td><td style = \"text-align: right;\">12143</td><td style = \"text-align: right;\">12143</td><td style = \"text-align: right;\">4807</td><td style = \"text-align: right;\">4807</td><td style = \"text-align: right;\">4807</td><td style = \"text-align: right;\">4807</td><td style = \"text-align: right;\">5488</td><td style = \"text-align: right;\">5488</td><td style = \"text-align: right;\">5352</td><td style = \"text-align: right;\">11693</td><td style = \"text-align: right;\">11693</td><td style = \"text-align: right;\">0</td><td style = \"text-align: right;\">0</td><td style = \"text-align: right;\">0</td><td style = \"text-align: right;\">5488</td><td style = \"text-align: right;\">0</td><td style = \"text-align: right;\">5488</td><td style = \"text-align: right;\">5352</td><td style = \"text-align: right;\">11693</td><td style = \"text-align: right;\">0</td><td style = \"text-align: right;\">5488</td><td style = \"text-align: right;\">5352</td><td style = \"text-align: right;\">11693</td><td style = \"text-align: right;\">0</td><td style = \"text-align: right;\">5488</td><td style = \"text-align: right;\">0</td><td style = \"text-align: right;\">5488</td><td style = \"text-align: right;\">0</td><td style = \"text-align: right;\">5676</td><td style = \"text-align: right;\">4762</td><td style = \"text-align: right;\">6450</td><td style = \"text-align: right;\">7301</td><td style = \"text-align: right;\">5352</td><td style = \"text-align: right;\">11693</td><td style = \"text-align: right;\">9683</td><td style = \"text-align: right;\">12359</td><td style = \"text-align: right;\">0</td><td style = \"text-align: right;\">12143</td><td style = \"text-align: right;\">4807</td><td style = \"text-align: right;\">5676</td><td style = \"text-align: right;\">4762</td><td style = \"text-align: right;\">5488</td><td style = \"text-align: right;\">11693</td><td style = \"text-align: right;\">0</td><td style = \"text-align: right;\">&ctdot;</td></tr><tr><td class = \"rowNumber\" style = \"font-weight: bold; text-align: right;\">136</td><td style = \"text-align: right;\">11253</td><td style = \"text-align: right;\">2955</td><td style = \"text-align: right;\">310</td><td style = \"text-align: right;\">310</td><td style = \"text-align: right;\">310</td><td style = \"text-align: right;\">310</td><td style = \"text-align: right;\">730</td><td style = \"text-align: right;\">730</td><td style = \"text-align: right;\">730</td><td style = \"text-align: right;\">730</td><td style = \"text-align: right;\">3951</td><td style = \"text-align: right;\">3951</td><td style = \"text-align: right;\">3994</td><td style = \"text-align: right;\">3994</td><td style = \"text-align: right;\">0</td><td style = \"text-align: right;\">0</td><td style = \"text-align: right;\">0</td><td style = \"text-align: right;\">0</td><td style = \"text-align: right;\">0</td><td style = \"text-align: right;\">0</td><td style = \"text-align: right;\">0</td><td style = \"text-align: right;\">0</td><td style = \"text-align: right;\">0</td><td style = \"text-align: right;\">0</td><td style = \"text-align: right;\">0</td><td style = \"text-align: right;\">590</td><td style = \"text-align: right;\">590</td><td style = \"text-align: right;\">590</td><td style = \"text-align: right;\">590</td><td style = \"text-align: right;\">590</td><td style = \"text-align: right;\">590</td><td style = \"text-align: right;\">6268</td><td style = \"text-align: right;\">6268</td><td style = \"text-align: right;\">6268</td><td style = \"text-align: right;\">6268</td><td style = \"text-align: right;\">6268</td><td style = \"text-align: right;\">6268</td><td style = \"text-align: right;\">6268</td><td style = \"text-align: right;\">6268</td><td style = \"text-align: right;\">3939</td><td style = \"text-align: right;\">3939</td><td style = \"text-align: right;\">6689</td><td style = \"text-align: right;\">6689</td><td style = \"text-align: right;\">6689</td><td style = \"text-align: right;\">5676</td><td style = \"text-align: right;\">5676</td><td style = \"text-align: right;\">5676</td><td style = \"text-align: right;\">5676</td><td style = \"text-align: right;\">5676</td><td style = \"text-align: right;\">5676</td><td style = \"text-align: right;\">5676</td><td style = \"text-align: right;\">5676</td><td style = \"text-align: right;\">5676</td><td style = \"text-align: right;\">5676</td><td style = \"text-align: right;\">5676</td><td style = \"text-align: right;\">4617</td><td style = \"text-align: right;\">4617</td><td style = \"text-align: right;\">4617</td><td style = \"text-align: right;\">6174</td><td style = \"text-align: right;\">6174</td><td style = \"text-align: right;\">6174</td><td style = \"text-align: right;\">6174</td><td style = \"text-align: right;\">0</td><td style = \"text-align: right;\">0</td><td style = \"text-align: right;\">590</td><td style = \"text-align: right;\">6268</td><td style = \"text-align: right;\">6268</td><td style = \"text-align: right;\">5676</td><td style = \"text-align: right;\">5676</td><td style = \"text-align: right;\">5676</td><td style = \"text-align: right;\">0</td><td style = \"text-align: right;\">5676</td><td style = \"text-align: right;\">0</td><td style = \"text-align: right;\">590</td><td style = \"text-align: right;\">6268</td><td style = \"text-align: right;\">5676</td><td style = \"text-align: right;\">0</td><td style = \"text-align: right;\">590</td><td style = \"text-align: right;\">6268</td><td style = \"text-align: right;\">5676</td><td style = \"text-align: right;\">0</td><td style = \"text-align: right;\">5676</td><td style = \"text-align: right;\">0</td><td style = \"text-align: right;\">5676</td><td style = \"text-align: right;\">310</td><td style = \"text-align: right;\">730</td><td style = \"text-align: right;\">3951</td><td style = \"text-align: right;\">3994</td><td style = \"text-align: right;\">590</td><td style = \"text-align: right;\">6268</td><td style = \"text-align: right;\">3939</td><td style = \"text-align: right;\">6689</td><td style = \"text-align: right;\">5676</td><td style = \"text-align: right;\">4617</td><td style = \"text-align: right;\">6174</td><td style = \"text-align: right;\">310</td><td style = \"text-align: right;\">730</td><td style = \"text-align: right;\">0</td><td style = \"text-align: right;\">6268</td><td style = \"text-align: right;\">5676</td><td style = \"text-align: right;\">&ctdot;</td></tr><tr><td class = \"rowNumber\" style = \"font-weight: bold; text-align: right;\">137</td><td style = \"text-align: right;\">6729</td><td style = \"text-align: right;\">6813</td><td style = \"text-align: right;\">5676</td><td style = \"text-align: right;\">5676</td><td style = \"text-align: right;\">5676</td><td style = \"text-align: right;\">5676</td><td style = \"text-align: right;\">4762</td><td style = \"text-align: right;\">4762</td><td style = \"text-align: right;\">4762</td><td style = \"text-align: right;\">4762</td><td style = \"text-align: right;\">6450</td><td style = \"text-align: right;\">6450</td><td style = \"text-align: right;\">7301</td><td style = \"text-align: right;\">7301</td><td style = \"text-align: right;\">5488</td><td style = \"text-align: right;\">5488</td><td style = \"text-align: right;\">5488</td><td style = \"text-align: right;\">5488</td><td style = \"text-align: right;\">5488</td><td style = \"text-align: right;\">5488</td><td style = \"text-align: right;\">5488</td><td style = \"text-align: right;\">5488</td><td style = \"text-align: right;\">5488</td><td style = \"text-align: right;\">5488</td><td style = \"text-align: right;\">5488</td><td style = \"text-align: right;\">5352</td><td style = \"text-align: right;\">5352</td><td style = \"text-align: right;\">5352</td><td style = \"text-align: right;\">5352</td><td style = \"text-align: right;\">5352</td><td style = \"text-align: right;\">5352</td><td style = \"text-align: right;\">11693</td><td style = \"text-align: right;\">11693</td><td style = \"text-align: right;\">11693</td><td style = \"text-align: right;\">11693</td><td style = \"text-align: right;\">11693</td><td style = \"text-align: right;\">11693</td><td style = \"text-align: right;\">11693</td><td style = \"text-align: right;\">11693</td><td style = \"text-align: right;\">9683</td><td style = \"text-align: right;\">9683</td><td style = \"text-align: right;\">12359</td><td style = \"text-align: right;\">12359</td><td style = \"text-align: right;\">12359</td><td style = \"text-align: right;\">0</td><td style = \"text-align: right;\">0</td><td style = \"text-align: right;\">0</td><td style = \"text-align: right;\">0</td><td style = \"text-align: right;\">0</td><td style = \"text-align: right;\">0</td><td style = \"text-align: right;\">0</td><td style = \"text-align: right;\">0</td><td style = \"text-align: right;\">0</td><td style = \"text-align: right;\">0</td><td style = \"text-align: right;\">0</td><td style = \"text-align: right;\">12143</td><td style = \"text-align: right;\">12143</td><td style = \"text-align: right;\">12143</td><td style = \"text-align: right;\">4807</td><td style = \"text-align: right;\">4807</td><td style = \"text-align: right;\">4807</td><td style = \"text-align: right;\">4807</td><td style = \"text-align: right;\">5488</td><td style = \"text-align: right;\">5488</td><td style = \"text-align: right;\">5352</td><td style = \"text-align: right;\">11693</td><td style = \"text-align: right;\">11693</td><td style = \"text-align: right;\">0</td><td style = \"text-align: right;\">0</td><td style = \"text-align: right;\">0</td><td style = \"text-align: right;\">5488</td><td style = \"text-align: right;\">0</td><td style = \"text-align: right;\">5488</td><td style = \"text-align: right;\">5352</td><td style = \"text-align: right;\">11693</td><td style = \"text-align: right;\">0</td><td style = \"text-align: right;\">5488</td><td style = \"text-align: right;\">5352</td><td style = \"text-align: right;\">11693</td><td style = \"text-align: right;\">0</td><td style = \"text-align: right;\">5488</td><td style = \"text-align: right;\">0</td><td style = \"text-align: right;\">5488</td><td style = \"text-align: right;\">0</td><td style = \"text-align: right;\">5676</td><td style = \"text-align: right;\">4762</td><td style = \"text-align: right;\">6450</td><td style = \"text-align: right;\">7301</td><td style = \"text-align: right;\">5352</td><td style = \"text-align: right;\">11693</td><td style = \"text-align: right;\">9683</td><td style = \"text-align: right;\">12359</td><td style = \"text-align: right;\">0</td><td style = \"text-align: right;\">12143</td><td style = \"text-align: right;\">4807</td><td style = \"text-align: right;\">5676</td><td style = \"text-align: right;\">4762</td><td style = \"text-align: right;\">5488</td><td style = \"text-align: right;\">11693</td><td style = \"text-align: right;\">0</td><td style = \"text-align: right;\">&ctdot;</td></tr><tr><td class = \"rowNumber\" style = \"font-weight: bold; text-align: right;\">138</td><td style = \"text-align: right;\">11253</td><td style = \"text-align: right;\">2955</td><td style = \"text-align: right;\">310</td><td style = \"text-align: right;\">310</td><td style = \"text-align: right;\">310</td><td style = \"text-align: right;\">310</td><td style = \"text-align: right;\">730</td><td style = \"text-align: right;\">730</td><td style = \"text-align: right;\">730</td><td style = \"text-align: right;\">730</td><td style = \"text-align: right;\">3951</td><td style = \"text-align: right;\">3951</td><td style = \"text-align: right;\">3994</td><td style = \"text-align: right;\">3994</td><td style = \"text-align: right;\">0</td><td style = \"text-align: right;\">0</td><td style = \"text-align: right;\">0</td><td style = \"text-align: right;\">0</td><td style = \"text-align: right;\">0</td><td style = \"text-align: right;\">0</td><td style = \"text-align: right;\">0</td><td style = \"text-align: right;\">0</td><td style = \"text-align: right;\">0</td><td style = \"text-align: right;\">0</td><td style = \"text-align: right;\">0</td><td style = \"text-align: right;\">590</td><td style = \"text-align: right;\">590</td><td style = \"text-align: right;\">590</td><td style = \"text-align: right;\">590</td><td style = \"text-align: right;\">590</td><td style = \"text-align: right;\">590</td><td style = \"text-align: right;\">6268</td><td style = \"text-align: right;\">6268</td><td style = \"text-align: right;\">6268</td><td style = \"text-align: right;\">6268</td><td style = \"text-align: right;\">6268</td><td style = \"text-align: right;\">6268</td><td style = \"text-align: right;\">6268</td><td style = \"text-align: right;\">6268</td><td style = \"text-align: right;\">3939</td><td style = \"text-align: right;\">3939</td><td style = \"text-align: right;\">6689</td><td style = \"text-align: right;\">6689</td><td style = \"text-align: right;\">6689</td><td style = \"text-align: right;\">5676</td><td style = \"text-align: right;\">5676</td><td style = \"text-align: right;\">5676</td><td style = \"text-align: right;\">5676</td><td style = \"text-align: right;\">5676</td><td style = \"text-align: right;\">5676</td><td style = \"text-align: right;\">5676</td><td style = \"text-align: right;\">5676</td><td style = \"text-align: right;\">5676</td><td style = \"text-align: right;\">5676</td><td style = \"text-align: right;\">5676</td><td style = \"text-align: right;\">4617</td><td style = \"text-align: right;\">4617</td><td style = \"text-align: right;\">4617</td><td style = \"text-align: right;\">6174</td><td style = \"text-align: right;\">6174</td><td style = \"text-align: right;\">6174</td><td style = \"text-align: right;\">6174</td><td style = \"text-align: right;\">0</td><td style = \"text-align: right;\">0</td><td style = \"text-align: right;\">590</td><td style = \"text-align: right;\">6268</td><td style = \"text-align: right;\">6268</td><td style = \"text-align: right;\">5676</td><td style = \"text-align: right;\">5676</td><td style = \"text-align: right;\">5676</td><td style = \"text-align: right;\">0</td><td style = \"text-align: right;\">5676</td><td style = \"text-align: right;\">0</td><td style = \"text-align: right;\">590</td><td style = \"text-align: right;\">6268</td><td style = \"text-align: right;\">5676</td><td style = \"text-align: right;\">0</td><td style = \"text-align: right;\">590</td><td style = \"text-align: right;\">6268</td><td style = \"text-align: right;\">5676</td><td style = \"text-align: right;\">0</td><td style = \"text-align: right;\">5676</td><td style = \"text-align: right;\">0</td><td style = \"text-align: right;\">5676</td><td style = \"text-align: right;\">310</td><td style = \"text-align: right;\">730</td><td style = \"text-align: right;\">3951</td><td style = \"text-align: right;\">3994</td><td style = \"text-align: right;\">590</td><td style = \"text-align: right;\">6268</td><td style = \"text-align: right;\">3939</td><td style = \"text-align: right;\">6689</td><td style = \"text-align: right;\">5676</td><td style = \"text-align: right;\">4617</td><td style = \"text-align: right;\">6174</td><td style = \"text-align: right;\">310</td><td style = \"text-align: right;\">730</td><td style = \"text-align: right;\">0</td><td style = \"text-align: right;\">6268</td><td style = \"text-align: right;\">5676</td><td style = \"text-align: right;\">&ctdot;</td></tr><tr><td class = \"rowNumber\" style = \"font-weight: bold; text-align: right;\">139</td><td style = \"text-align: right;\">11069</td><td style = \"text-align: right;\">3481</td><td style = \"text-align: right;\">534</td><td style = \"text-align: right;\">534</td><td style = \"text-align: right;\">534</td><td style = \"text-align: right;\">534</td><td style = \"text-align: right;\">546</td><td style = \"text-align: right;\">546</td><td style = \"text-align: right;\">546</td><td style = \"text-align: right;\">546</td><td style = \"text-align: right;\">4349</td><td style = \"text-align: right;\">4349</td><td style = \"text-align: right;\">4392</td><td style = \"text-align: right;\">4392</td><td style = \"text-align: right;\">590</td><td style = \"text-align: right;\">590</td><td style = \"text-align: right;\">590</td><td style = \"text-align: right;\">590</td><td style = \"text-align: right;\">590</td><td style = \"text-align: right;\">590</td><td style = \"text-align: right;\">590</td><td style = \"text-align: right;\">590</td><td style = \"text-align: right;\">590</td><td style = \"text-align: right;\">590</td><td style = \"text-align: right;\">590</td><td style = \"text-align: right;\">0</td><td style = \"text-align: right;\">0</td><td style = \"text-align: right;\">0</td><td style = \"text-align: right;\">0</td><td style = \"text-align: right;\">0</td><td style = \"text-align: right;\">0</td><td style = \"text-align: right;\">6791</td><td style = \"text-align: right;\">6791</td><td style = \"text-align: right;\">6791</td><td style = \"text-align: right;\">6791</td><td style = \"text-align: right;\">6791</td><td style = \"text-align: right;\">6791</td><td style = \"text-align: right;\">6791</td><td style = \"text-align: right;\">6791</td><td style = \"text-align: right;\">4465</td><td style = \"text-align: right;\">4465</td><td style = \"text-align: right;\">7212</td><td style = \"text-align: right;\">7212</td><td style = \"text-align: right;\">7212</td><td style = \"text-align: right;\">5492</td><td style = \"text-align: right;\">5492</td><td style = \"text-align: right;\">5492</td><td style = \"text-align: right;\">5492</td><td style = \"text-align: right;\">5492</td><td style = \"text-align: right;\">5492</td><td style = \"text-align: right;\">5492</td><td style = \"text-align: right;\">5492</td><td style = \"text-align: right;\">5492</td><td style = \"text-align: right;\">5492</td><td style = \"text-align: right;\">5492</td><td style = \"text-align: right;\">4982</td><td style = \"text-align: right;\">4982</td><td style = \"text-align: right;\">4982</td><td style = \"text-align: right;\">6572</td><td style = \"text-align: right;\">6572</td><td style = \"text-align: right;\">6572</td><td style = \"text-align: right;\">6572</td><td style = \"text-align: right;\">590</td><td style = \"text-align: right;\">590</td><td style = \"text-align: right;\">0</td><td style = \"text-align: right;\">6791</td><td style = \"text-align: right;\">6791</td><td style = \"text-align: right;\">5492</td><td style = \"text-align: right;\">5492</td><td style = \"text-align: right;\">5492</td><td style = \"text-align: right;\">590</td><td style = \"text-align: right;\">5492</td><td style = \"text-align: right;\">590</td><td style = \"text-align: right;\">0</td><td style = \"text-align: right;\">6791</td><td style = \"text-align: right;\">5492</td><td style = \"text-align: right;\">590</td><td style = \"text-align: right;\">0</td><td style = \"text-align: right;\">6791</td><td style = \"text-align: right;\">5492</td><td style = \"text-align: right;\">590</td><td style = \"text-align: right;\">5492</td><td style = \"text-align: right;\">590</td><td style = \"text-align: right;\">5492</td><td style = \"text-align: right;\">534</td><td style = \"text-align: right;\">546</td><td style = \"text-align: right;\">4349</td><td style = \"text-align: right;\">4392</td><td style = \"text-align: right;\">0</td><td style = \"text-align: right;\">6791</td><td style = \"text-align: right;\">4465</td><td style = \"text-align: right;\">7212</td><td style = \"text-align: right;\">5492</td><td style = \"text-align: right;\">4982</td><td style = \"text-align: right;\">6572</td><td style = \"text-align: right;\">534</td><td style = \"text-align: right;\">546</td><td style = \"text-align: right;\">590</td><td style = \"text-align: right;\">6791</td><td style = \"text-align: right;\">5492</td><td style = \"text-align: right;\">&ctdot;</td></tr><tr><td class = \"rowNumber\" style = \"font-weight: bold; text-align: right;\">140</td><td style = \"text-align: right;\">16708</td><td style = \"text-align: right;\">4612</td><td style = \"text-align: right;\">5773</td><td style = \"text-align: right;\">5773</td><td style = \"text-align: right;\">5773</td><td style = \"text-align: right;\">5773</td><td style = \"text-align: right;\">6185</td><td style = \"text-align: right;\">6185</td><td style = \"text-align: right;\">6185</td><td style = \"text-align: right;\">6185</td><td style = \"text-align: right;\">8035</td><td style = \"text-align: right;\">8035</td><td style = \"text-align: right;\">7976</td><td style = \"text-align: right;\">7976</td><td style = \"text-align: right;\">5919</td><td style = \"text-align: right;\">5919</td><td style = \"text-align: right;\">5919</td><td style = \"text-align: right;\">5919</td><td style = \"text-align: right;\">5919</td><td style = \"text-align: right;\">5919</td><td style = \"text-align: right;\">5919</td><td style = \"text-align: right;\">5919</td><td style = \"text-align: right;\">5919</td><td style = \"text-align: right;\">5919</td><td style = \"text-align: right;\">5919</td><td style = \"text-align: right;\">6287</td><td style = \"text-align: right;\">6287</td><td style = \"text-align: right;\">6287</td><td style = \"text-align: right;\">6287</td><td style = \"text-align: right;\">6287</td><td style = \"text-align: right;\">6287</td><td style = \"text-align: right;\">0</td><td style = \"text-align: right;\">0</td><td style = \"text-align: right;\">0</td><td style = \"text-align: right;\">0</td><td style = \"text-align: right;\">0</td><td style = \"text-align: right;\">0</td><td style = \"text-align: right;\">0</td><td style = \"text-align: right;\">0</td><td style = \"text-align: right;\">5468</td><td style = \"text-align: right;\">5468</td><td style = \"text-align: right;\">4052</td><td style = \"text-align: right;\">4052</td><td style = \"text-align: right;\">4052</td><td style = \"text-align: right;\">11131</td><td style = \"text-align: right;\">11131</td><td style = \"text-align: right;\">11131</td><td style = \"text-align: right;\">11131</td><td style = \"text-align: right;\">11131</td><td style = \"text-align: right;\">11131</td><td style = \"text-align: right;\">11131</td><td style = \"text-align: right;\">11131</td><td style = \"text-align: right;\">11131</td><td style = \"text-align: right;\">11131</td><td style = \"text-align: right;\">11131</td><td style = \"text-align: right;\">8755</td><td style = \"text-align: right;\">8755</td><td style = \"text-align: right;\">8755</td><td style = \"text-align: right;\">10307</td><td style = \"text-align: right;\">10307</td><td style = \"text-align: right;\">10307</td><td style = \"text-align: right;\">10307</td><td style = \"text-align: right;\">5919</td><td style = \"text-align: right;\">5919</td><td style = \"text-align: right;\">6287</td><td style = \"text-align: right;\">0</td><td style = \"text-align: right;\">0</td><td style = \"text-align: right;\">11131</td><td style = \"text-align: right;\">11131</td><td style = \"text-align: right;\">11131</td><td style = \"text-align: right;\">5919</td><td style = \"text-align: right;\">11131</td><td style = \"text-align: right;\">5919</td><td style = \"text-align: right;\">6287</td><td style = \"text-align: right;\">0</td><td style = \"text-align: right;\">11131</td><td style = \"text-align: right;\">5919</td><td style = \"text-align: right;\">6287</td><td style = \"text-align: right;\">0</td><td style = \"text-align: right;\">11131</td><td style = \"text-align: right;\">5919</td><td style = \"text-align: right;\">11131</td><td style = \"text-align: right;\">5919</td><td style = \"text-align: right;\">11131</td><td style = \"text-align: right;\">5773</td><td style = \"text-align: right;\">6185</td><td style = \"text-align: right;\">8035</td><td style = \"text-align: right;\">7976</td><td style = \"text-align: right;\">6287</td><td style = \"text-align: right;\">0</td><td style = \"text-align: right;\">5468</td><td style = \"text-align: right;\">4052</td><td style = \"text-align: right;\">11131</td><td style = \"text-align: right;\">8755</td><td style = \"text-align: right;\">10307</td><td style = \"text-align: right;\">5773</td><td style = \"text-align: right;\">6185</td><td style = \"text-align: right;\">5919</td><td style = \"text-align: right;\">0</td><td style = \"text-align: right;\">11131</td><td style = \"text-align: right;\">&ctdot;</td></tr><tr><td class = \"rowNumber\" style = \"font-weight: bold; text-align: right;\">141</td><td style = \"text-align: right;\">6729</td><td style = \"text-align: right;\">6813</td><td style = \"text-align: right;\">5676</td><td style = \"text-align: right;\">5676</td><td style = \"text-align: right;\">5676</td><td style = \"text-align: right;\">5676</td><td style = \"text-align: right;\">4762</td><td style = \"text-align: right;\">4762</td><td style = \"text-align: right;\">4762</td><td style = \"text-align: right;\">4762</td><td style = \"text-align: right;\">6450</td><td style = \"text-align: right;\">6450</td><td style = \"text-align: right;\">7301</td><td style = \"text-align: right;\">7301</td><td style = \"text-align: right;\">5488</td><td style = \"text-align: right;\">5488</td><td style = \"text-align: right;\">5488</td><td style = \"text-align: right;\">5488</td><td style = \"text-align: right;\">5488</td><td style = \"text-align: right;\">5488</td><td style = \"text-align: right;\">5488</td><td style = \"text-align: right;\">5488</td><td style = \"text-align: right;\">5488</td><td style = \"text-align: right;\">5488</td><td style = \"text-align: right;\">5488</td><td style = \"text-align: right;\">5352</td><td style = \"text-align: right;\">5352</td><td style = \"text-align: right;\">5352</td><td style = \"text-align: right;\">5352</td><td style = \"text-align: right;\">5352</td><td style = \"text-align: right;\">5352</td><td style = \"text-align: right;\">11693</td><td style = \"text-align: right;\">11693</td><td style = \"text-align: right;\">11693</td><td style = \"text-align: right;\">11693</td><td style = \"text-align: right;\">11693</td><td style = \"text-align: right;\">11693</td><td style = \"text-align: right;\">11693</td><td style = \"text-align: right;\">11693</td><td style = \"text-align: right;\">9683</td><td style = \"text-align: right;\">9683</td><td style = \"text-align: right;\">12359</td><td style = \"text-align: right;\">12359</td><td style = \"text-align: right;\">12359</td><td style = \"text-align: right;\">0</td><td style = \"text-align: right;\">0</td><td style = \"text-align: right;\">0</td><td style = \"text-align: right;\">0</td><td style = \"text-align: right;\">0</td><td style = \"text-align: right;\">0</td><td style = \"text-align: right;\">0</td><td style = \"text-align: right;\">0</td><td style = \"text-align: right;\">0</td><td style = \"text-align: right;\">0</td><td style = \"text-align: right;\">0</td><td style = \"text-align: right;\">12143</td><td style = \"text-align: right;\">12143</td><td style = \"text-align: right;\">12143</td><td style = \"text-align: right;\">4807</td><td style = \"text-align: right;\">4807</td><td style = \"text-align: right;\">4807</td><td style = \"text-align: right;\">4807</td><td style = \"text-align: right;\">5488</td><td style = \"text-align: right;\">5488</td><td style = \"text-align: right;\">5352</td><td style = \"text-align: right;\">11693</td><td style = \"text-align: right;\">11693</td><td style = \"text-align: right;\">0</td><td style = \"text-align: right;\">0</td><td style = \"text-align: right;\">0</td><td style = \"text-align: right;\">5488</td><td style = \"text-align: right;\">0</td><td style = \"text-align: right;\">5488</td><td style = \"text-align: right;\">5352</td><td style = \"text-align: right;\">11693</td><td style = \"text-align: right;\">0</td><td style = \"text-align: right;\">5488</td><td style = \"text-align: right;\">5352</td><td style = \"text-align: right;\">11693</td><td style = \"text-align: right;\">0</td><td style = \"text-align: right;\">5488</td><td style = \"text-align: right;\">0</td><td style = \"text-align: right;\">5488</td><td style = \"text-align: right;\">0</td><td style = \"text-align: right;\">5676</td><td style = \"text-align: right;\">4762</td><td style = \"text-align: right;\">6450</td><td style = \"text-align: right;\">7301</td><td style = \"text-align: right;\">5352</td><td style = \"text-align: right;\">11693</td><td style = \"text-align: right;\">9683</td><td style = \"text-align: right;\">12359</td><td style = \"text-align: right;\">0</td><td style = \"text-align: right;\">12143</td><td style = \"text-align: right;\">4807</td><td style = \"text-align: right;\">5676</td><td style = \"text-align: right;\">4762</td><td style = \"text-align: right;\">5488</td><td style = \"text-align: right;\">11693</td><td style = \"text-align: right;\">0</td><td style = \"text-align: right;\">&ctdot;</td></tr><tr><td class = \"rowNumber\" style = \"font-weight: bold; text-align: right;\">142</td><td style = \"text-align: right;\">11253</td><td style = \"text-align: right;\">2955</td><td style = \"text-align: right;\">310</td><td style = \"text-align: right;\">310</td><td style = \"text-align: right;\">310</td><td style = \"text-align: right;\">310</td><td style = \"text-align: right;\">730</td><td style = \"text-align: right;\">730</td><td style = \"text-align: right;\">730</td><td style = \"text-align: right;\">730</td><td style = \"text-align: right;\">3951</td><td style = \"text-align: right;\">3951</td><td style = \"text-align: right;\">3994</td><td style = \"text-align: right;\">3994</td><td style = \"text-align: right;\">0</td><td style = \"text-align: right;\">0</td><td style = \"text-align: right;\">0</td><td style = \"text-align: right;\">0</td><td style = \"text-align: right;\">0</td><td style = \"text-align: right;\">0</td><td style = \"text-align: right;\">0</td><td style = \"text-align: right;\">0</td><td style = \"text-align: right;\">0</td><td style = \"text-align: right;\">0</td><td style = \"text-align: right;\">0</td><td style = \"text-align: right;\">590</td><td style = \"text-align: right;\">590</td><td style = \"text-align: right;\">590</td><td style = \"text-align: right;\">590</td><td style = \"text-align: right;\">590</td><td style = \"text-align: right;\">590</td><td style = \"text-align: right;\">6268</td><td style = \"text-align: right;\">6268</td><td style = \"text-align: right;\">6268</td><td style = \"text-align: right;\">6268</td><td style = \"text-align: right;\">6268</td><td style = \"text-align: right;\">6268</td><td style = \"text-align: right;\">6268</td><td style = \"text-align: right;\">6268</td><td style = \"text-align: right;\">3939</td><td style = \"text-align: right;\">3939</td><td style = \"text-align: right;\">6689</td><td style = \"text-align: right;\">6689</td><td style = \"text-align: right;\">6689</td><td style = \"text-align: right;\">5676</td><td style = \"text-align: right;\">5676</td><td style = \"text-align: right;\">5676</td><td style = \"text-align: right;\">5676</td><td style = \"text-align: right;\">5676</td><td style = \"text-align: right;\">5676</td><td style = \"text-align: right;\">5676</td><td style = \"text-align: right;\">5676</td><td style = \"text-align: right;\">5676</td><td style = \"text-align: right;\">5676</td><td style = \"text-align: right;\">5676</td><td style = \"text-align: right;\">4617</td><td style = \"text-align: right;\">4617</td><td style = \"text-align: right;\">4617</td><td style = \"text-align: right;\">6174</td><td style = \"text-align: right;\">6174</td><td style = \"text-align: right;\">6174</td><td style = \"text-align: right;\">6174</td><td style = \"text-align: right;\">0</td><td style = \"text-align: right;\">0</td><td style = \"text-align: right;\">590</td><td style = \"text-align: right;\">6268</td><td style = \"text-align: right;\">6268</td><td style = \"text-align: right;\">5676</td><td style = \"text-align: right;\">5676</td><td style = \"text-align: right;\">5676</td><td style = \"text-align: right;\">0</td><td style = \"text-align: right;\">5676</td><td style = \"text-align: right;\">0</td><td style = \"text-align: right;\">590</td><td style = \"text-align: right;\">6268</td><td style = \"text-align: right;\">5676</td><td style = \"text-align: right;\">0</td><td style = \"text-align: right;\">590</td><td style = \"text-align: right;\">6268</td><td style = \"text-align: right;\">5676</td><td style = \"text-align: right;\">0</td><td style = \"text-align: right;\">5676</td><td style = \"text-align: right;\">0</td><td style = \"text-align: right;\">5676</td><td style = \"text-align: right;\">310</td><td style = \"text-align: right;\">730</td><td style = \"text-align: right;\">3951</td><td style = \"text-align: right;\">3994</td><td style = \"text-align: right;\">590</td><td style = \"text-align: right;\">6268</td><td style = \"text-align: right;\">3939</td><td style = \"text-align: right;\">6689</td><td style = \"text-align: right;\">5676</td><td style = \"text-align: right;\">4617</td><td style = \"text-align: right;\">6174</td><td style = \"text-align: right;\">310</td><td style = \"text-align: right;\">730</td><td style = \"text-align: right;\">0</td><td style = \"text-align: right;\">6268</td><td style = \"text-align: right;\">5676</td><td style = \"text-align: right;\">&ctdot;</td></tr></tbody></table></div>"
      ],
      "text/latex": [
       "\\begin{tabular}{r|ccccccccc}\n",
       "\t& Depot 1 & Depot 2 & Patient 1 & Patient 2 & Patient 3 & Patient 4 & Patient 5 & Patient 6 & \\\\\n",
       "\t\\hline\n",
       "\t& Int64 & Int64 & Int64 & Int64 & Int64 & Int64 & Int64 & Int64 & \\\\\n",
       "\t\\hline\n",
       "\t1 & 0 & 12165 & 8451 & 8451 & 8451 & 8451 & 7537 & 7537 & $\\dots$ \\\\\n",
       "\t2 & 13531 & 0 & 2738 & 2738 & 2738 & 2738 & 3158 & 3158 & $\\dots$ \\\\\n",
       "\t3 & 10963 & 3200 & 0 & 0 & 0 & 0 & 440 & 440 & $\\dots$ \\\\\n",
       "\t4 & 10963 & 3200 & 0 & 0 & 0 & 0 & 440 & 440 & $\\dots$ \\\\\n",
       "\t5 & 10963 & 3200 & 0 & 0 & 0 & 0 & 440 & 440 & $\\dots$ \\\\\n",
       "\t6 & 10963 & 3200 & 0 & 0 & 0 & 0 & 440 & 440 & $\\dots$ \\\\\n",
       "\t7 & 10618 & 3628 & 447 & 447 & 447 & 447 & 0 & 0 & $\\dots$ \\\\\n",
       "\t8 & 10618 & 3628 & 447 & 447 & 447 & 447 & 0 & 0 & $\\dots$ \\\\\n",
       "\t9 & 10618 & 3628 & 447 & 447 & 447 & 447 & 0 & 0 & $\\dots$ \\\\\n",
       "\t10 & 10618 & 3628 & 447 & 447 & 447 & 447 & 0 & 0 & $\\dots$ \\\\\n",
       "\t11 & 10891 & 4501 & 4358 & 4358 & 4358 & 4358 & 4778 & 4778 & $\\dots$ \\\\\n",
       "\t12 & 10891 & 4501 & 4358 & 4358 & 4358 & 4358 & 4778 & 4778 & $\\dots$ \\\\\n",
       "\t13 & 10551 & 3892 & 3749 & 3749 & 3749 & 3749 & 4169 & 4169 & $\\dots$ \\\\\n",
       "\t14 & 10551 & 3892 & 3749 & 3749 & 3749 & 3749 & 4169 & 4169 & $\\dots$ \\\\\n",
       "\t15 & 11253 & 2955 & 310 & 310 & 310 & 310 & 730 & 730 & $\\dots$ \\\\\n",
       "\t16 & 11253 & 2955 & 310 & 310 & 310 & 310 & 730 & 730 & $\\dots$ \\\\\n",
       "\t17 & 11253 & 2955 & 310 & 310 & 310 & 310 & 730 & 730 & $\\dots$ \\\\\n",
       "\t18 & 11253 & 2955 & 310 & 310 & 310 & 310 & 730 & 730 & $\\dots$ \\\\\n",
       "\t19 & 11253 & 2955 & 310 & 310 & 310 & 310 & 730 & 730 & $\\dots$ \\\\\n",
       "\t20 & 11253 & 2955 & 310 & 310 & 310 & 310 & 730 & 730 & $\\dots$ \\\\\n",
       "\t21 & 11253 & 2955 & 310 & 310 & 310 & 310 & 730 & 730 & $\\dots$ \\\\\n",
       "\t22 & 11253 & 2955 & 310 & 310 & 310 & 310 & 730 & 730 & $\\dots$ \\\\\n",
       "\t23 & 11253 & 2955 & 310 & 310 & 310 & 310 & 730 & 730 & $\\dots$ \\\\\n",
       "\t24 & 11253 & 2955 & 310 & 310 & 310 & 310 & 730 & 730 & $\\dots$ \\\\\n",
       "\t25 & 11253 & 2955 & 310 & 310 & 310 & 310 & 730 & 730 & $\\dots$ \\\\\n",
       "\t26 & 11069 & 3481 & 534 & 534 & 534 & 534 & 546 & 546 & $\\dots$ \\\\\n",
       "\t27 & 11069 & 3481 & 534 & 534 & 534 & 534 & 546 & 546 & $\\dots$ \\\\\n",
       "\t28 & 11069 & 3481 & 534 & 534 & 534 & 534 & 546 & 546 & $\\dots$ \\\\\n",
       "\t29 & 11069 & 3481 & 534 & 534 & 534 & 534 & 546 & 546 & $\\dots$ \\\\\n",
       "\t30 & 11069 & 3481 & 534 & 534 & 534 & 534 & 546 & 546 & $\\dots$ \\\\\n",
       "\t$\\dots$ & $\\dots$ & $\\dots$ & $\\dots$ & $\\dots$ & $\\dots$ & $\\dots$ & $\\dots$ & $\\dots$ &  \\\\\n",
       "\\end{tabular}\n"
      ],
      "text/plain": [
       "\u001b[1m142×142 DataFrame\n",
       "\u001b[1m Row │\u001b[1m Depot 1 \u001b[1m Depot 2 \u001b[1m Patient 1 \u001b[1m Patient 2 \u001b[1m Patient 3 \u001b[1m Patient 4 \u001b[1m Patient 5 ⋯\n",
       "     │\u001b[90m Int64   \u001b[90m Int64   \u001b[90m Int64     \u001b[90m Int64     \u001b[90m Int64     \u001b[90m Int64     \u001b[90m Int64     ⋯\n",
       "─────┼──────────────────────────────────────────────────────────────────────────\n",
       "   1 │       0    12165       8451       8451       8451       8451       7537 ⋯\n",
       "   2 │   13531        0       2738       2738       2738       2738       3158\n",
       "   3 │   10963     3200          0          0          0          0        440\n",
       "   4 │   10963     3200          0          0          0          0        440\n",
       "   5 │   10963     3200          0          0          0          0        440 ⋯\n",
       "   6 │   10963     3200          0          0          0          0        440\n",
       "   7 │   10618     3628        447        447        447        447          0\n",
       "   8 │   10618     3628        447        447        447        447          0\n",
       "   9 │   10618     3628        447        447        447        447          0 ⋯\n",
       "  10 │   10618     3628        447        447        447        447          0\n",
       "  11 │   10891     4501       4358       4358       4358       4358       4778\n",
       "  ⋮  │    ⋮        ⋮         ⋮          ⋮          ⋮          ⋮          ⋮     ⋱\n",
       " 133 │   16708     4612       5773       5773       5773       5773       6185\n",
       " 134 │    6729     6813       5676       5676       5676       5676       4762 ⋯\n",
       " 135 │    6729     6813       5676       5676       5676       5676       4762\n",
       " 136 │   11253     2955        310        310        310        310        730\n",
       " 137 │    6729     6813       5676       5676       5676       5676       4762\n",
       " 138 │   11253     2955        310        310        310        310        730 ⋯\n",
       " 139 │   11069     3481        534        534        534        534        546\n",
       " 140 │   16708     4612       5773       5773       5773       5773       6185\n",
       " 141 │    6729     6813       5676       5676       5676       5676       4762\n",
       " 142 │   11253     2955        310        310        310        310        730 ⋯\n",
       "\u001b[36m                                                135 columns and 121 rows omitted"
      ]
     },
     "execution_count": 36,
     "metadata": {},
     "output_type": "execute_result"
    }
   ],
   "source": [
    "distance_mapping = distance_mapping[:,3:end]"
   ]
  },
  {
   "cell_type": "code",
   "execution_count": 37,
   "id": "e4cea517",
   "metadata": {},
   "outputs": [
    {
     "data": {
      "text/html": [
       "<div><div style = \"float: left;\"><span>10×1 DataFrame</span></div><div style = \"clear: both;\"></div></div><div class = \"data-frame\" style = \"overflow-x: scroll;\"><table class = \"data-frame\" style = \"margin-bottom: 6px;\"><thead><tr class = \"header\"><th class = \"rowNumber\" style = \"font-weight: bold; text-align: right;\">Row</th><th style = \"text-align: left;\">type</th></tr><tr class = \"subheader headerLastRow\"><th class = \"rowNumber\" style = \"font-weight: bold; text-align: right;\"></th><th title = \"Int64\" style = \"text-align: left;\">Int64</th></tr></thead><tbody><tr><td class = \"rowNumber\" style = \"font-weight: bold; text-align: right;\">1</td><td style = \"text-align: right;\">1</td></tr><tr><td class = \"rowNumber\" style = \"font-weight: bold; text-align: right;\">2</td><td style = \"text-align: right;\">1</td></tr><tr><td class = \"rowNumber\" style = \"font-weight: bold; text-align: right;\">3</td><td style = \"text-align: right;\">2</td></tr><tr><td class = \"rowNumber\" style = \"font-weight: bold; text-align: right;\">4</td><td style = \"text-align: right;\">1</td></tr><tr><td class = \"rowNumber\" style = \"font-weight: bold; text-align: right;\">5</td><td style = \"text-align: right;\">2</td></tr><tr><td class = \"rowNumber\" style = \"font-weight: bold; text-align: right;\">6</td><td style = \"text-align: right;\">1</td></tr><tr><td class = \"rowNumber\" style = \"font-weight: bold; text-align: right;\">7</td><td style = \"text-align: right;\">2</td></tr><tr><td class = \"rowNumber\" style = \"font-weight: bold; text-align: right;\">8</td><td style = \"text-align: right;\">1</td></tr><tr><td class = \"rowNumber\" style = \"font-weight: bold; text-align: right;\">9</td><td style = \"text-align: right;\">1</td></tr><tr><td class = \"rowNumber\" style = \"font-weight: bold; text-align: right;\">10</td><td style = \"text-align: right;\">1</td></tr></tbody></table></div>"
      ],
      "text/latex": [
       "\\begin{tabular}{r|c}\n",
       "\t& type\\\\\n",
       "\t\\hline\n",
       "\t& Int64\\\\\n",
       "\t\\hline\n",
       "\t1 & 1 \\\\\n",
       "\t2 & 1 \\\\\n",
       "\t3 & 2 \\\\\n",
       "\t4 & 1 \\\\\n",
       "\t5 & 2 \\\\\n",
       "\t6 & 1 \\\\\n",
       "\t7 & 2 \\\\\n",
       "\t8 & 1 \\\\\n",
       "\t9 & 1 \\\\\n",
       "\t10 & 1 \\\\\n",
       "\\end{tabular}\n"
      ],
      "text/plain": [
       "\u001b[1m10×1 DataFrame\n",
       "\u001b[1m Row │\u001b[1m type\n",
       "     │\u001b[90m Int64\n",
       "─────┼───────\n",
       "   1 │     1\n",
       "   2 │     1\n",
       "   3 │     2\n",
       "   4 │     1\n",
       "   5 │     2\n",
       "   6 │     1\n",
       "   7 │     2\n",
       "   8 │     1\n",
       "   9 │     1\n",
       "  10 │     1"
      ]
     },
     "execution_count": 37,
     "metadata": {},
     "output_type": "execute_result"
    }
   ],
   "source": [
    "vehicle_type = vehicle_type[:,2:end]"
   ]
  },
  {
   "cell_type": "code",
   "execution_count": 38,
   "id": "dac73703",
   "metadata": {},
   "outputs": [
    {
     "data": {
      "text/plain": [
       "2"
      ]
     },
     "execution_count": 38,
     "metadata": {},
     "output_type": "execute_result"
    }
   ],
   "source": [
    "(vehicle_depot_mapping[1,1] == 1)*2"
   ]
  },
  {
   "cell_type": "code",
   "execution_count": null,
   "id": "8eb0fa30",
   "metadata": {},
   "outputs": [],
   "source": []
  },
  {
   "cell_type": "code",
   "execution_count": null,
   "id": "0d0a181d",
   "metadata": {},
   "outputs": [],
   "source": []
  },
  {
   "cell_type": "markdown",
   "id": "29248be4",
   "metadata": {},
   "source": [
    "### Defining Parameters"
   ]
  },
  {
   "cell_type": "code",
   "execution_count": 46,
   "id": "e495391a",
   "metadata": {},
   "outputs": [],
   "source": [
    "n_depots = 2\n",
    "n_pickup = 70\n",
    "n_destination = n_pickup\n",
    "V = n_depots + n_pickup + n_destination    # Total locations\n",
    "\n",
    "depots = [1: 1: n_depots;]\n",
    "pickups = [1+n_depots: 1: n_depots+n_pickup;]\n",
    "destinations = [1+n_depots+n_pickup: 1: n_depots+n_pickup+n_destination;];"
   ]
  },
  {
   "cell_type": "code",
   "execution_count": 47,
   "id": "743e1d4c",
   "metadata": {},
   "outputs": [
    {
     "data": {
      "text/plain": [
       "2-element Vector{Int64}:\n",
       " 1\n",
       " 2"
      ]
     },
     "execution_count": 47,
     "metadata": {},
     "output_type": "execute_result"
    }
   ],
   "source": [
    "depots"
   ]
  },
  {
   "cell_type": "code",
   "execution_count": 48,
   "id": "3d87ec7c",
   "metadata": {},
   "outputs": [
    {
     "data": {
      "text/plain": [
       "70-element Vector{Int64}:\n",
       "  3\n",
       "  4\n",
       "  5\n",
       "  6\n",
       "  7\n",
       "  8\n",
       "  9\n",
       " 10\n",
       " 11\n",
       " 12\n",
       " 13\n",
       " 14\n",
       " 15\n",
       "  ⋮\n",
       " 61\n",
       " 62\n",
       " 63\n",
       " 64\n",
       " 65\n",
       " 66\n",
       " 67\n",
       " 68\n",
       " 69\n",
       " 70\n",
       " 71\n",
       " 72"
      ]
     },
     "execution_count": 48,
     "metadata": {},
     "output_type": "execute_result"
    }
   ],
   "source": [
    "pickups"
   ]
  },
  {
   "cell_type": "code",
   "execution_count": 49,
   "id": "2b9e8108",
   "metadata": {},
   "outputs": [
    {
     "data": {
      "text/plain": [
       "70-element Vector{Int64}:\n",
       "  73\n",
       "  74\n",
       "  75\n",
       "  76\n",
       "  77\n",
       "  78\n",
       "  79\n",
       "  80\n",
       "  81\n",
       "  82\n",
       "  83\n",
       "  84\n",
       "  85\n",
       "   ⋮\n",
       " 131\n",
       " 132\n",
       " 133\n",
       " 134\n",
       " 135\n",
       " 136\n",
       " 137\n",
       " 138\n",
       " 139\n",
       " 140\n",
       " 141\n",
       " 142"
      ]
     },
     "execution_count": 49,
     "metadata": {},
     "output_type": "execute_result"
    }
   ],
   "source": [
    "destinations"
   ]
  },
  {
   "cell_type": "code",
   "execution_count": 50,
   "id": "a61e63d7",
   "metadata": {},
   "outputs": [
    {
     "data": {
      "text/plain": [
       "10"
      ]
     },
     "execution_count": 50,
     "metadata": {},
     "output_type": "execute_result"
    }
   ],
   "source": [
    "# n_vehicles_types = maximum(vehicle_type[!,1])\n",
    "K = size(vehicle_type)[1] # n_vehicles"
   ]
  },
  {
   "cell_type": "code",
   "execution_count": null,
   "id": "94a0ba7a",
   "metadata": {},
   "outputs": [],
   "source": []
  },
  {
   "cell_type": "code",
   "execution_count": 53,
   "id": "70066910",
   "metadata": {},
   "outputs": [
    {
     "data": {
      "text/plain": [
       "15"
      ]
     },
     "execution_count": 53,
     "metadata": {},
     "output_type": "execute_result"
    }
   ],
   "source": [
    "max_pickups_per_vehicle = 15"
   ]
  },
  {
   "cell_type": "code",
   "execution_count": 97,
   "id": "046be58d",
   "metadata": {},
   "outputs": [
    {
     "name": "stdout",
     "output_type": "stream",
     "text": [
      "Set parameter Username\n",
      "Academic license - for non-commercial use only - expires 2023-08-18\n",
      "Gurobi Optimizer version 9.5.2 build v9.5.2rc0 (mac64[arm])\n",
      "Thread count: 8 physical cores, 8 logical processors, using up to 8 threads\n",
      "Optimize a model with 203230 rows, 201650 columns and 1006080 nonzeros\n",
      "Model fingerprint: 0x44ebed8f\n",
      "Variable types: 0 continuous, 201650 integer (201650 binary)\n",
      "Coefficient statistics:\n",
      "  Matrix range     [1e+00, 1e+00]\n",
      "  Objective range  [6e-01, 2e+02]\n",
      "  Bounds range     [0e+00, 0e+00]\n",
      "  RHS range        [1e+00, 2e+01]\n",
      "Found heuristic solution: objective 8785.6960000\n",
      "Presolve removed 4240 rows and 1410 columns\n",
      "Presolve time: 0.78s\n",
      "Presolved: 198990 rows, 200240 columns, 996200 nonzeros\n",
      "Variable types: 0 continuous, 200240 integer (200240 binary)\n",
      "\n",
      "Deterministic concurrent LP optimizer: primal and dual simplex\n",
      "Showing first log only...\n",
      "\n",
      "Concurrent spin time: 0.00s\n",
      "\n",
      "Solved with dual simplex\n",
      "\n",
      "Root relaxation: objective 1.718808e+03, 1285 iterations, 0.63 seconds (1.22 work units)\n",
      "\n",
      "    Nodes    |    Current Node    |     Objective Bounds      |     Work\n",
      " Expl Unexpl |  Obj  Depth IntInf | Incumbent    BestBd   Gap | It/Node Time\n",
      "\n",
      "     0     0 1718.80800    0  414 8785.69600 1718.80800  80.4%     -    5s\n",
      "H    0     0                    8766.0980000 1718.80800  80.4%     -    5s\n",
      "H    0     0                    8124.0300000 1718.80800  78.8%     -    5s\n",
      "     0     0 1718.80800    0  425 8124.03000 1718.80800  78.8%     -    8s\n",
      "H    0     0                    2230.2720000 1718.80800  22.9%     -   20s\n",
      "     0     0 1718.80800    0  431 2230.27200 1718.80800  22.9%     -   20s\n",
      "     0     0 1718.80800    0  416 2230.27200 1718.80800  22.9%     -   31s\n",
      "     0     0 1723.25347    0  428 2230.27200 1723.25347  22.7%     -   36s\n",
      "     0     0 1873.80098    0  528 2230.27200 1873.80098  16.0%     -   51s\n",
      "     0     0 1910.66777    0  571 2230.27200 1910.66777  14.3%     -   58s\n",
      "     0     0 1912.23248    0  580 2230.27200 1912.23248  14.3%     -   62s\n",
      "     0     0 1913.87184    0  579 2230.27200 1913.87184  14.2%     -   64s\n",
      "     0     0 1963.60731    0  563 2230.27200 1963.60731  12.0%     -   68s\n",
      "     0     0 1963.90515    0  566 2230.27200 1963.90515  11.9%     -   69s\n",
      "     0     0 1964.50990    0  566 2230.27200 1964.50990  11.9%     -   69s\n",
      "     0     0 1964.50990    0  569 2230.27200 1964.50990  11.9%     -   70s\n",
      "     0     0 1969.43936    0  533 2230.27200 1969.43936  11.7%     -   71s\n",
      "     0     0 1969.43936    0  530 2230.27200 1969.43936  11.7%     -   74s\n",
      "     0     0 1970.63953    0  749 2230.27200 1970.63953  11.6%     -   77s\n",
      "     0     0 1970.86995    0  752 2230.27200 1970.86995  11.6%     -   78s\n",
      "     0     0 1970.88714    0  743 2230.27200 1970.88714  11.6%     -   78s\n",
      "     0     0 1970.90914    0  747 2230.27200 1970.90914  11.6%     -   80s\n",
      "     0     0 1970.90914    0  746 2230.27200 1970.90914  11.6%     -   87s\n",
      "     0     0 1970.91707    0  754 2230.27200 1970.91707  11.6%     -   87s\n",
      "     0     0 1970.91707    0  749 2230.27200 1970.91707  11.6%     -   88s\n",
      "     0     0 1970.91707    0  749 2230.27200 1970.91707  11.6%     -   89s\n",
      "     0     0 1970.91707    0  750 2230.27200 1970.91707  11.6%     -   89s\n",
      "     0     0 1970.91707    0  657 2230.27200 1970.91707  11.6%     -   93s\n",
      "     0     0 1970.91707    0  654 2230.27200 1970.91707  11.6%     -   94s\n",
      "     0     0 1970.91707    0  661 2230.27200 1970.91707  11.6%     -   97s\n",
      "     0     0 1970.91707    0  661 2230.27200 1970.91707  11.6%     -  183s\n",
      "H    0     0                    2230.2718744 1970.91707  11.6%     -  199s\n",
      "H    0     0                    2230.2718690 1970.91707  11.6%     -  204s\n",
      "H    0     0                    2230.2718033 1970.91707  11.6%     -  204s\n",
      "     0     2 1970.91707    0  655 2230.27180 1970.91707  11.6%     -  261s\n",
      "     1     2     cutoff    1      2230.27180 1970.94489  11.6%  5390  277s\n",
      "     3     4 1981.80300    2  516 2230.27180 1981.80300  11.1%  2164  283s\n",
      "     5     8 1982.42300    3  487 2230.27180 1981.80300  11.1%  1390  291s\n",
      "     9    14 1982.57700    4  460 2230.27180 1981.80300  11.1%   873  340s\n",
      "    17    22 1982.57700    5  457 2230.27180 1981.80300  11.1%   777  364s\n",
      "    25    28 2043.23305    6  401 2230.27180 1981.80300  11.1%   806  388s\n",
      "    33    36 2043.23305    7  393 2230.27180 1981.80300  11.1%   814  429s\n",
      "    41    49 2043.23305    8  390 2230.27180 1981.80300  11.1%   767  439s\n",
      "    54    57 2043.62941   10  387 2230.27180 1981.80300  11.1%   605  451s\n",
      "    62    71 2043.62941   11  386 2230.27180 1981.80300  11.1%   545  463s\n",
      "    76    86 2043.62941   13  383 2230.27180 1981.80300  11.1%   490  487s\n",
      "    91   109 2043.62941   15  384 2230.27180 1981.80300  11.1%   419  496s\n",
      "\n",
      "Cutting planes:\n",
      "  MIR: 39\n",
      "\n",
      "Explored 114 nodes (110589 simplex iterations) in 496.86 seconds (1662.04 work units)\n",
      "Thread count was 8 (of 8 available processors)\n",
      "\n",
      "Solution count 6: 2230.27 2230.27 2230.27 ... 8785.7\n",
      "\n",
      "Solve interrupted\n",
      "Best objective 2.230271803324e+03, best bound 1.981803000000e+03, gap 11.1407%\n",
      "\n",
      "User-callback calls 148665, time in user-callback 0.44 sec\n"
     ]
    }
   ],
   "source": [
    "# # Build model.\n",
    "# model = Model(Gurobi.Optimizer)\n",
    "# # set_optimizer_attribute(model, \"OutputFlag\", solver_output)\n",
    "\n",
    "\n",
    "# # Insert variable.\n",
    "# # We create a huge number of variables because we map multiple locations with the same index.\n",
    "# @variable(model, x[i=1:V, j=1:V, k=1:K], Bin)\n",
    "# @variable(model, y[k=1:K], Bin)\n",
    "\n",
    "\n",
    "# # Insert constraints.\n",
    "# @constraint(model, [j=pickups[1]:pickups[n_pickup]], sum(sum(x[i,j,k] for i=1:V) for k=1:K) <= 1) # one patient is only picked up once\n",
    "# @constraint(model, [i=pickups[1]:pickups[n_pickup]], sum(x[i,i+n_pickup,k] for k=1:K) == 1) # any 1 vehicles transports the patient from origin to destination\n",
    "# # @constraint(model, [i=pickups[1]:pickups[n_pickup], k=1:K], sum(x[i,j,k] for j=1:V) - sum(x[i+n_pickup,j,k] for j=1:V) == 0)\n",
    "# @constraint(model, [j=1:V, k=1:K], sum(x[i,j,k] for i=1:V) - sum(x[j,i,k] for i=1:V) == 0) # flow balance for each vehicle\n",
    "# @constraint(model, [k=1:K], sum(x[depots[vehicle_depot_mapping[k,1]],j,k] for j=1:V) == y[k]) # 1 vehicle goes from the depot to only 1 patient\n",
    "# @constraint(model, [k=1:K], sum(x[i, depots[vehicle_depot_mapping[k,1]],k] for i=1:V) == y[k]) # 1 vehicle goes from the depot to only 1 patient\n",
    "# @constraint(model, [k=1:K], sum(sum(x[i,j,k] for j=1:V) for i=pickups[1]:pickups[n_pickup]) <= max_pickups_per_vehicle) # 1 vehicles is restricted to do a set number of pickups at max\n",
    "# @constraint(model, [i=1:V, j=1:V, k=1:K], x[i,j,k] <= y[k]) # patient transferred only if vehicle k gets out of depot.\n",
    "\n",
    "\n",
    "\n",
    "# # Objective.\n",
    "# @objective(model, Min, \n",
    "#     sum(fixed_cost_vehicle_type_mapping[vehicle_type[k,1],1]*y[k] for k=1:K) +\n",
    "#     sum(sum(sum(distance_cost_vehicle_type_mapping[vehicle_type[k,1],1]*distance_mapping[i,j]*x[i,j,k] for i=1:V) for j=1:V) for k=1:K)\n",
    "# )\n",
    "\n",
    "\n",
    "# # Optimize.\n",
    "# optimize!(model)"
   ]
  },
  {
   "cell_type": "code",
   "execution_count": 126,
   "id": "1e54e1fd",
   "metadata": {},
   "outputs": [
    {
     "name": "stdout",
     "output_type": "stream",
     "text": [
      "Set parameter Username\n",
      "Academic license - for non-commercial use only - expires 2023-08-18\n",
      "Gurobi Optimizer version 9.5.2 build v9.5.2rc0 (mac64[arm])\n",
      "Thread count: 8 physical cores, 8 logical processors, using up to 8 threads\n",
      "Optimize a model with 203220 rows, 203070 columns and 1003930 nonzeros\n",
      "Model fingerprint: 0x10ba7b89\n",
      "Variable types: 0 continuous, 203070 integer (201650 binary)\n",
      "Coefficient statistics:\n",
      "  Matrix range     [1e+00, 1e+00]\n",
      "  Objective range  [6e-01, 2e+02]\n",
      "  Bounds range     [0e+00, 0e+00]\n",
      "  RHS range        [1e+00, 2e+01]\n",
      "Presolve removed 100190 rows and 100840 columns\n",
      "Presolve time: 0.52s\n",
      "Presolved: 103030 rows, 102230 columns, 408900 nonzeros\n",
      "Variable types: 0 continuous, 102230 integer (102230 binary)\n",
      "\n",
      "Deterministic concurrent LP optimizer: primal and dual simplex\n",
      "Showing first log only...\n",
      "\n",
      "Concurrent spin time: 0.00s\n",
      "\n",
      "Solved with dual simplex\n",
      "\n",
      "Root relaxation: objective 1.759800e+03, 1413 iterations, 0.35 seconds (0.74 work units)\n",
      "\n",
      "    Nodes    |    Current Node    |     Objective Bounds      |     Work\n",
      " Expl Unexpl |  Obj  Depth IntInf | Incumbent    BestBd   Gap | It/Node Time\n",
      "\n",
      "     0     0 1759.80039    0  404          - 1759.80039      -     -    1s\n",
      "H    0     0                    11273.448000 1759.80039  84.4%     -    2s\n",
      "H    0     0                    10717.008000 1759.80039  83.6%     -    2s\n",
      "     0     0 1903.39057    0  416 10717.0080 1903.39057  82.2%     -    4s\n",
      "H    0     0                    9996.5040000 1903.39057  81.0%     -    4s\n",
      "H    0     0                    2406.3280000 1903.39057  20.9%     -    8s\n",
      "     0     0 1903.39057    0  418 2406.32800 1903.39057  20.9%     -    8s\n",
      "     0     0 1903.39057    0  424 2406.32800 1903.39057  20.9%     -   10s\n",
      "     0     0 1903.39057    0  424 2406.32800 1903.39057  20.9%     -   10s\n",
      "     0     0 1908.78761    0  412 2406.32800 1908.78761  20.7%     -   12s\n",
      "     0     0 1928.22251    0  466 2406.32800 1928.22251  19.9%     -   14s\n",
      "     0     0 1928.94883    0  475 2406.32800 1928.94883  19.8%     -   14s\n",
      "     0     0 1931.45518    0  479 2406.32800 1931.45518  19.7%     -   15s\n",
      "     0     0 1935.03427    0  510 2406.32800 1935.03427  19.6%     -   16s\n",
      "     0     0 1936.49414    0  523 2406.32800 1936.49414  19.5%     -   17s\n",
      "     0     0 1936.57532    0  516 2406.32800 1936.57532  19.5%     -   17s\n",
      "     0     0 1936.58367    0  515 2406.32800 1936.58367  19.5%     -   17s\n",
      "     0     0 1936.58367    0  518 2406.32800 1936.58367  19.5%     -   18s\n",
      "     0     0 1936.58367    0  511 2406.32800 1936.58367  19.5%     -   18s\n",
      "     0     0 1936.58367    0  513 2406.32800 1936.58367  19.5%     -   18s\n",
      "     0     0 1936.58367    0  522 2406.32800 1936.58367  19.5%     -   18s\n",
      "     0     0 1936.58367    0  433 2406.32800 1936.58367  19.5%     -   20s\n",
      "     0     0 1936.58367    0  433 2406.32800 1936.58367  19.5%     -   20s\n",
      "     0     0 1936.58367    0  426 2406.32800 1936.58367  19.5%     -   21s\n",
      "     0     0 1936.58367    0  428 2406.32800 1936.58367  19.5%     -   21s\n",
      "     0     0 1936.58367    0  428 2406.32800 1936.58367  19.5%     -   27s\n",
      "     0     2 1936.58367    0  428 2406.32800 1936.58367  19.5%     -   36s\n",
      "     1     2     cutoff    1      2406.32800 1936.92865  19.5% 16461   46s\n",
      "    17    24 2068.60343    5  391 2406.32800 2063.25440  14.3%  1219   52s\n",
      "H   33    40                    2397.1540000 2063.25440  13.9%   708   61s\n",
      "    60    68 2075.75990   10  371 2397.15400 2063.25440  13.9%   453   66s\n",
      "    79    83     cutoff   12      2397.15400 2063.25440  13.9%   421   72s\n",
      "    90    96 2190.91400   14  232 2397.15400 2063.25440  13.9%   559   75s\n",
      "   105   111 2190.91400   17  241 2397.15400 2063.25440  13.9%   538   82s\n",
      "   120   128 2190.91400   18  245 2397.15400 2063.25440  13.9%   565   87s\n",
      "   141   141 2260.10400   19  186 2397.15400 2063.25440  13.9%   568   95s\n",
      "   175   184 2249.05825   22  207 2397.15400 2063.25440  13.9%   559  100s\n",
      "H  203   193                    2352.0340000 2063.25440  12.3%   504  113s\n",
      "   216   217 2249.05825   25  197 2352.03400 2063.25440  12.3%   484  117s\n",
      "   246   251 2249.05825   26  186 2352.03400 2063.25440  12.3%   436  120s\n",
      "   328   354 2254.39367   38  213 2352.03400 2063.25440  12.3%   361  125s\n",
      "   549   543 2258.07487   69  130 2352.03400 2063.25440  12.3%   231  131s\n",
      "   642   649 2270.72229   73  167 2352.03400 2063.25440  12.3%   220  136s\n",
      "   712   694 2270.84814   74  214 2352.03400 2063.25440  12.3%   204  140s\n",
      "   808   812 2277.21621   77  143 2352.03400 2063.25440  12.3%   191  147s\n",
      "   900   865 2277.24714   82  153 2352.03400 2063.25440  12.3%   176  150s\n",
      "   974   896 2279.38314   91  135 2352.03400 2063.25440  12.3%   171  155s\n",
      "  1058   976 2301.38894   96  148 2352.03400 2063.25440  12.3%   177  162s\n",
      "  1107  1014 2323.06592   99  197 2352.03400 2063.25440  12.3%   177  165s\n",
      "  1149  1038 2315.91255  105  187 2352.03400 2063.25440  12.3%   179  172s\n",
      "  1175  1076 2331.58682  108  182 2352.03400 2063.25440  12.3%   179  175s\n",
      "  1314  1224 2246.44410    8  246 2352.03400 2063.25440  12.3%   177  182s\n",
      "  1428  1289 2350.18600   15   67 2352.03400 2063.25440  12.3%   171  187s\n",
      "  1542  1290 2287.54400  101  428 2352.03400 2063.25440  12.3%   166  193s\n",
      "  1544  1291 2258.32040   62  284 2352.03400 2186.10000  7.05%   166  199s\n",
      "  1545  1292 2293.58100   42  124 2352.03400 2186.10000  7.05%   166  218s\n",
      "  1546  1293 2332.17877  160  128 2352.03400 2186.10000  7.05%   165  221s\n",
      "  1547  1293 2293.31100  108  127 2352.03400 2186.10000  7.05%   165  225s\n",
      "  1550  1295 2340.57000   60  159 2352.03400 2212.04625  5.95%   165  230s\n",
      "  1552  1297 2255.29000    8  196 2352.03400 2218.40000  5.68%   165  236s\n",
      "  1554  1298 2333.91850   20  143 2352.03400 2229.23400  5.22%   165  240s\n",
      "  1557  1300 2255.29000   54  138 2352.03400 2255.29000  4.11%   164  246s\n",
      "  1559  1301 2259.87753   24  127 2352.03400 2259.87753  3.92%   164  255s\n",
      "  1562  1306 2259.87753   14  186 2352.03400 2259.87753  3.92%   205  277s\n",
      "  1564  1309 2259.87753   15  181 2352.03400 2259.87753  3.92%   207  294s\n",
      "  1568  1309 2259.87753   16  174 2352.03400 2259.87753  3.92%   209  306s\n",
      "  1575  1311 2269.81000   17  212 2352.03400 2259.87753  3.92%   210  312s\n",
      "  1591  1311 2335.43773   18  260 2352.03400 2265.04587  3.70%   213  321s\n",
      "  1607  1303 2341.32970   20  241 2352.03400 2265.04587  3.70%   212  325s\n",
      "  1669  1276 2265.04588   18  259 2352.03400 2265.04587  3.70%   208  333s\n",
      "  1705  1261     cutoff   20      2352.03400 2338.45250  0.58%   205  335s\n",
      "\n",
      "Cutting planes:\n",
      "  MIR: 1\n",
      "  StrongCG: 1\n",
      "  Zero half: 2\n",
      "\n",
      "Explored 1794 nodes (387954 simplex iterations) in 339.06 seconds (830.80 work units)\n",
      "Thread count was 8 (of 8 available processors)\n",
      "\n",
      "Solution count 6: 2352.03 2397.15 2406.33 ... 11273.4\n",
      "\n",
      "Optimal solution found (tolerance 1.00e-04)\n",
      "Best objective 2.352034000000e+03, best bound 2.352034000000e+03, gap 0.0000%\n",
      "\n",
      "User-callback calls 85651, time in user-callback 0.17 sec\n"
     ]
    }
   ],
   "source": [
    "# Build model.\n",
    "model = Model(Gurobi.Optimizer)\n",
    "# set_optimizer_attribute(model, \"OutputFlag\", solver_output)\n",
    "\n",
    "\n",
    "# Insert variable.\n",
    "# We create a huge number of variables because we map multiple locations with the same index.\n",
    "@variable(model, x[i=1:V, j=1:V, k=1:K], Bin)\n",
    "@variable(model, y[k=1:K], Bin)\n",
    "@variable(model, u[i=1:V, k=1:K], Int)\n",
    "\n",
    "\n",
    "# Insert constraints.\n",
    "@constraint(model, [i=pickups[1]:pickups[n_pickup]], sum(sum(x[i,j,k] for j=1:V) for k=1:K) <= 1) # one patient is only picked up once\n",
    "@constraint(model, [i=pickups[1]:pickups[n_pickup]], sum(x[i,i+n_pickup,k] for k=1:K) == 1) # any 1 vehicles transports the patient from origin to destination\n",
    "@constraint(model, [j=1:V, k=1:K], sum(x[i,j,k] for i=1:V) - sum(x[j,i,k] for i=1:V) == 0) # flow balance for each vehicle\n",
    "@constraint(model, [k=1:K], sum(x[depots[vehicle_depot_mapping[k,1]],j,k] for j=pickups[1]:pickups[n_pickup]) == y[k]) # 1 vehicle goes from the depot to only 1 patient\n",
    "@constraint(model, [k=1:K], sum(sum(x[i,j,k] for j=1:V) for i=pickups[1]:pickups[n_pickup]) <= max_pickups_per_vehicle) # 1 vehicles is restricted to do a set number of pickups at max\n",
    "@constraint(model, [i=1:V, j=1:V, k=1:K], x[i,j,k] <= y[k]) # patient transferred only if vehicle k gets out of depot.\n",
    "# @constraint(model, [k=1:K], u[1,k] == 1)\n",
    "# @constraint(model, [i=2:V, k=1:K], 2 <= u[i,k] <= V)\n",
    "# @constraint(model, [i=2:V, k=1:K], u[i,k] <= V)\n",
    "# @constraint(model, [i=1:V, j=1:V, k=1:K], u[i,k] - u[j,k] + 1 <= (V-1)*(1-x[i,j,k]))\n",
    "\n",
    "\n",
    "# Objective.\n",
    "@objective(model, Min, \n",
    "    sum(fixed_cost_vehicle_type_mapping[vehicle_type[k,1],1]*y[k] for k=1:K) +\n",
    "    sum(sum(sum(distance_cost_vehicle_type_mapping[vehicle_type[k,1],1]*distance_mapping[i,j]*x[i,j,k] for i=1:V) for j=1:V) for k=1:K)\n",
    ")\n",
    "\n",
    "\n",
    "# Optimize.\n",
    "optimize!(model)"
   ]
  },
  {
   "cell_type": "code",
   "execution_count": null,
   "id": "e9bc0df4",
   "metadata": {},
   "outputs": [],
   "source": []
  },
  {
   "cell_type": "code",
   "execution_count": null,
   "id": "eaeddf10",
   "metadata": {},
   "outputs": [],
   "source": []
  },
  {
   "cell_type": "code",
   "execution_count": 98,
   "id": "1676faea",
   "metadata": {},
   "outputs": [],
   "source": [
    "## Naive Approach"
   ]
  },
  {
   "cell_type": "code",
   "execution_count": 101,
   "id": "8c06dd08",
   "metadata": {},
   "outputs": [
    {
     "data": {
      "text/plain": [
       "2-element Vector{Int64}:\n",
       " 2\n",
       " 1"
      ]
     },
     "execution_count": 101,
     "metadata": {},
     "output_type": "execute_result"
    }
   ],
   "source": [
    "shuffle(depots)"
   ]
  },
  {
   "cell_type": "code",
   "execution_count": 117,
   "id": "ee3dde64",
   "metadata": {},
   "outputs": [
    {
     "data": {
      "text/plain": [
       "184.51"
      ]
     },
     "execution_count": 117,
     "metadata": {},
     "output_type": "execute_result"
    }
   ],
   "source": [
    "start_depot = shuffle(depots)[1]\n",
    "chosen_vehicle = shuffle([1:1;size(vehicle_type)[1];])[1]\n",
    "variable_cost = distance_cost_vehicle_type_mapping[vehicle_type[chosen_vehicle,1],1]\n",
    "\n",
    "initial_cost = fixed_cost_vehicle_type_mapping[vehicle_type[chosen_vehicle,1],1] + distance_cost_vehicle_type_mapping[vehicle_type[chosen_vehicle,1],1]*distance_mapping[start_depot,pickups[1]]\n",
    "cost = initial_cost    "
   ]
  },
  {
   "cell_type": "code",
   "execution_count": 118,
   "id": "3d7ef833",
   "metadata": {},
   "outputs": [],
   "source": [
    "for i=1:(size(pickups)[1]-1)\n",
    "    cost = cost + variable_cost*(distance_mapping[pickups[i], destinations[i]] + distance_mapping[destinations[i], pickups[i+1]])\n",
    "end"
   ]
  },
  {
   "cell_type": "code",
   "execution_count": 119,
   "id": "22009a5d",
   "metadata": {},
   "outputs": [
    {
     "data": {
      "text/plain": [
       "72"
      ]
     },
     "execution_count": 119,
     "metadata": {},
     "output_type": "execute_result"
    }
   ],
   "source": [
    "pickups[end]"
   ]
  },
  {
   "cell_type": "code",
   "execution_count": 120,
   "id": "8e94c604",
   "metadata": {},
   "outputs": [
    {
     "data": {
      "text/plain": [
       "13908.890000000001"
      ]
     },
     "execution_count": 120,
     "metadata": {},
     "output_type": "execute_result"
    }
   ],
   "source": [
    "cost = cost + distance_mapping[pickups[end], destinations[end]]"
   ]
  },
  {
   "cell_type": "code",
   "execution_count": 121,
   "id": "0346b417",
   "metadata": {},
   "outputs": [
    {
     "data": {
      "text/plain": [
       "5488"
      ]
     },
     "execution_count": 121,
     "metadata": {},
     "output_type": "execute_result"
    }
   ],
   "source": [
    "distance_mapping[pickups[end], destinations[end]]"
   ]
  },
  {
   "cell_type": "code",
   "execution_count": 79,
   "id": "a2393641",
   "metadata": {},
   "outputs": [
    {
     "name": "stdout",
     "output_type": "stream",
     "text": [
      "0.0\n",
      "0.0\n",
      "291.0\n",
      "0.0\n",
      "293.00000039553964\n",
      "0.0\n",
      "288.0\n",
      "35.00000000037206\n",
      "0.0\n",
      "26.9999995778573\n"
     ]
    }
   ],
   "source": [
    "for i = 1:size(vehicle_type)[1]\n",
    "    println(sum(value.(x[:,:,i])))\n",
    "end"
   ]
  },
  {
   "cell_type": "code",
   "execution_count": 80,
   "id": "e96fa87e",
   "metadata": {},
   "outputs": [],
   "source": [
    "vehicle_3 = DataFrame(value.(x)[:,:,3], :auto);\n",
    "vehicle_5 = DataFrame(value.(x)[:,:,5], :auto);\n",
    "vehicle_7 = DataFrame(value.(x)[:,:,7], :auto);\n",
    "vehicle_8 = DataFrame(value.(x)[:,:,8], :auto);\n",
    "vehicle_10 = DataFrame(value.(x)[:,:,10], :auto);"
   ]
  },
  {
   "cell_type": "code",
   "execution_count": 81,
   "id": "4fffe5c0",
   "metadata": {},
   "outputs": [
    {
     "data": {
      "text/plain": [
       "291-element Vector{Tuple{Int64, Int64}}:\n",
       " (6, 76)\n",
       " (20, 90)\n",
       " (32, 102)\n",
       " (35, 105)\n",
       " (37, 107)\n",
       " (39, 109)\n",
       " (44, 114)\n",
       " (49, 119)\n",
       " (53, 123)\n",
       " (54, 124)\n",
       " (57, 127)\n",
       " (59, 129)\n",
       " (63, 133)\n",
       " ⋮\n",
       " (141, 93)\n",
       " (141, 100)\n",
       " (141, 111)\n",
       " (141, 128)\n",
       " (141, 132)\n",
       " (141, 135)\n",
       " (142, 81)\n",
       " (142, 83)\n",
       " (142, 104)\n",
       " (142, 112)\n",
       " (142, 129)\n",
       " (142, 138)"
      ]
     },
     "execution_count": 81,
     "metadata": {},
     "output_type": "execute_result"
    }
   ],
   "source": [
    "sequence_mapping_3 = sort(Tuple.(findall(>=(1), Matrix(vehicle_3))))"
   ]
  },
  {
   "cell_type": "code",
   "execution_count": 82,
   "id": "9ac8c87b",
   "metadata": {},
   "outputs": [
    {
     "data": {
      "text/plain": [
       "292-element Vector{Tuple{Int64, Int64}}:\n",
       " (9, 79)\n",
       " (12, 82)\n",
       " (14, 84)\n",
       " (29, 99)\n",
       " (30, 100)\n",
       " (33, 103)\n",
       " (34, 104)\n",
       " (47, 117)\n",
       " (48, 118)\n",
       " (50, 120)\n",
       " (51, 121)\n",
       " (64, 134)\n",
       " (66, 136)\n",
       " ⋮\n",
       " (141, 82)\n",
       " (141, 84)\n",
       " (141, 93)\n",
       " (141, 107)\n",
       " (141, 111)\n",
       " (141, 128)\n",
       " (142, 81)\n",
       " (142, 98)\n",
       " (142, 112)\n",
       " (142, 119)\n",
       " (142, 136)\n",
       " (142, 138)"
      ]
     },
     "execution_count": 82,
     "metadata": {},
     "output_type": "execute_result"
    }
   ],
   "source": [
    "sequence_mapping_5 = sort(Tuple.(findall(>=(1), Matrix(vehicle_5))))"
   ]
  },
  {
   "cell_type": "code",
   "execution_count": 83,
   "id": "c6ffcf31",
   "metadata": {},
   "outputs": [
    {
     "data": {
      "text/plain": [
       "288-element Vector{Tuple{Int64, Int64}}:\n",
       " (5, 75)\n",
       " (22, 92)\n",
       " (23, 93)\n",
       " (31, 101)\n",
       " (38, 108)\n",
       " (41, 111)\n",
       " (42, 112)\n",
       " (45, 115)\n",
       " (52, 122)\n",
       " (55, 125)\n",
       " (58, 128)\n",
       " (60, 130)\n",
       " (61, 131)\n",
       " ⋮\n",
       " (141, 82)\n",
       " (141, 100)\n",
       " (141, 111)\n",
       " (141, 114)\n",
       " (141, 128)\n",
       " (141, 134)\n",
       " (142, 73)\n",
       " (142, 83)\n",
       " (142, 110)\n",
       " (142, 119)\n",
       " (142, 129)\n",
       " (142, 136)"
      ]
     },
     "execution_count": 83,
     "metadata": {},
     "output_type": "execute_result"
    }
   ],
   "source": [
    "sequence_mapping_7 = sort(Tuple.(findall(>=(1), Matrix(vehicle_7))))"
   ]
  },
  {
   "cell_type": "code",
   "execution_count": 84,
   "id": "2a569859",
   "metadata": {},
   "outputs": [
    {
     "data": {
      "text/plain": [
       "33-element Vector{Tuple{Int64, Int64}}:\n",
       " (7, 77)\n",
       " (8, 78)\n",
       " (10, 80)\n",
       " (11, 81)\n",
       " (16, 86)\n",
       " (17, 87)\n",
       " (24, 94)\n",
       " (27, 97)\n",
       " (36, 106)\n",
       " (43, 113)\n",
       " (46, 116)\n",
       " (73, 17)\n",
       " (73, 83)\n",
       " ⋮\n",
       " (86, 10)\n",
       " (87, 117)\n",
       " (97, 7)\n",
       " (106, 43)\n",
       " (113, 36)\n",
       " (114, 128)\n",
       " (116, 8)\n",
       " (117, 11)\n",
       " (126, 129)\n",
       " (128, 80)\n",
       " (129, 73)\n",
       " (135, 76)"
      ]
     },
     "execution_count": 84,
     "metadata": {},
     "output_type": "execute_result"
    }
   ],
   "source": [
    "sequence_mapping_8 = sort(Tuple.(findall(>=(1), Matrix(vehicle_8))))"
   ]
  },
  {
   "cell_type": "code",
   "execution_count": 85,
   "id": "07558e1d",
   "metadata": {},
   "outputs": [
    {
     "data": {
      "text/plain": [
       "25-element Vector{Tuple{Int64, Int64}}:\n",
       " (3, 73)\n",
       " (4, 74)\n",
       " (13, 83)\n",
       " (15, 85)\n",
       " (18, 88)\n",
       " (19, 89)\n",
       " (21, 91)\n",
       " (25, 95)\n",
       " (26, 96)\n",
       " (40, 110)\n",
       " (62, 132)\n",
       " (72, 142)\n",
       " (73, 21)\n",
       " (83, 19)\n",
       " (85, 4)\n",
       " (88, 118)\n",
       " (89, 26)\n",
       " (91, 40)\n",
       " (95, 62)\n",
       " (96, 3)\n",
       " (98, 15)\n",
       " (110, 18)\n",
       " (118, 13)\n",
       " (132, 72)\n",
       " (142, 25)"
      ]
     },
     "execution_count": 85,
     "metadata": {},
     "output_type": "execute_result"
    }
   ],
   "source": [
    "sequence_mapping_10 = sort(Tuple.(findall(>=(1), Matrix(vehicle_10))))"
   ]
  },
  {
   "cell_type": "code",
   "execution_count": null,
   "id": "231c52e6",
   "metadata": {},
   "outputs": [],
   "source": []
  },
  {
   "cell_type": "markdown",
   "id": "80c3de66",
   "metadata": {},
   "source": [
    "I just tried constrained the number of pickups to be constrained by 2 patients (since we only had 4 right now), and this is what we get! It choses 2 vehicles to do different patients!! 3-4 done by 5th vehicle and 5,6 done by 3rd vehicle and both are vehicles of type 2 (electric) so the choice of vehicles also works good"
   ]
  },
  {
   "cell_type": "markdown",
   "id": "d8ad4253",
   "metadata": {},
   "source": [
    "I also tried putting both the vehicles in different depots and it works. Just that they are currently going back to their original depot. Maybe we can say that it goes back to original, otherwise there would have been a complexity of capacity and vacancy at each depot, and thus to not do that, we put this constrain."
   ]
  },
  {
   "cell_type": "code",
   "execution_count": null,
   "id": "9eecd1bb",
   "metadata": {},
   "outputs": [],
   "source": []
  },
  {
   "cell_type": "code",
   "execution_count": 86,
   "id": "94098635",
   "metadata": {},
   "outputs": [
    {
     "data": {
      "text/html": [
       "<div><div style = \"float: left;\"><span>32×2 DataFrame</span></div><div style = \"float: right;\"><span style = \"font-style: italic;\">7 rows omitted</span></div><div style = \"clear: both;\"></div></div><div class = \"data-frame\" style = \"overflow-x: scroll;\"><table class = \"data-frame\" style = \"margin-bottom: 6px;\"><thead><tr class = \"header\"><th class = \"rowNumber\" style = \"font-weight: bold; text-align: right;\">Row</th><th style = \"text-align: left;\">1</th><th style = \"text-align: left;\">2</th></tr><tr class = \"subheader headerLastRow\"><th class = \"rowNumber\" style = \"font-weight: bold; text-align: right;\"></th><th title = \"Int64\" style = \"text-align: left;\">Int64</th><th title = \"Int64\" style = \"text-align: left;\">Int64</th></tr></thead><tbody><tr><td class = \"rowNumber\" style = \"font-weight: bold; text-align: right;\">1</td><td style = \"text-align: right;\">2</td><td style = \"text-align: right;\">25</td></tr><tr><td class = \"rowNumber\" style = \"font-weight: bold; text-align: right;\">2</td><td style = \"text-align: right;\">3</td><td style = \"text-align: right;\">73</td></tr><tr><td class = \"rowNumber\" style = \"font-weight: bold; text-align: right;\">3</td><td style = \"text-align: right;\">4</td><td style = \"text-align: right;\">74</td></tr><tr><td class = \"rowNumber\" style = \"font-weight: bold; text-align: right;\">4</td><td style = \"text-align: right;\">8</td><td style = \"text-align: right;\">78</td></tr><tr><td class = \"rowNumber\" style = \"font-weight: bold; text-align: right;\">5</td><td style = \"text-align: right;\">15</td><td style = \"text-align: right;\">85</td></tr><tr><td class = \"rowNumber\" style = \"font-weight: bold; text-align: right;\">6</td><td style = \"text-align: right;\">24</td><td style = \"text-align: right;\">94</td></tr><tr><td class = \"rowNumber\" style = \"font-weight: bold; text-align: right;\">7</td><td style = \"text-align: right;\">25</td><td style = \"text-align: right;\">95</td></tr><tr><td class = \"rowNumber\" style = \"font-weight: bold; text-align: right;\">8</td><td style = \"text-align: right;\">26</td><td style = \"text-align: right;\">96</td></tr><tr><td class = \"rowNumber\" style = \"font-weight: bold; text-align: right;\">9</td><td style = \"text-align: right;\">28</td><td style = \"text-align: right;\">98</td></tr><tr><td class = \"rowNumber\" style = \"font-weight: bold; text-align: right;\">10</td><td style = \"text-align: right;\">36</td><td style = \"text-align: right;\">106</td></tr><tr><td class = \"rowNumber\" style = \"font-weight: bold; text-align: right;\">11</td><td style = \"text-align: right;\">43</td><td style = \"text-align: right;\">113</td></tr><tr><td class = \"rowNumber\" style = \"font-weight: bold; text-align: right;\">12</td><td style = \"text-align: right;\">46</td><td style = \"text-align: right;\">116</td></tr><tr><td class = \"rowNumber\" style = \"font-weight: bold; text-align: right;\">13</td><td style = \"text-align: right;\">56</td><td style = \"text-align: right;\">126</td></tr><tr><td style = \"text-align: right;\">&vellip;</td><td style = \"text-align: right;\">&vellip;</td><td style = \"text-align: right;\">&vellip;</td></tr><tr><td class = \"rowNumber\" style = \"font-weight: bold; text-align: right;\">21</td><td style = \"text-align: right;\">95</td><td style = \"text-align: right;\">62</td></tr><tr><td class = \"rowNumber\" style = \"font-weight: bold; text-align: right;\">22</td><td style = \"text-align: right;\">96</td><td style = \"text-align: right;\">4</td></tr><tr><td class = \"rowNumber\" style = \"font-weight: bold; text-align: right;\">23</td><td style = \"text-align: right;\">97</td><td style = \"text-align: right;\">8</td></tr><tr><td class = \"rowNumber\" style = \"font-weight: bold; text-align: right;\">24</td><td style = \"text-align: right;\">98</td><td style = \"text-align: right;\">136</td></tr><tr><td class = \"rowNumber\" style = \"font-weight: bold; text-align: right;\">25</td><td style = \"text-align: right;\">106</td><td style = \"text-align: right;\">43</td></tr><tr><td class = \"rowNumber\" style = \"font-weight: bold; text-align: right;\">26</td><td style = \"text-align: right;\">108</td><td style = \"text-align: right;\">56</td></tr><tr><td class = \"rowNumber\" style = \"font-weight: bold; text-align: right;\">27</td><td style = \"text-align: right;\">113</td><td style = \"text-align: right;\">36</td></tr><tr><td class = \"rowNumber\" style = \"font-weight: bold; text-align: right;\">28</td><td style = \"text-align: right;\">116</td><td style = \"text-align: right;\">97</td></tr><tr><td class = \"rowNumber\" style = \"font-weight: bold; text-align: right;\">29</td><td style = \"text-align: right;\">126</td><td style = \"text-align: right;\">83</td></tr><tr><td class = \"rowNumber\" style = \"font-weight: bold; text-align: right;\">30</td><td style = \"text-align: right;\">128</td><td style = \"text-align: right;\">46</td></tr><tr><td class = \"rowNumber\" style = \"font-weight: bold; text-align: right;\">31</td><td style = \"text-align: right;\">132</td><td style = \"text-align: right;\">128</td></tr><tr><td class = \"rowNumber\" style = \"font-weight: bold; text-align: right;\">32</td><td style = \"text-align: right;\">136</td><td style = \"text-align: right;\">24</td></tr></tbody></table></div>"
      ],
      "text/latex": [
       "\\begin{tabular}{r|cc}\n",
       "\t& 1 & 2\\\\\n",
       "\t\\hline\n",
       "\t& Int64 & Int64\\\\\n",
       "\t\\hline\n",
       "\t1 & 2 & 25 \\\\\n",
       "\t2 & 3 & 73 \\\\\n",
       "\t3 & 4 & 74 \\\\\n",
       "\t4 & 8 & 78 \\\\\n",
       "\t5 & 15 & 85 \\\\\n",
       "\t6 & 24 & 94 \\\\\n",
       "\t7 & 25 & 95 \\\\\n",
       "\t8 & 26 & 96 \\\\\n",
       "\t9 & 28 & 98 \\\\\n",
       "\t10 & 36 & 106 \\\\\n",
       "\t11 & 43 & 113 \\\\\n",
       "\t12 & 46 & 116 \\\\\n",
       "\t13 & 56 & 126 \\\\\n",
       "\t14 & 62 & 132 \\\\\n",
       "\t15 & 73 & 15 \\\\\n",
       "\t16 & 74 & 26 \\\\\n",
       "\t17 & 78 & 28 \\\\\n",
       "\t18 & 83 & 2 \\\\\n",
       "\t19 & 85 & 3 \\\\\n",
       "\t20 & 94 & 108 \\\\\n",
       "\t21 & 95 & 62 \\\\\n",
       "\t22 & 96 & 4 \\\\\n",
       "\t23 & 97 & 8 \\\\\n",
       "\t24 & 98 & 136 \\\\\n",
       "\t25 & 106 & 43 \\\\\n",
       "\t26 & 108 & 56 \\\\\n",
       "\t27 & 113 & 36 \\\\\n",
       "\t28 & 116 & 97 \\\\\n",
       "\t29 & 126 & 83 \\\\\n",
       "\t30 & 128 & 46 \\\\\n",
       "\t$\\dots$ & $\\dots$ & $\\dots$ \\\\\n",
       "\\end{tabular}\n"
      ],
      "text/plain": [
       "\u001b[1m32×2 DataFrame\n",
       "\u001b[1m Row │\u001b[1m 1     \u001b[1m 2\n",
       "     │\u001b[90m Int64 \u001b[90m Int64\n",
       "─────┼──────────────\n",
       "   1 │     2     25\n",
       "   2 │     3     73\n",
       "   3 │     4     74\n",
       "   4 │     8     78\n",
       "   5 │    15     85\n",
       "   6 │    24     94\n",
       "   7 │    25     95\n",
       "   8 │    26     96\n",
       "   9 │    28     98\n",
       "  10 │    36    106\n",
       "  11 │    43    113\n",
       "  ⋮  │   ⋮      ⋮\n",
       "  23 │    97      8\n",
       "  24 │    98    136\n",
       "  25 │   106     43\n",
       "  26 │   108     56\n",
       "  27 │   113     36\n",
       "  28 │   116     97\n",
       "  29 │   126     83\n",
       "  30 │   128     46\n",
       "  31 │   132    128\n",
       "  32 │   136     24\n",
       "\u001b[36m     11 rows omitted"
      ]
     },
     "execution_count": 86,
     "metadata": {},
     "output_type": "execute_result"
    }
   ],
   "source": [
    "df_sequence_mapping = DataFrame(sequence_mapping)"
   ]
  },
  {
   "cell_type": "code",
   "execution_count": 87,
   "id": "c9a24355",
   "metadata": {},
   "outputs": [
    {
     "data": {
      "text/plain": [
       "\"../data/scaled_up_70/df_sequence_mapping_5.csv\""
      ]
     },
     "execution_count": 87,
     "metadata": {},
     "output_type": "execute_result"
    }
   ],
   "source": [
    "CSV.write(\"../data/scaled_up_70/df_sequence_mapping_1.csv\", DataFrame(sequence_mapping_3))\n",
    "CSV.write(\"../data/scaled_up_70/df_sequence_mapping_2.csv\", DataFrame(sequence_mapping_5))\n",
    "CSV.write(\"../data/scaled_up_70/df_sequence_mapping_3.csv\", DataFrame(sequence_mapping_7))\n",
    "CSV.write(\"../data/scaled_up_70/df_sequence_mapping_4.csv\", DataFrame(sequence_mapping_8))\n",
    "CSV.write(\"../data/scaled_up_70/df_sequence_mapping_5.csv\", DataFrame(sequence_mapping_10))"
   ]
  },
  {
   "cell_type": "code",
   "execution_count": null,
   "id": "1c76b5d2",
   "metadata": {},
   "outputs": [],
   "source": []
  }
 ],
 "metadata": {
  "kernelspec": {
   "display_name": "Julia 1.8.2",
   "language": "julia",
   "name": "julia-1.8"
  },
  "language_info": {
   "file_extension": ".jl",
   "mimetype": "application/julia",
   "name": "julia",
   "version": "1.8.2"
  }
 },
 "nbformat": 4,
 "nbformat_minor": 5
}

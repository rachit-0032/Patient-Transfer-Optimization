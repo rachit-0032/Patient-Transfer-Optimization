{
 "cells": [
  {
   "cell_type": "code",
   "execution_count": 13,
   "id": "4e70dc95",
   "metadata": {},
   "outputs": [],
   "source": [
    "using CSV, Tables, LinearAlgebra, Random, Gurobi, JuMP, DataFrames, Plots, Statistics"
   ]
  },
  {
   "cell_type": "code",
   "execution_count": 14,
   "id": "84843262",
   "metadata": {},
   "outputs": [],
   "source": [
    "## Function to Load Data.\n",
    "function load_data(fname)\n",
    "    data = DataFrame(CSV.File(fname, header=false)) |> DataFrame;\n",
    "    return data\n",
    "end;"
   ]
  },
  {
   "cell_type": "code",
   "execution_count": 15,
   "id": "9a99a47c",
   "metadata": {},
   "outputs": [],
   "source": [
    "hospital_mapping = CSV.read(\"../data/scaled_up_70/hospital_mapping.csv\", DataFrame, pool=true);\n",
    "distance_cost_vehicle_type_mapping = CSV.read(\"../data/scaled_up_70/distance_cost_vehicle_type_mapping.csv\", DataFrame, pool=true);\n",
    "fixed_cost_vehicle_type_mapping = CSV.read(\"../data/scaled_up_70/fixed_cost_vehicle_type_mapping.csv\", DataFrame, pool=true);\n",
    "vehicle_depot_mapping = CSV.read(\"../data/scaled_up_70/vehicle_depot_mapping.csv\", DataFrame, pool=true);\n",
    "distance_mapping = CSV.read(\"../data/scaled_up_70/distance_mapping.csv\", DataFrame, pool=true);\n",
    "vehicle_type = CSV.read(\"../data/scaled_up_70/vehicle_type.csv\", DataFrame, pool=true);"
   ]
  },
  {
   "cell_type": "code",
   "execution_count": 16,
   "id": "7e57bdba",
   "metadata": {},
   "outputs": [
    {
     "data": {
      "text/html": [
       "<div><div style = \"float: left;\"><span>24×24 DataFrame</span></div><div style = \"clear: both;\"></div></div><div class = \"data-frame\" style = \"overflow-x: scroll;\"><table class = \"data-frame\" style = \"margin-bottom: 6px;\"><thead><tr class = \"header\"><th class = \"rowNumber\" style = \"font-weight: bold; text-align: right;\">Row</th><th style = \"text-align: left;\">1</th><th style = \"text-align: left;\">2</th><th style = \"text-align: left;\">3</th><th style = \"text-align: left;\">4</th><th style = \"text-align: left;\">5</th><th style = \"text-align: left;\">6</th><th style = \"text-align: left;\">7</th><th style = \"text-align: left;\">8</th><th style = \"text-align: left;\">9</th><th style = \"text-align: left;\">10</th><th style = \"text-align: left;\">11</th><th style = \"text-align: left;\">12</th><th style = \"text-align: left;\">13</th><th style = \"text-align: left;\">14</th><th style = \"text-align: left;\">15</th><th style = \"text-align: left;\">16</th><th style = \"text-align: left;\">17</th><th style = \"text-align: left;\">18</th><th style = \"text-align: left;\">19</th><th style = \"text-align: left;\">20</th><th style = \"text-align: left;\">21</th><th style = \"text-align: left;\">22</th><th style = \"text-align: left;\">23</th><th style = \"text-align: left;\">24</th></tr><tr class = \"subheader headerLastRow\"><th class = \"rowNumber\" style = \"font-weight: bold; text-align: right;\"></th><th title = \"Int64\" style = \"text-align: left;\">Int64</th><th title = \"Int64\" style = \"text-align: left;\">Int64</th><th title = \"Int64\" style = \"text-align: left;\">Int64</th><th title = \"Int64\" style = \"text-align: left;\">Int64</th><th title = \"Int64\" style = \"text-align: left;\">Int64</th><th title = \"Int64\" style = \"text-align: left;\">Int64</th><th title = \"Int64\" style = \"text-align: left;\">Int64</th><th title = \"Int64\" style = \"text-align: left;\">Int64</th><th title = \"Int64\" style = \"text-align: left;\">Int64</th><th title = \"Int64\" style = \"text-align: left;\">Int64</th><th title = \"Int64\" style = \"text-align: left;\">Int64</th><th title = \"Int64\" style = \"text-align: left;\">Int64</th><th title = \"Int64\" style = \"text-align: left;\">Int64</th><th title = \"Int64\" style = \"text-align: left;\">Int64</th><th title = \"Int64\" style = \"text-align: left;\">Int64</th><th title = \"Int64\" style = \"text-align: left;\">Int64</th><th title = \"Int64\" style = \"text-align: left;\">Int64</th><th title = \"Int64\" style = \"text-align: left;\">Int64</th><th title = \"Int64\" style = \"text-align: left;\">Int64</th><th title = \"Int64\" style = \"text-align: left;\">Int64</th><th title = \"Int64\" style = \"text-align: left;\">Int64</th><th title = \"Int64\" style = \"text-align: left;\">Int64</th><th title = \"Int64\" style = \"text-align: left;\">Int64</th><th title = \"Int64\" style = \"text-align: left;\">Int64</th></tr></thead><tbody><tr><td class = \"rowNumber\" style = \"font-weight: bold; text-align: right;\">1</td><td style = \"text-align: right;\">0</td><td style = \"text-align: right;\">0</td><td style = \"text-align: right;\">0</td><td style = \"text-align: right;\">0</td><td style = \"text-align: right;\">0</td><td style = \"text-align: right;\">0</td><td style = \"text-align: right;\">0</td><td style = \"text-align: right;\">0</td><td style = \"text-align: right;\">0</td><td style = \"text-align: right;\">0</td><td style = \"text-align: right;\">0</td><td style = \"text-align: right;\">0</td><td style = \"text-align: right;\">0</td><td style = \"text-align: right;\">0</td><td style = \"text-align: right;\">0</td><td style = \"text-align: right;\">0</td><td style = \"text-align: right;\">0</td><td style = \"text-align: right;\">0</td><td style = \"text-align: right;\">0</td><td style = \"text-align: right;\">0</td><td style = \"text-align: right;\">0</td><td style = \"text-align: right;\">0</td><td style = \"text-align: right;\">0</td><td style = \"text-align: right;\">0</td></tr><tr><td class = \"rowNumber\" style = \"font-weight: bold; text-align: right;\">2</td><td style = \"text-align: right;\">0</td><td style = \"text-align: right;\">0</td><td style = \"text-align: right;\">0</td><td style = \"text-align: right;\">0</td><td style = \"text-align: right;\">0</td><td style = \"text-align: right;\">1</td><td style = \"text-align: right;\">0</td><td style = \"text-align: right;\">1</td><td style = \"text-align: right;\">0</td><td style = \"text-align: right;\">0</td><td style = \"text-align: right;\">0</td><td style = \"text-align: right;\">0</td><td style = \"text-align: right;\">1</td><td style = \"text-align: right;\">0</td><td style = \"text-align: right;\">0</td><td style = \"text-align: right;\">0</td><td style = \"text-align: right;\">1</td><td style = \"text-align: right;\">0</td><td style = \"text-align: right;\">0</td><td style = \"text-align: right;\">0</td><td style = \"text-align: right;\">0</td><td style = \"text-align: right;\">0</td><td style = \"text-align: right;\">0</td><td style = \"text-align: right;\">0</td></tr><tr><td class = \"rowNumber\" style = \"font-weight: bold; text-align: right;\">3</td><td style = \"text-align: right;\">0</td><td style = \"text-align: right;\">0</td><td style = \"text-align: right;\">0</td><td style = \"text-align: right;\">0</td><td style = \"text-align: right;\">0</td><td style = \"text-align: right;\">1</td><td style = \"text-align: right;\">0</td><td style = \"text-align: right;\">1</td><td style = \"text-align: right;\">0</td><td style = \"text-align: right;\">0</td><td style = \"text-align: right;\">0</td><td style = \"text-align: right;\">0</td><td style = \"text-align: right;\">1</td><td style = \"text-align: right;\">0</td><td style = \"text-align: right;\">0</td><td style = \"text-align: right;\">0</td><td style = \"text-align: right;\">1</td><td style = \"text-align: right;\">0</td><td style = \"text-align: right;\">0</td><td style = \"text-align: right;\">0</td><td style = \"text-align: right;\">0</td><td style = \"text-align: right;\">0</td><td style = \"text-align: right;\">0</td><td style = \"text-align: right;\">0</td></tr><tr><td class = \"rowNumber\" style = \"font-weight: bold; text-align: right;\">4</td><td style = \"text-align: right;\">0</td><td style = \"text-align: right;\">0</td><td style = \"text-align: right;\">0</td><td style = \"text-align: right;\">0</td><td style = \"text-align: right;\">0</td><td style = \"text-align: right;\">1</td><td style = \"text-align: right;\">0</td><td style = \"text-align: right;\">0</td><td style = \"text-align: right;\">0</td><td style = \"text-align: right;\">0</td><td style = \"text-align: right;\">0</td><td style = \"text-align: right;\">0</td><td style = \"text-align: right;\">0</td><td style = \"text-align: right;\">0</td><td style = \"text-align: right;\">0</td><td style = \"text-align: right;\">0</td><td style = \"text-align: right;\">1</td><td style = \"text-align: right;\">0</td><td style = \"text-align: right;\">0</td><td style = \"text-align: right;\">0</td><td style = \"text-align: right;\">0</td><td style = \"text-align: right;\">0</td><td style = \"text-align: right;\">0</td><td style = \"text-align: right;\">0</td></tr><tr><td class = \"rowNumber\" style = \"font-weight: bold; text-align: right;\">5</td><td style = \"text-align: right;\">0</td><td style = \"text-align: right;\">0</td><td style = \"text-align: right;\">0</td><td style = \"text-align: right;\">0</td><td style = \"text-align: right;\">0</td><td style = \"text-align: right;\">1</td><td style = \"text-align: right;\">0</td><td style = \"text-align: right;\">0</td><td style = \"text-align: right;\">0</td><td style = \"text-align: right;\">0</td><td style = \"text-align: right;\">0</td><td style = \"text-align: right;\">0</td><td style = \"text-align: right;\">0</td><td style = \"text-align: right;\">0</td><td style = \"text-align: right;\">0</td><td style = \"text-align: right;\">0</td><td style = \"text-align: right;\">1</td><td style = \"text-align: right;\">0</td><td style = \"text-align: right;\">0</td><td style = \"text-align: right;\">0</td><td style = \"text-align: right;\">0</td><td style = \"text-align: right;\">0</td><td style = \"text-align: right;\">0</td><td style = \"text-align: right;\">0</td></tr><tr><td class = \"rowNumber\" style = \"font-weight: bold; text-align: right;\">6</td><td style = \"text-align: right;\">0</td><td style = \"text-align: right;\">1</td><td style = \"text-align: right;\">1</td><td style = \"text-align: right;\">1</td><td style = \"text-align: right;\">1</td><td style = \"text-align: right;\">0</td><td style = \"text-align: right;\">0</td><td style = \"text-align: right;\">1</td><td style = \"text-align: right;\">0</td><td style = \"text-align: right;\">0</td><td style = \"text-align: right;\">0</td><td style = \"text-align: right;\">0</td><td style = \"text-align: right;\">2</td><td style = \"text-align: right;\">1</td><td style = \"text-align: right;\">0</td><td style = \"text-align: right;\">1</td><td style = \"text-align: right;\">3</td><td style = \"text-align: right;\">0</td><td style = \"text-align: right;\">0</td><td style = \"text-align: right;\">0</td><td style = \"text-align: right;\">0</td><td style = \"text-align: right;\">1</td><td style = \"text-align: right;\">1</td><td style = \"text-align: right;\">0</td></tr><tr><td class = \"rowNumber\" style = \"font-weight: bold; text-align: right;\">7</td><td style = \"text-align: right;\">0</td><td style = \"text-align: right;\">0</td><td style = \"text-align: right;\">0</td><td style = \"text-align: right;\">0</td><td style = \"text-align: right;\">0</td><td style = \"text-align: right;\">0</td><td style = \"text-align: right;\">0</td><td style = \"text-align: right;\">0</td><td style = \"text-align: right;\">0</td><td style = \"text-align: right;\">0</td><td style = \"text-align: right;\">0</td><td style = \"text-align: right;\">0</td><td style = \"text-align: right;\">0</td><td style = \"text-align: right;\">0</td><td style = \"text-align: right;\">0</td><td style = \"text-align: right;\">0</td><td style = \"text-align: right;\">0</td><td style = \"text-align: right;\">0</td><td style = \"text-align: right;\">0</td><td style = \"text-align: right;\">0</td><td style = \"text-align: right;\">0</td><td style = \"text-align: right;\">0</td><td style = \"text-align: right;\">0</td><td style = \"text-align: right;\">0</td></tr><tr><td class = \"rowNumber\" style = \"font-weight: bold; text-align: right;\">8</td><td style = \"text-align: right;\">0</td><td style = \"text-align: right;\">1</td><td style = \"text-align: right;\">1</td><td style = \"text-align: right;\">0</td><td style = \"text-align: right;\">0</td><td style = \"text-align: right;\">1</td><td style = \"text-align: right;\">0</td><td style = \"text-align: right;\">0</td><td style = \"text-align: right;\">0</td><td style = \"text-align: right;\">0</td><td style = \"text-align: right;\">0</td><td style = \"text-align: right;\">0</td><td style = \"text-align: right;\">1</td><td style = \"text-align: right;\">0</td><td style = \"text-align: right;\">0</td><td style = \"text-align: right;\">0</td><td style = \"text-align: right;\">2</td><td style = \"text-align: right;\">0</td><td style = \"text-align: right;\">0</td><td style = \"text-align: right;\">0</td><td style = \"text-align: right;\">0</td><td style = \"text-align: right;\">0</td><td style = \"text-align: right;\">1</td><td style = \"text-align: right;\">0</td></tr><tr><td class = \"rowNumber\" style = \"font-weight: bold; text-align: right;\">9</td><td style = \"text-align: right;\">0</td><td style = \"text-align: right;\">0</td><td style = \"text-align: right;\">0</td><td style = \"text-align: right;\">0</td><td style = \"text-align: right;\">0</td><td style = \"text-align: right;\">0</td><td style = \"text-align: right;\">0</td><td style = \"text-align: right;\">0</td><td style = \"text-align: right;\">0</td><td style = \"text-align: right;\">0</td><td style = \"text-align: right;\">0</td><td style = \"text-align: right;\">0</td><td style = \"text-align: right;\">0</td><td style = \"text-align: right;\">0</td><td style = \"text-align: right;\">0</td><td style = \"text-align: right;\">0</td><td style = \"text-align: right;\">0</td><td style = \"text-align: right;\">0</td><td style = \"text-align: right;\">0</td><td style = \"text-align: right;\">0</td><td style = \"text-align: right;\">0</td><td style = \"text-align: right;\">0</td><td style = \"text-align: right;\">0</td><td style = \"text-align: right;\">0</td></tr><tr><td class = \"rowNumber\" style = \"font-weight: bold; text-align: right;\">10</td><td style = \"text-align: right;\">0</td><td style = \"text-align: right;\">0</td><td style = \"text-align: right;\">0</td><td style = \"text-align: right;\">0</td><td style = \"text-align: right;\">0</td><td style = \"text-align: right;\">0</td><td style = \"text-align: right;\">0</td><td style = \"text-align: right;\">0</td><td style = \"text-align: right;\">0</td><td style = \"text-align: right;\">0</td><td style = \"text-align: right;\">0</td><td style = \"text-align: right;\">0</td><td style = \"text-align: right;\">0</td><td style = \"text-align: right;\">0</td><td style = \"text-align: right;\">0</td><td style = \"text-align: right;\">0</td><td style = \"text-align: right;\">0</td><td style = \"text-align: right;\">0</td><td style = \"text-align: right;\">0</td><td style = \"text-align: right;\">0</td><td style = \"text-align: right;\">0</td><td style = \"text-align: right;\">0</td><td style = \"text-align: right;\">0</td><td style = \"text-align: right;\">0</td></tr><tr><td class = \"rowNumber\" style = \"font-weight: bold; text-align: right;\">11</td><td style = \"text-align: right;\">0</td><td style = \"text-align: right;\">0</td><td style = \"text-align: right;\">0</td><td style = \"text-align: right;\">0</td><td style = \"text-align: right;\">0</td><td style = \"text-align: right;\">0</td><td style = \"text-align: right;\">0</td><td style = \"text-align: right;\">0</td><td style = \"text-align: right;\">0</td><td style = \"text-align: right;\">0</td><td style = \"text-align: right;\">0</td><td style = \"text-align: right;\">0</td><td style = \"text-align: right;\">0</td><td style = \"text-align: right;\">0</td><td style = \"text-align: right;\">0</td><td style = \"text-align: right;\">0</td><td style = \"text-align: right;\">0</td><td style = \"text-align: right;\">0</td><td style = \"text-align: right;\">0</td><td style = \"text-align: right;\">0</td><td style = \"text-align: right;\">0</td><td style = \"text-align: right;\">0</td><td style = \"text-align: right;\">0</td><td style = \"text-align: right;\">0</td></tr><tr><td class = \"rowNumber\" style = \"font-weight: bold; text-align: right;\">12</td><td style = \"text-align: right;\">0</td><td style = \"text-align: right;\">0</td><td style = \"text-align: right;\">0</td><td style = \"text-align: right;\">0</td><td style = \"text-align: right;\">0</td><td style = \"text-align: right;\">0</td><td style = \"text-align: right;\">0</td><td style = \"text-align: right;\">0</td><td style = \"text-align: right;\">0</td><td style = \"text-align: right;\">0</td><td style = \"text-align: right;\">0</td><td style = \"text-align: right;\">0</td><td style = \"text-align: right;\">0</td><td style = \"text-align: right;\">0</td><td style = \"text-align: right;\">0</td><td style = \"text-align: right;\">0</td><td style = \"text-align: right;\">0</td><td style = \"text-align: right;\">0</td><td style = \"text-align: right;\">0</td><td style = \"text-align: right;\">0</td><td style = \"text-align: right;\">0</td><td style = \"text-align: right;\">0</td><td style = \"text-align: right;\">0</td><td style = \"text-align: right;\">0</td></tr><tr><td class = \"rowNumber\" style = \"font-weight: bold; text-align: right;\">13</td><td style = \"text-align: right;\">0</td><td style = \"text-align: right;\">1</td><td style = \"text-align: right;\">1</td><td style = \"text-align: right;\">0</td><td style = \"text-align: right;\">0</td><td style = \"text-align: right;\">2</td><td style = \"text-align: right;\">0</td><td style = \"text-align: right;\">1</td><td style = \"text-align: right;\">0</td><td style = \"text-align: right;\">0</td><td style = \"text-align: right;\">0</td><td style = \"text-align: right;\">0</td><td style = \"text-align: right;\">0</td><td style = \"text-align: right;\">0</td><td style = \"text-align: right;\">0</td><td style = \"text-align: right;\">1</td><td style = \"text-align: right;\">2</td><td style = \"text-align: right;\">0</td><td style = \"text-align: right;\">0</td><td style = \"text-align: right;\">0</td><td style = \"text-align: right;\">0</td><td style = \"text-align: right;\">1</td><td style = \"text-align: right;\">1</td><td style = \"text-align: right;\">0</td></tr><tr><td class = \"rowNumber\" style = \"font-weight: bold; text-align: right;\">14</td><td style = \"text-align: right;\">0</td><td style = \"text-align: right;\">0</td><td style = \"text-align: right;\">0</td><td style = \"text-align: right;\">0</td><td style = \"text-align: right;\">0</td><td style = \"text-align: right;\">1</td><td style = \"text-align: right;\">0</td><td style = \"text-align: right;\">0</td><td style = \"text-align: right;\">0</td><td style = \"text-align: right;\">0</td><td style = \"text-align: right;\">0</td><td style = \"text-align: right;\">0</td><td style = \"text-align: right;\">0</td><td style = \"text-align: right;\">0</td><td style = \"text-align: right;\">0</td><td style = \"text-align: right;\">0</td><td style = \"text-align: right;\">1</td><td style = \"text-align: right;\">0</td><td style = \"text-align: right;\">0</td><td style = \"text-align: right;\">0</td><td style = \"text-align: right;\">0</td><td style = \"text-align: right;\">0</td><td style = \"text-align: right;\">0</td><td style = \"text-align: right;\">0</td></tr><tr><td class = \"rowNumber\" style = \"font-weight: bold; text-align: right;\">15</td><td style = \"text-align: right;\">0</td><td style = \"text-align: right;\">0</td><td style = \"text-align: right;\">0</td><td style = \"text-align: right;\">0</td><td style = \"text-align: right;\">0</td><td style = \"text-align: right;\">0</td><td style = \"text-align: right;\">0</td><td style = \"text-align: right;\">0</td><td style = \"text-align: right;\">0</td><td style = \"text-align: right;\">0</td><td style = \"text-align: right;\">0</td><td style = \"text-align: right;\">0</td><td style = \"text-align: right;\">0</td><td style = \"text-align: right;\">0</td><td style = \"text-align: right;\">0</td><td style = \"text-align: right;\">0</td><td style = \"text-align: right;\">0</td><td style = \"text-align: right;\">0</td><td style = \"text-align: right;\">0</td><td style = \"text-align: right;\">0</td><td style = \"text-align: right;\">0</td><td style = \"text-align: right;\">0</td><td style = \"text-align: right;\">0</td><td style = \"text-align: right;\">0</td></tr><tr><td class = \"rowNumber\" style = \"font-weight: bold; text-align: right;\">16</td><td style = \"text-align: right;\">0</td><td style = \"text-align: right;\">0</td><td style = \"text-align: right;\">0</td><td style = \"text-align: right;\">0</td><td style = \"text-align: right;\">0</td><td style = \"text-align: right;\">1</td><td style = \"text-align: right;\">0</td><td style = \"text-align: right;\">0</td><td style = \"text-align: right;\">0</td><td style = \"text-align: right;\">0</td><td style = \"text-align: right;\">0</td><td style = \"text-align: right;\">0</td><td style = \"text-align: right;\">1</td><td style = \"text-align: right;\">0</td><td style = \"text-align: right;\">0</td><td style = \"text-align: right;\">0</td><td style = \"text-align: right;\">1</td><td style = \"text-align: right;\">0</td><td style = \"text-align: right;\">0</td><td style = \"text-align: right;\">0</td><td style = \"text-align: right;\">0</td><td style = \"text-align: right;\">0</td><td style = \"text-align: right;\">0</td><td style = \"text-align: right;\">0</td></tr><tr><td class = \"rowNumber\" style = \"font-weight: bold; text-align: right;\">17</td><td style = \"text-align: right;\">0</td><td style = \"text-align: right;\">1</td><td style = \"text-align: right;\">1</td><td style = \"text-align: right;\">1</td><td style = \"text-align: right;\">1</td><td style = \"text-align: right;\">3</td><td style = \"text-align: right;\">0</td><td style = \"text-align: right;\">2</td><td style = \"text-align: right;\">0</td><td style = \"text-align: right;\">0</td><td style = \"text-align: right;\">0</td><td style = \"text-align: right;\">0</td><td style = \"text-align: right;\">2</td><td style = \"text-align: right;\">1</td><td style = \"text-align: right;\">0</td><td style = \"text-align: right;\">1</td><td style = \"text-align: right;\">0</td><td style = \"text-align: right;\">0</td><td style = \"text-align: right;\">0</td><td style = \"text-align: right;\">0</td><td style = \"text-align: right;\">0</td><td style = \"text-align: right;\">1</td><td style = \"text-align: right;\">1</td><td style = \"text-align: right;\">0</td></tr><tr><td class = \"rowNumber\" style = \"font-weight: bold; text-align: right;\">18</td><td style = \"text-align: right;\">0</td><td style = \"text-align: right;\">0</td><td style = \"text-align: right;\">0</td><td style = \"text-align: right;\">0</td><td style = \"text-align: right;\">0</td><td style = \"text-align: right;\">0</td><td style = \"text-align: right;\">0</td><td style = \"text-align: right;\">0</td><td style = \"text-align: right;\">0</td><td style = \"text-align: right;\">0</td><td style = \"text-align: right;\">0</td><td style = \"text-align: right;\">0</td><td style = \"text-align: right;\">0</td><td style = \"text-align: right;\">0</td><td style = \"text-align: right;\">0</td><td style = \"text-align: right;\">0</td><td style = \"text-align: right;\">0</td><td style = \"text-align: right;\">0</td><td style = \"text-align: right;\">0</td><td style = \"text-align: right;\">0</td><td style = \"text-align: right;\">0</td><td style = \"text-align: right;\">0</td><td style = \"text-align: right;\">0</td><td style = \"text-align: right;\">0</td></tr><tr><td class = \"rowNumber\" style = \"font-weight: bold; text-align: right;\">19</td><td style = \"text-align: right;\">0</td><td style = \"text-align: right;\">0</td><td style = \"text-align: right;\">0</td><td style = \"text-align: right;\">0</td><td style = \"text-align: right;\">0</td><td style = \"text-align: right;\">0</td><td style = \"text-align: right;\">0</td><td style = \"text-align: right;\">0</td><td style = \"text-align: right;\">0</td><td style = \"text-align: right;\">0</td><td style = \"text-align: right;\">0</td><td style = \"text-align: right;\">0</td><td style = \"text-align: right;\">0</td><td style = \"text-align: right;\">0</td><td style = \"text-align: right;\">0</td><td style = \"text-align: right;\">0</td><td style = \"text-align: right;\">0</td><td style = \"text-align: right;\">0</td><td style = \"text-align: right;\">0</td><td style = \"text-align: right;\">0</td><td style = \"text-align: right;\">0</td><td style = \"text-align: right;\">0</td><td style = \"text-align: right;\">0</td><td style = \"text-align: right;\">0</td></tr><tr><td class = \"rowNumber\" style = \"font-weight: bold; text-align: right;\">20</td><td style = \"text-align: right;\">0</td><td style = \"text-align: right;\">0</td><td style = \"text-align: right;\">0</td><td style = \"text-align: right;\">0</td><td style = \"text-align: right;\">0</td><td style = \"text-align: right;\">0</td><td style = \"text-align: right;\">0</td><td style = \"text-align: right;\">0</td><td style = \"text-align: right;\">0</td><td style = \"text-align: right;\">0</td><td style = \"text-align: right;\">0</td><td style = \"text-align: right;\">0</td><td style = \"text-align: right;\">0</td><td style = \"text-align: right;\">0</td><td style = \"text-align: right;\">0</td><td style = \"text-align: right;\">0</td><td style = \"text-align: right;\">0</td><td style = \"text-align: right;\">0</td><td style = \"text-align: right;\">0</td><td style = \"text-align: right;\">0</td><td style = \"text-align: right;\">0</td><td style = \"text-align: right;\">0</td><td style = \"text-align: right;\">0</td><td style = \"text-align: right;\">0</td></tr><tr><td class = \"rowNumber\" style = \"font-weight: bold; text-align: right;\">21</td><td style = \"text-align: right;\">0</td><td style = \"text-align: right;\">0</td><td style = \"text-align: right;\">0</td><td style = \"text-align: right;\">0</td><td style = \"text-align: right;\">0</td><td style = \"text-align: right;\">0</td><td style = \"text-align: right;\">0</td><td style = \"text-align: right;\">0</td><td style = \"text-align: right;\">0</td><td style = \"text-align: right;\">0</td><td style = \"text-align: right;\">0</td><td style = \"text-align: right;\">0</td><td style = \"text-align: right;\">0</td><td style = \"text-align: right;\">0</td><td style = \"text-align: right;\">0</td><td style = \"text-align: right;\">0</td><td style = \"text-align: right;\">0</td><td style = \"text-align: right;\">0</td><td style = \"text-align: right;\">0</td><td style = \"text-align: right;\">0</td><td style = \"text-align: right;\">0</td><td style = \"text-align: right;\">0</td><td style = \"text-align: right;\">0</td><td style = \"text-align: right;\">0</td></tr><tr><td class = \"rowNumber\" style = \"font-weight: bold; text-align: right;\">22</td><td style = \"text-align: right;\">0</td><td style = \"text-align: right;\">0</td><td style = \"text-align: right;\">0</td><td style = \"text-align: right;\">0</td><td style = \"text-align: right;\">0</td><td style = \"text-align: right;\">1</td><td style = \"text-align: right;\">0</td><td style = \"text-align: right;\">0</td><td style = \"text-align: right;\">0</td><td style = \"text-align: right;\">0</td><td style = \"text-align: right;\">0</td><td style = \"text-align: right;\">0</td><td style = \"text-align: right;\">1</td><td style = \"text-align: right;\">0</td><td style = \"text-align: right;\">0</td><td style = \"text-align: right;\">0</td><td style = \"text-align: right;\">1</td><td style = \"text-align: right;\">0</td><td style = \"text-align: right;\">0</td><td style = \"text-align: right;\">0</td><td style = \"text-align: right;\">0</td><td style = \"text-align: right;\">0</td><td style = \"text-align: right;\">0</td><td style = \"text-align: right;\">0</td></tr><tr><td class = \"rowNumber\" style = \"font-weight: bold; text-align: right;\">23</td><td style = \"text-align: right;\">0</td><td style = \"text-align: right;\">0</td><td style = \"text-align: right;\">0</td><td style = \"text-align: right;\">0</td><td style = \"text-align: right;\">0</td><td style = \"text-align: right;\">1</td><td style = \"text-align: right;\">0</td><td style = \"text-align: right;\">1</td><td style = \"text-align: right;\">0</td><td style = \"text-align: right;\">0</td><td style = \"text-align: right;\">0</td><td style = \"text-align: right;\">0</td><td style = \"text-align: right;\">1</td><td style = \"text-align: right;\">0</td><td style = \"text-align: right;\">0</td><td style = \"text-align: right;\">0</td><td style = \"text-align: right;\">1</td><td style = \"text-align: right;\">0</td><td style = \"text-align: right;\">0</td><td style = \"text-align: right;\">0</td><td style = \"text-align: right;\">0</td><td style = \"text-align: right;\">0</td><td style = \"text-align: right;\">0</td><td style = \"text-align: right;\">0</td></tr><tr><td class = \"rowNumber\" style = \"font-weight: bold; text-align: right;\">24</td><td style = \"text-align: right;\">0</td><td style = \"text-align: right;\">0</td><td style = \"text-align: right;\">0</td><td style = \"text-align: right;\">0</td><td style = \"text-align: right;\">0</td><td style = \"text-align: right;\">0</td><td style = \"text-align: right;\">0</td><td style = \"text-align: right;\">0</td><td style = \"text-align: right;\">0</td><td style = \"text-align: right;\">0</td><td style = \"text-align: right;\">0</td><td style = \"text-align: right;\">0</td><td style = \"text-align: right;\">0</td><td style = \"text-align: right;\">0</td><td style = \"text-align: right;\">0</td><td style = \"text-align: right;\">0</td><td style = \"text-align: right;\">0</td><td style = \"text-align: right;\">0</td><td style = \"text-align: right;\">0</td><td style = \"text-align: right;\">0</td><td style = \"text-align: right;\">0</td><td style = \"text-align: right;\">0</td><td style = \"text-align: right;\">0</td><td style = \"text-align: right;\">0</td></tr></tbody></table></div>"
      ],
      "text/latex": [
       "\\begin{tabular}{r|ccccccccccccc}\n",
       "\t& 1 & 2 & 3 & 4 & 5 & 6 & 7 & 8 & 9 & 10 & 11 & 12 & \\\\\n",
       "\t\\hline\n",
       "\t& Int64 & Int64 & Int64 & Int64 & Int64 & Int64 & Int64 & Int64 & Int64 & Int64 & Int64 & Int64 & \\\\\n",
       "\t\\hline\n",
       "\t1 & 0 & 0 & 0 & 0 & 0 & 0 & 0 & 0 & 0 & 0 & 0 & 0 & $\\dots$ \\\\\n",
       "\t2 & 0 & 0 & 0 & 0 & 0 & 1 & 0 & 1 & 0 & 0 & 0 & 0 & $\\dots$ \\\\\n",
       "\t3 & 0 & 0 & 0 & 0 & 0 & 1 & 0 & 1 & 0 & 0 & 0 & 0 & $\\dots$ \\\\\n",
       "\t4 & 0 & 0 & 0 & 0 & 0 & 1 & 0 & 0 & 0 & 0 & 0 & 0 & $\\dots$ \\\\\n",
       "\t5 & 0 & 0 & 0 & 0 & 0 & 1 & 0 & 0 & 0 & 0 & 0 & 0 & $\\dots$ \\\\\n",
       "\t6 & 0 & 1 & 1 & 1 & 1 & 0 & 0 & 1 & 0 & 0 & 0 & 0 & $\\dots$ \\\\\n",
       "\t7 & 0 & 0 & 0 & 0 & 0 & 0 & 0 & 0 & 0 & 0 & 0 & 0 & $\\dots$ \\\\\n",
       "\t8 & 0 & 1 & 1 & 0 & 0 & 1 & 0 & 0 & 0 & 0 & 0 & 0 & $\\dots$ \\\\\n",
       "\t9 & 0 & 0 & 0 & 0 & 0 & 0 & 0 & 0 & 0 & 0 & 0 & 0 & $\\dots$ \\\\\n",
       "\t10 & 0 & 0 & 0 & 0 & 0 & 0 & 0 & 0 & 0 & 0 & 0 & 0 & $\\dots$ \\\\\n",
       "\t11 & 0 & 0 & 0 & 0 & 0 & 0 & 0 & 0 & 0 & 0 & 0 & 0 & $\\dots$ \\\\\n",
       "\t12 & 0 & 0 & 0 & 0 & 0 & 0 & 0 & 0 & 0 & 0 & 0 & 0 & $\\dots$ \\\\\n",
       "\t13 & 0 & 1 & 1 & 0 & 0 & 2 & 0 & 1 & 0 & 0 & 0 & 0 & $\\dots$ \\\\\n",
       "\t14 & 0 & 0 & 0 & 0 & 0 & 1 & 0 & 0 & 0 & 0 & 0 & 0 & $\\dots$ \\\\\n",
       "\t15 & 0 & 0 & 0 & 0 & 0 & 0 & 0 & 0 & 0 & 0 & 0 & 0 & $\\dots$ \\\\\n",
       "\t16 & 0 & 0 & 0 & 0 & 0 & 1 & 0 & 0 & 0 & 0 & 0 & 0 & $\\dots$ \\\\\n",
       "\t17 & 0 & 1 & 1 & 1 & 1 & 3 & 0 & 2 & 0 & 0 & 0 & 0 & $\\dots$ \\\\\n",
       "\t18 & 0 & 0 & 0 & 0 & 0 & 0 & 0 & 0 & 0 & 0 & 0 & 0 & $\\dots$ \\\\\n",
       "\t19 & 0 & 0 & 0 & 0 & 0 & 0 & 0 & 0 & 0 & 0 & 0 & 0 & $\\dots$ \\\\\n",
       "\t20 & 0 & 0 & 0 & 0 & 0 & 0 & 0 & 0 & 0 & 0 & 0 & 0 & $\\dots$ \\\\\n",
       "\t21 & 0 & 0 & 0 & 0 & 0 & 0 & 0 & 0 & 0 & 0 & 0 & 0 & $\\dots$ \\\\\n",
       "\t22 & 0 & 0 & 0 & 0 & 0 & 1 & 0 & 0 & 0 & 0 & 0 & 0 & $\\dots$ \\\\\n",
       "\t23 & 0 & 0 & 0 & 0 & 0 & 1 & 0 & 1 & 0 & 0 & 0 & 0 & $\\dots$ \\\\\n",
       "\t24 & 0 & 0 & 0 & 0 & 0 & 0 & 0 & 0 & 0 & 0 & 0 & 0 & $\\dots$ \\\\\n",
       "\\end{tabular}\n"
      ],
      "text/plain": [
       "\u001b[1m24×24 DataFrame\n",
       "\u001b[1m Row │\u001b[1m 1     \u001b[1m 2     \u001b[1m 3     \u001b[1m 4     \u001b[1m 5     \u001b[1m 6     \u001b[1m 7     \u001b[1m 8     \u001b[1m 9     \u001b[1m 10    \u001b[1m 1 ⋯\n",
       "     │\u001b[90m Int64 \u001b[90m Int64 \u001b[90m Int64 \u001b[90m Int64 \u001b[90m Int64 \u001b[90m Int64 \u001b[90m Int64 \u001b[90m Int64 \u001b[90m Int64 \u001b[90m Int64 \u001b[90m I ⋯\n",
       "─────┼──────────────────────────────────────────────────────────────────────────\n",
       "   1 │     0      0      0      0      0      0      0      0      0      0    ⋯\n",
       "   2 │     0      0      0      0      0      1      0      1      0      0\n",
       "   3 │     0      0      0      0      0      1      0      1      0      0\n",
       "   4 │     0      0      0      0      0      1      0      0      0      0\n",
       "   5 │     0      0      0      0      0      1      0      0      0      0    ⋯\n",
       "   6 │     0      1      1      1      1      0      0      1      0      0\n",
       "   7 │     0      0      0      0      0      0      0      0      0      0\n",
       "   8 │     0      1      1      0      0      1      0      0      0      0\n",
       "   9 │     0      0      0      0      0      0      0      0      0      0    ⋯\n",
       "  10 │     0      0      0      0      0      0      0      0      0      0\n",
       "  11 │     0      0      0      0      0      0      0      0      0      0\n",
       "  ⋮  │   ⋮      ⋮      ⋮      ⋮      ⋮      ⋮      ⋮      ⋮      ⋮      ⋮      ⋱\n",
       "  15 │     0      0      0      0      0      0      0      0      0      0\n",
       "  16 │     0      0      0      0      0      1      0      0      0      0    ⋯\n",
       "  17 │     0      1      1      1      1      3      0      2      0      0\n",
       "  18 │     0      0      0      0      0      0      0      0      0      0\n",
       "  19 │     0      0      0      0      0      0      0      0      0      0\n",
       "  20 │     0      0      0      0      0      0      0      0      0      0    ⋯\n",
       "  21 │     0      0      0      0      0      0      0      0      0      0\n",
       "  22 │     0      0      0      0      0      1      0      0      0      0\n",
       "  23 │     0      0      0      0      0      1      0      1      0      0\n",
       "  24 │     0      0      0      0      0      0      0      0      0      0    ⋯\n",
       "\u001b[36m                                                   14 columns and 3 rows omitted"
      ]
     },
     "execution_count": 16,
     "metadata": {},
     "output_type": "execute_result"
    }
   ],
   "source": [
    "hospital_mapping = hospital_mapping[:,2:end]"
   ]
  },
  {
   "cell_type": "code",
   "execution_count": 17,
   "id": "bf7944c7",
   "metadata": {},
   "outputs": [],
   "source": [
    "patient_hospital_mapping = []\n",
    "max_transfers = maximum(Matrix(hospital_mapping))\n",
    "for i=1:max_transfers\n",
    "    transfers = sort(Tuple.(findall(>=(i), Matrix(hospital_mapping))))\n",
    "    for item in transfers\n",
    "        push!(patient_hospital_mapping, item)\n",
    "    end\n",
    "#    push!(patient_hospital_mapping, sort(Tuple.(findall(>=(i), Matrix(hospital_mapping))))[0])\n",
    "end"
   ]
  },
  {
   "cell_type": "code",
   "execution_count": 18,
   "id": "519e81d7",
   "metadata": {},
   "outputs": [
    {
     "data": {
      "text/html": [
       "<div><div style = \"float: left;\"><span>70×2 DataFrame</span></div><div style = \"float: right;\"><span style = \"font-style: italic;\">45 rows omitted</span></div><div style = \"clear: both;\"></div></div><div class = \"data-frame\" style = \"overflow-x: scroll;\"><table class = \"data-frame\" style = \"margin-bottom: 6px;\"><thead><tr class = \"header\"><th class = \"rowNumber\" style = \"font-weight: bold; text-align: right;\">Row</th><th style = \"text-align: left;\">1</th><th style = \"text-align: left;\">2</th></tr><tr class = \"subheader headerLastRow\"><th class = \"rowNumber\" style = \"font-weight: bold; text-align: right;\"></th><th title = \"Int64\" style = \"text-align: left;\">Int64</th><th title = \"Int64\" style = \"text-align: left;\">Int64</th></tr></thead><tbody><tr><td class = \"rowNumber\" style = \"font-weight: bold; text-align: right;\">1</td><td style = \"text-align: right;\">2</td><td style = \"text-align: right;\">6</td></tr><tr><td class = \"rowNumber\" style = \"font-weight: bold; text-align: right;\">2</td><td style = \"text-align: right;\">2</td><td style = \"text-align: right;\">8</td></tr><tr><td class = \"rowNumber\" style = \"font-weight: bold; text-align: right;\">3</td><td style = \"text-align: right;\">2</td><td style = \"text-align: right;\">13</td></tr><tr><td class = \"rowNumber\" style = \"font-weight: bold; text-align: right;\">4</td><td style = \"text-align: right;\">2</td><td style = \"text-align: right;\">17</td></tr><tr><td class = \"rowNumber\" style = \"font-weight: bold; text-align: right;\">5</td><td style = \"text-align: right;\">3</td><td style = \"text-align: right;\">6</td></tr><tr><td class = \"rowNumber\" style = \"font-weight: bold; text-align: right;\">6</td><td style = \"text-align: right;\">3</td><td style = \"text-align: right;\">8</td></tr><tr><td class = \"rowNumber\" style = \"font-weight: bold; text-align: right;\">7</td><td style = \"text-align: right;\">3</td><td style = \"text-align: right;\">13</td></tr><tr><td class = \"rowNumber\" style = \"font-weight: bold; text-align: right;\">8</td><td style = \"text-align: right;\">3</td><td style = \"text-align: right;\">17</td></tr><tr><td class = \"rowNumber\" style = \"font-weight: bold; text-align: right;\">9</td><td style = \"text-align: right;\">4</td><td style = \"text-align: right;\">6</td></tr><tr><td class = \"rowNumber\" style = \"font-weight: bold; text-align: right;\">10</td><td style = \"text-align: right;\">4</td><td style = \"text-align: right;\">17</td></tr><tr><td class = \"rowNumber\" style = \"font-weight: bold; text-align: right;\">11</td><td style = \"text-align: right;\">5</td><td style = \"text-align: right;\">6</td></tr><tr><td class = \"rowNumber\" style = \"font-weight: bold; text-align: right;\">12</td><td style = \"text-align: right;\">5</td><td style = \"text-align: right;\">17</td></tr><tr><td class = \"rowNumber\" style = \"font-weight: bold; text-align: right;\">13</td><td style = \"text-align: right;\">6</td><td style = \"text-align: right;\">2</td></tr><tr><td style = \"text-align: right;\">&vellip;</td><td style = \"text-align: right;\">&vellip;</td><td style = \"text-align: right;\">&vellip;</td></tr><tr><td class = \"rowNumber\" style = \"font-weight: bold; text-align: right;\">59</td><td style = \"text-align: right;\">23</td><td style = \"text-align: right;\">13</td></tr><tr><td class = \"rowNumber\" style = \"font-weight: bold; text-align: right;\">60</td><td style = \"text-align: right;\">23</td><td style = \"text-align: right;\">17</td></tr><tr><td class = \"rowNumber\" style = \"font-weight: bold; text-align: right;\">61</td><td style = \"text-align: right;\">6</td><td style = \"text-align: right;\">13</td></tr><tr><td class = \"rowNumber\" style = \"font-weight: bold; text-align: right;\">62</td><td style = \"text-align: right;\">6</td><td style = \"text-align: right;\">17</td></tr><tr><td class = \"rowNumber\" style = \"font-weight: bold; text-align: right;\">63</td><td style = \"text-align: right;\">8</td><td style = \"text-align: right;\">17</td></tr><tr><td class = \"rowNumber\" style = \"font-weight: bold; text-align: right;\">64</td><td style = \"text-align: right;\">13</td><td style = \"text-align: right;\">6</td></tr><tr><td class = \"rowNumber\" style = \"font-weight: bold; text-align: right;\">65</td><td style = \"text-align: right;\">13</td><td style = \"text-align: right;\">17</td></tr><tr><td class = \"rowNumber\" style = \"font-weight: bold; text-align: right;\">66</td><td style = \"text-align: right;\">17</td><td style = \"text-align: right;\">6</td></tr><tr><td class = \"rowNumber\" style = \"font-weight: bold; text-align: right;\">67</td><td style = \"text-align: right;\">17</td><td style = \"text-align: right;\">8</td></tr><tr><td class = \"rowNumber\" style = \"font-weight: bold; text-align: right;\">68</td><td style = \"text-align: right;\">17</td><td style = \"text-align: right;\">13</td></tr><tr><td class = \"rowNumber\" style = \"font-weight: bold; text-align: right;\">69</td><td style = \"text-align: right;\">6</td><td style = \"text-align: right;\">17</td></tr><tr><td class = \"rowNumber\" style = \"font-weight: bold; text-align: right;\">70</td><td style = \"text-align: right;\">17</td><td style = \"text-align: right;\">6</td></tr></tbody></table></div>"
      ],
      "text/latex": [
       "\\begin{tabular}{r|cc}\n",
       "\t& 1 & 2\\\\\n",
       "\t\\hline\n",
       "\t& Int64 & Int64\\\\\n",
       "\t\\hline\n",
       "\t1 & 2 & 6 \\\\\n",
       "\t2 & 2 & 8 \\\\\n",
       "\t3 & 2 & 13 \\\\\n",
       "\t4 & 2 & 17 \\\\\n",
       "\t5 & 3 & 6 \\\\\n",
       "\t6 & 3 & 8 \\\\\n",
       "\t7 & 3 & 13 \\\\\n",
       "\t8 & 3 & 17 \\\\\n",
       "\t9 & 4 & 6 \\\\\n",
       "\t10 & 4 & 17 \\\\\n",
       "\t11 & 5 & 6 \\\\\n",
       "\t12 & 5 & 17 \\\\\n",
       "\t13 & 6 & 2 \\\\\n",
       "\t14 & 6 & 3 \\\\\n",
       "\t15 & 6 & 4 \\\\\n",
       "\t16 & 6 & 5 \\\\\n",
       "\t17 & 6 & 8 \\\\\n",
       "\t18 & 6 & 13 \\\\\n",
       "\t19 & 6 & 14 \\\\\n",
       "\t20 & 6 & 16 \\\\\n",
       "\t21 & 6 & 17 \\\\\n",
       "\t22 & 6 & 22 \\\\\n",
       "\t23 & 6 & 23 \\\\\n",
       "\t24 & 8 & 2 \\\\\n",
       "\t25 & 8 & 3 \\\\\n",
       "\t26 & 8 & 6 \\\\\n",
       "\t27 & 8 & 13 \\\\\n",
       "\t28 & 8 & 17 \\\\\n",
       "\t29 & 8 & 23 \\\\\n",
       "\t30 & 13 & 2 \\\\\n",
       "\t$\\dots$ & $\\dots$ & $\\dots$ \\\\\n",
       "\\end{tabular}\n"
      ],
      "text/plain": [
       "\u001b[1m70×2 DataFrame\n",
       "\u001b[1m Row │\u001b[1m 1     \u001b[1m 2\n",
       "     │\u001b[90m Int64 \u001b[90m Int64\n",
       "─────┼──────────────\n",
       "   1 │     2      6\n",
       "   2 │     2      8\n",
       "   3 │     2     13\n",
       "   4 │     2     17\n",
       "   5 │     3      6\n",
       "   6 │     3      8\n",
       "   7 │     3     13\n",
       "   8 │     3     17\n",
       "   9 │     4      6\n",
       "  10 │     4     17\n",
       "  11 │     5      6\n",
       "  ⋮  │   ⋮      ⋮\n",
       "  61 │     6     13\n",
       "  62 │     6     17\n",
       "  63 │     8     17\n",
       "  64 │    13      6\n",
       "  65 │    13     17\n",
       "  66 │    17      6\n",
       "  67 │    17      8\n",
       "  68 │    17     13\n",
       "  69 │     6     17\n",
       "  70 │    17      6\n",
       "\u001b[36m     49 rows omitted"
      ]
     },
     "execution_count": 18,
     "metadata": {},
     "output_type": "execute_result"
    }
   ],
   "source": [
    "df_patient_hospital_mapping = DataFrame(patient_hospital_mapping)"
   ]
  },
  {
   "cell_type": "code",
   "execution_count": 19,
   "id": "3a1a27a0",
   "metadata": {},
   "outputs": [
    {
     "data": {
      "text/plain": [
       "\"../data/sequence_scaled/df_patient_hospital_mapping.csv\""
      ]
     },
     "execution_count": 19,
     "metadata": {},
     "output_type": "execute_result"
    }
   ],
   "source": [
    "CSV.write(\"../data/sequence_scaled/df_patient_hospital_mapping.csv\", df_patient_hospital_mapping)"
   ]
  },
  {
   "cell_type": "code",
   "execution_count": null,
   "id": "d7399312",
   "metadata": {},
   "outputs": [],
   "source": []
  },
  {
   "cell_type": "code",
   "execution_count": 20,
   "id": "66ddb872",
   "metadata": {},
   "outputs": [
    {
     "data": {
      "text/html": [
       "<div><div style = \"float: left;\"><span>2×1 DataFrame</span></div><div style = \"clear: both;\"></div></div><div class = \"data-frame\" style = \"overflow-x: scroll;\"><table class = \"data-frame\" style = \"margin-bottom: 6px;\"><thead><tr class = \"header\"><th class = \"rowNumber\" style = \"font-weight: bold; text-align: right;\">Row</th><th style = \"text-align: left;\">cost_per_km</th></tr><tr class = \"subheader headerLastRow\"><th class = \"rowNumber\" style = \"font-weight: bold; text-align: right;\"></th><th title = \"Float64\" style = \"text-align: left;\">Float64</th></tr></thead><tbody><tr><td class = \"rowNumber\" style = \"font-weight: bold; text-align: right;\">1</td><td style = \"text-align: right;\">0.01</td></tr><tr><td class = \"rowNumber\" style = \"font-weight: bold; text-align: right;\">2</td><td style = \"text-align: right;\">0.002</td></tr></tbody></table></div>"
      ],
      "text/latex": [
       "\\begin{tabular}{r|c}\n",
       "\t& cost\\_per\\_km\\\\\n",
       "\t\\hline\n",
       "\t& Float64\\\\\n",
       "\t\\hline\n",
       "\t1 & 0.01 \\\\\n",
       "\t2 & 0.002 \\\\\n",
       "\\end{tabular}\n"
      ],
      "text/plain": [
       "\u001b[1m2×1 DataFrame\n",
       "\u001b[1m Row │\u001b[1m cost_per_km\n",
       "     │\u001b[90m Float64\n",
       "─────┼─────────────\n",
       "   1 │       0.01\n",
       "   2 │       0.002"
      ]
     },
     "execution_count": 20,
     "metadata": {},
     "output_type": "execute_result"
    }
   ],
   "source": [
    "distance_cost_vehicle_type_mapping = distance_cost_vehicle_type_mapping[:,2:end]"
   ]
  },
  {
   "cell_type": "code",
   "execution_count": 21,
   "id": "851e5d95",
   "metadata": {},
   "outputs": [
    {
     "data": {
      "text/html": [
       "<div><div style = \"float: left;\"><span>2×1 DataFrame</span></div><div style = \"clear: both;\"></div></div><div class = \"data-frame\" style = \"overflow-x: scroll;\"><table class = \"data-frame\" style = \"margin-bottom: 6px;\"><thead><tr class = \"header\"><th class = \"rowNumber\" style = \"font-weight: bold; text-align: right;\">Row</th><th style = \"text-align: left;\">fixed_cost</th></tr><tr class = \"subheader headerLastRow\"><th class = \"rowNumber\" style = \"font-weight: bold; text-align: right;\"></th><th title = \"Int64\" style = \"text-align: left;\">Int64</th></tr></thead><tbody><tr><td class = \"rowNumber\" style = \"font-weight: bold; text-align: right;\">1</td><td style = \"text-align: right;\">100</td></tr><tr><td class = \"rowNumber\" style = \"font-weight: bold; text-align: right;\">2</td><td style = \"text-align: right;\">200</td></tr></tbody></table></div>"
      ],
      "text/latex": [
       "\\begin{tabular}{r|c}\n",
       "\t& fixed\\_cost\\\\\n",
       "\t\\hline\n",
       "\t& Int64\\\\\n",
       "\t\\hline\n",
       "\t1 & 100 \\\\\n",
       "\t2 & 200 \\\\\n",
       "\\end{tabular}\n"
      ],
      "text/plain": [
       "\u001b[1m2×1 DataFrame\n",
       "\u001b[1m Row │\u001b[1m fixed_cost\n",
       "     │\u001b[90m Int64\n",
       "─────┼────────────\n",
       "   1 │        100\n",
       "   2 │        200"
      ]
     },
     "execution_count": 21,
     "metadata": {},
     "output_type": "execute_result"
    }
   ],
   "source": [
    "fixed_cost_vehicle_type_mapping = fixed_cost_vehicle_type_mapping[:,2:end]"
   ]
  },
  {
   "cell_type": "code",
   "execution_count": 22,
   "id": "bb5732c9",
   "metadata": {},
   "outputs": [
    {
     "data": {
      "text/html": [
       "<div><div style = \"float: left;\"><span>10×1 DataFrame</span></div><div style = \"clear: both;\"></div></div><div class = \"data-frame\" style = \"overflow-x: scroll;\"><table class = \"data-frame\" style = \"margin-bottom: 6px;\"><thead><tr class = \"header\"><th class = \"rowNumber\" style = \"font-weight: bold; text-align: right;\">Row</th><th style = \"text-align: left;\">depot_num</th></tr><tr class = \"subheader headerLastRow\"><th class = \"rowNumber\" style = \"font-weight: bold; text-align: right;\"></th><th title = \"Int64\" style = \"text-align: left;\">Int64</th></tr></thead><tbody><tr><td class = \"rowNumber\" style = \"font-weight: bold; text-align: right;\">1</td><td style = \"text-align: right;\">1</td></tr><tr><td class = \"rowNumber\" style = \"font-weight: bold; text-align: right;\">2</td><td style = \"text-align: right;\">1</td></tr><tr><td class = \"rowNumber\" style = \"font-weight: bold; text-align: right;\">3</td><td style = \"text-align: right;\">1</td></tr><tr><td class = \"rowNumber\" style = \"font-weight: bold; text-align: right;\">4</td><td style = \"text-align: right;\">1</td></tr><tr><td class = \"rowNumber\" style = \"font-weight: bold; text-align: right;\">5</td><td style = \"text-align: right;\">2</td></tr><tr><td class = \"rowNumber\" style = \"font-weight: bold; text-align: right;\">6</td><td style = \"text-align: right;\">1</td></tr><tr><td class = \"rowNumber\" style = \"font-weight: bold; text-align: right;\">7</td><td style = \"text-align: right;\">2</td></tr><tr><td class = \"rowNumber\" style = \"font-weight: bold; text-align: right;\">8</td><td style = \"text-align: right;\">2</td></tr><tr><td class = \"rowNumber\" style = \"font-weight: bold; text-align: right;\">9</td><td style = \"text-align: right;\">1</td></tr><tr><td class = \"rowNumber\" style = \"font-weight: bold; text-align: right;\">10</td><td style = \"text-align: right;\">2</td></tr></tbody></table></div>"
      ],
      "text/latex": [
       "\\begin{tabular}{r|c}\n",
       "\t& depot\\_num\\\\\n",
       "\t\\hline\n",
       "\t& Int64\\\\\n",
       "\t\\hline\n",
       "\t1 & 1 \\\\\n",
       "\t2 & 1 \\\\\n",
       "\t3 & 1 \\\\\n",
       "\t4 & 1 \\\\\n",
       "\t5 & 2 \\\\\n",
       "\t6 & 1 \\\\\n",
       "\t7 & 2 \\\\\n",
       "\t8 & 2 \\\\\n",
       "\t9 & 1 \\\\\n",
       "\t10 & 2 \\\\\n",
       "\\end{tabular}\n"
      ],
      "text/plain": [
       "\u001b[1m10×1 DataFrame\n",
       "\u001b[1m Row │\u001b[1m depot_num\n",
       "     │\u001b[90m Int64\n",
       "─────┼───────────\n",
       "   1 │         1\n",
       "   2 │         1\n",
       "   3 │         1\n",
       "   4 │         1\n",
       "   5 │         2\n",
       "   6 │         1\n",
       "   7 │         2\n",
       "   8 │         2\n",
       "   9 │         1\n",
       "  10 │         2"
      ]
     },
     "execution_count": 22,
     "metadata": {},
     "output_type": "execute_result"
    }
   ],
   "source": [
    "vehicle_depot_mapping = vehicle_depot_mapping[:,2:end]"
   ]
  },
  {
   "cell_type": "code",
   "execution_count": 23,
   "id": "d7d78483",
   "metadata": {},
   "outputs": [
    {
     "data": {
      "text/html": [
       "<div><div style = \"float: left;\"><span>142×142 DataFrame</span></div><div style = \"float: right;\"><span style = \"font-style: italic;\">42 columns and 117 rows omitted</span></div><div style = \"clear: both;\"></div></div><div class = \"data-frame\" style = \"overflow-x: scroll;\"><table class = \"data-frame\" style = \"margin-bottom: 6px;\"><thead><tr class = \"header\"><th class = \"rowNumber\" style = \"font-weight: bold; text-align: right;\">Row</th><th style = \"text-align: left;\">Depot 1</th><th style = \"text-align: left;\">Depot 2</th><th style = \"text-align: left;\">Patient 1</th><th style = \"text-align: left;\">Patient 2</th><th style = \"text-align: left;\">Patient 3</th><th style = \"text-align: left;\">Patient 4</th><th style = \"text-align: left;\">Patient 5</th><th style = \"text-align: left;\">Patient 6</th><th style = \"text-align: left;\">Patient 7</th><th style = \"text-align: left;\">Patient 8</th><th style = \"text-align: left;\">Patient 9</th><th style = \"text-align: left;\">Patient 10</th><th style = \"text-align: left;\">Patient 11</th><th style = \"text-align: left;\">Patient 12</th><th style = \"text-align: left;\">Patient 13</th><th style = \"text-align: left;\">Patient 14</th><th style = \"text-align: left;\">Patient 15</th><th style = \"text-align: left;\">Patient 16</th><th style = \"text-align: left;\">Patient 17</th><th style = \"text-align: left;\">Patient 18</th><th style = \"text-align: left;\">Patient 19</th><th style = \"text-align: left;\">Patient 20</th><th style = \"text-align: left;\">Patient 21</th><th style = \"text-align: left;\">Patient 22</th><th style = \"text-align: left;\">Patient 23</th><th style = \"text-align: left;\">Patient 24</th><th style = \"text-align: left;\">Patient 25</th><th style = \"text-align: left;\">Patient 26</th><th style = \"text-align: left;\">Patient 27</th><th style = \"text-align: left;\">Patient 28</th><th style = \"text-align: left;\">Patient 29</th><th style = \"text-align: left;\">Patient 30</th><th style = \"text-align: left;\">Patient 31</th><th style = \"text-align: left;\">Patient 32</th><th style = \"text-align: left;\">Patient 33</th><th style = \"text-align: left;\">Patient 34</th><th style = \"text-align: left;\">Patient 35</th><th style = \"text-align: left;\">Patient 36</th><th style = \"text-align: left;\">Patient 37</th><th style = \"text-align: left;\">Patient 38</th><th style = \"text-align: left;\">Patient 39</th><th style = \"text-align: left;\">Patient 40</th><th style = \"text-align: left;\">Patient 41</th><th style = \"text-align: left;\">Patient 42</th><th style = \"text-align: left;\">Patient 43</th><th style = \"text-align: left;\">Patient 44</th><th style = \"text-align: left;\">Patient 45</th><th style = \"text-align: left;\">Patient 46</th><th style = \"text-align: left;\">Patient 47</th><th style = \"text-align: left;\">Patient 48</th><th style = \"text-align: left;\">Patient 49</th><th style = \"text-align: left;\">Patient 50</th><th style = \"text-align: left;\">Patient 51</th><th style = \"text-align: left;\">Patient 52</th><th style = \"text-align: left;\">Patient 53</th><th style = \"text-align: left;\">Patient 54</th><th style = \"text-align: left;\">Patient 55</th><th style = \"text-align: left;\">Patient 56</th><th style = \"text-align: left;\">Patient 57</th><th style = \"text-align: left;\">Patient 58</th><th style = \"text-align: left;\">Patient 59</th><th style = \"text-align: left;\">Patient 60</th><th style = \"text-align: left;\">Patient 61</th><th style = \"text-align: left;\">Patient 62</th><th style = \"text-align: left;\">Patient 63</th><th style = \"text-align: left;\">Patient 64</th><th style = \"text-align: left;\">Patient 65</th><th style = \"text-align: left;\">Patient 66</th><th style = \"text-align: left;\">Patient 67</th><th style = \"text-align: left;\">Patient 68</th><th style = \"text-align: left;\">Patient 69</th><th style = \"text-align: left;\">Patient 70</th><th style = \"text-align: left;\">Dest Patient1</th><th style = \"text-align: left;\">Dest Patient2</th><th style = \"text-align: left;\">Dest Patient3</th><th style = \"text-align: left;\">Dest Patient4</th><th style = \"text-align: left;\">Dest Patient5</th><th style = \"text-align: left;\">Dest Patient6</th><th style = \"text-align: left;\">Dest Patient7</th><th style = \"text-align: left;\">Dest Patient8</th><th style = \"text-align: left;\">Dest Patient9</th><th style = \"text-align: left;\">Dest Patient10</th><th style = \"text-align: left;\">Dest Patient11</th><th style = \"text-align: left;\">Dest Patient12</th><th style = \"text-align: left;\">Dest Patient13</th><th style = \"text-align: left;\">Dest Patient14</th><th style = \"text-align: left;\">Dest Patient15</th><th style = \"text-align: left;\">Dest Patient16</th><th style = \"text-align: left;\">Dest Patient17</th><th style = \"text-align: left;\">Dest Patient18</th><th style = \"text-align: left;\">Dest Patient19</th><th style = \"text-align: left;\">Dest Patient20</th><th style = \"text-align: left;\">Dest Patient21</th><th style = \"text-align: left;\">Dest Patient22</th><th style = \"text-align: left;\">Dest Patient23</th><th style = \"text-align: left;\">Dest Patient24</th><th style = \"text-align: left;\">Dest Patient25</th><th style = \"text-align: left;\">Dest Patient26</th><th style = \"text-align: left;\">Dest Patient27</th><th style = \"text-align: left;\">Dest Patient28</th><th style = \"text-align: right;\">&ctdot;</th></tr><tr class = \"subheader headerLastRow\"><th class = \"rowNumber\" style = \"font-weight: bold; text-align: right;\"></th><th title = \"Int64\" style = \"text-align: left;\">Int64</th><th title = \"Int64\" style = \"text-align: left;\">Int64</th><th title = \"Int64\" style = \"text-align: left;\">Int64</th><th title = \"Int64\" style = \"text-align: left;\">Int64</th><th title = \"Int64\" style = \"text-align: left;\">Int64</th><th title = \"Int64\" style = \"text-align: left;\">Int64</th><th title = \"Int64\" style = \"text-align: left;\">Int64</th><th title = \"Int64\" style = \"text-align: left;\">Int64</th><th title = \"Int64\" style = \"text-align: left;\">Int64</th><th title = \"Int64\" style = \"text-align: left;\">Int64</th><th title = \"Int64\" style = \"text-align: left;\">Int64</th><th title = \"Int64\" style = \"text-align: left;\">Int64</th><th title = \"Int64\" style = \"text-align: left;\">Int64</th><th title = \"Int64\" style = \"text-align: left;\">Int64</th><th title = \"Int64\" style = \"text-align: left;\">Int64</th><th title = \"Int64\" style = \"text-align: left;\">Int64</th><th title = \"Int64\" style = \"text-align: left;\">Int64</th><th title = \"Int64\" style = \"text-align: left;\">Int64</th><th title = \"Int64\" style = \"text-align: left;\">Int64</th><th title = \"Int64\" style = \"text-align: left;\">Int64</th><th title = \"Int64\" style = \"text-align: left;\">Int64</th><th title = \"Int64\" style = \"text-align: left;\">Int64</th><th title = \"Int64\" style = \"text-align: left;\">Int64</th><th title = \"Int64\" style = \"text-align: left;\">Int64</th><th title = \"Int64\" style = \"text-align: left;\">Int64</th><th title = \"Int64\" style = \"text-align: left;\">Int64</th><th title = \"Int64\" style = \"text-align: left;\">Int64</th><th title = \"Int64\" style = \"text-align: left;\">Int64</th><th title = \"Int64\" style = \"text-align: left;\">Int64</th><th title = \"Int64\" style = \"text-align: left;\">Int64</th><th title = \"Int64\" style = \"text-align: left;\">Int64</th><th title = \"Int64\" style = \"text-align: left;\">Int64</th><th title = \"Int64\" style = \"text-align: left;\">Int64</th><th title = \"Int64\" style = \"text-align: left;\">Int64</th><th title = \"Int64\" style = \"text-align: left;\">Int64</th><th title = \"Int64\" style = \"text-align: left;\">Int64</th><th title = \"Int64\" style = \"text-align: left;\">Int64</th><th title = \"Int64\" style = \"text-align: left;\">Int64</th><th title = \"Int64\" style = \"text-align: left;\">Int64</th><th title = \"Int64\" style = \"text-align: left;\">Int64</th><th title = \"Int64\" style = \"text-align: left;\">Int64</th><th title = \"Int64\" style = \"text-align: left;\">Int64</th><th title = \"Int64\" style = \"text-align: left;\">Int64</th><th title = \"Int64\" style = \"text-align: left;\">Int64</th><th title = \"Int64\" style = \"text-align: left;\">Int64</th><th title = \"Int64\" style = \"text-align: left;\">Int64</th><th title = \"Int64\" style = \"text-align: left;\">Int64</th><th title = \"Int64\" style = \"text-align: left;\">Int64</th><th title = \"Int64\" style = \"text-align: left;\">Int64</th><th title = \"Int64\" style = \"text-align: left;\">Int64</th><th title = \"Int64\" style = \"text-align: left;\">Int64</th><th title = \"Int64\" style = \"text-align: left;\">Int64</th><th title = \"Int64\" style = \"text-align: left;\">Int64</th><th title = \"Int64\" style = \"text-align: left;\">Int64</th><th title = \"Int64\" style = \"text-align: left;\">Int64</th><th title = \"Int64\" style = \"text-align: left;\">Int64</th><th title = \"Int64\" style = \"text-align: left;\">Int64</th><th title = \"Int64\" style = \"text-align: left;\">Int64</th><th title = \"Int64\" style = \"text-align: left;\">Int64</th><th title = \"Int64\" style = \"text-align: left;\">Int64</th><th title = \"Int64\" style = \"text-align: left;\">Int64</th><th title = \"Int64\" style = \"text-align: left;\">Int64</th><th title = \"Int64\" style = \"text-align: left;\">Int64</th><th title = \"Int64\" style = \"text-align: left;\">Int64</th><th title = \"Int64\" style = \"text-align: left;\">Int64</th><th title = \"Int64\" style = \"text-align: left;\">Int64</th><th title = \"Int64\" style = \"text-align: left;\">Int64</th><th title = \"Int64\" style = \"text-align: left;\">Int64</th><th title = \"Int64\" style = \"text-align: left;\">Int64</th><th title = \"Int64\" style = \"text-align: left;\">Int64</th><th title = \"Int64\" style = \"text-align: left;\">Int64</th><th title = \"Int64\" style = \"text-align: left;\">Int64</th><th title = \"Int64\" style = \"text-align: left;\">Int64</th><th title = \"Int64\" style = \"text-align: left;\">Int64</th><th title = \"Int64\" style = \"text-align: left;\">Int64</th><th title = \"Int64\" style = \"text-align: left;\">Int64</th><th title = \"Int64\" style = \"text-align: left;\">Int64</th><th title = \"Int64\" style = \"text-align: left;\">Int64</th><th title = \"Int64\" style = \"text-align: left;\">Int64</th><th title = \"Int64\" style = \"text-align: left;\">Int64</th><th title = \"Int64\" style = \"text-align: left;\">Int64</th><th title = \"Int64\" style = \"text-align: left;\">Int64</th><th title = \"Int64\" style = \"text-align: left;\">Int64</th><th title = \"Int64\" style = \"text-align: left;\">Int64</th><th title = \"Int64\" style = \"text-align: left;\">Int64</th><th title = \"Int64\" style = \"text-align: left;\">Int64</th><th title = \"Int64\" style = \"text-align: left;\">Int64</th><th title = \"Int64\" style = \"text-align: left;\">Int64</th><th title = \"Int64\" style = \"text-align: left;\">Int64</th><th title = \"Int64\" style = \"text-align: left;\">Int64</th><th title = \"Int64\" style = \"text-align: left;\">Int64</th><th title = \"Int64\" style = \"text-align: left;\">Int64</th><th title = \"Int64\" style = \"text-align: left;\">Int64</th><th title = \"Int64\" style = \"text-align: left;\">Int64</th><th title = \"Int64\" style = \"text-align: left;\">Int64</th><th title = \"Int64\" style = \"text-align: left;\">Int64</th><th title = \"Int64\" style = \"text-align: left;\">Int64</th><th title = \"Int64\" style = \"text-align: left;\">Int64</th><th title = \"Int64\" style = \"text-align: left;\">Int64</th><th title = \"Int64\" style = \"text-align: left;\">Int64</th><th title = \"Int64\" style = \"text-align: right;\">&ctdot;</th></tr></thead><tbody><tr><td class = \"rowNumber\" style = \"font-weight: bold; text-align: right;\">1</td><td style = \"text-align: right;\">0</td><td style = \"text-align: right;\">12165</td><td style = \"text-align: right;\">8451</td><td style = \"text-align: right;\">8451</td><td style = \"text-align: right;\">8451</td><td style = \"text-align: right;\">8451</td><td style = \"text-align: right;\">7537</td><td style = \"text-align: right;\">7537</td><td style = \"text-align: right;\">7537</td><td style = \"text-align: right;\">7537</td><td style = \"text-align: right;\">8189</td><td style = \"text-align: right;\">8189</td><td style = \"text-align: right;\">9040</td><td style = \"text-align: right;\">9040</td><td style = \"text-align: right;\">8263</td><td style = \"text-align: right;\">8263</td><td style = \"text-align: right;\">8263</td><td style = \"text-align: right;\">8263</td><td style = \"text-align: right;\">8263</td><td style = \"text-align: right;\">8263</td><td style = \"text-align: right;\">8263</td><td style = \"text-align: right;\">8263</td><td style = \"text-align: right;\">8263</td><td style = \"text-align: right;\">8263</td><td style = \"text-align: right;\">8263</td><td style = \"text-align: right;\">8127</td><td style = \"text-align: right;\">8127</td><td style = \"text-align: right;\">8127</td><td style = \"text-align: right;\">8127</td><td style = \"text-align: right;\">8127</td><td style = \"text-align: right;\">8127</td><td style = \"text-align: right;\">17738</td><td style = \"text-align: right;\">17738</td><td style = \"text-align: right;\">17738</td><td style = \"text-align: right;\">17738</td><td style = \"text-align: right;\">17738</td><td style = \"text-align: right;\">17738</td><td style = \"text-align: right;\">17738</td><td style = \"text-align: right;\">17738</td><td style = \"text-align: right;\">11422</td><td style = \"text-align: right;\">11422</td><td style = \"text-align: right;\">14098</td><td style = \"text-align: right;\">14098</td><td style = \"text-align: right;\">14098</td><td style = \"text-align: right;\">3230</td><td style = \"text-align: right;\">3230</td><td style = \"text-align: right;\">3230</td><td style = \"text-align: right;\">3230</td><td style = \"text-align: right;\">3230</td><td style = \"text-align: right;\">3230</td><td style = \"text-align: right;\">3230</td><td style = \"text-align: right;\">3230</td><td style = \"text-align: right;\">3230</td><td style = \"text-align: right;\">3230</td><td style = \"text-align: right;\">3230</td><td style = \"text-align: right;\">14465</td><td style = \"text-align: right;\">14465</td><td style = \"text-align: right;\">14465</td><td style = \"text-align: right;\">6546</td><td style = \"text-align: right;\">6546</td><td style = \"text-align: right;\">6546</td><td style = \"text-align: right;\">6546</td><td style = \"text-align: right;\">8263</td><td style = \"text-align: right;\">8263</td><td style = \"text-align: right;\">8127</td><td style = \"text-align: right;\">17738</td><td style = \"text-align: right;\">17738</td><td style = \"text-align: right;\">3230</td><td style = \"text-align: right;\">3230</td><td style = \"text-align: right;\">3230</td><td style = \"text-align: right;\">8263</td><td style = \"text-align: right;\">3230</td><td style = \"text-align: right;\">8263</td><td style = \"text-align: right;\">8127</td><td style = \"text-align: right;\">17738</td><td style = \"text-align: right;\">3230</td><td style = \"text-align: right;\">8263</td><td style = \"text-align: right;\">8127</td><td style = \"text-align: right;\">17738</td><td style = \"text-align: right;\">3230</td><td style = \"text-align: right;\">8263</td><td style = \"text-align: right;\">3230</td><td style = \"text-align: right;\">8263</td><td style = \"text-align: right;\">3230</td><td style = \"text-align: right;\">8451</td><td style = \"text-align: right;\">7537</td><td style = \"text-align: right;\">8189</td><td style = \"text-align: right;\">9040</td><td style = \"text-align: right;\">8127</td><td style = \"text-align: right;\">17738</td><td style = \"text-align: right;\">11422</td><td style = \"text-align: right;\">14098</td><td style = \"text-align: right;\">3230</td><td style = \"text-align: right;\">14465</td><td style = \"text-align: right;\">6546</td><td style = \"text-align: right;\">8451</td><td style = \"text-align: right;\">7537</td><td style = \"text-align: right;\">8263</td><td style = \"text-align: right;\">17738</td><td style = \"text-align: right;\">3230</td><td style = \"text-align: right;\">&ctdot;</td></tr><tr><td class = \"rowNumber\" style = \"font-weight: bold; text-align: right;\">2</td><td style = \"text-align: right;\">13531</td><td style = \"text-align: right;\">0</td><td style = \"text-align: right;\">2738</td><td style = \"text-align: right;\">2738</td><td style = \"text-align: right;\">2738</td><td style = \"text-align: right;\">2738</td><td style = \"text-align: right;\">3158</td><td style = \"text-align: right;\">3158</td><td style = \"text-align: right;\">3158</td><td style = \"text-align: right;\">3158</td><td style = \"text-align: right;\">3938</td><td style = \"text-align: right;\">3938</td><td style = \"text-align: right;\">3981</td><td style = \"text-align: right;\">3981</td><td style = \"text-align: right;\">2492</td><td style = \"text-align: right;\">2492</td><td style = \"text-align: right;\">2492</td><td style = \"text-align: right;\">2492</td><td style = \"text-align: right;\">2492</td><td style = \"text-align: right;\">2492</td><td style = \"text-align: right;\">2492</td><td style = \"text-align: right;\">2492</td><td style = \"text-align: right;\">2492</td><td style = \"text-align: right;\">2492</td><td style = \"text-align: right;\">2492</td><td style = \"text-align: right;\">3018</td><td style = \"text-align: right;\">3018</td><td style = \"text-align: right;\">3018</td><td style = \"text-align: right;\">3018</td><td style = \"text-align: right;\">3018</td><td style = \"text-align: right;\">3018</td><td style = \"text-align: right;\">5422</td><td style = \"text-align: right;\">5422</td><td style = \"text-align: right;\">5422</td><td style = \"text-align: right;\">5422</td><td style = \"text-align: right;\">5422</td><td style = \"text-align: right;\">5422</td><td style = \"text-align: right;\">5422</td><td style = \"text-align: right;\">5422</td><td style = \"text-align: right;\">2004</td><td style = \"text-align: right;\">2004</td><td style = \"text-align: right;\">3790</td><td style = \"text-align: right;\">3790</td><td style = \"text-align: right;\">3790</td><td style = \"text-align: right;\">9749</td><td style = \"text-align: right;\">9749</td><td style = \"text-align: right;\">9749</td><td style = \"text-align: right;\">9749</td><td style = \"text-align: right;\">9749</td><td style = \"text-align: right;\">9749</td><td style = \"text-align: right;\">9749</td><td style = \"text-align: right;\">9749</td><td style = \"text-align: right;\">9749</td><td style = \"text-align: right;\">9749</td><td style = \"text-align: right;\">9749</td><td style = \"text-align: right;\">6910</td><td style = \"text-align: right;\">6910</td><td style = \"text-align: right;\">6910</td><td style = \"text-align: right;\">6161</td><td style = \"text-align: right;\">6161</td><td style = \"text-align: right;\">6161</td><td style = \"text-align: right;\">6161</td><td style = \"text-align: right;\">2492</td><td style = \"text-align: right;\">2492</td><td style = \"text-align: right;\">3018</td><td style = \"text-align: right;\">5422</td><td style = \"text-align: right;\">5422</td><td style = \"text-align: right;\">9749</td><td style = \"text-align: right;\">9749</td><td style = \"text-align: right;\">9749</td><td style = \"text-align: right;\">2492</td><td style = \"text-align: right;\">9749</td><td style = \"text-align: right;\">2492</td><td style = \"text-align: right;\">3018</td><td style = \"text-align: right;\">5422</td><td style = \"text-align: right;\">9749</td><td style = \"text-align: right;\">2492</td><td style = \"text-align: right;\">3018</td><td style = \"text-align: right;\">5422</td><td style = \"text-align: right;\">9749</td><td style = \"text-align: right;\">2492</td><td style = \"text-align: right;\">9749</td><td style = \"text-align: right;\">2492</td><td style = \"text-align: right;\">9749</td><td style = \"text-align: right;\">2738</td><td style = \"text-align: right;\">3158</td><td style = \"text-align: right;\">3938</td><td style = \"text-align: right;\">3981</td><td style = \"text-align: right;\">3018</td><td style = \"text-align: right;\">5422</td><td style = \"text-align: right;\">2004</td><td style = \"text-align: right;\">3790</td><td style = \"text-align: right;\">9749</td><td style = \"text-align: right;\">6910</td><td style = \"text-align: right;\">6161</td><td style = \"text-align: right;\">2738</td><td style = \"text-align: right;\">3158</td><td style = \"text-align: right;\">2492</td><td style = \"text-align: right;\">5422</td><td style = \"text-align: right;\">9749</td><td style = \"text-align: right;\">&ctdot;</td></tr><tr><td class = \"rowNumber\" style = \"font-weight: bold; text-align: right;\">3</td><td style = \"text-align: right;\">10963</td><td style = \"text-align: right;\">3200</td><td style = \"text-align: right;\">0</td><td style = \"text-align: right;\">0</td><td style = \"text-align: right;\">0</td><td style = \"text-align: right;\">0</td><td style = \"text-align: right;\">440</td><td style = \"text-align: right;\">440</td><td style = \"text-align: right;\">440</td><td style = \"text-align: right;\">440</td><td style = \"text-align: right;\">4199</td><td style = \"text-align: right;\">4199</td><td style = \"text-align: right;\">4242</td><td style = \"text-align: right;\">4242</td><td style = \"text-align: right;\">310</td><td style = \"text-align: right;\">310</td><td style = \"text-align: right;\">310</td><td style = \"text-align: right;\">310</td><td style = \"text-align: right;\">310</td><td style = \"text-align: right;\">310</td><td style = \"text-align: right;\">310</td><td style = \"text-align: right;\">310</td><td style = \"text-align: right;\">310</td><td style = \"text-align: right;\">310</td><td style = \"text-align: right;\">310</td><td style = \"text-align: right;\">534</td><td style = \"text-align: right;\">534</td><td style = \"text-align: right;\">534</td><td style = \"text-align: right;\">534</td><td style = \"text-align: right;\">534</td><td style = \"text-align: right;\">534</td><td style = \"text-align: right;\">6252</td><td style = \"text-align: right;\">6252</td><td style = \"text-align: right;\">6252</td><td style = \"text-align: right;\">6252</td><td style = \"text-align: right;\">6252</td><td style = \"text-align: right;\">6252</td><td style = \"text-align: right;\">6252</td><td style = \"text-align: right;\">6252</td><td style = \"text-align: right;\">4184</td><td style = \"text-align: right;\">4184</td><td style = \"text-align: right;\">6673</td><td style = \"text-align: right;\">6673</td><td style = \"text-align: right;\">6673</td><td style = \"text-align: right;\">5386</td><td style = \"text-align: right;\">5386</td><td style = \"text-align: right;\">5386</td><td style = \"text-align: right;\">5386</td><td style = \"text-align: right;\">5386</td><td style = \"text-align: right;\">5386</td><td style = \"text-align: right;\">5386</td><td style = \"text-align: right;\">5386</td><td style = \"text-align: right;\">5386</td><td style = \"text-align: right;\">5386</td><td style = \"text-align: right;\">5386</td><td style = \"text-align: right;\">4479</td><td style = \"text-align: right;\">4479</td><td style = \"text-align: right;\">4479</td><td style = \"text-align: right;\">6422</td><td style = \"text-align: right;\">6422</td><td style = \"text-align: right;\">6422</td><td style = \"text-align: right;\">6422</td><td style = \"text-align: right;\">310</td><td style = \"text-align: right;\">310</td><td style = \"text-align: right;\">534</td><td style = \"text-align: right;\">6252</td><td style = \"text-align: right;\">6252</td><td style = \"text-align: right;\">5386</td><td style = \"text-align: right;\">5386</td><td style = \"text-align: right;\">5386</td><td style = \"text-align: right;\">310</td><td style = \"text-align: right;\">5386</td><td style = \"text-align: right;\">310</td><td style = \"text-align: right;\">534</td><td style = \"text-align: right;\">6252</td><td style = \"text-align: right;\">5386</td><td style = \"text-align: right;\">310</td><td style = \"text-align: right;\">534</td><td style = \"text-align: right;\">6252</td><td style = \"text-align: right;\">5386</td><td style = \"text-align: right;\">310</td><td style = \"text-align: right;\">5386</td><td style = \"text-align: right;\">310</td><td style = \"text-align: right;\">5386</td><td style = \"text-align: right;\">0</td><td style = \"text-align: right;\">440</td><td style = \"text-align: right;\">4199</td><td style = \"text-align: right;\">4242</td><td style = \"text-align: right;\">534</td><td style = \"text-align: right;\">6252</td><td style = \"text-align: right;\">4184</td><td style = \"text-align: right;\">6673</td><td style = \"text-align: right;\">5386</td><td style = \"text-align: right;\">4479</td><td style = \"text-align: right;\">6422</td><td style = \"text-align: right;\">0</td><td style = \"text-align: right;\">440</td><td style = \"text-align: right;\">310</td><td style = \"text-align: right;\">6252</td><td style = \"text-align: right;\">5386</td><td style = \"text-align: right;\">&ctdot;</td></tr><tr><td class = \"rowNumber\" style = \"font-weight: bold; text-align: right;\">4</td><td style = \"text-align: right;\">10963</td><td style = \"text-align: right;\">3200</td><td style = \"text-align: right;\">0</td><td style = \"text-align: right;\">0</td><td style = \"text-align: right;\">0</td><td style = \"text-align: right;\">0</td><td style = \"text-align: right;\">440</td><td style = \"text-align: right;\">440</td><td style = \"text-align: right;\">440</td><td style = \"text-align: right;\">440</td><td style = \"text-align: right;\">4199</td><td style = \"text-align: right;\">4199</td><td style = \"text-align: right;\">4242</td><td style = \"text-align: right;\">4242</td><td style = \"text-align: right;\">310</td><td style = \"text-align: right;\">310</td><td style = \"text-align: right;\">310</td><td style = \"text-align: right;\">310</td><td style = \"text-align: right;\">310</td><td style = \"text-align: right;\">310</td><td style = \"text-align: right;\">310</td><td style = \"text-align: right;\">310</td><td style = \"text-align: right;\">310</td><td style = \"text-align: right;\">310</td><td style = \"text-align: right;\">310</td><td style = \"text-align: right;\">534</td><td style = \"text-align: right;\">534</td><td style = \"text-align: right;\">534</td><td style = \"text-align: right;\">534</td><td style = \"text-align: right;\">534</td><td style = \"text-align: right;\">534</td><td style = \"text-align: right;\">6252</td><td style = \"text-align: right;\">6252</td><td style = \"text-align: right;\">6252</td><td style = \"text-align: right;\">6252</td><td style = \"text-align: right;\">6252</td><td style = \"text-align: right;\">6252</td><td style = \"text-align: right;\">6252</td><td style = \"text-align: right;\">6252</td><td style = \"text-align: right;\">4184</td><td style = \"text-align: right;\">4184</td><td style = \"text-align: right;\">6673</td><td style = \"text-align: right;\">6673</td><td style = \"text-align: right;\">6673</td><td style = \"text-align: right;\">5386</td><td style = \"text-align: right;\">5386</td><td style = \"text-align: right;\">5386</td><td style = \"text-align: right;\">5386</td><td style = \"text-align: right;\">5386</td><td style = \"text-align: right;\">5386</td><td style = \"text-align: right;\">5386</td><td style = \"text-align: right;\">5386</td><td style = \"text-align: right;\">5386</td><td style = \"text-align: right;\">5386</td><td style = \"text-align: right;\">5386</td><td style = \"text-align: right;\">4479</td><td style = \"text-align: right;\">4479</td><td style = \"text-align: right;\">4479</td><td style = \"text-align: right;\">6422</td><td style = \"text-align: right;\">6422</td><td style = \"text-align: right;\">6422</td><td style = \"text-align: right;\">6422</td><td style = \"text-align: right;\">310</td><td style = \"text-align: right;\">310</td><td style = \"text-align: right;\">534</td><td style = \"text-align: right;\">6252</td><td style = \"text-align: right;\">6252</td><td style = \"text-align: right;\">5386</td><td style = \"text-align: right;\">5386</td><td style = \"text-align: right;\">5386</td><td style = \"text-align: right;\">310</td><td style = \"text-align: right;\">5386</td><td style = \"text-align: right;\">310</td><td style = \"text-align: right;\">534</td><td style = \"text-align: right;\">6252</td><td style = \"text-align: right;\">5386</td><td style = \"text-align: right;\">310</td><td style = \"text-align: right;\">534</td><td style = \"text-align: right;\">6252</td><td style = \"text-align: right;\">5386</td><td style = \"text-align: right;\">310</td><td style = \"text-align: right;\">5386</td><td style = \"text-align: right;\">310</td><td style = \"text-align: right;\">5386</td><td style = \"text-align: right;\">0</td><td style = \"text-align: right;\">440</td><td style = \"text-align: right;\">4199</td><td style = \"text-align: right;\">4242</td><td style = \"text-align: right;\">534</td><td style = \"text-align: right;\">6252</td><td style = \"text-align: right;\">4184</td><td style = \"text-align: right;\">6673</td><td style = \"text-align: right;\">5386</td><td style = \"text-align: right;\">4479</td><td style = \"text-align: right;\">6422</td><td style = \"text-align: right;\">0</td><td style = \"text-align: right;\">440</td><td style = \"text-align: right;\">310</td><td style = \"text-align: right;\">6252</td><td style = \"text-align: right;\">5386</td><td style = \"text-align: right;\">&ctdot;</td></tr><tr><td class = \"rowNumber\" style = \"font-weight: bold; text-align: right;\">5</td><td style = \"text-align: right;\">10963</td><td style = \"text-align: right;\">3200</td><td style = \"text-align: right;\">0</td><td style = \"text-align: right;\">0</td><td style = \"text-align: right;\">0</td><td style = \"text-align: right;\">0</td><td style = \"text-align: right;\">440</td><td style = \"text-align: right;\">440</td><td style = \"text-align: right;\">440</td><td style = \"text-align: right;\">440</td><td style = \"text-align: right;\">4199</td><td style = \"text-align: right;\">4199</td><td style = \"text-align: right;\">4242</td><td style = \"text-align: right;\">4242</td><td style = \"text-align: right;\">310</td><td style = \"text-align: right;\">310</td><td style = \"text-align: right;\">310</td><td style = \"text-align: right;\">310</td><td style = \"text-align: right;\">310</td><td style = \"text-align: right;\">310</td><td style = \"text-align: right;\">310</td><td style = \"text-align: right;\">310</td><td style = \"text-align: right;\">310</td><td style = \"text-align: right;\">310</td><td style = \"text-align: right;\">310</td><td style = \"text-align: right;\">534</td><td style = \"text-align: right;\">534</td><td style = \"text-align: right;\">534</td><td style = \"text-align: right;\">534</td><td style = \"text-align: right;\">534</td><td style = \"text-align: right;\">534</td><td style = \"text-align: right;\">6252</td><td style = \"text-align: right;\">6252</td><td style = \"text-align: right;\">6252</td><td style = \"text-align: right;\">6252</td><td style = \"text-align: right;\">6252</td><td style = \"text-align: right;\">6252</td><td style = \"text-align: right;\">6252</td><td style = \"text-align: right;\">6252</td><td style = \"text-align: right;\">4184</td><td style = \"text-align: right;\">4184</td><td style = \"text-align: right;\">6673</td><td style = \"text-align: right;\">6673</td><td style = \"text-align: right;\">6673</td><td style = \"text-align: right;\">5386</td><td style = \"text-align: right;\">5386</td><td style = \"text-align: right;\">5386</td><td style = \"text-align: right;\">5386</td><td style = \"text-align: right;\">5386</td><td style = \"text-align: right;\">5386</td><td style = \"text-align: right;\">5386</td><td style = \"text-align: right;\">5386</td><td style = \"text-align: right;\">5386</td><td style = \"text-align: right;\">5386</td><td style = \"text-align: right;\">5386</td><td style = \"text-align: right;\">4479</td><td style = \"text-align: right;\">4479</td><td style = \"text-align: right;\">4479</td><td style = \"text-align: right;\">6422</td><td style = \"text-align: right;\">6422</td><td style = \"text-align: right;\">6422</td><td style = \"text-align: right;\">6422</td><td style = \"text-align: right;\">310</td><td style = \"text-align: right;\">310</td><td style = \"text-align: right;\">534</td><td style = \"text-align: right;\">6252</td><td style = \"text-align: right;\">6252</td><td style = \"text-align: right;\">5386</td><td style = \"text-align: right;\">5386</td><td style = \"text-align: right;\">5386</td><td style = \"text-align: right;\">310</td><td style = \"text-align: right;\">5386</td><td style = \"text-align: right;\">310</td><td style = \"text-align: right;\">534</td><td style = \"text-align: right;\">6252</td><td style = \"text-align: right;\">5386</td><td style = \"text-align: right;\">310</td><td style = \"text-align: right;\">534</td><td style = \"text-align: right;\">6252</td><td style = \"text-align: right;\">5386</td><td style = \"text-align: right;\">310</td><td style = \"text-align: right;\">5386</td><td style = \"text-align: right;\">310</td><td style = \"text-align: right;\">5386</td><td style = \"text-align: right;\">0</td><td style = \"text-align: right;\">440</td><td style = \"text-align: right;\">4199</td><td style = \"text-align: right;\">4242</td><td style = \"text-align: right;\">534</td><td style = \"text-align: right;\">6252</td><td style = \"text-align: right;\">4184</td><td style = \"text-align: right;\">6673</td><td style = \"text-align: right;\">5386</td><td style = \"text-align: right;\">4479</td><td style = \"text-align: right;\">6422</td><td style = \"text-align: right;\">0</td><td style = \"text-align: right;\">440</td><td style = \"text-align: right;\">310</td><td style = \"text-align: right;\">6252</td><td style = \"text-align: right;\">5386</td><td style = \"text-align: right;\">&ctdot;</td></tr><tr><td class = \"rowNumber\" style = \"font-weight: bold; text-align: right;\">6</td><td style = \"text-align: right;\">10963</td><td style = \"text-align: right;\">3200</td><td style = \"text-align: right;\">0</td><td style = \"text-align: right;\">0</td><td style = \"text-align: right;\">0</td><td style = \"text-align: right;\">0</td><td style = \"text-align: right;\">440</td><td style = \"text-align: right;\">440</td><td style = \"text-align: right;\">440</td><td style = \"text-align: right;\">440</td><td style = \"text-align: right;\">4199</td><td style = \"text-align: right;\">4199</td><td style = \"text-align: right;\">4242</td><td style = \"text-align: right;\">4242</td><td style = \"text-align: right;\">310</td><td style = \"text-align: right;\">310</td><td style = \"text-align: right;\">310</td><td style = \"text-align: right;\">310</td><td style = \"text-align: right;\">310</td><td style = \"text-align: right;\">310</td><td style = \"text-align: right;\">310</td><td style = \"text-align: right;\">310</td><td style = \"text-align: right;\">310</td><td style = \"text-align: right;\">310</td><td style = \"text-align: right;\">310</td><td style = \"text-align: right;\">534</td><td style = \"text-align: right;\">534</td><td style = \"text-align: right;\">534</td><td style = \"text-align: right;\">534</td><td style = \"text-align: right;\">534</td><td style = \"text-align: right;\">534</td><td style = \"text-align: right;\">6252</td><td style = \"text-align: right;\">6252</td><td style = \"text-align: right;\">6252</td><td style = \"text-align: right;\">6252</td><td style = \"text-align: right;\">6252</td><td style = \"text-align: right;\">6252</td><td style = \"text-align: right;\">6252</td><td style = \"text-align: right;\">6252</td><td style = \"text-align: right;\">4184</td><td style = \"text-align: right;\">4184</td><td style = \"text-align: right;\">6673</td><td style = \"text-align: right;\">6673</td><td style = \"text-align: right;\">6673</td><td style = \"text-align: right;\">5386</td><td style = \"text-align: right;\">5386</td><td style = \"text-align: right;\">5386</td><td style = \"text-align: right;\">5386</td><td style = \"text-align: right;\">5386</td><td style = \"text-align: right;\">5386</td><td style = \"text-align: right;\">5386</td><td style = \"text-align: right;\">5386</td><td style = \"text-align: right;\">5386</td><td style = \"text-align: right;\">5386</td><td style = \"text-align: right;\">5386</td><td style = \"text-align: right;\">4479</td><td style = \"text-align: right;\">4479</td><td style = \"text-align: right;\">4479</td><td style = \"text-align: right;\">6422</td><td style = \"text-align: right;\">6422</td><td style = \"text-align: right;\">6422</td><td style = \"text-align: right;\">6422</td><td style = \"text-align: right;\">310</td><td style = \"text-align: right;\">310</td><td style = \"text-align: right;\">534</td><td style = \"text-align: right;\">6252</td><td style = \"text-align: right;\">6252</td><td style = \"text-align: right;\">5386</td><td style = \"text-align: right;\">5386</td><td style = \"text-align: right;\">5386</td><td style = \"text-align: right;\">310</td><td style = \"text-align: right;\">5386</td><td style = \"text-align: right;\">310</td><td style = \"text-align: right;\">534</td><td style = \"text-align: right;\">6252</td><td style = \"text-align: right;\">5386</td><td style = \"text-align: right;\">310</td><td style = \"text-align: right;\">534</td><td style = \"text-align: right;\">6252</td><td style = \"text-align: right;\">5386</td><td style = \"text-align: right;\">310</td><td style = \"text-align: right;\">5386</td><td style = \"text-align: right;\">310</td><td style = \"text-align: right;\">5386</td><td style = \"text-align: right;\">0</td><td style = \"text-align: right;\">440</td><td style = \"text-align: right;\">4199</td><td style = \"text-align: right;\">4242</td><td style = \"text-align: right;\">534</td><td style = \"text-align: right;\">6252</td><td style = \"text-align: right;\">4184</td><td style = \"text-align: right;\">6673</td><td style = \"text-align: right;\">5386</td><td style = \"text-align: right;\">4479</td><td style = \"text-align: right;\">6422</td><td style = \"text-align: right;\">0</td><td style = \"text-align: right;\">440</td><td style = \"text-align: right;\">310</td><td style = \"text-align: right;\">6252</td><td style = \"text-align: right;\">5386</td><td style = \"text-align: right;\">&ctdot;</td></tr><tr><td class = \"rowNumber\" style = \"font-weight: bold; text-align: right;\">7</td><td style = \"text-align: right;\">10618</td><td style = \"text-align: right;\">3628</td><td style = \"text-align: right;\">447</td><td style = \"text-align: right;\">447</td><td style = \"text-align: right;\">447</td><td style = \"text-align: right;\">447</td><td style = \"text-align: right;\">0</td><td style = \"text-align: right;\">0</td><td style = \"text-align: right;\">0</td><td style = \"text-align: right;\">0</td><td style = \"text-align: right;\">4626</td><td style = \"text-align: right;\">4626</td><td style = \"text-align: right;\">4669</td><td style = \"text-align: right;\">4669</td><td style = \"text-align: right;\">737</td><td style = \"text-align: right;\">737</td><td style = \"text-align: right;\">737</td><td style = \"text-align: right;\">737</td><td style = \"text-align: right;\">737</td><td style = \"text-align: right;\">737</td><td style = \"text-align: right;\">737</td><td style = \"text-align: right;\">737</td><td style = \"text-align: right;\">737</td><td style = \"text-align: right;\">737</td><td style = \"text-align: right;\">737</td><td style = \"text-align: right;\">553</td><td style = \"text-align: right;\">553</td><td style = \"text-align: right;\">553</td><td style = \"text-align: right;\">553</td><td style = \"text-align: right;\">553</td><td style = \"text-align: right;\">553</td><td style = \"text-align: right;\">6671</td><td style = \"text-align: right;\">6671</td><td style = \"text-align: right;\">6671</td><td style = \"text-align: right;\">6671</td><td style = \"text-align: right;\">6671</td><td style = \"text-align: right;\">6671</td><td style = \"text-align: right;\">6671</td><td style = \"text-align: right;\">6671</td><td style = \"text-align: right;\">4612</td><td style = \"text-align: right;\">4612</td><td style = \"text-align: right;\">7092</td><td style = \"text-align: right;\">7092</td><td style = \"text-align: right;\">7092</td><td style = \"text-align: right;\">5041</td><td style = \"text-align: right;\">5041</td><td style = \"text-align: right;\">5041</td><td style = \"text-align: right;\">5041</td><td style = \"text-align: right;\">5041</td><td style = \"text-align: right;\">5041</td><td style = \"text-align: right;\">5041</td><td style = \"text-align: right;\">5041</td><td style = \"text-align: right;\">5041</td><td style = \"text-align: right;\">5041</td><td style = \"text-align: right;\">5041</td><td style = \"text-align: right;\">5091</td><td style = \"text-align: right;\">5091</td><td style = \"text-align: right;\">5091</td><td style = \"text-align: right;\">5202</td><td style = \"text-align: right;\">5202</td><td style = \"text-align: right;\">5202</td><td style = \"text-align: right;\">5202</td><td style = \"text-align: right;\">737</td><td style = \"text-align: right;\">737</td><td style = \"text-align: right;\">553</td><td style = \"text-align: right;\">6671</td><td style = \"text-align: right;\">6671</td><td style = \"text-align: right;\">5041</td><td style = \"text-align: right;\">5041</td><td style = \"text-align: right;\">5041</td><td style = \"text-align: right;\">737</td><td style = \"text-align: right;\">5041</td><td style = \"text-align: right;\">737</td><td style = \"text-align: right;\">553</td><td style = \"text-align: right;\">6671</td><td style = \"text-align: right;\">5041</td><td style = \"text-align: right;\">737</td><td style = \"text-align: right;\">553</td><td style = \"text-align: right;\">6671</td><td style = \"text-align: right;\">5041</td><td style = \"text-align: right;\">737</td><td style = \"text-align: right;\">5041</td><td style = \"text-align: right;\">737</td><td style = \"text-align: right;\">5041</td><td style = \"text-align: right;\">447</td><td style = \"text-align: right;\">0</td><td style = \"text-align: right;\">4626</td><td style = \"text-align: right;\">4669</td><td style = \"text-align: right;\">553</td><td style = \"text-align: right;\">6671</td><td style = \"text-align: right;\">4612</td><td style = \"text-align: right;\">7092</td><td style = \"text-align: right;\">5041</td><td style = \"text-align: right;\">5091</td><td style = \"text-align: right;\">5202</td><td style = \"text-align: right;\">447</td><td style = \"text-align: right;\">0</td><td style = \"text-align: right;\">737</td><td style = \"text-align: right;\">6671</td><td style = \"text-align: right;\">5041</td><td style = \"text-align: right;\">&ctdot;</td></tr><tr><td class = \"rowNumber\" style = \"font-weight: bold; text-align: right;\">8</td><td style = \"text-align: right;\">10618</td><td style = \"text-align: right;\">3628</td><td style = \"text-align: right;\">447</td><td style = \"text-align: right;\">447</td><td style = \"text-align: right;\">447</td><td style = \"text-align: right;\">447</td><td style = \"text-align: right;\">0</td><td style = \"text-align: right;\">0</td><td style = \"text-align: right;\">0</td><td style = \"text-align: right;\">0</td><td style = \"text-align: right;\">4626</td><td style = \"text-align: right;\">4626</td><td style = \"text-align: right;\">4669</td><td style = \"text-align: right;\">4669</td><td style = \"text-align: right;\">737</td><td style = \"text-align: right;\">737</td><td style = \"text-align: right;\">737</td><td style = \"text-align: right;\">737</td><td style = \"text-align: right;\">737</td><td style = \"text-align: right;\">737</td><td style = \"text-align: right;\">737</td><td style = \"text-align: right;\">737</td><td style = \"text-align: right;\">737</td><td style = \"text-align: right;\">737</td><td style = \"text-align: right;\">737</td><td style = \"text-align: right;\">553</td><td style = \"text-align: right;\">553</td><td style = \"text-align: right;\">553</td><td style = \"text-align: right;\">553</td><td style = \"text-align: right;\">553</td><td style = \"text-align: right;\">553</td><td style = \"text-align: right;\">6671</td><td style = \"text-align: right;\">6671</td><td style = \"text-align: right;\">6671</td><td style = \"text-align: right;\">6671</td><td style = \"text-align: right;\">6671</td><td style = \"text-align: right;\">6671</td><td style = \"text-align: right;\">6671</td><td style = \"text-align: right;\">6671</td><td style = \"text-align: right;\">4612</td><td style = \"text-align: right;\">4612</td><td style = \"text-align: right;\">7092</td><td style = \"text-align: right;\">7092</td><td style = \"text-align: right;\">7092</td><td style = \"text-align: right;\">5041</td><td style = \"text-align: right;\">5041</td><td style = \"text-align: right;\">5041</td><td style = \"text-align: right;\">5041</td><td style = \"text-align: right;\">5041</td><td style = \"text-align: right;\">5041</td><td style = \"text-align: right;\">5041</td><td style = \"text-align: right;\">5041</td><td style = \"text-align: right;\">5041</td><td style = \"text-align: right;\">5041</td><td style = \"text-align: right;\">5041</td><td style = \"text-align: right;\">5091</td><td style = \"text-align: right;\">5091</td><td style = \"text-align: right;\">5091</td><td style = \"text-align: right;\">5202</td><td style = \"text-align: right;\">5202</td><td style = \"text-align: right;\">5202</td><td style = \"text-align: right;\">5202</td><td style = \"text-align: right;\">737</td><td style = \"text-align: right;\">737</td><td style = \"text-align: right;\">553</td><td style = \"text-align: right;\">6671</td><td style = \"text-align: right;\">6671</td><td style = \"text-align: right;\">5041</td><td style = \"text-align: right;\">5041</td><td style = \"text-align: right;\">5041</td><td style = \"text-align: right;\">737</td><td style = \"text-align: right;\">5041</td><td style = \"text-align: right;\">737</td><td style = \"text-align: right;\">553</td><td style = \"text-align: right;\">6671</td><td style = \"text-align: right;\">5041</td><td style = \"text-align: right;\">737</td><td style = \"text-align: right;\">553</td><td style = \"text-align: right;\">6671</td><td style = \"text-align: right;\">5041</td><td style = \"text-align: right;\">737</td><td style = \"text-align: right;\">5041</td><td style = \"text-align: right;\">737</td><td style = \"text-align: right;\">5041</td><td style = \"text-align: right;\">447</td><td style = \"text-align: right;\">0</td><td style = \"text-align: right;\">4626</td><td style = \"text-align: right;\">4669</td><td style = \"text-align: right;\">553</td><td style = \"text-align: right;\">6671</td><td style = \"text-align: right;\">4612</td><td style = \"text-align: right;\">7092</td><td style = \"text-align: right;\">5041</td><td style = \"text-align: right;\">5091</td><td style = \"text-align: right;\">5202</td><td style = \"text-align: right;\">447</td><td style = \"text-align: right;\">0</td><td style = \"text-align: right;\">737</td><td style = \"text-align: right;\">6671</td><td style = \"text-align: right;\">5041</td><td style = \"text-align: right;\">&ctdot;</td></tr><tr><td class = \"rowNumber\" style = \"font-weight: bold; text-align: right;\">9</td><td style = \"text-align: right;\">10618</td><td style = \"text-align: right;\">3628</td><td style = \"text-align: right;\">447</td><td style = \"text-align: right;\">447</td><td style = \"text-align: right;\">447</td><td style = \"text-align: right;\">447</td><td style = \"text-align: right;\">0</td><td style = \"text-align: right;\">0</td><td style = \"text-align: right;\">0</td><td style = \"text-align: right;\">0</td><td style = \"text-align: right;\">4626</td><td style = \"text-align: right;\">4626</td><td style = \"text-align: right;\">4669</td><td style = \"text-align: right;\">4669</td><td style = \"text-align: right;\">737</td><td style = \"text-align: right;\">737</td><td style = \"text-align: right;\">737</td><td style = \"text-align: right;\">737</td><td style = \"text-align: right;\">737</td><td style = \"text-align: right;\">737</td><td style = \"text-align: right;\">737</td><td style = \"text-align: right;\">737</td><td style = \"text-align: right;\">737</td><td style = \"text-align: right;\">737</td><td style = \"text-align: right;\">737</td><td style = \"text-align: right;\">553</td><td style = \"text-align: right;\">553</td><td style = \"text-align: right;\">553</td><td style = \"text-align: right;\">553</td><td style = \"text-align: right;\">553</td><td style = \"text-align: right;\">553</td><td style = \"text-align: right;\">6671</td><td style = \"text-align: right;\">6671</td><td style = \"text-align: right;\">6671</td><td style = \"text-align: right;\">6671</td><td style = \"text-align: right;\">6671</td><td style = \"text-align: right;\">6671</td><td style = \"text-align: right;\">6671</td><td style = \"text-align: right;\">6671</td><td style = \"text-align: right;\">4612</td><td style = \"text-align: right;\">4612</td><td style = \"text-align: right;\">7092</td><td style = \"text-align: right;\">7092</td><td style = \"text-align: right;\">7092</td><td style = \"text-align: right;\">5041</td><td style = \"text-align: right;\">5041</td><td style = \"text-align: right;\">5041</td><td style = \"text-align: right;\">5041</td><td style = \"text-align: right;\">5041</td><td style = \"text-align: right;\">5041</td><td style = \"text-align: right;\">5041</td><td style = \"text-align: right;\">5041</td><td style = \"text-align: right;\">5041</td><td style = \"text-align: right;\">5041</td><td style = \"text-align: right;\">5041</td><td style = \"text-align: right;\">5091</td><td style = \"text-align: right;\">5091</td><td style = \"text-align: right;\">5091</td><td style = \"text-align: right;\">5202</td><td style = \"text-align: right;\">5202</td><td style = \"text-align: right;\">5202</td><td style = \"text-align: right;\">5202</td><td style = \"text-align: right;\">737</td><td style = \"text-align: right;\">737</td><td style = \"text-align: right;\">553</td><td style = \"text-align: right;\">6671</td><td style = \"text-align: right;\">6671</td><td style = \"text-align: right;\">5041</td><td style = \"text-align: right;\">5041</td><td style = \"text-align: right;\">5041</td><td style = \"text-align: right;\">737</td><td style = \"text-align: right;\">5041</td><td style = \"text-align: right;\">737</td><td style = \"text-align: right;\">553</td><td style = \"text-align: right;\">6671</td><td style = \"text-align: right;\">5041</td><td style = \"text-align: right;\">737</td><td style = \"text-align: right;\">553</td><td style = \"text-align: right;\">6671</td><td style = \"text-align: right;\">5041</td><td style = \"text-align: right;\">737</td><td style = \"text-align: right;\">5041</td><td style = \"text-align: right;\">737</td><td style = \"text-align: right;\">5041</td><td style = \"text-align: right;\">447</td><td style = \"text-align: right;\">0</td><td style = \"text-align: right;\">4626</td><td style = \"text-align: right;\">4669</td><td style = \"text-align: right;\">553</td><td style = \"text-align: right;\">6671</td><td style = \"text-align: right;\">4612</td><td style = \"text-align: right;\">7092</td><td style = \"text-align: right;\">5041</td><td style = \"text-align: right;\">5091</td><td style = \"text-align: right;\">5202</td><td style = \"text-align: right;\">447</td><td style = \"text-align: right;\">0</td><td style = \"text-align: right;\">737</td><td style = \"text-align: right;\">6671</td><td style = \"text-align: right;\">5041</td><td style = \"text-align: right;\">&ctdot;</td></tr><tr><td class = \"rowNumber\" style = \"font-weight: bold; text-align: right;\">10</td><td style = \"text-align: right;\">10618</td><td style = \"text-align: right;\">3628</td><td style = \"text-align: right;\">447</td><td style = \"text-align: right;\">447</td><td style = \"text-align: right;\">447</td><td style = \"text-align: right;\">447</td><td style = \"text-align: right;\">0</td><td style = \"text-align: right;\">0</td><td style = \"text-align: right;\">0</td><td style = \"text-align: right;\">0</td><td style = \"text-align: right;\">4626</td><td style = \"text-align: right;\">4626</td><td style = \"text-align: right;\">4669</td><td style = \"text-align: right;\">4669</td><td style = \"text-align: right;\">737</td><td style = \"text-align: right;\">737</td><td style = \"text-align: right;\">737</td><td style = \"text-align: right;\">737</td><td style = \"text-align: right;\">737</td><td style = \"text-align: right;\">737</td><td style = \"text-align: right;\">737</td><td style = \"text-align: right;\">737</td><td style = \"text-align: right;\">737</td><td style = \"text-align: right;\">737</td><td style = \"text-align: right;\">737</td><td style = \"text-align: right;\">553</td><td style = \"text-align: right;\">553</td><td style = \"text-align: right;\">553</td><td style = \"text-align: right;\">553</td><td style = \"text-align: right;\">553</td><td style = \"text-align: right;\">553</td><td style = \"text-align: right;\">6671</td><td style = \"text-align: right;\">6671</td><td style = \"text-align: right;\">6671</td><td style = \"text-align: right;\">6671</td><td style = \"text-align: right;\">6671</td><td style = \"text-align: right;\">6671</td><td style = \"text-align: right;\">6671</td><td style = \"text-align: right;\">6671</td><td style = \"text-align: right;\">4612</td><td style = \"text-align: right;\">4612</td><td style = \"text-align: right;\">7092</td><td style = \"text-align: right;\">7092</td><td style = \"text-align: right;\">7092</td><td style = \"text-align: right;\">5041</td><td style = \"text-align: right;\">5041</td><td style = \"text-align: right;\">5041</td><td style = \"text-align: right;\">5041</td><td style = \"text-align: right;\">5041</td><td style = \"text-align: right;\">5041</td><td style = \"text-align: right;\">5041</td><td style = \"text-align: right;\">5041</td><td style = \"text-align: right;\">5041</td><td style = \"text-align: right;\">5041</td><td style = \"text-align: right;\">5041</td><td style = \"text-align: right;\">5091</td><td style = \"text-align: right;\">5091</td><td style = \"text-align: right;\">5091</td><td style = \"text-align: right;\">5202</td><td style = \"text-align: right;\">5202</td><td style = \"text-align: right;\">5202</td><td style = \"text-align: right;\">5202</td><td style = \"text-align: right;\">737</td><td style = \"text-align: right;\">737</td><td style = \"text-align: right;\">553</td><td style = \"text-align: right;\">6671</td><td style = \"text-align: right;\">6671</td><td style = \"text-align: right;\">5041</td><td style = \"text-align: right;\">5041</td><td style = \"text-align: right;\">5041</td><td style = \"text-align: right;\">737</td><td style = \"text-align: right;\">5041</td><td style = \"text-align: right;\">737</td><td style = \"text-align: right;\">553</td><td style = \"text-align: right;\">6671</td><td style = \"text-align: right;\">5041</td><td style = \"text-align: right;\">737</td><td style = \"text-align: right;\">553</td><td style = \"text-align: right;\">6671</td><td style = \"text-align: right;\">5041</td><td style = \"text-align: right;\">737</td><td style = \"text-align: right;\">5041</td><td style = \"text-align: right;\">737</td><td style = \"text-align: right;\">5041</td><td style = \"text-align: right;\">447</td><td style = \"text-align: right;\">0</td><td style = \"text-align: right;\">4626</td><td style = \"text-align: right;\">4669</td><td style = \"text-align: right;\">553</td><td style = \"text-align: right;\">6671</td><td style = \"text-align: right;\">4612</td><td style = \"text-align: right;\">7092</td><td style = \"text-align: right;\">5041</td><td style = \"text-align: right;\">5091</td><td style = \"text-align: right;\">5202</td><td style = \"text-align: right;\">447</td><td style = \"text-align: right;\">0</td><td style = \"text-align: right;\">737</td><td style = \"text-align: right;\">6671</td><td style = \"text-align: right;\">5041</td><td style = \"text-align: right;\">&ctdot;</td></tr><tr><td class = \"rowNumber\" style = \"font-weight: bold; text-align: right;\">11</td><td style = \"text-align: right;\">10891</td><td style = \"text-align: right;\">4501</td><td style = \"text-align: right;\">4358</td><td style = \"text-align: right;\">4358</td><td style = \"text-align: right;\">4358</td><td style = \"text-align: right;\">4358</td><td style = \"text-align: right;\">4778</td><td style = \"text-align: right;\">4778</td><td style = \"text-align: right;\">4778</td><td style = \"text-align: right;\">4778</td><td style = \"text-align: right;\">0</td><td style = \"text-align: right;\">0</td><td style = \"text-align: right;\">835</td><td style = \"text-align: right;\">835</td><td style = \"text-align: right;\">4110</td><td style = \"text-align: right;\">4110</td><td style = \"text-align: right;\">4110</td><td style = \"text-align: right;\">4110</td><td style = \"text-align: right;\">4110</td><td style = \"text-align: right;\">4110</td><td style = \"text-align: right;\">4110</td><td style = \"text-align: right;\">4110</td><td style = \"text-align: right;\">4110</td><td style = \"text-align: right;\">4110</td><td style = \"text-align: right;\">4110</td><td style = \"text-align: right;\">4368</td><td style = \"text-align: right;\">4368</td><td style = \"text-align: right;\">4368</td><td style = \"text-align: right;\">4368</td><td style = \"text-align: right;\">4368</td><td style = \"text-align: right;\">4368</td><td style = \"text-align: right;\">10074</td><td style = \"text-align: right;\">10074</td><td style = \"text-align: right;\">10074</td><td style = \"text-align: right;\">10074</td><td style = \"text-align: right;\">10074</td><td style = \"text-align: right;\">10074</td><td style = \"text-align: right;\">10074</td><td style = \"text-align: right;\">10074</td><td style = \"text-align: right;\">3594</td><td style = \"text-align: right;\">3594</td><td style = \"text-align: right;\">6953</td><td style = \"text-align: right;\">6953</td><td style = \"text-align: right;\">6953</td><td style = \"text-align: right;\">7109</td><td style = \"text-align: right;\">7109</td><td style = \"text-align: right;\">7109</td><td style = \"text-align: right;\">7109</td><td style = \"text-align: right;\">7109</td><td style = \"text-align: right;\">7109</td><td style = \"text-align: right;\">7109</td><td style = \"text-align: right;\">7109</td><td style = \"text-align: right;\">7109</td><td style = \"text-align: right;\">7109</td><td style = \"text-align: right;\">7109</td><td style = \"text-align: right;\">11539</td><td style = \"text-align: right;\">11539</td><td style = \"text-align: right;\">11539</td><td style = \"text-align: right;\">3521</td><td style = \"text-align: right;\">3521</td><td style = \"text-align: right;\">3521</td><td style = \"text-align: right;\">3521</td><td style = \"text-align: right;\">4110</td><td style = \"text-align: right;\">4110</td><td style = \"text-align: right;\">4368</td><td style = \"text-align: right;\">10074</td><td style = \"text-align: right;\">10074</td><td style = \"text-align: right;\">7109</td><td style = \"text-align: right;\">7109</td><td style = \"text-align: right;\">7109</td><td style = \"text-align: right;\">4110</td><td style = \"text-align: right;\">7109</td><td style = \"text-align: right;\">4110</td><td style = \"text-align: right;\">4368</td><td style = \"text-align: right;\">10074</td><td style = \"text-align: right;\">7109</td><td style = \"text-align: right;\">4110</td><td style = \"text-align: right;\">4368</td><td style = \"text-align: right;\">10074</td><td style = \"text-align: right;\">7109</td><td style = \"text-align: right;\">4110</td><td style = \"text-align: right;\">7109</td><td style = \"text-align: right;\">4110</td><td style = \"text-align: right;\">7109</td><td style = \"text-align: right;\">4358</td><td style = \"text-align: right;\">4778</td><td style = \"text-align: right;\">0</td><td style = \"text-align: right;\">835</td><td style = \"text-align: right;\">4368</td><td style = \"text-align: right;\">10074</td><td style = \"text-align: right;\">3594</td><td style = \"text-align: right;\">6953</td><td style = \"text-align: right;\">7109</td><td style = \"text-align: right;\">11539</td><td style = \"text-align: right;\">3521</td><td style = \"text-align: right;\">4358</td><td style = \"text-align: right;\">4778</td><td style = \"text-align: right;\">4110</td><td style = \"text-align: right;\">10074</td><td style = \"text-align: right;\">7109</td><td style = \"text-align: right;\">&ctdot;</td></tr><tr><td class = \"rowNumber\" style = \"font-weight: bold; text-align: right;\">12</td><td style = \"text-align: right;\">10891</td><td style = \"text-align: right;\">4501</td><td style = \"text-align: right;\">4358</td><td style = \"text-align: right;\">4358</td><td style = \"text-align: right;\">4358</td><td style = \"text-align: right;\">4358</td><td style = \"text-align: right;\">4778</td><td style = \"text-align: right;\">4778</td><td style = \"text-align: right;\">4778</td><td style = \"text-align: right;\">4778</td><td style = \"text-align: right;\">0</td><td style = \"text-align: right;\">0</td><td style = \"text-align: right;\">835</td><td style = \"text-align: right;\">835</td><td style = \"text-align: right;\">4110</td><td style = \"text-align: right;\">4110</td><td style = \"text-align: right;\">4110</td><td style = \"text-align: right;\">4110</td><td style = \"text-align: right;\">4110</td><td style = \"text-align: right;\">4110</td><td style = \"text-align: right;\">4110</td><td style = \"text-align: right;\">4110</td><td style = \"text-align: right;\">4110</td><td style = \"text-align: right;\">4110</td><td style = \"text-align: right;\">4110</td><td style = \"text-align: right;\">4368</td><td style = \"text-align: right;\">4368</td><td style = \"text-align: right;\">4368</td><td style = \"text-align: right;\">4368</td><td style = \"text-align: right;\">4368</td><td style = \"text-align: right;\">4368</td><td style = \"text-align: right;\">10074</td><td style = \"text-align: right;\">10074</td><td style = \"text-align: right;\">10074</td><td style = \"text-align: right;\">10074</td><td style = \"text-align: right;\">10074</td><td style = \"text-align: right;\">10074</td><td style = \"text-align: right;\">10074</td><td style = \"text-align: right;\">10074</td><td style = \"text-align: right;\">3594</td><td style = \"text-align: right;\">3594</td><td style = \"text-align: right;\">6953</td><td style = \"text-align: right;\">6953</td><td style = \"text-align: right;\">6953</td><td style = \"text-align: right;\">7109</td><td style = \"text-align: right;\">7109</td><td style = \"text-align: right;\">7109</td><td style = \"text-align: right;\">7109</td><td style = \"text-align: right;\">7109</td><td style = \"text-align: right;\">7109</td><td style = \"text-align: right;\">7109</td><td style = \"text-align: right;\">7109</td><td style = \"text-align: right;\">7109</td><td style = \"text-align: right;\">7109</td><td style = \"text-align: right;\">7109</td><td style = \"text-align: right;\">11539</td><td style = \"text-align: right;\">11539</td><td style = \"text-align: right;\">11539</td><td style = \"text-align: right;\">3521</td><td style = \"text-align: right;\">3521</td><td style = \"text-align: right;\">3521</td><td style = \"text-align: right;\">3521</td><td style = \"text-align: right;\">4110</td><td style = \"text-align: right;\">4110</td><td style = \"text-align: right;\">4368</td><td style = \"text-align: right;\">10074</td><td style = \"text-align: right;\">10074</td><td style = \"text-align: right;\">7109</td><td style = \"text-align: right;\">7109</td><td style = \"text-align: right;\">7109</td><td style = \"text-align: right;\">4110</td><td style = \"text-align: right;\">7109</td><td style = \"text-align: right;\">4110</td><td style = \"text-align: right;\">4368</td><td style = \"text-align: right;\">10074</td><td style = \"text-align: right;\">7109</td><td style = \"text-align: right;\">4110</td><td style = \"text-align: right;\">4368</td><td style = \"text-align: right;\">10074</td><td style = \"text-align: right;\">7109</td><td style = \"text-align: right;\">4110</td><td style = \"text-align: right;\">7109</td><td style = \"text-align: right;\">4110</td><td style = \"text-align: right;\">7109</td><td style = \"text-align: right;\">4358</td><td style = \"text-align: right;\">4778</td><td style = \"text-align: right;\">0</td><td style = \"text-align: right;\">835</td><td style = \"text-align: right;\">4368</td><td style = \"text-align: right;\">10074</td><td style = \"text-align: right;\">3594</td><td style = \"text-align: right;\">6953</td><td style = \"text-align: right;\">7109</td><td style = \"text-align: right;\">11539</td><td style = \"text-align: right;\">3521</td><td style = \"text-align: right;\">4358</td><td style = \"text-align: right;\">4778</td><td style = \"text-align: right;\">4110</td><td style = \"text-align: right;\">10074</td><td style = \"text-align: right;\">7109</td><td style = \"text-align: right;\">&ctdot;</td></tr><tr><td class = \"rowNumber\" style = \"font-weight: bold; text-align: right;\">13</td><td style = \"text-align: right;\">10551</td><td style = \"text-align: right;\">3892</td><td style = \"text-align: right;\">3749</td><td style = \"text-align: right;\">3749</td><td style = \"text-align: right;\">3749</td><td style = \"text-align: right;\">3749</td><td style = \"text-align: right;\">4169</td><td style = \"text-align: right;\">4169</td><td style = \"text-align: right;\">4169</td><td style = \"text-align: right;\">4169</td><td style = \"text-align: right;\">641</td><td style = \"text-align: right;\">641</td><td style = \"text-align: right;\">0</td><td style = \"text-align: right;\">0</td><td style = \"text-align: right;\">3501</td><td style = \"text-align: right;\">3501</td><td style = \"text-align: right;\">3501</td><td style = \"text-align: right;\">3501</td><td style = \"text-align: right;\">3501</td><td style = \"text-align: right;\">3501</td><td style = \"text-align: right;\">3501</td><td style = \"text-align: right;\">3501</td><td style = \"text-align: right;\">3501</td><td style = \"text-align: right;\">3501</td><td style = \"text-align: right;\">3501</td><td style = \"text-align: right;\">3759</td><td style = \"text-align: right;\">3759</td><td style = \"text-align: right;\">3759</td><td style = \"text-align: right;\">3759</td><td style = \"text-align: right;\">3759</td><td style = \"text-align: right;\">3759</td><td style = \"text-align: right;\">9465</td><td style = \"text-align: right;\">9465</td><td style = \"text-align: right;\">9465</td><td style = \"text-align: right;\">9465</td><td style = \"text-align: right;\">9465</td><td style = \"text-align: right;\">9465</td><td style = \"text-align: right;\">9465</td><td style = \"text-align: right;\">9465</td><td style = \"text-align: right;\">3039</td><td style = \"text-align: right;\">3039</td><td style = \"text-align: right;\">6533</td><td style = \"text-align: right;\">6533</td><td style = \"text-align: right;\">6533</td><td style = \"text-align: right;\">6769</td><td style = \"text-align: right;\">6769</td><td style = \"text-align: right;\">6769</td><td style = \"text-align: right;\">6769</td><td style = \"text-align: right;\">6769</td><td style = \"text-align: right;\">6769</td><td style = \"text-align: right;\">6769</td><td style = \"text-align: right;\">6769</td><td style = \"text-align: right;\">6769</td><td style = \"text-align: right;\">6769</td><td style = \"text-align: right;\">6769</td><td style = \"text-align: right;\">11199</td><td style = \"text-align: right;\">11199</td><td style = \"text-align: right;\">11199</td><td style = \"text-align: right;\">3181</td><td style = \"text-align: right;\">3181</td><td style = \"text-align: right;\">3181</td><td style = \"text-align: right;\">3181</td><td style = \"text-align: right;\">3501</td><td style = \"text-align: right;\">3501</td><td style = \"text-align: right;\">3759</td><td style = \"text-align: right;\">9465</td><td style = \"text-align: right;\">9465</td><td style = \"text-align: right;\">6769</td><td style = \"text-align: right;\">6769</td><td style = \"text-align: right;\">6769</td><td style = \"text-align: right;\">3501</td><td style = \"text-align: right;\">6769</td><td style = \"text-align: right;\">3501</td><td style = \"text-align: right;\">3759</td><td style = \"text-align: right;\">9465</td><td style = \"text-align: right;\">6769</td><td style = \"text-align: right;\">3501</td><td style = \"text-align: right;\">3759</td><td style = \"text-align: right;\">9465</td><td style = \"text-align: right;\">6769</td><td style = \"text-align: right;\">3501</td><td style = \"text-align: right;\">6769</td><td style = \"text-align: right;\">3501</td><td style = \"text-align: right;\">6769</td><td style = \"text-align: right;\">3749</td><td style = \"text-align: right;\">4169</td><td style = \"text-align: right;\">641</td><td style = \"text-align: right;\">0</td><td style = \"text-align: right;\">3759</td><td style = \"text-align: right;\">9465</td><td style = \"text-align: right;\">3039</td><td style = \"text-align: right;\">6533</td><td style = \"text-align: right;\">6769</td><td style = \"text-align: right;\">11199</td><td style = \"text-align: right;\">3181</td><td style = \"text-align: right;\">3749</td><td style = \"text-align: right;\">4169</td><td style = \"text-align: right;\">3501</td><td style = \"text-align: right;\">9465</td><td style = \"text-align: right;\">6769</td><td style = \"text-align: right;\">&ctdot;</td></tr><tr><td style = \"text-align: right;\">&vellip;</td><td style = \"text-align: right;\">&vellip;</td><td style = \"text-align: right;\">&vellip;</td><td style = \"text-align: right;\">&vellip;</td><td style = \"text-align: right;\">&vellip;</td><td style = \"text-align: right;\">&vellip;</td><td style = \"text-align: right;\">&vellip;</td><td style = \"text-align: right;\">&vellip;</td><td style = \"text-align: right;\">&vellip;</td><td style = \"text-align: right;\">&vellip;</td><td style = \"text-align: right;\">&vellip;</td><td style = \"text-align: right;\">&vellip;</td><td style = \"text-align: right;\">&vellip;</td><td style = \"text-align: right;\">&vellip;</td><td style = \"text-align: right;\">&vellip;</td><td style = \"text-align: right;\">&vellip;</td><td style = \"text-align: right;\">&vellip;</td><td style = \"text-align: right;\">&vellip;</td><td style = \"text-align: right;\">&vellip;</td><td style = \"text-align: right;\">&vellip;</td><td style = \"text-align: right;\">&vellip;</td><td style = \"text-align: right;\">&vellip;</td><td style = \"text-align: right;\">&vellip;</td><td style = \"text-align: right;\">&vellip;</td><td style = \"text-align: right;\">&vellip;</td><td style = \"text-align: right;\">&vellip;</td><td style = \"text-align: right;\">&vellip;</td><td style = \"text-align: right;\">&vellip;</td><td style = \"text-align: right;\">&vellip;</td><td style = \"text-align: right;\">&vellip;</td><td style = \"text-align: right;\">&vellip;</td><td style = \"text-align: right;\">&vellip;</td><td style = \"text-align: right;\">&vellip;</td><td style = \"text-align: right;\">&vellip;</td><td style = \"text-align: right;\">&vellip;</td><td style = \"text-align: right;\">&vellip;</td><td style = \"text-align: right;\">&vellip;</td><td style = \"text-align: right;\">&vellip;</td><td style = \"text-align: right;\">&vellip;</td><td style = \"text-align: right;\">&vellip;</td><td style = \"text-align: right;\">&vellip;</td><td style = \"text-align: right;\">&vellip;</td><td style = \"text-align: right;\">&vellip;</td><td style = \"text-align: right;\">&vellip;</td><td style = \"text-align: right;\">&vellip;</td><td style = \"text-align: right;\">&vellip;</td><td style = \"text-align: right;\">&vellip;</td><td style = \"text-align: right;\">&vellip;</td><td style = \"text-align: right;\">&vellip;</td><td style = \"text-align: right;\">&vellip;</td><td style = \"text-align: right;\">&vellip;</td><td style = \"text-align: right;\">&vellip;</td><td style = \"text-align: right;\">&vellip;</td><td style = \"text-align: right;\">&vellip;</td><td style = \"text-align: right;\">&vellip;</td><td style = \"text-align: right;\">&vellip;</td><td style = \"text-align: right;\">&vellip;</td><td style = \"text-align: right;\">&vellip;</td><td style = \"text-align: right;\">&vellip;</td><td style = \"text-align: right;\">&vellip;</td><td style = \"text-align: right;\">&vellip;</td><td style = \"text-align: right;\">&vellip;</td><td style = \"text-align: right;\">&vellip;</td><td style = \"text-align: right;\">&vellip;</td><td style = \"text-align: right;\">&vellip;</td><td style = \"text-align: right;\">&vellip;</td><td style = \"text-align: right;\">&vellip;</td><td style = \"text-align: right;\">&vellip;</td><td style = \"text-align: right;\">&vellip;</td><td style = \"text-align: right;\">&vellip;</td><td style = \"text-align: right;\">&vellip;</td><td style = \"text-align: right;\">&vellip;</td><td style = \"text-align: right;\">&vellip;</td><td style = \"text-align: right;\">&vellip;</td><td style = \"text-align: right;\">&vellip;</td><td style = \"text-align: right;\">&vellip;</td><td style = \"text-align: right;\">&vellip;</td><td style = \"text-align: right;\">&vellip;</td><td style = \"text-align: right;\">&vellip;</td><td style = \"text-align: right;\">&vellip;</td><td style = \"text-align: right;\">&vellip;</td><td style = \"text-align: right;\">&vellip;</td><td style = \"text-align: right;\">&vellip;</td><td style = \"text-align: right;\">&vellip;</td><td style = \"text-align: right;\">&vellip;</td><td style = \"text-align: right;\">&vellip;</td><td style = \"text-align: right;\">&vellip;</td><td style = \"text-align: right;\">&vellip;</td><td style = \"text-align: right;\">&vellip;</td><td style = \"text-align: right;\">&vellip;</td><td style = \"text-align: right;\">&vellip;</td><td style = \"text-align: right;\">&vellip;</td><td style = \"text-align: right;\">&vellip;</td><td style = \"text-align: right;\">&vellip;</td><td style = \"text-align: right;\">&vellip;</td><td style = \"text-align: right;\">&vellip;</td><td style = \"text-align: right;\">&vellip;</td><td style = \"text-align: right;\">&vellip;</td><td style = \"text-align: right;\">&vellip;</td><td style = \"text-align: right;\">&vellip;</td><td style = \"text-align: right;\">&vellip;</td><td style = \"text-align: right;\">&dtdot;</td></tr><tr><td class = \"rowNumber\" style = \"font-weight: bold; text-align: right;\">131</td><td style = \"text-align: right;\">16708</td><td style = \"text-align: right;\">4612</td><td style = \"text-align: right;\">5773</td><td style = \"text-align: right;\">5773</td><td style = \"text-align: right;\">5773</td><td style = \"text-align: right;\">5773</td><td style = \"text-align: right;\">6185</td><td style = \"text-align: right;\">6185</td><td style = \"text-align: right;\">6185</td><td style = \"text-align: right;\">6185</td><td style = \"text-align: right;\">8035</td><td style = \"text-align: right;\">8035</td><td style = \"text-align: right;\">7976</td><td style = \"text-align: right;\">7976</td><td style = \"text-align: right;\">5919</td><td style = \"text-align: right;\">5919</td><td style = \"text-align: right;\">5919</td><td style = \"text-align: right;\">5919</td><td style = \"text-align: right;\">5919</td><td style = \"text-align: right;\">5919</td><td style = \"text-align: right;\">5919</td><td style = \"text-align: right;\">5919</td><td style = \"text-align: right;\">5919</td><td style = \"text-align: right;\">5919</td><td style = \"text-align: right;\">5919</td><td style = \"text-align: right;\">6287</td><td style = \"text-align: right;\">6287</td><td style = \"text-align: right;\">6287</td><td style = \"text-align: right;\">6287</td><td style = \"text-align: right;\">6287</td><td style = \"text-align: right;\">6287</td><td style = \"text-align: right;\">0</td><td style = \"text-align: right;\">0</td><td style = \"text-align: right;\">0</td><td style = \"text-align: right;\">0</td><td style = \"text-align: right;\">0</td><td style = \"text-align: right;\">0</td><td style = \"text-align: right;\">0</td><td style = \"text-align: right;\">0</td><td style = \"text-align: right;\">5468</td><td style = \"text-align: right;\">5468</td><td style = \"text-align: right;\">4052</td><td style = \"text-align: right;\">4052</td><td style = \"text-align: right;\">4052</td><td style = \"text-align: right;\">11131</td><td style = \"text-align: right;\">11131</td><td style = \"text-align: right;\">11131</td><td style = \"text-align: right;\">11131</td><td style = \"text-align: right;\">11131</td><td style = \"text-align: right;\">11131</td><td style = \"text-align: right;\">11131</td><td style = \"text-align: right;\">11131</td><td style = \"text-align: right;\">11131</td><td style = \"text-align: right;\">11131</td><td style = \"text-align: right;\">11131</td><td style = \"text-align: right;\">8755</td><td style = \"text-align: right;\">8755</td><td style = \"text-align: right;\">8755</td><td style = \"text-align: right;\">10307</td><td style = \"text-align: right;\">10307</td><td style = \"text-align: right;\">10307</td><td style = \"text-align: right;\">10307</td><td style = \"text-align: right;\">5919</td><td style = \"text-align: right;\">5919</td><td style = \"text-align: right;\">6287</td><td style = \"text-align: right;\">0</td><td style = \"text-align: right;\">0</td><td style = \"text-align: right;\">11131</td><td style = \"text-align: right;\">11131</td><td style = \"text-align: right;\">11131</td><td style = \"text-align: right;\">5919</td><td style = \"text-align: right;\">11131</td><td style = \"text-align: right;\">5919</td><td style = \"text-align: right;\">6287</td><td style = \"text-align: right;\">0</td><td style = \"text-align: right;\">11131</td><td style = \"text-align: right;\">5919</td><td style = \"text-align: right;\">6287</td><td style = \"text-align: right;\">0</td><td style = \"text-align: right;\">11131</td><td style = \"text-align: right;\">5919</td><td style = \"text-align: right;\">11131</td><td style = \"text-align: right;\">5919</td><td style = \"text-align: right;\">11131</td><td style = \"text-align: right;\">5773</td><td style = \"text-align: right;\">6185</td><td style = \"text-align: right;\">8035</td><td style = \"text-align: right;\">7976</td><td style = \"text-align: right;\">6287</td><td style = \"text-align: right;\">0</td><td style = \"text-align: right;\">5468</td><td style = \"text-align: right;\">4052</td><td style = \"text-align: right;\">11131</td><td style = \"text-align: right;\">8755</td><td style = \"text-align: right;\">10307</td><td style = \"text-align: right;\">5773</td><td style = \"text-align: right;\">6185</td><td style = \"text-align: right;\">5919</td><td style = \"text-align: right;\">0</td><td style = \"text-align: right;\">11131</td><td style = \"text-align: right;\">&ctdot;</td></tr><tr><td class = \"rowNumber\" style = \"font-weight: bold; text-align: right;\">132</td><td style = \"text-align: right;\">6729</td><td style = \"text-align: right;\">6813</td><td style = \"text-align: right;\">5676</td><td style = \"text-align: right;\">5676</td><td style = \"text-align: right;\">5676</td><td style = \"text-align: right;\">5676</td><td style = \"text-align: right;\">4762</td><td style = \"text-align: right;\">4762</td><td style = \"text-align: right;\">4762</td><td style = \"text-align: right;\">4762</td><td style = \"text-align: right;\">6450</td><td style = \"text-align: right;\">6450</td><td style = \"text-align: right;\">7301</td><td style = \"text-align: right;\">7301</td><td style = \"text-align: right;\">5488</td><td style = \"text-align: right;\">5488</td><td style = \"text-align: right;\">5488</td><td style = \"text-align: right;\">5488</td><td style = \"text-align: right;\">5488</td><td style = \"text-align: right;\">5488</td><td style = \"text-align: right;\">5488</td><td style = \"text-align: right;\">5488</td><td style = \"text-align: right;\">5488</td><td style = \"text-align: right;\">5488</td><td style = \"text-align: right;\">5488</td><td style = \"text-align: right;\">5352</td><td style = \"text-align: right;\">5352</td><td style = \"text-align: right;\">5352</td><td style = \"text-align: right;\">5352</td><td style = \"text-align: right;\">5352</td><td style = \"text-align: right;\">5352</td><td style = \"text-align: right;\">11693</td><td style = \"text-align: right;\">11693</td><td style = \"text-align: right;\">11693</td><td style = \"text-align: right;\">11693</td><td style = \"text-align: right;\">11693</td><td style = \"text-align: right;\">11693</td><td style = \"text-align: right;\">11693</td><td style = \"text-align: right;\">11693</td><td style = \"text-align: right;\">9683</td><td style = \"text-align: right;\">9683</td><td style = \"text-align: right;\">12359</td><td style = \"text-align: right;\">12359</td><td style = \"text-align: right;\">12359</td><td style = \"text-align: right;\">0</td><td style = \"text-align: right;\">0</td><td style = \"text-align: right;\">0</td><td style = \"text-align: right;\">0</td><td style = \"text-align: right;\">0</td><td style = \"text-align: right;\">0</td><td style = \"text-align: right;\">0</td><td style = \"text-align: right;\">0</td><td style = \"text-align: right;\">0</td><td style = \"text-align: right;\">0</td><td style = \"text-align: right;\">0</td><td style = \"text-align: right;\">12143</td><td style = \"text-align: right;\">12143</td><td style = \"text-align: right;\">12143</td><td style = \"text-align: right;\">4807</td><td style = \"text-align: right;\">4807</td><td style = \"text-align: right;\">4807</td><td style = \"text-align: right;\">4807</td><td style = \"text-align: right;\">5488</td><td style = \"text-align: right;\">5488</td><td style = \"text-align: right;\">5352</td><td style = \"text-align: right;\">11693</td><td style = \"text-align: right;\">11693</td><td style = \"text-align: right;\">0</td><td style = \"text-align: right;\">0</td><td style = \"text-align: right;\">0</td><td style = \"text-align: right;\">5488</td><td style = \"text-align: right;\">0</td><td style = \"text-align: right;\">5488</td><td style = \"text-align: right;\">5352</td><td style = \"text-align: right;\">11693</td><td style = \"text-align: right;\">0</td><td style = \"text-align: right;\">5488</td><td style = \"text-align: right;\">5352</td><td style = \"text-align: right;\">11693</td><td style = \"text-align: right;\">0</td><td style = \"text-align: right;\">5488</td><td style = \"text-align: right;\">0</td><td style = \"text-align: right;\">5488</td><td style = \"text-align: right;\">0</td><td style = \"text-align: right;\">5676</td><td style = \"text-align: right;\">4762</td><td style = \"text-align: right;\">6450</td><td style = \"text-align: right;\">7301</td><td style = \"text-align: right;\">5352</td><td style = \"text-align: right;\">11693</td><td style = \"text-align: right;\">9683</td><td style = \"text-align: right;\">12359</td><td style = \"text-align: right;\">0</td><td style = \"text-align: right;\">12143</td><td style = \"text-align: right;\">4807</td><td style = \"text-align: right;\">5676</td><td style = \"text-align: right;\">4762</td><td style = \"text-align: right;\">5488</td><td style = \"text-align: right;\">11693</td><td style = \"text-align: right;\">0</td><td style = \"text-align: right;\">&ctdot;</td></tr><tr><td class = \"rowNumber\" style = \"font-weight: bold; text-align: right;\">133</td><td style = \"text-align: right;\">16708</td><td style = \"text-align: right;\">4612</td><td style = \"text-align: right;\">5773</td><td style = \"text-align: right;\">5773</td><td style = \"text-align: right;\">5773</td><td style = \"text-align: right;\">5773</td><td style = \"text-align: right;\">6185</td><td style = \"text-align: right;\">6185</td><td style = \"text-align: right;\">6185</td><td style = \"text-align: right;\">6185</td><td style = \"text-align: right;\">8035</td><td style = \"text-align: right;\">8035</td><td style = \"text-align: right;\">7976</td><td style = \"text-align: right;\">7976</td><td style = \"text-align: right;\">5919</td><td style = \"text-align: right;\">5919</td><td style = \"text-align: right;\">5919</td><td style = \"text-align: right;\">5919</td><td style = \"text-align: right;\">5919</td><td style = \"text-align: right;\">5919</td><td style = \"text-align: right;\">5919</td><td style = \"text-align: right;\">5919</td><td style = \"text-align: right;\">5919</td><td style = \"text-align: right;\">5919</td><td style = \"text-align: right;\">5919</td><td style = \"text-align: right;\">6287</td><td style = \"text-align: right;\">6287</td><td style = \"text-align: right;\">6287</td><td style = \"text-align: right;\">6287</td><td style = \"text-align: right;\">6287</td><td style = \"text-align: right;\">6287</td><td style = \"text-align: right;\">0</td><td style = \"text-align: right;\">0</td><td style = \"text-align: right;\">0</td><td style = \"text-align: right;\">0</td><td style = \"text-align: right;\">0</td><td style = \"text-align: right;\">0</td><td style = \"text-align: right;\">0</td><td style = \"text-align: right;\">0</td><td style = \"text-align: right;\">5468</td><td style = \"text-align: right;\">5468</td><td style = \"text-align: right;\">4052</td><td style = \"text-align: right;\">4052</td><td style = \"text-align: right;\">4052</td><td style = \"text-align: right;\">11131</td><td style = \"text-align: right;\">11131</td><td style = \"text-align: right;\">11131</td><td style = \"text-align: right;\">11131</td><td style = \"text-align: right;\">11131</td><td style = \"text-align: right;\">11131</td><td style = \"text-align: right;\">11131</td><td style = \"text-align: right;\">11131</td><td style = \"text-align: right;\">11131</td><td style = \"text-align: right;\">11131</td><td style = \"text-align: right;\">11131</td><td style = \"text-align: right;\">8755</td><td style = \"text-align: right;\">8755</td><td style = \"text-align: right;\">8755</td><td style = \"text-align: right;\">10307</td><td style = \"text-align: right;\">10307</td><td style = \"text-align: right;\">10307</td><td style = \"text-align: right;\">10307</td><td style = \"text-align: right;\">5919</td><td style = \"text-align: right;\">5919</td><td style = \"text-align: right;\">6287</td><td style = \"text-align: right;\">0</td><td style = \"text-align: right;\">0</td><td style = \"text-align: right;\">11131</td><td style = \"text-align: right;\">11131</td><td style = \"text-align: right;\">11131</td><td style = \"text-align: right;\">5919</td><td style = \"text-align: right;\">11131</td><td style = \"text-align: right;\">5919</td><td style = \"text-align: right;\">6287</td><td style = \"text-align: right;\">0</td><td style = \"text-align: right;\">11131</td><td style = \"text-align: right;\">5919</td><td style = \"text-align: right;\">6287</td><td style = \"text-align: right;\">0</td><td style = \"text-align: right;\">11131</td><td style = \"text-align: right;\">5919</td><td style = \"text-align: right;\">11131</td><td style = \"text-align: right;\">5919</td><td style = \"text-align: right;\">11131</td><td style = \"text-align: right;\">5773</td><td style = \"text-align: right;\">6185</td><td style = \"text-align: right;\">8035</td><td style = \"text-align: right;\">7976</td><td style = \"text-align: right;\">6287</td><td style = \"text-align: right;\">0</td><td style = \"text-align: right;\">5468</td><td style = \"text-align: right;\">4052</td><td style = \"text-align: right;\">11131</td><td style = \"text-align: right;\">8755</td><td style = \"text-align: right;\">10307</td><td style = \"text-align: right;\">5773</td><td style = \"text-align: right;\">6185</td><td style = \"text-align: right;\">5919</td><td style = \"text-align: right;\">0</td><td style = \"text-align: right;\">11131</td><td style = \"text-align: right;\">&ctdot;</td></tr><tr><td class = \"rowNumber\" style = \"font-weight: bold; text-align: right;\">134</td><td style = \"text-align: right;\">6729</td><td style = \"text-align: right;\">6813</td><td style = \"text-align: right;\">5676</td><td style = \"text-align: right;\">5676</td><td style = \"text-align: right;\">5676</td><td style = \"text-align: right;\">5676</td><td style = \"text-align: right;\">4762</td><td style = \"text-align: right;\">4762</td><td style = \"text-align: right;\">4762</td><td style = \"text-align: right;\">4762</td><td style = \"text-align: right;\">6450</td><td style = \"text-align: right;\">6450</td><td style = \"text-align: right;\">7301</td><td style = \"text-align: right;\">7301</td><td style = \"text-align: right;\">5488</td><td style = \"text-align: right;\">5488</td><td style = \"text-align: right;\">5488</td><td style = \"text-align: right;\">5488</td><td style = \"text-align: right;\">5488</td><td style = \"text-align: right;\">5488</td><td style = \"text-align: right;\">5488</td><td style = \"text-align: right;\">5488</td><td style = \"text-align: right;\">5488</td><td style = \"text-align: right;\">5488</td><td style = \"text-align: right;\">5488</td><td style = \"text-align: right;\">5352</td><td style = \"text-align: right;\">5352</td><td style = \"text-align: right;\">5352</td><td style = \"text-align: right;\">5352</td><td style = \"text-align: right;\">5352</td><td style = \"text-align: right;\">5352</td><td style = \"text-align: right;\">11693</td><td style = \"text-align: right;\">11693</td><td style = \"text-align: right;\">11693</td><td style = \"text-align: right;\">11693</td><td style = \"text-align: right;\">11693</td><td style = \"text-align: right;\">11693</td><td style = \"text-align: right;\">11693</td><td style = \"text-align: right;\">11693</td><td style = \"text-align: right;\">9683</td><td style = \"text-align: right;\">9683</td><td style = \"text-align: right;\">12359</td><td style = \"text-align: right;\">12359</td><td style = \"text-align: right;\">12359</td><td style = \"text-align: right;\">0</td><td style = \"text-align: right;\">0</td><td style = \"text-align: right;\">0</td><td style = \"text-align: right;\">0</td><td style = \"text-align: right;\">0</td><td style = \"text-align: right;\">0</td><td style = \"text-align: right;\">0</td><td style = \"text-align: right;\">0</td><td style = \"text-align: right;\">0</td><td style = \"text-align: right;\">0</td><td style = \"text-align: right;\">0</td><td style = \"text-align: right;\">12143</td><td style = \"text-align: right;\">12143</td><td style = \"text-align: right;\">12143</td><td style = \"text-align: right;\">4807</td><td style = \"text-align: right;\">4807</td><td style = \"text-align: right;\">4807</td><td style = \"text-align: right;\">4807</td><td style = \"text-align: right;\">5488</td><td style = \"text-align: right;\">5488</td><td style = \"text-align: right;\">5352</td><td style = \"text-align: right;\">11693</td><td style = \"text-align: right;\">11693</td><td style = \"text-align: right;\">0</td><td style = \"text-align: right;\">0</td><td style = \"text-align: right;\">0</td><td style = \"text-align: right;\">5488</td><td style = \"text-align: right;\">0</td><td style = \"text-align: right;\">5488</td><td style = \"text-align: right;\">5352</td><td style = \"text-align: right;\">11693</td><td style = \"text-align: right;\">0</td><td style = \"text-align: right;\">5488</td><td style = \"text-align: right;\">5352</td><td style = \"text-align: right;\">11693</td><td style = \"text-align: right;\">0</td><td style = \"text-align: right;\">5488</td><td style = \"text-align: right;\">0</td><td style = \"text-align: right;\">5488</td><td style = \"text-align: right;\">0</td><td style = \"text-align: right;\">5676</td><td style = \"text-align: right;\">4762</td><td style = \"text-align: right;\">6450</td><td style = \"text-align: right;\">7301</td><td style = \"text-align: right;\">5352</td><td style = \"text-align: right;\">11693</td><td style = \"text-align: right;\">9683</td><td style = \"text-align: right;\">12359</td><td style = \"text-align: right;\">0</td><td style = \"text-align: right;\">12143</td><td style = \"text-align: right;\">4807</td><td style = \"text-align: right;\">5676</td><td style = \"text-align: right;\">4762</td><td style = \"text-align: right;\">5488</td><td style = \"text-align: right;\">11693</td><td style = \"text-align: right;\">0</td><td style = \"text-align: right;\">&ctdot;</td></tr><tr><td class = \"rowNumber\" style = \"font-weight: bold; text-align: right;\">135</td><td style = \"text-align: right;\">6729</td><td style = \"text-align: right;\">6813</td><td style = \"text-align: right;\">5676</td><td style = \"text-align: right;\">5676</td><td style = \"text-align: right;\">5676</td><td style = \"text-align: right;\">5676</td><td style = \"text-align: right;\">4762</td><td style = \"text-align: right;\">4762</td><td style = \"text-align: right;\">4762</td><td style = \"text-align: right;\">4762</td><td style = \"text-align: right;\">6450</td><td style = \"text-align: right;\">6450</td><td style = \"text-align: right;\">7301</td><td style = \"text-align: right;\">7301</td><td style = \"text-align: right;\">5488</td><td style = \"text-align: right;\">5488</td><td style = \"text-align: right;\">5488</td><td style = \"text-align: right;\">5488</td><td style = \"text-align: right;\">5488</td><td style = \"text-align: right;\">5488</td><td style = \"text-align: right;\">5488</td><td style = \"text-align: right;\">5488</td><td style = \"text-align: right;\">5488</td><td style = \"text-align: right;\">5488</td><td style = \"text-align: right;\">5488</td><td style = \"text-align: right;\">5352</td><td style = \"text-align: right;\">5352</td><td style = \"text-align: right;\">5352</td><td style = \"text-align: right;\">5352</td><td style = \"text-align: right;\">5352</td><td style = \"text-align: right;\">5352</td><td style = \"text-align: right;\">11693</td><td style = \"text-align: right;\">11693</td><td style = \"text-align: right;\">11693</td><td style = \"text-align: right;\">11693</td><td style = \"text-align: right;\">11693</td><td style = \"text-align: right;\">11693</td><td style = \"text-align: right;\">11693</td><td style = \"text-align: right;\">11693</td><td style = \"text-align: right;\">9683</td><td style = \"text-align: right;\">9683</td><td style = \"text-align: right;\">12359</td><td style = \"text-align: right;\">12359</td><td style = \"text-align: right;\">12359</td><td style = \"text-align: right;\">0</td><td style = \"text-align: right;\">0</td><td style = \"text-align: right;\">0</td><td style = \"text-align: right;\">0</td><td style = \"text-align: right;\">0</td><td style = \"text-align: right;\">0</td><td style = \"text-align: right;\">0</td><td style = \"text-align: right;\">0</td><td style = \"text-align: right;\">0</td><td style = \"text-align: right;\">0</td><td style = \"text-align: right;\">0</td><td style = \"text-align: right;\">12143</td><td style = \"text-align: right;\">12143</td><td style = \"text-align: right;\">12143</td><td style = \"text-align: right;\">4807</td><td style = \"text-align: right;\">4807</td><td style = \"text-align: right;\">4807</td><td style = \"text-align: right;\">4807</td><td style = \"text-align: right;\">5488</td><td style = \"text-align: right;\">5488</td><td style = \"text-align: right;\">5352</td><td style = \"text-align: right;\">11693</td><td style = \"text-align: right;\">11693</td><td style = \"text-align: right;\">0</td><td style = \"text-align: right;\">0</td><td style = \"text-align: right;\">0</td><td style = \"text-align: right;\">5488</td><td style = \"text-align: right;\">0</td><td style = \"text-align: right;\">5488</td><td style = \"text-align: right;\">5352</td><td style = \"text-align: right;\">11693</td><td style = \"text-align: right;\">0</td><td style = \"text-align: right;\">5488</td><td style = \"text-align: right;\">5352</td><td style = \"text-align: right;\">11693</td><td style = \"text-align: right;\">0</td><td style = \"text-align: right;\">5488</td><td style = \"text-align: right;\">0</td><td style = \"text-align: right;\">5488</td><td style = \"text-align: right;\">0</td><td style = \"text-align: right;\">5676</td><td style = \"text-align: right;\">4762</td><td style = \"text-align: right;\">6450</td><td style = \"text-align: right;\">7301</td><td style = \"text-align: right;\">5352</td><td style = \"text-align: right;\">11693</td><td style = \"text-align: right;\">9683</td><td style = \"text-align: right;\">12359</td><td style = \"text-align: right;\">0</td><td style = \"text-align: right;\">12143</td><td style = \"text-align: right;\">4807</td><td style = \"text-align: right;\">5676</td><td style = \"text-align: right;\">4762</td><td style = \"text-align: right;\">5488</td><td style = \"text-align: right;\">11693</td><td style = \"text-align: right;\">0</td><td style = \"text-align: right;\">&ctdot;</td></tr><tr><td class = \"rowNumber\" style = \"font-weight: bold; text-align: right;\">136</td><td style = \"text-align: right;\">11253</td><td style = \"text-align: right;\">2955</td><td style = \"text-align: right;\">310</td><td style = \"text-align: right;\">310</td><td style = \"text-align: right;\">310</td><td style = \"text-align: right;\">310</td><td style = \"text-align: right;\">730</td><td style = \"text-align: right;\">730</td><td style = \"text-align: right;\">730</td><td style = \"text-align: right;\">730</td><td style = \"text-align: right;\">3951</td><td style = \"text-align: right;\">3951</td><td style = \"text-align: right;\">3994</td><td style = \"text-align: right;\">3994</td><td style = \"text-align: right;\">0</td><td style = \"text-align: right;\">0</td><td style = \"text-align: right;\">0</td><td style = \"text-align: right;\">0</td><td style = \"text-align: right;\">0</td><td style = \"text-align: right;\">0</td><td style = \"text-align: right;\">0</td><td style = \"text-align: right;\">0</td><td style = \"text-align: right;\">0</td><td style = \"text-align: right;\">0</td><td style = \"text-align: right;\">0</td><td style = \"text-align: right;\">590</td><td style = \"text-align: right;\">590</td><td style = \"text-align: right;\">590</td><td style = \"text-align: right;\">590</td><td style = \"text-align: right;\">590</td><td style = \"text-align: right;\">590</td><td style = \"text-align: right;\">6268</td><td style = \"text-align: right;\">6268</td><td style = \"text-align: right;\">6268</td><td style = \"text-align: right;\">6268</td><td style = \"text-align: right;\">6268</td><td style = \"text-align: right;\">6268</td><td style = \"text-align: right;\">6268</td><td style = \"text-align: right;\">6268</td><td style = \"text-align: right;\">3939</td><td style = \"text-align: right;\">3939</td><td style = \"text-align: right;\">6689</td><td style = \"text-align: right;\">6689</td><td style = \"text-align: right;\">6689</td><td style = \"text-align: right;\">5676</td><td style = \"text-align: right;\">5676</td><td style = \"text-align: right;\">5676</td><td style = \"text-align: right;\">5676</td><td style = \"text-align: right;\">5676</td><td style = \"text-align: right;\">5676</td><td style = \"text-align: right;\">5676</td><td style = \"text-align: right;\">5676</td><td style = \"text-align: right;\">5676</td><td style = \"text-align: right;\">5676</td><td style = \"text-align: right;\">5676</td><td style = \"text-align: right;\">4617</td><td style = \"text-align: right;\">4617</td><td style = \"text-align: right;\">4617</td><td style = \"text-align: right;\">6174</td><td style = \"text-align: right;\">6174</td><td style = \"text-align: right;\">6174</td><td style = \"text-align: right;\">6174</td><td style = \"text-align: right;\">0</td><td style = \"text-align: right;\">0</td><td style = \"text-align: right;\">590</td><td style = \"text-align: right;\">6268</td><td style = \"text-align: right;\">6268</td><td style = \"text-align: right;\">5676</td><td style = \"text-align: right;\">5676</td><td style = \"text-align: right;\">5676</td><td style = \"text-align: right;\">0</td><td style = \"text-align: right;\">5676</td><td style = \"text-align: right;\">0</td><td style = \"text-align: right;\">590</td><td style = \"text-align: right;\">6268</td><td style = \"text-align: right;\">5676</td><td style = \"text-align: right;\">0</td><td style = \"text-align: right;\">590</td><td style = \"text-align: right;\">6268</td><td style = \"text-align: right;\">5676</td><td style = \"text-align: right;\">0</td><td style = \"text-align: right;\">5676</td><td style = \"text-align: right;\">0</td><td style = \"text-align: right;\">5676</td><td style = \"text-align: right;\">310</td><td style = \"text-align: right;\">730</td><td style = \"text-align: right;\">3951</td><td style = \"text-align: right;\">3994</td><td style = \"text-align: right;\">590</td><td style = \"text-align: right;\">6268</td><td style = \"text-align: right;\">3939</td><td style = \"text-align: right;\">6689</td><td style = \"text-align: right;\">5676</td><td style = \"text-align: right;\">4617</td><td style = \"text-align: right;\">6174</td><td style = \"text-align: right;\">310</td><td style = \"text-align: right;\">730</td><td style = \"text-align: right;\">0</td><td style = \"text-align: right;\">6268</td><td style = \"text-align: right;\">5676</td><td style = \"text-align: right;\">&ctdot;</td></tr><tr><td class = \"rowNumber\" style = \"font-weight: bold; text-align: right;\">137</td><td style = \"text-align: right;\">6729</td><td style = \"text-align: right;\">6813</td><td style = \"text-align: right;\">5676</td><td style = \"text-align: right;\">5676</td><td style = \"text-align: right;\">5676</td><td style = \"text-align: right;\">5676</td><td style = \"text-align: right;\">4762</td><td style = \"text-align: right;\">4762</td><td style = \"text-align: right;\">4762</td><td style = \"text-align: right;\">4762</td><td style = \"text-align: right;\">6450</td><td style = \"text-align: right;\">6450</td><td style = \"text-align: right;\">7301</td><td style = \"text-align: right;\">7301</td><td style = \"text-align: right;\">5488</td><td style = \"text-align: right;\">5488</td><td style = \"text-align: right;\">5488</td><td style = \"text-align: right;\">5488</td><td style = \"text-align: right;\">5488</td><td style = \"text-align: right;\">5488</td><td style = \"text-align: right;\">5488</td><td style = \"text-align: right;\">5488</td><td style = \"text-align: right;\">5488</td><td style = \"text-align: right;\">5488</td><td style = \"text-align: right;\">5488</td><td style = \"text-align: right;\">5352</td><td style = \"text-align: right;\">5352</td><td style = \"text-align: right;\">5352</td><td style = \"text-align: right;\">5352</td><td style = \"text-align: right;\">5352</td><td style = \"text-align: right;\">5352</td><td style = \"text-align: right;\">11693</td><td style = \"text-align: right;\">11693</td><td style = \"text-align: right;\">11693</td><td style = \"text-align: right;\">11693</td><td style = \"text-align: right;\">11693</td><td style = \"text-align: right;\">11693</td><td style = \"text-align: right;\">11693</td><td style = \"text-align: right;\">11693</td><td style = \"text-align: right;\">9683</td><td style = \"text-align: right;\">9683</td><td style = \"text-align: right;\">12359</td><td style = \"text-align: right;\">12359</td><td style = \"text-align: right;\">12359</td><td style = \"text-align: right;\">0</td><td style = \"text-align: right;\">0</td><td style = \"text-align: right;\">0</td><td style = \"text-align: right;\">0</td><td style = \"text-align: right;\">0</td><td style = \"text-align: right;\">0</td><td style = \"text-align: right;\">0</td><td style = \"text-align: right;\">0</td><td style = \"text-align: right;\">0</td><td style = \"text-align: right;\">0</td><td style = \"text-align: right;\">0</td><td style = \"text-align: right;\">12143</td><td style = \"text-align: right;\">12143</td><td style = \"text-align: right;\">12143</td><td style = \"text-align: right;\">4807</td><td style = \"text-align: right;\">4807</td><td style = \"text-align: right;\">4807</td><td style = \"text-align: right;\">4807</td><td style = \"text-align: right;\">5488</td><td style = \"text-align: right;\">5488</td><td style = \"text-align: right;\">5352</td><td style = \"text-align: right;\">11693</td><td style = \"text-align: right;\">11693</td><td style = \"text-align: right;\">0</td><td style = \"text-align: right;\">0</td><td style = \"text-align: right;\">0</td><td style = \"text-align: right;\">5488</td><td style = \"text-align: right;\">0</td><td style = \"text-align: right;\">5488</td><td style = \"text-align: right;\">5352</td><td style = \"text-align: right;\">11693</td><td style = \"text-align: right;\">0</td><td style = \"text-align: right;\">5488</td><td style = \"text-align: right;\">5352</td><td style = \"text-align: right;\">11693</td><td style = \"text-align: right;\">0</td><td style = \"text-align: right;\">5488</td><td style = \"text-align: right;\">0</td><td style = \"text-align: right;\">5488</td><td style = \"text-align: right;\">0</td><td style = \"text-align: right;\">5676</td><td style = \"text-align: right;\">4762</td><td style = \"text-align: right;\">6450</td><td style = \"text-align: right;\">7301</td><td style = \"text-align: right;\">5352</td><td style = \"text-align: right;\">11693</td><td style = \"text-align: right;\">9683</td><td style = \"text-align: right;\">12359</td><td style = \"text-align: right;\">0</td><td style = \"text-align: right;\">12143</td><td style = \"text-align: right;\">4807</td><td style = \"text-align: right;\">5676</td><td style = \"text-align: right;\">4762</td><td style = \"text-align: right;\">5488</td><td style = \"text-align: right;\">11693</td><td style = \"text-align: right;\">0</td><td style = \"text-align: right;\">&ctdot;</td></tr><tr><td class = \"rowNumber\" style = \"font-weight: bold; text-align: right;\">138</td><td style = \"text-align: right;\">11253</td><td style = \"text-align: right;\">2955</td><td style = \"text-align: right;\">310</td><td style = \"text-align: right;\">310</td><td style = \"text-align: right;\">310</td><td style = \"text-align: right;\">310</td><td style = \"text-align: right;\">730</td><td style = \"text-align: right;\">730</td><td style = \"text-align: right;\">730</td><td style = \"text-align: right;\">730</td><td style = \"text-align: right;\">3951</td><td style = \"text-align: right;\">3951</td><td style = \"text-align: right;\">3994</td><td style = \"text-align: right;\">3994</td><td style = \"text-align: right;\">0</td><td style = \"text-align: right;\">0</td><td style = \"text-align: right;\">0</td><td style = \"text-align: right;\">0</td><td style = \"text-align: right;\">0</td><td style = \"text-align: right;\">0</td><td style = \"text-align: right;\">0</td><td style = \"text-align: right;\">0</td><td style = \"text-align: right;\">0</td><td style = \"text-align: right;\">0</td><td style = \"text-align: right;\">0</td><td style = \"text-align: right;\">590</td><td style = \"text-align: right;\">590</td><td style = \"text-align: right;\">590</td><td style = \"text-align: right;\">590</td><td style = \"text-align: right;\">590</td><td style = \"text-align: right;\">590</td><td style = \"text-align: right;\">6268</td><td style = \"text-align: right;\">6268</td><td style = \"text-align: right;\">6268</td><td style = \"text-align: right;\">6268</td><td style = \"text-align: right;\">6268</td><td style = \"text-align: right;\">6268</td><td style = \"text-align: right;\">6268</td><td style = \"text-align: right;\">6268</td><td style = \"text-align: right;\">3939</td><td style = \"text-align: right;\">3939</td><td style = \"text-align: right;\">6689</td><td style = \"text-align: right;\">6689</td><td style = \"text-align: right;\">6689</td><td style = \"text-align: right;\">5676</td><td style = \"text-align: right;\">5676</td><td style = \"text-align: right;\">5676</td><td style = \"text-align: right;\">5676</td><td style = \"text-align: right;\">5676</td><td style = \"text-align: right;\">5676</td><td style = \"text-align: right;\">5676</td><td style = \"text-align: right;\">5676</td><td style = \"text-align: right;\">5676</td><td style = \"text-align: right;\">5676</td><td style = \"text-align: right;\">5676</td><td style = \"text-align: right;\">4617</td><td style = \"text-align: right;\">4617</td><td style = \"text-align: right;\">4617</td><td style = \"text-align: right;\">6174</td><td style = \"text-align: right;\">6174</td><td style = \"text-align: right;\">6174</td><td style = \"text-align: right;\">6174</td><td style = \"text-align: right;\">0</td><td style = \"text-align: right;\">0</td><td style = \"text-align: right;\">590</td><td style = \"text-align: right;\">6268</td><td style = \"text-align: right;\">6268</td><td style = \"text-align: right;\">5676</td><td style = \"text-align: right;\">5676</td><td style = \"text-align: right;\">5676</td><td style = \"text-align: right;\">0</td><td style = \"text-align: right;\">5676</td><td style = \"text-align: right;\">0</td><td style = \"text-align: right;\">590</td><td style = \"text-align: right;\">6268</td><td style = \"text-align: right;\">5676</td><td style = \"text-align: right;\">0</td><td style = \"text-align: right;\">590</td><td style = \"text-align: right;\">6268</td><td style = \"text-align: right;\">5676</td><td style = \"text-align: right;\">0</td><td style = \"text-align: right;\">5676</td><td style = \"text-align: right;\">0</td><td style = \"text-align: right;\">5676</td><td style = \"text-align: right;\">310</td><td style = \"text-align: right;\">730</td><td style = \"text-align: right;\">3951</td><td style = \"text-align: right;\">3994</td><td style = \"text-align: right;\">590</td><td style = \"text-align: right;\">6268</td><td style = \"text-align: right;\">3939</td><td style = \"text-align: right;\">6689</td><td style = \"text-align: right;\">5676</td><td style = \"text-align: right;\">4617</td><td style = \"text-align: right;\">6174</td><td style = \"text-align: right;\">310</td><td style = \"text-align: right;\">730</td><td style = \"text-align: right;\">0</td><td style = \"text-align: right;\">6268</td><td style = \"text-align: right;\">5676</td><td style = \"text-align: right;\">&ctdot;</td></tr><tr><td class = \"rowNumber\" style = \"font-weight: bold; text-align: right;\">139</td><td style = \"text-align: right;\">11069</td><td style = \"text-align: right;\">3481</td><td style = \"text-align: right;\">534</td><td style = \"text-align: right;\">534</td><td style = \"text-align: right;\">534</td><td style = \"text-align: right;\">534</td><td style = \"text-align: right;\">546</td><td style = \"text-align: right;\">546</td><td style = \"text-align: right;\">546</td><td style = \"text-align: right;\">546</td><td style = \"text-align: right;\">4349</td><td style = \"text-align: right;\">4349</td><td style = \"text-align: right;\">4392</td><td style = \"text-align: right;\">4392</td><td style = \"text-align: right;\">590</td><td style = \"text-align: right;\">590</td><td style = \"text-align: right;\">590</td><td style = \"text-align: right;\">590</td><td style = \"text-align: right;\">590</td><td style = \"text-align: right;\">590</td><td style = \"text-align: right;\">590</td><td style = \"text-align: right;\">590</td><td style = \"text-align: right;\">590</td><td style = \"text-align: right;\">590</td><td style = \"text-align: right;\">590</td><td style = \"text-align: right;\">0</td><td style = \"text-align: right;\">0</td><td style = \"text-align: right;\">0</td><td style = \"text-align: right;\">0</td><td style = \"text-align: right;\">0</td><td style = \"text-align: right;\">0</td><td style = \"text-align: right;\">6791</td><td style = \"text-align: right;\">6791</td><td style = \"text-align: right;\">6791</td><td style = \"text-align: right;\">6791</td><td style = \"text-align: right;\">6791</td><td style = \"text-align: right;\">6791</td><td style = \"text-align: right;\">6791</td><td style = \"text-align: right;\">6791</td><td style = \"text-align: right;\">4465</td><td style = \"text-align: right;\">4465</td><td style = \"text-align: right;\">7212</td><td style = \"text-align: right;\">7212</td><td style = \"text-align: right;\">7212</td><td style = \"text-align: right;\">5492</td><td style = \"text-align: right;\">5492</td><td style = \"text-align: right;\">5492</td><td style = \"text-align: right;\">5492</td><td style = \"text-align: right;\">5492</td><td style = \"text-align: right;\">5492</td><td style = \"text-align: right;\">5492</td><td style = \"text-align: right;\">5492</td><td style = \"text-align: right;\">5492</td><td style = \"text-align: right;\">5492</td><td style = \"text-align: right;\">5492</td><td style = \"text-align: right;\">4982</td><td style = \"text-align: right;\">4982</td><td style = \"text-align: right;\">4982</td><td style = \"text-align: right;\">6572</td><td style = \"text-align: right;\">6572</td><td style = \"text-align: right;\">6572</td><td style = \"text-align: right;\">6572</td><td style = \"text-align: right;\">590</td><td style = \"text-align: right;\">590</td><td style = \"text-align: right;\">0</td><td style = \"text-align: right;\">6791</td><td style = \"text-align: right;\">6791</td><td style = \"text-align: right;\">5492</td><td style = \"text-align: right;\">5492</td><td style = \"text-align: right;\">5492</td><td style = \"text-align: right;\">590</td><td style = \"text-align: right;\">5492</td><td style = \"text-align: right;\">590</td><td style = \"text-align: right;\">0</td><td style = \"text-align: right;\">6791</td><td style = \"text-align: right;\">5492</td><td style = \"text-align: right;\">590</td><td style = \"text-align: right;\">0</td><td style = \"text-align: right;\">6791</td><td style = \"text-align: right;\">5492</td><td style = \"text-align: right;\">590</td><td style = \"text-align: right;\">5492</td><td style = \"text-align: right;\">590</td><td style = \"text-align: right;\">5492</td><td style = \"text-align: right;\">534</td><td style = \"text-align: right;\">546</td><td style = \"text-align: right;\">4349</td><td style = \"text-align: right;\">4392</td><td style = \"text-align: right;\">0</td><td style = \"text-align: right;\">6791</td><td style = \"text-align: right;\">4465</td><td style = \"text-align: right;\">7212</td><td style = \"text-align: right;\">5492</td><td style = \"text-align: right;\">4982</td><td style = \"text-align: right;\">6572</td><td style = \"text-align: right;\">534</td><td style = \"text-align: right;\">546</td><td style = \"text-align: right;\">590</td><td style = \"text-align: right;\">6791</td><td style = \"text-align: right;\">5492</td><td style = \"text-align: right;\">&ctdot;</td></tr><tr><td class = \"rowNumber\" style = \"font-weight: bold; text-align: right;\">140</td><td style = \"text-align: right;\">16708</td><td style = \"text-align: right;\">4612</td><td style = \"text-align: right;\">5773</td><td style = \"text-align: right;\">5773</td><td style = \"text-align: right;\">5773</td><td style = \"text-align: right;\">5773</td><td style = \"text-align: right;\">6185</td><td style = \"text-align: right;\">6185</td><td style = \"text-align: right;\">6185</td><td style = \"text-align: right;\">6185</td><td style = \"text-align: right;\">8035</td><td style = \"text-align: right;\">8035</td><td style = \"text-align: right;\">7976</td><td style = \"text-align: right;\">7976</td><td style = \"text-align: right;\">5919</td><td style = \"text-align: right;\">5919</td><td style = \"text-align: right;\">5919</td><td style = \"text-align: right;\">5919</td><td style = \"text-align: right;\">5919</td><td style = \"text-align: right;\">5919</td><td style = \"text-align: right;\">5919</td><td style = \"text-align: right;\">5919</td><td style = \"text-align: right;\">5919</td><td style = \"text-align: right;\">5919</td><td style = \"text-align: right;\">5919</td><td style = \"text-align: right;\">6287</td><td style = \"text-align: right;\">6287</td><td style = \"text-align: right;\">6287</td><td style = \"text-align: right;\">6287</td><td style = \"text-align: right;\">6287</td><td style = \"text-align: right;\">6287</td><td style = \"text-align: right;\">0</td><td style = \"text-align: right;\">0</td><td style = \"text-align: right;\">0</td><td style = \"text-align: right;\">0</td><td style = \"text-align: right;\">0</td><td style = \"text-align: right;\">0</td><td style = \"text-align: right;\">0</td><td style = \"text-align: right;\">0</td><td style = \"text-align: right;\">5468</td><td style = \"text-align: right;\">5468</td><td style = \"text-align: right;\">4052</td><td style = \"text-align: right;\">4052</td><td style = \"text-align: right;\">4052</td><td style = \"text-align: right;\">11131</td><td style = \"text-align: right;\">11131</td><td style = \"text-align: right;\">11131</td><td style = \"text-align: right;\">11131</td><td style = \"text-align: right;\">11131</td><td style = \"text-align: right;\">11131</td><td style = \"text-align: right;\">11131</td><td style = \"text-align: right;\">11131</td><td style = \"text-align: right;\">11131</td><td style = \"text-align: right;\">11131</td><td style = \"text-align: right;\">11131</td><td style = \"text-align: right;\">8755</td><td style = \"text-align: right;\">8755</td><td style = \"text-align: right;\">8755</td><td style = \"text-align: right;\">10307</td><td style = \"text-align: right;\">10307</td><td style = \"text-align: right;\">10307</td><td style = \"text-align: right;\">10307</td><td style = \"text-align: right;\">5919</td><td style = \"text-align: right;\">5919</td><td style = \"text-align: right;\">6287</td><td style = \"text-align: right;\">0</td><td style = \"text-align: right;\">0</td><td style = \"text-align: right;\">11131</td><td style = \"text-align: right;\">11131</td><td style = \"text-align: right;\">11131</td><td style = \"text-align: right;\">5919</td><td style = \"text-align: right;\">11131</td><td style = \"text-align: right;\">5919</td><td style = \"text-align: right;\">6287</td><td style = \"text-align: right;\">0</td><td style = \"text-align: right;\">11131</td><td style = \"text-align: right;\">5919</td><td style = \"text-align: right;\">6287</td><td style = \"text-align: right;\">0</td><td style = \"text-align: right;\">11131</td><td style = \"text-align: right;\">5919</td><td style = \"text-align: right;\">11131</td><td style = \"text-align: right;\">5919</td><td style = \"text-align: right;\">11131</td><td style = \"text-align: right;\">5773</td><td style = \"text-align: right;\">6185</td><td style = \"text-align: right;\">8035</td><td style = \"text-align: right;\">7976</td><td style = \"text-align: right;\">6287</td><td style = \"text-align: right;\">0</td><td style = \"text-align: right;\">5468</td><td style = \"text-align: right;\">4052</td><td style = \"text-align: right;\">11131</td><td style = \"text-align: right;\">8755</td><td style = \"text-align: right;\">10307</td><td style = \"text-align: right;\">5773</td><td style = \"text-align: right;\">6185</td><td style = \"text-align: right;\">5919</td><td style = \"text-align: right;\">0</td><td style = \"text-align: right;\">11131</td><td style = \"text-align: right;\">&ctdot;</td></tr><tr><td class = \"rowNumber\" style = \"font-weight: bold; text-align: right;\">141</td><td style = \"text-align: right;\">6729</td><td style = \"text-align: right;\">6813</td><td style = \"text-align: right;\">5676</td><td style = \"text-align: right;\">5676</td><td style = \"text-align: right;\">5676</td><td style = \"text-align: right;\">5676</td><td style = \"text-align: right;\">4762</td><td style = \"text-align: right;\">4762</td><td style = \"text-align: right;\">4762</td><td style = \"text-align: right;\">4762</td><td style = \"text-align: right;\">6450</td><td style = \"text-align: right;\">6450</td><td style = \"text-align: right;\">7301</td><td style = \"text-align: right;\">7301</td><td style = \"text-align: right;\">5488</td><td style = \"text-align: right;\">5488</td><td style = \"text-align: right;\">5488</td><td style = \"text-align: right;\">5488</td><td style = \"text-align: right;\">5488</td><td style = \"text-align: right;\">5488</td><td style = \"text-align: right;\">5488</td><td style = \"text-align: right;\">5488</td><td style = \"text-align: right;\">5488</td><td style = \"text-align: right;\">5488</td><td style = \"text-align: right;\">5488</td><td style = \"text-align: right;\">5352</td><td style = \"text-align: right;\">5352</td><td style = \"text-align: right;\">5352</td><td style = \"text-align: right;\">5352</td><td style = \"text-align: right;\">5352</td><td style = \"text-align: right;\">5352</td><td style = \"text-align: right;\">11693</td><td style = \"text-align: right;\">11693</td><td style = \"text-align: right;\">11693</td><td style = \"text-align: right;\">11693</td><td style = \"text-align: right;\">11693</td><td style = \"text-align: right;\">11693</td><td style = \"text-align: right;\">11693</td><td style = \"text-align: right;\">11693</td><td style = \"text-align: right;\">9683</td><td style = \"text-align: right;\">9683</td><td style = \"text-align: right;\">12359</td><td style = \"text-align: right;\">12359</td><td style = \"text-align: right;\">12359</td><td style = \"text-align: right;\">0</td><td style = \"text-align: right;\">0</td><td style = \"text-align: right;\">0</td><td style = \"text-align: right;\">0</td><td style = \"text-align: right;\">0</td><td style = \"text-align: right;\">0</td><td style = \"text-align: right;\">0</td><td style = \"text-align: right;\">0</td><td style = \"text-align: right;\">0</td><td style = \"text-align: right;\">0</td><td style = \"text-align: right;\">0</td><td style = \"text-align: right;\">12143</td><td style = \"text-align: right;\">12143</td><td style = \"text-align: right;\">12143</td><td style = \"text-align: right;\">4807</td><td style = \"text-align: right;\">4807</td><td style = \"text-align: right;\">4807</td><td style = \"text-align: right;\">4807</td><td style = \"text-align: right;\">5488</td><td style = \"text-align: right;\">5488</td><td style = \"text-align: right;\">5352</td><td style = \"text-align: right;\">11693</td><td style = \"text-align: right;\">11693</td><td style = \"text-align: right;\">0</td><td style = \"text-align: right;\">0</td><td style = \"text-align: right;\">0</td><td style = \"text-align: right;\">5488</td><td style = \"text-align: right;\">0</td><td style = \"text-align: right;\">5488</td><td style = \"text-align: right;\">5352</td><td style = \"text-align: right;\">11693</td><td style = \"text-align: right;\">0</td><td style = \"text-align: right;\">5488</td><td style = \"text-align: right;\">5352</td><td style = \"text-align: right;\">11693</td><td style = \"text-align: right;\">0</td><td style = \"text-align: right;\">5488</td><td style = \"text-align: right;\">0</td><td style = \"text-align: right;\">5488</td><td style = \"text-align: right;\">0</td><td style = \"text-align: right;\">5676</td><td style = \"text-align: right;\">4762</td><td style = \"text-align: right;\">6450</td><td style = \"text-align: right;\">7301</td><td style = \"text-align: right;\">5352</td><td style = \"text-align: right;\">11693</td><td style = \"text-align: right;\">9683</td><td style = \"text-align: right;\">12359</td><td style = \"text-align: right;\">0</td><td style = \"text-align: right;\">12143</td><td style = \"text-align: right;\">4807</td><td style = \"text-align: right;\">5676</td><td style = \"text-align: right;\">4762</td><td style = \"text-align: right;\">5488</td><td style = \"text-align: right;\">11693</td><td style = \"text-align: right;\">0</td><td style = \"text-align: right;\">&ctdot;</td></tr><tr><td class = \"rowNumber\" style = \"font-weight: bold; text-align: right;\">142</td><td style = \"text-align: right;\">11253</td><td style = \"text-align: right;\">2955</td><td style = \"text-align: right;\">310</td><td style = \"text-align: right;\">310</td><td style = \"text-align: right;\">310</td><td style = \"text-align: right;\">310</td><td style = \"text-align: right;\">730</td><td style = \"text-align: right;\">730</td><td style = \"text-align: right;\">730</td><td style = \"text-align: right;\">730</td><td style = \"text-align: right;\">3951</td><td style = \"text-align: right;\">3951</td><td style = \"text-align: right;\">3994</td><td style = \"text-align: right;\">3994</td><td style = \"text-align: right;\">0</td><td style = \"text-align: right;\">0</td><td style = \"text-align: right;\">0</td><td style = \"text-align: right;\">0</td><td style = \"text-align: right;\">0</td><td style = \"text-align: right;\">0</td><td style = \"text-align: right;\">0</td><td style = \"text-align: right;\">0</td><td style = \"text-align: right;\">0</td><td style = \"text-align: right;\">0</td><td style = \"text-align: right;\">0</td><td style = \"text-align: right;\">590</td><td style = \"text-align: right;\">590</td><td style = \"text-align: right;\">590</td><td style = \"text-align: right;\">590</td><td style = \"text-align: right;\">590</td><td style = \"text-align: right;\">590</td><td style = \"text-align: right;\">6268</td><td style = \"text-align: right;\">6268</td><td style = \"text-align: right;\">6268</td><td style = \"text-align: right;\">6268</td><td style = \"text-align: right;\">6268</td><td style = \"text-align: right;\">6268</td><td style = \"text-align: right;\">6268</td><td style = \"text-align: right;\">6268</td><td style = \"text-align: right;\">3939</td><td style = \"text-align: right;\">3939</td><td style = \"text-align: right;\">6689</td><td style = \"text-align: right;\">6689</td><td style = \"text-align: right;\">6689</td><td style = \"text-align: right;\">5676</td><td style = \"text-align: right;\">5676</td><td style = \"text-align: right;\">5676</td><td style = \"text-align: right;\">5676</td><td style = \"text-align: right;\">5676</td><td style = \"text-align: right;\">5676</td><td style = \"text-align: right;\">5676</td><td style = \"text-align: right;\">5676</td><td style = \"text-align: right;\">5676</td><td style = \"text-align: right;\">5676</td><td style = \"text-align: right;\">5676</td><td style = \"text-align: right;\">4617</td><td style = \"text-align: right;\">4617</td><td style = \"text-align: right;\">4617</td><td style = \"text-align: right;\">6174</td><td style = \"text-align: right;\">6174</td><td style = \"text-align: right;\">6174</td><td style = \"text-align: right;\">6174</td><td style = \"text-align: right;\">0</td><td style = \"text-align: right;\">0</td><td style = \"text-align: right;\">590</td><td style = \"text-align: right;\">6268</td><td style = \"text-align: right;\">6268</td><td style = \"text-align: right;\">5676</td><td style = \"text-align: right;\">5676</td><td style = \"text-align: right;\">5676</td><td style = \"text-align: right;\">0</td><td style = \"text-align: right;\">5676</td><td style = \"text-align: right;\">0</td><td style = \"text-align: right;\">590</td><td style = \"text-align: right;\">6268</td><td style = \"text-align: right;\">5676</td><td style = \"text-align: right;\">0</td><td style = \"text-align: right;\">590</td><td style = \"text-align: right;\">6268</td><td style = \"text-align: right;\">5676</td><td style = \"text-align: right;\">0</td><td style = \"text-align: right;\">5676</td><td style = \"text-align: right;\">0</td><td style = \"text-align: right;\">5676</td><td style = \"text-align: right;\">310</td><td style = \"text-align: right;\">730</td><td style = \"text-align: right;\">3951</td><td style = \"text-align: right;\">3994</td><td style = \"text-align: right;\">590</td><td style = \"text-align: right;\">6268</td><td style = \"text-align: right;\">3939</td><td style = \"text-align: right;\">6689</td><td style = \"text-align: right;\">5676</td><td style = \"text-align: right;\">4617</td><td style = \"text-align: right;\">6174</td><td style = \"text-align: right;\">310</td><td style = \"text-align: right;\">730</td><td style = \"text-align: right;\">0</td><td style = \"text-align: right;\">6268</td><td style = \"text-align: right;\">5676</td><td style = \"text-align: right;\">&ctdot;</td></tr></tbody></table></div>"
      ],
      "text/latex": [
       "\\begin{tabular}{r|ccccccccc}\n",
       "\t& Depot 1 & Depot 2 & Patient 1 & Patient 2 & Patient 3 & Patient 4 & Patient 5 & Patient 6 & \\\\\n",
       "\t\\hline\n",
       "\t& Int64 & Int64 & Int64 & Int64 & Int64 & Int64 & Int64 & Int64 & \\\\\n",
       "\t\\hline\n",
       "\t1 & 0 & 12165 & 8451 & 8451 & 8451 & 8451 & 7537 & 7537 & $\\dots$ \\\\\n",
       "\t2 & 13531 & 0 & 2738 & 2738 & 2738 & 2738 & 3158 & 3158 & $\\dots$ \\\\\n",
       "\t3 & 10963 & 3200 & 0 & 0 & 0 & 0 & 440 & 440 & $\\dots$ \\\\\n",
       "\t4 & 10963 & 3200 & 0 & 0 & 0 & 0 & 440 & 440 & $\\dots$ \\\\\n",
       "\t5 & 10963 & 3200 & 0 & 0 & 0 & 0 & 440 & 440 & $\\dots$ \\\\\n",
       "\t6 & 10963 & 3200 & 0 & 0 & 0 & 0 & 440 & 440 & $\\dots$ \\\\\n",
       "\t7 & 10618 & 3628 & 447 & 447 & 447 & 447 & 0 & 0 & $\\dots$ \\\\\n",
       "\t8 & 10618 & 3628 & 447 & 447 & 447 & 447 & 0 & 0 & $\\dots$ \\\\\n",
       "\t9 & 10618 & 3628 & 447 & 447 & 447 & 447 & 0 & 0 & $\\dots$ \\\\\n",
       "\t10 & 10618 & 3628 & 447 & 447 & 447 & 447 & 0 & 0 & $\\dots$ \\\\\n",
       "\t11 & 10891 & 4501 & 4358 & 4358 & 4358 & 4358 & 4778 & 4778 & $\\dots$ \\\\\n",
       "\t12 & 10891 & 4501 & 4358 & 4358 & 4358 & 4358 & 4778 & 4778 & $\\dots$ \\\\\n",
       "\t13 & 10551 & 3892 & 3749 & 3749 & 3749 & 3749 & 4169 & 4169 & $\\dots$ \\\\\n",
       "\t14 & 10551 & 3892 & 3749 & 3749 & 3749 & 3749 & 4169 & 4169 & $\\dots$ \\\\\n",
       "\t15 & 11253 & 2955 & 310 & 310 & 310 & 310 & 730 & 730 & $\\dots$ \\\\\n",
       "\t16 & 11253 & 2955 & 310 & 310 & 310 & 310 & 730 & 730 & $\\dots$ \\\\\n",
       "\t17 & 11253 & 2955 & 310 & 310 & 310 & 310 & 730 & 730 & $\\dots$ \\\\\n",
       "\t18 & 11253 & 2955 & 310 & 310 & 310 & 310 & 730 & 730 & $\\dots$ \\\\\n",
       "\t19 & 11253 & 2955 & 310 & 310 & 310 & 310 & 730 & 730 & $\\dots$ \\\\\n",
       "\t20 & 11253 & 2955 & 310 & 310 & 310 & 310 & 730 & 730 & $\\dots$ \\\\\n",
       "\t21 & 11253 & 2955 & 310 & 310 & 310 & 310 & 730 & 730 & $\\dots$ \\\\\n",
       "\t22 & 11253 & 2955 & 310 & 310 & 310 & 310 & 730 & 730 & $\\dots$ \\\\\n",
       "\t23 & 11253 & 2955 & 310 & 310 & 310 & 310 & 730 & 730 & $\\dots$ \\\\\n",
       "\t24 & 11253 & 2955 & 310 & 310 & 310 & 310 & 730 & 730 & $\\dots$ \\\\\n",
       "\t25 & 11253 & 2955 & 310 & 310 & 310 & 310 & 730 & 730 & $\\dots$ \\\\\n",
       "\t26 & 11069 & 3481 & 534 & 534 & 534 & 534 & 546 & 546 & $\\dots$ \\\\\n",
       "\t27 & 11069 & 3481 & 534 & 534 & 534 & 534 & 546 & 546 & $\\dots$ \\\\\n",
       "\t28 & 11069 & 3481 & 534 & 534 & 534 & 534 & 546 & 546 & $\\dots$ \\\\\n",
       "\t29 & 11069 & 3481 & 534 & 534 & 534 & 534 & 546 & 546 & $\\dots$ \\\\\n",
       "\t30 & 11069 & 3481 & 534 & 534 & 534 & 534 & 546 & 546 & $\\dots$ \\\\\n",
       "\t$\\dots$ & $\\dots$ & $\\dots$ & $\\dots$ & $\\dots$ & $\\dots$ & $\\dots$ & $\\dots$ & $\\dots$ &  \\\\\n",
       "\\end{tabular}\n"
      ],
      "text/plain": [
       "\u001b[1m142×142 DataFrame\n",
       "\u001b[1m Row │\u001b[1m Depot 1 \u001b[1m Depot 2 \u001b[1m Patient 1 \u001b[1m Patient 2 \u001b[1m Patient 3 \u001b[1m Patient 4 \u001b[1m Patient 5 ⋯\n",
       "     │\u001b[90m Int64   \u001b[90m Int64   \u001b[90m Int64     \u001b[90m Int64     \u001b[90m Int64     \u001b[90m Int64     \u001b[90m Int64     ⋯\n",
       "─────┼──────────────────────────────────────────────────────────────────────────\n",
       "   1 │       0    12165       8451       8451       8451       8451       7537 ⋯\n",
       "   2 │   13531        0       2738       2738       2738       2738       3158\n",
       "   3 │   10963     3200          0          0          0          0        440\n",
       "   4 │   10963     3200          0          0          0          0        440\n",
       "   5 │   10963     3200          0          0          0          0        440 ⋯\n",
       "   6 │   10963     3200          0          0          0          0        440\n",
       "   7 │   10618     3628        447        447        447        447          0\n",
       "   8 │   10618     3628        447        447        447        447          0\n",
       "   9 │   10618     3628        447        447        447        447          0 ⋯\n",
       "  10 │   10618     3628        447        447        447        447          0\n",
       "  11 │   10891     4501       4358       4358       4358       4358       4778\n",
       "  ⋮  │    ⋮        ⋮         ⋮          ⋮          ⋮          ⋮          ⋮     ⋱\n",
       " 133 │   16708     4612       5773       5773       5773       5773       6185\n",
       " 134 │    6729     6813       5676       5676       5676       5676       4762 ⋯\n",
       " 135 │    6729     6813       5676       5676       5676       5676       4762\n",
       " 136 │   11253     2955        310        310        310        310        730\n",
       " 137 │    6729     6813       5676       5676       5676       5676       4762\n",
       " 138 │   11253     2955        310        310        310        310        730 ⋯\n",
       " 139 │   11069     3481        534        534        534        534        546\n",
       " 140 │   16708     4612       5773       5773       5773       5773       6185\n",
       " 141 │    6729     6813       5676       5676       5676       5676       4762\n",
       " 142 │   11253     2955        310        310        310        310        730 ⋯\n",
       "\u001b[36m                                                135 columns and 121 rows omitted"
      ]
     },
     "execution_count": 23,
     "metadata": {},
     "output_type": "execute_result"
    }
   ],
   "source": [
    "distance_mapping = distance_mapping[:,3:end]"
   ]
  },
  {
   "cell_type": "code",
   "execution_count": 24,
   "id": "e4cea517",
   "metadata": {},
   "outputs": [
    {
     "data": {
      "text/html": [
       "<div><div style = \"float: left;\"><span>10×1 DataFrame</span></div><div style = \"clear: both;\"></div></div><div class = \"data-frame\" style = \"overflow-x: scroll;\"><table class = \"data-frame\" style = \"margin-bottom: 6px;\"><thead><tr class = \"header\"><th class = \"rowNumber\" style = \"font-weight: bold; text-align: right;\">Row</th><th style = \"text-align: left;\">type</th></tr><tr class = \"subheader headerLastRow\"><th class = \"rowNumber\" style = \"font-weight: bold; text-align: right;\"></th><th title = \"Int64\" style = \"text-align: left;\">Int64</th></tr></thead><tbody><tr><td class = \"rowNumber\" style = \"font-weight: bold; text-align: right;\">1</td><td style = \"text-align: right;\">1</td></tr><tr><td class = \"rowNumber\" style = \"font-weight: bold; text-align: right;\">2</td><td style = \"text-align: right;\">1</td></tr><tr><td class = \"rowNumber\" style = \"font-weight: bold; text-align: right;\">3</td><td style = \"text-align: right;\">2</td></tr><tr><td class = \"rowNumber\" style = \"font-weight: bold; text-align: right;\">4</td><td style = \"text-align: right;\">1</td></tr><tr><td class = \"rowNumber\" style = \"font-weight: bold; text-align: right;\">5</td><td style = \"text-align: right;\">2</td></tr><tr><td class = \"rowNumber\" style = \"font-weight: bold; text-align: right;\">6</td><td style = \"text-align: right;\">1</td></tr><tr><td class = \"rowNumber\" style = \"font-weight: bold; text-align: right;\">7</td><td style = \"text-align: right;\">2</td></tr><tr><td class = \"rowNumber\" style = \"font-weight: bold; text-align: right;\">8</td><td style = \"text-align: right;\">1</td></tr><tr><td class = \"rowNumber\" style = \"font-weight: bold; text-align: right;\">9</td><td style = \"text-align: right;\">1</td></tr><tr><td class = \"rowNumber\" style = \"font-weight: bold; text-align: right;\">10</td><td style = \"text-align: right;\">1</td></tr></tbody></table></div>"
      ],
      "text/latex": [
       "\\begin{tabular}{r|c}\n",
       "\t& type\\\\\n",
       "\t\\hline\n",
       "\t& Int64\\\\\n",
       "\t\\hline\n",
       "\t1 & 1 \\\\\n",
       "\t2 & 1 \\\\\n",
       "\t3 & 2 \\\\\n",
       "\t4 & 1 \\\\\n",
       "\t5 & 2 \\\\\n",
       "\t6 & 1 \\\\\n",
       "\t7 & 2 \\\\\n",
       "\t8 & 1 \\\\\n",
       "\t9 & 1 \\\\\n",
       "\t10 & 1 \\\\\n",
       "\\end{tabular}\n"
      ],
      "text/plain": [
       "\u001b[1m10×1 DataFrame\n",
       "\u001b[1m Row │\u001b[1m type\n",
       "     │\u001b[90m Int64\n",
       "─────┼───────\n",
       "   1 │     1\n",
       "   2 │     1\n",
       "   3 │     2\n",
       "   4 │     1\n",
       "   5 │     2\n",
       "   6 │     1\n",
       "   7 │     2\n",
       "   8 │     1\n",
       "   9 │     1\n",
       "  10 │     1"
      ]
     },
     "execution_count": 24,
     "metadata": {},
     "output_type": "execute_result"
    }
   ],
   "source": [
    "vehicle_type = vehicle_type[:,2:end]"
   ]
  },
  {
   "cell_type": "code",
   "execution_count": null,
   "id": "0d0a181d",
   "metadata": {},
   "outputs": [],
   "source": []
  },
  {
   "cell_type": "markdown",
   "id": "29248be4",
   "metadata": {},
   "source": [
    "### Defining Parameters"
   ]
  },
  {
   "cell_type": "code",
   "execution_count": 31,
   "id": "e495391a",
   "metadata": {},
   "outputs": [],
   "source": [
    "n_depots = 2\n",
    "n_pickup = 70\n",
    "n_destination = n_pickup\n",
    "V = n_depots + n_pickup + n_destination    # Total locations\n",
    "\n",
    "depots = [1: 1: n_depots;]\n",
    "pickups = [1+n_depots: 1: n_depots+n_pickup;]\n",
    "destinations = [1+n_depots+n_pickup: 1: n_depots+n_pickup+n_destination;];"
   ]
  },
  {
   "cell_type": "code",
   "execution_count": 32,
   "id": "743e1d4c",
   "metadata": {},
   "outputs": [
    {
     "data": {
      "text/plain": [
       "2-element Vector{Int64}:\n",
       " 1\n",
       " 2"
      ]
     },
     "execution_count": 32,
     "metadata": {},
     "output_type": "execute_result"
    }
   ],
   "source": [
    "depots"
   ]
  },
  {
   "cell_type": "code",
   "execution_count": 33,
   "id": "3d87ec7c",
   "metadata": {},
   "outputs": [
    {
     "data": {
      "text/plain": [
       "70-element Vector{Int64}:\n",
       "  3\n",
       "  4\n",
       "  5\n",
       "  6\n",
       "  7\n",
       "  8\n",
       "  9\n",
       " 10\n",
       " 11\n",
       " 12\n",
       " 13\n",
       " 14\n",
       " 15\n",
       "  ⋮\n",
       " 61\n",
       " 62\n",
       " 63\n",
       " 64\n",
       " 65\n",
       " 66\n",
       " 67\n",
       " 68\n",
       " 69\n",
       " 70\n",
       " 71\n",
       " 72"
      ]
     },
     "execution_count": 33,
     "metadata": {},
     "output_type": "execute_result"
    }
   ],
   "source": [
    "pickups"
   ]
  },
  {
   "cell_type": "code",
   "execution_count": 34,
   "id": "2b9e8108",
   "metadata": {},
   "outputs": [
    {
     "data": {
      "text/plain": [
       "70-element Vector{Int64}:\n",
       "  73\n",
       "  74\n",
       "  75\n",
       "  76\n",
       "  77\n",
       "  78\n",
       "  79\n",
       "  80\n",
       "  81\n",
       "  82\n",
       "  83\n",
       "  84\n",
       "  85\n",
       "   ⋮\n",
       " 131\n",
       " 132\n",
       " 133\n",
       " 134\n",
       " 135\n",
       " 136\n",
       " 137\n",
       " 138\n",
       " 139\n",
       " 140\n",
       " 141\n",
       " 142"
      ]
     },
     "execution_count": 34,
     "metadata": {},
     "output_type": "execute_result"
    }
   ],
   "source": [
    "destinations"
   ]
  },
  {
   "cell_type": "code",
   "execution_count": 35,
   "id": "a61e63d7",
   "metadata": {},
   "outputs": [
    {
     "data": {
      "text/plain": [
       "10"
      ]
     },
     "execution_count": 35,
     "metadata": {},
     "output_type": "execute_result"
    }
   ],
   "source": [
    "# n_vehicles_types = maximum(vehicle_type[!,1])\n",
    "K = size(vehicle_type)[1] # n_vehicles"
   ]
  },
  {
   "cell_type": "code",
   "execution_count": null,
   "id": "94a0ba7a",
   "metadata": {},
   "outputs": [],
   "source": []
  },
  {
   "cell_type": "code",
   "execution_count": 47,
   "id": "70066910",
   "metadata": {},
   "outputs": [
    {
     "data": {
      "text/plain": [
       "15"
      ]
     },
     "execution_count": 47,
     "metadata": {},
     "output_type": "execute_result"
    }
   ],
   "source": [
    "max_pickups_per_vehicle = 15"
   ]
  },
  {
   "cell_type": "code",
   "execution_count": 48,
   "id": "1e54e1fd",
   "metadata": {},
   "outputs": [
    {
     "name": "stdout",
     "output_type": "stream",
     "text": [
      "Set parameter Username\n",
      "Academic license - for non-commercial use only - expires 2023-08-18\n",
      "Gurobi Optimizer version 9.5.2 build v9.5.2rc0 (mac64[arm])\n",
      "Thread count: 8 physical cores, 8 logical processors, using up to 8 threads\n",
      "Optimize a model with 400640 rows, 204470 columns and 1591950 nonzeros\n",
      "Model fingerprint: 0xd257722a\n",
      "Variable types: 1400 continuous, 203070 integer (201650 binary)\n",
      "Coefficient statistics:\n",
      "  Matrix range     [1e+00, 1e+02]\n",
      "  Objective range  [6e-01, 2e+02]\n",
      "  Bounds range     [2e+00, 1e+02]\n",
      "  RHS range        [1e+00, 1e+02]\n",
      "Presolve removed 199610 rows and 100840 columns\n",
      "Presolve time: 1.12s\n",
      "Presolved: 201030 rows, 103630 columns, 702900 nonzeros\n",
      "Variable types: 0 continuous, 103630 integer (102230 binary)\n",
      "\n",
      "Deterministic concurrent LP optimizer: primal and dual simplex (primal and dual model)\n",
      "Showing first log only...\n",
      "\n",
      "Root relaxation presolved: 201030 rows, 103630 columns, 702900 nonzeros\n",
      "\n",
      "Concurrent spin time: 0.07s\n",
      "\n",
      "Solved with dual simplex (primal model)\n",
      "\n",
      "Root relaxation: objective 1.759800e+03, 1672 iterations, 0.82 seconds (0.98 work units)\n",
      "\n",
      "    Nodes    |    Current Node    |     Objective Bounds      |     Work\n",
      " Expl Unexpl |  Obj  Depth IntInf | Incumbent    BestBd   Gap | It/Node Time\n",
      "\n",
      "     0     0 1759.80039    0  406          - 1759.80039      -     -    4s\n",
      "H    0     0                    10004.424000 1759.80039  82.4%     -    6s\n",
      "     0     0 2043.71288    0  507 10004.4240 2043.71288  79.6%     -    9s\n",
      "     0     0 2043.71288    0  414 10004.4240 2043.71288  79.6%     -   26s\n",
      "H    0     0                    7937.2960000 2043.71288  74.3%     -   27s\n",
      "     0     0 2186.10000    0  638 7937.29600 2186.10000  72.5%     -   30s\n",
      "H    0     0                    4417.2100000 2186.10000  50.5%     -   38s\n",
      "     0     0 2186.10000    0  572 4417.21000 2186.10000  50.5%     -   38s\n",
      "     0     0 2186.10000    0  541 4417.21000 2186.10000  50.5%     -   40s\n",
      "H    0     0                    4254.3240000 2186.10000  48.6%     -   41s\n",
      "     0     0 2186.10000    0  536 4254.32400 2186.10000  48.6%     -   41s\n",
      "     0     0 2186.10000    0  404 4254.32400 2186.10000  48.6%     -   44s\n",
      "     0     0 2186.10000    0  439 4254.32400 2186.10000  48.6%     -   48s\n",
      "     0     0 2186.10000    0  359 4254.32400 2186.10000  48.6%     -   51s\n",
      "H    0     0                    4209.2240000 2186.10000  48.1%     -   52s\n",
      "     0     0 2186.10000    0  363 4209.22400 2186.10000  48.1%     -   52s\n",
      "     0     0 2186.10000    0  356 4209.22400 2186.10000  48.1%     -   54s\n",
      "     0     0 2186.10000    0  351 4209.22400 2186.10000  48.1%     -   55s\n",
      "     0     0 2186.10000    0  287 4209.22400 2186.10000  48.1%     -   57s\n",
      "H    0     0                    4201.8140000 2186.10000  48.0%     -   57s\n",
      "     0     0 2186.10000    0  378 4201.81400 2186.10000  48.0%     -   58s\n",
      "     0     0 2186.10000    0  379 4201.81400 2186.10000  48.0%     -   59s\n",
      "     0     0 2186.10000    0  381 4201.81400 2186.10000  48.0%     -   59s\n",
      "     0     0 2186.10000    0  381 4201.81400 2186.10000  48.0%     -   61s\n",
      "H    0     0                    4038.5780000 2186.10000  45.9%     -   62s\n",
      "     0     0 2186.10000    0  431 4038.57800 2186.10000  45.9%     -   62s\n",
      "     0     0 2186.10000    0  398 4038.57800 2186.10000  45.9%     -   63s\n",
      "     0     0 2186.10000    0  371 4038.57800 2186.10000  45.9%     -   77s\n",
      "H    0     0                    3884.8900000 2186.10000  43.7%     -   86s\n",
      "H    0     0                    3451.7280000 2190.91400  36.5%     -   94s\n",
      "     0     2 2190.91400    0  292 3451.72800 2190.91400  36.5%     -  114s\n",
      "     1     4 2190.91400    1  399 3451.72800 2190.91400  36.5%  4575  121s\n",
      "     3     8 2255.29000    2  394 3451.72800 2190.91400  36.5%  2220  164s\n",
      "     7    16 2255.29000    3  430 3451.72800 2242.32409  35.0%  2350  209s\n",
      "    15    22     cutoff    4      3451.72800 2242.61933  35.0%  1901  231s\n",
      "    23    30 2325.35344    4  470 3451.72800 2242.95808  35.0%  1702  246s\n",
      "H   31    36                    3318.2400000 2242.95808  32.4%  1426  274s\n",
      "    39    44 2333.01594    6  486 3318.24000 2246.39600  32.3%  1279  285s\n",
      "    47    52 2338.99124    7  484 3318.24000 2246.39600  32.3%  1159  298s\n",
      "    59    63 2454.88000    7  442 3318.24000 2246.39600  32.3%  1076  319s\n",
      "H   70    71                    3108.2640000 2246.39600  27.7%  1080  346s\n",
      "    78    85 2525.15600   10  493 3108.26400 2246.39600  27.7%  1065  359s\n",
      "    92   102 2525.15600   12  484 3108.26400 2246.39600  27.7%  1016  370s\n",
      "   109   123 2526.09600   13  511 3108.26400 2246.39600  27.7%   936  377s\n",
      "   130   149 2526.18000   16  467 3108.26400 2246.39600  27.7%   822  382s\n",
      "   156   173 2526.18000   20  465 3108.26400 2246.39600  27.7%   708  391s\n",
      "   180   198 2535.58200   24  443 3108.26400 2246.39600  27.7%   657  400s\n",
      "   205   223 2537.47000   27  419 3108.26400 2246.39600  27.7%   612  408s\n",
      "   230   251 2538.65467   31  443 3108.26400 2246.39600  27.7%   588  416s\n",
      "   258   281 2541.61400   37  422 3108.26400 2246.39600  27.7%   545  425s\n",
      "   288   308 2548.78933   44  444 3108.26400 2246.39600  27.7%   513  434s\n",
      "   315   335 2554.54600   49  410 3108.26400 2246.39600  27.7%   495  445s\n",
      "   342   361 2558.80050   53  432 3108.26400 2246.39600  27.7%   483  456s\n",
      "   368   390 2561.31400   56  429 3108.26400 2246.39600  27.7%   472  466s\n",
      "   399   435 2561.31400   64  428 3108.26400 2246.39600  27.7%   456  477s\n",
      "   444   492 2561.31400   74  439 3108.26400 2246.39600  27.7%   432  489s\n",
      "   501   558 2561.31400   86  365 3108.26400 2246.39600  27.7%   408  499s\n",
      "   567   634 2561.31400   99  377 3108.26400 2246.39600  27.7%   374  511s\n",
      "   643   711 2561.31400  114  358 3108.26400 2246.39600  27.7%   342  524s\n",
      "   720   783 2561.31400  125  371 3108.26400 2246.39600  27.7%   323  536s\n",
      "   792   874 2561.31400  131  362 3108.26400 2246.39600  27.7%   308  549s\n",
      "   883   983 2561.44200  140  327 3108.26400 2246.39600  27.7%   289  563s\n",
      "   992  1072 2561.44200  150  311 3108.26400 2246.39600  27.7%   268  577s\n",
      "  1081  1195 2561.44200  164  310 3108.26400 2246.39600  27.7%   254  592s\n",
      "  1204  1323 2561.44200  188  309 3108.26400 2246.39600  27.7%   236  607s\n",
      "  1336  1454 2561.44200  212  310 3108.26400 2246.39600  27.7%   220  622s\n",
      "  1472  1640 2561.83774  235  308 3108.26400 2246.39600  27.7%   206  637s\n",
      "  1660  1805 2561.83774  260  308 3108.26400 2246.39600  27.7%   187  652s\n",
      "  1831  2046 2562.19519  280  310 3108.26400 2246.39600  27.7%   173  662s\n",
      "  2082  2300 2562.35732  319  302 3108.26400 2246.39600  27.7%   156  672s\n",
      "  2338  2586 2564.91881  367  308 3108.26400 2246.39600  27.7%   141  684s\n",
      "H 2629  2717                    3079.3420000 2246.39600  27.0%   127  694s\n",
      "H 2686  2717                    3058.1920000 2246.39600  26.5%   125  694s\n",
      "  2760  3007 2567.44647  436  306 3058.19200 2246.39600  26.5%   122  706s\n",
      "  3054  3359 2568.12217  481  341 3058.19200 2246.39600  26.5%   113  717s\n",
      "  3439  3777 2568.17694  526  348 3058.19200 2246.39600  26.5%   103  729s\n",
      "  3882  3970 2568.18396  574  347 3058.19200 2246.39600  26.5%  93.4  735s\n",
      "H 3925  3970                    3020.5960000 2246.39600  25.6%  92.4  735s\n",
      "\n",
      "Cutting planes:\n",
      "  Learned: 9\n",
      "  Implied bound: 613\n",
      "  MIR: 273\n",
      "  StrongCG: 4\n",
      "  Zero half: 1\n",
      "  RLT: 151\n",
      "  Relax-and-lift: 546\n",
      "\n",
      "Explored 4098 nodes (448078 simplex iterations) in 735.95 seconds (1418.88 work units)\n",
      "Thread count was 8 (of 8 available processors)\n",
      "\n",
      "Solution count 10: 3020.6 3058.19 3079.34 ... 4209.22\n",
      "\n",
      "Solve interrupted\n",
      "Best objective 3.020596000000e+03, best bound 2.246396000000e+03, gap 25.6307%\n",
      "\n",
      "User-callback calls 127311, time in user-callback 0.61 sec\n"
     ]
    }
   ],
   "source": [
    "# Build model.\n",
    "model = Model(Gurobi.Optimizer)\n",
    "# set_optimizer_attribute(model, \"OutputFlag\", solver_output)\n",
    "\n",
    "\n",
    "# Insert variable.\n",
    "# We create a huge number of variables because we map multiple locations with the same index.\n",
    "@variable(model, x[i=1:V, j=1:V, k=1:K], Bin)\n",
    "@variable(model, y[k=1:K], Bin)\n",
    "@variable(model, u[i=1:V, k=1:K], Int)\n",
    "\n",
    "\n",
    "# Insert constraints.\n",
    "\n",
    "## Related with x.\n",
    "@constraint(model, [i=pickups[1]:pickups[n_pickup]], sum(sum(x[i,j,k] for j=1:V) for k=1:K) == 1)\n",
    "@constraint(model, [i=pickups[1]:pickups[n_pickup]], sum(x[i,i+n_pickup,k] for k=1:K) == 1)\n",
    "@constraint(model, [j=1:V, k=1:K], sum(x[i,j,k] for i=1:V) - sum(x[j,i,k] for i=1:V) == 0)\n",
    "@constraint(model, [k=1:K], sum(sum(x[i,j,k] for j=1:V) for i=pickups[1]:pickups[n_pickup]) <= max_pickups_per_vehicle)\n",
    "\n",
    "## Related with y.\n",
    "@constraint(model, [k=1:K], sum(x[depots[vehicle_depot_mapping[k,1]],j,k] for j=pickups[1]:pickups[n_pickup]) == y[k])\n",
    "@constraint(model, [i=1:V, j=1:V, k=1:K], x[i,j,k] <= y[k])\n",
    "\n",
    "## Related with u.\n",
    "@constraint(model, [i=depots[1]:depots[n_depots], k=1:K], u[i,k] == 1)\n",
    "@constraint(model, [i=n_depots+1:V, k=1:K], 2 <= u[i,k] <= V)\n",
    "@constraint(model, [i=n_depots+1:V, j=n_depots+1:V, k=1:K], u[i,k] - u[j,k] + 1 <= (V-1)*(1-x[i,j,k]))\n",
    "\n",
    "# Objective.\n",
    "@objective(model, Min, \n",
    "    sum(fixed_cost_vehicle_type_mapping[vehicle_type[k,1],1]*y[k] for k=1:K) +\n",
    "    sum(sum(sum(distance_cost_vehicle_type_mapping[vehicle_type[k,1],1]*distance_mapping[i,j]*x[i,j,k] for i=1:V) for j=1:V) for k=1:K)\n",
    ")\n",
    "\n",
    "\n",
    "# Optimize.\n",
    "optimize!(model)"
   ]
  },
  {
   "cell_type": "code",
   "execution_count": null,
   "id": "1c94135c",
   "metadata": {},
   "outputs": [],
   "source": []
  },
  {
   "cell_type": "code",
   "execution_count": 49,
   "id": "a50ddc4a",
   "metadata": {},
   "outputs": [
    {
     "data": {
      "text/plain": [
       "Dict{Any, Any}()"
      ]
     },
     "execution_count": 49,
     "metadata": {},
     "output_type": "execute_result"
    }
   ],
   "source": [
    "x_sol = Dict()\n",
    "u_sol = Dict()\n",
    "path_mappings = Dict()\n",
    "sequences = Dict()"
   ]
  },
  {
   "cell_type": "code",
   "execution_count": 50,
   "id": "bc2ad1e2",
   "metadata": {},
   "outputs": [],
   "source": [
    "for i=1:K\n",
    "    x_sol[i] = DataFrame(value.(x)[:,:,i], :auto);\n",
    "    u_sol[i] = value.(u)[:,i];\n",
    "    path_mappings[i] = sort(Tuple.(findall(>=(0.5), Matrix(x_sol[i]))))\n",
    "    sequences[i] = sort(DataFrame(Start=[1:1:size(u_sol[i])[1];], Sequence=u_sol[i]), :Sequence)\n",
    "end"
   ]
  },
  {
   "cell_type": "code",
   "execution_count": null,
   "id": "0cc4fdf1",
   "metadata": {},
   "outputs": [],
   "source": []
  },
  {
   "cell_type": "code",
   "execution_count": null,
   "id": "acfa2212",
   "metadata": {},
   "outputs": [],
   "source": []
  },
  {
   "cell_type": "code",
   "execution_count": null,
   "id": "b1de8135",
   "metadata": {},
   "outputs": [],
   "source": []
  },
  {
   "cell_type": "code",
   "execution_count": 60,
   "id": "f152b6bf",
   "metadata": {},
   "outputs": [],
   "source": [
    "sequence_travelled = Dict()\n",
    "\n",
    "for vehicle_num = 1:K\n",
    "    if size(path_mappings[vehicle_num])[1] == 0\n",
    "        continue\n",
    "    else\n",
    "        path = path_mappings[vehicle_num]\n",
    "        sequence = sort(sequences[vehicle_num], :Start)\n",
    "        sequence_dict = Dict(pairs(sequence.Sequence))\n",
    "#         print(sequence_dict)\n",
    "        start_nodes = path[:,1]\n",
    "        nodes = []\n",
    "        sequence = []\n",
    "        \n",
    "        for node_index = 1:size(start_nodes)[1]\n",
    "            node_num = start_nodes[node_index][1]\n",
    "            seq = sequence_dict[start_nodes[node_index][1]]\n",
    "            push!(nodes, node_num)\n",
    "            push!(sequence, seq)\n",
    "#             println(nodes)\n",
    "#             println(sequence_dict[start_nodes[node_index][1]])\n",
    "        end\n",
    "        \n",
    "        sequence_travelled[vehicle_num] = sort(DataFrame(Nodes=nodes, VistedAt=sequence), :VistedAt)[:,1]\n",
    "        \n",
    "#         nodes_travelled[vehicle_num] = nodes\n",
    "#         sequence_travelled[vehicle_num] = sequence\n",
    "    end\n",
    "end"
   ]
  },
  {
   "cell_type": "code",
   "execution_count": 66,
   "id": "8b0809df",
   "metadata": {},
   "outputs": [
    {
     "name": "stdout",
     "output_type": "stream",
     "text": [
      "Dict{Any, Any}(5 => Any[2, 56, 126, 41, 111, 76, 68, 138, 71, 141, 54, 124, 58, 128, 45, 115, 5, 75, 39, 109, 60, 130, 120, 65, 135, 93, 51, 121, 99, 33, 103, 9, 79, 66, 136, 142, 83], 4 => Any[1, 53, 123, 43, 113, 32, 102, 4, 74, 26, 96, 104, 73, 17, 87, 117, 11, 81, 136, 138, 25, 95, 125, 62, 132, 93], 7 => Any[2, 2, 22, 77, 57, 92, 44, 114, 50, 120, 31, 101, 95, 127, 61, 75, 131, 131, 34, 104, 138, 63, 133, 37, 107, 72, 142, 136, 81, 6, 76, 49, 119, 64, 134, 52, 90, 122], 2 => Any[1, 2, 28, 55, 98, 125, 24, 59, 94, 129, 18, 88, 13, 83, 19, 89, 27, 97, 10, 80], 9 => Any[1, 46, 116, 7, 77, 21, 91, 40, 110, 83, 15, 85, 3, 73, 16, 86, 8, 78, 30, 100], 3 => Any[1, 2, 35, 69, 105, 139, 12, 89, 29, 82, 70, 99, 36, 140, 106, 121, 38, 42, 108, 112, 20, 90, 133, 67, 23, 137, 93, 93, 47, 114, 48, 117, 118, 14, 84])"
     ]
    }
   ],
   "source": [
    "print(sequence_travelled)"
   ]
  },
  {
   "cell_type": "code",
   "execution_count": 62,
   "id": "80c4b702",
   "metadata": {},
   "outputs": [
    {
     "data": {
      "text/plain": [
       "3020.5959999999986"
      ]
     },
     "execution_count": 62,
     "metadata": {},
     "output_type": "execute_result"
    }
   ],
   "source": [
    "total_cost = objective_value.(model)"
   ]
  },
  {
   "cell_type": "code",
   "execution_count": 65,
   "id": "03046a22",
   "metadata": {},
   "outputs": [
    {
     "ename": "LoadError",
     "evalue": "DimensionMismatch: column :5 has length 37 and column :4 has length 26",
     "output_type": "error",
     "traceback": [
      "DimensionMismatch: column :5 has length 37 and column :4 has length 26",
      "",
      "Stacktrace:",
      " [1] DataFrame(columns::Vector{Any}, colindex::DataFrames.Index; copycols::Bool)",
      "   @ DataFrames /Applications/Julia-1.8.app/Contents/Resources/julia/lib/julia/sys.dylib:-1",
      " [2] DataFrame(; kwargs::Base.Pairs{Symbol, Vector{Any}, NTuple{6, Symbol}, NamedTuple{(Symbol(\"5\"), Symbol(\"4\"), Symbol(\"7\"), Symbol(\"2\"), Symbol(\"9\"), Symbol(\"3\")), NTuple{6, Vector{Any}}}})",
      "   @ DataFrames /Users/iai/builds/e7x1Q22r/0/InterpretableAI/SystemImage/SysImgBuilder/.julia/packages/DataFrames/Lrd7K/src/dataframe/dataframe.jl:326",
      " [3] top-level scope",
      "   @ In[65]:1",
      " [4] eval",
      "   @ ./boot.jl:368 [inlined]",
      " [5] include_string(mapexpr::typeof(REPL.softscope), mod::Module, code::String, filename::String)",
      "   @ Base ./loading.jl:1428"
     ]
    }
   ],
   "source": [
    "DataFrame(;[Symbol(k)=>v for (k,v) in sequence_travelled]...)\n",
    "# DataFrame(sequence_travelled)"
   ]
  },
  {
   "cell_type": "code",
   "execution_count": null,
   "id": "7406ac76",
   "metadata": {},
   "outputs": [],
   "source": []
  },
  {
   "cell_type": "code",
   "execution_count": 71,
   "id": "d7349179",
   "metadata": {},
   "outputs": [],
   "source": [
    "for i=1:K\n",
    "    path_map = path_mappings[i]\n",
    "    CSV.write(\"../data/sequence_scaled/df_sequence_mapping_$i.csv\", DataFrame(path_map))\n",
    "end"
   ]
  },
  {
   "cell_type": "code",
   "execution_count": null,
   "id": "defe9677",
   "metadata": {},
   "outputs": [],
   "source": []
  },
  {
   "cell_type": "code",
   "execution_count": null,
   "id": "38551760",
   "metadata": {},
   "outputs": [],
   "source": []
  },
  {
   "cell_type": "code",
   "execution_count": 144,
   "id": "c9a24355",
   "metadata": {},
   "outputs": [
    {
     "data": {
      "text/plain": [
       "\"../data/new_formulation/df_sequence_mapping.csv\""
      ]
     },
     "execution_count": 144,
     "metadata": {},
     "output_type": "execute_result"
    }
   ],
   "source": [
    "# CSV.write(\"../data/new_formulation/df_sequence_mapping.csv\", df_sequence_mapping)"
   ]
  },
  {
   "cell_type": "code",
   "execution_count": 145,
   "id": "894cbed9",
   "metadata": {},
   "outputs": [
    {
     "data": {
      "text/plain": [
       "\"../data/new_formulation/result.csv\""
      ]
     },
     "execution_count": 145,
     "metadata": {},
     "output_type": "execute_result"
    }
   ],
   "source": [
    "# CSV.write(\"../data/new_formulation/result.csv\", a)"
   ]
  },
  {
   "cell_type": "code",
   "execution_count": null,
   "id": "1c76b5d2",
   "metadata": {},
   "outputs": [],
   "source": []
  }
 ],
 "metadata": {
  "kernelspec": {
   "display_name": "Julia 1.8.2",
   "language": "julia",
   "name": "julia-1.8"
  },
  "language_info": {
   "file_extension": ".jl",
   "mimetype": "application/julia",
   "name": "julia",
   "version": "1.8.2"
  }
 },
 "nbformat": 4,
 "nbformat_minor": 5
}
